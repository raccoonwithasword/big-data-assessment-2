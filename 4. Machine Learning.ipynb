{
 "cells": [
  {
   "cell_type": "markdown",
   "id": "27bcab35",
   "metadata": {},
   "source": [
    "### Importing libraries"
   ]
  },
  {
   "cell_type": "code",
   "execution_count": 1,
   "id": "02c28b12",
   "metadata": {},
   "outputs": [],
   "source": [
    "import pandas as pd\n",
    "import numpy as np\n",
    "import pandasql as ps\n",
    "from pandasql import sqldf\n",
    "import ast\n",
    "import random\n",
    "import seaborn as sns\n",
    "import matplotlib.pyplot as plt\n",
    "from sklearn.model_selection import train_test_split\n",
    "from sklearn.linear_model import LinearRegression\n",
    "from sklearn.linear_model import BayesianRidge\n",
    "from sklearn import preprocessing\n",
    "from sklearn import tree\n",
    "from sklearn.tree import DecisionTreeClassifier\n",
    "from sklearn import metrics\n",
    "from sklearn.naive_bayes import GaussianNB\n",
    "from sklearn.ensemble import RandomForestClassifier\n",
    "from sklearn.metrics import confusion_matrix"
   ]
  },
  {
   "cell_type": "markdown",
   "id": "ddd18ddc",
   "metadata": {},
   "source": [
    "### Importing data"
   ]
  },
  {
   "cell_type": "code",
   "execution_count": 2,
   "id": "182253ee",
   "metadata": {},
   "outputs": [],
   "source": [
    "merged_dataset = pd.read_csv(r\"./new_dataset.csv\")"
   ]
  },
  {
   "cell_type": "markdown",
   "id": "ad5a41ab",
   "metadata": {},
   "source": [
    "# Machine Learning"
   ]
  },
  {
   "cell_type": "markdown",
   "id": "fed87e28",
   "metadata": {},
   "source": [
    "## Creating ML dataset"
   ]
  },
  {
   "cell_type": "code",
   "execution_count": 3,
   "id": "5d674c62",
   "metadata": {
    "scrolled": true
   },
   "outputs": [],
   "source": [
    "final = merged_dataset.loc[:,['p_id', 'name', 'price', 'colour', 'brand', 'ratingCount', 'avg_rating',\n",
    "       'Occasion', 'Print_Pattern_Type', 'Sustainable', 'Knit_or_Woven',\n",
    "       'Fabric', 'Fabric_Purity', 'brandID']]"
   ]
  },
  {
   "cell_type": "markdown",
   "id": "01f96c22",
   "metadata": {},
   "source": [
    "## Pre-processing"
   ]
  },
  {
   "cell_type": "code",
   "execution_count": 4,
   "id": "63f6944d",
   "metadata": {},
   "outputs": [],
   "source": [
    "le = preprocessing.LabelEncoder()\n",
    "\n",
    "for i in final.columns:\n",
    "        if final[i].dtype == object:\n",
    "            final[i] = le.fit_transform(final[i])\n",
    "        else:\n",
    "            pass"
   ]
  },
  {
   "cell_type": "code",
   "execution_count": 5,
   "id": "5f08a915",
   "metadata": {
    "scrolled": true
   },
   "outputs": [
    {
     "data": {
      "text/html": [
       "<div>\n",
       "<style scoped>\n",
       "    .dataframe tbody tr th:only-of-type {\n",
       "        vertical-align: middle;\n",
       "    }\n",
       "\n",
       "    .dataframe tbody tr th {\n",
       "        vertical-align: top;\n",
       "    }\n",
       "\n",
       "    .dataframe thead th {\n",
       "        text-align: right;\n",
       "    }\n",
       "</style>\n",
       "<table border=\"1\" class=\"dataframe\">\n",
       "  <thead>\n",
       "    <tr style=\"text-align: right;\">\n",
       "      <th></th>\n",
       "      <th>p_id</th>\n",
       "      <th>name</th>\n",
       "      <th>price</th>\n",
       "      <th>colour</th>\n",
       "      <th>brand</th>\n",
       "      <th>ratingCount</th>\n",
       "      <th>avg_rating</th>\n",
       "      <th>Occasion</th>\n",
       "      <th>Print_Pattern_Type</th>\n",
       "      <th>Sustainable</th>\n",
       "      <th>Knit_or_Woven</th>\n",
       "      <th>Fabric</th>\n",
       "      <th>Fabric_Purity</th>\n",
       "      <th>brandID</th>\n",
       "    </tr>\n",
       "  </thead>\n",
       "  <tbody>\n",
       "    <tr>\n",
       "      <th>0</th>\n",
       "      <td>1518329.0</td>\n",
       "      <td>2986</td>\n",
       "      <td>899.0</td>\n",
       "      <td>47</td>\n",
       "      <td>220</td>\n",
       "      <td>1321</td>\n",
       "      <td>4.5</td>\n",
       "      <td>1</td>\n",
       "      <td>24</td>\n",
       "      <td>0</td>\n",
       "      <td>1</td>\n",
       "      <td>7</td>\n",
       "      <td>2</td>\n",
       "      <td>221</td>\n",
       "    </tr>\n",
       "    <tr>\n",
       "      <th>1</th>\n",
       "      <td>5829334.0</td>\n",
       "      <td>9059</td>\n",
       "      <td>1199.0</td>\n",
       "      <td>27</td>\n",
       "      <td>701</td>\n",
       "      <td>5462</td>\n",
       "      <td>4.3</td>\n",
       "      <td>0</td>\n",
       "      <td>43</td>\n",
       "      <td>0</td>\n",
       "      <td>1</td>\n",
       "      <td>7</td>\n",
       "      <td>2</td>\n",
       "      <td>702</td>\n",
       "    </tr>\n",
       "    <tr>\n",
       "      <th>2</th>\n",
       "      <td>10340119.0</td>\n",
       "      <td>4865</td>\n",
       "      <td>5799.0</td>\n",
       "      <td>33</td>\n",
       "      <td>362</td>\n",
       "      <td>145</td>\n",
       "      <td>4.1</td>\n",
       "      <td>1</td>\n",
       "      <td>22</td>\n",
       "      <td>0</td>\n",
       "      <td>1</td>\n",
       "      <td>8</td>\n",
       "      <td>2</td>\n",
       "      <td>363</td>\n",
       "    </tr>\n",
       "    <tr>\n",
       "      <th>3</th>\n",
       "      <td>10856380.0</td>\n",
       "      <td>9330</td>\n",
       "      <td>1499.0</td>\n",
       "      <td>2</td>\n",
       "      <td>719</td>\n",
       "      <td>9124</td>\n",
       "      <td>4.1</td>\n",
       "      <td>0</td>\n",
       "      <td>43</td>\n",
       "      <td>0</td>\n",
       "      <td>2</td>\n",
       "      <td>7</td>\n",
       "      <td>2</td>\n",
       "      <td>720</td>\n",
       "    </tr>\n",
       "    <tr>\n",
       "      <th>4</th>\n",
       "      <td>12384822.0</td>\n",
       "      <td>5811</td>\n",
       "      <td>1999.0</td>\n",
       "      <td>2</td>\n",
       "      <td>445</td>\n",
       "      <td>12260</td>\n",
       "      <td>4.1</td>\n",
       "      <td>0</td>\n",
       "      <td>43</td>\n",
       "      <td>0</td>\n",
       "      <td>1</td>\n",
       "      <td>7</td>\n",
       "      <td>2</td>\n",
       "      <td>446</td>\n",
       "    </tr>\n",
       "    <tr>\n",
       "      <th>...</th>\n",
       "      <td>...</td>\n",
       "      <td>...</td>\n",
       "      <td>...</td>\n",
       "      <td>...</td>\n",
       "      <td>...</td>\n",
       "      <td>...</td>\n",
       "      <td>...</td>\n",
       "      <td>...</td>\n",
       "      <td>...</td>\n",
       "      <td>...</td>\n",
       "      <td>...</td>\n",
       "      <td>...</td>\n",
       "      <td>...</td>\n",
       "      <td>...</td>\n",
       "    </tr>\n",
       "    <tr>\n",
       "      <th>14263</th>\n",
       "      <td>17029604.0</td>\n",
       "      <td>11238</td>\n",
       "      <td>3999.0</td>\n",
       "      <td>34</td>\n",
       "      <td>829</td>\n",
       "      <td>183</td>\n",
       "      <td>4.1</td>\n",
       "      <td>3</td>\n",
       "      <td>24</td>\n",
       "      <td>0</td>\n",
       "      <td>2</td>\n",
       "      <td>20</td>\n",
       "      <td>2</td>\n",
       "      <td>830</td>\n",
       "    </tr>\n",
       "    <tr>\n",
       "      <th>14264</th>\n",
       "      <td>17600212.0</td>\n",
       "      <td>5758</td>\n",
       "      <td>2050.0</td>\n",
       "      <td>3</td>\n",
       "      <td>438</td>\n",
       "      <td>183</td>\n",
       "      <td>4.1</td>\n",
       "      <td>0</td>\n",
       "      <td>37</td>\n",
       "      <td>0</td>\n",
       "      <td>1</td>\n",
       "      <td>7</td>\n",
       "      <td>2</td>\n",
       "      <td>439</td>\n",
       "    </tr>\n",
       "    <tr>\n",
       "      <th>14265</th>\n",
       "      <td>18159266.0</td>\n",
       "      <td>5655</td>\n",
       "      <td>1659.0</td>\n",
       "      <td>17</td>\n",
       "      <td>422</td>\n",
       "      <td>183</td>\n",
       "      <td>4.1</td>\n",
       "      <td>11</td>\n",
       "      <td>24</td>\n",
       "      <td>0</td>\n",
       "      <td>2</td>\n",
       "      <td>41</td>\n",
       "      <td>2</td>\n",
       "      <td>423</td>\n",
       "    </tr>\n",
       "    <tr>\n",
       "      <th>14266</th>\n",
       "      <td>18921114.0</td>\n",
       "      <td>4838</td>\n",
       "      <td>2399.0</td>\n",
       "      <td>36</td>\n",
       "      <td>361</td>\n",
       "      <td>183</td>\n",
       "      <td>4.1</td>\n",
       "      <td>0</td>\n",
       "      <td>24</td>\n",
       "      <td>0</td>\n",
       "      <td>2</td>\n",
       "      <td>71</td>\n",
       "      <td>2</td>\n",
       "      <td>362</td>\n",
       "    </tr>\n",
       "    <tr>\n",
       "      <th>14267</th>\n",
       "      <td>19361058.0</td>\n",
       "      <td>1688</td>\n",
       "      <td>2599.0</td>\n",
       "      <td>28</td>\n",
       "      <td>132</td>\n",
       "      <td>183</td>\n",
       "      <td>4.1</td>\n",
       "      <td>0</td>\n",
       "      <td>43</td>\n",
       "      <td>0</td>\n",
       "      <td>0</td>\n",
       "      <td>30</td>\n",
       "      <td>2</td>\n",
       "      <td>133</td>\n",
       "    </tr>\n",
       "  </tbody>\n",
       "</table>\n",
       "<p>14268 rows × 14 columns</p>\n",
       "</div>"
      ],
      "text/plain": [
       "             p_id   name   price  colour  brand  ratingCount  avg_rating  \\\n",
       "0       1518329.0   2986   899.0      47    220         1321         4.5   \n",
       "1       5829334.0   9059  1199.0      27    701         5462         4.3   \n",
       "2      10340119.0   4865  5799.0      33    362          145         4.1   \n",
       "3      10856380.0   9330  1499.0       2    719         9124         4.1   \n",
       "4      12384822.0   5811  1999.0       2    445        12260         4.1   \n",
       "...           ...    ...     ...     ...    ...          ...         ...   \n",
       "14263  17029604.0  11238  3999.0      34    829          183         4.1   \n",
       "14264  17600212.0   5758  2050.0       3    438          183         4.1   \n",
       "14265  18159266.0   5655  1659.0      17    422          183         4.1   \n",
       "14266  18921114.0   4838  2399.0      36    361          183         4.1   \n",
       "14267  19361058.0   1688  2599.0      28    132          183         4.1   \n",
       "\n",
       "       Occasion  Print_Pattern_Type  Sustainable  Knit_or_Woven  Fabric  \\\n",
       "0             1                  24            0              1       7   \n",
       "1             0                  43            0              1       7   \n",
       "2             1                  22            0              1       8   \n",
       "3             0                  43            0              2       7   \n",
       "4             0                  43            0              1       7   \n",
       "...         ...                 ...          ...            ...     ...   \n",
       "14263         3                  24            0              2      20   \n",
       "14264         0                  37            0              1       7   \n",
       "14265        11                  24            0              2      41   \n",
       "14266         0                  24            0              2      71   \n",
       "14267         0                  43            0              0      30   \n",
       "\n",
       "       Fabric_Purity  brandID  \n",
       "0                  2      221  \n",
       "1                  2      702  \n",
       "2                  2      363  \n",
       "3                  2      720  \n",
       "4                  2      446  \n",
       "...              ...      ...  \n",
       "14263              2      830  \n",
       "14264              2      439  \n",
       "14265              2      423  \n",
       "14266              2      362  \n",
       "14267              2      133  \n",
       "\n",
       "[14268 rows x 14 columns]"
      ]
     },
     "execution_count": 5,
     "metadata": {},
     "output_type": "execute_result"
    }
   ],
   "source": [
    "final"
   ]
  },
  {
   "cell_type": "markdown",
   "id": "e7059db5",
   "metadata": {},
   "source": [
    "### Normalisation"
   ]
  },
  {
   "cell_type": "code",
   "execution_count": 6,
   "id": "3acaef22",
   "metadata": {},
   "outputs": [
    {
     "data": {
      "text/html": [
       "<div>\n",
       "<style scoped>\n",
       "    .dataframe tbody tr th:only-of-type {\n",
       "        vertical-align: middle;\n",
       "    }\n",
       "\n",
       "    .dataframe tbody tr th {\n",
       "        vertical-align: top;\n",
       "    }\n",
       "\n",
       "    .dataframe thead tr th {\n",
       "        text-align: left;\n",
       "    }\n",
       "</style>\n",
       "<table border=\"1\" class=\"dataframe\">\n",
       "  <thead>\n",
       "    <tr>\n",
       "      <th></th>\n",
       "      <th>p_id</th>\n",
       "      <th>name</th>\n",
       "      <th>price</th>\n",
       "      <th>colour</th>\n",
       "      <th>brand</th>\n",
       "      <th>ratingCount</th>\n",
       "      <th>avg_rating</th>\n",
       "      <th>Occasion</th>\n",
       "      <th>Print_Pattern_Type</th>\n",
       "      <th>Sustainable</th>\n",
       "      <th>Knit_or_Woven</th>\n",
       "      <th>Fabric</th>\n",
       "      <th>Fabric_Purity</th>\n",
       "      <th>brandID</th>\n",
       "    </tr>\n",
       "  </thead>\n",
       "  <tbody>\n",
       "    <tr>\n",
       "      <th>0</th>\n",
       "      <td>-4.494969</td>\n",
       "      <td>-0.988180</td>\n",
       "      <td>-0.806271</td>\n",
       "      <td>1.654593</td>\n",
       "      <td>-1.046516</td>\n",
       "      <td>2.149149</td>\n",
       "      <td>1.238520</td>\n",
       "      <td>-0.209624</td>\n",
       "      <td>-0.880100</td>\n",
       "      <td>-0.131353</td>\n",
       "      <td>-0.425300</td>\n",
       "      <td>-1.139203</td>\n",
       "      <td>0.211874</td>\n",
       "      <td>-1.046516</td>\n",
       "    </tr>\n",
       "    <tr>\n",
       "      <th>1</th>\n",
       "      <td>-3.128086</td>\n",
       "      <td>0.530076</td>\n",
       "      <td>-0.689391</td>\n",
       "      <td>0.364468</td>\n",
       "      <td>0.623864</td>\n",
       "      <td>9.972420</td>\n",
       "      <td>0.618674</td>\n",
       "      <td>-0.554399</td>\n",
       "      <td>0.737984</td>\n",
       "      <td>-0.131353</td>\n",
       "      <td>-0.425300</td>\n",
       "      <td>-1.139203</td>\n",
       "      <td>0.211874</td>\n",
       "      <td>0.623864</td>\n",
       "    </tr>\n",
       "    <tr>\n",
       "      <th>2</th>\n",
       "      <td>-1.697860</td>\n",
       "      <td>-0.518428</td>\n",
       "      <td>1.102770</td>\n",
       "      <td>0.751506</td>\n",
       "      <td>-0.553389</td>\n",
       "      <td>-0.072577</td>\n",
       "      <td>-0.001173</td>\n",
       "      <td>-0.209624</td>\n",
       "      <td>-1.050425</td>\n",
       "      <td>-0.131353</td>\n",
       "      <td>-0.425300</td>\n",
       "      <td>-1.095824</td>\n",
       "      <td>0.211874</td>\n",
       "      <td>-0.553389</td>\n",
       "    </tr>\n",
       "    <tr>\n",
       "      <th>3</th>\n",
       "      <td>-1.534170</td>\n",
       "      <td>0.597826</td>\n",
       "      <td>-0.572511</td>\n",
       "      <td>-1.248188</td>\n",
       "      <td>0.686373</td>\n",
       "      <td>16.890753</td>\n",
       "      <td>-0.001173</td>\n",
       "      <td>-0.554399</td>\n",
       "      <td>0.737984</td>\n",
       "      <td>-0.131353</td>\n",
       "      <td>0.938029</td>\n",
       "      <td>-1.139203</td>\n",
       "      <td>0.211874</td>\n",
       "      <td>0.686373</td>\n",
       "    </tr>\n",
       "    <tr>\n",
       "      <th>4</th>\n",
       "      <td>-1.049549</td>\n",
       "      <td>-0.281928</td>\n",
       "      <td>-0.377711</td>\n",
       "      <td>-1.248188</td>\n",
       "      <td>-0.265153</td>\n",
       "      <td>22.815356</td>\n",
       "      <td>-0.001173</td>\n",
       "      <td>-0.554399</td>\n",
       "      <td>0.737984</td>\n",
       "      <td>-0.131353</td>\n",
       "      <td>-0.425300</td>\n",
       "      <td>-1.139203</td>\n",
       "      <td>0.211874</td>\n",
       "      <td>-0.265153</td>\n",
       "    </tr>\n",
       "    <tr>\n",
       "      <th>...</th>\n",
       "      <td>...</td>\n",
       "      <td>...</td>\n",
       "      <td>...</td>\n",
       "      <td>...</td>\n",
       "      <td>...</td>\n",
       "      <td>...</td>\n",
       "      <td>...</td>\n",
       "      <td>...</td>\n",
       "      <td>...</td>\n",
       "      <td>...</td>\n",
       "      <td>...</td>\n",
       "      <td>...</td>\n",
       "      <td>...</td>\n",
       "      <td>...</td>\n",
       "    </tr>\n",
       "    <tr>\n",
       "      <th>14263</th>\n",
       "      <td>0.423163</td>\n",
       "      <td>1.074828</td>\n",
       "      <td>0.401490</td>\n",
       "      <td>0.816012</td>\n",
       "      <td>1.068372</td>\n",
       "      <td>-0.000787</td>\n",
       "      <td>-0.001173</td>\n",
       "      <td>0.479925</td>\n",
       "      <td>-0.880100</td>\n",
       "      <td>-0.131353</td>\n",
       "      <td>0.938029</td>\n",
       "      <td>-0.575273</td>\n",
       "      <td>0.211874</td>\n",
       "      <td>1.068372</td>\n",
       "    </tr>\n",
       "    <tr>\n",
       "      <th>14264</th>\n",
       "      <td>0.604085</td>\n",
       "      <td>-0.295178</td>\n",
       "      <td>-0.357841</td>\n",
       "      <td>-1.183681</td>\n",
       "      <td>-0.289462</td>\n",
       "      <td>-0.000787</td>\n",
       "      <td>-0.001173</td>\n",
       "      <td>-0.554399</td>\n",
       "      <td>0.227010</td>\n",
       "      <td>-0.131353</td>\n",
       "      <td>-0.425300</td>\n",
       "      <td>-1.139203</td>\n",
       "      <td>0.211874</td>\n",
       "      <td>-0.289462</td>\n",
       "    </tr>\n",
       "    <tr>\n",
       "      <th>14265</th>\n",
       "      <td>0.781343</td>\n",
       "      <td>-0.320928</td>\n",
       "      <td>-0.510175</td>\n",
       "      <td>-0.280594</td>\n",
       "      <td>-0.345026</td>\n",
       "      <td>-0.000787</td>\n",
       "      <td>-0.001173</td>\n",
       "      <td>3.238124</td>\n",
       "      <td>-0.880100</td>\n",
       "      <td>-0.131353</td>\n",
       "      <td>0.938029</td>\n",
       "      <td>0.335690</td>\n",
       "      <td>0.211874</td>\n",
       "      <td>-0.345026</td>\n",
       "    </tr>\n",
       "    <tr>\n",
       "      <th>14266</th>\n",
       "      <td>1.022901</td>\n",
       "      <td>-0.525179</td>\n",
       "      <td>-0.221871</td>\n",
       "      <td>0.945025</td>\n",
       "      <td>-0.556862</td>\n",
       "      <td>-0.000787</td>\n",
       "      <td>-0.001173</td>\n",
       "      <td>-0.554399</td>\n",
       "      <td>-0.880100</td>\n",
       "      <td>-0.131353</td>\n",
       "      <td>0.938029</td>\n",
       "      <td>1.637067</td>\n",
       "      <td>0.211874</td>\n",
       "      <td>-0.556862</td>\n",
       "    </tr>\n",
       "    <tr>\n",
       "      <th>14267</th>\n",
       "      <td>1.162393</td>\n",
       "      <td>-1.312682</td>\n",
       "      <td>-0.143950</td>\n",
       "      <td>0.428975</td>\n",
       "      <td>-1.352115</td>\n",
       "      <td>-0.000787</td>\n",
       "      <td>-0.001173</td>\n",
       "      <td>-0.554399</td>\n",
       "      <td>0.737984</td>\n",
       "      <td>-0.131353</td>\n",
       "      <td>-1.788628</td>\n",
       "      <td>-0.141481</td>\n",
       "      <td>0.211874</td>\n",
       "      <td>-1.352115</td>\n",
       "    </tr>\n",
       "  </tbody>\n",
       "</table>\n",
       "<p>14268 rows × 14 columns</p>\n",
       "</div>"
      ],
      "text/plain": [
       "           p_id      name     price    colour     brand ratingCount  \\\n",
       "0     -4.494969 -0.988180 -0.806271  1.654593 -1.046516    2.149149   \n",
       "1     -3.128086  0.530076 -0.689391  0.364468  0.623864    9.972420   \n",
       "2     -1.697860 -0.518428  1.102770  0.751506 -0.553389   -0.072577   \n",
       "3     -1.534170  0.597826 -0.572511 -1.248188  0.686373   16.890753   \n",
       "4     -1.049549 -0.281928 -0.377711 -1.248188 -0.265153   22.815356   \n",
       "...         ...       ...       ...       ...       ...         ...   \n",
       "14263  0.423163  1.074828  0.401490  0.816012  1.068372   -0.000787   \n",
       "14264  0.604085 -0.295178 -0.357841 -1.183681 -0.289462   -0.000787   \n",
       "14265  0.781343 -0.320928 -0.510175 -0.280594 -0.345026   -0.000787   \n",
       "14266  1.022901 -0.525179 -0.221871  0.945025 -0.556862   -0.000787   \n",
       "14267  1.162393 -1.312682 -0.143950  0.428975 -1.352115   -0.000787   \n",
       "\n",
       "      avg_rating  Occasion Print_Pattern_Type Sustainable Knit_or_Woven  \\\n",
       "0       1.238520 -0.209624          -0.880100   -0.131353     -0.425300   \n",
       "1       0.618674 -0.554399           0.737984   -0.131353     -0.425300   \n",
       "2      -0.001173 -0.209624          -1.050425   -0.131353     -0.425300   \n",
       "3      -0.001173 -0.554399           0.737984   -0.131353      0.938029   \n",
       "4      -0.001173 -0.554399           0.737984   -0.131353     -0.425300   \n",
       "...          ...       ...                ...         ...           ...   \n",
       "14263  -0.001173  0.479925          -0.880100   -0.131353      0.938029   \n",
       "14264  -0.001173 -0.554399           0.227010   -0.131353     -0.425300   \n",
       "14265  -0.001173  3.238124          -0.880100   -0.131353      0.938029   \n",
       "14266  -0.001173 -0.554399          -0.880100   -0.131353      0.938029   \n",
       "14267  -0.001173 -0.554399           0.737984   -0.131353     -1.788628   \n",
       "\n",
       "         Fabric Fabric_Purity   brandID  \n",
       "0     -1.139203      0.211874 -1.046516  \n",
       "1     -1.139203      0.211874  0.623864  \n",
       "2     -1.095824      0.211874 -0.553389  \n",
       "3     -1.139203      0.211874  0.686373  \n",
       "4     -1.139203      0.211874 -0.265153  \n",
       "...         ...           ...       ...  \n",
       "14263 -0.575273      0.211874  1.068372  \n",
       "14264 -1.139203      0.211874 -0.289462  \n",
       "14265  0.335690      0.211874 -0.345026  \n",
       "14266  1.637067      0.211874 -0.556862  \n",
       "14267 -0.141481      0.211874 -1.352115  \n",
       "\n",
       "[14268 rows x 14 columns]"
      ]
     },
     "execution_count": 6,
     "metadata": {},
     "output_type": "execute_result"
    }
   ],
   "source": [
    "from sklearn.preprocessing import StandardScaler\n",
    "\n",
    "scaler = StandardScaler()\n",
    "dataset_final = scaler.fit_transform(final)\n",
    "dataset_final = pd.DataFrame(dataset_final, columns =[final.columns])\n",
    "dataset_final"
   ]
  },
  {
   "cell_type": "code",
   "execution_count": null,
   "id": "37eaa20a",
   "metadata": {},
   "outputs": [],
   "source": []
  },
  {
   "cell_type": "code",
   "execution_count": null,
   "id": "aab35998",
   "metadata": {},
   "outputs": [],
   "source": []
  },
  {
   "cell_type": "code",
   "execution_count": 7,
   "id": "a8adac39",
   "metadata": {},
   "outputs": [
    {
     "data": {
      "text/plain": [
       "MultiIndex([(              'p_id',),\n",
       "            (              'name',),\n",
       "            (             'price',),\n",
       "            (            'colour',),\n",
       "            (             'brand',),\n",
       "            (       'ratingCount',),\n",
       "            (        'avg_rating',),\n",
       "            (          'Occasion',),\n",
       "            ('Print_Pattern_Type',),\n",
       "            (       'Sustainable',),\n",
       "            (     'Knit_or_Woven',),\n",
       "            (            'Fabric',),\n",
       "            (     'Fabric_Purity',),\n",
       "            (           'brandID',)],\n",
       "           )"
      ]
     },
     "execution_count": 7,
     "metadata": {},
     "output_type": "execute_result"
    }
   ],
   "source": [
    "dataset_final.columns"
   ]
  },
  {
   "cell_type": "markdown",
   "id": "b3992fcd",
   "metadata": {},
   "source": [
    "## Regression Modelling"
   ]
  },
  {
   "cell_type": "markdown",
   "id": "67cd4a19",
   "metadata": {},
   "source": [
    ">Selecting x & y variables"
   ]
  },
  {
   "cell_type": "code",
   "execution_count": 8,
   "id": "2b9315af",
   "metadata": {},
   "outputs": [],
   "source": [
    "x_regression = dataset_final.loc[:,['p_id', 'colour', 'price', 'name','ratingCount',\n",
    "       'Occasion', 'Print_Pattern_Type', 'Sustainable', 'Knit_or_Woven',\n",
    "       'Fabric', 'Fabric_Purity', 'avg_rating']]"
   ]
  },
  {
   "cell_type": "code",
   "execution_count": 9,
   "id": "fe5e5213",
   "metadata": {},
   "outputs": [],
   "source": [
    "y_regression = dataset_final.loc[:,['brandID']]"
   ]
  },
  {
   "cell_type": "markdown",
   "id": "81499798",
   "metadata": {},
   "source": [
    ">Creating training & testing datasets"
   ]
  },
  {
   "cell_type": "code",
   "execution_count": 10,
   "id": "69b3b243",
   "metadata": {},
   "outputs": [
    {
     "name": "stdout",
     "output_type": "stream",
     "text": [
      "Your independent training dataset contains  (11414, 12)  rows and columns.\n",
      "Your independent testing dataset contains  (2854, 12)  rows and columns.\n",
      "Your dependent training dataset contains  (11414, 1)  rows and columns.\n",
      "Your dependent testing dataset contains  (2854, 1)  rows and columns.\n"
     ]
    }
   ],
   "source": [
    "x_reg_train, x_reg_test, y_reg_train, y_reg_test = train_test_split(x_regression, y_regression, test_size=0.2, random_state=23)\n",
    "\n",
    "print(\"Your independent training dataset contains \", x_reg_train.shape, \" rows and columns.\")\n",
    "print(\"Your independent testing dataset contains \", x_reg_test.shape, \" rows and columns.\")\n",
    "print(\"Your dependent training dataset contains \", y_reg_train.shape, \" rows and columns.\")\n",
    "print(\"Your dependent testing dataset contains \", y_reg_test.shape, \" rows and columns.\")"
   ]
  },
  {
   "cell_type": "markdown",
   "id": "63b0cb7f",
   "metadata": {},
   "source": [
    "### Linear Regression"
   ]
  },
  {
   "cell_type": "markdown",
   "id": "73f2d92d",
   "metadata": {},
   "source": [
    ">Training the model"
   ]
  },
  {
   "cell_type": "code",
   "execution_count": 11,
   "id": "e854faec",
   "metadata": {},
   "outputs": [],
   "source": [
    "LR = LinearRegression()"
   ]
  },
  {
   "cell_type": "code",
   "execution_count": 12,
   "id": "5342de45",
   "metadata": {},
   "outputs": [
    {
     "name": "stderr",
     "output_type": "stream",
     "text": [
      "C:\\Users\\percy\\anaconda3\\lib\\site-packages\\sklearn\\utils\\validation.py:1688: FutureWarning: Feature names only support names that are all strings. Got feature names with dtypes: ['tuple']. An error will be raised in 1.2.\n",
      "  warnings.warn(\n"
     ]
    },
    {
     "data": {
      "text/plain": [
       "LinearRegression()"
      ]
     },
     "execution_count": 12,
     "metadata": {},
     "output_type": "execute_result"
    }
   ],
   "source": [
    "LR.fit(x_reg_train, y_reg_train)"
   ]
  },
  {
   "cell_type": "markdown",
   "id": "b7c5a1c2",
   "metadata": {},
   "source": [
    ">Testing the model"
   ]
  },
  {
   "cell_type": "code",
   "execution_count": 13,
   "id": "f403b7a3",
   "metadata": {},
   "outputs": [
    {
     "name": "stderr",
     "output_type": "stream",
     "text": [
      "C:\\Users\\percy\\anaconda3\\lib\\site-packages\\sklearn\\utils\\validation.py:1688: FutureWarning: Feature names only support names that are all strings. Got feature names with dtypes: ['tuple']. An error will be raised in 1.2.\n",
      "  warnings.warn(\n"
     ]
    },
    {
     "data": {
      "text/plain": [
       "array([[-0.529433  ],\n",
       "       [ 0.49049752],\n",
       "       [-1.58021245],\n",
       "       ...,\n",
       "       [ 1.56928965],\n",
       "       [ 0.67513134],\n",
       "       [-1.27616296]])"
      ]
     },
     "execution_count": 13,
     "metadata": {},
     "output_type": "execute_result"
    }
   ],
   "source": [
    "LR_predict = LR.predict(x_reg_test)\n",
    "LR_predict"
   ]
  },
  {
   "cell_type": "markdown",
   "id": "4265d59a",
   "metadata": {},
   "source": [
    "### Bayesian Ridge Regression"
   ]
  },
  {
   "cell_type": "code",
   "execution_count": 14,
   "id": "e2d01a0b",
   "metadata": {},
   "outputs": [
    {
     "name": "stderr",
     "output_type": "stream",
     "text": [
      "C:\\Users\\percy\\anaconda3\\lib\\site-packages\\sklearn\\utils\\validation.py:1688: FutureWarning: Feature names only support names that are all strings. Got feature names with dtypes: ['tuple']. An error will be raised in 1.2.\n",
      "  warnings.warn(\n",
      "C:\\Users\\percy\\anaconda3\\lib\\site-packages\\sklearn\\utils\\validation.py:993: DataConversionWarning: A column-vector y was passed when a 1d array was expected. Please change the shape of y to (n_samples, ), for example using ravel().\n",
      "  y = column_or_1d(y, warn=True)\n"
     ]
    },
    {
     "data": {
      "text/plain": [
       "BayesianRidge()"
      ]
     },
     "execution_count": 14,
     "metadata": {},
     "output_type": "execute_result"
    }
   ],
   "source": [
    "BayRidge = BayesianRidge()\n",
    "BayRidge.fit(x_reg_train, y_reg_train)"
   ]
  },
  {
   "cell_type": "code",
   "execution_count": 15,
   "id": "6177b0a0",
   "metadata": {},
   "outputs": [
    {
     "name": "stderr",
     "output_type": "stream",
     "text": [
      "C:\\Users\\percy\\anaconda3\\lib\\site-packages\\sklearn\\utils\\validation.py:1688: FutureWarning: Feature names only support names that are all strings. Got feature names with dtypes: ['tuple']. An error will be raised in 1.2.\n",
      "  warnings.warn(\n"
     ]
    },
    {
     "data": {
      "text/plain": [
       "array([-0.52942823,  0.4904929 , -1.58019857, ...,  1.56927509,\n",
       "        0.6751273 , -1.27615174])"
      ]
     },
     "execution_count": 15,
     "metadata": {},
     "output_type": "execute_result"
    }
   ],
   "source": [
    "BayRidge_predict = BayRidge.predict(x_reg_test)\n",
    "BayRidge_predict"
   ]
  },
  {
   "cell_type": "markdown",
   "id": "45cd0341",
   "metadata": {},
   "source": [
    "### Comparing Error Values"
   ]
  },
  {
   "cell_type": "code",
   "execution_count": 16,
   "id": "e5a52d54",
   "metadata": {},
   "outputs": [
    {
     "name": "stdout",
     "output_type": "stream",
     "text": [
      "Linear Regressor MAE:  0.049548003892436104\n",
      "Bayesian Ridge Regressor MAE:  0.04954955489952484\n"
     ]
    }
   ],
   "source": [
    "print(\"Linear Regressor MAE: \", metrics.mean_absolute_error(y_reg_test, LR_predict))\n",
    "print(\"Bayesian Ridge Regressor MAE: \", metrics.mean_absolute_error(y_reg_test, BayRidge_predict))"
   ]
  },
  {
   "cell_type": "markdown",
   "id": "9984e17d",
   "metadata": {},
   "source": [
    "## Classification Modelling"
   ]
  },
  {
   "cell_type": "markdown",
   "id": "618068b5",
   "metadata": {},
   "source": [
    "### Choosing the x & y variables"
   ]
  },
  {
   "cell_type": "code",
   "execution_count": 17,
   "id": "3133e085",
   "metadata": {},
   "outputs": [],
   "source": [
    "x_sustain = final.loc[:,['p_id', 'brand','brandID', 'avg_rating', 'colour', 'ratingCount',\n",
    "       'Occasion', 'Print_Pattern_Type', 'Knit_or_Woven',\n",
    "       'Fabric', 'price']]"
   ]
  },
  {
   "cell_type": "code",
   "execution_count": 18,
   "id": "d8091fec",
   "metadata": {},
   "outputs": [],
   "source": [
    "y_sustain = final.loc[:,['Sustainable']]"
   ]
  },
  {
   "cell_type": "markdown",
   "id": "83e9adbe",
   "metadata": {},
   "source": [
    "### Creating training & testing datasets"
   ]
  },
  {
   "cell_type": "code",
   "execution_count": 19,
   "id": "5c57c417",
   "metadata": {},
   "outputs": [
    {
     "name": "stdout",
     "output_type": "stream",
     "text": [
      "Your independent training dataset contains  (10701, 11)  rows and columns.\n",
      "Your independent testing dataset contains  (3567, 11)  rows and columns.\n",
      "Your dependent training dataset contains  (10701, 1)  rows and columns.\n",
      "Your dependent testing dataset contains  (3567, 1)  rows and columns.\n"
     ]
    }
   ],
   "source": [
    "x_train_sustain, x_test_sustain, y_train_sustain, y_test_sustain = train_test_split(x_sustain, y_sustain, test_size=0.25, random_state=23)\n",
    "\n",
    "print(\"Your independent training dataset contains \", x_train_sustain.shape, \" rows and columns.\")\n",
    "print(\"Your independent testing dataset contains \", x_test_sustain.shape, \" rows and columns.\")\n",
    "print(\"Your dependent training dataset contains \", y_train_sustain.shape, \" rows and columns.\")\n",
    "print(\"Your dependent testing dataset contains \", y_test_sustain.shape, \" rows and columns.\")"
   ]
  },
  {
   "cell_type": "markdown",
   "id": "617998fe",
   "metadata": {},
   "source": [
    "### Decision Tree Classifier for sustainability"
   ]
  },
  {
   "cell_type": "code",
   "execution_count": 20,
   "id": "41ea10b4",
   "metadata": {},
   "outputs": [
    {
     "data": {
      "text/plain": [
       "DecisionTreeClassifier()"
      ]
     },
     "execution_count": 20,
     "metadata": {},
     "output_type": "execute_result"
    }
   ],
   "source": [
    "dtree = DecisionTreeClassifier()\n",
    "dtree.fit(x_train_sustain, y_train_sustain)"
   ]
  },
  {
   "cell_type": "code",
   "execution_count": 21,
   "id": "ddb3b996",
   "metadata": {},
   "outputs": [],
   "source": [
    "dtree_predict = dtree.predict(x_test_sustain)"
   ]
  },
  {
   "cell_type": "markdown",
   "id": "c891e6cd",
   "metadata": {},
   "source": [
    "### Random Forest Classifier for sustainability"
   ]
  },
  {
   "cell_type": "code",
   "execution_count": 22,
   "id": "0e8b529e",
   "metadata": {},
   "outputs": [
    {
     "name": "stderr",
     "output_type": "stream",
     "text": [
      "C:\\Users\\percy\\AppData\\Local\\Temp\\ipykernel_13528\\123378999.py:2: DataConversionWarning: A column-vector y was passed when a 1d array was expected. Please change the shape of y to (n_samples,), for example using ravel().\n",
      "  rforest.fit(x_train_sustain, y_train_sustain)\n"
     ]
    },
    {
     "data": {
      "text/plain": [
       "RandomForestClassifier(n_estimators=60)"
      ]
     },
     "execution_count": 22,
     "metadata": {},
     "output_type": "execute_result"
    }
   ],
   "source": [
    "rforest = RandomForestClassifier(n_estimators=60)\n",
    "rforest.fit(x_train_sustain, y_train_sustain)"
   ]
  },
  {
   "cell_type": "code",
   "execution_count": 23,
   "id": "1982fd41",
   "metadata": {},
   "outputs": [],
   "source": [
    "rforest_predict = rforest.predict(x_test_sustain)"
   ]
  },
  {
   "cell_type": "markdown",
   "id": "62306d32",
   "metadata": {},
   "source": [
    "### Comparing Accuracy Scores"
   ]
  },
  {
   "cell_type": "code",
   "execution_count": 24,
   "id": "abed82e4",
   "metadata": {
    "scrolled": true
   },
   "outputs": [
    {
     "name": "stdout",
     "output_type": "stream",
     "text": [
      "Decision Classifier Accuracy: 97.53 %\n",
      "Random Forest Classifier Accuracy: 98.63 %\n"
     ]
    }
   ],
   "source": [
    "print(\"Decision Classifier Accuracy:\", round((metrics.accuracy_score(y_test_sustain, dtree_predict))*100,2),\"%\")\n",
    "print(\"Random Forest Classifier Accuracy:\", round((metrics.accuracy_score(y_test_sustain, rforest_predict))*100,2),\"%\")"
   ]
  },
  {
   "cell_type": "markdown",
   "id": "e2c74861",
   "metadata": {},
   "source": [
    "### Confusion matrices for Sustainability"
   ]
  },
  {
   "cell_type": "code",
   "execution_count": 25,
   "id": "708a2700",
   "metadata": {},
   "outputs": [
    {
     "data": {
      "text/plain": [
       "array(['Regular', 'Sustainable'], dtype=object)"
      ]
     },
     "execution_count": 25,
     "metadata": {},
     "output_type": "execute_result"
    }
   ],
   "source": [
    "merged_dataset['Sustainable'].unique()"
   ]
  },
  {
   "cell_type": "markdown",
   "id": "835b29d5",
   "metadata": {},
   "source": [
    "### Decision Tree "
   ]
  },
  {
   "cell_type": "code",
   "execution_count": 26,
   "id": "229c7728",
   "metadata": {},
   "outputs": [],
   "source": [
    "dtree_cm=confusion_matrix(y_test_sustain, dtree_predict)"
   ]
  },
  {
   "cell_type": "code",
   "execution_count": 27,
   "id": "c2955bca",
   "metadata": {},
   "outputs": [
    {
     "name": "stdout",
     "output_type": "stream",
     "text": [
      "             Regular  Sustainable\n",
      "Regular         3464           38\n",
      "Sustainable       50           15\n"
     ]
    }
   ],
   "source": [
    "dtree_cm_df= pd.DataFrame(dtree_cm, index=['Regular', 'Sustainable'],\n",
    "                         columns=['Regular', 'Sustainable'])\n",
    "print(dtree_cm_df)"
   ]
  },
  {
   "cell_type": "markdown",
   "id": "6fc86d10",
   "metadata": {},
   "source": [
    "### Random Forest"
   ]
  },
  {
   "cell_type": "code",
   "execution_count": 28,
   "id": "cc36ecf0",
   "metadata": {},
   "outputs": [],
   "source": [
    "rforest_cm=confusion_matrix(y_test_sustain, rforest_predict)"
   ]
  },
  {
   "cell_type": "code",
   "execution_count": 29,
   "id": "40c7ad7b",
   "metadata": {},
   "outputs": [
    {
     "name": "stdout",
     "output_type": "stream",
     "text": [
      "             Regular  Sustainable\n",
      "Regular         3509           44\n",
      "Sustainable        5            9\n"
     ]
    }
   ],
   "source": [
    "rforest_cm_df= pd.DataFrame(rforest_cm, index=['Regular', 'Sustainable'],\n",
    "                         columns=['Regular', 'Sustainable'])\n",
    "print(rforest_cm_df)"
   ]
  },
  {
   "cell_type": "markdown",
   "id": "bc39f94d",
   "metadata": {},
   "source": [
    "## Visualising the confusion matrices"
   ]
  },
  {
   "cell_type": "code",
   "execution_count": 30,
   "id": "4013a52e",
   "metadata": {},
   "outputs": [
    {
     "data": {
      "image/png": "[encoded data removed]",
      "text/plain": [
       "<Figure size 500x400 with 2 Axes>"
      ]
     },
     "metadata": {},
     "output_type": "display_data"
    }
   ],
   "source": [
    "plt.figure(figsize=(5,4))\n",
    "sns.heatmap(dtree_cm_df,annot=True)\n",
    "plt.title('Confusion Matrix using Decision Tree Classifier')\n",
    "plt.ylabel('Actual values')\n",
    "plt.xlabel('Predicted values')\n",
    "plt.savefig('dtree confusion matrix', dpi=175)"
   ]
  },
  {
   "cell_type": "code",
   "execution_count": 31,
   "id": "a43f68d0",
   "metadata": {},
   "outputs": [
    {
     "data": {
      "image/png": "[encoded data removed]",
      "text/plain": [
       "<Figure size 500x400 with 2 Axes>"
      ]
     },
     "metadata": {},
     "output_type": "display_data"
    }
   ],
   "source": [
    "plt.figure(figsize=(5,4))\n",
    "sns.heatmap(rforest_cm_df,annot=True)\n",
    "plt.title('Confusion Matrix using Random Forest Classifier')\n",
    "plt.ylabel('Actual values')\n",
    "plt.xlabel('Predicted values')\n",
    "plt.savefig('rforest confusion matrix', dpi=175)"
   ]
  }
 ],
 "metadata": {
  "kernelspec": {
   "display_name": "Python 3 (ipykernel)",
   "language": "python",
   "name": "python3"
  },
  "language_info": {
   "codemirror_mode": {
    "name": "ipython",
    "version": 3
   },
   "file_extension": ".py",
   "mimetype": "text/x-python",
   "name": "python",
   "nbconvert_exporter": "python",
   "pygments_lexer": "ipython3",
   "version": "3.9.13"
  }
 },
 "nbformat": 4,
 "nbformat_minor": 5
}
