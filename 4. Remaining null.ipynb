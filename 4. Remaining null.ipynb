{
 "cells": [
  {
   "cell_type": "markdown",
   "id": "543a8224",
   "metadata": {},
   "source": [
    "### Filling in remaining null values"
   ]
  },
  {
   "cell_type": "code",
   "execution_count": 22,
   "id": "7f7f6817",
   "metadata": {},
   "outputs": [
    {
     "name": "stdout",
     "output_type": "stream",
     "text": [
      "0    Black\n",
      "Name: colour, dtype: object\n",
      "4.100788\n",
      "183.90742438130155\n"
     ]
    }
   ],
   "source": [
    "print(merged_dataset['colour'].mode())\n",
    "print(round(merged_dataset['avg_rating'].mean(),6))\n",
    "print(merged_dataset['ratingCount'].mean())"
   ]
  },
  {
   "cell_type": "code",
   "execution_count": 23,
   "id": "8deb8278",
   "metadata": {},
   "outputs": [
    {
     "data": {
      "text/plain": [
       "p_id                      0\n",
       "name                      0\n",
       "price                     0\n",
       "colour                    0\n",
       "brand                     0\n",
       "ratingCount               0\n",
       "avg_rating                0\n",
       "Occasion                  0\n",
       "Print_Pattern_Type        8\n",
       "Sustainable            1300\n",
       "Knit_or_Woven             0\n",
       "Fabric                    0\n",
       "Fabric_Purity         13724\n",
       "brandID                   0\n",
       "dtype: int64"
      ]
     },
     "execution_count": 23,
     "metadata": {},
     "output_type": "execute_result"
    }
   ],
   "source": [
    "merged_dataset.fillna({'colour':'Black',\"avg_rating\":4.101193, \"ratingCount\":183.36121433078594}, inplace = True)\n",
    "merged_dataset.isna().sum()"
   ]
  },
  {
   "cell_type": "markdown",
   "id": "e2295589",
   "metadata": {},
   "source": [
    "### Converting ratingCount to int"
   ]
  },
  {
   "cell_type": "code",
   "execution_count": null,
   "id": "411f1ebe",
   "metadata": {},
   "outputs": [],
   "source": [
    "merged_dataset['ratingCount']=merged_dataset['ratingCount'].astype(int)"
   ]
  },
  {
   "cell_type": "code",
   "execution_count": null,
   "id": "7ad0b7f7",
   "metadata": {},
   "outputs": [],
   "source": []
  }
 ],
 "metadata": {
  "kernelspec": {
   "display_name": "Python 3 (ipykernel)",
   "language": "python",
   "name": "python3"
  },
  "language_info": {
   "codemirror_mode": {
    "name": "ipython",
    "version": 3
   },
   "file_extension": ".py",
   "mimetype": "text/x-python",
   "name": "python",
   "nbconvert_exporter": "python",
   "pygments_lexer": "ipython3",
   "version": "3.9.13"
  }
 },
 "nbformat": 4,
 "nbformat_minor": 5
}
