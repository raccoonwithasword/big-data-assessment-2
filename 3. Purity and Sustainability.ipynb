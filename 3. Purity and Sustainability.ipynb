{
 "cells": [
  {
   "cell_type": "code",
   "execution_count": 1,
   "id": "88b7d0db",
   "metadata": {},
   "outputs": [],
   "source": [
    "import pandas as pd\n",
    "import numpy as np\n",
    "import pandasql as ps\n",
    "from pandasql import sqldf\n",
    "import ast\n",
    "import random\n",
    "import matplotlib.pyplot as plt\n",
    "from sklearn.model_selection import train_test_split"
   ]
  },
  {
   "cell_type": "markdown",
   "id": "0f60955b",
   "metadata": {},
   "source": [
    "# importing datasets"
   ]
  },
  {
   "cell_type": "code",
   "execution_count": 2,
   "id": "58058aa0",
   "metadata": {
    "scrolled": false
   },
   "outputs": [
    {
     "data": {
      "text/html": [
       "<div>\n",
       "<style scoped>\n",
       "    .dataframe tbody tr th:only-of-type {\n",
       "        vertical-align: middle;\n",
       "    }\n",
       "\n",
       "    .dataframe tbody tr th {\n",
       "        vertical-align: top;\n",
       "    }\n",
       "\n",
       "    .dataframe thead th {\n",
       "        text-align: right;\n",
       "    }\n",
       "</style>\n",
       "<table border=\"1\" class=\"dataframe\">\n",
       "  <thead>\n",
       "    <tr style=\"text-align: right;\">\n",
       "      <th></th>\n",
       "      <th>p_id</th>\n",
       "      <th>name</th>\n",
       "      <th>price</th>\n",
       "      <th>colour</th>\n",
       "      <th>brand</th>\n",
       "      <th>ratingCount</th>\n",
       "      <th>avg_rating</th>\n",
       "      <th>Occasion</th>\n",
       "      <th>Print_Pattern_Type</th>\n",
       "      <th>Sustainable</th>\n",
       "      <th>Knit_or_Woven</th>\n",
       "      <th>Fabric</th>\n",
       "      <th>Fabric_Purity</th>\n",
       "      <th>brandID</th>\n",
       "    </tr>\n",
       "  </thead>\n",
       "  <tbody>\n",
       "    <tr>\n",
       "      <th>0</th>\n",
       "      <td>1518329.0</td>\n",
       "      <td>Dupatta Bazaar White Embroidered Chiffon Dupatta</td>\n",
       "      <td>899.0</td>\n",
       "      <td>White</td>\n",
       "      <td>Dupatta Bazaar</td>\n",
       "      <td>1321.0</td>\n",
       "      <td>4.548827</td>\n",
       "      <td>Daily</td>\n",
       "      <td>Floral</td>\n",
       "      <td>NaN</td>\n",
       "      <td>Knitted and Woven</td>\n",
       "      <td>Cotton</td>\n",
       "      <td>NaN</td>\n",
       "      <td>221</td>\n",
       "    </tr>\n",
       "    <tr>\n",
       "      <th>1</th>\n",
       "      <td>5829334.0</td>\n",
       "      <td>Roadster Women Mustard Yellow Solid Hooded Swe...</td>\n",
       "      <td>1199.0</td>\n",
       "      <td>Mustard</td>\n",
       "      <td>Roadster</td>\n",
       "      <td>5462.0</td>\n",
       "      <td>4.313255</td>\n",
       "      <td>Casual</td>\n",
       "      <td>Solid</td>\n",
       "      <td>NaN</td>\n",
       "      <td>Knitted and Woven</td>\n",
       "      <td>Cotton</td>\n",
       "      <td>NaN</td>\n",
       "      <td>702</td>\n",
       "    </tr>\n",
       "    <tr>\n",
       "      <th>2</th>\n",
       "      <td>10340119.0</td>\n",
       "      <td>Inddus Peach-Coloured &amp; Beige Unstitched Dress...</td>\n",
       "      <td>5799.0</td>\n",
       "      <td>Peach</td>\n",
       "      <td>Inddus</td>\n",
       "      <td>145.0</td>\n",
       "      <td>4.068966</td>\n",
       "      <td>Daily</td>\n",
       "      <td>Ethnic Motifs</td>\n",
       "      <td>NaN</td>\n",
       "      <td>Knitted and Woven</td>\n",
       "      <td>Cotton Blend</td>\n",
       "      <td>NaN</td>\n",
       "      <td>363</td>\n",
       "    </tr>\n",
       "    <tr>\n",
       "      <th>3</th>\n",
       "      <td>10856380.0</td>\n",
       "      <td>SASSAFRAS Women Black Parallel Trousers</td>\n",
       "      <td>1499.0</td>\n",
       "      <td>Black</td>\n",
       "      <td>SASSAFRAS</td>\n",
       "      <td>9124.0</td>\n",
       "      <td>4.147523</td>\n",
       "      <td>Casual</td>\n",
       "      <td>Solid</td>\n",
       "      <td>Regular</td>\n",
       "      <td>Woven</td>\n",
       "      <td>Cotton</td>\n",
       "      <td>NaN</td>\n",
       "      <td>720</td>\n",
       "    </tr>\n",
       "    <tr>\n",
       "      <th>4</th>\n",
       "      <td>12384822.0</td>\n",
       "      <td>Kotty Women Black Wide Leg High-Rise Clean Loo...</td>\n",
       "      <td>1999.0</td>\n",
       "      <td>Black</td>\n",
       "      <td>Kotty</td>\n",
       "      <td>12260.0</td>\n",
       "      <td>4.078467</td>\n",
       "      <td>Casual</td>\n",
       "      <td>Solid</td>\n",
       "      <td>NaN</td>\n",
       "      <td>Knitted and Woven</td>\n",
       "      <td>Cotton</td>\n",
       "      <td>NaN</td>\n",
       "      <td>446</td>\n",
       "    </tr>\n",
       "    <tr>\n",
       "      <th>...</th>\n",
       "      <td>...</td>\n",
       "      <td>...</td>\n",
       "      <td>...</td>\n",
       "      <td>...</td>\n",
       "      <td>...</td>\n",
       "      <td>...</td>\n",
       "      <td>...</td>\n",
       "      <td>...</td>\n",
       "      <td>...</td>\n",
       "      <td>...</td>\n",
       "      <td>...</td>\n",
       "      <td>...</td>\n",
       "      <td>...</td>\n",
       "      <td>...</td>\n",
       "    </tr>\n",
       "    <tr>\n",
       "      <th>14263</th>\n",
       "      <td>17029604.0</td>\n",
       "      <td>The Chennai Silks Pink &amp; Silver-Toned Floral Z...</td>\n",
       "      <td>3999.0</td>\n",
       "      <td>Pink</td>\n",
       "      <td>The Chennai Silks</td>\n",
       "      <td>NaN</td>\n",
       "      <td>NaN</td>\n",
       "      <td>Festive</td>\n",
       "      <td>Floral</td>\n",
       "      <td>Regular</td>\n",
       "      <td>Woven</td>\n",
       "      <td>Jute Cotton</td>\n",
       "      <td>NaN</td>\n",
       "      <td>830</td>\n",
       "    </tr>\n",
       "    <tr>\n",
       "      <th>14264</th>\n",
       "      <td>17600212.0</td>\n",
       "      <td>Kinder Kids Girls Blue &amp; Green Printed Foil Pr...</td>\n",
       "      <td>2050.0</td>\n",
       "      <td>Blue</td>\n",
       "      <td>Kinder Kids</td>\n",
       "      <td>NaN</td>\n",
       "      <td>NaN</td>\n",
       "      <td>Casual</td>\n",
       "      <td>Printed</td>\n",
       "      <td>Regular</td>\n",
       "      <td>Knitted and Woven</td>\n",
       "      <td>Cotton</td>\n",
       "      <td>NaN</td>\n",
       "      <td>439</td>\n",
       "    </tr>\n",
       "    <tr>\n",
       "      <th>14265</th>\n",
       "      <td>18159266.0</td>\n",
       "      <td>KLOTTHE Women Green &amp; Black Floral Printed Pal...</td>\n",
       "      <td>1659.0</td>\n",
       "      <td>Green</td>\n",
       "      <td>KLOTTHE</td>\n",
       "      <td>NaN</td>\n",
       "      <td>NaN</td>\n",
       "      <td>Western</td>\n",
       "      <td>Floral</td>\n",
       "      <td>Regular</td>\n",
       "      <td>Woven</td>\n",
       "      <td>Polycotton</td>\n",
       "      <td>NaN</td>\n",
       "      <td>423</td>\n",
       "    </tr>\n",
       "    <tr>\n",
       "      <th>14266</th>\n",
       "      <td>18921114.0</td>\n",
       "      <td>InWeave Women Red Printed A-Line Skirt</td>\n",
       "      <td>2399.0</td>\n",
       "      <td>Red</td>\n",
       "      <td>InWeave</td>\n",
       "      <td>NaN</td>\n",
       "      <td>NaN</td>\n",
       "      <td>Casual</td>\n",
       "      <td>Floral</td>\n",
       "      <td>Regular</td>\n",
       "      <td>Woven</td>\n",
       "      <td>Viscose Rayon</td>\n",
       "      <td>NaN</td>\n",
       "      <td>362</td>\n",
       "    </tr>\n",
       "    <tr>\n",
       "      <th>14267</th>\n",
       "      <td>19361058.0</td>\n",
       "      <td>BoStreet Women Navy Blue Tapered Fit Trousers</td>\n",
       "      <td>2599.0</td>\n",
       "      <td>Navy Blue</td>\n",
       "      <td>BoStreet</td>\n",
       "      <td>NaN</td>\n",
       "      <td>NaN</td>\n",
       "      <td>Casual</td>\n",
       "      <td>Solid</td>\n",
       "      <td>Regular</td>\n",
       "      <td>Knitted</td>\n",
       "      <td>Nylon</td>\n",
       "      <td>NaN</td>\n",
       "      <td>133</td>\n",
       "    </tr>\n",
       "  </tbody>\n",
       "</table>\n",
       "<p>14268 rows × 14 columns</p>\n",
       "</div>"
      ],
      "text/plain": [
       "             p_id                                               name   price  \\\n",
       "0       1518329.0   Dupatta Bazaar White Embroidered Chiffon Dupatta   899.0   \n",
       "1       5829334.0  Roadster Women Mustard Yellow Solid Hooded Swe...  1199.0   \n",
       "2      10340119.0  Inddus Peach-Coloured & Beige Unstitched Dress...  5799.0   \n",
       "3      10856380.0            SASSAFRAS Women Black Parallel Trousers  1499.0   \n",
       "4      12384822.0  Kotty Women Black Wide Leg High-Rise Clean Loo...  1999.0   \n",
       "...           ...                                                ...     ...   \n",
       "14263  17029604.0  The Chennai Silks Pink & Silver-Toned Floral Z...  3999.0   \n",
       "14264  17600212.0  Kinder Kids Girls Blue & Green Printed Foil Pr...  2050.0   \n",
       "14265  18159266.0  KLOTTHE Women Green & Black Floral Printed Pal...  1659.0   \n",
       "14266  18921114.0             InWeave Women Red Printed A-Line Skirt  2399.0   \n",
       "14267  19361058.0      BoStreet Women Navy Blue Tapered Fit Trousers  2599.0   \n",
       "\n",
       "          colour              brand  ratingCount  avg_rating Occasion  \\\n",
       "0          White     Dupatta Bazaar       1321.0    4.548827    Daily   \n",
       "1        Mustard           Roadster       5462.0    4.313255   Casual   \n",
       "2          Peach             Inddus        145.0    4.068966    Daily   \n",
       "3          Black          SASSAFRAS       9124.0    4.147523   Casual   \n",
       "4          Black              Kotty      12260.0    4.078467   Casual   \n",
       "...          ...                ...          ...         ...      ...   \n",
       "14263       Pink  The Chennai Silks          NaN         NaN  Festive   \n",
       "14264       Blue        Kinder Kids          NaN         NaN   Casual   \n",
       "14265      Green            KLOTTHE          NaN         NaN  Western   \n",
       "14266        Red            InWeave          NaN         NaN   Casual   \n",
       "14267  Navy Blue           BoStreet          NaN         NaN   Casual   \n",
       "\n",
       "      Print_Pattern_Type Sustainable      Knit_or_Woven         Fabric  \\\n",
       "0                 Floral         NaN  Knitted and Woven         Cotton   \n",
       "1                  Solid         NaN  Knitted and Woven         Cotton   \n",
       "2          Ethnic Motifs         NaN  Knitted and Woven   Cotton Blend   \n",
       "3                  Solid     Regular              Woven         Cotton   \n",
       "4                  Solid         NaN  Knitted and Woven         Cotton   \n",
       "...                  ...         ...                ...            ...   \n",
       "14263             Floral     Regular              Woven    Jute Cotton   \n",
       "14264            Printed     Regular  Knitted and Woven         Cotton   \n",
       "14265             Floral     Regular              Woven     Polycotton   \n",
       "14266             Floral     Regular              Woven  Viscose Rayon   \n",
       "14267              Solid     Regular            Knitted          Nylon   \n",
       "\n",
       "      Fabric_Purity  brandID  \n",
       "0               NaN      221  \n",
       "1               NaN      702  \n",
       "2               NaN      363  \n",
       "3               NaN      720  \n",
       "4               NaN      446  \n",
       "...             ...      ...  \n",
       "14263           NaN      830  \n",
       "14264           NaN      439  \n",
       "14265           NaN      423  \n",
       "14266           NaN      362  \n",
       "14267           NaN      133  \n",
       "\n",
       "[14268 rows x 14 columns]"
      ]
     },
     "execution_count": 2,
     "metadata": {},
     "output_type": "execute_result"
    }
   ],
   "source": [
    "merged_dataset= pd.read_csv(r\"./cleaned_2.csv\")\n",
    "merged_dataset"
   ]
  },
  {
   "cell_type": "code",
   "execution_count": 3,
   "id": "8e8745c9",
   "metadata": {},
   "outputs": [
    {
     "data": {
      "text/plain": [
       "p_id                      0\n",
       "name                      0\n",
       "price                     0\n",
       "colour                    3\n",
       "brand                     0\n",
       "ratingCount            7722\n",
       "avg_rating             7722\n",
       "Occasion                  0\n",
       "Print_Pattern_Type        8\n",
       "Sustainable            1300\n",
       "Knit_or_Woven             0\n",
       "Fabric                    0\n",
       "Fabric_Purity         13724\n",
       "brandID                   0\n",
       "dtype: int64"
      ]
     },
     "execution_count": 3,
     "metadata": {},
     "output_type": "execute_result"
    }
   ],
   "source": [
    "merged_dataset.isna().sum()"
   ]
  },
  {
   "cell_type": "markdown",
   "id": "940f758d",
   "metadata": {},
   "source": [
    "### Filling Fabric_Purity and Sustainable columns"
   ]
  },
  {
   "cell_type": "code",
   "execution_count": 4,
   "id": "9bb1dbb5",
   "metadata": {},
   "outputs": [
    {
     "data": {
      "text/plain": [
       "array([nan, 'Blended', 'Pure', 'Synthetic'], dtype=object)"
      ]
     },
     "execution_count": 4,
     "metadata": {},
     "output_type": "execute_result"
    }
   ],
   "source": [
    "pd.unique(merged_dataset['Fabric_Purity'])"
   ]
  },
  {
   "cell_type": "code",
   "execution_count": 5,
   "id": "f992d719",
   "metadata": {
    "scrolled": true
   },
   "outputs": [
    {
     "data": {
      "text/plain": [
       "array([nan, 'Regular', 'Sustainable'], dtype=object)"
      ]
     },
     "execution_count": 5,
     "metadata": {},
     "output_type": "execute_result"
    }
   ],
   "source": [
    "pd.unique(merged_dataset['Sustainable'])"
   ]
  },
  {
   "cell_type": "code",
   "execution_count": 6,
   "id": "871d948f",
   "metadata": {},
   "outputs": [
    {
     "data": {
      "text/html": [
       "<div>\n",
       "<style scoped>\n",
       "    .dataframe tbody tr th:only-of-type {\n",
       "        vertical-align: middle;\n",
       "    }\n",
       "\n",
       "    .dataframe tbody tr th {\n",
       "        vertical-align: top;\n",
       "    }\n",
       "\n",
       "    .dataframe thead th {\n",
       "        text-align: right;\n",
       "    }\n",
       "</style>\n",
       "<table border=\"1\" class=\"dataframe\">\n",
       "  <thead>\n",
       "    <tr style=\"text-align: right;\">\n",
       "      <th></th>\n",
       "      <th>Fabric_Purity</th>\n",
       "      <th>Sustainable</th>\n",
       "    </tr>\n",
       "  </thead>\n",
       "  <tbody>\n",
       "    <tr>\n",
       "      <th>0</th>\n",
       "      <td>Pure</td>\n",
       "      <td>Regular</td>\n",
       "    </tr>\n",
       "    <tr>\n",
       "      <th>1</th>\n",
       "      <td>Pure</td>\n",
       "      <td>Regular</td>\n",
       "    </tr>\n",
       "    <tr>\n",
       "      <th>2</th>\n",
       "      <td>Pure</td>\n",
       "      <td>Regular</td>\n",
       "    </tr>\n",
       "    <tr>\n",
       "      <th>3</th>\n",
       "      <td>Pure</td>\n",
       "      <td>Regular</td>\n",
       "    </tr>\n",
       "    <tr>\n",
       "      <th>4</th>\n",
       "      <td>Pure</td>\n",
       "      <td>Regular</td>\n",
       "    </tr>\n",
       "    <tr>\n",
       "      <th>...</th>\n",
       "      <td>...</td>\n",
       "      <td>...</td>\n",
       "    </tr>\n",
       "    <tr>\n",
       "      <th>478</th>\n",
       "      <td>Blended</td>\n",
       "      <td>Regular</td>\n",
       "    </tr>\n",
       "    <tr>\n",
       "      <th>479</th>\n",
       "      <td>Pure</td>\n",
       "      <td>Regular</td>\n",
       "    </tr>\n",
       "    <tr>\n",
       "      <th>480</th>\n",
       "      <td>Blended</td>\n",
       "      <td>Regular</td>\n",
       "    </tr>\n",
       "    <tr>\n",
       "      <th>481</th>\n",
       "      <td>Pure</td>\n",
       "      <td>Regular</td>\n",
       "    </tr>\n",
       "    <tr>\n",
       "      <th>482</th>\n",
       "      <td>Pure</td>\n",
       "      <td>Regular</td>\n",
       "    </tr>\n",
       "  </tbody>\n",
       "</table>\n",
       "<p>483 rows × 2 columns</p>\n",
       "</div>"
      ],
      "text/plain": [
       "    Fabric_Purity Sustainable\n",
       "0            Pure     Regular\n",
       "1            Pure     Regular\n",
       "2            Pure     Regular\n",
       "3            Pure     Regular\n",
       "4            Pure     Regular\n",
       "..            ...         ...\n",
       "478       Blended     Regular\n",
       "479          Pure     Regular\n",
       "480       Blended     Regular\n",
       "481          Pure     Regular\n",
       "482          Pure     Regular\n",
       "\n",
       "[483 rows x 2 columns]"
      ]
     },
     "execution_count": 6,
     "metadata": {},
     "output_type": "execute_result"
    }
   ],
   "source": [
    "sqldf('select Fabric_Purity, Sustainable from merged_dataset where Sustainable is not null and Fabric_Purity is not null')"
   ]
  },
  {
   "cell_type": "markdown",
   "id": "e8af6a3d",
   "metadata": {},
   "source": [
    "> Creating new column for fabric purity based on sustainable"
   ]
  },
  {
   "cell_type": "code",
   "execution_count": 7,
   "id": "b2082910",
   "metadata": {},
   "outputs": [],
   "source": [
    "merged_dataset.loc[:,['pur']]=merged_dataset['Sustainable'].replace(['Regular', 'Sustainable'],['Synthetic','Pure'])"
   ]
  },
  {
   "cell_type": "markdown",
   "id": "5c05ffc7",
   "metadata": {},
   "source": [
    ">Filling Fabric Purity with new values"
   ]
  },
  {
   "cell_type": "code",
   "execution_count": 8,
   "id": "13f7bfa3",
   "metadata": {},
   "outputs": [
    {
     "data": {
      "text/plain": [
       "13724"
      ]
     },
     "execution_count": 8,
     "metadata": {},
     "output_type": "execute_result"
    }
   ],
   "source": [
    "merged_dataset['Fabric_Purity'].isna().sum()"
   ]
  },
  {
   "cell_type": "code",
   "execution_count": 9,
   "id": "c732cb80",
   "metadata": {},
   "outputs": [],
   "source": [
    "merged_dataset['Fabric_Purity']=merged_dataset['Fabric_Purity'].combine_first(merged_dataset['pur'])"
   ]
  },
  {
   "cell_type": "code",
   "execution_count": 10,
   "id": "f911788a",
   "metadata": {},
   "outputs": [
    {
     "data": {
      "text/plain": [
       "1239"
      ]
     },
     "execution_count": 10,
     "metadata": {},
     "output_type": "execute_result"
    }
   ],
   "source": [
    "merged_dataset['Fabric_Purity'].isna().sum()"
   ]
  },
  {
   "cell_type": "markdown",
   "id": "c9b0df2d",
   "metadata": {},
   "source": [
    ">Creating new column for sustainable values based on  fabric purity values"
   ]
  },
  {
   "cell_type": "code",
   "execution_count": 11,
   "id": "f905bc1b",
   "metadata": {},
   "outputs": [],
   "source": [
    "merged_dataset.loc[:,['sus']]=merged_dataset['Fabric_Purity'].replace(['Blended', 'Pure', 'Synthetic'],['Regular', 'Sustainable','Regular'])"
   ]
  },
  {
   "cell_type": "markdown",
   "id": "97ccc4bb",
   "metadata": {},
   "source": [
    ">Filling Sustainable with new values"
   ]
  },
  {
   "cell_type": "code",
   "execution_count": 12,
   "id": "213f2e70",
   "metadata": {},
   "outputs": [
    {
     "data": {
      "text/plain": [
       "1300"
      ]
     },
     "execution_count": 12,
     "metadata": {},
     "output_type": "execute_result"
    }
   ],
   "source": [
    "merged_dataset['Sustainable'].isna().sum()"
   ]
  },
  {
   "cell_type": "code",
   "execution_count": 13,
   "id": "230768e9",
   "metadata": {},
   "outputs": [],
   "source": [
    "merged_dataset['Sustainable']=merged_dataset['Sustainable'].combine_first(merged_dataset['sus'])"
   ]
  },
  {
   "cell_type": "code",
   "execution_count": 14,
   "id": "ea062c02",
   "metadata": {
    "scrolled": true
   },
   "outputs": [
    {
     "data": {
      "text/plain": [
       "1239"
      ]
     },
     "execution_count": 14,
     "metadata": {},
     "output_type": "execute_result"
    }
   ],
   "source": [
    "merged_dataset['Sustainable'].isna().sum()"
   ]
  },
  {
   "cell_type": "markdown",
   "id": "4d29fae7",
   "metadata": {},
   "source": [
    ">Dropping newly created columns"
   ]
  },
  {
   "cell_type": "code",
   "execution_count": 15,
   "id": "62720565",
   "metadata": {},
   "outputs": [],
   "source": [
    "merged_dataset.drop(['pur','sus'], axis='columns', inplace=True)"
   ]
  },
  {
   "cell_type": "code",
   "execution_count": 16,
   "id": "5e809ef6",
   "metadata": {},
   "outputs": [
    {
     "data": {
      "text/plain": [
       "p_id                     0\n",
       "name                     0\n",
       "price                    0\n",
       "colour                   3\n",
       "brand                    0\n",
       "ratingCount           7722\n",
       "avg_rating            7722\n",
       "Occasion                 0\n",
       "Print_Pattern_Type       8\n",
       "Sustainable           1239\n",
       "Knit_or_Woven            0\n",
       "Fabric                   0\n",
       "Fabric_Purity         1239\n",
       "brandID                  0\n",
       "dtype: int64"
      ]
     },
     "execution_count": 16,
     "metadata": {},
     "output_type": "execute_result"
    }
   ],
   "source": [
    "merged_dataset.isna().sum()"
   ]
  },
  {
   "cell_type": "markdown",
   "id": "543a8224",
   "metadata": {},
   "source": [
    "### Filling in remaining null values"
   ]
  },
  {
   "cell_type": "code",
   "execution_count": 28,
   "id": "7f7f6817",
   "metadata": {},
   "outputs": [
    {
     "name": "stdout",
     "output_type": "stream",
     "text": [
      "0    Black\n",
      "Name: colour, dtype: object\n",
      "4.1003784693013685\n",
      "183.41631623212783\n",
      "0    Regular\n",
      "Name: Sustainable, dtype: object\n",
      "0    Synthetic\n",
      "Name: Fabric_Purity, dtype: object\n",
      "0    Solid\n",
      "Name: Print_Pattern_Type, dtype: object\n"
     ]
    }
   ],
   "source": [
    "print(merged_dataset['colour'].mode())\n",
    "print(merged_dataset['avg_rating'].mean())\n",
    "print(merged_dataset['ratingCount'].mean())\n",
    "print(merged_dataset['Sustainable'].mode())\n",
    "print(merged_dataset['Fabric_Purity'].mode())\n",
    "print(merged_dataset['Print_Pattern_Type'].mode())"
   ]
  },
  {
   "cell_type": "code",
   "execution_count": 18,
   "id": "8deb8278",
   "metadata": {},
   "outputs": [
    {
     "data": {
      "text/plain": [
       "p_id                  0\n",
       "name                  0\n",
       "price                 0\n",
       "colour                0\n",
       "brand                 0\n",
       "ratingCount           0\n",
       "avg_rating            0\n",
       "Occasion              0\n",
       "Print_Pattern_Type    0\n",
       "Sustainable           0\n",
       "Knit_or_Woven         0\n",
       "Fabric                0\n",
       "Fabric_Purity         0\n",
       "brandID               0\n",
       "dtype: int64"
      ]
     },
     "execution_count": 18,
     "metadata": {},
     "output_type": "execute_result"
    }
   ],
   "source": [
    "merged_dataset.fillna({'colour':'Black',\"avg_rating\":4.1007883731964485, \"ratingCount\":183.36121433078594,\n",
    "                       'Sustainable':'Regular','Fabric_Purity':'Synthetic', \n",
    "                       'Print_Pattern_Type':'Solid'}, inplace = True)\n",
    "merged_dataset.isna().sum()"
   ]
  },
  {
   "cell_type": "markdown",
   "id": "e2295589",
   "metadata": {},
   "source": [
    "### Converting ratingCount to int"
   ]
  },
  {
   "cell_type": "code",
   "execution_count": 19,
   "id": "411f1ebe",
   "metadata": {},
   "outputs": [],
   "source": [
    "merged_dataset['ratingCount']=merged_dataset['ratingCount'].astype(int)"
   ]
  },
  {
   "cell_type": "code",
   "execution_count": 20,
   "id": "6cd6110b",
   "metadata": {},
   "outputs": [
    {
     "name": "stdout",
     "output_type": "stream",
     "text": [
      "<class 'pandas.core.frame.DataFrame'>\n",
      "RangeIndex: 14268 entries, 0 to 14267\n",
      "Data columns (total 14 columns):\n",
      " #   Column              Non-Null Count  Dtype  \n",
      "---  ------              --------------  -----  \n",
      " 0   p_id                14268 non-null  float64\n",
      " 1   name                14268 non-null  object \n",
      " 2   price               14268 non-null  float64\n",
      " 3   colour              14268 non-null  object \n",
      " 4   brand               14268 non-null  object \n",
      " 5   ratingCount         14268 non-null  int32  \n",
      " 6   avg_rating          14268 non-null  float64\n",
      " 7   Occasion            14268 non-null  object \n",
      " 8   Print_Pattern_Type  14268 non-null  object \n",
      " 9   Sustainable         14268 non-null  object \n",
      " 10  Knit_or_Woven       14268 non-null  object \n",
      " 11  Fabric              14268 non-null  object \n",
      " 12  Fabric_Purity       14268 non-null  object \n",
      " 13  brandID             14268 non-null  int64  \n",
      "dtypes: float64(3), int32(1), int64(1), object(9)\n",
      "memory usage: 1.5+ MB\n"
     ]
    }
   ],
   "source": [
    "merged_dataset.info()"
   ]
  },
  {
   "cell_type": "markdown",
   "id": "1ad754c6",
   "metadata": {},
   "source": [
    "### Rounding up avg_rating"
   ]
  },
  {
   "cell_type": "code",
   "execution_count": 21,
   "id": "de99ac8d",
   "metadata": {},
   "outputs": [],
   "source": [
    "merged_dataset['avg_rating']=merged_dataset['avg_rating'].round(1)"
   ]
  },
  {
   "cell_type": "code",
   "execution_count": 22,
   "id": "f2540e9e",
   "metadata": {},
   "outputs": [
    {
     "data": {
      "text/plain": [
       "0        4.5\n",
       "1        4.3\n",
       "2        4.1\n",
       "3        4.1\n",
       "4        4.1\n",
       "        ... \n",
       "14263    4.1\n",
       "14264    4.1\n",
       "14265    4.1\n",
       "14266    4.1\n",
       "14267    4.1\n",
       "Name: avg_rating, Length: 14268, dtype: float64"
      ]
     },
     "execution_count": 22,
     "metadata": {},
     "output_type": "execute_result"
    }
   ],
   "source": [
    "merged_dataset['avg_rating']"
   ]
  },
  {
   "cell_type": "code",
   "execution_count": 23,
   "id": "23e3bb1b",
   "metadata": {},
   "outputs": [],
   "source": [
    "merged_dataset.to_csv('./new_dataset.csv',index=False)"
   ]
  },
  {
   "cell_type": "markdown",
   "id": "bd187578",
   "metadata": {},
   "source": [
    "### Exporting dataset for use in Apache Hive and MapReduce"
   ]
  },
  {
   "cell_type": "code",
   "execution_count": 24,
   "id": "2f9b7284",
   "metadata": {},
   "outputs": [],
   "source": [
    "merged_dataset.to_csv('hive_data.csv', index=False,header=False)"
   ]
  },
  {
   "cell_type": "code",
   "execution_count": 25,
   "id": "cc9df4ec",
   "metadata": {},
   "outputs": [],
   "source": [
    "final_dataset = merged_dataset.loc[:,['p_id','price','ratingCount','avg_rating','brandID']]"
   ]
  },
  {
   "cell_type": "code",
   "execution_count": 26,
   "id": "d8f47b94",
   "metadata": {},
   "outputs": [],
   "source": [
    "final_dataset.to_csv('./final_dataset.csv',index=False, header=False)"
   ]
  }
 ],
 "metadata": {
  "kernelspec": {
   "display_name": "Python 3 (ipykernel)",
   "language": "python",
   "name": "python3"
  },
  "language_info": {
   "codemirror_mode": {
    "name": "ipython",
    "version": 3
   },
   "file_extension": ".py",
   "mimetype": "text/x-python",
   "name": "python",
   "nbconvert_exporter": "python",
   "pygments_lexer": "ipython3",
   "version": "3.9.13"
  }
 },
 "nbformat": 4,
 "nbformat_minor": 5
}
