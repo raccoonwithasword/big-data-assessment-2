{
 "cells": [
  {
   "cell_type": "markdown",
   "id": "457423a4",
   "metadata": {},
   "source": [
    "# Importing Libraries and Data"
   ]
  },
  {
   "cell_type": "markdown",
   "id": "c748dd0b",
   "metadata": {},
   "source": [
    ">Importing Spark libraries"
   ]
  },
  {
   "cell_type": "code",
   "execution_count": 1,
   "id": "2635c1f4",
   "metadata": {},
   "outputs": [
    {
     "ename": "ModuleNotFoundError",
     "evalue": "No module named 'findspark'",
     "output_type": "error",
     "traceback": [
      "\u001b[1;31m---------------------------------------------------------------------------\u001b[0m",
      "\u001b[1;31mModuleNotFoundError\u001b[0m                       Traceback (most recent call last)",
      "\u001b[1;32m~\\AppData\\Local\\Temp\\ipykernel_10148\\1321988536.py\u001b[0m in \u001b[0;36m<module>\u001b[1;34m\u001b[0m\n\u001b[1;32m----> 1\u001b[1;33m \u001b[1;32mimport\u001b[0m \u001b[0mfindspark\u001b[0m\u001b[1;33m\u001b[0m\u001b[1;33m\u001b[0m\u001b[0m\n\u001b[0m\u001b[0;32m      2\u001b[0m \u001b[0mfindspark\u001b[0m\u001b[1;33m.\u001b[0m\u001b[0minit\u001b[0m\u001b[1;33m(\u001b[0m\u001b[1;33m)\u001b[0m\u001b[1;33m\u001b[0m\u001b[1;33m\u001b[0m\u001b[0m\n\u001b[0;32m      3\u001b[0m \u001b[1;32mfrom\u001b[0m \u001b[0mpyspark\u001b[0m\u001b[1;33m.\u001b[0m\u001b[0msql\u001b[0m \u001b[1;32mimport\u001b[0m \u001b[0mSparkSession\u001b[0m\u001b[1;33m\u001b[0m\u001b[1;33m\u001b[0m\u001b[0m\n\u001b[0;32m      4\u001b[0m \u001b[1;32mfrom\u001b[0m \u001b[0mpyspark\u001b[0m\u001b[1;33m.\u001b[0m\u001b[0msql\u001b[0m\u001b[1;33m.\u001b[0m\u001b[0mfunctions\u001b[0m \u001b[1;32mimport\u001b[0m \u001b[0mcol\u001b[0m\u001b[1;33m,\u001b[0m \u001b[0mstruct\u001b[0m\u001b[1;33m,\u001b[0m \u001b[0mexplode\u001b[0m\u001b[1;33m\u001b[0m\u001b[1;33m\u001b[0m\u001b[0m\n\u001b[0;32m      5\u001b[0m \u001b[0mspark\u001b[0m \u001b[1;33m=\u001b[0m \u001b[0mSparkSession\u001b[0m\u001b[1;33m.\u001b[0m\u001b[0mbuilder\u001b[0m\u001b[1;33m.\u001b[0m\u001b[0mmaster\u001b[0m\u001b[1;33m(\u001b[0m\u001b[1;34m\"local[*]\"\u001b[0m\u001b[1;33m)\u001b[0m\u001b[1;33m.\u001b[0m\u001b[0mgetOrCreate\u001b[0m\u001b[1;33m(\u001b[0m\u001b[1;33m)\u001b[0m\u001b[1;33m\u001b[0m\u001b[1;33m\u001b[0m\u001b[0m\n",
      "\u001b[1;31mModuleNotFoundError\u001b[0m: No module named 'findspark'"
     ]
    }
   ],
   "source": [
    "import findspark\n",
    "findspark.init()\n",
    "from pyspark.sql import SparkSession\n",
    "from pyspark.sql.functions import col, struct, explode\n",
    "spark = SparkSession.builder.master(\"local[*]\").getOrCreate()\n",
    "#spark.conf.set(\"spark.sql.repl.eagerEval.enabled\", True) # Property used to format output tables better"
   ]
  },
  {
   "cell_type": "markdown",
   "id": "e9b34e55",
   "metadata": {},
   "source": [
    ">Importing the dataset, inferring schema, and checking data types"
   ]
  },
  {
   "cell_type": "code",
   "execution_count": null,
   "id": "9ec1646c",
   "metadata": {
    "scrolled": true
   },
   "outputs": [],
   "source": [
    "final_dataset = spark.read.options(header = True, sep = \",\", inferSchema=True, escape='\"').option(\"multiline\",'true').csv(\"./final dataset.csv\")\n",
    "final_dataset.printSchema()"
   ]
  },
  {
   "cell_type": "markdown",
   "id": "9e84b929",
   "metadata": {},
   "source": [
    ">Viewing top 5 rows of first two columns"
   ]
  },
  {
   "cell_type": "code",
   "execution_count": null,
   "id": "b40e21c3",
   "metadata": {},
   "outputs": [],
   "source": [
    "final_dataset.select(['p_id','name']).show(5)"
   ]
  },
  {
   "cell_type": "markdown",
   "id": "c366a432",
   "metadata": {},
   "source": [
    ">Grouping by brand & brand ID"
   ]
  },
  {
   "cell_type": "code",
   "execution_count": null,
   "id": "d550c243",
   "metadata": {},
   "outputs": [],
   "source": [
    "final_dataset.groupBy('brand_id', 'brand').count()"
   ]
  },
  {
   "cell_type": "code",
   "execution_count": null,
   "id": "5bc0bdb9",
   "metadata": {},
   "outputs": [],
   "source": [
    "final_dataset"
   ]
  },
  {
   "cell_type": "code",
   "execution_count": null,
   "id": "c2007f65",
   "metadata": {},
   "outputs": [],
   "source": [
    "final_dataset = final_dataset.drop('description').drop('p_attributes')\n",
    "final_dataset"
   ]
  },
  {
   "cell_type": "markdown",
   "id": "0d7324bc",
   "metadata": {},
   "source": [
    ">Grouping by colour"
   ]
  },
  {
   "cell_type": "code",
   "execution_count": null,
   "id": "766e8b80",
   "metadata": {},
   "outputs": [],
   "source": [
    "final_dataset.groupBy('colour').count()"
   ]
  },
  {
   "cell_type": "code",
   "execution_count": null,
   "id": "5af3c242",
   "metadata": {},
   "outputs": [],
   "source": []
  }
 ],
 "metadata": {
  "kernelspec": {
   "display_name": "Python 3 (ipykernel)",
   "language": "python",
   "name": "python3"
  },
  "language_info": {
   "codemirror_mode": {
    "name": "ipython",
    "version": 3
   },
   "file_extension": ".py",
   "mimetype": "text/x-python",
   "name": "python",
   "nbconvert_exporter": "python",
   "pygments_lexer": "ipython3",
   "version": "3.9.13"
  }
 },
 "nbformat": 4,
 "nbformat_minor": 5
}
