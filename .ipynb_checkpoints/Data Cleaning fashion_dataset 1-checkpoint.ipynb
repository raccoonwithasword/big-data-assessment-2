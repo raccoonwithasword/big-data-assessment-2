{
 "cells": [
  {
   "cell_type": "markdown",
   "id": "9c67d32e",
   "metadata": {},
   "source": [
    "# Data Analysis"
   ]
  },
  {
   "cell_type": "markdown",
   "id": "27bcab35",
   "metadata": {},
   "source": [
    ">Importing libraries"
   ]
  },
  {
   "cell_type": "code",
   "execution_count": 1,
   "id": "02c28b12",
   "metadata": {},
   "outputs": [],
   "source": [
    "import pandas as pd\n",
    "import numpy as np\n",
    "import pandasql as ps\n",
    "from pandasql import sqldf\n",
    "import ast\n",
    "import random\n",
    "import matplotlib.pyplot as plt\n",
    "from sklearn.model_selection import train_test_split\n",
    "from sklearn.linear_model import LinearRegression\n",
    "from sklearn.linear_model import BayesianRidge\n",
    "from sklearn import preprocessing\n",
    "from sklearn import tree\n",
    "from sklearn.tree import DecisionTreeClassifier\n",
    "from sklearn import metrics\n",
    "from sklearn.naive_bayes import GaussianNB"
   ]
  },
  {
   "cell_type": "markdown",
   "id": "0cbebfff",
   "metadata": {},
   "source": [
    "# Data Cleaning & Transformation"
   ]
  },
  {
   "cell_type": "markdown",
   "id": "5348de0e",
   "metadata": {},
   "source": [
    ">Importing and viewing the fashion dataset\n"
   ]
  },
  {
   "cell_type": "code",
   "execution_count": 2,
   "id": "58058aa0",
   "metadata": {
    "scrolled": false
   },
   "outputs": [
    {
     "data": {
      "text/html": [
       "<div>\n",
       "<style scoped>\n",
       "    .dataframe tbody tr th:only-of-type {\n",
       "        vertical-align: middle;\n",
       "    }\n",
       "\n",
       "    .dataframe tbody tr th {\n",
       "        vertical-align: top;\n",
       "    }\n",
       "\n",
       "    .dataframe thead th {\n",
       "        text-align: right;\n",
       "    }\n",
       "</style>\n",
       "<table border=\"1\" class=\"dataframe\">\n",
       "  <thead>\n",
       "    <tr style=\"text-align: right;\">\n",
       "      <th></th>\n",
       "      <th>p_id</th>\n",
       "      <th>name</th>\n",
       "      <th>price</th>\n",
       "      <th>colour</th>\n",
       "      <th>brand</th>\n",
       "      <th>ratingCount</th>\n",
       "      <th>avg_rating</th>\n",
       "      <th>description</th>\n",
       "      <th>p_attributes</th>\n",
       "    </tr>\n",
       "  </thead>\n",
       "  <tbody>\n",
       "    <tr>\n",
       "      <th>0</th>\n",
       "      <td>1518329.0</td>\n",
       "      <td>Dupatta Bazaar White Embroidered Chiffon Dupatta</td>\n",
       "      <td>899.0</td>\n",
       "      <td>White</td>\n",
       "      <td>Dupatta Bazaar</td>\n",
       "      <td>1321.0</td>\n",
       "      <td>4.548827</td>\n",
       "      <td>White embroidered&amp;nbsp;dupattaChiffon&lt;br&gt;Hand-...</td>\n",
       "      <td>{'Occasion': 'Daily', 'Pattern': 'Embroidered'...</td>\n",
       "    </tr>\n",
       "    <tr>\n",
       "      <th>1</th>\n",
       "      <td>5829334.0</td>\n",
       "      <td>Roadster Women Mustard Yellow Solid Hooded Swe...</td>\n",
       "      <td>1199.0</td>\n",
       "      <td>Mustard</td>\n",
       "      <td>Roadster</td>\n",
       "      <td>5462.0</td>\n",
       "      <td>4.313255</td>\n",
       "      <td>Mustard yellow solid sweatshirt, has a hood, t...</td>\n",
       "      <td>{'Body Shape ID': '443,424,324', 'Body or Garm...</td>\n",
       "    </tr>\n",
       "    <tr>\n",
       "      <th>2</th>\n",
       "      <td>10340119.0</td>\n",
       "      <td>Inddus Peach-Coloured &amp; Beige Unstitched Dress...</td>\n",
       "      <td>5799.0</td>\n",
       "      <td>Peach</td>\n",
       "      <td>Inddus</td>\n",
       "      <td>145.0</td>\n",
       "      <td>4.068966</td>\n",
       "      <td>Peach-Coloured and beige woven design unstitch...</td>\n",
       "      <td>{'Bottom Fabric': 'Cotton Blend', 'Bottom Patt...</td>\n",
       "    </tr>\n",
       "    <tr>\n",
       "      <th>3</th>\n",
       "      <td>10856380.0</td>\n",
       "      <td>SASSAFRAS Women Black Parallel Trousers</td>\n",
       "      <td>1499.0</td>\n",
       "      <td>Black</td>\n",
       "      <td>SASSAFRAS</td>\n",
       "      <td>9124.0</td>\n",
       "      <td>4.147523</td>\n",
       "      <td>Black solid woven high-rise parallel trousers,...</td>\n",
       "      <td>{'Add-Ons': 'NA', 'Body Shape ID': '424', 'Bod...</td>\n",
       "    </tr>\n",
       "    <tr>\n",
       "      <th>4</th>\n",
       "      <td>12384822.0</td>\n",
       "      <td>Kotty Women Black Wide Leg High-Rise Clean Loo...</td>\n",
       "      <td>1999.0</td>\n",
       "      <td>Black</td>\n",
       "      <td>Kotty</td>\n",
       "      <td>12260.0</td>\n",
       "      <td>4.078467</td>\n",
       "      <td>Black dark wash 4-pocket high-rise jeans, clea...</td>\n",
       "      <td>{'Add-Ons': 'NA', 'Brand Fit Name': 'NA', 'Clo...</td>\n",
       "    </tr>\n",
       "    <tr>\n",
       "      <th>...</th>\n",
       "      <td>...</td>\n",
       "      <td>...</td>\n",
       "      <td>...</td>\n",
       "      <td>...</td>\n",
       "      <td>...</td>\n",
       "      <td>...</td>\n",
       "      <td>...</td>\n",
       "      <td>...</td>\n",
       "      <td>...</td>\n",
       "    </tr>\n",
       "    <tr>\n",
       "      <th>14324</th>\n",
       "      <td>17029604.0</td>\n",
       "      <td>The Chennai Silks Pink &amp; Silver-Toned Floral Z...</td>\n",
       "      <td>3999.0</td>\n",
       "      <td>Pink</td>\n",
       "      <td>The Chennai Silks</td>\n",
       "      <td>NaN</td>\n",
       "      <td>NaN</td>\n",
       "      <td>&lt;b&gt;Design Details &lt;/b&gt;&lt;ul&gt;&lt;li&gt;Pink and silver-...</td>\n",
       "      <td>{'Better Cotton Initiative': 'Regular', 'Blous...</td>\n",
       "    </tr>\n",
       "    <tr>\n",
       "      <th>14325</th>\n",
       "      <td>17600212.0</td>\n",
       "      <td>Kinder Kids Girls Blue &amp; Green Printed Foil Pr...</td>\n",
       "      <td>2050.0</td>\n",
       "      <td>Blue</td>\n",
       "      <td>Kinder Kids</td>\n",
       "      <td>NaN</td>\n",
       "      <td>NaN</td>\n",
       "      <td>Blue and green printed lehenga choli,  has foi...</td>\n",
       "      <td>{'Blouse Closure': 'NA', 'Blouse Fabric': 'Cot...</td>\n",
       "    </tr>\n",
       "    <tr>\n",
       "      <th>14326</th>\n",
       "      <td>18159266.0</td>\n",
       "      <td>KLOTTHE Women Green &amp; Black Floral Printed Pal...</td>\n",
       "      <td>1659.0</td>\n",
       "      <td>Green</td>\n",
       "      <td>KLOTTHE</td>\n",
       "      <td>NaN</td>\n",
       "      <td>NaN</td>\n",
       "      <td>&lt;ul&gt; &lt;li&gt; Green and black woven palazzos &lt;/li&gt;...</td>\n",
       "      <td>{'Body or Garment Size': 'To-Fit Denotes Body ...</td>\n",
       "    </tr>\n",
       "    <tr>\n",
       "      <th>14327</th>\n",
       "      <td>18921114.0</td>\n",
       "      <td>InWeave Women Red Printed A-Line Skirt</td>\n",
       "      <td>2399.0</td>\n",
       "      <td>Red</td>\n",
       "      <td>InWeave</td>\n",
       "      <td>NaN</td>\n",
       "      <td>NaN</td>\n",
       "      <td>&lt;p&gt;Red printed A-line skirt, has drawstring cl...</td>\n",
       "      <td>{'Add-Ons': 'NA', 'Body Shape ID': '324,333,42...</td>\n",
       "    </tr>\n",
       "    <tr>\n",
       "      <th>14328</th>\n",
       "      <td>19361058.0</td>\n",
       "      <td>BoStreet Women Navy Blue Tapered Fit Trousers</td>\n",
       "      <td>2599.0</td>\n",
       "      <td>Navy Blue</td>\n",
       "      <td>BoStreet</td>\n",
       "      <td>NaN</td>\n",
       "      <td>NaN</td>\n",
       "      <td>&lt;ul&gt; &lt;li&gt; Navy blue knitted trousers &lt;/li&gt; &lt;li...</td>\n",
       "      <td>{'Add-Ons': 'NA', 'Body Shape ID': '443,333,42...</td>\n",
       "    </tr>\n",
       "  </tbody>\n",
       "</table>\n",
       "<p>14329 rows × 9 columns</p>\n",
       "</div>"
      ],
      "text/plain": [
       "             p_id                                               name   price  \\\n",
       "0       1518329.0   Dupatta Bazaar White Embroidered Chiffon Dupatta   899.0   \n",
       "1       5829334.0  Roadster Women Mustard Yellow Solid Hooded Swe...  1199.0   \n",
       "2      10340119.0  Inddus Peach-Coloured & Beige Unstitched Dress...  5799.0   \n",
       "3      10856380.0            SASSAFRAS Women Black Parallel Trousers  1499.0   \n",
       "4      12384822.0  Kotty Women Black Wide Leg High-Rise Clean Loo...  1999.0   \n",
       "...           ...                                                ...     ...   \n",
       "14324  17029604.0  The Chennai Silks Pink & Silver-Toned Floral Z...  3999.0   \n",
       "14325  17600212.0  Kinder Kids Girls Blue & Green Printed Foil Pr...  2050.0   \n",
       "14326  18159266.0  KLOTTHE Women Green & Black Floral Printed Pal...  1659.0   \n",
       "14327  18921114.0             InWeave Women Red Printed A-Line Skirt  2399.0   \n",
       "14328  19361058.0      BoStreet Women Navy Blue Tapered Fit Trousers  2599.0   \n",
       "\n",
       "          colour              brand  ratingCount  avg_rating  \\\n",
       "0          White     Dupatta Bazaar       1321.0    4.548827   \n",
       "1        Mustard           Roadster       5462.0    4.313255   \n",
       "2          Peach             Inddus        145.0    4.068966   \n",
       "3          Black          SASSAFRAS       9124.0    4.147523   \n",
       "4          Black              Kotty      12260.0    4.078467   \n",
       "...          ...                ...          ...         ...   \n",
       "14324       Pink  The Chennai Silks          NaN         NaN   \n",
       "14325       Blue        Kinder Kids          NaN         NaN   \n",
       "14326      Green            KLOTTHE          NaN         NaN   \n",
       "14327        Red            InWeave          NaN         NaN   \n",
       "14328  Navy Blue           BoStreet          NaN         NaN   \n",
       "\n",
       "                                             description  \\\n",
       "0      White embroidered&nbsp;dupattaChiffon<br>Hand-...   \n",
       "1      Mustard yellow solid sweatshirt, has a hood, t...   \n",
       "2      Peach-Coloured and beige woven design unstitch...   \n",
       "3      Black solid woven high-rise parallel trousers,...   \n",
       "4      Black dark wash 4-pocket high-rise jeans, clea...   \n",
       "...                                                  ...   \n",
       "14324  <b>Design Details </b><ul><li>Pink and silver-...   \n",
       "14325  Blue and green printed lehenga choli,  has foi...   \n",
       "14326  <ul> <li> Green and black woven palazzos </li>...   \n",
       "14327  <p>Red printed A-line skirt, has drawstring cl...   \n",
       "14328  <ul> <li> Navy blue knitted trousers </li> <li...   \n",
       "\n",
       "                                            p_attributes  \n",
       "0      {'Occasion': 'Daily', 'Pattern': 'Embroidered'...  \n",
       "1      {'Body Shape ID': '443,424,324', 'Body or Garm...  \n",
       "2      {'Bottom Fabric': 'Cotton Blend', 'Bottom Patt...  \n",
       "3      {'Add-Ons': 'NA', 'Body Shape ID': '424', 'Bod...  \n",
       "4      {'Add-Ons': 'NA', 'Brand Fit Name': 'NA', 'Clo...  \n",
       "...                                                  ...  \n",
       "14324  {'Better Cotton Initiative': 'Regular', 'Blous...  \n",
       "14325  {'Blouse Closure': 'NA', 'Blouse Fabric': 'Cot...  \n",
       "14326  {'Body or Garment Size': 'To-Fit Denotes Body ...  \n",
       "14327  {'Add-Ons': 'NA', 'Body Shape ID': '324,333,42...  \n",
       "14328  {'Add-Ons': 'NA', 'Body Shape ID': '443,333,42...  \n",
       "\n",
       "[14329 rows x 9 columns]"
      ]
     },
     "execution_count": 2,
     "metadata": {},
     "output_type": "execute_result"
    }
   ],
   "source": [
    "fashion_dataset= pd.read_csv(r\".\\fashion dataset.csv\")\n",
    "fashion_dataset"
   ]
  },
  {
   "cell_type": "markdown",
   "id": "4db6ad60",
   "metadata": {},
   "source": [
    ">Finding the number of unique brands in the fashion dataset"
   ]
  },
  {
   "cell_type": "code",
   "execution_count": 3,
   "id": "39d4ad68",
   "metadata": {},
   "outputs": [
    {
     "data": {
      "text/plain": [
       "1021"
      ]
     },
     "execution_count": 3,
     "metadata": {},
     "output_type": "execute_result"
    }
   ],
   "source": [
    "len(pd.unique(fashion_dataset['brand']))"
   ]
  },
  {
   "cell_type": "markdown",
   "id": "146a3cc5",
   "metadata": {},
   "source": [
    ">Importing the brand details dataset"
   ]
  },
  {
   "cell_type": "code",
   "execution_count": 4,
   "id": "61fb4d4f",
   "metadata": {},
   "outputs": [
    {
     "data": {
      "text/html": [
       "<div>\n",
       "<style scoped>\n",
       "    .dataframe tbody tr th:only-of-type {\n",
       "        vertical-align: middle;\n",
       "    }\n",
       "\n",
       "    .dataframe tbody tr th {\n",
       "        vertical-align: top;\n",
       "    }\n",
       "\n",
       "    .dataframe thead th {\n",
       "        text-align: right;\n",
       "    }\n",
       "</style>\n",
       "<table border=\"1\" class=\"dataframe\">\n",
       "  <thead>\n",
       "    <tr style=\"text-align: right;\">\n",
       "      <th></th>\n",
       "      <th>brand_id</th>\n",
       "      <th>brand_name</th>\n",
       "    </tr>\n",
       "  </thead>\n",
       "  <tbody>\n",
       "    <tr>\n",
       "      <th>0</th>\n",
       "      <td>1</td>\n",
       "      <td>513</td>\n",
       "    </tr>\n",
       "    <tr>\n",
       "      <th>1</th>\n",
       "      <td>2</td>\n",
       "      <td>109F</td>\n",
       "    </tr>\n",
       "    <tr>\n",
       "      <th>2</th>\n",
       "      <td>3</td>\n",
       "      <td>20Dresses</td>\n",
       "    </tr>\n",
       "    <tr>\n",
       "      <th>3</th>\n",
       "      <td>4</td>\n",
       "      <td>250 Designs</td>\n",
       "    </tr>\n",
       "    <tr>\n",
       "      <th>4</th>\n",
       "      <td>5</td>\n",
       "      <td>3Pin</td>\n",
       "    </tr>\n",
       "    <tr>\n",
       "      <th>...</th>\n",
       "      <td>...</td>\n",
       "      <td>...</td>\n",
       "    </tr>\n",
       "    <tr>\n",
       "      <th>1015</th>\n",
       "      <td>1016</td>\n",
       "      <td>Ziva Fashion</td>\n",
       "    </tr>\n",
       "    <tr>\n",
       "      <th>1016</th>\n",
       "      <td>1017</td>\n",
       "      <td>Zivame</td>\n",
       "    </tr>\n",
       "    <tr>\n",
       "      <th>1017</th>\n",
       "      <td>1018</td>\n",
       "      <td>Ziyaa</td>\n",
       "    </tr>\n",
       "    <tr>\n",
       "      <th>1018</th>\n",
       "      <td>1019</td>\n",
       "      <td>Zoella</td>\n",
       "    </tr>\n",
       "    <tr>\n",
       "      <th>1019</th>\n",
       "      <td>1020</td>\n",
       "      <td>Zola</td>\n",
       "    </tr>\n",
       "  </tbody>\n",
       "</table>\n",
       "<p>1020 rows × 2 columns</p>\n",
       "</div>"
      ],
      "text/plain": [
       "      brand_id    brand_name\n",
       "0            1           513\n",
       "1            2          109F\n",
       "2            3     20Dresses\n",
       "3            4   250 Designs\n",
       "4            5          3Pin\n",
       "...        ...           ...\n",
       "1015      1016  Ziva Fashion\n",
       "1016      1017        Zivame\n",
       "1017      1018         Ziyaa\n",
       "1018      1019        Zoella\n",
       "1019      1020          Zola\n",
       "\n",
       "[1020 rows x 2 columns]"
      ]
     },
     "execution_count": 4,
     "metadata": {},
     "output_type": "execute_result"
    }
   ],
   "source": [
    "brand_details = pd.read_excel(r\".\\fashion brand details.xlsx\")\n",
    "brand_details"
   ]
  },
  {
   "cell_type": "markdown",
   "id": "40eb46cb",
   "metadata": {},
   "source": [
    ">Counting the number of unique brand names in the brand details dataset"
   ]
  },
  {
   "cell_type": "code",
   "execution_count": 5,
   "id": "56716f86",
   "metadata": {},
   "outputs": [
    {
     "data": {
      "text/plain": [
       "1020"
      ]
     },
     "execution_count": 5,
     "metadata": {},
     "output_type": "execute_result"
    }
   ],
   "source": [
    "len(pd.unique(brand_details['brand_name']))"
   ]
  },
  {
   "cell_type": "markdown",
   "id": "c7b8a6be",
   "metadata": {},
   "source": [
    ">Finding the number of null and duplicated values in each dataset"
   ]
  },
  {
   "cell_type": "code",
   "execution_count": 6,
   "id": "aa8cecc0",
   "metadata": {},
   "outputs": [
    {
     "data": {
      "text/plain": [
       "brand_id      0\n",
       "brand_name    0\n",
       "dtype: int64"
      ]
     },
     "execution_count": 6,
     "metadata": {},
     "output_type": "execute_result"
    }
   ],
   "source": [
    "brand_details.isna().sum()"
   ]
  },
  {
   "cell_type": "code",
   "execution_count": 7,
   "id": "ad8e8b0c",
   "metadata": {},
   "outputs": [
    {
     "data": {
      "text/plain": [
       "p_id              18\n",
       "name              19\n",
       "price             19\n",
       "colour            22\n",
       "brand             24\n",
       "ratingCount     7748\n",
       "avg_rating      7748\n",
       "description       19\n",
       "p_attributes      19\n",
       "dtype: int64"
      ]
     },
     "execution_count": 7,
     "metadata": {},
     "output_type": "execute_result"
    }
   ],
   "source": [
    "fashion_dataset.isna().sum()"
   ]
  },
  {
   "cell_type": "code",
   "execution_count": 8,
   "id": "06b9712b",
   "metadata": {},
   "outputs": [
    {
     "data": {
      "text/plain": [
       "0"
      ]
     },
     "execution_count": 8,
     "metadata": {},
     "output_type": "execute_result"
    }
   ],
   "source": [
    "brand_details.duplicated().sum()"
   ]
  },
  {
   "cell_type": "code",
   "execution_count": 9,
   "id": "3e18ce56",
   "metadata": {},
   "outputs": [
    {
     "data": {
      "text/plain": [
       "59"
      ]
     },
     "execution_count": 9,
     "metadata": {},
     "output_type": "execute_result"
    }
   ],
   "source": [
    "fashion_dataset.duplicated().sum()"
   ]
  },
  {
   "cell_type": "markdown",
   "id": "8deda2e0",
   "metadata": {},
   "source": [
    ">Testing out duplicate dropping"
   ]
  },
  {
   "cell_type": "code",
   "execution_count": 10,
   "id": "e1853c6e",
   "metadata": {},
   "outputs": [
    {
     "data": {
      "text/plain": [
       "1021"
      ]
     },
     "execution_count": 10,
     "metadata": {},
     "output_type": "execute_result"
    }
   ],
   "source": [
    "df_dupl = fashion_dataset.drop_duplicates(keep = \"last\")\n",
    "len(pd.unique(df_dupl[\"brand\"]))"
   ]
  },
  {
   "cell_type": "markdown",
   "id": "fa456831",
   "metadata": {},
   "source": [
    ">Dropping duplicates in fashion dataset"
   ]
  },
  {
   "cell_type": "code",
   "execution_count": 11,
   "id": "9ca86992",
   "metadata": {
    "scrolled": true
   },
   "outputs": [
    {
     "data": {
      "text/html": [
       "<div>\n",
       "<style scoped>\n",
       "    .dataframe tbody tr th:only-of-type {\n",
       "        vertical-align: middle;\n",
       "    }\n",
       "\n",
       "    .dataframe tbody tr th {\n",
       "        vertical-align: top;\n",
       "    }\n",
       "\n",
       "    .dataframe thead th {\n",
       "        text-align: right;\n",
       "    }\n",
       "</style>\n",
       "<table border=\"1\" class=\"dataframe\">\n",
       "  <thead>\n",
       "    <tr style=\"text-align: right;\">\n",
       "      <th></th>\n",
       "      <th>p_id</th>\n",
       "      <th>name</th>\n",
       "      <th>price</th>\n",
       "      <th>colour</th>\n",
       "      <th>brand</th>\n",
       "      <th>ratingCount</th>\n",
       "      <th>avg_rating</th>\n",
       "      <th>description</th>\n",
       "      <th>p_attributes</th>\n",
       "    </tr>\n",
       "  </thead>\n",
       "  <tbody>\n",
       "    <tr>\n",
       "      <th>0</th>\n",
       "      <td>1518329.0</td>\n",
       "      <td>Dupatta Bazaar White Embroidered Chiffon Dupatta</td>\n",
       "      <td>899.0</td>\n",
       "      <td>White</td>\n",
       "      <td>Dupatta Bazaar</td>\n",
       "      <td>1321.0</td>\n",
       "      <td>4.548827</td>\n",
       "      <td>White embroidered&amp;nbsp;dupattaChiffon&lt;br&gt;Hand-...</td>\n",
       "      <td>{'Occasion': 'Daily', 'Pattern': 'Embroidered'...</td>\n",
       "    </tr>\n",
       "    <tr>\n",
       "      <th>1</th>\n",
       "      <td>5829334.0</td>\n",
       "      <td>Roadster Women Mustard Yellow Solid Hooded Swe...</td>\n",
       "      <td>1199.0</td>\n",
       "      <td>Mustard</td>\n",
       "      <td>Roadster</td>\n",
       "      <td>5462.0</td>\n",
       "      <td>4.313255</td>\n",
       "      <td>Mustard yellow solid sweatshirt, has a hood, t...</td>\n",
       "      <td>{'Body Shape ID': '443,424,324', 'Body or Garm...</td>\n",
       "    </tr>\n",
       "    <tr>\n",
       "      <th>2</th>\n",
       "      <td>10340119.0</td>\n",
       "      <td>Inddus Peach-Coloured &amp; Beige Unstitched Dress...</td>\n",
       "      <td>5799.0</td>\n",
       "      <td>Peach</td>\n",
       "      <td>Inddus</td>\n",
       "      <td>145.0</td>\n",
       "      <td>4.068966</td>\n",
       "      <td>Peach-Coloured and beige woven design unstitch...</td>\n",
       "      <td>{'Bottom Fabric': 'Cotton Blend', 'Bottom Patt...</td>\n",
       "    </tr>\n",
       "    <tr>\n",
       "      <th>3</th>\n",
       "      <td>10856380.0</td>\n",
       "      <td>SASSAFRAS Women Black Parallel Trousers</td>\n",
       "      <td>1499.0</td>\n",
       "      <td>Black</td>\n",
       "      <td>SASSAFRAS</td>\n",
       "      <td>9124.0</td>\n",
       "      <td>4.147523</td>\n",
       "      <td>Black solid woven high-rise parallel trousers,...</td>\n",
       "      <td>{'Add-Ons': 'NA', 'Body Shape ID': '424', 'Bod...</td>\n",
       "    </tr>\n",
       "    <tr>\n",
       "      <th>4</th>\n",
       "      <td>12384822.0</td>\n",
       "      <td>Kotty Women Black Wide Leg High-Rise Clean Loo...</td>\n",
       "      <td>1999.0</td>\n",
       "      <td>Black</td>\n",
       "      <td>Kotty</td>\n",
       "      <td>12260.0</td>\n",
       "      <td>4.078467</td>\n",
       "      <td>Black dark wash 4-pocket high-rise jeans, clea...</td>\n",
       "      <td>{'Add-Ons': 'NA', 'Brand Fit Name': 'NA', 'Clo...</td>\n",
       "    </tr>\n",
       "    <tr>\n",
       "      <th>...</th>\n",
       "      <td>...</td>\n",
       "      <td>...</td>\n",
       "      <td>...</td>\n",
       "      <td>...</td>\n",
       "      <td>...</td>\n",
       "      <td>...</td>\n",
       "      <td>...</td>\n",
       "      <td>...</td>\n",
       "      <td>...</td>\n",
       "    </tr>\n",
       "    <tr>\n",
       "      <th>14324</th>\n",
       "      <td>17029604.0</td>\n",
       "      <td>The Chennai Silks Pink &amp; Silver-Toned Floral Z...</td>\n",
       "      <td>3999.0</td>\n",
       "      <td>Pink</td>\n",
       "      <td>The Chennai Silks</td>\n",
       "      <td>NaN</td>\n",
       "      <td>NaN</td>\n",
       "      <td>&lt;b&gt;Design Details &lt;/b&gt;&lt;ul&gt;&lt;li&gt;Pink and silver-...</td>\n",
       "      <td>{'Better Cotton Initiative': 'Regular', 'Blous...</td>\n",
       "    </tr>\n",
       "    <tr>\n",
       "      <th>14325</th>\n",
       "      <td>17600212.0</td>\n",
       "      <td>Kinder Kids Girls Blue &amp; Green Printed Foil Pr...</td>\n",
       "      <td>2050.0</td>\n",
       "      <td>Blue</td>\n",
       "      <td>Kinder Kids</td>\n",
       "      <td>NaN</td>\n",
       "      <td>NaN</td>\n",
       "      <td>Blue and green printed lehenga choli,  has foi...</td>\n",
       "      <td>{'Blouse Closure': 'NA', 'Blouse Fabric': 'Cot...</td>\n",
       "    </tr>\n",
       "    <tr>\n",
       "      <th>14326</th>\n",
       "      <td>18159266.0</td>\n",
       "      <td>KLOTTHE Women Green &amp; Black Floral Printed Pal...</td>\n",
       "      <td>1659.0</td>\n",
       "      <td>Green</td>\n",
       "      <td>KLOTTHE</td>\n",
       "      <td>NaN</td>\n",
       "      <td>NaN</td>\n",
       "      <td>&lt;ul&gt; &lt;li&gt; Green and black woven palazzos &lt;/li&gt;...</td>\n",
       "      <td>{'Body or Garment Size': 'To-Fit Denotes Body ...</td>\n",
       "    </tr>\n",
       "    <tr>\n",
       "      <th>14327</th>\n",
       "      <td>18921114.0</td>\n",
       "      <td>InWeave Women Red Printed A-Line Skirt</td>\n",
       "      <td>2399.0</td>\n",
       "      <td>Red</td>\n",
       "      <td>InWeave</td>\n",
       "      <td>NaN</td>\n",
       "      <td>NaN</td>\n",
       "      <td>&lt;p&gt;Red printed A-line skirt, has drawstring cl...</td>\n",
       "      <td>{'Add-Ons': 'NA', 'Body Shape ID': '324,333,42...</td>\n",
       "    </tr>\n",
       "    <tr>\n",
       "      <th>14328</th>\n",
       "      <td>19361058.0</td>\n",
       "      <td>BoStreet Women Navy Blue Tapered Fit Trousers</td>\n",
       "      <td>2599.0</td>\n",
       "      <td>Navy Blue</td>\n",
       "      <td>BoStreet</td>\n",
       "      <td>NaN</td>\n",
       "      <td>NaN</td>\n",
       "      <td>&lt;ul&gt; &lt;li&gt; Navy blue knitted trousers &lt;/li&gt; &lt;li...</td>\n",
       "      <td>{'Add-Ons': 'NA', 'Body Shape ID': '443,333,42...</td>\n",
       "    </tr>\n",
       "  </tbody>\n",
       "</table>\n",
       "<p>14270 rows × 9 columns</p>\n",
       "</div>"
      ],
      "text/plain": [
       "             p_id                                               name   price  \\\n",
       "0       1518329.0   Dupatta Bazaar White Embroidered Chiffon Dupatta   899.0   \n",
       "1       5829334.0  Roadster Women Mustard Yellow Solid Hooded Swe...  1199.0   \n",
       "2      10340119.0  Inddus Peach-Coloured & Beige Unstitched Dress...  5799.0   \n",
       "3      10856380.0            SASSAFRAS Women Black Parallel Trousers  1499.0   \n",
       "4      12384822.0  Kotty Women Black Wide Leg High-Rise Clean Loo...  1999.0   \n",
       "...           ...                                                ...     ...   \n",
       "14324  17029604.0  The Chennai Silks Pink & Silver-Toned Floral Z...  3999.0   \n",
       "14325  17600212.0  Kinder Kids Girls Blue & Green Printed Foil Pr...  2050.0   \n",
       "14326  18159266.0  KLOTTHE Women Green & Black Floral Printed Pal...  1659.0   \n",
       "14327  18921114.0             InWeave Women Red Printed A-Line Skirt  2399.0   \n",
       "14328  19361058.0      BoStreet Women Navy Blue Tapered Fit Trousers  2599.0   \n",
       "\n",
       "          colour              brand  ratingCount  avg_rating  \\\n",
       "0          White     Dupatta Bazaar       1321.0    4.548827   \n",
       "1        Mustard           Roadster       5462.0    4.313255   \n",
       "2          Peach             Inddus        145.0    4.068966   \n",
       "3          Black          SASSAFRAS       9124.0    4.147523   \n",
       "4          Black              Kotty      12260.0    4.078467   \n",
       "...          ...                ...          ...         ...   \n",
       "14324       Pink  The Chennai Silks          NaN         NaN   \n",
       "14325       Blue        Kinder Kids          NaN         NaN   \n",
       "14326      Green            KLOTTHE          NaN         NaN   \n",
       "14327        Red            InWeave          NaN         NaN   \n",
       "14328  Navy Blue           BoStreet          NaN         NaN   \n",
       "\n",
       "                                             description  \\\n",
       "0      White embroidered&nbsp;dupattaChiffon<br>Hand-...   \n",
       "1      Mustard yellow solid sweatshirt, has a hood, t...   \n",
       "2      Peach-Coloured and beige woven design unstitch...   \n",
       "3      Black solid woven high-rise parallel trousers,...   \n",
       "4      Black dark wash 4-pocket high-rise jeans, clea...   \n",
       "...                                                  ...   \n",
       "14324  <b>Design Details </b><ul><li>Pink and silver-...   \n",
       "14325  Blue and green printed lehenga choli,  has foi...   \n",
       "14326  <ul> <li> Green and black woven palazzos </li>...   \n",
       "14327  <p>Red printed A-line skirt, has drawstring cl...   \n",
       "14328  <ul> <li> Navy blue knitted trousers </li> <li...   \n",
       "\n",
       "                                            p_attributes  \n",
       "0      {'Occasion': 'Daily', 'Pattern': 'Embroidered'...  \n",
       "1      {'Body Shape ID': '443,424,324', 'Body or Garm...  \n",
       "2      {'Bottom Fabric': 'Cotton Blend', 'Bottom Patt...  \n",
       "3      {'Add-Ons': 'NA', 'Body Shape ID': '424', 'Bod...  \n",
       "4      {'Add-Ons': 'NA', 'Brand Fit Name': 'NA', 'Clo...  \n",
       "...                                                  ...  \n",
       "14324  {'Better Cotton Initiative': 'Regular', 'Blous...  \n",
       "14325  {'Blouse Closure': 'NA', 'Blouse Fabric': 'Cot...  \n",
       "14326  {'Body or Garment Size': 'To-Fit Denotes Body ...  \n",
       "14327  {'Add-Ons': 'NA', 'Body Shape ID': '324,333,42...  \n",
       "14328  {'Add-Ons': 'NA', 'Body Shape ID': '443,333,42...  \n",
       "\n",
       "[14270 rows x 9 columns]"
      ]
     },
     "execution_count": 11,
     "metadata": {},
     "output_type": "execute_result"
    }
   ],
   "source": [
    "fashion_dataset.drop_duplicates(inplace = True, keep = \"last\")\n",
    "fashion_dataset"
   ]
  },
  {
   "cell_type": "markdown",
   "id": "5feda8e9",
   "metadata": {},
   "source": [
    "> Expanding the p_attributes column\n"
   ]
  },
  {
   "cell_type": "code",
   "execution_count": 12,
   "id": "e14774e0",
   "metadata": {},
   "outputs": [],
   "source": [
    "fashion_dataset['p_attributes'] = fashion_dataset['p_attributes']\n",
    "not_null = pd.notnull(fashion_dataset['p_attributes'])\n",
    "fash3 = fashion_dataset[not_null]['p_attributes'].apply(lambda x: ast.literal_eval(x))\n",
    "temp = pd.DataFrame([*fash3], fash3.index)\n",
    "fashion_dataset = pd.concat([fashion_dataset, temp], axis=1)"
   ]
  },
  {
   "cell_type": "markdown",
   "id": "aabd08a7",
   "metadata": {},
   "source": [
    ">Viewing all columns of the dataset"
   ]
  },
  {
   "cell_type": "code",
   "execution_count": 13,
   "id": "7a1016fd",
   "metadata": {
    "scrolled": false
   },
   "outputs": [
    {
     "name": "stdout",
     "output_type": "stream",
     "text": [
      "['p_id', 'name', 'price', 'colour', 'brand', 'ratingCount', 'avg_rating', 'description', 'p_attributes', 'Occasion', 'Pattern', 'Print or Pattern Type', 'Body Shape ID', 'Body or Garment Size', 'Closure', 'Fabric', 'Hemline', 'Hood', 'Length', 'Neck', 'Number of Pockets', 'Pocket', 'Sleeve Length', 'Surface Styling', 'Type', 'Wash Care', 'Bottom Fabric', 'Bottom Pattern', 'Dupatta Border', 'Dupatta Fabric', 'Dupatta Pattern', 'Kurta Fabric', 'Kurta Pattern', 'Ornamentation', 'Set Content', 'Stitch', 'Technique', 'Add-Ons', 'Brand Fit Name', 'Character', 'Fabric 2', 'Features', 'Fit', 'Fly Type', 'Main Trend', 'Multipack Set', 'Sustainable', 'Type of Pleat', 'Waist Rise', 'Weave Type', 'Distress', 'Effects', 'Fabric 3', 'Fade', 'Reversible', 'Shade', 'Stretch', 'Type of Distress', 'Waistband', 'Center Front Open', 'Fabric Type', 'Lining', 'Sleeve Styling', 'Transparency', 'taxMaterial', 'Front Styling', 'Knit or Woven', 'Sport', 'Technology', 'Blouse Closure', 'Blouse Fabric', 'Choli Stitch', 'Dupatta', 'Lehenga Closure', 'Lehenga Fabric', 'Lehenga Lining Fabric', 'Lehenga Stitch', 'Regions', 'Style Tip', 'Top Pattern', 'Where-to-wear', 'Bottom Closure', 'Bottom Type', 'Top Fabric', 'Top Type', 'Trends', 'Blouse', 'Border', 'Care for me', 'Saree Fabric', 'Collar', 'Lining Fabric', 'Pattern Coverage', 'Slit Detail', 'Top Design Styling', 'Top Hemline', 'Top Length', 'Top Shape', 'Weave Pattern', 'Design Styling', 'Shape', 'Sport Team', 'Technology Present', 'Sub Trend', 'Wedding', 'Fabric Purity', 'Fusion Wear', 'Pattern Size', 'Contact Brand or Retailer for pre-sales product queries', 'Colour Family', 'Collection Name', 'Better Cotton Initiative', 'About the Brand', 'How to care for your denim', 'What it does for your body']\n"
     ]
    }
   ],
   "source": [
    "print(list(fashion_dataset.columns))"
   ]
  },
  {
   "cell_type": "markdown",
   "id": "688dfe4a",
   "metadata": {},
   "source": [
    ">Renaming columns for use in SQL and MapReduce"
   ]
  },
  {
   "cell_type": "code",
   "execution_count": 14,
   "id": "e0803ba1",
   "metadata": {},
   "outputs": [],
   "source": [
    "fashion_dataset.rename(columns={'Where-to-wear':'Where_to_wear','Dupatta Pattern':'Dupatta_Pattern', 'Kurta Pattern':'Kurta_Pattern','Bottom Pattern': 'Bottom_Pattern', 'Top Pattern': 'Top_Pattern','Print or Pattern Type': 'Print_Pattern_Type', 'Knit or Woven':'Knit_or_Woven', 'Weave Type':'Weave_Type', 'Weave Pattern':'Weave_Pattern','Dupatta Fabric':'Dupatta_Fabric','Bottom Fabric':'Bottom_Fabric', 'Top Fabric':'Top_Fabric','Fabric Purity':'Fabric_Purity', 'Fabric Type':'Fabric_Type','Blouse Fabric':'Blouse_Fabric', 'Better Cotton Initiative':'Better_Cotton', 'Saree Fabric':'Saree_Fabric', 'Colour Family':'Colour_Family'}, inplace=True)"
   ]
  },
  {
   "cell_type": "code",
   "execution_count": 15,
   "id": "0eb206c9",
   "metadata": {},
   "outputs": [
    {
     "data": {
      "text/plain": [
       "13657"
      ]
     },
     "execution_count": 15,
     "metadata": {},
     "output_type": "execute_result"
    }
   ],
   "source": [
    "fashion_dataset['Kurta_Pattern'].isna().sum()"
   ]
  },
  {
   "cell_type": "code",
   "execution_count": 16,
   "id": "0e9d5db8",
   "metadata": {},
   "outputs": [
    {
     "data": {
      "text/plain": [
       "8923"
      ]
     },
     "execution_count": 16,
     "metadata": {},
     "output_type": "execute_result"
    }
   ],
   "source": [
    "fashion_dataset['Weave_Type'].isna().sum()"
   ]
  },
  {
   "cell_type": "code",
   "execution_count": 17,
   "id": "31803547",
   "metadata": {},
   "outputs": [
    {
     "data": {
      "text/plain": [
       "12353"
      ]
     },
     "execution_count": 17,
     "metadata": {},
     "output_type": "execute_result"
    }
   ],
   "source": [
    "fashion_dataset['Knit_or_Woven'].isna().sum()"
   ]
  },
  {
   "cell_type": "code",
   "execution_count": 18,
   "id": "586c886c",
   "metadata": {},
   "outputs": [
    {
     "data": {
      "text/plain": [
       "13087"
      ]
     },
     "execution_count": 18,
     "metadata": {},
     "output_type": "execute_result"
    }
   ],
   "source": [
    "fashion_dataset['Weave_Pattern'].isna().sum()"
   ]
  },
  {
   "cell_type": "markdown",
   "id": "73a62e66",
   "metadata": {},
   "source": [
    "### Filling the Fabric column"
   ]
  },
  {
   "cell_type": "code",
   "execution_count": 19,
   "id": "44a880ab",
   "metadata": {},
   "outputs": [
    {
     "data": {
      "text/plain": [
       "array([nan, 'Cotton', 'Polyester', 'Poly Crepe', 'Polyviscose',\n",
       "       'Viscose Rayon', 'Wool', 'Pure Cotton', 'Cotton Blend',\n",
       "       'Poly Chiffon', 'Linen', 'Poly Georgette', 'Georgette',\n",
       "       'Silk Blend', 'Fleece', 'Net', 'Modal', 'Art Silk', 'Acrylic',\n",
       "       'Other', 'Polycotton', 'Nylon', 'Denim', 'Leather', 'Velvet',\n",
       "       'Liva', 'Poly Silk', 'Silk', 'Pure Silk', 'PU', 'Cotton Silk',\n",
       "       'Corduroy', 'Organza', 'Viscose Georgette', 'Wool Blend',\n",
       "       'Chiffon', 'Organic Cotton', 'Brocade', 'Faux Fur', 'Suede',\n",
       "       'Satin', 'Pure Georgette', 'Chanderi Silk', 'Crepe', 'Tencel',\n",
       "       'Elastane', 'Dupion', 'Jacquard', 'Synthetic Leather', 'Voile',\n",
       "       'Dupion Silk', 'Velour', 'Pashmina', 'Pure Crepe', 'Lyocell',\n",
       "       'Raw Silk', 'Polyester PU Coated', 'Hemp', 'Livaeco'], dtype=object)"
      ]
     },
     "execution_count": 19,
     "metadata": {},
     "output_type": "execute_result"
    }
   ],
   "source": [
    "pd.unique(fashion_dataset['Fabric'])"
   ]
  },
  {
   "cell_type": "code",
   "execution_count": 20,
   "id": "760f41da",
   "metadata": {},
   "outputs": [
    {
     "data": {
      "text/html": [
       "<div>\n",
       "<style scoped>\n",
       "    .dataframe tbody tr th:only-of-type {\n",
       "        vertical-align: middle;\n",
       "    }\n",
       "\n",
       "    .dataframe tbody tr th {\n",
       "        vertical-align: top;\n",
       "    }\n",
       "\n",
       "    .dataframe thead th {\n",
       "        text-align: right;\n",
       "    }\n",
       "</style>\n",
       "<table border=\"1\" class=\"dataframe\">\n",
       "  <thead>\n",
       "    <tr style=\"text-align: right;\">\n",
       "      <th></th>\n",
       "      <th>count(Fabric)</th>\n",
       "    </tr>\n",
       "  </thead>\n",
       "  <tbody>\n",
       "    <tr>\n",
       "      <th>0</th>\n",
       "      <td>0</td>\n",
       "    </tr>\n",
       "  </tbody>\n",
       "</table>\n",
       "</div>"
      ],
      "text/plain": [
       "   count(Fabric)\n",
       "0              0"
      ]
     },
     "execution_count": 20,
     "metadata": {},
     "output_type": "execute_result"
    }
   ],
   "source": [
    "sqldf(\"select count(Fabric) from fashion_dataset where Fabric = 'NA'\")"
   ]
  },
  {
   "cell_type": "code",
   "execution_count": 21,
   "id": "da7990c7",
   "metadata": {},
   "outputs": [
    {
     "data": {
      "text/plain": [
       "3882"
      ]
     },
     "execution_count": 21,
     "metadata": {},
     "output_type": "execute_result"
    }
   ],
   "source": [
    "fashion_dataset['Fabric'].isna().sum()"
   ]
  },
  {
   "cell_type": "code",
   "execution_count": 22,
   "id": "7338a967",
   "metadata": {},
   "outputs": [
    {
     "data": {
      "text/plain": [
       "array([nan, 'Cotton Blend', 'Viscose Rayon', 'Pure Cotton', 'Satin',\n",
       "       'Polyester', 'Poly Georgette', 'Shantoon', 'Silk Georgette',\n",
       "       'Poly Crepe', 'Organic Cotton', 'Poly Silk', 'Silk Blend',\n",
       "       'Art Silk', 'Pure Silk', 'Pure Wool', 'Poly Chiffon', 'Net',\n",
       "       'Silk Crepe', 'Silk Chiffon', 'Linen', 'NA', 'Pashmina',\n",
       "       'Jute Cotton', 'Nylon', 'Velvet', 'Voile'], dtype=object)"
      ]
     },
     "execution_count": 22,
     "metadata": {},
     "output_type": "execute_result"
    }
   ],
   "source": [
    "pd.unique(fashion_dataset['Bottom_Fabric'])"
   ]
  },
  {
   "cell_type": "code",
   "execution_count": 23,
   "id": "6dfdecd6",
   "metadata": {},
   "outputs": [],
   "source": [
    "fashion_dataset['Bottom_Fabric'] = fashion_dataset['Bottom_Fabric'].where(fashion_dataset['Bottom_Fabric'] != 'NA', None)"
   ]
  },
  {
   "cell_type": "code",
   "execution_count": 24,
   "id": "771dde5d",
   "metadata": {},
   "outputs": [
    {
     "data": {
      "text/plain": [
       "array([nan, 'Viscose Rayon', 'Organza', 'Poly Silk', 'Silk Blend',\n",
       "       'Cotton', 'Linen Blend', 'Poly Georgette', 'Pure Georgette',\n",
       "       'Art Silk', 'Net', 'Silk', 'Satin', 'NA', 'Pure Silk', 'Polyester',\n",
       "       'Brocade', 'Tissue', 'Cotton Blend', 'Silk Cotton', 'Velvet',\n",
       "       'Poly Crepe', 'Pure Cotton', 'Raw Silk', 'Polycotton',\n",
       "       'Pure Chiffon', 'Jute Silk', 'Poly Chiffon', 'Liva', 'Pure Crepe',\n",
       "       'Pure Linen', 'Supernet', 'Jute Cotton'], dtype=object)"
      ]
     },
     "execution_count": 24,
     "metadata": {},
     "output_type": "execute_result"
    }
   ],
   "source": [
    "pd.unique(fashion_dataset['Blouse_Fabric'])"
   ]
  },
  {
   "cell_type": "code",
   "execution_count": 25,
   "id": "3bf6b67a",
   "metadata": {},
   "outputs": [],
   "source": [
    "fashion_dataset['Blouse_Fabric'] = fashion_dataset['Blouse_Fabric'].where(fashion_dataset['Blouse_Fabric'] != 'NA', None)"
   ]
  },
  {
   "cell_type": "code",
   "execution_count": 26,
   "id": "d664707b",
   "metadata": {},
   "outputs": [
    {
     "data": {
      "text/plain": [
       "array([nan, 'Cotton Blend', 'Viscose Rayon', 'Pure Cotton', 'Polyester',\n",
       "       'Liva', 'Poly Crepe', 'Organic Cotton', 'Poly Silk', 'Silk Blend',\n",
       "       'Poly Georgette', 'Art Silk', 'Pure Wool', 'Net', 'Silk Chiffon',\n",
       "       'Linen', 'Poly Chanderi', 'Pure Silk', 'Chanderi Cotton',\n",
       "       'Chanderi Silk', 'Acrylic', 'Silk Georgette', 'Nylon', 'Velvet',\n",
       "       'Poly Chiffon', 'Voile'], dtype=object)"
      ]
     },
     "execution_count": 26,
     "metadata": {},
     "output_type": "execute_result"
    }
   ],
   "source": [
    "pd.unique(fashion_dataset['Top_Fabric'])"
   ]
  },
  {
   "cell_type": "code",
   "execution_count": 27,
   "id": "3a3e9b12",
   "metadata": {},
   "outputs": [
    {
     "data": {
      "text/plain": [
       "array([nan, 'Georgette', 'NA', 'Denim', 'Cotton', 'Lace', 'Crepe',\n",
       "       'Chiffon', 'Cotton Cambric', 'Net', 'Dobby', 'Scuba', 'Satin',\n",
       "       'Liva', 'Twill', 'Linen', 'Chambray', 'Velvet', 'Jacquard',\n",
       "       'Corduroy', 'Schiffli', 'Terry'], dtype=object)"
      ]
     },
     "execution_count": 27,
     "metadata": {},
     "output_type": "execute_result"
    }
   ],
   "source": [
    "pd.unique(fashion_dataset['Fabric_Type'])"
   ]
  },
  {
   "cell_type": "code",
   "execution_count": 28,
   "id": "55bff9fa",
   "metadata": {},
   "outputs": [],
   "source": [
    "fashion_dataset['Fabric_Type'] = fashion_dataset['Fabric_Type'].where(fashion_dataset['Fabric_Type'] != 'NA', None)"
   ]
  },
  {
   "cell_type": "code",
   "execution_count": 29,
   "id": "c5a3860f",
   "metadata": {},
   "outputs": [],
   "source": [
    "fashion_dataset['Fabric'] = fashion_dataset['Fabric'].combine_first(fashion_dataset['Top_Fabric'])"
   ]
  },
  {
   "cell_type": "code",
   "execution_count": 30,
   "id": "f1f3e622",
   "metadata": {},
   "outputs": [
    {
     "data": {
      "text/plain": [
       "2708"
      ]
     },
     "execution_count": 30,
     "metadata": {},
     "output_type": "execute_result"
    }
   ],
   "source": [
    "fashion_dataset['Fabric'].isna().sum()"
   ]
  },
  {
   "cell_type": "code",
   "execution_count": 31,
   "id": "7fcbcde8",
   "metadata": {},
   "outputs": [],
   "source": [
    "fashion_dataset['Fabric'] = fashion_dataset['Fabric'].combine_first(fashion_dataset['Bottom_Fabric'])"
   ]
  },
  {
   "cell_type": "code",
   "execution_count": 32,
   "id": "e250873d",
   "metadata": {},
   "outputs": [
    {
     "data": {
      "text/plain": [
       "2076"
      ]
     },
     "execution_count": 32,
     "metadata": {},
     "output_type": "execute_result"
    }
   ],
   "source": [
    "fashion_dataset['Fabric'].isna().sum()"
   ]
  },
  {
   "cell_type": "code",
   "execution_count": 33,
   "id": "0b7cd677",
   "metadata": {},
   "outputs": [],
   "source": [
    "fashion_dataset['Fabric'] = fashion_dataset['Fabric'].combine_first(fashion_dataset['Fabric_Type'])"
   ]
  },
  {
   "cell_type": "code",
   "execution_count": 34,
   "id": "188c432e",
   "metadata": {},
   "outputs": [
    {
     "data": {
      "text/plain": [
       "2025"
      ]
     },
     "execution_count": 34,
     "metadata": {},
     "output_type": "execute_result"
    }
   ],
   "source": [
    "fashion_dataset['Fabric'].isna().sum()"
   ]
  },
  {
   "cell_type": "code",
   "execution_count": 35,
   "id": "45164693",
   "metadata": {},
   "outputs": [],
   "source": [
    "fashion_dataset['Fabric'] = fashion_dataset['Fabric'].combine_first(fashion_dataset['Blouse_Fabric'])"
   ]
  },
  {
   "cell_type": "code",
   "execution_count": 36,
   "id": "ec0e0068",
   "metadata": {},
   "outputs": [
    {
     "data": {
      "text/plain": [
       "202"
      ]
     },
     "execution_count": 36,
     "metadata": {},
     "output_type": "execute_result"
    }
   ],
   "source": [
    "fashion_dataset['Fabric'].isna().sum()"
   ]
  },
  {
   "cell_type": "code",
   "execution_count": 37,
   "id": "350b464e",
   "metadata": {},
   "outputs": [
    {
     "data": {
      "text/plain": [
       "array([nan, 'Regular', 'Better Cotton Initiative'], dtype=object)"
      ]
     },
     "execution_count": 37,
     "metadata": {},
     "output_type": "execute_result"
    }
   ],
   "source": [
    "pd.unique(fashion_dataset['Better_Cotton'])"
   ]
  },
  {
   "cell_type": "code",
   "execution_count": 38,
   "id": "a967a1cf",
   "metadata": {},
   "outputs": [
    {
     "data": {
      "text/html": [
       "<div>\n",
       "<style scoped>\n",
       "    .dataframe tbody tr th:only-of-type {\n",
       "        vertical-align: middle;\n",
       "    }\n",
       "\n",
       "    .dataframe tbody tr th {\n",
       "        vertical-align: top;\n",
       "    }\n",
       "\n",
       "    .dataframe thead th {\n",
       "        text-align: right;\n",
       "    }\n",
       "</style>\n",
       "<table border=\"1\" class=\"dataframe\">\n",
       "  <thead>\n",
       "    <tr style=\"text-align: right;\">\n",
       "      <th></th>\n",
       "      <th>Better_Cotton</th>\n",
       "    </tr>\n",
       "  </thead>\n",
       "  <tbody>\n",
       "    <tr>\n",
       "      <th>0</th>\n",
       "      <td>Regular</td>\n",
       "    </tr>\n",
       "    <tr>\n",
       "      <th>1</th>\n",
       "      <td>Regular</td>\n",
       "    </tr>\n",
       "    <tr>\n",
       "      <th>2</th>\n",
       "      <td>Regular</td>\n",
       "    </tr>\n",
       "  </tbody>\n",
       "</table>\n",
       "</div>"
      ],
      "text/plain": [
       "  Better_Cotton\n",
       "0       Regular\n",
       "1       Regular\n",
       "2       Regular"
      ]
     },
     "execution_count": 38,
     "metadata": {},
     "output_type": "execute_result"
    }
   ],
   "source": [
    "sqldf(\"select Better_Cotton from fashion_dataset where Fabric is null and Better_Cotton in('Better Cotton Initiative','Regular')\")"
   ]
  },
  {
   "cell_type": "code",
   "execution_count": 39,
   "id": "6317a3dd",
   "metadata": {},
   "outputs": [],
   "source": [
    "fashion_dataset['New_Cotton'] = fashion_dataset['Better_Cotton'].replace(['Regular', 'Better Cotton Initiative'], ['Cotton',None])"
   ]
  },
  {
   "cell_type": "code",
   "execution_count": 40,
   "id": "2e78a5d3",
   "metadata": {},
   "outputs": [],
   "source": [
    "fashion_dataset['Fabric'] = fashion_dataset['Fabric'].combine_first(fashion_dataset['New_Cotton'])"
   ]
  },
  {
   "cell_type": "code",
   "execution_count": 41,
   "id": "b35540e1",
   "metadata": {},
   "outputs": [
    {
     "data": {
      "text/plain": [
       "199"
      ]
     },
     "execution_count": 41,
     "metadata": {},
     "output_type": "execute_result"
    }
   ],
   "source": [
    "fashion_dataset['Fabric'].isna().sum()"
   ]
  },
  {
   "cell_type": "code",
   "execution_count": 42,
   "id": "b79ca721",
   "metadata": {},
   "outputs": [],
   "source": [
    "pd.unique(fashion_dataset['Dupatta_Fabric'])\n",
    "fashion_dataset['Dupatta_Fabric'] = fashion_dataset['Dupatta_Fabric'].where(fashion_dataset['Dupatta_Fabric'] != 'NA', None)"
   ]
  },
  {
   "cell_type": "code",
   "execution_count": 43,
   "id": "d65f2554",
   "metadata": {},
   "outputs": [
    {
     "data": {
      "text/html": [
       "<div>\n",
       "<style scoped>\n",
       "    .dataframe tbody tr th:only-of-type {\n",
       "        vertical-align: middle;\n",
       "    }\n",
       "\n",
       "    .dataframe tbody tr th {\n",
       "        vertical-align: top;\n",
       "    }\n",
       "\n",
       "    .dataframe thead th {\n",
       "        text-align: right;\n",
       "    }\n",
       "</style>\n",
       "<table border=\"1\" class=\"dataframe\">\n",
       "  <thead>\n",
       "    <tr style=\"text-align: right;\">\n",
       "      <th></th>\n",
       "      <th>Dupatta_Fabric</th>\n",
       "    </tr>\n",
       "  </thead>\n",
       "  <tbody>\n",
       "    <tr>\n",
       "      <th>0</th>\n",
       "      <td>Net</td>\n",
       "    </tr>\n",
       "  </tbody>\n",
       "</table>\n",
       "</div>"
      ],
      "text/plain": [
       "  Dupatta_Fabric\n",
       "0            Net"
      ]
     },
     "execution_count": 43,
     "metadata": {},
     "output_type": "execute_result"
    }
   ],
   "source": [
    "sqldf(\"select Dupatta_Fabric from fashion_dataset where Dupatta_Fabric is not null and Fabric is null\")"
   ]
  },
  {
   "cell_type": "code",
   "execution_count": null,
   "id": "d0c98691",
   "metadata": {},
   "outputs": [],
   "source": [
    "sqldf(\"select Weave_Pattern, Fabric from fashion_dataset\")"
   ]
  },
  {
   "cell_type": "code",
   "execution_count": null,
   "id": "9974dcca",
   "metadata": {},
   "outputs": [],
   "source": [
    "fashion_dataset['Fabric'] = fashion_dataset['Fabric'].combine_first(fashion_dataset['Weave_Pattern'])"
   ]
  },
  {
   "cell_type": "code",
   "execution_count": null,
   "id": "47b2f68c",
   "metadata": {},
   "outputs": [],
   "source": [
    "fashion_dataset['Fabric'] = fashion_dataset['Fabric'].combine_first(fashion_dataset['Dupatta_Fabric'])"
   ]
  },
  {
   "cell_type": "code",
   "execution_count": null,
   "id": "792f509d",
   "metadata": {},
   "outputs": [],
   "source": [
    "fashion_dataset['Fabric'].isna().sum()"
   ]
  },
  {
   "cell_type": "code",
   "execution_count": null,
   "id": "a30686e8",
   "metadata": {},
   "outputs": [],
   "source": [
    "sqldf(\"select Saree_Fabric from fashion_dataset where Saree_Fabric is not null and Fabric is null\")"
   ]
  },
  {
   "cell_type": "code",
   "execution_count": null,
   "id": "147e2587",
   "metadata": {},
   "outputs": [],
   "source": [
    "fashion_dataset['Fabric'] = fashion_dataset['Fabric'].combine_first(fashion_dataset['Saree_Fabric'])"
   ]
  },
  {
   "cell_type": "code",
   "execution_count": null,
   "id": "e6fdc4e1",
   "metadata": {
    "scrolled": true
   },
   "outputs": [],
   "source": [
    "fashion_dataset['Fabric'].isna().sum()"
   ]
  },
  {
   "cell_type": "code",
   "execution_count": null,
   "id": "12bb8561",
   "metadata": {},
   "outputs": [],
   "source": [
    "fashion_dataset['Fabric'].mode()"
   ]
  },
  {
   "cell_type": "code",
   "execution_count": null,
   "id": "59fdeacc",
   "metadata": {},
   "outputs": [],
   "source": [
    "fashion_dataset.fillna({'Fabric':'Cotton'}, inplace=True)\n",
    "fashion_dataset['Fabric'].isna().sum()"
   ]
  },
  {
   "cell_type": "code",
   "execution_count": null,
   "id": "7f012b28",
   "metadata": {
    "scrolled": true
   },
   "outputs": [],
   "source": [
    "sqldf(\"select count(Fabric) from fashion_dataset where Fabric = 'NA'\")"
   ]
  },
  {
   "cell_type": "markdown",
   "id": "f835909e",
   "metadata": {},
   "source": [
    "### Viewing Weave Type & Knit or Woven"
   ]
  },
  {
   "cell_type": "code",
   "execution_count": null,
   "id": "0e3c6093",
   "metadata": {},
   "outputs": [],
   "source": [
    "pd.unique(fashion_dataset['Weave_Type'])"
   ]
  },
  {
   "cell_type": "code",
   "execution_count": null,
   "id": "a695c0e4",
   "metadata": {},
   "outputs": [],
   "source": [
    "pd.unique(fashion_dataset['Weave_Type'])"
   ]
  },
  {
   "cell_type": "code",
   "execution_count": null,
   "id": "dbb9c50c",
   "metadata": {
    "scrolled": true
   },
   "outputs": [],
   "source": [
    "pd.unique(fashion_dataset['Knit_or_Woven'])"
   ]
  },
  {
   "cell_type": "code",
   "execution_count": null,
   "id": "211a439a",
   "metadata": {},
   "outputs": [],
   "source": [
    "pd.unique(fashion_dataset['Weave_Pattern'])"
   ]
  },
  {
   "cell_type": "markdown",
   "id": "2dcab36c",
   "metadata": {},
   "source": [
    "### Formatting Weave Pattern  and Weave Type to fill Knit or Woven"
   ]
  },
  {
   "cell_type": "code",
   "execution_count": null,
   "id": "958de523",
   "metadata": {},
   "outputs": [],
   "source": [
    "fashion_dataset['Weave_Pattern_2'] = fashion_dataset['Weave_Pattern'].replace(['Regular', 'Jacquard', 'Brocade', 'Dobby', 'Khadi'], ['Woven','Woven','Woven','Woven','Woven'])"
   ]
  },
  {
   "cell_type": "code",
   "execution_count": null,
   "id": "e065dc8e",
   "metadata": {},
   "outputs": [],
   "source": [
    "pd.unique(fashion_dataset['Weave_Pattern_2'])"
   ]
  },
  {
   "cell_type": "code",
   "execution_count": null,
   "id": "9b6f36d2",
   "metadata": {},
   "outputs": [],
   "source": [
    "fashion_dataset['Weave_Type_2'] = fashion_dataset['Weave_Type'].replace(['Machine Weave',\n",
    "       'Velvet', 'Denim', 'Handloom', 'Lace', 'Chambray', 'Corduroy'], ['Woven','Woven','Woven','Woven','Knitted','Woven','Woven'])"
   ]
  },
  {
   "cell_type": "code",
   "execution_count": null,
   "id": "32aa4257",
   "metadata": {},
   "outputs": [],
   "source": [
    "pd.unique(fashion_dataset['Weave_Type_2'])"
   ]
  },
  {
   "cell_type": "markdown",
   "id": "183ac5b8",
   "metadata": {},
   "source": [
    "### Filling Knit_or_Woven"
   ]
  },
  {
   "cell_type": "code",
   "execution_count": null,
   "id": "0cd99e1b",
   "metadata": {},
   "outputs": [],
   "source": [
    "fashion_dataset['Knit_or_Woven'] = fashion_dataset['Knit_or_Woven'].combine_first(fashion_dataset['Weave_Pattern_2'])"
   ]
  },
  {
   "cell_type": "code",
   "execution_count": null,
   "id": "ac7849ea",
   "metadata": {
    "scrolled": true
   },
   "outputs": [],
   "source": [
    "fashion_dataset['Knit_or_Woven'] = fashion_dataset['Knit_or_Woven'].combine_first(fashion_dataset['Weave_Type_2'])"
   ]
  },
  {
   "cell_type": "code",
   "execution_count": null,
   "id": "498a24fc",
   "metadata": {},
   "outputs": [],
   "source": [
    "fashion_dataset['Knit_or_Woven'].isna().sum()"
   ]
  },
  {
   "cell_type": "code",
   "execution_count": null,
   "id": "e597ba86",
   "metadata": {
    "scrolled": true
   },
   "outputs": [],
   "source": [
    "pd.unique(fashion_dataset['Knit_or_Woven'])"
   ]
  },
  {
   "cell_type": "code",
   "execution_count": null,
   "id": "e22e9db1",
   "metadata": {},
   "outputs": [],
   "source": [
    "len(pd.unique(fashion_dataset['Fabric']))"
   ]
  },
  {
   "cell_type": "code",
   "execution_count": null,
   "id": "3286d649",
   "metadata": {},
   "outputs": [],
   "source": [
    "fabrics_knit = sqldf(\"select distinct Fabric from fashion_dataset where Knit_or_Woven = 'Knitted'\")"
   ]
  },
  {
   "cell_type": "code",
   "execution_count": null,
   "id": "045c0a0c",
   "metadata": {},
   "outputs": [],
   "source": [
    "fabrics_knit.isna().sum()"
   ]
  },
  {
   "cell_type": "code",
   "execution_count": null,
   "id": "91d1ae77",
   "metadata": {
    "scrolled": true
   },
   "outputs": [],
   "source": [
    "fabrics_weave = sqldf(\"select distinct Fabric from fashion_dataset where Knit_or_Woven = 'Woven'\")"
   ]
  },
  {
   "cell_type": "code",
   "execution_count": null,
   "id": "5f2d2af6",
   "metadata": {},
   "outputs": [],
   "source": [
    "fabrics_weave.isna().sum()"
   ]
  },
  {
   "cell_type": "code",
   "execution_count": null,
   "id": "4ca832aa",
   "metadata": {},
   "outputs": [],
   "source": [
    "fabrics_both = sqldf(\"select distinct Fabric from fashion_dataset where Knit_or_Woven = 'Knitted and Woven'\")"
   ]
  },
  {
   "cell_type": "code",
   "execution_count": null,
   "id": "7b368855",
   "metadata": {},
   "outputs": [],
   "source": [
    "fabrics_both.isna().sum()"
   ]
  },
  {
   "cell_type": "code",
   "execution_count": null,
   "id": "9c53237d",
   "metadata": {},
   "outputs": [],
   "source": [
    "knit_n_woven = sqldf(\"select * from fabrics_knit where fabrics_knit.Fabric in(select fabrics_weave.Fabric from fabrics_weave)\")"
   ]
  },
  {
   "cell_type": "code",
   "execution_count": null,
   "id": "a006a795",
   "metadata": {},
   "outputs": [],
   "source": [
    "knit_n_woven = sqldf(\"select * from knit_n_woven where Fabric not in ('Other')\")\n",
    "knit_n_woven"
   ]
  },
  {
   "cell_type": "code",
   "execution_count": null,
   "id": "8815a716",
   "metadata": {},
   "outputs": [],
   "source": [
    "fabrics_both = sqldf(\"select * from fabrics_both where Fabric not in (select Fabric from knit_n_woven)\")"
   ]
  },
  {
   "cell_type": "code",
   "execution_count": null,
   "id": "ee0a505d",
   "metadata": {},
   "outputs": [],
   "source": [
    "both_fabrics = ps.sqldf(\"select * from knit_n_woven union all select * from fabrics_both\")"
   ]
  },
  {
   "cell_type": "code",
   "execution_count": null,
   "id": "696d02c3",
   "metadata": {},
   "outputs": [],
   "source": [
    "both_fabrics.loc[:,'weave'] = 'Knitted and Woven'"
   ]
  },
  {
   "cell_type": "code",
   "execution_count": null,
   "id": "68ec8433",
   "metadata": {},
   "outputs": [],
   "source": [
    "fabrics_knit = sqldf(\"select * from fabrics_knit where Fabric not in (select Fabric from both_fabrics) and Fabric != 'Other'\")\n",
    "fabrics_knit.loc[:,['weave']]='Knitted'"
   ]
  },
  {
   "cell_type": "code",
   "execution_count": null,
   "id": "1a9f34e9",
   "metadata": {},
   "outputs": [],
   "source": [
    "fabrics_knit"
   ]
  },
  {
   "cell_type": "code",
   "execution_count": null,
   "id": "41570dd0",
   "metadata": {},
   "outputs": [],
   "source": [
    "fabrics_weave = sqldf(\"select * from fabrics_weave where Fabric not in (select Fabric from both_fabrics) and Fabric != 'Other'\")\n",
    "fabrics_weave.loc[:,['weave']]='Woven'"
   ]
  },
  {
   "cell_type": "code",
   "execution_count": null,
   "id": "0fbeab3b",
   "metadata": {},
   "outputs": [],
   "source": [
    "fabrics_weave"
   ]
  },
  {
   "cell_type": "code",
   "execution_count": null,
   "id": "94e2158e",
   "metadata": {},
   "outputs": [],
   "source": [
    "fabric_weave_type = sqldf(\"select * from fabrics_weave union all select * from fabrics_knit union all select * from both_fabrics\")\n",
    "fabric_weave_type"
   ]
  },
  {
   "cell_type": "code",
   "execution_count": null,
   "id": "1e418400",
   "metadata": {},
   "outputs": [],
   "source": [
    "fashion_dataset = sqldf(\"select fashion_dataset.*, fabric_weave_type.weave from fashion_dataset left join fabric_weave_type on (fabric_weave_type.Fabric=fashion_dataset.Fabric)\")"
   ]
  },
  {
   "cell_type": "code",
   "execution_count": null,
   "id": "1fe0c5ed",
   "metadata": {},
   "outputs": [],
   "source": [
    "fashion_dataset['Knit_or_Woven'] = fashion_dataset['Knit_or_Woven'].combine_first(fashion_dataset['weave'])"
   ]
  },
  {
   "cell_type": "code",
   "execution_count": null,
   "id": "1f38cdf2",
   "metadata": {
    "scrolled": true
   },
   "outputs": [],
   "source": [
    "fashion_dataset['Knit_or_Woven'].isna().sum()"
   ]
  },
  {
   "cell_type": "markdown",
   "id": "27975b8f",
   "metadata": {},
   "source": [
    "### Filling Occasion"
   ]
  },
  {
   "cell_type": "code",
   "execution_count": null,
   "id": "1a544ac0",
   "metadata": {},
   "outputs": [],
   "source": [
    "pd.unique(fashion_dataset['Occasion'])"
   ]
  },
  {
   "cell_type": "code",
   "execution_count": null,
   "id": "c516a9a6",
   "metadata": {},
   "outputs": [],
   "source": [
    "pd.unique(fashion_dataset['Where_to_wear'])"
   ]
  },
  {
   "cell_type": "code",
   "execution_count": null,
   "id": "c4c1ec26",
   "metadata": {},
   "outputs": [],
   "source": [
    "where_to = sqldf(\"select Where_to_wear, Occasion from fashion_dataset where Occasion is not null and Where_to_wear is not null\")\n",
    "where_to"
   ]
  },
  {
   "cell_type": "code",
   "execution_count": null,
   "id": "9bfdcb85",
   "metadata": {},
   "outputs": [],
   "source": [
    "wear = sqldf(\"select distinct Where_to_wear from fashion_dataset where Occasion is not null and Where_to_wear is not null\")"
   ]
  },
  {
   "cell_type": "code",
   "execution_count": null,
   "id": "604f4b93",
   "metadata": {},
   "outputs": [],
   "source": [
    "wear = sqldf(\"select wear.*, where_to.Occasion from wear left join where_to on (wear.Where_to_wear=where_to.Where_to_wear)\")"
   ]
  },
  {
   "cell_type": "code",
   "execution_count": null,
   "id": "722be13d",
   "metadata": {},
   "outputs": [],
   "source": [
    "wear.info()"
   ]
  },
  {
   "cell_type": "code",
   "execution_count": null,
   "id": "dfe3e53d",
   "metadata": {},
   "outputs": [],
   "source": [
    "sqldf(\"select \")"
   ]
  }
 ],
 "metadata": {
  "kernelspec": {
   "display_name": "Python 3 (ipykernel)",
   "language": "python",
   "name": "python3"
  },
  "language_info": {
   "codemirror_mode": {
    "name": "ipython",
    "version": 3
   },
   "file_extension": ".py",
   "mimetype": "text/x-python",
   "name": "python",
   "nbconvert_exporter": "python",
   "pygments_lexer": "ipython3",
   "version": "3.9.13"
  }
 },
 "nbformat": 4,
 "nbformat_minor": 5
}
