{
 "cells": [
  {
   "cell_type": "markdown",
   "id": "9c67d32e",
   "metadata": {},
   "source": [
    "# Data Analysis"
   ]
  },
  {
   "cell_type": "markdown",
   "id": "27bcab35",
   "metadata": {},
   "source": [
    ">Importing libraries"
   ]
  },
  {
   "cell_type": "code",
   "execution_count": null,
   "id": "02c28b12",
   "metadata": {},
   "outputs": [],
   "source": [
    "import pandas as pd\n",
    "import numpy as np\n",
    "import pandasql as ps\n",
    "from pandasql import sqldf\n",
    "import ast\n",
    "import random\n",
    "import matplotlib.pyplot as plt\n",
    "from sklearn.model_selection import train_test_split\n",
    "from sklearn.linear_model import LinearRegression\n",
    "from sklearn.linear_model import BayesianRidge\n",
    "from sklearn import preprocessing\n",
    "from sklearn import tree\n",
    "from sklearn.tree import DecisionTreeClassifier\n",
    "from sklearn import metrics\n",
    "from sklearn.naive_bayes import GaussianNB"
   ]
  },
  {
   "cell_type": "markdown",
   "id": "0cbebfff",
   "metadata": {},
   "source": [
    "# Data Cleaning & Transformation"
   ]
  },
  {
   "cell_type": "markdown",
   "id": "5348de0e",
   "metadata": {},
   "source": [
    ">Importing and viewing the fashion dataset\n"
   ]
  },
  {
   "cell_type": "code",
   "execution_count": null,
   "id": "58058aa0",
   "metadata": {
    "scrolled": false
   },
   "outputs": [],
   "source": [
    "fashion_dataset= pd.read_csv(r\".\\fashion dataset.csv\")\n",
    "fashion_dataset"
   ]
  },
  {
   "cell_type": "markdown",
   "id": "4db6ad60",
   "metadata": {},
   "source": [
    ">Finding the number of unique brands in the fashion dataset"
   ]
  },
  {
   "cell_type": "code",
   "execution_count": null,
   "id": "39d4ad68",
   "metadata": {},
   "outputs": [],
   "source": [
    "len(pd.unique(fashion_dataset['brand']))"
   ]
  },
  {
   "cell_type": "markdown",
   "id": "146a3cc5",
   "metadata": {},
   "source": [
    ">Importing the brand details dataset"
   ]
  },
  {
   "cell_type": "code",
   "execution_count": null,
   "id": "61fb4d4f",
   "metadata": {},
   "outputs": [],
   "source": [
    "brand_details = pd.read_excel(r\".\\fashion brand details.xlsx\")\n",
    "brand_details"
   ]
  },
  {
   "cell_type": "markdown",
   "id": "40eb46cb",
   "metadata": {},
   "source": [
    ">Counting the number of unique brand names in the brand details dataset"
   ]
  },
  {
   "cell_type": "code",
   "execution_count": null,
   "id": "56716f86",
   "metadata": {},
   "outputs": [],
   "source": [
    "len(pd.unique(brand_details['brand_name']))"
   ]
  },
  {
   "cell_type": "markdown",
   "id": "c7b8a6be",
   "metadata": {},
   "source": [
    ">Finding the number of null and duplicated values in each dataset"
   ]
  },
  {
   "cell_type": "code",
   "execution_count": null,
   "id": "aa8cecc0",
   "metadata": {},
   "outputs": [],
   "source": [
    "brand_details.isna().sum()"
   ]
  },
  {
   "cell_type": "code",
   "execution_count": null,
   "id": "ad8e8b0c",
   "metadata": {},
   "outputs": [],
   "source": [
    "fashion_dataset.isna().sum()"
   ]
  },
  {
   "cell_type": "code",
   "execution_count": null,
   "id": "06b9712b",
   "metadata": {},
   "outputs": [],
   "source": [
    "brand_details.duplicated().sum()"
   ]
  },
  {
   "cell_type": "code",
   "execution_count": null,
   "id": "3e18ce56",
   "metadata": {},
   "outputs": [],
   "source": [
    "fashion_dataset.duplicated().sum()"
   ]
  },
  {
   "cell_type": "markdown",
   "id": "8deda2e0",
   "metadata": {},
   "source": [
    ">Testing out duplicate dropping"
   ]
  },
  {
   "cell_type": "code",
   "execution_count": null,
   "id": "e1853c6e",
   "metadata": {},
   "outputs": [],
   "source": [
    "df_dupl = fashion_dataset.drop_duplicates(keep = \"last\")\n",
    "len(pd.unique(df_dupl[\"brand\"]))"
   ]
  },
  {
   "cell_type": "markdown",
   "id": "fa456831",
   "metadata": {},
   "source": [
    ">Dropping duplicates in fashion dataset"
   ]
  },
  {
   "cell_type": "code",
   "execution_count": null,
   "id": "9ca86992",
   "metadata": {
    "scrolled": true
   },
   "outputs": [],
   "source": [
    "fashion_dataset.drop_duplicates(inplace = True, keep = \"last\")\n",
    "fashion_dataset"
   ]
  },
  {
   "cell_type": "markdown",
   "id": "5feda8e9",
   "metadata": {},
   "source": [
    "> Expanding the p_attributes column\n"
   ]
  },
  {
   "cell_type": "code",
   "execution_count": null,
   "id": "e14774e0",
   "metadata": {},
   "outputs": [],
   "source": [
    "fashion_dataset['p_attributes'] = fashion_dataset['p_attributes']\n",
    "not_null = pd.notnull(fashion_dataset['p_attributes'])\n",
    "fash3 = fashion_dataset[not_null]['p_attributes'].apply(lambda x: ast.literal_eval(x))\n",
    "temp = pd.DataFrame([*fash3], fash3.index)\n",
    "fashion_dataset = pd.concat([fashion_dataset, temp], axis=1)"
   ]
  },
  {
   "cell_type": "markdown",
   "id": "688dfe4a",
   "metadata": {},
   "source": [
    ">Renaming columns for use in SQL and MapReduce"
   ]
  },
  {
   "cell_type": "code",
   "execution_count": null,
   "id": "e0803ba1",
   "metadata": {},
   "outputs": [],
   "source": [
    "fashion_dataset.rename(columns={'Dupatta Pattern':'Dupatta_Pattern', 'Kurta Pattern':'Kurta_Pattern','Bottom Pattern': 'Bottom_Pattern', 'Top Pattern': 'Top_Pattern','Print or Pattern Type': 'Print_Pattern_Type', 'Knit or Woven':'Knit_or_Woven', 'Weave Type':'Weave_Type', 'Weave Pattern':'Weave_Pattern'}, inplace=True)"
   ]
  },
  {
   "cell_type": "code",
   "execution_count": null,
   "id": "0eb206c9",
   "metadata": {},
   "outputs": [],
   "source": [
    "fashion_dataset['Kurta_Pattern'].isna().sum()"
   ]
  },
  {
   "cell_type": "code",
   "execution_count": null,
   "id": "0e9d5db8",
   "metadata": {},
   "outputs": [],
   "source": [
    "fashion_dataset['Weave_Type'].isna().sum()"
   ]
  },
  {
   "cell_type": "code",
   "execution_count": null,
   "id": "31803547",
   "metadata": {},
   "outputs": [],
   "source": [
    "fashion_dataset['Knit_or_Woven'].isna().sum()"
   ]
  },
  {
   "cell_type": "code",
   "execution_count": null,
   "id": "586c886c",
   "metadata": {},
   "outputs": [],
   "source": [
    "fashion_dataset['Weave_Pattern'].isna().sum()"
   ]
  },
  {
   "cell_type": "markdown",
   "id": "aabd08a7",
   "metadata": {},
   "source": [
    ">Viewing all columns of the dataset"
   ]
  },
  {
   "cell_type": "code",
   "execution_count": null,
   "id": "7a1016fd",
   "metadata": {
    "scrolled": false
   },
   "outputs": [],
   "source": [
    "print(list(fashion_dataset.columns))"
   ]
  },
  {
   "cell_type": "markdown",
   "id": "f835909e",
   "metadata": {},
   "source": [
    "### Viewing Weave Type & Knit or Woven"
   ]
  },
  {
   "cell_type": "markdown",
   "id": "73a62e66",
   "metadata": {},
   "source": [
    ">Fill Weave Type with Fabric also. Check which fabrics are woven and which ones are knit"
   ]
  },
  {
   "cell_type": "code",
   "execution_count": null,
   "id": "44a880ab",
   "metadata": {},
   "outputs": [],
   "source": [
    "pd.unique(fashion_dataset['Fabric'])"
   ]
  },
  {
   "cell_type": "code",
   "execution_count": null,
   "id": "316d8848",
   "metadata": {},
   "outputs": [],
   "source": [
    "pd.unique(fashion_dataset['Weave_Type'])"
   ]
  },
  {
   "cell_type": "code",
   "execution_count": null,
   "id": "a695c0e4",
   "metadata": {},
   "outputs": [],
   "source": [
    "pd.unique(fashion_dataset['Weave_Type'])"
   ]
  },
  {
   "cell_type": "code",
   "execution_count": null,
   "id": "dbb9c50c",
   "metadata": {
    "scrolled": true
   },
   "outputs": [],
   "source": [
    "pd.unique(fashion_dataset['Knit_or_Woven'])"
   ]
  },
  {
   "cell_type": "code",
   "execution_count": null,
   "id": "211a439a",
   "metadata": {},
   "outputs": [],
   "source": [
    "pd.unique(fashion_dataset['Weave_Pattern'])"
   ]
  },
  {
   "cell_type": "markdown",
   "id": "2dcab36c",
   "metadata": {},
   "source": [
    "### Formatting Weave Pattern  and Weave Type to fill Knot or Woven"
   ]
  },
  {
   "cell_type": "code",
   "execution_count": null,
   "id": "958de523",
   "metadata": {},
   "outputs": [],
   "source": [
    "fashion_dataset['Weave_Pattern'] = fashion_dataset['Weave_Pattern'].replace(['Regular', 'Jacquard', 'Brocade', 'Dobby', 'Khadi'], ['Woven','Woven','Woven','Woven','Woven'])"
   ]
  },
  {
   "cell_type": "code",
   "execution_count": null,
   "id": "e065dc8e",
   "metadata": {},
   "outputs": [],
   "source": [
    "pd.unique(fashion_dataset['Weave_Pattern'])"
   ]
  },
  {
   "cell_type": "code",
   "execution_count": null,
   "id": "9b6f36d2",
   "metadata": {},
   "outputs": [],
   "source": [
    "fashion_dataset['Weave_Type'] = fashion_dataset['Weave_Type'].replace(['Machine Weave',\n",
    "       'Velvet', 'Denim', 'Handloom', 'Lace', 'Chambray', 'Corduroy'], ['Woven','Woven','Woven','Woven','Knitted','Woven','Woven'])"
   ]
  },
  {
   "cell_type": "code",
   "execution_count": null,
   "id": "32aa4257",
   "metadata": {},
   "outputs": [],
   "source": [
    "pd.unique(fashion_dataset['Weave_Type'])"
   ]
  },
  {
   "cell_type": "markdown",
   "id": "4c265693",
   "metadata": {},
   "source": [
    "> Use 'Occasion', 'Print or Pattern Type', 'Pattern', 'Top Pattern', 'Bottom Pattern', 'Dupatta Pattern', 'Kurta Pattern', 'Weave Pattern', 'Knit or Woven', 'Sustainable', 'Sport', 'Fusion_Wear'"
   ]
  },
  {
   "cell_type": "markdown",
   "id": "52f78cf5",
   "metadata": {},
   "source": [
    "### Merging the datasets"
   ]
  },
  {
   "cell_type": "code",
   "execution_count": null,
   "id": "ad56bf91",
   "metadata": {},
   "outputs": [],
   "source": [
    "merged_dataset = ps.sqldf(\"select fashion_dataset.p_id, fashion_dataset.name, fashion_dataset.price, fashion_dataset.colour, brand_details.*, fashion_dataset.brand, fashion_dataset.ratingCount, fashion_dataset.avg_rating, fashion_dataset.Occasion, fashion_dataset.Print_Pattern_Type, fashion_dataset.Pattern, fashion_dataset.Top_Pattern, fashion_dataset.Bottom_Pattern, fashion_dataset.Dupatta_Pattern, fashion_dataset.Kurta_Pattern, fashion_dataset.Sustainable, fashion_dataset.Weave_Type, fashion_dataset.Knit_or_Woven,fashion_dataset.Weave_Pattern, fashion_dataset.Fabric from fashion_dataset left join brand_details on (fashion_dataset.brand = brand_details.brand_name)\")\n",
    "merged_dataset"
   ]
  },
  {
   "cell_type": "markdown",
   "id": "40c2042d",
   "metadata": {},
   "source": [
    "### Dropping unnecessary null values"
   ]
  },
  {
   "cell_type": "code",
   "execution_count": null,
   "id": "66271e72",
   "metadata": {},
   "outputs": [],
   "source": [
    "merged_dataset.isna().sum()"
   ]
  },
  {
   "cell_type": "code",
   "execution_count": null,
   "id": "f4cd4811",
   "metadata": {},
   "outputs": [],
   "source": [
    "sqldf(\"select * from merged_dataset where p_id is null\")"
   ]
  },
  {
   "cell_type": "code",
   "execution_count": null,
   "id": "b4d32fc4",
   "metadata": {},
   "outputs": [],
   "source": [
    "merged_dataset.dropna(subset = \"p_id\", inplace = True)\n",
    "merged_dataset.isna().sum()"
   ]
  },
  {
   "cell_type": "code",
   "execution_count": null,
   "id": "82ba8b0f",
   "metadata": {},
   "outputs": [],
   "source": [
    "sqldf(\"select * from merged_dataset where name is null\")"
   ]
  },
  {
   "cell_type": "code",
   "execution_count": null,
   "id": "747bb813",
   "metadata": {
    "scrolled": true
   },
   "outputs": [],
   "source": [
    "merged_dataset.dropna(subset = \"name\", inplace = True)\n",
    "merged_dataset.isna().sum()"
   ]
  },
  {
   "cell_type": "markdown",
   "id": "c1ce0a41",
   "metadata": {},
   "source": [
    ">Upon inspection, the rows where brand was null were duplicate rows, and were therefore dropped."
   ]
  },
  {
   "cell_type": "code",
   "execution_count": null,
   "id": "09f4ace7",
   "metadata": {},
   "outputs": [],
   "source": [
    "merged_dataset.dropna(subset = \"brand\", inplace = True)\n",
    "merged_dataset.isna().sum()"
   ]
  },
  {
   "cell_type": "markdown",
   "id": "1d8100a2",
   "metadata": {},
   "source": [
    ">Finding why there are null brand name and brand ID values"
   ]
  },
  {
   "cell_type": "code",
   "execution_count": null,
   "id": "99adeca8",
   "metadata": {},
   "outputs": [],
   "source": [
    "sqldf(\"select distinct brand from merged_dataset where brand_id is null\")"
   ]
  },
  {
   "cell_type": "code",
   "execution_count": null,
   "id": "37bd7135",
   "metadata": {},
   "outputs": [],
   "source": [
    "sqldf(\"select distinct brand, brand_id from merged_dataset order by brand_id asc\")"
   ]
  },
  {
   "cell_type": "code",
   "execution_count": null,
   "id": "d73e2b81",
   "metadata": {},
   "outputs": [],
   "source": [
    "sqldf(\"select distinct brand_id from merged_dataset order by brand_id asc\")"
   ]
  },
  {
   "cell_type": "code",
   "execution_count": null,
   "id": "61d64823",
   "metadata": {},
   "outputs": [],
   "source": [
    "sqldf(\"select brand_id from brand_details where brand_name = 'KASSUALLY'\")"
   ]
  },
  {
   "cell_type": "code",
   "execution_count": null,
   "id": "84a9d6bb",
   "metadata": {},
   "outputs": [],
   "source": [
    "sqldf(\"select distinct * from merged_dataset where brand is null\")"
   ]
  },
  {
   "cell_type": "code",
   "execution_count": null,
   "id": "c49bfc0e",
   "metadata": {},
   "outputs": [],
   "source": [
    "sqldf(\"select * from merged_dataset where brand_name is null\")"
   ]
  },
  {
   "cell_type": "code",
   "execution_count": null,
   "id": "cf8a0812",
   "metadata": {},
   "outputs": [],
   "source": [
    "sqldf(\"select count(distinct brand_id) from merged_dataset\")"
   ]
  },
  {
   "cell_type": "code",
   "execution_count": null,
   "id": "8f23bb0e",
   "metadata": {
    "scrolled": true
   },
   "outputs": [],
   "source": [
    "sqldf(\"select max(brand_id), brand_name from brand_details\")"
   ]
  },
  {
   "cell_type": "markdown",
   "id": "8e69b623",
   "metadata": {},
   "source": [
    "### Filling brand ID"
   ]
  },
  {
   "cell_type": "markdown",
   "id": "2107355b",
   "metadata": {},
   "source": [
    ">Getting rid of null values in brand and brand ID by assigning new IDs"
   ]
  },
  {
   "cell_type": "code",
   "execution_count": null,
   "id": "a32d9f4d",
   "metadata": {},
   "outputs": [],
   "source": [
    "new_id = sqldf(\"select distinct brand, brand_id from merged_dataset order by brand asc\")\n",
    "new_id"
   ]
  },
  {
   "cell_type": "code",
   "execution_count": null,
   "id": "83abac95",
   "metadata": {
    "scrolled": false
   },
   "outputs": [],
   "source": [
    "new_id.loc[:, 'brandID'] = range(1, 1021)\n",
    "new_id.drop('brand_id', axis = 'columns')"
   ]
  },
  {
   "cell_type": "code",
   "execution_count": null,
   "id": "b8284896",
   "metadata": {
    "scrolled": true
   },
   "outputs": [],
   "source": [
    "dataset_final = sqldf(\"select merged_dataset.*, new_id.brandID from merged_dataset left join new_id on (merged_dataset.brand = new_id.brand)\")\n",
    "dataset_final.drop(['brand_id','brand_name'], axis = 'columns', inplace = True)\n",
    "dataset_final.isna().sum()"
   ]
  },
  {
   "cell_type": "markdown",
   "id": "58f673f3",
   "metadata": {},
   "source": [
    "### Filling Print_Pattern_Type null values"
   ]
  },
  {
   "cell_type": "code",
   "execution_count": null,
   "id": "63491973",
   "metadata": {
    "scrolled": true
   },
   "outputs": [],
   "source": [
    "pd.unique(dataset_final['Print_Pattern_Type'])"
   ]
  },
  {
   "cell_type": "code",
   "execution_count": null,
   "id": "d69fcce3",
   "metadata": {
    "scrolled": true
   },
   "outputs": [],
   "source": [
    "sqldf(\"select Print_Pattern_Type, Pattern, Top_Pattern, Bottom_Pattern from dataset_final where Print_Pattern_Type is null and Top_Pattern is not null or Bottom_Pattern is not null or Pattern is not null\")"
   ]
  },
  {
   "cell_type": "code",
   "execution_count": null,
   "id": "41d29f9d",
   "metadata": {},
   "outputs": [],
   "source": [
    "dataset_final['Print_Pattern_Type'] = dataset_final['Print_Pattern_Type'].combine_first(dataset_final['Pattern'])"
   ]
  },
  {
   "cell_type": "code",
   "execution_count": null,
   "id": "9295f0d0",
   "metadata": {},
   "outputs": [],
   "source": [
    "dataset_final['Print_Pattern_Type'] = dataset_final['Print_Pattern_Type'].combine_first(dataset_final['Bottom_Pattern'])"
   ]
  },
  {
   "cell_type": "code",
   "execution_count": null,
   "id": "3f975cd6",
   "metadata": {},
   "outputs": [],
   "source": [
    "dataset_final['Print_Pattern_Type'] = dataset_final['Print_Pattern_Type'].combine_first(dataset_final['Top_Pattern'])"
   ]
  },
  {
   "cell_type": "code",
   "execution_count": null,
   "id": "5dc4cfd7",
   "metadata": {},
   "outputs": [],
   "source": [
    "dataset_final['Print_Pattern_Type'] = dataset_final['Print_Pattern_Type'].combine_first(dataset_final['Kurta_Pattern'])"
   ]
  },
  {
   "cell_type": "code",
   "execution_count": null,
   "id": "11a8e4ad",
   "metadata": {},
   "outputs": [],
   "source": [
    "dataset_final['Print_Pattern_Type'] = dataset_final['Print_Pattern_Type'].combine_first(dataset_final['Dupatta_Pattern'])"
   ]
  },
  {
   "cell_type": "code",
   "execution_count": null,
   "id": "c9b40028",
   "metadata": {},
   "outputs": [],
   "source": [
    "dataset_final.drop(['Pattern','Top_Pattern','Bottom_Pattern', 'Kurta_Pattern','Dupatta_Pattern'], axis = 'columns', inplace=True)"
   ]
  },
  {
   "cell_type": "code",
   "execution_count": null,
   "id": "b1337c36",
   "metadata": {
    "scrolled": true
   },
   "outputs": [],
   "source": [
    "dataset_final.isna().sum()"
   ]
  },
  {
   "cell_type": "markdown",
   "id": "183ac5b8",
   "metadata": {},
   "source": [
    "### Filling Knit_or_Woven"
   ]
  },
  {
   "cell_type": "code",
   "execution_count": null,
   "id": "0cd99e1b",
   "metadata": {},
   "outputs": [],
   "source": [
    "#dataset_final['Weave_Type'] = dataset_final['Weave_Type'].combine_first(dataset_final['Weave_Pattern'])"
   ]
  },
  {
   "cell_type": "code",
   "execution_count": null,
   "id": "ac7849ea",
   "metadata": {
    "scrolled": true
   },
   "outputs": [],
   "source": [
    "#dataset_final['Weave_Type'] = dataset_final['Weave_Type'].combine_first(dataset_final['Knit_or_Woven'])"
   ]
  },
  {
   "cell_type": "code",
   "execution_count": null,
   "id": "498a24fc",
   "metadata": {},
   "outputs": [],
   "source": [
    "#dataset_final.isna().sum()"
   ]
  },
  {
   "cell_type": "code",
   "execution_count": null,
   "id": "e597ba86",
   "metadata": {
    "scrolled": true
   },
   "outputs": [],
   "source": [
    "pd.unique(dataset_final['Weave_Type'])"
   ]
  },
  {
   "cell_type": "code",
   "execution_count": null,
   "id": "dc458260",
   "metadata": {},
   "outputs": [],
   "source": [
    "fabrics_knit = sqldf(\"select distinct Fabric from dataset_final where Weave_Type = 'Knitted'\")\n",
    "fabrics_knit\n",
    "#fabrics_knit.dropna(inplace =True)"
   ]
  },
  {
   "cell_type": "code",
   "execution_count": null,
   "id": "3f8cfbae",
   "metadata": {},
   "outputs": [],
   "source": [
    "#fabrics_knit.loc[:, 'weave'] = 'Knitted'"
   ]
  },
  {
   "cell_type": "code",
   "execution_count": null,
   "id": "a6e7e60e",
   "metadata": {},
   "outputs": [],
   "source": [
    "fabrics_weave = sqldf(\"select distinct Fabric from dataset_final where Weave_Type = 'Woven'\")\n",
    "fabrics_weave"
   ]
  },
  {
   "cell_type": "code",
   "execution_count": null,
   "id": "8961e309",
   "metadata": {},
   "outputs": [],
   "source": [
    "#fabrics_weave.dropna(inplace = True)"
   ]
  },
  {
   "cell_type": "code",
   "execution_count": null,
   "id": "13e8ca40",
   "metadata": {},
   "outputs": [],
   "source": [
    "#fabrics_weave.loc[:,'weave'] = 'Woven'"
   ]
  },
  {
   "cell_type": "code",
   "execution_count": null,
   "id": "7eac2d7c",
   "metadata": {},
   "outputs": [],
   "source": [
    "fabrics_both = sqldf(\"select distinct Fabric from dataset_final where Weave_Type = 'Knitted and Woven'\")\n",
    "fabrics_both\n",
    "#fabrics_both.dropna(inplace=True)"
   ]
  },
  {
   "cell_type": "code",
   "execution_count": null,
   "id": "9a892e64",
   "metadata": {},
   "outputs": [],
   "source": [
    "#fabrics_weave.loc[:,'weave'] = 'Knitted and Woven'"
   ]
  },
  {
   "cell_type": "code",
   "execution_count": null,
   "id": "fb51a3ef",
   "metadata": {},
   "outputs": [],
   "source": [
    "#dataset_final = sqldf(\"select dataset_final.*, fabrics_knit.weave from dataset_final left join fabrics_knit on (fabrics_knit.Fabric=dataset_final.Fabric)\")\n",
    "#dataset_final.isna().sum()"
   ]
  },
  {
   "cell_type": "code",
   "execution_count": null,
   "id": "3faae940",
   "metadata": {},
   "outputs": [],
   "source": []
  },
  {
   "cell_type": "code",
   "execution_count": null,
   "id": "9744d524",
   "metadata": {},
   "outputs": [],
   "source": [
    "#dataset_final.drop(['Weave_Pattern','Knit_or_Woven'], axis = 'columns', inplace=True)"
   ]
  },
  {
   "cell_type": "markdown",
   "id": "543a8224",
   "metadata": {},
   "source": [
    ">Filling in remaining null values"
   ]
  },
  {
   "cell_type": "code",
   "execution_count": null,
   "id": "bb37cfae",
   "metadata": {
    "scrolled": false
   },
   "outputs": [],
   "source": [
    "sqldf(\"select * from dataset_final where colour is null\")"
   ]
  },
  {
   "cell_type": "code",
   "execution_count": null,
   "id": "81e7882b",
   "metadata": {},
   "outputs": [],
   "source": [
    "avg_rating_mean = round(dataset_final[\"avg_rating\"].mean(),6)"
   ]
  },
  {
   "cell_type": "code",
   "execution_count": null,
   "id": "af647eb7",
   "metadata": {},
   "outputs": [],
   "source": [
    "dataset_final[\"ratingCount\"].median()"
   ]
  },
  {
   "cell_type": "code",
   "execution_count": null,
   "id": "7909e665",
   "metadata": {},
   "outputs": [],
   "source": [
    "dataset_final[\"ratingCount\"].mode()"
   ]
  },
  {
   "cell_type": "code",
   "execution_count": null,
   "id": "bef3a91d",
   "metadata": {},
   "outputs": [],
   "source": [
    "ratingCount_mean = dataset_final[\"ratingCount\"].mean()"
   ]
  },
  {
   "cell_type": "code",
   "execution_count": null,
   "id": "8deb8278",
   "metadata": {},
   "outputs": [],
   "source": [
    "dataset_final.fillna({\"colour\":\"dataset_final.mode()\",\"avg_rating\":avg_rating_mean, \"ratingCount\":ratingCount_mean, \"Print_Pattern_Type\":\"dataset_final.mode()\", \"Occasion\":\"dataset_final.mode()\"}, inplace = True)\n",
    "dataset_final.isna().sum()"
   ]
  },
  {
   "cell_type": "code",
   "execution_count": null,
   "id": "86086fe3",
   "metadata": {},
   "outputs": [],
   "source": [
    "dataset_final.info()"
   ]
  },
  {
   "cell_type": "markdown",
   "id": "189ed41e",
   "metadata": {},
   "source": [
    ">Exporting data for analysis using Apache MapReduce"
   ]
  },
  {
   "cell_type": "code",
   "execution_count": null,
   "id": "014e61dd",
   "metadata": {},
   "outputs": [],
   "source": [
    "dataset_final.to_csv(\"final_dataset.csv\", index = False)"
   ]
  },
  {
   "cell_type": "code",
   "execution_count": null,
   "id": "8ee1cd94",
   "metadata": {},
   "outputs": [],
   "source": [
    "new_dataset = dataset_final.loc[:,['p_id', 'name','price','colour','brand','ratingCount','avg_rating','brand_id']]\n",
    "new_dataset.to_csv(\"new_dataset.csv\", index = False, header = False)"
   ]
  },
  {
   "cell_type": "markdown",
   "id": "990bbec9",
   "metadata": {},
   "source": [
    " "
   ]
  },
  {
   "cell_type": "code",
   "execution_count": null,
   "id": "038d134b",
   "metadata": {
    "scrolled": true
   },
   "outputs": [],
   "source": [
    "dataset_final.info()"
   ]
  },
  {
   "cell_type": "code",
   "execution_count": null,
   "id": "714bb6c1",
   "metadata": {},
   "outputs": [],
   "source": []
  },
  {
   "cell_type": "markdown",
   "id": "ad5a41ab",
   "metadata": {},
   "source": [
    "# Machine Learning"
   ]
  },
  {
   "cell_type": "markdown",
   "id": "b3992fcd",
   "metadata": {},
   "source": [
    "## Regression Modelling"
   ]
  },
  {
   "cell_type": "markdown",
   "id": "01f96c22",
   "metadata": {},
   "source": [
    "## Pre-processing"
   ]
  },
  {
   "cell_type": "code",
   "execution_count": null,
   "id": "5d674c62",
   "metadata": {
    "scrolled": true
   },
   "outputs": [],
   "source": [
    "regression_data = dataset_final.loc[:,['price','avg_rating','ratingCount', 'brand_id','name','colour','brand','description','p_attributes']]"
   ]
  },
  {
   "cell_type": "code",
   "execution_count": null,
   "id": "63f6944d",
   "metadata": {},
   "outputs": [],
   "source": [
    "le = preprocessing.LabelEncoder()\n",
    "\n",
    "for i in regression_data.columns:\n",
    "        if regression_data[i].dtype == object:\n",
    "            regression_data[i] = le.fit_transform(regression_data[i])\n",
    "        else:\n",
    "            pass"
   ]
  },
  {
   "cell_type": "code",
   "execution_count": null,
   "id": "2b9315af",
   "metadata": {},
   "outputs": [],
   "source": [
    "regression_data"
   ]
  },
  {
   "cell_type": "code",
   "execution_count": null,
   "id": "ac58efd6",
   "metadata": {},
   "outputs": [],
   "source": [
    "x_reg = regression_data.loc[:,['price','avg_rating','ratingCount','name','colour','description','p_attributes']]\n",
    "y_reg = regression_data.loc[:,['brand_id']]"
   ]
  },
  {
   "cell_type": "markdown",
   "id": "a531b9b7",
   "metadata": {},
   "source": [
    ">Creating the training and testing datasets"
   ]
  },
  {
   "cell_type": "code",
   "execution_count": null,
   "id": "62a5d2e2",
   "metadata": {},
   "outputs": [],
   "source": [
    "x_reg_train, x_reg_test, y_reg_train, y_reg_test = train_test_split(x_reg, y_reg, test_size=0.25)\n",
    "\n",
    "print(\"Your independent training dataset contains \", x_reg_train.shape, \" rows and columns.\")\n",
    "print(\"Your independent testing dataset contains \", x_reg_test.shape, \" rows and columns.\")\n",
    "print(\"Your dependent training dataset contains \", y_reg_train.shape, \" rows and columns.\")\n",
    "print(\"Your dependent testing dataset contains \", y_reg_test.shape, \" rows and columns.\")"
   ]
  },
  {
   "cell_type": "markdown",
   "id": "63b0cb7f",
   "metadata": {},
   "source": [
    "### Linear Regression"
   ]
  },
  {
   "cell_type": "markdown",
   "id": "73f2d92d",
   "metadata": {},
   "source": [
    ">Training the model"
   ]
  },
  {
   "cell_type": "code",
   "execution_count": null,
   "id": "e854faec",
   "metadata": {},
   "outputs": [],
   "source": [
    "LR = LinearRegression()"
   ]
  },
  {
   "cell_type": "code",
   "execution_count": null,
   "id": "5342de45",
   "metadata": {},
   "outputs": [],
   "source": [
    "LR.fit(x_reg_train, y_reg_train)"
   ]
  },
  {
   "cell_type": "markdown",
   "id": "b7c5a1c2",
   "metadata": {},
   "source": [
    ">Testing the model"
   ]
  },
  {
   "cell_type": "code",
   "execution_count": null,
   "id": "f403b7a3",
   "metadata": {},
   "outputs": [],
   "source": [
    "LR_predict = LR.predict(x_reg_test)\n",
    "LR_predict"
   ]
  },
  {
   "cell_type": "code",
   "execution_count": null,
   "id": "c56cbb90",
   "metadata": {},
   "outputs": [],
   "source": [
    "print(\"Linear Regressor\")\n",
    "print(\"Mean Absolute Error: \", metrics.mean_absolute_error(y_reg_test, LR_predict))"
   ]
  },
  {
   "cell_type": "markdown",
   "id": "4265d59a",
   "metadata": {},
   "source": [
    "### Bayesian Ridge Regression"
   ]
  },
  {
   "cell_type": "code",
   "execution_count": null,
   "id": "e2d01a0b",
   "metadata": {},
   "outputs": [],
   "source": [
    "BayRidge = BayesianRidge()\n",
    "BayRidge.fit(x_reg_train, y_reg_train)"
   ]
  },
  {
   "cell_type": "code",
   "execution_count": null,
   "id": "6177b0a0",
   "metadata": {},
   "outputs": [],
   "source": [
    "BayRidge_predict = BayRidge.predict(x_reg_test)\n",
    "BayRidge_predict"
   ]
  },
  {
   "cell_type": "code",
   "execution_count": null,
   "id": "e5a52d54",
   "metadata": {},
   "outputs": [],
   "source": [
    "print(\"Bayesian Ridge Regressor\")\n",
    "print(\"Mean Absolute Error: \", metrics.mean_absolute_error(y_reg_test, BayRidge_predict))"
   ]
  },
  {
   "cell_type": "code",
   "execution_count": null,
   "id": "32e45a51",
   "metadata": {},
   "outputs": [],
   "source": [
    "dataset_final.info()"
   ]
  },
  {
   "cell_type": "markdown",
   "id": "23e18963",
   "metadata": {},
   "source": [
    " "
   ]
  },
  {
   "cell_type": "markdown",
   "id": "ff9272ae",
   "metadata": {},
   "source": [
    "## Classification Modelling"
   ]
  },
  {
   "cell_type": "markdown",
   "id": "25b27887",
   "metadata": {},
   "source": [
    ">Pre-processing"
   ]
  },
  {
   "cell_type": "code",
   "execution_count": null,
   "id": "f1a16870",
   "metadata": {},
   "outputs": [],
   "source": [
    "classification_data = dataset_final.loc[:,['name','colour','brand', 'brand_id','description','p_attributes']]\n",
    "classification_data"
   ]
  },
  {
   "cell_type": "code",
   "execution_count": null,
   "id": "44d119e4",
   "metadata": {},
   "outputs": [],
   "source": [
    "le = preprocessing.LabelEncoder()\n",
    "\n",
    "for i in classification_data.columns:\n",
    "        if classification_data[i].dtype == object:\n",
    "            classification_data[i] = le.fit_transform(classification_data[i])\n",
    "        else:\n",
    "            pass"
   ]
  },
  {
   "cell_type": "code",
   "execution_count": null,
   "id": "7c975f2c",
   "metadata": {},
   "outputs": [],
   "source": [
    "classification_data"
   ]
  },
  {
   "cell_type": "markdown",
   "id": "6dd82a2f",
   "metadata": {},
   "source": [
    ">Creating the training datasets"
   ]
  },
  {
   "cell_type": "code",
   "execution_count": null,
   "id": "d9c4b7e6",
   "metadata": {},
   "outputs": [],
   "source": [
    "x_class = classification_data.loc[:,['name','colour','description','p_attributes']]\n",
    "y_class = classification_data.loc[:,['brand']]"
   ]
  },
  {
   "cell_type": "code",
   "execution_count": null,
   "id": "2f71af46",
   "metadata": {},
   "outputs": [],
   "source": [
    "x_class"
   ]
  },
  {
   "cell_type": "code",
   "execution_count": null,
   "id": "00ec2dfc",
   "metadata": {},
   "outputs": [],
   "source": [
    "x_class_train, x_class_test, y_class_train, y_class_test = train_test_split(x_class, y_class, test_size=0.25)\n",
    "\n",
    "print(\"Your independent training dataset contains \", x_class_train.shape, \" rows and columns.\")\n",
    "print(\"Your independent testing dataset contains \", x_class_test.shape, \" rows and columns.\")\n",
    "print(\"Your dependent training dataset contains \", y_class_train.shape, \" rows and columns.\")\n",
    "print(\"Your dependent testing dataset contains \", y_class_test.shape, \" rows and columns.\")"
   ]
  },
  {
   "cell_type": "markdown",
   "id": "c8fb7520",
   "metadata": {},
   "source": [
    "### Gaussian Naive Bayes Classifier"
   ]
  },
  {
   "cell_type": "code",
   "execution_count": null,
   "id": "c25b3c0c",
   "metadata": {},
   "outputs": [],
   "source": [
    "GNB = GaussianNB()"
   ]
  },
  {
   "cell_type": "code",
   "execution_count": null,
   "id": "36650a1f",
   "metadata": {},
   "outputs": [],
   "source": [
    "GNB.fit(x_class_train, y_class_train)"
   ]
  },
  {
   "cell_type": "code",
   "execution_count": null,
   "id": "c645d9d7",
   "metadata": {},
   "outputs": [],
   "source": [
    "GNB_predict = GNB.predict(x_class_test)"
   ]
  },
  {
   "cell_type": "code",
   "execution_count": null,
   "id": "2a15524f",
   "metadata": {},
   "outputs": [],
   "source": [
    "print(\"Gaussian Naive Bayes Classifier\")\n",
    "print(\"Accuracy:\", round((metrics.accuracy_score(y_class_test, GNB_predict))*100,2),\"%\")"
   ]
  },
  {
   "cell_type": "markdown",
   "id": "f223c1bb",
   "metadata": {},
   "source": [
    "### Decision Tree Classifier"
   ]
  },
  {
   "cell_type": "code",
   "execution_count": null,
   "id": "cf9e4e23",
   "metadata": {},
   "outputs": [],
   "source": [
    "dtree = DecisionTreeClassifier()\n",
    "dtree = dtree.fit(x_class_train, y_class_train)"
   ]
  },
  {
   "cell_type": "code",
   "execution_count": null,
   "id": "fefde168",
   "metadata": {},
   "outputs": [],
   "source": [
    "dtree_predict = dtree.predict(x_class_test)"
   ]
  },
  {
   "cell_type": "code",
   "execution_count": null,
   "id": "075651ad",
   "metadata": {},
   "outputs": [],
   "source": [
    "print(\"Decision Classifier\")\n",
    "print(\"Accuracy:\", round((metrics.accuracy_score(y_class_test, dtree_predict))*100,2),\"%\")"
   ]
  }
 ],
 "metadata": {
  "kernelspec": {
   "display_name": "Python 3 (ipykernel)",
   "language": "python",
   "name": "python3"
  },
  "language_info": {
   "codemirror_mode": {
    "name": "ipython",
    "version": 3
   },
   "file_extension": ".py",
   "mimetype": "text/x-python",
   "name": "python",
   "nbconvert_exporter": "python",
   "pygments_lexer": "ipython3",
   "version": "3.9.13"
  }
 },
 "nbformat": 4,
 "nbformat_minor": 5
}
