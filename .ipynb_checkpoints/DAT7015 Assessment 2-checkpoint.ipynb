{
 "cells": [
  {
   "cell_type": "markdown",
   "id": "9c67d32e",
   "metadata": {},
   "source": [
    "# Data Analysis"
   ]
  },
  {
   "cell_type": "markdown",
   "id": "27bcab35",
   "metadata": {},
   "source": [
    ">Importing libraries"
   ]
  },
  {
   "cell_type": "code",
   "execution_count": null,
   "id": "02c28b12",
   "metadata": {},
   "outputs": [],
   "source": [
    "import pandas as pd\n",
    "import numpy as np\n",
    "import pandasql as ps\n",
    "from pandasql import sqldf\n",
    "import ast\n",
    "import random\n",
    "import matplotlib.pyplot as plt\n",
    "from sklearn.model_selection import train_test_split\n",
    "from sklearn.linear_model import LinearRegression\n",
    "from sklearn.linear_model import BayesianRidge\n",
    "from sklearn import preprocessing\n",
    "from sklearn import tree\n",
    "from sklearn.tree import DecisionTreeClassifier\n",
    "from sklearn import metrics\n",
    "from sklearn.naive_bayes import GaussianNB"
   ]
  },
  {
   "cell_type": "markdown",
   "id": "0cbebfff",
   "metadata": {},
   "source": [
    "# Data Cleaning & Transformation"
   ]
  },
  {
   "cell_type": "markdown",
   "id": "5348de0e",
   "metadata": {},
   "source": [
    ">Importing and viewing the fashion dataset\n"
   ]
  },
  {
   "cell_type": "code",
   "execution_count": null,
   "id": "58058aa0",
   "metadata": {
    "scrolled": false
   },
   "outputs": [],
   "source": [
    "fashion_dataset= pd.read_csv(r\".\\fashion dataset.csv\")\n",
    "fashion_dataset"
   ]
  },
  {
   "cell_type": "markdown",
   "id": "4db6ad60",
   "metadata": {},
   "source": [
    ">Finding the number of unique brands in the fashion dataset"
   ]
  },
  {
   "cell_type": "code",
   "execution_count": null,
   "id": "39d4ad68",
   "metadata": {},
   "outputs": [],
   "source": [
    "len(pd.unique(fashion_dataset['brand']))"
   ]
  },
  {
   "cell_type": "markdown",
   "id": "146a3cc5",
   "metadata": {},
   "source": [
    ">Importing the brand details dataset"
   ]
  },
  {
   "cell_type": "code",
   "execution_count": null,
   "id": "61fb4d4f",
   "metadata": {},
   "outputs": [],
   "source": [
    "brand_details = pd.read_excel(r\".\\fashion brand details.xlsx\")\n",
    "brand_details"
   ]
  },
  {
   "cell_type": "markdown",
   "id": "40eb46cb",
   "metadata": {},
   "source": [
    ">Counting the number of unique brand names in the brand details dataset"
   ]
  },
  {
   "cell_type": "code",
   "execution_count": null,
   "id": "56716f86",
   "metadata": {},
   "outputs": [],
   "source": [
    "len(pd.unique(brand_details['brand_name']))"
   ]
  },
  {
   "cell_type": "markdown",
   "id": "c7b8a6be",
   "metadata": {},
   "source": [
    ">Finding the number of null and duplicated values in each dataset"
   ]
  },
  {
   "cell_type": "code",
   "execution_count": null,
   "id": "aa8cecc0",
   "metadata": {},
   "outputs": [],
   "source": [
    "brand_details.isna().sum()"
   ]
  },
  {
   "cell_type": "code",
   "execution_count": null,
   "id": "ad8e8b0c",
   "metadata": {},
   "outputs": [],
   "source": [
    "fashion_dataset.isna().sum()"
   ]
  },
  {
   "cell_type": "code",
   "execution_count": null,
   "id": "06b9712b",
   "metadata": {},
   "outputs": [],
   "source": [
    "brand_details.duplicated().sum()"
   ]
  },
  {
   "cell_type": "code",
   "execution_count": null,
   "id": "3e18ce56",
   "metadata": {},
   "outputs": [],
   "source": [
    "fashion_dataset.duplicated().sum()"
   ]
  },
  {
   "cell_type": "markdown",
   "id": "8deda2e0",
   "metadata": {},
   "source": [
    ">Testing out duplicate dropping"
   ]
  },
  {
   "cell_type": "code",
   "execution_count": null,
   "id": "e1853c6e",
   "metadata": {},
   "outputs": [],
   "source": [
    "df_dupl = fashion_dataset.drop_duplicates(keep = \"last\")\n",
    "len(pd.unique(df_dupl[\"brand\"]))"
   ]
  },
  {
   "cell_type": "markdown",
   "id": "fa456831",
   "metadata": {},
   "source": [
    ">Dropping duplicates in fashion dataset"
   ]
  },
  {
   "cell_type": "code",
   "execution_count": null,
   "id": "9ca86992",
   "metadata": {
    "scrolled": true
   },
   "outputs": [],
   "source": [
    "fashion_dataset.drop_duplicates(inplace = True, keep = \"last\")\n",
    "fashion_dataset"
   ]
  },
  {
   "cell_type": "markdown",
   "id": "5feda8e9",
   "metadata": {},
   "source": [
    "> Expanding the p_attributes column\n"
   ]
  },
  {
   "cell_type": "code",
   "execution_count": null,
   "id": "e14774e0",
   "metadata": {},
   "outputs": [],
   "source": [
    "fashion_dataset['p_attributes'] = fashion_dataset['p_attributes']\n",
    "not_null = pd.notnull(fashion_dataset['p_attributes'])\n",
    "fash3 = fashion_dataset[not_null]['p_attributes'].apply(lambda x: ast.literal_eval(x))\n",
    "temp = pd.DataFrame([*fash3], fash3.index)\n",
    "fashion_dataset = pd.concat([fashion_dataset, temp], axis=1)"
   ]
  },
  {
   "cell_type": "markdown",
   "id": "aabd08a7",
   "metadata": {},
   "source": [
    ">Viewing all columns of the dataset"
   ]
  },
  {
   "cell_type": "code",
   "execution_count": null,
   "id": "7a1016fd",
   "metadata": {
    "scrolled": false
   },
   "outputs": [],
   "source": [
    "print(list(fashion_dataset.columns))"
   ]
  },
  {
   "cell_type": "markdown",
   "id": "688dfe4a",
   "metadata": {},
   "source": [
    ">Renaming columns for use in SQL and MapReduce"
   ]
  },
  {
   "cell_type": "code",
   "execution_count": null,
   "id": "e0803ba1",
   "metadata": {},
   "outputs": [],
   "source": [
    "fashion_dataset.rename(columns={'Where-to-wear':'Where_to_wear','Dupatta Pattern':'Dupatta_Pattern', 'Kurta Pattern':'Kurta_Pattern','Bottom Pattern': 'Bottom_Pattern', 'Top Pattern': 'Top_Pattern','Print or Pattern Type': 'Print_Pattern_Type', 'Knit or Woven':'Knit_or_Woven', 'Weave Type':'Weave_Type', 'Weave Pattern':'Weave_Pattern','Dupatta Fabric':'Dupatta_Fabric','Bottom Fabric':'Bottom_Fabric', 'Top Fabric':'Top_Fabric','Fabric Purity':'Fabric_Purity', 'Fabric Type':'Fabric_Type','Blouse Fabric':'Blouse_Fabric', 'Better Cotton Initiative':'Better_Cotton', 'Saree Fabric':'Saree_Fabric', 'Colour Family':'Colour_Family'}, inplace=True)"
   ]
  },
  {
   "cell_type": "code",
   "execution_count": null,
   "id": "0eb206c9",
   "metadata": {},
   "outputs": [],
   "source": [
    "fashion_dataset['Kurta_Pattern'].isna().sum()"
   ]
  },
  {
   "cell_type": "code",
   "execution_count": null,
   "id": "0e9d5db8",
   "metadata": {},
   "outputs": [],
   "source": [
    "fashion_dataset['Weave_Type'].isna().sum()"
   ]
  },
  {
   "cell_type": "code",
   "execution_count": null,
   "id": "31803547",
   "metadata": {},
   "outputs": [],
   "source": [
    "fashion_dataset['Knit_or_Woven'].isna().sum()"
   ]
  },
  {
   "cell_type": "code",
   "execution_count": null,
   "id": "586c886c",
   "metadata": {},
   "outputs": [],
   "source": [
    "fashion_dataset['Weave_Pattern'].isna().sum()"
   ]
  },
  {
   "cell_type": "markdown",
   "id": "73a62e66",
   "metadata": {},
   "source": [
    "### Filling the Fabric column"
   ]
  },
  {
   "cell_type": "code",
   "execution_count": null,
   "id": "44a880ab",
   "metadata": {},
   "outputs": [],
   "source": [
    "pd.unique(fashion_dataset['Fabric'])"
   ]
  },
  {
   "cell_type": "code",
   "execution_count": null,
   "id": "760f41da",
   "metadata": {},
   "outputs": [],
   "source": [
    "sqldf(\"select count(Fabric) from fashion_dataset where Fabric = 'NA'\")"
   ]
  },
  {
   "cell_type": "code",
   "execution_count": null,
   "id": "da7990c7",
   "metadata": {},
   "outputs": [],
   "source": [
    "fashion_dataset['Fabric'].isna().sum()"
   ]
  },
  {
   "cell_type": "code",
   "execution_count": null,
   "id": "7338a967",
   "metadata": {},
   "outputs": [],
   "source": [
    "pd.unique(fashion_dataset['Bottom_Fabric'])"
   ]
  },
  {
   "cell_type": "code",
   "execution_count": null,
   "id": "6dfdecd6",
   "metadata": {},
   "outputs": [],
   "source": [
    "fashion_dataset['Bottom_Fabric'] = fashion_dataset['Bottom_Fabric'].where(fashion_dataset['Bottom_Fabric'] != 'NA', None)"
   ]
  },
  {
   "cell_type": "code",
   "execution_count": null,
   "id": "771dde5d",
   "metadata": {},
   "outputs": [],
   "source": [
    "pd.unique(fashion_dataset['Blouse_Fabric'])"
   ]
  },
  {
   "cell_type": "code",
   "execution_count": null,
   "id": "3bf6b67a",
   "metadata": {},
   "outputs": [],
   "source": [
    "fashion_dataset['Blouse_Fabric'] = fashion_dataset['Blouse_Fabric'].where(fashion_dataset['Blouse_Fabric'] != 'NA', None)"
   ]
  },
  {
   "cell_type": "code",
   "execution_count": null,
   "id": "d664707b",
   "metadata": {},
   "outputs": [],
   "source": [
    "pd.unique(fashion_dataset['Top_Fabric'])"
   ]
  },
  {
   "cell_type": "code",
   "execution_count": null,
   "id": "3a3e9b12",
   "metadata": {},
   "outputs": [],
   "source": [
    "pd.unique(fashion_dataset['Fabric_Type'])"
   ]
  },
  {
   "cell_type": "code",
   "execution_count": null,
   "id": "55bff9fa",
   "metadata": {},
   "outputs": [],
   "source": [
    "fashion_dataset['Fabric_Type'] = fashion_dataset['Fabric_Type'].where(fashion_dataset['Fabric_Type'] != 'NA', None)"
   ]
  },
  {
   "cell_type": "code",
   "execution_count": null,
   "id": "c5a3860f",
   "metadata": {},
   "outputs": [],
   "source": [
    "fashion_dataset['Fabric'] = fashion_dataset['Fabric'].combine_first(fashion_dataset['Top_Fabric'])"
   ]
  },
  {
   "cell_type": "code",
   "execution_count": null,
   "id": "f1f3e622",
   "metadata": {},
   "outputs": [],
   "source": [
    "fashion_dataset['Fabric'].isna().sum()"
   ]
  },
  {
   "cell_type": "code",
   "execution_count": null,
   "id": "7fcbcde8",
   "metadata": {},
   "outputs": [],
   "source": [
    "fashion_dataset['Fabric'] = fashion_dataset['Fabric'].combine_first(fashion_dataset['Bottom_Fabric'])"
   ]
  },
  {
   "cell_type": "code",
   "execution_count": null,
   "id": "e250873d",
   "metadata": {},
   "outputs": [],
   "source": [
    "fashion_dataset['Fabric'].isna().sum()"
   ]
  },
  {
   "cell_type": "code",
   "execution_count": null,
   "id": "0b7cd677",
   "metadata": {},
   "outputs": [],
   "source": [
    "fashion_dataset['Fabric'] = fashion_dataset['Fabric'].combine_first(fashion_dataset['Fabric_Type'])"
   ]
  },
  {
   "cell_type": "code",
   "execution_count": null,
   "id": "188c432e",
   "metadata": {},
   "outputs": [],
   "source": [
    "fashion_dataset['Fabric'].isna().sum()"
   ]
  },
  {
   "cell_type": "code",
   "execution_count": null,
   "id": "45164693",
   "metadata": {},
   "outputs": [],
   "source": [
    "fashion_dataset['Fabric'] = fashion_dataset['Fabric'].combine_first(fashion_dataset['Blouse_Fabric'])"
   ]
  },
  {
   "cell_type": "code",
   "execution_count": null,
   "id": "ec0e0068",
   "metadata": {},
   "outputs": [],
   "source": [
    "fashion_dataset['Fabric'].isna().sum()"
   ]
  },
  {
   "cell_type": "code",
   "execution_count": null,
   "id": "350b464e",
   "metadata": {},
   "outputs": [],
   "source": [
    "pd.unique(fashion_dataset['Better_Cotton'])"
   ]
  },
  {
   "cell_type": "code",
   "execution_count": null,
   "id": "a967a1cf",
   "metadata": {},
   "outputs": [],
   "source": [
    "sqldf(\"select Better_Cotton from fashion_dataset where Fabric is null and Better_Cotton in('Better Cotton Initiative','Regular')\")"
   ]
  },
  {
   "cell_type": "code",
   "execution_count": null,
   "id": "6317a3dd",
   "metadata": {},
   "outputs": [],
   "source": [
    "fashion_dataset['New_Cotton'] = fashion_dataset['Better_Cotton'].replace(['Regular', 'Better Cotton Initiative'], ['Cotton',None])"
   ]
  },
  {
   "cell_type": "code",
   "execution_count": null,
   "id": "2e78a5d3",
   "metadata": {},
   "outputs": [],
   "source": [
    "fashion_dataset['Fabric'] = fashion_dataset['Fabric'].combine_first(fashion_dataset['New_Cotton'])"
   ]
  },
  {
   "cell_type": "code",
   "execution_count": null,
   "id": "b35540e1",
   "metadata": {},
   "outputs": [],
   "source": [
    "fashion_dataset['Fabric'].isna().sum()"
   ]
  },
  {
   "cell_type": "code",
   "execution_count": null,
   "id": "b79ca721",
   "metadata": {},
   "outputs": [],
   "source": [
    "pd.unique(fashion_dataset['Dupatta_Fabric'])\n",
    "fashion_dataset['Dupatta_Fabric'] = fashion_dataset['Dupatta_Fabric'].where(fashion_dataset['Dupatta_Fabric'] != 'NA', None)"
   ]
  },
  {
   "cell_type": "code",
   "execution_count": null,
   "id": "d65f2554",
   "metadata": {},
   "outputs": [],
   "source": [
    "sqldf(\"select Dupatta_Fabric from fashion_dataset where Dupatta_Fabric is not null and Fabric is null\")"
   ]
  },
  {
   "cell_type": "code",
   "execution_count": null,
   "id": "d0c98691",
   "metadata": {},
   "outputs": [],
   "source": [
    "sqldf(\"select Weave_Pattern, Fabric from fashion_dataset\")"
   ]
  },
  {
   "cell_type": "code",
   "execution_count": null,
   "id": "9974dcca",
   "metadata": {},
   "outputs": [],
   "source": [
    "fashion_dataset['Fabric'] = fashion_dataset['Fabric'].combine_first(fashion_dataset['Weave_Pattern'])"
   ]
  },
  {
   "cell_type": "code",
   "execution_count": null,
   "id": "47b2f68c",
   "metadata": {},
   "outputs": [],
   "source": [
    "fashion_dataset['Fabric'] = fashion_dataset['Fabric'].combine_first(fashion_dataset['Dupatta_Fabric'])"
   ]
  },
  {
   "cell_type": "code",
   "execution_count": null,
   "id": "792f509d",
   "metadata": {},
   "outputs": [],
   "source": [
    "fashion_dataset['Fabric'].isna().sum()"
   ]
  },
  {
   "cell_type": "code",
   "execution_count": null,
   "id": "a30686e8",
   "metadata": {},
   "outputs": [],
   "source": [
    "sqldf(\"select Saree_Fabric from fashion_dataset where Saree_Fabric is not null and Fabric is null\")"
   ]
  },
  {
   "cell_type": "code",
   "execution_count": null,
   "id": "147e2587",
   "metadata": {},
   "outputs": [],
   "source": [
    "fashion_dataset['Fabric'] = fashion_dataset['Fabric'].combine_first(fashion_dataset['Saree_Fabric'])"
   ]
  },
  {
   "cell_type": "code",
   "execution_count": null,
   "id": "e6fdc4e1",
   "metadata": {
    "scrolled": true
   },
   "outputs": [],
   "source": [
    "fashion_dataset['Fabric'].isna().sum()"
   ]
  },
  {
   "cell_type": "code",
   "execution_count": null,
   "id": "12bb8561",
   "metadata": {},
   "outputs": [],
   "source": [
    "fashion_dataset['Fabric'].mode()"
   ]
  },
  {
   "cell_type": "code",
   "execution_count": null,
   "id": "59fdeacc",
   "metadata": {},
   "outputs": [],
   "source": [
    "fashion_dataset.fillna({'Fabric':'Cotton'}, inplace=True)\n",
    "fashion_dataset['Fabric'].isna().sum()"
   ]
  },
  {
   "cell_type": "code",
   "execution_count": null,
   "id": "7f012b28",
   "metadata": {
    "scrolled": true
   },
   "outputs": [],
   "source": [
    "sqldf(\"select count(Fabric) from fashion_dataset where Fabric = 'NA'\")"
   ]
  },
  {
   "cell_type": "code",
   "execution_count": null,
   "id": "6d53e3d1",
   "metadata": {},
   "outputs": [],
   "source": []
  },
  {
   "cell_type": "code",
   "execution_count": null,
   "id": "dcff3580",
   "metadata": {},
   "outputs": [],
   "source": []
  },
  {
   "cell_type": "code",
   "execution_count": null,
   "id": "3924d586",
   "metadata": {},
   "outputs": [],
   "source": []
  },
  {
   "cell_type": "markdown",
   "id": "f835909e",
   "metadata": {},
   "source": [
    "### Viewing Weave Type & Knit or Woven"
   ]
  },
  {
   "cell_type": "code",
   "execution_count": null,
   "id": "0e3c6093",
   "metadata": {},
   "outputs": [],
   "source": [
    "pd.unique(fashion_dataset['Weave_Type'])"
   ]
  },
  {
   "cell_type": "code",
   "execution_count": null,
   "id": "a695c0e4",
   "metadata": {},
   "outputs": [],
   "source": [
    "pd.unique(fashion_dataset['Weave_Type'])"
   ]
  },
  {
   "cell_type": "code",
   "execution_count": null,
   "id": "dbb9c50c",
   "metadata": {
    "scrolled": true
   },
   "outputs": [],
   "source": [
    "pd.unique(fashion_dataset['Knit_or_Woven'])"
   ]
  },
  {
   "cell_type": "code",
   "execution_count": null,
   "id": "211a439a",
   "metadata": {},
   "outputs": [],
   "source": [
    "pd.unique(fashion_dataset['Weave_Pattern'])"
   ]
  },
  {
   "cell_type": "markdown",
   "id": "2dcab36c",
   "metadata": {},
   "source": [
    "### Formatting Weave Pattern  and Weave Type to fill Knit or Woven"
   ]
  },
  {
   "cell_type": "code",
   "execution_count": null,
   "id": "958de523",
   "metadata": {},
   "outputs": [],
   "source": [
    "fashion_dataset['Weave_Pattern_2'] = fashion_dataset['Weave_Pattern'].replace(['Regular', 'Jacquard', 'Brocade', 'Dobby', 'Khadi'], ['Woven','Woven','Woven','Woven','Woven'])"
   ]
  },
  {
   "cell_type": "code",
   "execution_count": null,
   "id": "e065dc8e",
   "metadata": {},
   "outputs": [],
   "source": [
    "pd.unique(fashion_dataset['Weave_Pattern_2'])"
   ]
  },
  {
   "cell_type": "code",
   "execution_count": null,
   "id": "9b6f36d2",
   "metadata": {},
   "outputs": [],
   "source": [
    "fashion_dataset['Weave_Type_2'] = fashion_dataset['Weave_Type'].replace(['Machine Weave',\n",
    "       'Velvet', 'Denim', 'Handloom', 'Lace', 'Chambray', 'Corduroy'], ['Woven','Woven','Woven','Woven','Knitted','Woven','Woven'])"
   ]
  },
  {
   "cell_type": "code",
   "execution_count": null,
   "id": "32aa4257",
   "metadata": {},
   "outputs": [],
   "source": [
    "pd.unique(fashion_dataset['Weave_Type_2'])"
   ]
  },
  {
   "cell_type": "markdown",
   "id": "183ac5b8",
   "metadata": {},
   "source": [
    "### Filling Knit_or_Woven"
   ]
  },
  {
   "cell_type": "code",
   "execution_count": null,
   "id": "0cd99e1b",
   "metadata": {},
   "outputs": [],
   "source": [
    "fashion_dataset['Knit_or_Woven'] = fashion_dataset['Knit_or_Woven'].combine_first(fashion_dataset['Weave_Pattern_2'])"
   ]
  },
  {
   "cell_type": "code",
   "execution_count": null,
   "id": "ac7849ea",
   "metadata": {
    "scrolled": true
   },
   "outputs": [],
   "source": [
    "fashion_dataset['Knit_or_Woven'] = fashion_dataset['Knit_or_Woven'].combine_first(fashion_dataset['Weave_Type_2'])"
   ]
  },
  {
   "cell_type": "code",
   "execution_count": null,
   "id": "498a24fc",
   "metadata": {},
   "outputs": [],
   "source": [
    "fashion_dataset['Knit_or_Woven'].isna().sum()"
   ]
  },
  {
   "cell_type": "code",
   "execution_count": null,
   "id": "e597ba86",
   "metadata": {
    "scrolled": true
   },
   "outputs": [],
   "source": [
    "pd.unique(fashion_dataset['Knit_or_Woven'])"
   ]
  },
  {
   "cell_type": "code",
   "execution_count": null,
   "id": "e22e9db1",
   "metadata": {},
   "outputs": [],
   "source": [
    "len(pd.unique(fashion_dataset['Fabric']))"
   ]
  },
  {
   "cell_type": "code",
   "execution_count": null,
   "id": "3286d649",
   "metadata": {},
   "outputs": [],
   "source": [
    "fabrics_knit = sqldf(\"select distinct Fabric from fashion_dataset where Knit_or_Woven = 'Knitted'\")"
   ]
  },
  {
   "cell_type": "code",
   "execution_count": null,
   "id": "045c0a0c",
   "metadata": {},
   "outputs": [],
   "source": [
    "fabrics_knit.isna().sum()"
   ]
  },
  {
   "cell_type": "code",
   "execution_count": null,
   "id": "91d1ae77",
   "metadata": {
    "scrolled": true
   },
   "outputs": [],
   "source": [
    "fabrics_weave = sqldf(\"select distinct Fabric from fashion_dataset where Knit_or_Woven = 'Woven'\")"
   ]
  },
  {
   "cell_type": "code",
   "execution_count": null,
   "id": "5f2d2af6",
   "metadata": {},
   "outputs": [],
   "source": [
    "fabrics_weave.isna().sum()"
   ]
  },
  {
   "cell_type": "code",
   "execution_count": null,
   "id": "4ca832aa",
   "metadata": {},
   "outputs": [],
   "source": [
    "fabrics_both = sqldf(\"select distinct Fabric from fashion_dataset where Knit_or_Woven = 'Knitted and Woven'\")"
   ]
  },
  {
   "cell_type": "code",
   "execution_count": null,
   "id": "7b368855",
   "metadata": {},
   "outputs": [],
   "source": [
    "fabrics_both.isna().sum()"
   ]
  },
  {
   "cell_type": "code",
   "execution_count": null,
   "id": "9c53237d",
   "metadata": {},
   "outputs": [],
   "source": [
    "knit_n_woven = sqldf(\"select * from fabrics_knit where fabrics_knit.Fabric in(select fabrics_weave.Fabric from fabrics_weave)\")"
   ]
  },
  {
   "cell_type": "code",
   "execution_count": null,
   "id": "a006a795",
   "metadata": {},
   "outputs": [],
   "source": [
    "knit_n_woven = sqldf(\"select * from knit_n_woven where Fabric not in ('Other')\")\n",
    "knit_n_woven"
   ]
  },
  {
   "cell_type": "code",
   "execution_count": null,
   "id": "8815a716",
   "metadata": {},
   "outputs": [],
   "source": [
    "fabrics_both = sqldf(\"select * from fabrics_both where Fabric not in (select Fabric from knit_n_woven)\")"
   ]
  },
  {
   "cell_type": "code",
   "execution_count": null,
   "id": "ee0a505d",
   "metadata": {},
   "outputs": [],
   "source": [
    "both_fabrics = ps.sqldf(\"select * from knit_n_woven union all select * from fabrics_both\")"
   ]
  },
  {
   "cell_type": "code",
   "execution_count": null,
   "id": "696d02c3",
   "metadata": {},
   "outputs": [],
   "source": [
    "both_fabrics.loc[:,'weave'] = 'Knitted and Woven'"
   ]
  },
  {
   "cell_type": "code",
   "execution_count": null,
   "id": "68ec8433",
   "metadata": {},
   "outputs": [],
   "source": [
    "fabrics_knit = sqldf(\"select * from fabrics_knit where Fabric not in (select Fabric from both_fabrics) and Fabric != 'Other'\")\n",
    "fabrics_knit.loc[:,['weave']]='Knitted'"
   ]
  },
  {
   "cell_type": "code",
   "execution_count": null,
   "id": "1a9f34e9",
   "metadata": {},
   "outputs": [],
   "source": [
    "fabrics_knit"
   ]
  },
  {
   "cell_type": "code",
   "execution_count": null,
   "id": "41570dd0",
   "metadata": {},
   "outputs": [],
   "source": [
    "fabrics_weave = sqldf(\"select * from fabrics_weave where Fabric not in (select Fabric from both_fabrics) and Fabric != 'Other'\")\n",
    "fabrics_weave.loc[:,['weave']]='Woven'"
   ]
  },
  {
   "cell_type": "code",
   "execution_count": null,
   "id": "0fbeab3b",
   "metadata": {},
   "outputs": [],
   "source": [
    "fabrics_weave"
   ]
  },
  {
   "cell_type": "code",
   "execution_count": null,
   "id": "05482334",
   "metadata": {},
   "outputs": [],
   "source": []
  },
  {
   "cell_type": "code",
   "execution_count": null,
   "id": "8dca7d8d",
   "metadata": {},
   "outputs": [],
   "source": []
  },
  {
   "cell_type": "code",
   "execution_count": null,
   "id": "a9bb469d",
   "metadata": {},
   "outputs": [],
   "source": []
  },
  {
   "cell_type": "code",
   "execution_count": null,
   "id": "7573dbb4",
   "metadata": {},
   "outputs": [],
   "source": []
  },
  {
   "cell_type": "code",
   "execution_count": null,
   "id": "fba3bcfa",
   "metadata": {},
   "outputs": [],
   "source": []
  },
  {
   "cell_type": "code",
   "execution_count": null,
   "id": "94e2158e",
   "metadata": {},
   "outputs": [],
   "source": [
    "fabric_weave_type = sqldf(\"select * from fabrics_weave union all select * from fabrics_knit union all select * from both_fabrics\")\n",
    "fabric_weave_type"
   ]
  },
  {
   "cell_type": "code",
   "execution_count": null,
   "id": "1e418400",
   "metadata": {},
   "outputs": [],
   "source": [
    "fashion_dataset = sqldf(\"select fashion_dataset.*, fabric_weave_type.weave from fashion_dataset left join fabric_weave_type on (fabric_weave_type.Fabric=fashion_dataset.Fabric)\")"
   ]
  },
  {
   "cell_type": "code",
   "execution_count": null,
   "id": "1fe0c5ed",
   "metadata": {},
   "outputs": [],
   "source": [
    "fashion_dataset['Knit_or_Woven'] = fashion_dataset['Knit_or_Woven'].combine_first(fashion_dataset['weave'])"
   ]
  },
  {
   "cell_type": "code",
   "execution_count": null,
   "id": "1f38cdf2",
   "metadata": {
    "scrolled": true
   },
   "outputs": [],
   "source": [
    "fashion_dataset['Knit_or_Woven'].isna().sum()"
   ]
  },
  {
   "cell_type": "markdown",
   "id": "27975b8f",
   "metadata": {},
   "source": [
    "### Filling Occasion"
   ]
  },
  {
   "cell_type": "code",
   "execution_count": null,
   "id": "1a544ac0",
   "metadata": {},
   "outputs": [],
   "source": [
    "pd.unique(fashion_dataset['Occasion'])"
   ]
  },
  {
   "cell_type": "code",
   "execution_count": null,
   "id": "b11dd313",
   "metadata": {},
   "outputs": [],
   "source": [
    "wear = sqldf(\"select distinct Where_to_wear from fashion_dataset where Occasion is null\")"
   ]
  },
  {
   "cell_type": "code",
   "execution_count": null,
   "id": "9b7dfd30",
   "metadata": {},
   "outputs": [],
   "source": [
    "wear"
   ]
  },
  {
   "cell_type": "markdown",
   "id": "58f673f3",
   "metadata": {},
   "source": [
    "### Filling Print_Pattern_Type null values"
   ]
  },
  {
   "cell_type": "code",
   "execution_count": null,
   "id": "63491973",
   "metadata": {
    "scrolled": true
   },
   "outputs": [],
   "source": [
    "pd.unique(fashion_dataset['Print_Pattern_Type'])"
   ]
  },
  {
   "cell_type": "code",
   "execution_count": null,
   "id": "d69fcce3",
   "metadata": {
    "scrolled": true
   },
   "outputs": [],
   "source": [
    "sqldf(\"select Print_Pattern_Type, Pattern, Top_Pattern, Bottom_Pattern from fashion_dataset where Print_Pattern_Type is null and Top_Pattern is not null or Bottom_Pattern is not null or Pattern is not null\")"
   ]
  },
  {
   "cell_type": "code",
   "execution_count": null,
   "id": "41d29f9d",
   "metadata": {},
   "outputs": [],
   "source": [
    "fashion_dataset['Print_Pattern_Type'] = fashion_dataset['Print_Pattern_Type'].combine_first(fashion_dataset['Pattern'])"
   ]
  },
  {
   "cell_type": "code",
   "execution_count": null,
   "id": "9295f0d0",
   "metadata": {},
   "outputs": [],
   "source": [
    "fashion_dataset['Print_Pattern_Type'] = fashion_dataset['Print_Pattern_Type'].combine_first(fashion_dataset['Bottom_Pattern'])"
   ]
  },
  {
   "cell_type": "code",
   "execution_count": null,
   "id": "3f975cd6",
   "metadata": {},
   "outputs": [],
   "source": [
    "fashion_dataset['Print_Pattern_Type'] = fashion_dataset['Print_Pattern_Type'].combine_first(fashion_dataset['Top_Pattern'])"
   ]
  },
  {
   "cell_type": "code",
   "execution_count": null,
   "id": "5dc4cfd7",
   "metadata": {},
   "outputs": [],
   "source": [
    "fashion_dataset['Print_Pattern_Type'] = fashion_dataset['Print_Pattern_Type'].combine_first(fashion_dataset['Kurta_Pattern'])"
   ]
  },
  {
   "cell_type": "code",
   "execution_count": null,
   "id": "11a8e4ad",
   "metadata": {},
   "outputs": [],
   "source": [
    "fashion_dataset['Print_Pattern_Type'] = fashion_dataset['Print_Pattern_Type'].combine_first(fashion_dataset['Dupatta_Pattern'])"
   ]
  },
  {
   "cell_type": "code",
   "execution_count": null,
   "id": "c9b40028",
   "metadata": {},
   "outputs": [],
   "source": [
    "#fashion_dataset.drop(['Pattern','Top_Pattern','Bottom_Pattern', 'Kurta_Pattern','Dupatta_Pattern'], axis = 'columns', inplace=True)"
   ]
  },
  {
   "cell_type": "code",
   "execution_count": null,
   "id": "b1337c36",
   "metadata": {
    "scrolled": true
   },
   "outputs": [],
   "source": [
    "fashion_dataset['Print_Pattern_Type'].isna().sum()"
   ]
  },
  {
   "cell_type": "markdown",
   "id": "33857d03",
   "metadata": {},
   "source": [
    "### Filling remaining null values in pattern, weave, and occasion with mode"
   ]
  },
  {
   "cell_type": "code",
   "execution_count": null,
   "id": "3b179ec3",
   "metadata": {},
   "outputs": [],
   "source": [
    "fashion_dataset['Print_Pattern_Type'].mode()"
   ]
  },
  {
   "cell_type": "code",
   "execution_count": null,
   "id": "76a9c280",
   "metadata": {},
   "outputs": [],
   "source": [
    "#fashion_dataset['Occasion'].mode()"
   ]
  },
  {
   "cell_type": "code",
   "execution_count": null,
   "id": "fc1c9388",
   "metadata": {},
   "outputs": [],
   "source": [
    "fashion_dataset['Knit_or_Woven'].mode()"
   ]
  },
  {
   "cell_type": "code",
   "execution_count": null,
   "id": "89bd720a",
   "metadata": {},
   "outputs": [],
   "source": [
    "fashion_dataset.fillna({'Print_Pattern_Type':'Solid','Occasion':'Casual','Knit_or_Woven':'Woven'}, inplace=True)\n",
    "fashion_dataset[['Print_Pattern_Type','Occasion','Knit_or_Woven']].isna().sum()"
   ]
  },
  {
   "cell_type": "markdown",
   "id": "4c265693",
   "metadata": {},
   "source": [
    "> Use 'Occasion', 'Print or Pattern Type', 'Pattern', 'Top Pattern', 'Bottom Pattern', 'Dupatta Pattern', 'Kurta Pattern', 'Weave Pattern', 'Knit or Woven', 'Sustainable', 'Sport', 'Fusion_Wear'"
   ]
  },
  {
   "cell_type": "markdown",
   "id": "52f78cf5",
   "metadata": {},
   "source": [
    "### Merging the datasets"
   ]
  },
  {
   "cell_type": "code",
   "execution_count": null,
   "id": "ad56bf91",
   "metadata": {},
   "outputs": [],
   "source": [
    "merged_dataset = ps.sqldf(\"select fashion_dataset.p_id, fashion_dataset.name, fashion_dataset.price, fashion_dataset.colour, brand_details.*, fashion_dataset.brand, fashion_dataset.ratingCount, fashion_dataset.avg_rating, fashion_dataset.Occasion, fashion_dataset.Print_Pattern_Type, fashion_dataset.Sustainable, fashion_dataset.Knit_or_Woven, fashion_dataset.Fabric, fashion_dataset.Fabric_Purity from fashion_dataset left join brand_details on (fashion_dataset.brand = brand_details.brand_name)\")\n",
    "merged_dataset"
   ]
  },
  {
   "cell_type": "markdown",
   "id": "40c2042d",
   "metadata": {},
   "source": [
    "### Dropping unnecessary null values"
   ]
  },
  {
   "cell_type": "code",
   "execution_count": null,
   "id": "66271e72",
   "metadata": {},
   "outputs": [],
   "source": [
    "merged_dataset.isna().sum()"
   ]
  },
  {
   "cell_type": "code",
   "execution_count": null,
   "id": "f4cd4811",
   "metadata": {},
   "outputs": [],
   "source": [
    "sqldf(\"select * from merged_dataset where p_id is null\")"
   ]
  },
  {
   "cell_type": "code",
   "execution_count": null,
   "id": "b4d32fc4",
   "metadata": {},
   "outputs": [],
   "source": [
    "merged_dataset.dropna(subset = \"p_id\", inplace = True)\n",
    "merged_dataset.isna().sum()"
   ]
  },
  {
   "cell_type": "code",
   "execution_count": null,
   "id": "82ba8b0f",
   "metadata": {},
   "outputs": [],
   "source": [
    "sqldf(\"select * from merged_dataset where name is null\")"
   ]
  },
  {
   "cell_type": "code",
   "execution_count": null,
   "id": "747bb813",
   "metadata": {
    "scrolled": true
   },
   "outputs": [],
   "source": [
    "merged_dataset.dropna(subset = \"name\", inplace = True)\n",
    "merged_dataset.isna().sum()"
   ]
  },
  {
   "cell_type": "markdown",
   "id": "c1ce0a41",
   "metadata": {},
   "source": [
    ">Upon inspection, the rows where brand was null were duplicate rows, and were therefore dropped."
   ]
  },
  {
   "cell_type": "code",
   "execution_count": null,
   "id": "09f4ace7",
   "metadata": {},
   "outputs": [],
   "source": [
    "merged_dataset.dropna(subset = \"brand\", inplace = True)\n",
    "merged_dataset.isna().sum()"
   ]
  },
  {
   "cell_type": "markdown",
   "id": "1d8100a2",
   "metadata": {},
   "source": [
    ">Finding why there are null brand name and brand ID values"
   ]
  },
  {
   "cell_type": "code",
   "execution_count": null,
   "id": "99adeca8",
   "metadata": {},
   "outputs": [],
   "source": [
    "sqldf(\"select distinct brand from merged_dataset where brand_id is null\")"
   ]
  },
  {
   "cell_type": "code",
   "execution_count": null,
   "id": "37bd7135",
   "metadata": {},
   "outputs": [],
   "source": [
    "sqldf(\"select distinct brand, brand_id from merged_dataset order by brand_id asc\")"
   ]
  },
  {
   "cell_type": "code",
   "execution_count": null,
   "id": "d73e2b81",
   "metadata": {},
   "outputs": [],
   "source": [
    "sqldf(\"select distinct brand_id from merged_dataset order by brand_id asc\")"
   ]
  },
  {
   "cell_type": "code",
   "execution_count": null,
   "id": "61d64823",
   "metadata": {},
   "outputs": [],
   "source": [
    "sqldf(\"select brand_id from brand_details where brand_name = 'KASSUALLY'\")"
   ]
  },
  {
   "cell_type": "code",
   "execution_count": null,
   "id": "84a9d6bb",
   "metadata": {},
   "outputs": [],
   "source": [
    "sqldf(\"select distinct * from merged_dataset where brand is null\")"
   ]
  },
  {
   "cell_type": "code",
   "execution_count": null,
   "id": "c49bfc0e",
   "metadata": {},
   "outputs": [],
   "source": [
    "sqldf(\"select * from merged_dataset where brand_name is null\")"
   ]
  },
  {
   "cell_type": "code",
   "execution_count": null,
   "id": "cf8a0812",
   "metadata": {},
   "outputs": [],
   "source": [
    "sqldf(\"select count(distinct brand_id) from merged_dataset\")"
   ]
  },
  {
   "cell_type": "code",
   "execution_count": null,
   "id": "8f23bb0e",
   "metadata": {
    "scrolled": true
   },
   "outputs": [],
   "source": [
    "sqldf(\"select max(brand_id), brand_name from brand_details\")"
   ]
  },
  {
   "cell_type": "markdown",
   "id": "8e69b623",
   "metadata": {},
   "source": [
    "### Filling brand ID"
   ]
  },
  {
   "cell_type": "markdown",
   "id": "2107355b",
   "metadata": {},
   "source": [
    ">Getting rid of null values in brand and brand ID by assigning new IDs"
   ]
  },
  {
   "cell_type": "code",
   "execution_count": null,
   "id": "a32d9f4d",
   "metadata": {},
   "outputs": [],
   "source": [
    "new_id = sqldf(\"select distinct brand, brand_id from merged_dataset order by brand asc\")\n",
    "new_id"
   ]
  },
  {
   "cell_type": "code",
   "execution_count": null,
   "id": "83abac95",
   "metadata": {
    "scrolled": false
   },
   "outputs": [],
   "source": [
    "new_id.loc[:, 'brandID'] = range(1, 1021)\n",
    "new_id.drop('brand_id', axis = 'columns')"
   ]
  },
  {
   "cell_type": "code",
   "execution_count": null,
   "id": "b8284896",
   "metadata": {
    "scrolled": true
   },
   "outputs": [],
   "source": [
    "merged_dataset = sqldf(\"select merged_dataset.*, new_id.brandID from merged_dataset left join new_id on (merged_dataset.brand = new_id.brand)\")\n",
    "merged_dataset.drop(['brand_id','brand_name'], axis = 'columns', inplace = True)\n",
    "merged_dataset.isna().sum()\n",
    "merged_dataset.info()"
   ]
  },
  {
   "cell_type": "code",
   "execution_count": null,
   "id": "7f7f6817",
   "metadata": {},
   "outputs": [],
   "source": [
    "print(merged_dataset['colour'].mode())\n",
    "print(round(merged_dataset['avg_rating'].mean(),6))\n",
    "print(merged_dataset['ratingCount'].mean())"
   ]
  },
  {
   "cell_type": "code",
   "execution_count": null,
   "id": "8deb8278",
   "metadata": {},
   "outputs": [],
   "source": [
    "merged_dataset.fillna({'colour':'Black',\"avg_rating\":4.101193, \"ratingCount\":183.36121433078594}, inplace = True)\n",
    "merged_dataset.isna().sum()"
   ]
  },
  {
   "cell_type": "markdown",
   "id": "3d5112ef",
   "metadata": {},
   "source": [
    "### Converting ratingCount to integer"
   ]
  },
  {
   "cell_type": "code",
   "execution_count": null,
   "id": "8b730b9b",
   "metadata": {},
   "outputs": [],
   "source": [
    "merged_dataset['ratingCount']=merged_dataset['ratingCount'].astype(int)"
   ]
  },
  {
   "cell_type": "code",
   "execution_count": null,
   "id": "86086fe3",
   "metadata": {},
   "outputs": [],
   "source": [
    "merged_dataset.info()"
   ]
  },
  {
   "cell_type": "markdown",
   "id": "940f758d",
   "metadata": {},
   "source": [
    "### Filling Fabric_Purity and Sustainable columns"
   ]
  },
  {
   "cell_type": "code",
   "execution_count": null,
   "id": "9bb1dbb5",
   "metadata": {},
   "outputs": [],
   "source": [
    "pd.unique(merged_dataset['Fabric_Purity'])"
   ]
  },
  {
   "cell_type": "code",
   "execution_count": null,
   "id": "f992d719",
   "metadata": {},
   "outputs": [],
   "source": [
    "pd.unique(merged_dataset['Sustainable'])"
   ]
  },
  {
   "cell_type": "code",
   "execution_count": null,
   "id": "2fa92eed",
   "metadata": {},
   "outputs": [],
   "source": [
    "sqldf(\"select count(Sustainable) from merged_dataset where Fabric_Purity is null and Sustainable is not null\")"
   ]
  },
  {
   "cell_type": "code",
   "execution_count": null,
   "id": "34ecbc72",
   "metadata": {},
   "outputs": [],
   "source": [
    "sqldf(\"select count(Fabric_Purity) from merged_dataset where Fabric_Purity is not null and Sustainable is null\")"
   ]
  },
  {
   "cell_type": "code",
   "execution_count": null,
   "id": "b1e1b901",
   "metadata": {},
   "outputs": [],
   "source": [
    "sqldf(\"select Fabric_Purity, Sustainable from merged_dataset where Sustainable ='Sustainable' and Fabric_Purity is not null\")"
   ]
  },
  {
   "cell_type": "code",
   "execution_count": null,
   "id": "1e0dff77",
   "metadata": {},
   "outputs": [],
   "source": [
    "sqldf(\"select Fabric_Purity, Sustainable from merged_dataset where Sustainable ='Regular' and Fabric_Purity is not null\")"
   ]
  },
  {
   "cell_type": "code",
   "execution_count": null,
   "id": "ca463f91",
   "metadata": {},
   "outputs": [],
   "source": [
    "sqldf(\"select Fabric_Purity, Sustainable from merged_dataset where Sustainable ='Sustainable' and Fabric_Purity is null\")"
   ]
  },
  {
   "cell_type": "code",
   "execution_count": null,
   "id": "b7e16e21",
   "metadata": {},
   "outputs": [],
   "source": [
    "sqldf(\"select Fabric_Purity, Sustainable from merged_dataset where Sustainable is not null and Fabric_Purity = 'Synthetic'\")"
   ]
  },
  {
   "cell_type": "code",
   "execution_count": null,
   "id": "fa76767c",
   "metadata": {},
   "outputs": [],
   "source": [
    "sqldf(\"select count(Fabric_Purity) from merged_dataset where Sustainable is null and Fabric_Purity = 'Blended'\")"
   ]
  },
  {
   "cell_type": "code",
   "execution_count": null,
   "id": "78a8cd57",
   "metadata": {},
   "outputs": [],
   "source": [
    "sustainable = sqldf(\"select Fabric_Purity, Sustainable from merged_dataset where Sustainable ='Sustainable' and Fabric_Purity is null\")"
   ]
  },
  {
   "cell_type": "code",
   "execution_count": null,
   "id": "f7b693c1",
   "metadata": {},
   "outputs": [],
   "source": [
    "sustainable['Fabric_Purity']=sustainable['Fabric_Purity'].fillna('Pure')"
   ]
  },
  {
   "cell_type": "code",
   "execution_count": null,
   "id": "3d854806",
   "metadata": {},
   "outputs": [],
   "source": [
    "regular = sqldf(\"select Fabric_Purity, Sustainable from merged_dataset where Sustainable ='Regular' and Fabric_Purity is null\")"
   ]
  },
  {
   "cell_type": "code",
   "execution_count": null,
   "id": "bbd1f718",
   "metadata": {},
   "outputs": [],
   "source": [
    "regular['Fabric_Purity'] = regular['Fabric_Purity'].fillna('Synthetic')"
   ]
  },
  {
   "cell_type": "code",
   "execution_count": null,
   "id": "63b99b24",
   "metadata": {},
   "outputs": [],
   "source": [
    "sqldf(\"select distinct Fabric from merged_dataset where Fabric_Purity is not null\")"
   ]
  },
  {
   "cell_type": "code",
   "execution_count": null,
   "id": "3ababc2e",
   "metadata": {},
   "outputs": [],
   "source": [
    "non_blended = sqldf(\"select * from regular union all select * from sustainable\")\n",
    "non_blended"
   ]
  },
  {
   "cell_type": "code",
   "execution_count": null,
   "id": "371432ff",
   "metadata": {},
   "outputs": [],
   "source": [
    "merged_dataset = sqldf(\"select merged_dataset.*, non_blended.* from merged_dataset join non_blended on(merged_dataset.Sustainable=non_blended.Sustainable)\")"
   ]
  },
  {
   "cell_type": "code",
   "execution_count": null,
   "id": "c6d6a044",
   "metadata": {},
   "outputs": [],
   "source": []
  },
  {
   "cell_type": "code",
   "execution_count": null,
   "id": "235d5755",
   "metadata": {},
   "outputs": [],
   "source": []
  },
  {
   "cell_type": "code",
   "execution_count": null,
   "id": "fccf6d70",
   "metadata": {},
   "outputs": [],
   "source": []
  },
  {
   "cell_type": "code",
   "execution_count": null,
   "id": "535e6c0a",
   "metadata": {},
   "outputs": [],
   "source": []
  },
  {
   "cell_type": "code",
   "execution_count": null,
   "id": "666c09d2",
   "metadata": {},
   "outputs": [],
   "source": []
  },
  {
   "cell_type": "code",
   "execution_count": null,
   "id": "0ac88f15",
   "metadata": {},
   "outputs": [],
   "source": []
  },
  {
   "cell_type": "code",
   "execution_count": null,
   "id": "bc299817",
   "metadata": {},
   "outputs": [],
   "source": []
  },
  {
   "cell_type": "code",
   "execution_count": null,
   "id": "2f79ae4d",
   "metadata": {},
   "outputs": [],
   "source": []
  },
  {
   "cell_type": "code",
   "execution_count": null,
   "id": "d990e3f6",
   "metadata": {},
   "outputs": [],
   "source": []
  },
  {
   "cell_type": "code",
   "execution_count": null,
   "id": "8460a7c5",
   "metadata": {},
   "outputs": [],
   "source": []
  },
  {
   "cell_type": "code",
   "execution_count": null,
   "id": "3b0277d7",
   "metadata": {},
   "outputs": [],
   "source": []
  },
  {
   "cell_type": "markdown",
   "id": "543a8224",
   "metadata": {},
   "source": [
    "### Filling in remaining null values"
   ]
  },
  {
   "cell_type": "code",
   "execution_count": null,
   "id": "bb37cfae",
   "metadata": {
    "scrolled": false
   },
   "outputs": [],
   "source": [
    "sqldf(\"select * from dataset_final where colour is null\")"
   ]
  },
  {
   "cell_type": "code",
   "execution_count": null,
   "id": "81e7882b",
   "metadata": {},
   "outputs": [],
   "source": [
    "avg_rating_mean = round(dataset_final[\"avg_rating\"].mean(),6)"
   ]
  },
  {
   "cell_type": "code",
   "execution_count": null,
   "id": "af647eb7",
   "metadata": {},
   "outputs": [],
   "source": [
    "dataset_final[\"ratingCount\"].median()"
   ]
  },
  {
   "cell_type": "code",
   "execution_count": null,
   "id": "7909e665",
   "metadata": {},
   "outputs": [],
   "source": [
    "dataset_final[\"ratingCount\"].mode()"
   ]
  },
  {
   "cell_type": "code",
   "execution_count": null,
   "id": "bef3a91d",
   "metadata": {},
   "outputs": [],
   "source": [
    "ratingCount_mean = dataset_final[\"ratingCount\"].mean()"
   ]
  },
  {
   "cell_type": "code",
   "execution_count": null,
   "id": "80e84d93",
   "metadata": {},
   "outputs": [],
   "source": [
    "colour_mode = dataset_final[\"colour\"].mode()"
   ]
  },
  {
   "cell_type": "markdown",
   "id": "189ed41e",
   "metadata": {},
   "source": [
    ">Exporting data for analysis using Apache MapReduce"
   ]
  },
  {
   "cell_type": "code",
   "execution_count": null,
   "id": "014e61dd",
   "metadata": {},
   "outputs": [],
   "source": [
    "dataset_final.to_csv(\"final_dataset.csv\", index = False)"
   ]
  },
  {
   "cell_type": "code",
   "execution_count": null,
   "id": "8ee1cd94",
   "metadata": {},
   "outputs": [],
   "source": [
    "new_dataset = dataset_final.loc[:,['p_id', 'name','price','colour','brand','ratingCount','avg_rating','brand_id']]\n",
    "new_dataset.to_csv(\"new_dataset.csv\", index = False, header = False)"
   ]
  },
  {
   "cell_type": "markdown",
   "id": "990bbec9",
   "metadata": {},
   "source": [
    " "
   ]
  },
  {
   "cell_type": "code",
   "execution_count": null,
   "id": "038d134b",
   "metadata": {
    "scrolled": true
   },
   "outputs": [],
   "source": [
    "dataset_final.info()"
   ]
  },
  {
   "cell_type": "code",
   "execution_count": null,
   "id": "714bb6c1",
   "metadata": {},
   "outputs": [],
   "source": []
  },
  {
   "cell_type": "markdown",
   "id": "ad5a41ab",
   "metadata": {},
   "source": [
    "# Machine Learning"
   ]
  },
  {
   "cell_type": "markdown",
   "id": "b3992fcd",
   "metadata": {},
   "source": [
    "## Regression Modelling"
   ]
  },
  {
   "cell_type": "markdown",
   "id": "01f96c22",
   "metadata": {},
   "source": [
    "## Pre-processing"
   ]
  },
  {
   "cell_type": "code",
   "execution_count": null,
   "id": "5d674c62",
   "metadata": {
    "scrolled": true
   },
   "outputs": [],
   "source": [
    "regression_data = dataset_final.loc[:,['price','avg_rating','ratingCount', 'brand_id','name','colour','brand','description','p_attributes']]"
   ]
  },
  {
   "cell_type": "code",
   "execution_count": null,
   "id": "63f6944d",
   "metadata": {},
   "outputs": [],
   "source": [
    "le = preprocessing.LabelEncoder()\n",
    "\n",
    "for i in regression_data.columns:\n",
    "        if regression_data[i].dtype == object:\n",
    "            regression_data[i] = le.fit_transform(regression_data[i])\n",
    "        else:\n",
    "            pass"
   ]
  },
  {
   "cell_type": "code",
   "execution_count": null,
   "id": "2b9315af",
   "metadata": {},
   "outputs": [],
   "source": [
    "regression_data"
   ]
  },
  {
   "cell_type": "code",
   "execution_count": null,
   "id": "ac58efd6",
   "metadata": {},
   "outputs": [],
   "source": [
    "x_reg = regression_data.loc[:,['price','avg_rating','ratingCount','name','colour','description','p_attributes']]\n",
    "y_reg = regression_data.loc[:,['brand_id']]"
   ]
  },
  {
   "cell_type": "markdown",
   "id": "a531b9b7",
   "metadata": {},
   "source": [
    ">Creating the training and testing datasets"
   ]
  },
  {
   "cell_type": "code",
   "execution_count": null,
   "id": "62a5d2e2",
   "metadata": {},
   "outputs": [],
   "source": [
    "x_reg_train, x_reg_test, y_reg_train, y_reg_test = train_test_split(x_reg, y_reg, test_size=0.25)\n",
    "\n",
    "print(\"Your independent training dataset contains \", x_reg_train.shape, \" rows and columns.\")\n",
    "print(\"Your independent testing dataset contains \", x_reg_test.shape, \" rows and columns.\")\n",
    "print(\"Your dependent training dataset contains \", y_reg_train.shape, \" rows and columns.\")\n",
    "print(\"Your dependent testing dataset contains \", y_reg_test.shape, \" rows and columns.\")"
   ]
  },
  {
   "cell_type": "markdown",
   "id": "63b0cb7f",
   "metadata": {},
   "source": [
    "### Linear Regression"
   ]
  },
  {
   "cell_type": "markdown",
   "id": "73f2d92d",
   "metadata": {},
   "source": [
    ">Training the model"
   ]
  },
  {
   "cell_type": "code",
   "execution_count": null,
   "id": "e854faec",
   "metadata": {},
   "outputs": [],
   "source": [
    "LR = LinearRegression()"
   ]
  },
  {
   "cell_type": "code",
   "execution_count": null,
   "id": "5342de45",
   "metadata": {},
   "outputs": [],
   "source": [
    "LR.fit(x_reg_train, y_reg_train)"
   ]
  },
  {
   "cell_type": "markdown",
   "id": "b7c5a1c2",
   "metadata": {},
   "source": [
    ">Testing the model"
   ]
  },
  {
   "cell_type": "code",
   "execution_count": null,
   "id": "f403b7a3",
   "metadata": {},
   "outputs": [],
   "source": [
    "LR_predict = LR.predict(x_reg_test)\n",
    "LR_predict"
   ]
  },
  {
   "cell_type": "code",
   "execution_count": null,
   "id": "c56cbb90",
   "metadata": {},
   "outputs": [],
   "source": [
    "print(\"Linear Regressor\")\n",
    "print(\"Mean Absolute Error: \", metrics.mean_absolute_error(y_reg_test, LR_predict))"
   ]
  },
  {
   "cell_type": "markdown",
   "id": "4265d59a",
   "metadata": {},
   "source": [
    "### Bayesian Ridge Regression"
   ]
  },
  {
   "cell_type": "code",
   "execution_count": null,
   "id": "e2d01a0b",
   "metadata": {},
   "outputs": [],
   "source": [
    "BayRidge = BayesianRidge()\n",
    "BayRidge.fit(x_reg_train, y_reg_train)"
   ]
  },
  {
   "cell_type": "code",
   "execution_count": null,
   "id": "6177b0a0",
   "metadata": {},
   "outputs": [],
   "source": [
    "BayRidge_predict = BayRidge.predict(x_reg_test)\n",
    "BayRidge_predict"
   ]
  },
  {
   "cell_type": "code",
   "execution_count": null,
   "id": "e5a52d54",
   "metadata": {},
   "outputs": [],
   "source": [
    "print(\"Bayesian Ridge Regressor\")\n",
    "print(\"Mean Absolute Error: \", metrics.mean_absolute_error(y_reg_test, BayRidge_predict))"
   ]
  },
  {
   "cell_type": "code",
   "execution_count": null,
   "id": "32e45a51",
   "metadata": {},
   "outputs": [],
   "source": [
    "dataset_final.info()"
   ]
  },
  {
   "cell_type": "markdown",
   "id": "23e18963",
   "metadata": {},
   "source": [
    " "
   ]
  },
  {
   "cell_type": "markdown",
   "id": "ff9272ae",
   "metadata": {},
   "source": [
    "## Classification Modelling"
   ]
  },
  {
   "cell_type": "markdown",
   "id": "25b27887",
   "metadata": {},
   "source": [
    ">Pre-processing"
   ]
  },
  {
   "cell_type": "code",
   "execution_count": null,
   "id": "f1a16870",
   "metadata": {},
   "outputs": [],
   "source": [
    "classification_data = dataset_final.loc[:,['name','colour','brand', 'brand_id','description','p_attributes']]\n",
    "classification_data"
   ]
  },
  {
   "cell_type": "code",
   "execution_count": null,
   "id": "44d119e4",
   "metadata": {},
   "outputs": [],
   "source": [
    "le = preprocessing.LabelEncoder()\n",
    "\n",
    "for i in classification_data.columns:\n",
    "        if classification_data[i].dtype == object:\n",
    "            classification_data[i] = le.fit_transform(classification_data[i])\n",
    "        else:\n",
    "            pass"
   ]
  },
  {
   "cell_type": "code",
   "execution_count": null,
   "id": "7c975f2c",
   "metadata": {},
   "outputs": [],
   "source": [
    "classification_data"
   ]
  },
  {
   "cell_type": "markdown",
   "id": "6dd82a2f",
   "metadata": {},
   "source": [
    ">Creating the training datasets"
   ]
  },
  {
   "cell_type": "code",
   "execution_count": null,
   "id": "d9c4b7e6",
   "metadata": {},
   "outputs": [],
   "source": [
    "x_class = classification_data.loc[:,['name','colour','description','p_attributes']]\n",
    "y_class = classification_data.loc[:,['brand']]"
   ]
  },
  {
   "cell_type": "code",
   "execution_count": null,
   "id": "2f71af46",
   "metadata": {},
   "outputs": [],
   "source": [
    "x_class"
   ]
  },
  {
   "cell_type": "code",
   "execution_count": null,
   "id": "00ec2dfc",
   "metadata": {},
   "outputs": [],
   "source": [
    "x_class_train, x_class_test, y_class_train, y_class_test = train_test_split(x_class, y_class, test_size=0.25)\n",
    "\n",
    "print(\"Your independent training dataset contains \", x_class_train.shape, \" rows and columns.\")\n",
    "print(\"Your independent testing dataset contains \", x_class_test.shape, \" rows and columns.\")\n",
    "print(\"Your dependent training dataset contains \", y_class_train.shape, \" rows and columns.\")\n",
    "print(\"Your dependent testing dataset contains \", y_class_test.shape, \" rows and columns.\")"
   ]
  },
  {
   "cell_type": "markdown",
   "id": "c8fb7520",
   "metadata": {},
   "source": [
    "### Gaussian Naive Bayes Classifier"
   ]
  },
  {
   "cell_type": "code",
   "execution_count": null,
   "id": "c25b3c0c",
   "metadata": {},
   "outputs": [],
   "source": [
    "GNB = GaussianNB()"
   ]
  },
  {
   "cell_type": "code",
   "execution_count": null,
   "id": "36650a1f",
   "metadata": {},
   "outputs": [],
   "source": [
    "GNB.fit(x_class_train, y_class_train)"
   ]
  },
  {
   "cell_type": "code",
   "execution_count": null,
   "id": "c645d9d7",
   "metadata": {},
   "outputs": [],
   "source": [
    "GNB_predict = GNB.predict(x_class_test)"
   ]
  },
  {
   "cell_type": "code",
   "execution_count": null,
   "id": "2a15524f",
   "metadata": {},
   "outputs": [],
   "source": [
    "print(\"Gaussian Naive Bayes Classifier\")\n",
    "print(\"Accuracy:\", round((metrics.accuracy_score(y_class_test, GNB_predict))*100,2),\"%\")"
   ]
  },
  {
   "cell_type": "markdown",
   "id": "f223c1bb",
   "metadata": {},
   "source": [
    "### Decision Tree Classifier"
   ]
  },
  {
   "cell_type": "code",
   "execution_count": null,
   "id": "cf9e4e23",
   "metadata": {},
   "outputs": [],
   "source": [
    "dtree = DecisionTreeClassifier()\n",
    "dtree = dtree.fit(x_class_train, y_class_train)"
   ]
  },
  {
   "cell_type": "code",
   "execution_count": null,
   "id": "fefde168",
   "metadata": {},
   "outputs": [],
   "source": [
    "dtree_predict = dtree.predict(x_class_test)"
   ]
  },
  {
   "cell_type": "code",
   "execution_count": null,
   "id": "075651ad",
   "metadata": {},
   "outputs": [],
   "source": [
    "print(\"Decision Classifier\")\n",
    "print(\"Accuracy:\", round((metrics.accuracy_score(y_class_test, dtree_predict))*100,2),\"%\")"
   ]
  }
 ],
 "metadata": {
  "kernelspec": {
   "display_name": "Python 3 (ipykernel)",
   "language": "python",
   "name": "python3"
  },
  "language_info": {
   "codemirror_mode": {
    "name": "ipython",
    "version": 3
   },
   "file_extension": ".py",
   "mimetype": "text/x-python",
   "name": "python",
   "nbconvert_exporter": "python",
   "pygments_lexer": "ipython3",
   "version": "3.9.13"
  }
 },
 "nbformat": 4,
 "nbformat_minor": 5
}
