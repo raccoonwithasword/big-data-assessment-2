{
 "cells": [
  {
   "cell_type": "markdown",
   "id": "9c67d32e",
   "metadata": {},
   "source": [
    "# Data Analysis"
   ]
  },
  {
   "cell_type": "markdown",
   "id": "27bcab35",
   "metadata": {},
   "source": [
    ">Importing libraries"
   ]
  },
  {
   "cell_type": "code",
   "execution_count": 1,
   "id": "02c28b12",
   "metadata": {},
   "outputs": [],
   "source": [
    "import pandas as pd\n",
    "import numpy as np\n",
    "import pandasql as ps\n",
    "from pandasql import sqldf\n",
    "import ast\n",
    "import random\n",
    "import matplotlib.pyplot as plt\n",
    "from sklearn.model_selection import train_test_split\n",
    "from sklearn.linear_model import LinearRegression\n",
    "from sklearn.linear_model import BayesianRidge\n",
    "from sklearn import preprocessing\n",
    "from sklearn import tree\n",
    "from sklearn.tree import DecisionTreeClassifier\n",
    "from sklearn import metrics\n",
    "from sklearn.naive_bayes import GaussianNB"
   ]
  },
  {
   "cell_type": "markdown",
   "id": "0cbebfff",
   "metadata": {},
   "source": [
    "# Data Cleaning & Transformation"
   ]
  },
  {
   "cell_type": "markdown",
   "id": "5348de0e",
   "metadata": {},
   "source": [
    ">Importing and viewing the fashion dataset\n"
   ]
  },
  {
   "cell_type": "code",
   "execution_count": 2,
   "id": "58058aa0",
   "metadata": {
    "scrolled": false
   },
   "outputs": [
    {
     "data": {
      "text/html": [
       "<div>\n",
       "<style scoped>\n",
       "    .dataframe tbody tr th:only-of-type {\n",
       "        vertical-align: middle;\n",
       "    }\n",
       "\n",
       "    .dataframe tbody tr th {\n",
       "        vertical-align: top;\n",
       "    }\n",
       "\n",
       "    .dataframe thead th {\n",
       "        text-align: right;\n",
       "    }\n",
       "</style>\n",
       "<table border=\"1\" class=\"dataframe\">\n",
       "  <thead>\n",
       "    <tr style=\"text-align: right;\">\n",
       "      <th></th>\n",
       "      <th>p_id</th>\n",
       "      <th>name</th>\n",
       "      <th>price</th>\n",
       "      <th>colour</th>\n",
       "      <th>brand</th>\n",
       "      <th>ratingCount</th>\n",
       "      <th>avg_rating</th>\n",
       "      <th>description</th>\n",
       "      <th>p_attributes</th>\n",
       "    </tr>\n",
       "  </thead>\n",
       "  <tbody>\n",
       "    <tr>\n",
       "      <th>0</th>\n",
       "      <td>1518329.0</td>\n",
       "      <td>Dupatta Bazaar White Embroidered Chiffon Dupatta</td>\n",
       "      <td>899.0</td>\n",
       "      <td>White</td>\n",
       "      <td>Dupatta Bazaar</td>\n",
       "      <td>1321.0</td>\n",
       "      <td>4.548827</td>\n",
       "      <td>White embroidered&amp;nbsp;dupattaChiffon&lt;br&gt;Hand-...</td>\n",
       "      <td>{'Occasion': 'Daily', 'Pattern': 'Embroidered'...</td>\n",
       "    </tr>\n",
       "    <tr>\n",
       "      <th>1</th>\n",
       "      <td>5829334.0</td>\n",
       "      <td>Roadster Women Mustard Yellow Solid Hooded Swe...</td>\n",
       "      <td>1199.0</td>\n",
       "      <td>Mustard</td>\n",
       "      <td>Roadster</td>\n",
       "      <td>5462.0</td>\n",
       "      <td>4.313255</td>\n",
       "      <td>Mustard yellow solid sweatshirt, has a hood, t...</td>\n",
       "      <td>{'Body Shape ID': '443,424,324', 'Body or Garm...</td>\n",
       "    </tr>\n",
       "    <tr>\n",
       "      <th>2</th>\n",
       "      <td>10340119.0</td>\n",
       "      <td>Inddus Peach-Coloured &amp; Beige Unstitched Dress...</td>\n",
       "      <td>5799.0</td>\n",
       "      <td>Peach</td>\n",
       "      <td>Inddus</td>\n",
       "      <td>145.0</td>\n",
       "      <td>4.068966</td>\n",
       "      <td>Peach-Coloured and beige woven design unstitch...</td>\n",
       "      <td>{'Bottom Fabric': 'Cotton Blend', 'Bottom Patt...</td>\n",
       "    </tr>\n",
       "    <tr>\n",
       "      <th>3</th>\n",
       "      <td>10856380.0</td>\n",
       "      <td>SASSAFRAS Women Black Parallel Trousers</td>\n",
       "      <td>1499.0</td>\n",
       "      <td>Black</td>\n",
       "      <td>SASSAFRAS</td>\n",
       "      <td>9124.0</td>\n",
       "      <td>4.147523</td>\n",
       "      <td>Black solid woven high-rise parallel trousers,...</td>\n",
       "      <td>{'Add-Ons': 'NA', 'Body Shape ID': '424', 'Bod...</td>\n",
       "    </tr>\n",
       "    <tr>\n",
       "      <th>4</th>\n",
       "      <td>12384822.0</td>\n",
       "      <td>Kotty Women Black Wide Leg High-Rise Clean Loo...</td>\n",
       "      <td>1999.0</td>\n",
       "      <td>Black</td>\n",
       "      <td>Kotty</td>\n",
       "      <td>12260.0</td>\n",
       "      <td>4.078467</td>\n",
       "      <td>Black dark wash 4-pocket high-rise jeans, clea...</td>\n",
       "      <td>{'Add-Ons': 'NA', 'Brand Fit Name': 'NA', 'Clo...</td>\n",
       "    </tr>\n",
       "    <tr>\n",
       "      <th>...</th>\n",
       "      <td>...</td>\n",
       "      <td>...</td>\n",
       "      <td>...</td>\n",
       "      <td>...</td>\n",
       "      <td>...</td>\n",
       "      <td>...</td>\n",
       "      <td>...</td>\n",
       "      <td>...</td>\n",
       "      <td>...</td>\n",
       "    </tr>\n",
       "    <tr>\n",
       "      <th>14324</th>\n",
       "      <td>17029604.0</td>\n",
       "      <td>The Chennai Silks Pink &amp; Silver-Toned Floral Z...</td>\n",
       "      <td>3999.0</td>\n",
       "      <td>Pink</td>\n",
       "      <td>The Chennai Silks</td>\n",
       "      <td>NaN</td>\n",
       "      <td>NaN</td>\n",
       "      <td>&lt;b&gt;Design Details &lt;/b&gt;&lt;ul&gt;&lt;li&gt;Pink and silver-...</td>\n",
       "      <td>{'Better Cotton Initiative': 'Regular', 'Blous...</td>\n",
       "    </tr>\n",
       "    <tr>\n",
       "      <th>14325</th>\n",
       "      <td>17600212.0</td>\n",
       "      <td>Kinder Kids Girls Blue &amp; Green Printed Foil Pr...</td>\n",
       "      <td>2050.0</td>\n",
       "      <td>Blue</td>\n",
       "      <td>Kinder Kids</td>\n",
       "      <td>NaN</td>\n",
       "      <td>NaN</td>\n",
       "      <td>Blue and green printed lehenga choli,  has foi...</td>\n",
       "      <td>{'Blouse Closure': 'NA', 'Blouse Fabric': 'Cot...</td>\n",
       "    </tr>\n",
       "    <tr>\n",
       "      <th>14326</th>\n",
       "      <td>18159266.0</td>\n",
       "      <td>KLOTTHE Women Green &amp; Black Floral Printed Pal...</td>\n",
       "      <td>1659.0</td>\n",
       "      <td>Green</td>\n",
       "      <td>KLOTTHE</td>\n",
       "      <td>NaN</td>\n",
       "      <td>NaN</td>\n",
       "      <td>&lt;ul&gt; &lt;li&gt; Green and black woven palazzos &lt;/li&gt;...</td>\n",
       "      <td>{'Body or Garment Size': 'To-Fit Denotes Body ...</td>\n",
       "    </tr>\n",
       "    <tr>\n",
       "      <th>14327</th>\n",
       "      <td>18921114.0</td>\n",
       "      <td>InWeave Women Red Printed A-Line Skirt</td>\n",
       "      <td>2399.0</td>\n",
       "      <td>Red</td>\n",
       "      <td>InWeave</td>\n",
       "      <td>NaN</td>\n",
       "      <td>NaN</td>\n",
       "      <td>&lt;p&gt;Red printed A-line skirt, has drawstring cl...</td>\n",
       "      <td>{'Add-Ons': 'NA', 'Body Shape ID': '324,333,42...</td>\n",
       "    </tr>\n",
       "    <tr>\n",
       "      <th>14328</th>\n",
       "      <td>19361058.0</td>\n",
       "      <td>BoStreet Women Navy Blue Tapered Fit Trousers</td>\n",
       "      <td>2599.0</td>\n",
       "      <td>Navy Blue</td>\n",
       "      <td>BoStreet</td>\n",
       "      <td>NaN</td>\n",
       "      <td>NaN</td>\n",
       "      <td>&lt;ul&gt; &lt;li&gt; Navy blue knitted trousers &lt;/li&gt; &lt;li...</td>\n",
       "      <td>{'Add-Ons': 'NA', 'Body Shape ID': '443,333,42...</td>\n",
       "    </tr>\n",
       "  </tbody>\n",
       "</table>\n",
       "<p>14329 rows × 9 columns</p>\n",
       "</div>"
      ],
      "text/plain": [
       "             p_id                                               name   price  \\\n",
       "0       1518329.0   Dupatta Bazaar White Embroidered Chiffon Dupatta   899.0   \n",
       "1       5829334.0  Roadster Women Mustard Yellow Solid Hooded Swe...  1199.0   \n",
       "2      10340119.0  Inddus Peach-Coloured & Beige Unstitched Dress...  5799.0   \n",
       "3      10856380.0            SASSAFRAS Women Black Parallel Trousers  1499.0   \n",
       "4      12384822.0  Kotty Women Black Wide Leg High-Rise Clean Loo...  1999.0   \n",
       "...           ...                                                ...     ...   \n",
       "14324  17029604.0  The Chennai Silks Pink & Silver-Toned Floral Z...  3999.0   \n",
       "14325  17600212.0  Kinder Kids Girls Blue & Green Printed Foil Pr...  2050.0   \n",
       "14326  18159266.0  KLOTTHE Women Green & Black Floral Printed Pal...  1659.0   \n",
       "14327  18921114.0             InWeave Women Red Printed A-Line Skirt  2399.0   \n",
       "14328  19361058.0      BoStreet Women Navy Blue Tapered Fit Trousers  2599.0   \n",
       "\n",
       "          colour              brand  ratingCount  avg_rating  \\\n",
       "0          White     Dupatta Bazaar       1321.0    4.548827   \n",
       "1        Mustard           Roadster       5462.0    4.313255   \n",
       "2          Peach             Inddus        145.0    4.068966   \n",
       "3          Black          SASSAFRAS       9124.0    4.147523   \n",
       "4          Black              Kotty      12260.0    4.078467   \n",
       "...          ...                ...          ...         ...   \n",
       "14324       Pink  The Chennai Silks          NaN         NaN   \n",
       "14325       Blue        Kinder Kids          NaN         NaN   \n",
       "14326      Green            KLOTTHE          NaN         NaN   \n",
       "14327        Red            InWeave          NaN         NaN   \n",
       "14328  Navy Blue           BoStreet          NaN         NaN   \n",
       "\n",
       "                                             description  \\\n",
       "0      White embroidered&nbsp;dupattaChiffon<br>Hand-...   \n",
       "1      Mustard yellow solid sweatshirt, has a hood, t...   \n",
       "2      Peach-Coloured and beige woven design unstitch...   \n",
       "3      Black solid woven high-rise parallel trousers,...   \n",
       "4      Black dark wash 4-pocket high-rise jeans, clea...   \n",
       "...                                                  ...   \n",
       "14324  <b>Design Details </b><ul><li>Pink and silver-...   \n",
       "14325  Blue and green printed lehenga choli,  has foi...   \n",
       "14326  <ul> <li> Green and black woven palazzos </li>...   \n",
       "14327  <p>Red printed A-line skirt, has drawstring cl...   \n",
       "14328  <ul> <li> Navy blue knitted trousers </li> <li...   \n",
       "\n",
       "                                            p_attributes  \n",
       "0      {'Occasion': 'Daily', 'Pattern': 'Embroidered'...  \n",
       "1      {'Body Shape ID': '443,424,324', 'Body or Garm...  \n",
       "2      {'Bottom Fabric': 'Cotton Blend', 'Bottom Patt...  \n",
       "3      {'Add-Ons': 'NA', 'Body Shape ID': '424', 'Bod...  \n",
       "4      {'Add-Ons': 'NA', 'Brand Fit Name': 'NA', 'Clo...  \n",
       "...                                                  ...  \n",
       "14324  {'Better Cotton Initiative': 'Regular', 'Blous...  \n",
       "14325  {'Blouse Closure': 'NA', 'Blouse Fabric': 'Cot...  \n",
       "14326  {'Body or Garment Size': 'To-Fit Denotes Body ...  \n",
       "14327  {'Add-Ons': 'NA', 'Body Shape ID': '324,333,42...  \n",
       "14328  {'Add-Ons': 'NA', 'Body Shape ID': '443,333,42...  \n",
       "\n",
       "[14329 rows x 9 columns]"
      ]
     },
     "execution_count": 2,
     "metadata": {},
     "output_type": "execute_result"
    }
   ],
   "source": [
    "fashion_dataset= pd.read_csv(r\".\\fashion dataset.csv\")\n",
    "fashion_dataset"
   ]
  },
  {
   "cell_type": "markdown",
   "id": "4db6ad60",
   "metadata": {},
   "source": [
    ">Finding the number of unique brands in the fashion dataset"
   ]
  },
  {
   "cell_type": "code",
   "execution_count": 3,
   "id": "39d4ad68",
   "metadata": {},
   "outputs": [
    {
     "data": {
      "text/plain": [
       "1021"
      ]
     },
     "execution_count": 3,
     "metadata": {},
     "output_type": "execute_result"
    }
   ],
   "source": [
    "len(pd.unique(fashion_dataset['brand']))"
   ]
  },
  {
   "cell_type": "markdown",
   "id": "146a3cc5",
   "metadata": {},
   "source": [
    ">Importing the brand details dataset"
   ]
  },
  {
   "cell_type": "code",
   "execution_count": 4,
   "id": "61fb4d4f",
   "metadata": {},
   "outputs": [
    {
     "data": {
      "text/html": [
       "<div>\n",
       "<style scoped>\n",
       "    .dataframe tbody tr th:only-of-type {\n",
       "        vertical-align: middle;\n",
       "    }\n",
       "\n",
       "    .dataframe tbody tr th {\n",
       "        vertical-align: top;\n",
       "    }\n",
       "\n",
       "    .dataframe thead th {\n",
       "        text-align: right;\n",
       "    }\n",
       "</style>\n",
       "<table border=\"1\" class=\"dataframe\">\n",
       "  <thead>\n",
       "    <tr style=\"text-align: right;\">\n",
       "      <th></th>\n",
       "      <th>brand_id</th>\n",
       "      <th>brand_name</th>\n",
       "    </tr>\n",
       "  </thead>\n",
       "  <tbody>\n",
       "    <tr>\n",
       "      <th>0</th>\n",
       "      <td>1</td>\n",
       "      <td>513</td>\n",
       "    </tr>\n",
       "    <tr>\n",
       "      <th>1</th>\n",
       "      <td>2</td>\n",
       "      <td>109F</td>\n",
       "    </tr>\n",
       "    <tr>\n",
       "      <th>2</th>\n",
       "      <td>3</td>\n",
       "      <td>20Dresses</td>\n",
       "    </tr>\n",
       "    <tr>\n",
       "      <th>3</th>\n",
       "      <td>4</td>\n",
       "      <td>250 Designs</td>\n",
       "    </tr>\n",
       "    <tr>\n",
       "      <th>4</th>\n",
       "      <td>5</td>\n",
       "      <td>3Pin</td>\n",
       "    </tr>\n",
       "    <tr>\n",
       "      <th>...</th>\n",
       "      <td>...</td>\n",
       "      <td>...</td>\n",
       "    </tr>\n",
       "    <tr>\n",
       "      <th>1015</th>\n",
       "      <td>1016</td>\n",
       "      <td>Ziva Fashion</td>\n",
       "    </tr>\n",
       "    <tr>\n",
       "      <th>1016</th>\n",
       "      <td>1017</td>\n",
       "      <td>Zivame</td>\n",
       "    </tr>\n",
       "    <tr>\n",
       "      <th>1017</th>\n",
       "      <td>1018</td>\n",
       "      <td>Ziyaa</td>\n",
       "    </tr>\n",
       "    <tr>\n",
       "      <th>1018</th>\n",
       "      <td>1019</td>\n",
       "      <td>Zoella</td>\n",
       "    </tr>\n",
       "    <tr>\n",
       "      <th>1019</th>\n",
       "      <td>1020</td>\n",
       "      <td>Zola</td>\n",
       "    </tr>\n",
       "  </tbody>\n",
       "</table>\n",
       "<p>1020 rows × 2 columns</p>\n",
       "</div>"
      ],
      "text/plain": [
       "      brand_id    brand_name\n",
       "0            1           513\n",
       "1            2          109F\n",
       "2            3     20Dresses\n",
       "3            4   250 Designs\n",
       "4            5          3Pin\n",
       "...        ...           ...\n",
       "1015      1016  Ziva Fashion\n",
       "1016      1017        Zivame\n",
       "1017      1018         Ziyaa\n",
       "1018      1019        Zoella\n",
       "1019      1020          Zola\n",
       "\n",
       "[1020 rows x 2 columns]"
      ]
     },
     "execution_count": 4,
     "metadata": {},
     "output_type": "execute_result"
    }
   ],
   "source": [
    "brand_details = pd.read_excel(r\".\\fashion brand details.xlsx\")\n",
    "brand_details"
   ]
  },
  {
   "cell_type": "markdown",
   "id": "40eb46cb",
   "metadata": {},
   "source": [
    ">Counting the number of unique brand names in the brand details dataset"
   ]
  },
  {
   "cell_type": "code",
   "execution_count": 5,
   "id": "56716f86",
   "metadata": {},
   "outputs": [
    {
     "data": {
      "text/plain": [
       "1020"
      ]
     },
     "execution_count": 5,
     "metadata": {},
     "output_type": "execute_result"
    }
   ],
   "source": [
    "len(pd.unique(brand_details['brand_name']))"
   ]
  },
  {
   "cell_type": "markdown",
   "id": "c7b8a6be",
   "metadata": {},
   "source": [
    ">Finding the number of null and duplicated values in each dataset"
   ]
  },
  {
   "cell_type": "code",
   "execution_count": 6,
   "id": "aa8cecc0",
   "metadata": {},
   "outputs": [
    {
     "data": {
      "text/plain": [
       "brand_id      0\n",
       "brand_name    0\n",
       "dtype: int64"
      ]
     },
     "execution_count": 6,
     "metadata": {},
     "output_type": "execute_result"
    }
   ],
   "source": [
    "brand_details.isna().sum()"
   ]
  },
  {
   "cell_type": "code",
   "execution_count": 7,
   "id": "ad8e8b0c",
   "metadata": {},
   "outputs": [
    {
     "data": {
      "text/plain": [
       "p_id              18\n",
       "name              19\n",
       "price             19\n",
       "colour            22\n",
       "brand             24\n",
       "ratingCount     7748\n",
       "avg_rating      7748\n",
       "description       19\n",
       "p_attributes      19\n",
       "dtype: int64"
      ]
     },
     "execution_count": 7,
     "metadata": {},
     "output_type": "execute_result"
    }
   ],
   "source": [
    "fashion_dataset.isna().sum()"
   ]
  },
  {
   "cell_type": "code",
   "execution_count": 8,
   "id": "06b9712b",
   "metadata": {},
   "outputs": [
    {
     "data": {
      "text/plain": [
       "0"
      ]
     },
     "execution_count": 8,
     "metadata": {},
     "output_type": "execute_result"
    }
   ],
   "source": [
    "brand_details.duplicated().sum()"
   ]
  },
  {
   "cell_type": "code",
   "execution_count": 9,
   "id": "3e18ce56",
   "metadata": {},
   "outputs": [
    {
     "data": {
      "text/plain": [
       "59"
      ]
     },
     "execution_count": 9,
     "metadata": {},
     "output_type": "execute_result"
    }
   ],
   "source": [
    "fashion_dataset.duplicated().sum()"
   ]
  },
  {
   "cell_type": "markdown",
   "id": "8deda2e0",
   "metadata": {},
   "source": [
    ">Testing out duplicate dropping"
   ]
  },
  {
   "cell_type": "code",
   "execution_count": 10,
   "id": "e1853c6e",
   "metadata": {},
   "outputs": [
    {
     "data": {
      "text/plain": [
       "1021"
      ]
     },
     "execution_count": 10,
     "metadata": {},
     "output_type": "execute_result"
    }
   ],
   "source": [
    "df_dupl = fashion_dataset.drop_duplicates(keep = \"last\")\n",
    "len(pd.unique(df_dupl[\"brand\"]))"
   ]
  },
  {
   "cell_type": "markdown",
   "id": "fa456831",
   "metadata": {},
   "source": [
    ">Dropping duplicates in fashion dataset"
   ]
  },
  {
   "cell_type": "code",
   "execution_count": 11,
   "id": "9ca86992",
   "metadata": {
    "scrolled": true
   },
   "outputs": [
    {
     "data": {
      "text/html": [
       "<div>\n",
       "<style scoped>\n",
       "    .dataframe tbody tr th:only-of-type {\n",
       "        vertical-align: middle;\n",
       "    }\n",
       "\n",
       "    .dataframe tbody tr th {\n",
       "        vertical-align: top;\n",
       "    }\n",
       "\n",
       "    .dataframe thead th {\n",
       "        text-align: right;\n",
       "    }\n",
       "</style>\n",
       "<table border=\"1\" class=\"dataframe\">\n",
       "  <thead>\n",
       "    <tr style=\"text-align: right;\">\n",
       "      <th></th>\n",
       "      <th>p_id</th>\n",
       "      <th>name</th>\n",
       "      <th>price</th>\n",
       "      <th>colour</th>\n",
       "      <th>brand</th>\n",
       "      <th>ratingCount</th>\n",
       "      <th>avg_rating</th>\n",
       "      <th>description</th>\n",
       "      <th>p_attributes</th>\n",
       "    </tr>\n",
       "  </thead>\n",
       "  <tbody>\n",
       "    <tr>\n",
       "      <th>0</th>\n",
       "      <td>1518329.0</td>\n",
       "      <td>Dupatta Bazaar White Embroidered Chiffon Dupatta</td>\n",
       "      <td>899.0</td>\n",
       "      <td>White</td>\n",
       "      <td>Dupatta Bazaar</td>\n",
       "      <td>1321.0</td>\n",
       "      <td>4.548827</td>\n",
       "      <td>White embroidered&amp;nbsp;dupattaChiffon&lt;br&gt;Hand-...</td>\n",
       "      <td>{'Occasion': 'Daily', 'Pattern': 'Embroidered'...</td>\n",
       "    </tr>\n",
       "    <tr>\n",
       "      <th>1</th>\n",
       "      <td>5829334.0</td>\n",
       "      <td>Roadster Women Mustard Yellow Solid Hooded Swe...</td>\n",
       "      <td>1199.0</td>\n",
       "      <td>Mustard</td>\n",
       "      <td>Roadster</td>\n",
       "      <td>5462.0</td>\n",
       "      <td>4.313255</td>\n",
       "      <td>Mustard yellow solid sweatshirt, has a hood, t...</td>\n",
       "      <td>{'Body Shape ID': '443,424,324', 'Body or Garm...</td>\n",
       "    </tr>\n",
       "    <tr>\n",
       "      <th>2</th>\n",
       "      <td>10340119.0</td>\n",
       "      <td>Inddus Peach-Coloured &amp; Beige Unstitched Dress...</td>\n",
       "      <td>5799.0</td>\n",
       "      <td>Peach</td>\n",
       "      <td>Inddus</td>\n",
       "      <td>145.0</td>\n",
       "      <td>4.068966</td>\n",
       "      <td>Peach-Coloured and beige woven design unstitch...</td>\n",
       "      <td>{'Bottom Fabric': 'Cotton Blend', 'Bottom Patt...</td>\n",
       "    </tr>\n",
       "    <tr>\n",
       "      <th>3</th>\n",
       "      <td>10856380.0</td>\n",
       "      <td>SASSAFRAS Women Black Parallel Trousers</td>\n",
       "      <td>1499.0</td>\n",
       "      <td>Black</td>\n",
       "      <td>SASSAFRAS</td>\n",
       "      <td>9124.0</td>\n",
       "      <td>4.147523</td>\n",
       "      <td>Black solid woven high-rise parallel trousers,...</td>\n",
       "      <td>{'Add-Ons': 'NA', 'Body Shape ID': '424', 'Bod...</td>\n",
       "    </tr>\n",
       "    <tr>\n",
       "      <th>4</th>\n",
       "      <td>12384822.0</td>\n",
       "      <td>Kotty Women Black Wide Leg High-Rise Clean Loo...</td>\n",
       "      <td>1999.0</td>\n",
       "      <td>Black</td>\n",
       "      <td>Kotty</td>\n",
       "      <td>12260.0</td>\n",
       "      <td>4.078467</td>\n",
       "      <td>Black dark wash 4-pocket high-rise jeans, clea...</td>\n",
       "      <td>{'Add-Ons': 'NA', 'Brand Fit Name': 'NA', 'Clo...</td>\n",
       "    </tr>\n",
       "    <tr>\n",
       "      <th>...</th>\n",
       "      <td>...</td>\n",
       "      <td>...</td>\n",
       "      <td>...</td>\n",
       "      <td>...</td>\n",
       "      <td>...</td>\n",
       "      <td>...</td>\n",
       "      <td>...</td>\n",
       "      <td>...</td>\n",
       "      <td>...</td>\n",
       "    </tr>\n",
       "    <tr>\n",
       "      <th>14324</th>\n",
       "      <td>17029604.0</td>\n",
       "      <td>The Chennai Silks Pink &amp; Silver-Toned Floral Z...</td>\n",
       "      <td>3999.0</td>\n",
       "      <td>Pink</td>\n",
       "      <td>The Chennai Silks</td>\n",
       "      <td>NaN</td>\n",
       "      <td>NaN</td>\n",
       "      <td>&lt;b&gt;Design Details &lt;/b&gt;&lt;ul&gt;&lt;li&gt;Pink and silver-...</td>\n",
       "      <td>{'Better Cotton Initiative': 'Regular', 'Blous...</td>\n",
       "    </tr>\n",
       "    <tr>\n",
       "      <th>14325</th>\n",
       "      <td>17600212.0</td>\n",
       "      <td>Kinder Kids Girls Blue &amp; Green Printed Foil Pr...</td>\n",
       "      <td>2050.0</td>\n",
       "      <td>Blue</td>\n",
       "      <td>Kinder Kids</td>\n",
       "      <td>NaN</td>\n",
       "      <td>NaN</td>\n",
       "      <td>Blue and green printed lehenga choli,  has foi...</td>\n",
       "      <td>{'Blouse Closure': 'NA', 'Blouse Fabric': 'Cot...</td>\n",
       "    </tr>\n",
       "    <tr>\n",
       "      <th>14326</th>\n",
       "      <td>18159266.0</td>\n",
       "      <td>KLOTTHE Women Green &amp; Black Floral Printed Pal...</td>\n",
       "      <td>1659.0</td>\n",
       "      <td>Green</td>\n",
       "      <td>KLOTTHE</td>\n",
       "      <td>NaN</td>\n",
       "      <td>NaN</td>\n",
       "      <td>&lt;ul&gt; &lt;li&gt; Green and black woven palazzos &lt;/li&gt;...</td>\n",
       "      <td>{'Body or Garment Size': 'To-Fit Denotes Body ...</td>\n",
       "    </tr>\n",
       "    <tr>\n",
       "      <th>14327</th>\n",
       "      <td>18921114.0</td>\n",
       "      <td>InWeave Women Red Printed A-Line Skirt</td>\n",
       "      <td>2399.0</td>\n",
       "      <td>Red</td>\n",
       "      <td>InWeave</td>\n",
       "      <td>NaN</td>\n",
       "      <td>NaN</td>\n",
       "      <td>&lt;p&gt;Red printed A-line skirt, has drawstring cl...</td>\n",
       "      <td>{'Add-Ons': 'NA', 'Body Shape ID': '324,333,42...</td>\n",
       "    </tr>\n",
       "    <tr>\n",
       "      <th>14328</th>\n",
       "      <td>19361058.0</td>\n",
       "      <td>BoStreet Women Navy Blue Tapered Fit Trousers</td>\n",
       "      <td>2599.0</td>\n",
       "      <td>Navy Blue</td>\n",
       "      <td>BoStreet</td>\n",
       "      <td>NaN</td>\n",
       "      <td>NaN</td>\n",
       "      <td>&lt;ul&gt; &lt;li&gt; Navy blue knitted trousers &lt;/li&gt; &lt;li...</td>\n",
       "      <td>{'Add-Ons': 'NA', 'Body Shape ID': '443,333,42...</td>\n",
       "    </tr>\n",
       "  </tbody>\n",
       "</table>\n",
       "<p>14270 rows × 9 columns</p>\n",
       "</div>"
      ],
      "text/plain": [
       "             p_id                                               name   price  \\\n",
       "0       1518329.0   Dupatta Bazaar White Embroidered Chiffon Dupatta   899.0   \n",
       "1       5829334.0  Roadster Women Mustard Yellow Solid Hooded Swe...  1199.0   \n",
       "2      10340119.0  Inddus Peach-Coloured & Beige Unstitched Dress...  5799.0   \n",
       "3      10856380.0            SASSAFRAS Women Black Parallel Trousers  1499.0   \n",
       "4      12384822.0  Kotty Women Black Wide Leg High-Rise Clean Loo...  1999.0   \n",
       "...           ...                                                ...     ...   \n",
       "14324  17029604.0  The Chennai Silks Pink & Silver-Toned Floral Z...  3999.0   \n",
       "14325  17600212.0  Kinder Kids Girls Blue & Green Printed Foil Pr...  2050.0   \n",
       "14326  18159266.0  KLOTTHE Women Green & Black Floral Printed Pal...  1659.0   \n",
       "14327  18921114.0             InWeave Women Red Printed A-Line Skirt  2399.0   \n",
       "14328  19361058.0      BoStreet Women Navy Blue Tapered Fit Trousers  2599.0   \n",
       "\n",
       "          colour              brand  ratingCount  avg_rating  \\\n",
       "0          White     Dupatta Bazaar       1321.0    4.548827   \n",
       "1        Mustard           Roadster       5462.0    4.313255   \n",
       "2          Peach             Inddus        145.0    4.068966   \n",
       "3          Black          SASSAFRAS       9124.0    4.147523   \n",
       "4          Black              Kotty      12260.0    4.078467   \n",
       "...          ...                ...          ...         ...   \n",
       "14324       Pink  The Chennai Silks          NaN         NaN   \n",
       "14325       Blue        Kinder Kids          NaN         NaN   \n",
       "14326      Green            KLOTTHE          NaN         NaN   \n",
       "14327        Red            InWeave          NaN         NaN   \n",
       "14328  Navy Blue           BoStreet          NaN         NaN   \n",
       "\n",
       "                                             description  \\\n",
       "0      White embroidered&nbsp;dupattaChiffon<br>Hand-...   \n",
       "1      Mustard yellow solid sweatshirt, has a hood, t...   \n",
       "2      Peach-Coloured and beige woven design unstitch...   \n",
       "3      Black solid woven high-rise parallel trousers,...   \n",
       "4      Black dark wash 4-pocket high-rise jeans, clea...   \n",
       "...                                                  ...   \n",
       "14324  <b>Design Details </b><ul><li>Pink and silver-...   \n",
       "14325  Blue and green printed lehenga choli,  has foi...   \n",
       "14326  <ul> <li> Green and black woven palazzos </li>...   \n",
       "14327  <p>Red printed A-line skirt, has drawstring cl...   \n",
       "14328  <ul> <li> Navy blue knitted trousers </li> <li...   \n",
       "\n",
       "                                            p_attributes  \n",
       "0      {'Occasion': 'Daily', 'Pattern': 'Embroidered'...  \n",
       "1      {'Body Shape ID': '443,424,324', 'Body or Garm...  \n",
       "2      {'Bottom Fabric': 'Cotton Blend', 'Bottom Patt...  \n",
       "3      {'Add-Ons': 'NA', 'Body Shape ID': '424', 'Bod...  \n",
       "4      {'Add-Ons': 'NA', 'Brand Fit Name': 'NA', 'Clo...  \n",
       "...                                                  ...  \n",
       "14324  {'Better Cotton Initiative': 'Regular', 'Blous...  \n",
       "14325  {'Blouse Closure': 'NA', 'Blouse Fabric': 'Cot...  \n",
       "14326  {'Body or Garment Size': 'To-Fit Denotes Body ...  \n",
       "14327  {'Add-Ons': 'NA', 'Body Shape ID': '324,333,42...  \n",
       "14328  {'Add-Ons': 'NA', 'Body Shape ID': '443,333,42...  \n",
       "\n",
       "[14270 rows x 9 columns]"
      ]
     },
     "execution_count": 11,
     "metadata": {},
     "output_type": "execute_result"
    }
   ],
   "source": [
    "fashion_dataset.drop_duplicates(inplace = True, keep = \"last\")\n",
    "fashion_dataset"
   ]
  },
  {
   "cell_type": "markdown",
   "id": "5feda8e9",
   "metadata": {},
   "source": [
    "> Expanding the p_attributes column\n"
   ]
  },
  {
   "cell_type": "code",
   "execution_count": 12,
   "id": "e14774e0",
   "metadata": {},
   "outputs": [],
   "source": [
    "fashion_dataset['p_attributes'] = fashion_dataset['p_attributes']\n",
    "not_null = pd.notnull(fashion_dataset['p_attributes'])\n",
    "fash3 = fashion_dataset[not_null]['p_attributes'].apply(lambda x: ast.literal_eval(x))\n",
    "temp = pd.DataFrame([*fash3], fash3.index)\n",
    "fashion_dataset = pd.concat([fashion_dataset, temp], axis=1)"
   ]
  },
  {
   "cell_type": "markdown",
   "id": "608969e9",
   "metadata": {},
   "source": [
    ">Renaming columns for use in SQL and MapReduce"
   ]
  },
  {
   "cell_type": "code",
   "execution_count": 13,
   "id": "fd891b13",
   "metadata": {},
   "outputs": [],
   "source": [
    "fashion_dataset.rename(columns={'Bottom Pattern': 'Bottom_Pattern', 'Top Pattern': 'Top_Pattern','Print or Pattern Type': 'Print_Pattern_Type'}, inplace=True)"
   ]
  },
  {
   "cell_type": "markdown",
   "id": "786af924",
   "metadata": {},
   "source": [
    ">Viewing all columns of the dataset"
   ]
  },
  {
   "cell_type": "code",
   "execution_count": 14,
   "id": "7a1016fd",
   "metadata": {
    "scrolled": false
   },
   "outputs": [
    {
     "name": "stdout",
     "output_type": "stream",
     "text": [
      "['p_id', 'name', 'price', 'colour', 'brand', 'ratingCount', 'avg_rating', 'description', 'p_attributes', 'Occasion', 'Pattern', 'Print_Pattern_Type', 'Body Shape ID', 'Body or Garment Size', 'Closure', 'Fabric', 'Hemline', 'Hood', 'Length', 'Neck', 'Number of Pockets', 'Pocket', 'Sleeve Length', 'Surface Styling', 'Type', 'Wash Care', 'Bottom Fabric', 'Bottom_Pattern', 'Dupatta Border', 'Dupatta Fabric', 'Dupatta Pattern', 'Kurta Fabric', 'Kurta Pattern', 'Ornamentation', 'Set Content', 'Stitch', 'Technique', 'Add-Ons', 'Brand Fit Name', 'Character', 'Fabric 2', 'Features', 'Fit', 'Fly Type', 'Main Trend', 'Multipack Set', 'Sustainable', 'Type of Pleat', 'Waist Rise', 'Weave Type', 'Distress', 'Effects', 'Fabric 3', 'Fade', 'Reversible', 'Shade', 'Stretch', 'Type of Distress', 'Waistband', 'Center Front Open', 'Fabric Type', 'Lining', 'Sleeve Styling', 'Transparency', 'taxMaterial', 'Front Styling', 'Knit or Woven', 'Sport', 'Technology', 'Blouse Closure', 'Blouse Fabric', 'Choli Stitch', 'Dupatta', 'Lehenga Closure', 'Lehenga Fabric', 'Lehenga Lining Fabric', 'Lehenga Stitch', 'Regions', 'Style Tip', 'Top_Pattern', 'Where-to-wear', 'Bottom Closure', 'Bottom Type', 'Top Fabric', 'Top Type', 'Trends', 'Blouse', 'Border', 'Care for me', 'Saree Fabric', 'Collar', 'Lining Fabric', 'Pattern Coverage', 'Slit Detail', 'Top Design Styling', 'Top Hemline', 'Top Length', 'Top Shape', 'Weave Pattern', 'Design Styling', 'Shape', 'Sport Team', 'Technology Present', 'Sub Trend', 'Wedding', 'Fabric Purity', 'Fusion Wear', 'Pattern Size', 'Contact Brand or Retailer for pre-sales product queries', 'Colour Family', 'Collection Name', 'Better Cotton Initiative', 'About the Brand', 'How to care for your denim', 'What it does for your body']\n"
     ]
    }
   ],
   "source": [
    "print(list(fashion_dataset.columns))"
   ]
  },
  {
   "cell_type": "markdown",
   "id": "50dc0b8b",
   "metadata": {},
   "source": [
    "> Use 'Occasion', 'Print or Pattern Type', 'Pattern', 'Top Pattern', 'Bottom Pattern'"
   ]
  },
  {
   "cell_type": "markdown",
   "id": "52f78cf5",
   "metadata": {},
   "source": [
    ">Merging the datasets"
   ]
  },
  {
   "cell_type": "code",
   "execution_count": 15,
   "id": "ad56bf91",
   "metadata": {
    "scrolled": true
   },
   "outputs": [
    {
     "data": {
      "text/html": [
       "<div>\n",
       "<style scoped>\n",
       "    .dataframe tbody tr th:only-of-type {\n",
       "        vertical-align: middle;\n",
       "    }\n",
       "\n",
       "    .dataframe tbody tr th {\n",
       "        vertical-align: top;\n",
       "    }\n",
       "\n",
       "    .dataframe thead th {\n",
       "        text-align: right;\n",
       "    }\n",
       "</style>\n",
       "<table border=\"1\" class=\"dataframe\">\n",
       "  <thead>\n",
       "    <tr style=\"text-align: right;\">\n",
       "      <th></th>\n",
       "      <th>p_id</th>\n",
       "      <th>name</th>\n",
       "      <th>price</th>\n",
       "      <th>colour</th>\n",
       "      <th>brand_id</th>\n",
       "      <th>brand_name</th>\n",
       "      <th>brand</th>\n",
       "      <th>ratingCount</th>\n",
       "      <th>avg_rating</th>\n",
       "      <th>Occasion</th>\n",
       "      <th>Print_Pattern_Type</th>\n",
       "      <th>Pattern</th>\n",
       "      <th>Top_Pattern</th>\n",
       "      <th>Bottom_Pattern</th>\n",
       "    </tr>\n",
       "  </thead>\n",
       "  <tbody>\n",
       "    <tr>\n",
       "      <th>0</th>\n",
       "      <td>1518329.0</td>\n",
       "      <td>Dupatta Bazaar White Embroidered Chiffon Dupatta</td>\n",
       "      <td>899.0</td>\n",
       "      <td>White</td>\n",
       "      <td>242.0</td>\n",
       "      <td>Dupatta Bazaar</td>\n",
       "      <td>Dupatta Bazaar</td>\n",
       "      <td>1321.0</td>\n",
       "      <td>4.548827</td>\n",
       "      <td>Daily</td>\n",
       "      <td>Floral</td>\n",
       "      <td>Embroidered</td>\n",
       "      <td>None</td>\n",
       "      <td>None</td>\n",
       "    </tr>\n",
       "    <tr>\n",
       "      <th>1</th>\n",
       "      <td>5829334.0</td>\n",
       "      <td>Roadster Women Mustard Yellow Solid Hooded Swe...</td>\n",
       "      <td>1199.0</td>\n",
       "      <td>Mustard</td>\n",
       "      <td>750.0</td>\n",
       "      <td>Roadster</td>\n",
       "      <td>Roadster</td>\n",
       "      <td>5462.0</td>\n",
       "      <td>4.313255</td>\n",
       "      <td>Casual</td>\n",
       "      <td>Solid</td>\n",
       "      <td>Solid</td>\n",
       "      <td>None</td>\n",
       "      <td>None</td>\n",
       "    </tr>\n",
       "    <tr>\n",
       "      <th>2</th>\n",
       "      <td>10340119.0</td>\n",
       "      <td>Inddus Peach-Coloured &amp; Beige Unstitched Dress...</td>\n",
       "      <td>5799.0</td>\n",
       "      <td>Peach</td>\n",
       "      <td>389.0</td>\n",
       "      <td>Inddus</td>\n",
       "      <td>Inddus</td>\n",
       "      <td>145.0</td>\n",
       "      <td>4.068966</td>\n",
       "      <td>Daily</td>\n",
       "      <td>Ethnic Motifs</td>\n",
       "      <td>None</td>\n",
       "      <td>None</td>\n",
       "      <td>Woven Design</td>\n",
       "    </tr>\n",
       "    <tr>\n",
       "      <th>3</th>\n",
       "      <td>10856380.0</td>\n",
       "      <td>SASSAFRAS Women Black Parallel Trousers</td>\n",
       "      <td>1499.0</td>\n",
       "      <td>Black</td>\n",
       "      <td>NaN</td>\n",
       "      <td>None</td>\n",
       "      <td>SASSAFRAS</td>\n",
       "      <td>9124.0</td>\n",
       "      <td>4.147523</td>\n",
       "      <td>Casual</td>\n",
       "      <td>Solid</td>\n",
       "      <td>Solid</td>\n",
       "      <td>None</td>\n",
       "      <td>None</td>\n",
       "    </tr>\n",
       "    <tr>\n",
       "      <th>4</th>\n",
       "      <td>12384822.0</td>\n",
       "      <td>Kotty Women Black Wide Leg High-Rise Clean Loo...</td>\n",
       "      <td>1999.0</td>\n",
       "      <td>Black</td>\n",
       "      <td>482.0</td>\n",
       "      <td>Kotty</td>\n",
       "      <td>Kotty</td>\n",
       "      <td>12260.0</td>\n",
       "      <td>4.078467</td>\n",
       "      <td>Casual</td>\n",
       "      <td>None</td>\n",
       "      <td>None</td>\n",
       "      <td>None</td>\n",
       "      <td>None</td>\n",
       "    </tr>\n",
       "    <tr>\n",
       "      <th>...</th>\n",
       "      <td>...</td>\n",
       "      <td>...</td>\n",
       "      <td>...</td>\n",
       "      <td>...</td>\n",
       "      <td>...</td>\n",
       "      <td>...</td>\n",
       "      <td>...</td>\n",
       "      <td>...</td>\n",
       "      <td>...</td>\n",
       "      <td>...</td>\n",
       "      <td>...</td>\n",
       "      <td>...</td>\n",
       "      <td>...</td>\n",
       "      <td>...</td>\n",
       "    </tr>\n",
       "    <tr>\n",
       "      <th>14265</th>\n",
       "      <td>17029604.0</td>\n",
       "      <td>The Chennai Silks Pink &amp; Silver-Toned Floral Z...</td>\n",
       "      <td>3999.0</td>\n",
       "      <td>Pink</td>\n",
       "      <td>880.0</td>\n",
       "      <td>The Chennai Silks</td>\n",
       "      <td>The Chennai Silks</td>\n",
       "      <td>NaN</td>\n",
       "      <td>NaN</td>\n",
       "      <td>Festive</td>\n",
       "      <td>Floral</td>\n",
       "      <td>Woven Design</td>\n",
       "      <td>None</td>\n",
       "      <td>None</td>\n",
       "    </tr>\n",
       "    <tr>\n",
       "      <th>14266</th>\n",
       "      <td>17600212.0</td>\n",
       "      <td>Kinder Kids Girls Blue &amp; Green Printed Foil Pr...</td>\n",
       "      <td>2050.0</td>\n",
       "      <td>Blue</td>\n",
       "      <td>471.0</td>\n",
       "      <td>Kinder Kids</td>\n",
       "      <td>Kinder Kids</td>\n",
       "      <td>NaN</td>\n",
       "      <td>NaN</td>\n",
       "      <td>None</td>\n",
       "      <td>None</td>\n",
       "      <td>None</td>\n",
       "      <td>Printed</td>\n",
       "      <td>Printed</td>\n",
       "    </tr>\n",
       "    <tr>\n",
       "      <th>14267</th>\n",
       "      <td>18159266.0</td>\n",
       "      <td>KLOTTHE Women Green &amp; Black Floral Printed Pal...</td>\n",
       "      <td>1659.0</td>\n",
       "      <td>Green</td>\n",
       "      <td>NaN</td>\n",
       "      <td>None</td>\n",
       "      <td>KLOTTHE</td>\n",
       "      <td>NaN</td>\n",
       "      <td>NaN</td>\n",
       "      <td>Western</td>\n",
       "      <td>Floral</td>\n",
       "      <td>Printed</td>\n",
       "      <td>None</td>\n",
       "      <td>None</td>\n",
       "    </tr>\n",
       "    <tr>\n",
       "      <th>14268</th>\n",
       "      <td>18921114.0</td>\n",
       "      <td>InWeave Women Red Printed A-Line Skirt</td>\n",
       "      <td>2399.0</td>\n",
       "      <td>Red</td>\n",
       "      <td>NaN</td>\n",
       "      <td>None</td>\n",
       "      <td>InWeave</td>\n",
       "      <td>NaN</td>\n",
       "      <td>NaN</td>\n",
       "      <td>Casual</td>\n",
       "      <td>Floral</td>\n",
       "      <td>Printed</td>\n",
       "      <td>None</td>\n",
       "      <td>None</td>\n",
       "    </tr>\n",
       "    <tr>\n",
       "      <th>14269</th>\n",
       "      <td>19361058.0</td>\n",
       "      <td>BoStreet Women Navy Blue Tapered Fit Trousers</td>\n",
       "      <td>2599.0</td>\n",
       "      <td>Navy Blue</td>\n",
       "      <td>NaN</td>\n",
       "      <td>None</td>\n",
       "      <td>BoStreet</td>\n",
       "      <td>NaN</td>\n",
       "      <td>NaN</td>\n",
       "      <td>Casual</td>\n",
       "      <td>Solid</td>\n",
       "      <td>Solid</td>\n",
       "      <td>None</td>\n",
       "      <td>None</td>\n",
       "    </tr>\n",
       "  </tbody>\n",
       "</table>\n",
       "<p>14270 rows × 14 columns</p>\n",
       "</div>"
      ],
      "text/plain": [
       "             p_id                                               name   price  \\\n",
       "0       1518329.0   Dupatta Bazaar White Embroidered Chiffon Dupatta   899.0   \n",
       "1       5829334.0  Roadster Women Mustard Yellow Solid Hooded Swe...  1199.0   \n",
       "2      10340119.0  Inddus Peach-Coloured & Beige Unstitched Dress...  5799.0   \n",
       "3      10856380.0            SASSAFRAS Women Black Parallel Trousers  1499.0   \n",
       "4      12384822.0  Kotty Women Black Wide Leg High-Rise Clean Loo...  1999.0   \n",
       "...           ...                                                ...     ...   \n",
       "14265  17029604.0  The Chennai Silks Pink & Silver-Toned Floral Z...  3999.0   \n",
       "14266  17600212.0  Kinder Kids Girls Blue & Green Printed Foil Pr...  2050.0   \n",
       "14267  18159266.0  KLOTTHE Women Green & Black Floral Printed Pal...  1659.0   \n",
       "14268  18921114.0             InWeave Women Red Printed A-Line Skirt  2399.0   \n",
       "14269  19361058.0      BoStreet Women Navy Blue Tapered Fit Trousers  2599.0   \n",
       "\n",
       "          colour  brand_id         brand_name              brand  ratingCount  \\\n",
       "0          White     242.0     Dupatta Bazaar     Dupatta Bazaar       1321.0   \n",
       "1        Mustard     750.0           Roadster           Roadster       5462.0   \n",
       "2          Peach     389.0             Inddus             Inddus        145.0   \n",
       "3          Black       NaN               None          SASSAFRAS       9124.0   \n",
       "4          Black     482.0              Kotty              Kotty      12260.0   \n",
       "...          ...       ...                ...                ...          ...   \n",
       "14265       Pink     880.0  The Chennai Silks  The Chennai Silks          NaN   \n",
       "14266       Blue     471.0        Kinder Kids        Kinder Kids          NaN   \n",
       "14267      Green       NaN               None            KLOTTHE          NaN   \n",
       "14268        Red       NaN               None            InWeave          NaN   \n",
       "14269  Navy Blue       NaN               None           BoStreet          NaN   \n",
       "\n",
       "       avg_rating Occasion Print_Pattern_Type       Pattern Top_Pattern  \\\n",
       "0        4.548827    Daily             Floral   Embroidered        None   \n",
       "1        4.313255   Casual              Solid         Solid        None   \n",
       "2        4.068966    Daily      Ethnic Motifs          None        None   \n",
       "3        4.147523   Casual              Solid         Solid        None   \n",
       "4        4.078467   Casual               None          None        None   \n",
       "...           ...      ...                ...           ...         ...   \n",
       "14265         NaN  Festive             Floral  Woven Design        None   \n",
       "14266         NaN     None               None          None     Printed   \n",
       "14267         NaN  Western             Floral       Printed        None   \n",
       "14268         NaN   Casual             Floral       Printed        None   \n",
       "14269         NaN   Casual              Solid         Solid        None   \n",
       "\n",
       "      Bottom_Pattern  \n",
       "0               None  \n",
       "1               None  \n",
       "2       Woven Design  \n",
       "3               None  \n",
       "4               None  \n",
       "...              ...  \n",
       "14265           None  \n",
       "14266        Printed  \n",
       "14267           None  \n",
       "14268           None  \n",
       "14269           None  \n",
       "\n",
       "[14270 rows x 14 columns]"
      ]
     },
     "execution_count": 15,
     "metadata": {},
     "output_type": "execute_result"
    }
   ],
   "source": [
    "merged_dataset = ps.sqldf(\"select fashion_dataset.p_id, fashion_dataset.name, fashion_dataset.price, fashion_dataset.colour, brand_details.*, fashion_dataset.brand, fashion_dataset.ratingCount, fashion_dataset.avg_rating, fashion_dataset.Occasion, fashion_dataset.Print_Pattern_Type, fashion_dataset.Pattern, fashion_dataset.Top_Pattern, fashion_dataset.Bottom_Pattern from fashion_dataset left join brand_details on (fashion_dataset.brand = brand_details.brand_name)\")\n",
    "merged_dataset"
   ]
  },
  {
   "cell_type": "markdown",
   "id": "40c2042d",
   "metadata": {},
   "source": [
    ">Dropping unnecessary null values"
   ]
  },
  {
   "cell_type": "code",
   "execution_count": 16,
   "id": "66271e72",
   "metadata": {},
   "outputs": [
    {
     "data": {
      "text/plain": [
       "p_id                      1\n",
       "name                      2\n",
       "price                     2\n",
       "colour                    5\n",
       "brand_id               6199\n",
       "brand_name             6199\n",
       "brand                     7\n",
       "ratingCount            7707\n",
       "avg_rating             7707\n",
       "Occasion               1101\n",
       "Print_Pattern_Type     4277\n",
       "Pattern                3807\n",
       "Top_Pattern           12112\n",
       "Bottom_Pattern        11477\n",
       "dtype: int64"
      ]
     },
     "execution_count": 16,
     "metadata": {},
     "output_type": "execute_result"
    }
   ],
   "source": [
    "merged_dataset.isna().sum()"
   ]
  },
  {
   "cell_type": "code",
   "execution_count": 17,
   "id": "f4cd4811",
   "metadata": {},
   "outputs": [
    {
     "data": {
      "text/html": [
       "<div>\n",
       "<style scoped>\n",
       "    .dataframe tbody tr th:only-of-type {\n",
       "        vertical-align: middle;\n",
       "    }\n",
       "\n",
       "    .dataframe tbody tr th {\n",
       "        vertical-align: top;\n",
       "    }\n",
       "\n",
       "    .dataframe thead th {\n",
       "        text-align: right;\n",
       "    }\n",
       "</style>\n",
       "<table border=\"1\" class=\"dataframe\">\n",
       "  <thead>\n",
       "    <tr style=\"text-align: right;\">\n",
       "      <th></th>\n",
       "      <th>p_id</th>\n",
       "      <th>name</th>\n",
       "      <th>price</th>\n",
       "      <th>colour</th>\n",
       "      <th>brand_id</th>\n",
       "      <th>brand_name</th>\n",
       "      <th>brand</th>\n",
       "      <th>ratingCount</th>\n",
       "      <th>avg_rating</th>\n",
       "      <th>Occasion</th>\n",
       "      <th>Print_Pattern_Type</th>\n",
       "      <th>Pattern</th>\n",
       "      <th>Top_Pattern</th>\n",
       "      <th>Bottom_Pattern</th>\n",
       "    </tr>\n",
       "  </thead>\n",
       "  <tbody>\n",
       "    <tr>\n",
       "      <th>0</th>\n",
       "      <td>None</td>\n",
       "      <td>None</td>\n",
       "      <td>None</td>\n",
       "      <td>None</td>\n",
       "      <td>None</td>\n",
       "      <td>None</td>\n",
       "      <td>None</td>\n",
       "      <td>None</td>\n",
       "      <td>None</td>\n",
       "      <td>None</td>\n",
       "      <td>None</td>\n",
       "      <td>None</td>\n",
       "      <td>None</td>\n",
       "      <td>None</td>\n",
       "    </tr>\n",
       "  </tbody>\n",
       "</table>\n",
       "</div>"
      ],
      "text/plain": [
       "   p_id  name price colour brand_id brand_name brand ratingCount avg_rating  \\\n",
       "0  None  None  None   None     None       None  None        None       None   \n",
       "\n",
       "  Occasion Print_Pattern_Type Pattern Top_Pattern Bottom_Pattern  \n",
       "0     None               None    None        None           None  "
      ]
     },
     "execution_count": 17,
     "metadata": {},
     "output_type": "execute_result"
    }
   ],
   "source": [
    "sqldf(\"select * from merged_dataset where p_id is null\")"
   ]
  },
  {
   "cell_type": "code",
   "execution_count": 18,
   "id": "b4d32fc4",
   "metadata": {},
   "outputs": [
    {
     "data": {
      "text/plain": [
       "p_id                      0\n",
       "name                      1\n",
       "price                     1\n",
       "colour                    4\n",
       "brand_id               6198\n",
       "brand_name             6198\n",
       "brand                     6\n",
       "ratingCount            7706\n",
       "avg_rating             7706\n",
       "Occasion               1100\n",
       "Print_Pattern_Type     4276\n",
       "Pattern                3806\n",
       "Top_Pattern           12111\n",
       "Bottom_Pattern        11476\n",
       "dtype: int64"
      ]
     },
     "execution_count": 18,
     "metadata": {},
     "output_type": "execute_result"
    }
   ],
   "source": [
    "merged_dataset.dropna(subset = \"p_id\", inplace = True)\n",
    "merged_dataset.isna().sum()"
   ]
  },
  {
   "cell_type": "code",
   "execution_count": 19,
   "id": "82ba8b0f",
   "metadata": {},
   "outputs": [
    {
     "data": {
      "text/html": [
       "<div>\n",
       "<style scoped>\n",
       "    .dataframe tbody tr th:only-of-type {\n",
       "        vertical-align: middle;\n",
       "    }\n",
       "\n",
       "    .dataframe tbody tr th {\n",
       "        vertical-align: top;\n",
       "    }\n",
       "\n",
       "    .dataframe thead th {\n",
       "        text-align: right;\n",
       "    }\n",
       "</style>\n",
       "<table border=\"1\" class=\"dataframe\">\n",
       "  <thead>\n",
       "    <tr style=\"text-align: right;\">\n",
       "      <th></th>\n",
       "      <th>p_id</th>\n",
       "      <th>name</th>\n",
       "      <th>price</th>\n",
       "      <th>colour</th>\n",
       "      <th>brand_id</th>\n",
       "      <th>brand_name</th>\n",
       "      <th>brand</th>\n",
       "      <th>ratingCount</th>\n",
       "      <th>avg_rating</th>\n",
       "      <th>Occasion</th>\n",
       "      <th>Print_Pattern_Type</th>\n",
       "      <th>Pattern</th>\n",
       "      <th>Top_Pattern</th>\n",
       "      <th>Bottom_Pattern</th>\n",
       "    </tr>\n",
       "  </thead>\n",
       "  <tbody>\n",
       "    <tr>\n",
       "      <th>0</th>\n",
       "      <td>19068208.0</td>\n",
       "      <td>None</td>\n",
       "      <td>None</td>\n",
       "      <td>None</td>\n",
       "      <td>None</td>\n",
       "      <td>None</td>\n",
       "      <td>None</td>\n",
       "      <td>None</td>\n",
       "      <td>None</td>\n",
       "      <td>None</td>\n",
       "      <td>None</td>\n",
       "      <td>None</td>\n",
       "      <td>None</td>\n",
       "      <td>None</td>\n",
       "    </tr>\n",
       "  </tbody>\n",
       "</table>\n",
       "</div>"
      ],
      "text/plain": [
       "         p_id  name price colour brand_id brand_name brand ratingCount  \\\n",
       "0  19068208.0  None  None   None     None       None  None        None   \n",
       "\n",
       "  avg_rating Occasion Print_Pattern_Type Pattern Top_Pattern Bottom_Pattern  \n",
       "0       None     None               None    None        None           None  "
      ]
     },
     "execution_count": 19,
     "metadata": {},
     "output_type": "execute_result"
    }
   ],
   "source": [
    "sqldf(\"select * from merged_dataset where name is null\")"
   ]
  },
  {
   "cell_type": "code",
   "execution_count": 20,
   "id": "747bb813",
   "metadata": {
    "scrolled": true
   },
   "outputs": [
    {
     "data": {
      "text/plain": [
       "p_id                      0\n",
       "name                      0\n",
       "price                     0\n",
       "colour                    3\n",
       "brand_id               6197\n",
       "brand_name             6197\n",
       "brand                     5\n",
       "ratingCount            7705\n",
       "avg_rating             7705\n",
       "Occasion               1099\n",
       "Print_Pattern_Type     4275\n",
       "Pattern                3805\n",
       "Top_Pattern           12110\n",
       "Bottom_Pattern        11475\n",
       "dtype: int64"
      ]
     },
     "execution_count": 20,
     "metadata": {},
     "output_type": "execute_result"
    }
   ],
   "source": [
    "merged_dataset.dropna(subset = \"name\", inplace = True)\n",
    "merged_dataset.isna().sum()"
   ]
  },
  {
   "cell_type": "markdown",
   "id": "c1ce0a41",
   "metadata": {},
   "source": [
    ">Upon inspection, the rows where brand was null were duplicate rows, and were therefore dropped."
   ]
  },
  {
   "cell_type": "code",
   "execution_count": 21,
   "id": "09f4ace7",
   "metadata": {},
   "outputs": [
    {
     "data": {
      "text/plain": [
       "p_id                      0\n",
       "name                      0\n",
       "price                     0\n",
       "colour                    3\n",
       "brand_id               6192\n",
       "brand_name             6192\n",
       "brand                     0\n",
       "ratingCount            7703\n",
       "avg_rating             7703\n",
       "Occasion               1099\n",
       "Print_Pattern_Type     4275\n",
       "Pattern                3805\n",
       "Top_Pattern           12105\n",
       "Bottom_Pattern        11470\n",
       "dtype: int64"
      ]
     },
     "execution_count": 21,
     "metadata": {},
     "output_type": "execute_result"
    }
   ],
   "source": [
    "merged_dataset.dropna(subset = \"brand\", inplace = True)\n",
    "merged_dataset.isna().sum()"
   ]
  },
  {
   "cell_type": "markdown",
   "id": "1d8100a2",
   "metadata": {},
   "source": [
    ">Finding why there are null brand name and brand ID values"
   ]
  },
  {
   "cell_type": "code",
   "execution_count": 22,
   "id": "99adeca8",
   "metadata": {},
   "outputs": [
    {
     "data": {
      "text/html": [
       "<div>\n",
       "<style scoped>\n",
       "    .dataframe tbody tr th:only-of-type {\n",
       "        vertical-align: middle;\n",
       "    }\n",
       "\n",
       "    .dataframe tbody tr th {\n",
       "        vertical-align: top;\n",
       "    }\n",
       "\n",
       "    .dataframe thead th {\n",
       "        text-align: right;\n",
       "    }\n",
       "</style>\n",
       "<table border=\"1\" class=\"dataframe\">\n",
       "  <thead>\n",
       "    <tr style=\"text-align: right;\">\n",
       "      <th></th>\n",
       "      <th>brand</th>\n",
       "    </tr>\n",
       "  </thead>\n",
       "  <tbody>\n",
       "    <tr>\n",
       "      <th>0</th>\n",
       "      <td>SASSAFRAS</td>\n",
       "    </tr>\n",
       "    <tr>\n",
       "      <th>1</th>\n",
       "      <td>KASSUALLY</td>\n",
       "    </tr>\n",
       "    <tr>\n",
       "      <th>2</th>\n",
       "      <td>Saree mall</td>\n",
       "    </tr>\n",
       "    <tr>\n",
       "      <th>3</th>\n",
       "      <td>MONTREZ</td>\n",
       "    </tr>\n",
       "    <tr>\n",
       "      <th>4</th>\n",
       "      <td>DOLCE CRUDO</td>\n",
       "    </tr>\n",
       "    <tr>\n",
       "      <th>...</th>\n",
       "      <td>...</td>\n",
       "    </tr>\n",
       "    <tr>\n",
       "      <th>515</th>\n",
       "      <td>SARIYA</td>\n",
       "    </tr>\n",
       "    <tr>\n",
       "      <th>516</th>\n",
       "      <td>kasee</td>\n",
       "    </tr>\n",
       "    <tr>\n",
       "      <th>517</th>\n",
       "      <td>SHIVANGI clothing</td>\n",
       "    </tr>\n",
       "    <tr>\n",
       "      <th>518</th>\n",
       "      <td>ARTICALE</td>\n",
       "    </tr>\n",
       "    <tr>\n",
       "      <th>519</th>\n",
       "      <td>tantkatha</td>\n",
       "    </tr>\n",
       "  </tbody>\n",
       "</table>\n",
       "<p>520 rows × 1 columns</p>\n",
       "</div>"
      ],
      "text/plain": [
       "                 brand\n",
       "0            SASSAFRAS\n",
       "1            KASSUALLY\n",
       "2           Saree mall\n",
       "3              MONTREZ\n",
       "4          DOLCE CRUDO\n",
       "..                 ...\n",
       "515             SARIYA\n",
       "516              kasee\n",
       "517  SHIVANGI clothing\n",
       "518           ARTICALE\n",
       "519          tantkatha\n",
       "\n",
       "[520 rows x 1 columns]"
      ]
     },
     "execution_count": 22,
     "metadata": {},
     "output_type": "execute_result"
    }
   ],
   "source": [
    "sqldf(\"select distinct brand from merged_dataset where brand_id is null\")"
   ]
  },
  {
   "cell_type": "code",
   "execution_count": 23,
   "id": "37bd7135",
   "metadata": {},
   "outputs": [
    {
     "data": {
      "text/html": [
       "<div>\n",
       "<style scoped>\n",
       "    .dataframe tbody tr th:only-of-type {\n",
       "        vertical-align: middle;\n",
       "    }\n",
       "\n",
       "    .dataframe tbody tr th {\n",
       "        vertical-align: top;\n",
       "    }\n",
       "\n",
       "    .dataframe thead th {\n",
       "        text-align: right;\n",
       "    }\n",
       "</style>\n",
       "<table border=\"1\" class=\"dataframe\">\n",
       "  <thead>\n",
       "    <tr style=\"text-align: right;\">\n",
       "      <th></th>\n",
       "      <th>brand</th>\n",
       "      <th>brand_id</th>\n",
       "    </tr>\n",
       "  </thead>\n",
       "  <tbody>\n",
       "    <tr>\n",
       "      <th>0</th>\n",
       "      <td>SASSAFRAS</td>\n",
       "      <td>NaN</td>\n",
       "    </tr>\n",
       "    <tr>\n",
       "      <th>1</th>\n",
       "      <td>KASSUALLY</td>\n",
       "      <td>NaN</td>\n",
       "    </tr>\n",
       "    <tr>\n",
       "      <th>2</th>\n",
       "      <td>Saree mall</td>\n",
       "      <td>NaN</td>\n",
       "    </tr>\n",
       "    <tr>\n",
       "      <th>3</th>\n",
       "      <td>MONTREZ</td>\n",
       "      <td>NaN</td>\n",
       "    </tr>\n",
       "    <tr>\n",
       "      <th>4</th>\n",
       "      <td>DOLCE CRUDO</td>\n",
       "      <td>NaN</td>\n",
       "    </tr>\n",
       "    <tr>\n",
       "      <th>...</th>\n",
       "      <td>...</td>\n",
       "      <td>...</td>\n",
       "    </tr>\n",
       "    <tr>\n",
       "      <th>1015</th>\n",
       "      <td>Zigo</td>\n",
       "      <td>1011.0</td>\n",
       "    </tr>\n",
       "    <tr>\n",
       "      <th>1016</th>\n",
       "      <td>Zima Leto</td>\n",
       "      <td>1013.0</td>\n",
       "    </tr>\n",
       "    <tr>\n",
       "      <th>1017</th>\n",
       "      <td>Zink London</td>\n",
       "      <td>1014.0</td>\n",
       "    </tr>\n",
       "    <tr>\n",
       "      <th>1018</th>\n",
       "      <td>Ziva Fashion</td>\n",
       "      <td>1016.0</td>\n",
       "    </tr>\n",
       "    <tr>\n",
       "      <th>1019</th>\n",
       "      <td>Zivame</td>\n",
       "      <td>1017.0</td>\n",
       "    </tr>\n",
       "  </tbody>\n",
       "</table>\n",
       "<p>1020 rows × 2 columns</p>\n",
       "</div>"
      ],
      "text/plain": [
       "             brand  brand_id\n",
       "0        SASSAFRAS       NaN\n",
       "1        KASSUALLY       NaN\n",
       "2       Saree mall       NaN\n",
       "3          MONTREZ       NaN\n",
       "4      DOLCE CRUDO       NaN\n",
       "...            ...       ...\n",
       "1015          Zigo    1011.0\n",
       "1016     Zima Leto    1013.0\n",
       "1017   Zink London    1014.0\n",
       "1018  Ziva Fashion    1016.0\n",
       "1019        Zivame    1017.0\n",
       "\n",
       "[1020 rows x 2 columns]"
      ]
     },
     "execution_count": 23,
     "metadata": {},
     "output_type": "execute_result"
    }
   ],
   "source": [
    "sqldf(\"select distinct brand, brand_id from merged_dataset order by brand_id asc\")"
   ]
  },
  {
   "cell_type": "code",
   "execution_count": 24,
   "id": "d73e2b81",
   "metadata": {},
   "outputs": [
    {
     "data": {
      "text/html": [
       "<div>\n",
       "<style scoped>\n",
       "    .dataframe tbody tr th:only-of-type {\n",
       "        vertical-align: middle;\n",
       "    }\n",
       "\n",
       "    .dataframe tbody tr th {\n",
       "        vertical-align: top;\n",
       "    }\n",
       "\n",
       "    .dataframe thead th {\n",
       "        text-align: right;\n",
       "    }\n",
       "</style>\n",
       "<table border=\"1\" class=\"dataframe\">\n",
       "  <thead>\n",
       "    <tr style=\"text-align: right;\">\n",
       "      <th></th>\n",
       "      <th>brand_id</th>\n",
       "    </tr>\n",
       "  </thead>\n",
       "  <tbody>\n",
       "    <tr>\n",
       "      <th>0</th>\n",
       "      <td>NaN</td>\n",
       "    </tr>\n",
       "    <tr>\n",
       "      <th>1</th>\n",
       "      <td>1.0</td>\n",
       "    </tr>\n",
       "    <tr>\n",
       "      <th>2</th>\n",
       "      <td>2.0</td>\n",
       "    </tr>\n",
       "    <tr>\n",
       "      <th>3</th>\n",
       "      <td>3.0</td>\n",
       "    </tr>\n",
       "    <tr>\n",
       "      <th>4</th>\n",
       "      <td>7.0</td>\n",
       "    </tr>\n",
       "    <tr>\n",
       "      <th>...</th>\n",
       "      <td>...</td>\n",
       "    </tr>\n",
       "    <tr>\n",
       "      <th>496</th>\n",
       "      <td>1011.0</td>\n",
       "    </tr>\n",
       "    <tr>\n",
       "      <th>497</th>\n",
       "      <td>1013.0</td>\n",
       "    </tr>\n",
       "    <tr>\n",
       "      <th>498</th>\n",
       "      <td>1014.0</td>\n",
       "    </tr>\n",
       "    <tr>\n",
       "      <th>499</th>\n",
       "      <td>1016.0</td>\n",
       "    </tr>\n",
       "    <tr>\n",
       "      <th>500</th>\n",
       "      <td>1017.0</td>\n",
       "    </tr>\n",
       "  </tbody>\n",
       "</table>\n",
       "<p>501 rows × 1 columns</p>\n",
       "</div>"
      ],
      "text/plain": [
       "     brand_id\n",
       "0         NaN\n",
       "1         1.0\n",
       "2         2.0\n",
       "3         3.0\n",
       "4         7.0\n",
       "..        ...\n",
       "496    1011.0\n",
       "497    1013.0\n",
       "498    1014.0\n",
       "499    1016.0\n",
       "500    1017.0\n",
       "\n",
       "[501 rows x 1 columns]"
      ]
     },
     "execution_count": 24,
     "metadata": {},
     "output_type": "execute_result"
    }
   ],
   "source": [
    "sqldf(\"select distinct brand_id from merged_dataset order by brand_id asc\")"
   ]
  },
  {
   "cell_type": "code",
   "execution_count": 25,
   "id": "61d64823",
   "metadata": {},
   "outputs": [
    {
     "data": {
      "text/html": [
       "<div>\n",
       "<style scoped>\n",
       "    .dataframe tbody tr th:only-of-type {\n",
       "        vertical-align: middle;\n",
       "    }\n",
       "\n",
       "    .dataframe tbody tr th {\n",
       "        vertical-align: top;\n",
       "    }\n",
       "\n",
       "    .dataframe thead th {\n",
       "        text-align: right;\n",
       "    }\n",
       "</style>\n",
       "<table border=\"1\" class=\"dataframe\">\n",
       "  <thead>\n",
       "    <tr style=\"text-align: right;\">\n",
       "      <th></th>\n",
       "      <th>brand_id</th>\n",
       "    </tr>\n",
       "  </thead>\n",
       "  <tbody>\n",
       "  </tbody>\n",
       "</table>\n",
       "</div>"
      ],
      "text/plain": [
       "Empty DataFrame\n",
       "Columns: [brand_id]\n",
       "Index: []"
      ]
     },
     "execution_count": 25,
     "metadata": {},
     "output_type": "execute_result"
    }
   ],
   "source": [
    "sqldf(\"select brand_id from brand_details where brand_name = 'KASSUALLY'\")"
   ]
  },
  {
   "cell_type": "code",
   "execution_count": 26,
   "id": "84a9d6bb",
   "metadata": {},
   "outputs": [
    {
     "data": {
      "text/html": [
       "<div>\n",
       "<style scoped>\n",
       "    .dataframe tbody tr th:only-of-type {\n",
       "        vertical-align: middle;\n",
       "    }\n",
       "\n",
       "    .dataframe tbody tr th {\n",
       "        vertical-align: top;\n",
       "    }\n",
       "\n",
       "    .dataframe thead th {\n",
       "        text-align: right;\n",
       "    }\n",
       "</style>\n",
       "<table border=\"1\" class=\"dataframe\">\n",
       "  <thead>\n",
       "    <tr style=\"text-align: right;\">\n",
       "      <th></th>\n",
       "      <th>p_id</th>\n",
       "      <th>name</th>\n",
       "      <th>price</th>\n",
       "      <th>colour</th>\n",
       "      <th>brand_id</th>\n",
       "      <th>brand_name</th>\n",
       "      <th>brand</th>\n",
       "      <th>ratingCount</th>\n",
       "      <th>avg_rating</th>\n",
       "      <th>Occasion</th>\n",
       "      <th>Print_Pattern_Type</th>\n",
       "      <th>Pattern</th>\n",
       "      <th>Top_Pattern</th>\n",
       "      <th>Bottom_Pattern</th>\n",
       "    </tr>\n",
       "  </thead>\n",
       "  <tbody>\n",
       "  </tbody>\n",
       "</table>\n",
       "</div>"
      ],
      "text/plain": [
       "Empty DataFrame\n",
       "Columns: [p_id, name, price, colour, brand_id, brand_name, brand, ratingCount, avg_rating, Occasion, Print_Pattern_Type, Pattern, Top_Pattern, Bottom_Pattern]\n",
       "Index: []"
      ]
     },
     "execution_count": 26,
     "metadata": {},
     "output_type": "execute_result"
    }
   ],
   "source": [
    "sqldf(\"select distinct * from merged_dataset where brand is null\")"
   ]
  },
  {
   "cell_type": "code",
   "execution_count": 27,
   "id": "c49bfc0e",
   "metadata": {},
   "outputs": [
    {
     "data": {
      "text/html": [
       "<div>\n",
       "<style scoped>\n",
       "    .dataframe tbody tr th:only-of-type {\n",
       "        vertical-align: middle;\n",
       "    }\n",
       "\n",
       "    .dataframe tbody tr th {\n",
       "        vertical-align: top;\n",
       "    }\n",
       "\n",
       "    .dataframe thead th {\n",
       "        text-align: right;\n",
       "    }\n",
       "</style>\n",
       "<table border=\"1\" class=\"dataframe\">\n",
       "  <thead>\n",
       "    <tr style=\"text-align: right;\">\n",
       "      <th></th>\n",
       "      <th>p_id</th>\n",
       "      <th>name</th>\n",
       "      <th>price</th>\n",
       "      <th>colour</th>\n",
       "      <th>brand_id</th>\n",
       "      <th>brand_name</th>\n",
       "      <th>brand</th>\n",
       "      <th>ratingCount</th>\n",
       "      <th>avg_rating</th>\n",
       "      <th>Occasion</th>\n",
       "      <th>Print_Pattern_Type</th>\n",
       "      <th>Pattern</th>\n",
       "      <th>Top_Pattern</th>\n",
       "      <th>Bottom_Pattern</th>\n",
       "    </tr>\n",
       "  </thead>\n",
       "  <tbody>\n",
       "    <tr>\n",
       "      <th>0</th>\n",
       "      <td>10856380.0</td>\n",
       "      <td>SASSAFRAS Women Black Parallel Trousers</td>\n",
       "      <td>1499.0</td>\n",
       "      <td>Black</td>\n",
       "      <td>None</td>\n",
       "      <td>None</td>\n",
       "      <td>SASSAFRAS</td>\n",
       "      <td>9124.0</td>\n",
       "      <td>4.147523</td>\n",
       "      <td>Casual</td>\n",
       "      <td>Solid</td>\n",
       "      <td>Solid</td>\n",
       "      <td>None</td>\n",
       "      <td>None</td>\n",
       "    </tr>\n",
       "    <tr>\n",
       "      <th>1</th>\n",
       "      <td>12742100.0</td>\n",
       "      <td>KASSUALLY Women Black &amp; Pink Printed Basic Jum...</td>\n",
       "      <td>2199.0</td>\n",
       "      <td>Black</td>\n",
       "      <td>None</td>\n",
       "      <td>None</td>\n",
       "      <td>KASSUALLY</td>\n",
       "      <td>6297.0</td>\n",
       "      <td>4.349214</td>\n",
       "      <td>Casual</td>\n",
       "      <td>None</td>\n",
       "      <td>Printed</td>\n",
       "      <td>None</td>\n",
       "      <td>None</td>\n",
       "    </tr>\n",
       "    <tr>\n",
       "      <th>2</th>\n",
       "      <td>13842966.0</td>\n",
       "      <td>Sassafras Brown &amp; Red Geometric Printed George...</td>\n",
       "      <td>1499.0</td>\n",
       "      <td>Brown</td>\n",
       "      <td>None</td>\n",
       "      <td>None</td>\n",
       "      <td>SASSAFRAS</td>\n",
       "      <td>7358.0</td>\n",
       "      <td>4.395352</td>\n",
       "      <td>Casual</td>\n",
       "      <td>Geometric</td>\n",
       "      <td>Printed</td>\n",
       "      <td>None</td>\n",
       "      <td>None</td>\n",
       "    </tr>\n",
       "    <tr>\n",
       "      <th>3</th>\n",
       "      <td>16595858.0</td>\n",
       "      <td>Saree Mall Floral Saree</td>\n",
       "      <td>3599.0</td>\n",
       "      <td>Pink</td>\n",
       "      <td>None</td>\n",
       "      <td>None</td>\n",
       "      <td>Saree mall</td>\n",
       "      <td>1005.0</td>\n",
       "      <td>3.980100</td>\n",
       "      <td>Party</td>\n",
       "      <td>Floral</td>\n",
       "      <td>Printed</td>\n",
       "      <td>None</td>\n",
       "      <td>None</td>\n",
       "    </tr>\n",
       "    <tr>\n",
       "      <th>4</th>\n",
       "      <td>18601482.0</td>\n",
       "      <td>MONTREZ Women White Black Open Front Jacket</td>\n",
       "      <td>1999.0</td>\n",
       "      <td>White</td>\n",
       "      <td>None</td>\n",
       "      <td>None</td>\n",
       "      <td>MONTREZ</td>\n",
       "      <td>61.0</td>\n",
       "      <td>4.377049</td>\n",
       "      <td>Casual</td>\n",
       "      <td>Graphic</td>\n",
       "      <td>Printed</td>\n",
       "      <td>None</td>\n",
       "      <td>None</td>\n",
       "    </tr>\n",
       "    <tr>\n",
       "      <th>...</th>\n",
       "      <td>...</td>\n",
       "      <td>...</td>\n",
       "      <td>...</td>\n",
       "      <td>...</td>\n",
       "      <td>...</td>\n",
       "      <td>...</td>\n",
       "      <td>...</td>\n",
       "      <td>...</td>\n",
       "      <td>...</td>\n",
       "      <td>...</td>\n",
       "      <td>...</td>\n",
       "      <td>...</td>\n",
       "      <td>...</td>\n",
       "      <td>...</td>\n",
       "    </tr>\n",
       "    <tr>\n",
       "      <th>6187</th>\n",
       "      <td>18055840.0</td>\n",
       "      <td>tantkatha Black Front Closure Saree Blouse Wit...</td>\n",
       "      <td>1699.0</td>\n",
       "      <td>Black</td>\n",
       "      <td>None</td>\n",
       "      <td>None</td>\n",
       "      <td>tantkatha</td>\n",
       "      <td>NaN</td>\n",
       "      <td>NaN</td>\n",
       "      <td>Party</td>\n",
       "      <td>None</td>\n",
       "      <td>Solid</td>\n",
       "      <td>None</td>\n",
       "      <td>None</td>\n",
       "    </tr>\n",
       "    <tr>\n",
       "      <th>6188</th>\n",
       "      <td>19361072.0</td>\n",
       "      <td>BoStreet Women Green Solid Mom Fit Trousers</td>\n",
       "      <td>2599.0</td>\n",
       "      <td>Green</td>\n",
       "      <td>None</td>\n",
       "      <td>None</td>\n",
       "      <td>BoStreet</td>\n",
       "      <td>NaN</td>\n",
       "      <td>NaN</td>\n",
       "      <td>Casual</td>\n",
       "      <td>Solid</td>\n",
       "      <td>Solid</td>\n",
       "      <td>None</td>\n",
       "      <td>None</td>\n",
       "    </tr>\n",
       "    <tr>\n",
       "      <th>6189</th>\n",
       "      <td>18159266.0</td>\n",
       "      <td>KLOTTHE Women Green &amp; Black Floral Printed Pal...</td>\n",
       "      <td>1659.0</td>\n",
       "      <td>Green</td>\n",
       "      <td>None</td>\n",
       "      <td>None</td>\n",
       "      <td>KLOTTHE</td>\n",
       "      <td>NaN</td>\n",
       "      <td>NaN</td>\n",
       "      <td>Western</td>\n",
       "      <td>Floral</td>\n",
       "      <td>Printed</td>\n",
       "      <td>None</td>\n",
       "      <td>None</td>\n",
       "    </tr>\n",
       "    <tr>\n",
       "      <th>6190</th>\n",
       "      <td>18921114.0</td>\n",
       "      <td>InWeave Women Red Printed A-Line Skirt</td>\n",
       "      <td>2399.0</td>\n",
       "      <td>Red</td>\n",
       "      <td>None</td>\n",
       "      <td>None</td>\n",
       "      <td>InWeave</td>\n",
       "      <td>NaN</td>\n",
       "      <td>NaN</td>\n",
       "      <td>Casual</td>\n",
       "      <td>Floral</td>\n",
       "      <td>Printed</td>\n",
       "      <td>None</td>\n",
       "      <td>None</td>\n",
       "    </tr>\n",
       "    <tr>\n",
       "      <th>6191</th>\n",
       "      <td>19361058.0</td>\n",
       "      <td>BoStreet Women Navy Blue Tapered Fit Trousers</td>\n",
       "      <td>2599.0</td>\n",
       "      <td>Navy Blue</td>\n",
       "      <td>None</td>\n",
       "      <td>None</td>\n",
       "      <td>BoStreet</td>\n",
       "      <td>NaN</td>\n",
       "      <td>NaN</td>\n",
       "      <td>Casual</td>\n",
       "      <td>Solid</td>\n",
       "      <td>Solid</td>\n",
       "      <td>None</td>\n",
       "      <td>None</td>\n",
       "    </tr>\n",
       "  </tbody>\n",
       "</table>\n",
       "<p>6192 rows × 14 columns</p>\n",
       "</div>"
      ],
      "text/plain": [
       "            p_id                                               name   price  \\\n",
       "0     10856380.0            SASSAFRAS Women Black Parallel Trousers  1499.0   \n",
       "1     12742100.0  KASSUALLY Women Black & Pink Printed Basic Jum...  2199.0   \n",
       "2     13842966.0  Sassafras Brown & Red Geometric Printed George...  1499.0   \n",
       "3     16595858.0                            Saree Mall Floral Saree  3599.0   \n",
       "4     18601482.0        MONTREZ Women White Black Open Front Jacket  1999.0   \n",
       "...          ...                                                ...     ...   \n",
       "6187  18055840.0  tantkatha Black Front Closure Saree Blouse Wit...  1699.0   \n",
       "6188  19361072.0        BoStreet Women Green Solid Mom Fit Trousers  2599.0   \n",
       "6189  18159266.0  KLOTTHE Women Green & Black Floral Printed Pal...  1659.0   \n",
       "6190  18921114.0             InWeave Women Red Printed A-Line Skirt  2399.0   \n",
       "6191  19361058.0      BoStreet Women Navy Blue Tapered Fit Trousers  2599.0   \n",
       "\n",
       "         colour brand_id brand_name       brand  ratingCount  avg_rating  \\\n",
       "0         Black     None       None   SASSAFRAS       9124.0    4.147523   \n",
       "1         Black     None       None   KASSUALLY       6297.0    4.349214   \n",
       "2         Brown     None       None   SASSAFRAS       7358.0    4.395352   \n",
       "3          Pink     None       None  Saree mall       1005.0    3.980100   \n",
       "4         White     None       None     MONTREZ         61.0    4.377049   \n",
       "...         ...      ...        ...         ...          ...         ...   \n",
       "6187      Black     None       None   tantkatha          NaN         NaN   \n",
       "6188      Green     None       None    BoStreet          NaN         NaN   \n",
       "6189      Green     None       None     KLOTTHE          NaN         NaN   \n",
       "6190        Red     None       None     InWeave          NaN         NaN   \n",
       "6191  Navy Blue     None       None    BoStreet          NaN         NaN   \n",
       "\n",
       "     Occasion Print_Pattern_Type  Pattern Top_Pattern Bottom_Pattern  \n",
       "0      Casual              Solid    Solid        None           None  \n",
       "1      Casual               None  Printed        None           None  \n",
       "2      Casual          Geometric  Printed        None           None  \n",
       "3       Party             Floral  Printed        None           None  \n",
       "4      Casual            Graphic  Printed        None           None  \n",
       "...       ...                ...      ...         ...            ...  \n",
       "6187    Party               None    Solid        None           None  \n",
       "6188   Casual              Solid    Solid        None           None  \n",
       "6189  Western             Floral  Printed        None           None  \n",
       "6190   Casual             Floral  Printed        None           None  \n",
       "6191   Casual              Solid    Solid        None           None  \n",
       "\n",
       "[6192 rows x 14 columns]"
      ]
     },
     "execution_count": 27,
     "metadata": {},
     "output_type": "execute_result"
    }
   ],
   "source": [
    "sqldf(\"select * from merged_dataset where brand_name is null\")"
   ]
  },
  {
   "cell_type": "code",
   "execution_count": 28,
   "id": "cf8a0812",
   "metadata": {},
   "outputs": [
    {
     "data": {
      "text/html": [
       "<div>\n",
       "<style scoped>\n",
       "    .dataframe tbody tr th:only-of-type {\n",
       "        vertical-align: middle;\n",
       "    }\n",
       "\n",
       "    .dataframe tbody tr th {\n",
       "        vertical-align: top;\n",
       "    }\n",
       "\n",
       "    .dataframe thead th {\n",
       "        text-align: right;\n",
       "    }\n",
       "</style>\n",
       "<table border=\"1\" class=\"dataframe\">\n",
       "  <thead>\n",
       "    <tr style=\"text-align: right;\">\n",
       "      <th></th>\n",
       "      <th>count(distinct brand_id)</th>\n",
       "    </tr>\n",
       "  </thead>\n",
       "  <tbody>\n",
       "    <tr>\n",
       "      <th>0</th>\n",
       "      <td>500</td>\n",
       "    </tr>\n",
       "  </tbody>\n",
       "</table>\n",
       "</div>"
      ],
      "text/plain": [
       "   count(distinct brand_id)\n",
       "0                       500"
      ]
     },
     "execution_count": 28,
     "metadata": {},
     "output_type": "execute_result"
    }
   ],
   "source": [
    "sqldf(\"select count(distinct brand_id) from merged_dataset\")"
   ]
  },
  {
   "cell_type": "code",
   "execution_count": 29,
   "id": "8f23bb0e",
   "metadata": {},
   "outputs": [
    {
     "data": {
      "text/html": [
       "<div>\n",
       "<style scoped>\n",
       "    .dataframe tbody tr th:only-of-type {\n",
       "        vertical-align: middle;\n",
       "    }\n",
       "\n",
       "    .dataframe tbody tr th {\n",
       "        vertical-align: top;\n",
       "    }\n",
       "\n",
       "    .dataframe thead th {\n",
       "        text-align: right;\n",
       "    }\n",
       "</style>\n",
       "<table border=\"1\" class=\"dataframe\">\n",
       "  <thead>\n",
       "    <tr style=\"text-align: right;\">\n",
       "      <th></th>\n",
       "      <th>max(brand_id)</th>\n",
       "      <th>brand_name</th>\n",
       "    </tr>\n",
       "  </thead>\n",
       "  <tbody>\n",
       "    <tr>\n",
       "      <th>0</th>\n",
       "      <td>1020</td>\n",
       "      <td>Zola</td>\n",
       "    </tr>\n",
       "  </tbody>\n",
       "</table>\n",
       "</div>"
      ],
      "text/plain": [
       "   max(brand_id) brand_name\n",
       "0           1020       Zola"
      ]
     },
     "execution_count": 29,
     "metadata": {},
     "output_type": "execute_result"
    }
   ],
   "source": [
    "sqldf(\"select max(brand_id), brand_name from brand_details\")"
   ]
  },
  {
   "cell_type": "markdown",
   "id": "2107355b",
   "metadata": {},
   "source": [
    ">Getting rid of null values in brand and brand ID by assigning new IDs"
   ]
  },
  {
   "cell_type": "code",
   "execution_count": 30,
   "id": "a32d9f4d",
   "metadata": {},
   "outputs": [
    {
     "data": {
      "text/html": [
       "<div>\n",
       "<style scoped>\n",
       "    .dataframe tbody tr th:only-of-type {\n",
       "        vertical-align: middle;\n",
       "    }\n",
       "\n",
       "    .dataframe tbody tr th {\n",
       "        vertical-align: top;\n",
       "    }\n",
       "\n",
       "    .dataframe thead th {\n",
       "        text-align: right;\n",
       "    }\n",
       "</style>\n",
       "<table border=\"1\" class=\"dataframe\">\n",
       "  <thead>\n",
       "    <tr style=\"text-align: right;\">\n",
       "      <th></th>\n",
       "      <th>brand</th>\n",
       "      <th>brand_id</th>\n",
       "    </tr>\n",
       "  </thead>\n",
       "  <tbody>\n",
       "    <tr>\n",
       "      <th>0</th>\n",
       "      <td>109F</td>\n",
       "      <td>2.0</td>\n",
       "    </tr>\n",
       "    <tr>\n",
       "      <th>1</th>\n",
       "      <td>20Dresses</td>\n",
       "      <td>3.0</td>\n",
       "    </tr>\n",
       "    <tr>\n",
       "      <th>2</th>\n",
       "      <td>250 DESIGNS</td>\n",
       "      <td>NaN</td>\n",
       "    </tr>\n",
       "    <tr>\n",
       "      <th>3</th>\n",
       "      <td>3PIN</td>\n",
       "      <td>NaN</td>\n",
       "    </tr>\n",
       "    <tr>\n",
       "      <th>4</th>\n",
       "      <td>513</td>\n",
       "      <td>1.0</td>\n",
       "    </tr>\n",
       "    <tr>\n",
       "      <th>...</th>\n",
       "      <td>...</td>\n",
       "      <td>...</td>\n",
       "    </tr>\n",
       "    <tr>\n",
       "      <th>1015</th>\n",
       "      <td>trueBrowns</td>\n",
       "      <td>NaN</td>\n",
       "    </tr>\n",
       "    <tr>\n",
       "      <th>1016</th>\n",
       "      <td>urSense</td>\n",
       "      <td>NaN</td>\n",
       "    </tr>\n",
       "    <tr>\n",
       "      <th>1017</th>\n",
       "      <td>wild U</td>\n",
       "      <td>NaN</td>\n",
       "    </tr>\n",
       "    <tr>\n",
       "      <th>1018</th>\n",
       "      <td>zebu</td>\n",
       "      <td>NaN</td>\n",
       "    </tr>\n",
       "    <tr>\n",
       "      <th>1019</th>\n",
       "      <td>zink Z</td>\n",
       "      <td>NaN</td>\n",
       "    </tr>\n",
       "  </tbody>\n",
       "</table>\n",
       "<p>1020 rows × 2 columns</p>\n",
       "</div>"
      ],
      "text/plain": [
       "            brand  brand_id\n",
       "0            109F       2.0\n",
       "1       20Dresses       3.0\n",
       "2     250 DESIGNS       NaN\n",
       "3            3PIN       NaN\n",
       "4             513       1.0\n",
       "...           ...       ...\n",
       "1015   trueBrowns       NaN\n",
       "1016      urSense       NaN\n",
       "1017       wild U       NaN\n",
       "1018         zebu       NaN\n",
       "1019       zink Z       NaN\n",
       "\n",
       "[1020 rows x 2 columns]"
      ]
     },
     "execution_count": 30,
     "metadata": {},
     "output_type": "execute_result"
    }
   ],
   "source": [
    "new_id = sqldf(\"select distinct brand, brand_id from merged_dataset order by brand asc\")\n",
    "new_id"
   ]
  },
  {
   "cell_type": "code",
   "execution_count": 31,
   "id": "83abac95",
   "metadata": {
    "scrolled": false
   },
   "outputs": [
    {
     "data": {
      "text/html": [
       "<div>\n",
       "<style scoped>\n",
       "    .dataframe tbody tr th:only-of-type {\n",
       "        vertical-align: middle;\n",
       "    }\n",
       "\n",
       "    .dataframe tbody tr th {\n",
       "        vertical-align: top;\n",
       "    }\n",
       "\n",
       "    .dataframe thead th {\n",
       "        text-align: right;\n",
       "    }\n",
       "</style>\n",
       "<table border=\"1\" class=\"dataframe\">\n",
       "  <thead>\n",
       "    <tr style=\"text-align: right;\">\n",
       "      <th></th>\n",
       "      <th>brand</th>\n",
       "      <th>brandID</th>\n",
       "    </tr>\n",
       "  </thead>\n",
       "  <tbody>\n",
       "    <tr>\n",
       "      <th>0</th>\n",
       "      <td>109F</td>\n",
       "      <td>1</td>\n",
       "    </tr>\n",
       "    <tr>\n",
       "      <th>1</th>\n",
       "      <td>20Dresses</td>\n",
       "      <td>2</td>\n",
       "    </tr>\n",
       "    <tr>\n",
       "      <th>2</th>\n",
       "      <td>250 DESIGNS</td>\n",
       "      <td>3</td>\n",
       "    </tr>\n",
       "    <tr>\n",
       "      <th>3</th>\n",
       "      <td>3PIN</td>\n",
       "      <td>4</td>\n",
       "    </tr>\n",
       "    <tr>\n",
       "      <th>4</th>\n",
       "      <td>513</td>\n",
       "      <td>5</td>\n",
       "    </tr>\n",
       "    <tr>\n",
       "      <th>...</th>\n",
       "      <td>...</td>\n",
       "      <td>...</td>\n",
       "    </tr>\n",
       "    <tr>\n",
       "      <th>1015</th>\n",
       "      <td>trueBrowns</td>\n",
       "      <td>1016</td>\n",
       "    </tr>\n",
       "    <tr>\n",
       "      <th>1016</th>\n",
       "      <td>urSense</td>\n",
       "      <td>1017</td>\n",
       "    </tr>\n",
       "    <tr>\n",
       "      <th>1017</th>\n",
       "      <td>wild U</td>\n",
       "      <td>1018</td>\n",
       "    </tr>\n",
       "    <tr>\n",
       "      <th>1018</th>\n",
       "      <td>zebu</td>\n",
       "      <td>1019</td>\n",
       "    </tr>\n",
       "    <tr>\n",
       "      <th>1019</th>\n",
       "      <td>zink Z</td>\n",
       "      <td>1020</td>\n",
       "    </tr>\n",
       "  </tbody>\n",
       "</table>\n",
       "<p>1020 rows × 2 columns</p>\n",
       "</div>"
      ],
      "text/plain": [
       "            brand  brandID\n",
       "0            109F        1\n",
       "1       20Dresses        2\n",
       "2     250 DESIGNS        3\n",
       "3            3PIN        4\n",
       "4             513        5\n",
       "...           ...      ...\n",
       "1015   trueBrowns     1016\n",
       "1016      urSense     1017\n",
       "1017       wild U     1018\n",
       "1018         zebu     1019\n",
       "1019       zink Z     1020\n",
       "\n",
       "[1020 rows x 2 columns]"
      ]
     },
     "execution_count": 31,
     "metadata": {},
     "output_type": "execute_result"
    }
   ],
   "source": [
    "new_id.loc[:, 'brandID'] = range(1, 1021)\n",
    "new_id.drop('brand_id', axis = 'columns')"
   ]
  },
  {
   "cell_type": "code",
   "execution_count": 32,
   "id": "b8284896",
   "metadata": {
    "scrolled": true
   },
   "outputs": [
    {
     "data": {
      "text/plain": [
       "p_id                      0\n",
       "name                      0\n",
       "price                     0\n",
       "colour                    3\n",
       "brand                     0\n",
       "ratingCount            7703\n",
       "avg_rating             7703\n",
       "Occasion               1099\n",
       "Print_Pattern_Type     4275\n",
       "Pattern                3805\n",
       "Top_Pattern           12105\n",
       "Bottom_Pattern        11470\n",
       "brandID                   0\n",
       "dtype: int64"
      ]
     },
     "execution_count": 32,
     "metadata": {},
     "output_type": "execute_result"
    }
   ],
   "source": [
    "dataset_final = sqldf(\"select merged_dataset.*, new_id.brandID from merged_dataset left join new_id on (merged_dataset.brand = new_id.brand)\")\n",
    "dataset_final.drop(['brand_id','brand_name'], axis = 'columns', inplace = True)\n",
    "dataset_final.isna().sum()"
   ]
  },
  {
   "cell_type": "code",
   "execution_count": 33,
   "id": "26144d00",
   "metadata": {},
   "outputs": [
    {
     "data": {
      "text/plain": [
       "1099"
      ]
     },
     "execution_count": 33,
     "metadata": {},
     "output_type": "execute_result"
    }
   ],
   "source": [
    "dataset_final['Occasion'].isna().sum()"
   ]
  },
  {
   "cell_type": "markdown",
   "id": "9e516aa7",
   "metadata": {},
   "source": [
    ">Filling Print_Pattern_Type null values"
   ]
  },
  {
   "cell_type": "code",
   "execution_count": 34,
   "id": "38422350",
   "metadata": {
    "scrolled": true
   },
   "outputs": [
    {
     "data": {
      "text/plain": [
       "array(['Floral', 'Solid', 'Ethnic Motifs', None, 'Geometric', 'Graphic',\n",
       "       'Self Design', 'Checked', 'Typography', 'Washed', 'Kalamkari',\n",
       "       'Embellished', 'Humour and Comic', 'Animal', 'Paisley', 'Ribbed',\n",
       "       'Striped', 'Bandhani', 'Abstract', 'Camouflage', 'Tie and Dye',\n",
       "       'Woven Design', 'Colourblocked', 'Vertical Stripes', 'Polka Dots',\n",
       "       'Leheriya', 'Cable Knit', 'Brand Logo', 'Open Knit',\n",
       "       'Alphanumeric', 'Other', 'Conversational', 'NA', 'Chevron',\n",
       "       'Ombre', 'Horizontal Stripes', 'Textured', 'Superhero', 'Warli',\n",
       "       'Boucle', 'Batik', 'Quirky', 'Tribal', 'Ajrak', 'Embroidered',\n",
       "       'Sequinned Stripes', 'Botanical', 'Shimmer', 'Bagh', 'Houndstooth',\n",
       "       'Fair Isle', 'Dabu', 'Cartoon Characters', 'Argyle'], dtype=object)"
      ]
     },
     "execution_count": 34,
     "metadata": {},
     "output_type": "execute_result"
    }
   ],
   "source": [
    "pd.unique(dataset_final['Print_Pattern_Type'])"
   ]
  },
  {
   "cell_type": "code",
   "execution_count": 35,
   "id": "409650cb",
   "metadata": {
    "scrolled": true
   },
   "outputs": [
    {
     "data": {
      "text/html": [
       "<div>\n",
       "<style scoped>\n",
       "    .dataframe tbody tr th:only-of-type {\n",
       "        vertical-align: middle;\n",
       "    }\n",
       "\n",
       "    .dataframe tbody tr th {\n",
       "        vertical-align: top;\n",
       "    }\n",
       "\n",
       "    .dataframe thead th {\n",
       "        text-align: right;\n",
       "    }\n",
       "</style>\n",
       "<table border=\"1\" class=\"dataframe\">\n",
       "  <thead>\n",
       "    <tr style=\"text-align: right;\">\n",
       "      <th></th>\n",
       "      <th>Print_Pattern_Type</th>\n",
       "      <th>Pattern</th>\n",
       "      <th>Top_Pattern</th>\n",
       "      <th>Bottom_Pattern</th>\n",
       "    </tr>\n",
       "  </thead>\n",
       "  <tbody>\n",
       "    <tr>\n",
       "      <th>0</th>\n",
       "      <td>Floral</td>\n",
       "      <td>Embroidered</td>\n",
       "      <td>None</td>\n",
       "      <td>None</td>\n",
       "    </tr>\n",
       "    <tr>\n",
       "      <th>1</th>\n",
       "      <td>Solid</td>\n",
       "      <td>Solid</td>\n",
       "      <td>None</td>\n",
       "      <td>None</td>\n",
       "    </tr>\n",
       "    <tr>\n",
       "      <th>2</th>\n",
       "      <td>Ethnic Motifs</td>\n",
       "      <td>None</td>\n",
       "      <td>None</td>\n",
       "      <td>Woven Design</td>\n",
       "    </tr>\n",
       "    <tr>\n",
       "      <th>3</th>\n",
       "      <td>Solid</td>\n",
       "      <td>Solid</td>\n",
       "      <td>None</td>\n",
       "      <td>None</td>\n",
       "    </tr>\n",
       "    <tr>\n",
       "      <th>4</th>\n",
       "      <td>None</td>\n",
       "      <td>Printed</td>\n",
       "      <td>None</td>\n",
       "      <td>None</td>\n",
       "    </tr>\n",
       "    <tr>\n",
       "      <th>...</th>\n",
       "      <td>...</td>\n",
       "      <td>...</td>\n",
       "      <td>...</td>\n",
       "      <td>...</td>\n",
       "    </tr>\n",
       "    <tr>\n",
       "      <th>13246</th>\n",
       "      <td>Floral</td>\n",
       "      <td>Woven Design</td>\n",
       "      <td>None</td>\n",
       "      <td>None</td>\n",
       "    </tr>\n",
       "    <tr>\n",
       "      <th>13247</th>\n",
       "      <td>None</td>\n",
       "      <td>None</td>\n",
       "      <td>Printed</td>\n",
       "      <td>Printed</td>\n",
       "    </tr>\n",
       "    <tr>\n",
       "      <th>13248</th>\n",
       "      <td>Floral</td>\n",
       "      <td>Printed</td>\n",
       "      <td>None</td>\n",
       "      <td>None</td>\n",
       "    </tr>\n",
       "    <tr>\n",
       "      <th>13249</th>\n",
       "      <td>Floral</td>\n",
       "      <td>Printed</td>\n",
       "      <td>None</td>\n",
       "      <td>None</td>\n",
       "    </tr>\n",
       "    <tr>\n",
       "      <th>13250</th>\n",
       "      <td>Solid</td>\n",
       "      <td>Solid</td>\n",
       "      <td>None</td>\n",
       "      <td>None</td>\n",
       "    </tr>\n",
       "  </tbody>\n",
       "</table>\n",
       "<p>13251 rows × 4 columns</p>\n",
       "</div>"
      ],
      "text/plain": [
       "      Print_Pattern_Type       Pattern Top_Pattern Bottom_Pattern\n",
       "0                 Floral   Embroidered        None           None\n",
       "1                  Solid         Solid        None           None\n",
       "2          Ethnic Motifs          None        None   Woven Design\n",
       "3                  Solid         Solid        None           None\n",
       "4                   None       Printed        None           None\n",
       "...                  ...           ...         ...            ...\n",
       "13246             Floral  Woven Design        None           None\n",
       "13247               None          None     Printed        Printed\n",
       "13248             Floral       Printed        None           None\n",
       "13249             Floral       Printed        None           None\n",
       "13250              Solid         Solid        None           None\n",
       "\n",
       "[13251 rows x 4 columns]"
      ]
     },
     "execution_count": 35,
     "metadata": {},
     "output_type": "execute_result"
    }
   ],
   "source": [
    "sqldf(\"select Print_Pattern_Type, Pattern, Top_Pattern, Bottom_Pattern from dataset_final where Print_Pattern_Type is null and Top_Pattern is not null or Bottom_Pattern is not null or Pattern is not null\")"
   ]
  },
  {
   "cell_type": "code",
   "execution_count": 36,
   "id": "dd53f02c",
   "metadata": {},
   "outputs": [
    {
     "data": {
      "text/html": [
       "<div>\n",
       "<style scoped>\n",
       "    .dataframe tbody tr th:only-of-type {\n",
       "        vertical-align: middle;\n",
       "    }\n",
       "\n",
       "    .dataframe tbody tr th {\n",
       "        vertical-align: top;\n",
       "    }\n",
       "\n",
       "    .dataframe thead th {\n",
       "        text-align: right;\n",
       "    }\n",
       "</style>\n",
       "<table border=\"1\" class=\"dataframe\">\n",
       "  <thead>\n",
       "    <tr style=\"text-align: right;\">\n",
       "      <th></th>\n",
       "      <th>count(Print_Pattern_Type)</th>\n",
       "      <th>count(Top_Pattern)</th>\n",
       "      <th>count(Bottom_Pattern)</th>\n",
       "      <th>count(Pattern)</th>\n",
       "    </tr>\n",
       "  </thead>\n",
       "  <tbody>\n",
       "    <tr>\n",
       "      <th>0</th>\n",
       "      <td>39</td>\n",
       "      <td>0</td>\n",
       "      <td>31</td>\n",
       "      <td>8</td>\n",
       "    </tr>\n",
       "  </tbody>\n",
       "</table>\n",
       "</div>"
      ],
      "text/plain": [
       "   count(Print_Pattern_Type)  count(Top_Pattern)  count(Bottom_Pattern)  \\\n",
       "0                         39                   0                     31   \n",
       "\n",
       "   count(Pattern)  \n",
       "0               8  "
      ]
     },
     "execution_count": 36,
     "metadata": {},
     "output_type": "execute_result"
    }
   ],
   "source": [
    "sqldf(\"select count(Print_Pattern_Type), count(Top_Pattern), count(Bottom_Pattern), count(Pattern) from dataset_final where Print_Pattern_Type = 'NA' or Pattern = 'NA' or Top_Pattern = 'NA' or Bottom_Pattern = 'NA'\")"
   ]
  },
  {
   "cell_type": "code",
   "execution_count": 37,
   "id": "3e18df62",
   "metadata": {},
   "outputs": [],
   "source": [
    "dataset_final['Pattern'] = dataset_final['Pattern'].combine_first(dataset_final['Bottom_Pattern'])"
   ]
  },
  {
   "cell_type": "code",
   "execution_count": 38,
   "id": "604e560a",
   "metadata": {},
   "outputs": [],
   "source": [
    "dataset_final['Pattern'] = dataset_final['Pattern'].combine_first(dataset_final['Top_Pattern'])"
   ]
  },
  {
   "cell_type": "code",
   "execution_count": 39,
   "id": "84edbda4",
   "metadata": {},
   "outputs": [],
   "source": [
    "dataset_final['Print_Pattern_Type'] = dataset_final['Print_Pattern_Type'].combine_first(dataset_final['Pattern'])"
   ]
  },
  {
   "cell_type": "code",
   "execution_count": 40,
   "id": "0983f147",
   "metadata": {},
   "outputs": [],
   "source": [
    "dataset_final.drop(['Pattern','Top_Pattern','Bottom_Pattern'], axis = 'columns', inplace=True)"
   ]
  },
  {
   "cell_type": "code",
   "execution_count": 41,
   "id": "4fbdf9d3",
   "metadata": {
    "scrolled": true
   },
   "outputs": [
    {
     "data": {
      "text/plain": [
       "p_id                     0\n",
       "name                     0\n",
       "price                    0\n",
       "colour                   3\n",
       "brand                    0\n",
       "ratingCount           7703\n",
       "avg_rating            7703\n",
       "Occasion              1099\n",
       "Print_Pattern_Type    1000\n",
       "brandID                  0\n",
       "dtype: int64"
      ]
     },
     "execution_count": 41,
     "metadata": {},
     "output_type": "execute_result"
    }
   ],
   "source": [
    "dataset_final.isna().sum()"
   ]
  },
  {
   "cell_type": "markdown",
   "id": "543a8224",
   "metadata": {},
   "source": [
    ">Filling in remaining null values"
   ]
  },
  {
   "cell_type": "code",
   "execution_count": 42,
   "id": "bb37cfae",
   "metadata": {
    "scrolled": false
   },
   "outputs": [
    {
     "data": {
      "text/html": [
       "<div>\n",
       "<style scoped>\n",
       "    .dataframe tbody tr th:only-of-type {\n",
       "        vertical-align: middle;\n",
       "    }\n",
       "\n",
       "    .dataframe tbody tr th {\n",
       "        vertical-align: top;\n",
       "    }\n",
       "\n",
       "    .dataframe thead th {\n",
       "        text-align: right;\n",
       "    }\n",
       "</style>\n",
       "<table border=\"1\" class=\"dataframe\">\n",
       "  <thead>\n",
       "    <tr style=\"text-align: right;\">\n",
       "      <th></th>\n",
       "      <th>p_id</th>\n",
       "      <th>name</th>\n",
       "      <th>price</th>\n",
       "      <th>colour</th>\n",
       "      <th>brand</th>\n",
       "      <th>ratingCount</th>\n",
       "      <th>avg_rating</th>\n",
       "      <th>Occasion</th>\n",
       "      <th>Print_Pattern_Type</th>\n",
       "      <th>brandID</th>\n",
       "    </tr>\n",
       "  </thead>\n",
       "  <tbody>\n",
       "    <tr>\n",
       "      <th>0</th>\n",
       "      <td>19145038.0</td>\n",
       "      <td>Baisacrafts Women Pure Cotton Kurta with Trous...</td>\n",
       "      <td>5450.0</td>\n",
       "      <td>None</td>\n",
       "      <td>Baisacrafts</td>\n",
       "      <td>None</td>\n",
       "      <td>None</td>\n",
       "      <td>Festive</td>\n",
       "      <td>Geometric</td>\n",
       "      <td>109</td>\n",
       "    </tr>\n",
       "    <tr>\n",
       "      <th>1</th>\n",
       "      <td>19142060.0</td>\n",
       "      <td>LIVE OK Women Boyfriend Fit High-Rise Stretcha...</td>\n",
       "      <td>1999.0</td>\n",
       "      <td>None</td>\n",
       "      <td>LIVE OK</td>\n",
       "      <td>None</td>\n",
       "      <td>None</td>\n",
       "      <td>Casual</td>\n",
       "      <td>None</td>\n",
       "      <td>463</td>\n",
       "    </tr>\n",
       "    <tr>\n",
       "      <th>2</th>\n",
       "      <td>16124786.0</td>\n",
       "      <td>MANGO Women Hooded Sweatshirt</td>\n",
       "      <td>2390.0</td>\n",
       "      <td>None</td>\n",
       "      <td>MANGO</td>\n",
       "      <td>None</td>\n",
       "      <td>None</td>\n",
       "      <td>Casual</td>\n",
       "      <td>Solid</td>\n",
       "      <td>498</td>\n",
       "    </tr>\n",
       "  </tbody>\n",
       "</table>\n",
       "</div>"
      ],
      "text/plain": [
       "         p_id                                               name   price  \\\n",
       "0  19145038.0  Baisacrafts Women Pure Cotton Kurta with Trous...  5450.0   \n",
       "1  19142060.0  LIVE OK Women Boyfriend Fit High-Rise Stretcha...  1999.0   \n",
       "2  16124786.0                      MANGO Women Hooded Sweatshirt  2390.0   \n",
       "\n",
       "  colour        brand ratingCount avg_rating Occasion Print_Pattern_Type  \\\n",
       "0   None  Baisacrafts        None       None  Festive          Geometric   \n",
       "1   None      LIVE OK        None       None   Casual               None   \n",
       "2   None        MANGO        None       None   Casual              Solid   \n",
       "\n",
       "   brandID  \n",
       "0      109  \n",
       "1      463  \n",
       "2      498  "
      ]
     },
     "execution_count": 42,
     "metadata": {},
     "output_type": "execute_result"
    }
   ],
   "source": [
    "sqldf(\"select * from dataset_final where colour is null\")"
   ]
  },
  {
   "cell_type": "code",
   "execution_count": 43,
   "id": "81e7882b",
   "metadata": {},
   "outputs": [],
   "source": [
    "avg_rating_mean = round(dataset_final[\"avg_rating\"].mean(),6)"
   ]
  },
  {
   "cell_type": "code",
   "execution_count": 44,
   "id": "af647eb7",
   "metadata": {},
   "outputs": [
    {
     "data": {
      "text/plain": [
       "23.0"
      ]
     },
     "execution_count": 44,
     "metadata": {},
     "output_type": "execute_result"
    }
   ],
   "source": [
    "dataset_final[\"ratingCount\"].median()"
   ]
  },
  {
   "cell_type": "code",
   "execution_count": 45,
   "id": "7909e665",
   "metadata": {},
   "outputs": [
    {
     "data": {
      "text/plain": [
       "0    5.0\n",
       "Name: ratingCount, dtype: float64"
      ]
     },
     "execution_count": 45,
     "metadata": {},
     "output_type": "execute_result"
    }
   ],
   "source": [
    "dataset_final[\"ratingCount\"].mode()"
   ]
  },
  {
   "cell_type": "code",
   "execution_count": 46,
   "id": "bef3a91d",
   "metadata": {},
   "outputs": [],
   "source": [
    "ratingCount_mean = dataset_final[\"ratingCount\"].mean()"
   ]
  },
  {
   "cell_type": "code",
   "execution_count": 47,
   "id": "8deb8278",
   "metadata": {},
   "outputs": [
    {
     "ename": "SyntaxError",
     "evalue": "invalid syntax (4053688237.py, line 1)",
     "output_type": "error",
     "traceback": [
      "\u001b[1;36m  File \u001b[1;32m\"C:\\Users\\percy\\AppData\\Local\\Temp\\ipykernel_11564\\4053688237.py\"\u001b[1;36m, line \u001b[1;32m1\u001b[0m\n\u001b[1;33m    dataset_final.fillna({\"colour\":\"dataset_final.mode()\",\"avg_rating\":avg_rating_mean, \"ratingCount\":ratingCount_mean,\"Print_Pattern_Type\":\"dataset_final.mode()\", \"Occasion\":\"dataset_final.mode()\", inplace = True)\u001b[0m\n\u001b[1;37m                                                                                                                                                                                                               ^\u001b[0m\n\u001b[1;31mSyntaxError\u001b[0m\u001b[1;31m:\u001b[0m invalid syntax\n"
     ]
    }
   ],
   "source": [
    "dataset_final.fillna({\"colour\":\"dataset_final.mode()\",\"avg_rating\":avg_rating_mean, \"ratingCount\":ratingCount_mean,\"Print_Pattern_Type\":\"dataset_final.mode()\", \"Occasion\":\"dataset_final.mode()\", inplace = True)\n",
    "dataset_final.isna().sum()"
   ]
  },
  {
   "cell_type": "code",
   "execution_count": null,
   "id": "86086fe3",
   "metadata": {},
   "outputs": [],
   "source": [
    "dataset_final.info()"
   ]
  },
  {
   "cell_type": "markdown",
   "id": "189ed41e",
   "metadata": {},
   "source": [
    ">Exporting data for analysis using Apache MapReduce"
   ]
  },
  {
   "cell_type": "code",
   "execution_count": null,
   "id": "014e61dd",
   "metadata": {},
   "outputs": [],
   "source": [
    "dataset_final.to_csv(\"final_dataset.csv\", index = False)"
   ]
  },
  {
   "cell_type": "code",
   "execution_count": null,
   "id": "8ee1cd94",
   "metadata": {},
   "outputs": [],
   "source": [
    "new_dataset = dataset_final.loc[:,['p_id', 'name','price','colour','brand','ratingCount','avg_rating','brand_id']]\n",
    "new_dataset.to_csv(\"new_dataset.csv\", index = False, header = False)"
   ]
  },
  {
   "cell_type": "markdown",
   "id": "990bbec9",
   "metadata": {},
   "source": [
    " "
   ]
  },
  {
   "cell_type": "code",
   "execution_count": null,
   "id": "038d134b",
   "metadata": {
    "scrolled": true
   },
   "outputs": [],
   "source": [
    "dataset_final.info()"
   ]
  },
  {
   "cell_type": "code",
   "execution_count": null,
   "id": "714bb6c1",
   "metadata": {},
   "outputs": [],
   "source": []
  },
  {
   "cell_type": "markdown",
   "id": "ad5a41ab",
   "metadata": {},
   "source": [
    "# Machine Learning"
   ]
  },
  {
   "cell_type": "markdown",
   "id": "b3992fcd",
   "metadata": {},
   "source": [
    "## Regression Modelling"
   ]
  },
  {
   "cell_type": "markdown",
   "id": "01f96c22",
   "metadata": {},
   "source": [
    "## Pre-processing"
   ]
  },
  {
   "cell_type": "code",
   "execution_count": null,
   "id": "5d674c62",
   "metadata": {
    "scrolled": true
   },
   "outputs": [],
   "source": [
    "regression_data = dataset_final.loc[:,['price','avg_rating','ratingCount', 'brand_id','name','colour','brand','description','p_attributes']]"
   ]
  },
  {
   "cell_type": "code",
   "execution_count": null,
   "id": "63f6944d",
   "metadata": {},
   "outputs": [],
   "source": [
    "le = preprocessing.LabelEncoder()\n",
    "\n",
    "for i in regression_data.columns:\n",
    "        if regression_data[i].dtype == object:\n",
    "            regression_data[i] = le.fit_transform(regression_data[i])\n",
    "        else:\n",
    "            pass"
   ]
  },
  {
   "cell_type": "code",
   "execution_count": null,
   "id": "2b9315af",
   "metadata": {},
   "outputs": [],
   "source": [
    "regression_data"
   ]
  },
  {
   "cell_type": "code",
   "execution_count": null,
   "id": "ac58efd6",
   "metadata": {},
   "outputs": [],
   "source": [
    "x_reg = regression_data.loc[:,['price','avg_rating','ratingCount','name','colour','description','p_attributes']]\n",
    "y_reg = regression_data.loc[:,['brand_id']]"
   ]
  },
  {
   "cell_type": "markdown",
   "id": "a531b9b7",
   "metadata": {},
   "source": [
    ">Creating the training and testing datasets"
   ]
  },
  {
   "cell_type": "code",
   "execution_count": null,
   "id": "62a5d2e2",
   "metadata": {},
   "outputs": [],
   "source": [
    "x_reg_train, x_reg_test, y_reg_train, y_reg_test = train_test_split(x_reg, y_reg, test_size=0.25)\n",
    "\n",
    "print(\"Your independent training dataset contains \", x_reg_train.shape, \" rows and columns.\")\n",
    "print(\"Your independent testing dataset contains \", x_reg_test.shape, \" rows and columns.\")\n",
    "print(\"Your dependent training dataset contains \", y_reg_train.shape, \" rows and columns.\")\n",
    "print(\"Your dependent testing dataset contains \", y_reg_test.shape, \" rows and columns.\")"
   ]
  },
  {
   "cell_type": "markdown",
   "id": "63b0cb7f",
   "metadata": {},
   "source": [
    "### Linear Regression"
   ]
  },
  {
   "cell_type": "markdown",
   "id": "73f2d92d",
   "metadata": {},
   "source": [
    ">Training the model"
   ]
  },
  {
   "cell_type": "code",
   "execution_count": null,
   "id": "e854faec",
   "metadata": {},
   "outputs": [],
   "source": [
    "LR = LinearRegression()"
   ]
  },
  {
   "cell_type": "code",
   "execution_count": null,
   "id": "5342de45",
   "metadata": {},
   "outputs": [],
   "source": [
    "LR.fit(x_reg_train, y_reg_train)"
   ]
  },
  {
   "cell_type": "markdown",
   "id": "b7c5a1c2",
   "metadata": {},
   "source": [
    ">Testing the model"
   ]
  },
  {
   "cell_type": "code",
   "execution_count": null,
   "id": "f403b7a3",
   "metadata": {},
   "outputs": [],
   "source": [
    "LR_predict = LR.predict(x_reg_test)\n",
    "LR_predict"
   ]
  },
  {
   "cell_type": "code",
   "execution_count": null,
   "id": "c56cbb90",
   "metadata": {},
   "outputs": [],
   "source": [
    "print(\"Linear Regressor\")\n",
    "print(\"Mean Absolute Error: \", metrics.mean_absolute_error(y_reg_test, LR_predict))"
   ]
  },
  {
   "cell_type": "markdown",
   "id": "4265d59a",
   "metadata": {},
   "source": [
    "### Bayesian Ridge Regression"
   ]
  },
  {
   "cell_type": "code",
   "execution_count": null,
   "id": "e2d01a0b",
   "metadata": {},
   "outputs": [],
   "source": [
    "BayRidge = BayesianRidge()\n",
    "BayRidge.fit(x_reg_train, y_reg_train)"
   ]
  },
  {
   "cell_type": "code",
   "execution_count": null,
   "id": "6177b0a0",
   "metadata": {},
   "outputs": [],
   "source": [
    "BayRidge_predict = BayRidge.predict(x_reg_test)\n",
    "BayRidge_predict"
   ]
  },
  {
   "cell_type": "code",
   "execution_count": null,
   "id": "e5a52d54",
   "metadata": {},
   "outputs": [],
   "source": [
    "print(\"Bayesian Ridge Regressor\")\n",
    "print(\"Mean Absolute Error: \", metrics.mean_absolute_error(y_reg_test, BayRidge_predict))"
   ]
  },
  {
   "cell_type": "code",
   "execution_count": null,
   "id": "32e45a51",
   "metadata": {},
   "outputs": [],
   "source": [
    "dataset_final.info()"
   ]
  },
  {
   "cell_type": "markdown",
   "id": "23e18963",
   "metadata": {},
   "source": [
    " "
   ]
  },
  {
   "cell_type": "markdown",
   "id": "ff9272ae",
   "metadata": {},
   "source": [
    "## Classification Modelling"
   ]
  },
  {
   "cell_type": "markdown",
   "id": "25b27887",
   "metadata": {},
   "source": [
    ">Pre-processing"
   ]
  },
  {
   "cell_type": "code",
   "execution_count": null,
   "id": "f1a16870",
   "metadata": {},
   "outputs": [],
   "source": [
    "classification_data = dataset_final.loc[:,['name','colour','brand', 'brand_id','description','p_attributes']]\n",
    "classification_data"
   ]
  },
  {
   "cell_type": "code",
   "execution_count": null,
   "id": "44d119e4",
   "metadata": {},
   "outputs": [],
   "source": [
    "le = preprocessing.LabelEncoder()\n",
    "\n",
    "for i in classification_data.columns:\n",
    "        if classification_data[i].dtype == object:\n",
    "            classification_data[i] = le.fit_transform(classification_data[i])\n",
    "        else:\n",
    "            pass"
   ]
  },
  {
   "cell_type": "code",
   "execution_count": null,
   "id": "7c975f2c",
   "metadata": {},
   "outputs": [],
   "source": [
    "classification_data"
   ]
  },
  {
   "cell_type": "markdown",
   "id": "6dd82a2f",
   "metadata": {},
   "source": [
    ">Creating the training datasets"
   ]
  },
  {
   "cell_type": "code",
   "execution_count": null,
   "id": "d9c4b7e6",
   "metadata": {},
   "outputs": [],
   "source": [
    "x_class = classification_data.loc[:,['name','colour','description','p_attributes']]\n",
    "y_class = classification_data.loc[:,['brand']]"
   ]
  },
  {
   "cell_type": "code",
   "execution_count": null,
   "id": "2f71af46",
   "metadata": {},
   "outputs": [],
   "source": [
    "x_class"
   ]
  },
  {
   "cell_type": "code",
   "execution_count": null,
   "id": "00ec2dfc",
   "metadata": {},
   "outputs": [],
   "source": [
    "x_class_train, x_class_test, y_class_train, y_class_test = train_test_split(x_class, y_class, test_size=0.25)\n",
    "\n",
    "print(\"Your independent training dataset contains \", x_class_train.shape, \" rows and columns.\")\n",
    "print(\"Your independent testing dataset contains \", x_class_test.shape, \" rows and columns.\")\n",
    "print(\"Your dependent training dataset contains \", y_class_train.shape, \" rows and columns.\")\n",
    "print(\"Your dependent testing dataset contains \", y_class_test.shape, \" rows and columns.\")"
   ]
  },
  {
   "cell_type": "markdown",
   "id": "c8fb7520",
   "metadata": {},
   "source": [
    "### Gaussian Naive Bayes Classifier"
   ]
  },
  {
   "cell_type": "code",
   "execution_count": null,
   "id": "c25b3c0c",
   "metadata": {},
   "outputs": [],
   "source": [
    "GNB = GaussianNB()"
   ]
  },
  {
   "cell_type": "code",
   "execution_count": null,
   "id": "36650a1f",
   "metadata": {},
   "outputs": [],
   "source": [
    "GNB.fit(x_class_train, y_class_train)"
   ]
  },
  {
   "cell_type": "code",
   "execution_count": null,
   "id": "c645d9d7",
   "metadata": {},
   "outputs": [],
   "source": [
    "GNB_predict = GNB.predict(x_class_test)"
   ]
  },
  {
   "cell_type": "code",
   "execution_count": null,
   "id": "2a15524f",
   "metadata": {},
   "outputs": [],
   "source": [
    "print(\"Gaussian Naive Bayes Classifier\")\n",
    "print(\"Accuracy:\", round((metrics.accuracy_score(y_class_test, GNB_predict))*100,2),\"%\")"
   ]
  },
  {
   "cell_type": "markdown",
   "id": "f223c1bb",
   "metadata": {},
   "source": [
    "### Decision Tree Classifier"
   ]
  },
  {
   "cell_type": "code",
   "execution_count": null,
   "id": "cf9e4e23",
   "metadata": {},
   "outputs": [],
   "source": [
    "dtree = DecisionTreeClassifier()\n",
    "dtree = dtree.fit(x_class_train, y_class_train)"
   ]
  },
  {
   "cell_type": "code",
   "execution_count": null,
   "id": "fefde168",
   "metadata": {},
   "outputs": [],
   "source": [
    "dtree_predict = dtree.predict(x_class_test)"
   ]
  },
  {
   "cell_type": "code",
   "execution_count": null,
   "id": "075651ad",
   "metadata": {},
   "outputs": [],
   "source": [
    "print(\"Decision Classifier\")\n",
    "print(\"Accuracy:\", round((metrics.accuracy_score(y_class_test, dtree_predict))*100,2),\"%\")"
   ]
  }
 ],
 "metadata": {
  "kernelspec": {
   "display_name": "Python 3 (ipykernel)",
   "language": "python",
   "name": "python3"
  },
  "language_info": {
   "codemirror_mode": {
    "name": "ipython",
    "version": 3
   },
   "file_extension": ".py",
   "mimetype": "text/x-python",
   "name": "python",
   "nbconvert_exporter": "python",
   "pygments_lexer": "ipython3",
   "version": "3.9.13"
  }
 },
 "nbformat": 4,
 "nbformat_minor": 5
}
