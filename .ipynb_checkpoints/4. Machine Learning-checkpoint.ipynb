{
 "cells": [
  {
   "cell_type": "markdown",
   "id": "27bcab35",
   "metadata": {},
   "source": [
    "### Importing libraries"
   ]
  },
  {
   "cell_type": "code",
   "execution_count": 42,
   "id": "02c28b12",
   "metadata": {},
   "outputs": [],
   "source": [
    "import pandas as pd\n",
    "import numpy as np\n",
    "import pandasql as ps\n",
    "from pandasql import sqldf\n",
    "import ast\n",
    "import random\n",
    "import seaborn as sns\n",
    "import matplotlib.pyplot as plt\n",
    "from sklearn.model_selection import train_test_split\n",
    "from sklearn.linear_model import LinearRegression\n",
    "from sklearn.linear_model import BayesianRidge\n",
    "from sklearn import preprocessing\n",
    "from sklearn import tree\n",
    "from sklearn.tree import DecisionTreeClassifier\n",
    "from sklearn import metrics\n",
    "from sklearn.naive_bayes import GaussianNB\n",
    "from sklearn.ensemble import RandomForestClassifier\n",
    "from sklearn.metrics import confusion_matrix"
   ]
  },
  {
   "cell_type": "markdown",
   "id": "ddd18ddc",
   "metadata": {},
   "source": [
    "### Importing data"
   ]
  },
  {
   "cell_type": "code",
   "execution_count": 2,
   "id": "182253ee",
   "metadata": {},
   "outputs": [],
   "source": [
    "merged_dataset = pd.read_csv(r\"./new_dataset.csv\")"
   ]
  },
  {
   "cell_type": "markdown",
   "id": "ad5a41ab",
   "metadata": {},
   "source": [
    "# Machine Learning"
   ]
  },
  {
   "cell_type": "markdown",
   "id": "fed87e28",
   "metadata": {},
   "source": [
    "## Creating ML dataset"
   ]
  },
  {
   "cell_type": "code",
   "execution_count": 3,
   "id": "5d674c62",
   "metadata": {
    "scrolled": true
   },
   "outputs": [],
   "source": [
    "dataset_final = merged_dataset.loc[:,['p_id', 'name', 'price', 'colour', 'brand', 'ratingCount', 'avg_rating',\n",
    "       'Occasion', 'Print_Pattern_Type', 'Sustainable', 'Knit_or_Woven',\n",
    "       'Fabric', 'Fabric_Purity', 'brandID']]"
   ]
  },
  {
   "cell_type": "markdown",
   "id": "01f96c22",
   "metadata": {},
   "source": [
    "## Pre-processing"
   ]
  },
  {
   "cell_type": "code",
   "execution_count": 4,
   "id": "63f6944d",
   "metadata": {},
   "outputs": [],
   "source": [
    "le = preprocessing.LabelEncoder()\n",
    "\n",
    "for i in dataset_final.columns:\n",
    "        if dataset_final[i].dtype == object:\n",
    "            dataset_final[i] = le.fit_transform(dataset_final[i])\n",
    "        else:\n",
    "            pass"
   ]
  },
  {
   "cell_type": "code",
   "execution_count": 5,
   "id": "5f08a915",
   "metadata": {},
   "outputs": [
    {
     "data": {
      "text/html": [
       "<div>\n",
       "<style scoped>\n",
       "    .dataframe tbody tr th:only-of-type {\n",
       "        vertical-align: middle;\n",
       "    }\n",
       "\n",
       "    .dataframe tbody tr th {\n",
       "        vertical-align: top;\n",
       "    }\n",
       "\n",
       "    .dataframe thead th {\n",
       "        text-align: right;\n",
       "    }\n",
       "</style>\n",
       "<table border=\"1\" class=\"dataframe\">\n",
       "  <thead>\n",
       "    <tr style=\"text-align: right;\">\n",
       "      <th></th>\n",
       "      <th>p_id</th>\n",
       "      <th>name</th>\n",
       "      <th>price</th>\n",
       "      <th>colour</th>\n",
       "      <th>brand</th>\n",
       "      <th>ratingCount</th>\n",
       "      <th>avg_rating</th>\n",
       "      <th>Occasion</th>\n",
       "      <th>Print_Pattern_Type</th>\n",
       "      <th>Sustainable</th>\n",
       "      <th>Knit_or_Woven</th>\n",
       "      <th>Fabric</th>\n",
       "      <th>Fabric_Purity</th>\n",
       "      <th>brandID</th>\n",
       "    </tr>\n",
       "  </thead>\n",
       "  <tbody>\n",
       "    <tr>\n",
       "      <th>0</th>\n",
       "      <td>1518329.0</td>\n",
       "      <td>2986</td>\n",
       "      <td>899.0</td>\n",
       "      <td>47</td>\n",
       "      <td>220</td>\n",
       "      <td>1321</td>\n",
       "      <td>4.548827</td>\n",
       "      <td>1</td>\n",
       "      <td>24</td>\n",
       "      <td>0</td>\n",
       "      <td>2</td>\n",
       "      <td>7</td>\n",
       "      <td>2</td>\n",
       "      <td>221</td>\n",
       "    </tr>\n",
       "    <tr>\n",
       "      <th>1</th>\n",
       "      <td>5829334.0</td>\n",
       "      <td>9059</td>\n",
       "      <td>1199.0</td>\n",
       "      <td>27</td>\n",
       "      <td>701</td>\n",
       "      <td>5462</td>\n",
       "      <td>4.313255</td>\n",
       "      <td>0</td>\n",
       "      <td>43</td>\n",
       "      <td>0</td>\n",
       "      <td>2</td>\n",
       "      <td>7</td>\n",
       "      <td>2</td>\n",
       "      <td>702</td>\n",
       "    </tr>\n",
       "    <tr>\n",
       "      <th>2</th>\n",
       "      <td>10340119.0</td>\n",
       "      <td>4865</td>\n",
       "      <td>5799.0</td>\n",
       "      <td>33</td>\n",
       "      <td>362</td>\n",
       "      <td>145</td>\n",
       "      <td>4.068966</td>\n",
       "      <td>1</td>\n",
       "      <td>22</td>\n",
       "      <td>0</td>\n",
       "      <td>2</td>\n",
       "      <td>8</td>\n",
       "      <td>2</td>\n",
       "      <td>363</td>\n",
       "    </tr>\n",
       "    <tr>\n",
       "      <th>3</th>\n",
       "      <td>10856380.0</td>\n",
       "      <td>9330</td>\n",
       "      <td>1499.0</td>\n",
       "      <td>2</td>\n",
       "      <td>719</td>\n",
       "      <td>9124</td>\n",
       "      <td>4.147523</td>\n",
       "      <td>0</td>\n",
       "      <td>43</td>\n",
       "      <td>0</td>\n",
       "      <td>3</td>\n",
       "      <td>7</td>\n",
       "      <td>2</td>\n",
       "      <td>720</td>\n",
       "    </tr>\n",
       "    <tr>\n",
       "      <th>4</th>\n",
       "      <td>12384822.0</td>\n",
       "      <td>5811</td>\n",
       "      <td>1999.0</td>\n",
       "      <td>2</td>\n",
       "      <td>445</td>\n",
       "      <td>12260</td>\n",
       "      <td>4.078467</td>\n",
       "      <td>0</td>\n",
       "      <td>43</td>\n",
       "      <td>0</td>\n",
       "      <td>2</td>\n",
       "      <td>7</td>\n",
       "      <td>2</td>\n",
       "      <td>446</td>\n",
       "    </tr>\n",
       "    <tr>\n",
       "      <th>...</th>\n",
       "      <td>...</td>\n",
       "      <td>...</td>\n",
       "      <td>...</td>\n",
       "      <td>...</td>\n",
       "      <td>...</td>\n",
       "      <td>...</td>\n",
       "      <td>...</td>\n",
       "      <td>...</td>\n",
       "      <td>...</td>\n",
       "      <td>...</td>\n",
       "      <td>...</td>\n",
       "      <td>...</td>\n",
       "      <td>...</td>\n",
       "      <td>...</td>\n",
       "    </tr>\n",
       "    <tr>\n",
       "      <th>14263</th>\n",
       "      <td>17029604.0</td>\n",
       "      <td>11238</td>\n",
       "      <td>3999.0</td>\n",
       "      <td>34</td>\n",
       "      <td>829</td>\n",
       "      <td>183</td>\n",
       "      <td>4.101193</td>\n",
       "      <td>3</td>\n",
       "      <td>24</td>\n",
       "      <td>0</td>\n",
       "      <td>3</td>\n",
       "      <td>20</td>\n",
       "      <td>2</td>\n",
       "      <td>830</td>\n",
       "    </tr>\n",
       "    <tr>\n",
       "      <th>14264</th>\n",
       "      <td>17600212.0</td>\n",
       "      <td>5758</td>\n",
       "      <td>2050.0</td>\n",
       "      <td>3</td>\n",
       "      <td>438</td>\n",
       "      <td>183</td>\n",
       "      <td>4.101193</td>\n",
       "      <td>0</td>\n",
       "      <td>37</td>\n",
       "      <td>0</td>\n",
       "      <td>2</td>\n",
       "      <td>7</td>\n",
       "      <td>2</td>\n",
       "      <td>439</td>\n",
       "    </tr>\n",
       "    <tr>\n",
       "      <th>14265</th>\n",
       "      <td>18159266.0</td>\n",
       "      <td>5655</td>\n",
       "      <td>1659.0</td>\n",
       "      <td>17</td>\n",
       "      <td>422</td>\n",
       "      <td>183</td>\n",
       "      <td>4.101193</td>\n",
       "      <td>11</td>\n",
       "      <td>24</td>\n",
       "      <td>0</td>\n",
       "      <td>3</td>\n",
       "      <td>41</td>\n",
       "      <td>2</td>\n",
       "      <td>423</td>\n",
       "    </tr>\n",
       "    <tr>\n",
       "      <th>14266</th>\n",
       "      <td>18921114.0</td>\n",
       "      <td>4838</td>\n",
       "      <td>2399.0</td>\n",
       "      <td>36</td>\n",
       "      <td>361</td>\n",
       "      <td>183</td>\n",
       "      <td>4.101193</td>\n",
       "      <td>0</td>\n",
       "      <td>24</td>\n",
       "      <td>0</td>\n",
       "      <td>3</td>\n",
       "      <td>71</td>\n",
       "      <td>2</td>\n",
       "      <td>362</td>\n",
       "    </tr>\n",
       "    <tr>\n",
       "      <th>14267</th>\n",
       "      <td>19361058.0</td>\n",
       "      <td>1688</td>\n",
       "      <td>2599.0</td>\n",
       "      <td>28</td>\n",
       "      <td>132</td>\n",
       "      <td>183</td>\n",
       "      <td>4.101193</td>\n",
       "      <td>0</td>\n",
       "      <td>43</td>\n",
       "      <td>0</td>\n",
       "      <td>1</td>\n",
       "      <td>30</td>\n",
       "      <td>2</td>\n",
       "      <td>133</td>\n",
       "    </tr>\n",
       "  </tbody>\n",
       "</table>\n",
       "<p>14268 rows × 14 columns</p>\n",
       "</div>"
      ],
      "text/plain": [
       "             p_id   name   price  colour  brand  ratingCount  avg_rating  \\\n",
       "0       1518329.0   2986   899.0      47    220         1321    4.548827   \n",
       "1       5829334.0   9059  1199.0      27    701         5462    4.313255   \n",
       "2      10340119.0   4865  5799.0      33    362          145    4.068966   \n",
       "3      10856380.0   9330  1499.0       2    719         9124    4.147523   \n",
       "4      12384822.0   5811  1999.0       2    445        12260    4.078467   \n",
       "...           ...    ...     ...     ...    ...          ...         ...   \n",
       "14263  17029604.0  11238  3999.0      34    829          183    4.101193   \n",
       "14264  17600212.0   5758  2050.0       3    438          183    4.101193   \n",
       "14265  18159266.0   5655  1659.0      17    422          183    4.101193   \n",
       "14266  18921114.0   4838  2399.0      36    361          183    4.101193   \n",
       "14267  19361058.0   1688  2599.0      28    132          183    4.101193   \n",
       "\n",
       "       Occasion  Print_Pattern_Type  Sustainable  Knit_or_Woven  Fabric  \\\n",
       "0             1                  24            0              2       7   \n",
       "1             0                  43            0              2       7   \n",
       "2             1                  22            0              2       8   \n",
       "3             0                  43            0              3       7   \n",
       "4             0                  43            0              2       7   \n",
       "...         ...                 ...          ...            ...     ...   \n",
       "14263         3                  24            0              3      20   \n",
       "14264         0                  37            0              2       7   \n",
       "14265        11                  24            0              3      41   \n",
       "14266         0                  24            0              3      71   \n",
       "14267         0                  43            0              1      30   \n",
       "\n",
       "       Fabric_Purity  brandID  \n",
       "0                  2      221  \n",
       "1                  2      702  \n",
       "2                  2      363  \n",
       "3                  2      720  \n",
       "4                  2      446  \n",
       "...              ...      ...  \n",
       "14263              2      830  \n",
       "14264              2      439  \n",
       "14265              2      423  \n",
       "14266              2      362  \n",
       "14267              2      133  \n",
       "\n",
       "[14268 rows x 14 columns]"
      ]
     },
     "execution_count": 5,
     "metadata": {},
     "output_type": "execute_result"
    }
   ],
   "source": [
    "dataset_final"
   ]
  },
  {
   "cell_type": "code",
   "execution_count": 6,
   "id": "a8adac39",
   "metadata": {},
   "outputs": [
    {
     "data": {
      "text/plain": [
       "Index(['p_id', 'name', 'price', 'colour', 'brand', 'ratingCount', 'avg_rating',\n",
       "       'Occasion', 'Print_Pattern_Type', 'Sustainable', 'Knit_or_Woven',\n",
       "       'Fabric', 'Fabric_Purity', 'brandID'],\n",
       "      dtype='object')"
      ]
     },
     "execution_count": 6,
     "metadata": {},
     "output_type": "execute_result"
    }
   ],
   "source": [
    "dataset_final.columns"
   ]
  },
  {
   "cell_type": "markdown",
   "id": "b3992fcd",
   "metadata": {},
   "source": [
    "## Regression Modelling"
   ]
  },
  {
   "cell_type": "markdown",
   "id": "67cd4a19",
   "metadata": {},
   "source": [
    ">Selecting x & y variables"
   ]
  },
  {
   "cell_type": "code",
   "execution_count": 7,
   "id": "2b9315af",
   "metadata": {},
   "outputs": [],
   "source": [
    "x_regression = dataset_final.loc[:,['p_id', 'colour', 'price', 'name','ratingCount',\n",
    "       'Occasion', 'Print_Pattern_Type', 'Sustainable', 'Knit_or_Woven',\n",
    "       'Fabric', 'Fabric_Purity', 'avg_rating']]"
   ]
  },
  {
   "cell_type": "code",
   "execution_count": 8,
   "id": "fe5e5213",
   "metadata": {},
   "outputs": [],
   "source": [
    "y_regression = dataset_final.loc[:,['brandID']]"
   ]
  },
  {
   "cell_type": "markdown",
   "id": "81499798",
   "metadata": {},
   "source": [
    ">Creating training & testing datasets"
   ]
  },
  {
   "cell_type": "code",
   "execution_count": 9,
   "id": "69b3b243",
   "metadata": {},
   "outputs": [
    {
     "name": "stdout",
     "output_type": "stream",
     "text": [
      "Your independent training dataset contains  (10701, 12)  rows and columns.\n",
      "Your independent testing dataset contains  (3567, 12)  rows and columns.\n",
      "Your dependent training dataset contains  (10701, 1)  rows and columns.\n",
      "Your dependent testing dataset contains  (3567, 1)  rows and columns.\n"
     ]
    }
   ],
   "source": [
    "x_reg_train, x_reg_test, y_reg_train, y_reg_test = train_test_split(x_regression, y_regression, test_size=0.25, random_state=23)\n",
    "\n",
    "print(\"Your independent training dataset contains \", x_reg_train.shape, \" rows and columns.\")\n",
    "print(\"Your independent testing dataset contains \", x_reg_test.shape, \" rows and columns.\")\n",
    "print(\"Your dependent training dataset contains \", y_reg_train.shape, \" rows and columns.\")\n",
    "print(\"Your dependent testing dataset contains \", y_reg_test.shape, \" rows and columns.\")"
   ]
  },
  {
   "cell_type": "markdown",
   "id": "63b0cb7f",
   "metadata": {},
   "source": [
    "### Linear Regression"
   ]
  },
  {
   "cell_type": "markdown",
   "id": "73f2d92d",
   "metadata": {},
   "source": [
    ">Training the model"
   ]
  },
  {
   "cell_type": "code",
   "execution_count": 10,
   "id": "e854faec",
   "metadata": {},
   "outputs": [],
   "source": [
    "LR = LinearRegression()"
   ]
  },
  {
   "cell_type": "code",
   "execution_count": 11,
   "id": "5342de45",
   "metadata": {},
   "outputs": [
    {
     "data": {
      "text/plain": [
       "LinearRegression()"
      ]
     },
     "execution_count": 11,
     "metadata": {},
     "output_type": "execute_result"
    }
   ],
   "source": [
    "LR.fit(x_reg_train, y_reg_train)"
   ]
  },
  {
   "cell_type": "markdown",
   "id": "b7c5a1c2",
   "metadata": {},
   "source": [
    ">Testing the model"
   ]
  },
  {
   "cell_type": "code",
   "execution_count": 12,
   "id": "f403b7a3",
   "metadata": {},
   "outputs": [
    {
     "data": {
      "text/plain": [
       "array([[ 369.81194354],\n",
       "       [ 663.40689954],\n",
       "       [  67.62706508],\n",
       "       ...,\n",
       "       [1009.42805467],\n",
       "       [ 486.4517765 ],\n",
       "       [ 173.86947236]])"
      ]
     },
     "execution_count": 12,
     "metadata": {},
     "output_type": "execute_result"
    }
   ],
   "source": [
    "LR_predict = LR.predict(x_reg_test)\n",
    "LR_predict"
   ]
  },
  {
   "cell_type": "markdown",
   "id": "4265d59a",
   "metadata": {},
   "source": [
    "### Bayesian Ridge Regression"
   ]
  },
  {
   "cell_type": "code",
   "execution_count": 13,
   "id": "e2d01a0b",
   "metadata": {},
   "outputs": [
    {
     "name": "stderr",
     "output_type": "stream",
     "text": [
      "C:\\Users\\percy\\anaconda3\\lib\\site-packages\\sklearn\\utils\\validation.py:993: DataConversionWarning: A column-vector y was passed when a 1d array was expected. Please change the shape of y to (n_samples, ), for example using ravel().\n",
      "  y = column_or_1d(y, warn=True)\n"
     ]
    },
    {
     "data": {
      "text/plain": [
       "BayesianRidge()"
      ]
     },
     "execution_count": 13,
     "metadata": {},
     "output_type": "execute_result"
    }
   ],
   "source": [
    "BayRidge = BayesianRidge()\n",
    "BayRidge.fit(x_reg_train, y_reg_train)"
   ]
  },
  {
   "cell_type": "code",
   "execution_count": 14,
   "id": "6177b0a0",
   "metadata": {},
   "outputs": [
    {
     "data": {
      "text/plain": [
       "array([ 371.64465677,  662.99256617,   67.32255658, ..., 1008.77802888,\n",
       "        487.08312897,  172.83417773])"
      ]
     },
     "execution_count": 14,
     "metadata": {},
     "output_type": "execute_result"
    }
   ],
   "source": [
    "BayRidge_predict = BayRidge.predict(x_reg_test)\n",
    "BayRidge_predict"
   ]
  },
  {
   "cell_type": "markdown",
   "id": "45cd0341",
   "metadata": {},
   "source": [
    "### Comparing Error Values"
   ]
  },
  {
   "cell_type": "code",
   "execution_count": 15,
   "id": "e5a52d54",
   "metadata": {},
   "outputs": [
    {
     "name": "stdout",
     "output_type": "stream",
     "text": [
      "Linear Regressor MAE:  14.202331665926106\n",
      "Bayesian Ridge Regressor MAE:  14.211143027777617\n"
     ]
    }
   ],
   "source": [
    "print(\"Linear Regressor MAE: \", metrics.mean_absolute_error(y_reg_test, LR_predict))\n",
    "print(\"Bayesian Ridge Regressor MAE: \", metrics.mean_absolute_error(y_reg_test, BayRidge_predict))"
   ]
  },
  {
   "cell_type": "markdown",
   "id": "9984e17d",
   "metadata": {},
   "source": [
    "## Classification Modelling"
   ]
  },
  {
   "cell_type": "markdown",
   "id": "618068b5",
   "metadata": {},
   "source": [
    "### Choosing the x & y variables"
   ]
  },
  {
   "cell_type": "markdown",
   "id": "ccd9749c",
   "metadata": {},
   "source": [
    "> To check for brand"
   ]
  },
  {
   "cell_type": "code",
   "execution_count": 16,
   "id": "85a1d94a",
   "metadata": {},
   "outputs": [],
   "source": [
    "x_class_brand = dataset_final.loc[:,['p_id', 'name','avg_rating', 'colour', 'ratingCount',\n",
    "       'Occasion', 'Print_Pattern_Type', 'Sustainable', 'Knit_or_Woven',\n",
    "       'Fabric', 'Fabric_Purity', 'price']]"
   ]
  },
  {
   "cell_type": "code",
   "execution_count": 17,
   "id": "baf83405",
   "metadata": {},
   "outputs": [],
   "source": [
    "y_class_brand = dataset_final.loc[:,['brand']]"
   ]
  },
  {
   "cell_type": "markdown",
   "id": "6868dc54",
   "metadata": {},
   "source": [
    ">To check for sustainability"
   ]
  },
  {
   "cell_type": "code",
   "execution_count": 18,
   "id": "3133e085",
   "metadata": {},
   "outputs": [],
   "source": [
    "x_class_sustain = dataset_final.loc[:,['p_id', 'brand','brandID', 'avg_rating', 'colour', 'ratingCount',\n",
    "       'Occasion', 'Print_Pattern_Type', 'Sustainable',\n",
    "       'Fabric', 'Fabric_Purity', 'price']]"
   ]
  },
  {
   "cell_type": "code",
   "execution_count": 19,
   "id": "d8091fec",
   "metadata": {},
   "outputs": [],
   "source": [
    "y_class_sustain = dataset_final.loc[:,['Knit_or_Woven']]"
   ]
  },
  {
   "cell_type": "markdown",
   "id": "83e9adbe",
   "metadata": {},
   "source": [
    "### Creating training & testing datasets"
   ]
  },
  {
   "cell_type": "markdown",
   "id": "b6a2e695",
   "metadata": {},
   "source": [
    "> To check for brand"
   ]
  },
  {
   "cell_type": "code",
   "execution_count": 20,
   "id": "5bbf87c8",
   "metadata": {},
   "outputs": [
    {
     "name": "stdout",
     "output_type": "stream",
     "text": [
      "Your independent training dataset contains  (10701, 12)  rows and columns.\n",
      "Your independent testing dataset contains  (3567, 12)  rows and columns.\n",
      "Your dependent training dataset contains  (10701, 1)  rows and columns.\n",
      "Your dependent testing dataset contains  (3567, 1)  rows and columns.\n"
     ]
    }
   ],
   "source": [
    "x_train_brand, x_test_brand, y_train_brand, y_test_brand = train_test_split(x_class_brand, y_class_brand, test_size=0.25, random_state=23)\n",
    "\n",
    "print(\"Your independent training dataset contains \", x_train_brand.shape, \" rows and columns.\")\n",
    "print(\"Your independent testing dataset contains \", x_test_brand.shape, \" rows and columns.\")\n",
    "print(\"Your dependent training dataset contains \", y_train_brand.shape, \" rows and columns.\")\n",
    "print(\"Your dependent testing dataset contains \", y_test_brand.shape, \" rows and columns.\")"
   ]
  },
  {
   "cell_type": "markdown",
   "id": "7178e0fd",
   "metadata": {},
   "source": [
    ">To check for sustainability"
   ]
  },
  {
   "cell_type": "code",
   "execution_count": 21,
   "id": "5c57c417",
   "metadata": {},
   "outputs": [
    {
     "name": "stdout",
     "output_type": "stream",
     "text": [
      "Your independent training dataset contains  (10701, 12)  rows and columns.\n",
      "Your independent testing dataset contains  (3567, 12)  rows and columns.\n",
      "Your dependent training dataset contains  (10701, 1)  rows and columns.\n",
      "Your dependent testing dataset contains  (3567, 1)  rows and columns.\n"
     ]
    }
   ],
   "source": [
    "x_train_sustain, x_test_sustain, y_train_sustain, y_test_sustain = train_test_split(x_class_sustain, y_class_sustain, test_size=0.25, random_state=23)\n",
    "\n",
    "print(\"Your independent training dataset contains \", x_train_sustain.shape, \" rows and columns.\")\n",
    "print(\"Your independent testing dataset contains \", x_test_sustain.shape, \" rows and columns.\")\n",
    "print(\"Your dependent training dataset contains \", y_train_sustain.shape, \" rows and columns.\")\n",
    "print(\"Your dependent testing dataset contains \", y_test_sustain.shape, \" rows and columns.\")"
   ]
  },
  {
   "cell_type": "markdown",
   "id": "1813f2d4",
   "metadata": {},
   "source": [
    "### Random Forest Classifier for brand"
   ]
  },
  {
   "cell_type": "code",
   "execution_count": 22,
   "id": "f4252e2d",
   "metadata": {
    "scrolled": true
   },
   "outputs": [
    {
     "name": "stderr",
     "output_type": "stream",
     "text": [
      "C:\\Users\\percy\\AppData\\Local\\Temp\\ipykernel_9888\\1169656683.py:2: DataConversionWarning: A column-vector y was passed when a 1d array was expected. Please change the shape of y to (n_samples,), for example using ravel().\n",
      "  rforest.fit(x_train_brand, y_train_brand)\n"
     ]
    },
    {
     "data": {
      "text/plain": [
       "RandomForestClassifier(n_estimators=60)"
      ]
     },
     "execution_count": 22,
     "metadata": {},
     "output_type": "execute_result"
    }
   ],
   "source": [
    "rforest = RandomForestClassifier(n_estimators=60)\n",
    "rforest.fit(x_train_brand, y_train_brand)"
   ]
  },
  {
   "cell_type": "code",
   "execution_count": 23,
   "id": "203e3cfd",
   "metadata": {},
   "outputs": [],
   "source": [
    "rforest_predict1 = rforest.predict(x_test_brand)"
   ]
  },
  {
   "cell_type": "markdown",
   "id": "b932381b",
   "metadata": {},
   "source": [
    "### Decision Tree Classifier for brand"
   ]
  },
  {
   "cell_type": "code",
   "execution_count": 24,
   "id": "cf9e4e23",
   "metadata": {},
   "outputs": [
    {
     "data": {
      "text/plain": [
       "DecisionTreeClassifier()"
      ]
     },
     "execution_count": 24,
     "metadata": {},
     "output_type": "execute_result"
    }
   ],
   "source": [
    "dtree = DecisionTreeClassifier()\n",
    "dtree.fit(x_train_brand, y_train_brand)"
   ]
  },
  {
   "cell_type": "code",
   "execution_count": 25,
   "id": "fefde168",
   "metadata": {},
   "outputs": [],
   "source": [
    "dtree_predict1 = dtree.predict(x_test_brand)"
   ]
  },
  {
   "cell_type": "markdown",
   "id": "f6689f00",
   "metadata": {},
   "source": [
    "### Comparing Accuracy Scores"
   ]
  },
  {
   "cell_type": "code",
   "execution_count": 26,
   "id": "075651ad",
   "metadata": {
    "scrolled": true
   },
   "outputs": [
    {
     "name": "stdout",
     "output_type": "stream",
     "text": [
      "Random Forest Classifier Accuracy: 73.96 %\n",
      "Decision Classifier Accuracy: 90.58 %\n"
     ]
    }
   ],
   "source": [
    "print(\"Random Forest Classifier Accuracy:\", round((metrics.accuracy_score(y_test_brand, rforest_predict1))*100,2),\"%\")\n",
    "print(\"Decision Classifier Accuracy:\", round((metrics.accuracy_score(y_test_brand, dtree_predict1))*100,2),\"%\")"
   ]
  },
  {
   "cell_type": "markdown",
   "id": "617998fe",
   "metadata": {},
   "source": [
    "### Decision Tree Classifier for sustainability"
   ]
  },
  {
   "cell_type": "code",
   "execution_count": 27,
   "id": "41ea10b4",
   "metadata": {},
   "outputs": [
    {
     "data": {
      "text/plain": [
       "DecisionTreeClassifier()"
      ]
     },
     "execution_count": 27,
     "metadata": {},
     "output_type": "execute_result"
    }
   ],
   "source": [
    "dtree = DecisionTreeClassifier()\n",
    "dtree.fit(x_train_sustain, y_train_sustain)"
   ]
  },
  {
   "cell_type": "code",
   "execution_count": 28,
   "id": "ddb3b996",
   "metadata": {},
   "outputs": [],
   "source": [
    "dtree_predict2 = dtree.predict(x_test_sustain)"
   ]
  },
  {
   "cell_type": "markdown",
   "id": "c891e6cd",
   "metadata": {},
   "source": [
    "### Random Forest Classifier for sustainability"
   ]
  },
  {
   "cell_type": "code",
   "execution_count": 29,
   "id": "0e8b529e",
   "metadata": {},
   "outputs": [
    {
     "name": "stderr",
     "output_type": "stream",
     "text": [
      "C:\\Users\\percy\\AppData\\Local\\Temp\\ipykernel_9888\\123378999.py:2: DataConversionWarning: A column-vector y was passed when a 1d array was expected. Please change the shape of y to (n_samples,), for example using ravel().\n",
      "  rforest.fit(x_train_sustain, y_train_sustain)\n"
     ]
    },
    {
     "data": {
      "text/plain": [
       "RandomForestClassifier(n_estimators=60)"
      ]
     },
     "execution_count": 29,
     "metadata": {},
     "output_type": "execute_result"
    }
   ],
   "source": [
    "rforest = RandomForestClassifier(n_estimators=60)\n",
    "rforest.fit(x_train_sustain, y_train_sustain)"
   ]
  },
  {
   "cell_type": "code",
   "execution_count": 30,
   "id": "1982fd41",
   "metadata": {},
   "outputs": [],
   "source": [
    "rforest_predict2 = rforest.predict(x_test_sustain)"
   ]
  },
  {
   "cell_type": "markdown",
   "id": "62306d32",
   "metadata": {},
   "source": [
    "### Comparing Accuracy Scores"
   ]
  },
  {
   "cell_type": "code",
   "execution_count": 31,
   "id": "abed82e4",
   "metadata": {
    "scrolled": true
   },
   "outputs": [
    {
     "name": "stdout",
     "output_type": "stream",
     "text": [
      "Random Forest Classifier Accuracy: 99.55 %\n",
      "Decision Classifier Accuracy: 99.5 %\n"
     ]
    }
   ],
   "source": [
    "print(\"Random Forest Classifier Accuracy:\", round((metrics.accuracy_score(y_test_sustain, rforest_predict2))*100,2),\"%\")\n",
    "print(\"Decision Classifier Accuracy:\", round((metrics.accuracy_score(y_test_sustain, dtree_predict2))*100,2),\"%\")"
   ]
  },
  {
   "cell_type": "markdown",
   "id": "e2c74861",
   "metadata": {},
   "source": [
    "### Confusion matrices for Sustainability"
   ]
  },
  {
   "cell_type": "code",
   "execution_count": 45,
   "id": "1a941c2f",
   "metadata": {},
   "outputs": [
    {
     "data": {
      "text/plain": [
       "array(['Knitted and Woven', 'Woven', 'Knitted', 'Knit'], dtype=object)"
      ]
     },
     "execution_count": 45,
     "metadata": {},
     "output_type": "execute_result"
    }
   ],
   "source": [
    "merged_dataset['Knit_or_Woven'].unique()"
   ]
  },
  {
   "cell_type": "markdown",
   "id": "456f7cc8",
   "metadata": {},
   "source": [
    "### Decision Tree "
   ]
  },
  {
   "cell_type": "code",
   "execution_count": 38,
   "id": "229c7728",
   "metadata": {},
   "outputs": [],
   "source": [
    "dtree_cm=confusion_matrix(dtree_predict2, y_test_sustain)"
   ]
  },
  {
   "cell_type": "code",
   "execution_count": 37,
   "id": "97ed5a55",
   "metadata": {},
   "outputs": [
    {
     "name": "stdout",
     "output_type": "stream",
     "text": [
      "             Regular  Sustainable\n",
      "Regular         3502            6\n",
      "Sustainable       12           47\n"
     ]
    }
   ],
   "source": [
    "dtree_cm_df= pd.DataFrame(dtree_cm, index=['Knitted and Woven', 'Woven', 'Knitted', 'Knit'],\n",
    "                         columns=['Knitted and Woven', 'Woven', 'Knitted', 'Knit'])\n",
    "print(dtree_cm_df)"
   ]
  },
  {
   "cell_type": "markdown",
   "id": "c433b541",
   "metadata": {},
   "source": [
    "### Random Forest"
   ]
  },
  {
   "cell_type": "code",
   "execution_count": 39,
   "id": "025bc60f",
   "metadata": {},
   "outputs": [],
   "source": [
    "rforest_cm=confusion_matrix(rforest_predict2, y_test_sustain)"
   ]
  },
  {
   "cell_type": "code",
   "execution_count": 40,
   "id": "3a20a98a",
   "metadata": {},
   "outputs": [
    {
     "name": "stdout",
     "output_type": "stream",
     "text": [
      "             Regular  Sustainable\n",
      "Regular         3508           10\n",
      "Sustainable        6           43\n"
     ]
    }
   ],
   "source": [
    "rforest_cm_df= pd.DataFrame(rforest_cm, index=['Knitted and Woven', 'Woven', 'Knitted', 'Knit'],\n",
    "                         columns=['Knitted and Woven', 'Woven', 'Knitted', 'Knit'])\n",
    "print(rforest_cm_df)"
   ]
  },
  {
   "cell_type": "markdown",
   "id": "1f3d4df9",
   "metadata": {},
   "source": [
    "## Visualising the confusion matrices"
   ]
  },
  {
   "cell_type": "code",
   "execution_count": 44,
   "id": "e9e6a25d",
   "metadata": {},
   "outputs": [
    {
     "data": {
      "image/png": "[encoded data removed]",
      "text/plain": [
       "<Figure size 500x400 with 2 Axes>"
      ]
     },
     "metadata": {},
     "output_type": "display_data"
    }
   ],
   "source": [
    "plt.figure(figsize=(5,4))\n",
    "sns.heatmap(dtree_cm_df,annot=True)\n",
    "plt.title('Confusion Matrix using Decision Tree Classifier')\n",
    "plt.ylabel('Actual values')\n",
    "plt.xlabel('Predicted values')\n",
    "plt.show()"
   ]
  },
  {
   "cell_type": "code",
   "execution_count": null,
   "id": "e4fd4085",
   "metadata": {},
   "outputs": [],
   "source": []
  }
 ],
 "metadata": {
  "kernelspec": {
   "display_name": "Python 3 (ipykernel)",
   "language": "python",
   "name": "python3"
  },
  "language_info": {
   "codemirror_mode": {
    "name": "ipython",
    "version": 3
   },
   "file_extension": ".py",
   "mimetype": "text/x-python",
   "name": "python",
   "nbconvert_exporter": "python",
   "pygments_lexer": "ipython3",
   "version": "3.9.13"
  }
 },
 "nbformat": 4,
 "nbformat_minor": 5
}
