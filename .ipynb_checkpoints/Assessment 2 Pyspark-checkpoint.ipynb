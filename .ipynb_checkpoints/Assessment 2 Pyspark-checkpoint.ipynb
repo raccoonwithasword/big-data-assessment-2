{
 "cells": [
  {
   "cell_type": "markdown",
   "id": "457423a4",
   "metadata": {},
   "source": [
    "# Importing Libraries and Data"
   ]
  },
  {
   "cell_type": "markdown",
   "id": "c748dd0b",
   "metadata": {},
   "source": [
    ">Importing Spark libraries"
   ]
  },
  {
   "cell_type": "code",
   "execution_count": 1,
   "id": "2635c1f4",
   "metadata": {},
   "outputs": [],
   "source": [
    "import findspark\n",
    "findspark.init()\n",
    "from pyspark.sql import SparkSession\n",
    "from pyspark.sql.functions import col, struct, explode\n",
    "spark = SparkSession.builder.master(\"local[*]\").getOrCreate()\n",
    "spark.conf.set(\"spark.sql.repl.eagerEval.enabled\", True) # Property used to format output tables better"
   ]
  },
  {
   "cell_type": "markdown",
   "id": "e9b34e55",
   "metadata": {},
   "source": [
    ">Importing the dataset, inferring schema, and checking data types"
   ]
  },
  {
   "cell_type": "code",
   "execution_count": 2,
   "id": "9ec1646c",
   "metadata": {
    "scrolled": true
   },
   "outputs": [
    {
     "name": "stdout",
     "output_type": "stream",
     "text": [
      "root\n",
      " |-- p_id: double (nullable = true)\n",
      " |-- name: string (nullable = true)\n",
      " |-- price: double (nullable = true)\n",
      " |-- colour: string (nullable = true)\n",
      " |-- brand: string (nullable = true)\n",
      " |-- ratingCount: double (nullable = true)\n",
      " |-- avg_rating: double (nullable = true)\n",
      " |-- description: string (nullable = true)\n",
      " |-- p_attributes: string (nullable = true)\n",
      " |-- brand_id: integer (nullable = true)\n",
      "\n"
     ]
    }
   ],
   "source": [
    "final_dataset = spark.read.options(header = True, sep = \",\", inferSchema=True, escape='\"').option(\"multiline\",'true').csv(\"./final dataset.csv\")\n",
    "final_dataset.printSchema()"
   ]
  },
  {
   "cell_type": "markdown",
   "id": "9e84b929",
   "metadata": {},
   "source": [
    ">Viewing top 5 rows of first two columns"
   ]
  },
  {
   "cell_type": "code",
   "execution_count": 3,
   "id": "b40e21c3",
   "metadata": {},
   "outputs": [
    {
     "name": "stdout",
     "output_type": "stream",
     "text": [
      "+-----------+--------------------+\n",
      "|       p_id|                name|\n",
      "+-----------+--------------------+\n",
      "|  1518329.0|Dupatta Bazaar Wh...|\n",
      "|  5829334.0|Roadster Women Mu...|\n",
      "|1.0340119E7|Inddus Peach-Colo...|\n",
      "| 1.085638E7|SASSAFRAS Women B...|\n",
      "|1.2384822E7|Kotty Women Black...|\n",
      "+-----------+--------------------+\n",
      "only showing top 5 rows\n",
      "\n"
     ]
    }
   ],
   "source": [
    "final_dataset.select(['p_id','name']).show(5)"
   ]
  },
  {
   "cell_type": "markdown",
   "id": "c366a432",
   "metadata": {},
   "source": [
    ">Grouping by brand & brand ID"
   ]
  },
  {
   "cell_type": "code",
   "execution_count": 4,
   "id": "d550c243",
   "metadata": {},
   "outputs": [
    {
     "data": {
      "text/html": [
       "<table border='1'>\n",
       "<tr><th>brand_id</th><th>brand</th><th>count</th></tr>\n",
       "<tr><td>178</td><td>Cottinfab</td><td>31</td></tr>\n",
       "<tr><td>399</td><td>Jockey</td><td>12</td></tr>\n",
       "<tr><td>987</td><td>iki chic</td><td>31</td></tr>\n",
       "<tr><td>760</td><td>Saffron Threads</td><td>17</td></tr>\n",
       "<tr><td>321</td><td>Granthva Fab</td><td>10</td></tr>\n",
       "<tr><td>470</td><td>LYKKEIN</td><td>5</td></tr>\n",
       "<tr><td>83</td><td>Arrabi</td><td>2</td></tr>\n",
       "<tr><td>227</td><td>EXTRA LOVE BY LIBAS</td><td>7</td></tr>\n",
       "<tr><td>410</td><td>KANNAHI</td><td>1</td></tr>\n",
       "<tr><td>530</td><td>Marigold by Fable...</td><td>4</td></tr>\n",
       "<tr><td>553</td><td>Modriba</td><td>1</td></tr>\n",
       "<tr><td>234</td><td>Enchanted Drapes</td><td>7</td></tr>\n",
       "<tr><td>839</td><td>Thread &amp; Button</td><td>1</td></tr>\n",
       "<tr><td>417</td><td>KEX</td><td>1</td></tr>\n",
       "<tr><td>119</td><td>Berrylush Curve</td><td>4</td></tr>\n",
       "<tr><td>996</td><td>mirari</td><td>3</td></tr>\n",
       "<tr><td>563</td><td>NAINVISH</td><td>2</td></tr>\n",
       "<tr><td>787</td><td>Soch</td><td>119</td></tr>\n",
       "<tr><td>763</td><td>Sanwara</td><td>5</td></tr>\n",
       "<tr><td>998</td><td>mothercare</td><td>1</td></tr>\n",
       "</table>\n",
       "only showing top 20 rows\n"
      ],
      "text/plain": [
       "+--------+--------------------+-----+\n",
       "|brand_id|               brand|count|\n",
       "+--------+--------------------+-----+\n",
       "|     178|           Cottinfab|   31|\n",
       "|     399|              Jockey|   12|\n",
       "|     987|            iki chic|   31|\n",
       "|     760|     Saffron Threads|   17|\n",
       "|     321|        Granthva Fab|   10|\n",
       "|     470|             LYKKEIN|    5|\n",
       "|      83|              Arrabi|    2|\n",
       "|     227| EXTRA LOVE BY LIBAS|    7|\n",
       "|     410|             KANNAHI|    1|\n",
       "|     530|Marigold by Fable...|    4|\n",
       "|     553|             Modriba|    1|\n",
       "|     234|    Enchanted Drapes|    7|\n",
       "|     839|     Thread & Button|    1|\n",
       "|     417|                 KEX|    1|\n",
       "|     119|     Berrylush Curve|    4|\n",
       "|     996|              mirari|    3|\n",
       "|     563|            NAINVISH|    2|\n",
       "|     787|                Soch|  119|\n",
       "|     763|             Sanwara|    5|\n",
       "|     998|          mothercare|    1|\n",
       "+--------+--------------------+-----+\n",
       "only showing top 20 rows"
      ]
     },
     "execution_count": 4,
     "metadata": {},
     "output_type": "execute_result"
    }
   ],
   "source": [
    "final_dataset.groupBy('brand_id', 'brand').count()"
   ]
  },
  {
   "cell_type": "code",
   "execution_count": 5,
   "id": "5bc0bdb9",
   "metadata": {},
   "outputs": [
    {
     "data": {
      "text/html": [
       "<table border='1'>\n",
       "<tr><th>p_id</th><th>name</th><th>price</th><th>colour</th><th>brand</th><th>ratingCount</th><th>avg_rating</th><th>description</th><th>p_attributes</th><th>brand_id</th></tr>\n",
       "<tr><td>1518329.0</td><td>Dupatta Bazaar Wh...</td><td>899.0</td><td>White</td><td>Dupatta Bazaar</td><td>1321.0</td><td>4.548826646</td><td>White embroidered...</td><td>{&#x27;Occasion&#x27;: &#x27;Dai...</td><td>221</td></tr>\n",
       "<tr><td>5829334.0</td><td>Roadster Women Mu...</td><td>1199.0</td><td>Mustard</td><td>Roadster</td><td>5462.0</td><td>4.313255218</td><td>Mustard yellow so...</td><td>{&#x27;Body Shape ID&#x27;:...</td><td>702</td></tr>\n",
       "<tr><td>1.0340119E7</td><td>Inddus Peach-Colo...</td><td>5799.0</td><td>Peach</td><td>Inddus</td><td>145.0</td><td>4.068965517</td><td>Peach-Coloured an...</td><td>{&#x27;Bottom Fabric&#x27;:...</td><td>363</td></tr>\n",
       "<tr><td>1.085638E7</td><td>SASSAFRAS Women B...</td><td>1499.0</td><td>Black</td><td>SASSAFRAS</td><td>9124.0</td><td>4.147523016</td><td>Black solid woven...</td><td>{&#x27;Add-Ons&#x27;: &#x27;NA&#x27;,...</td><td>720</td></tr>\n",
       "<tr><td>1.2384822E7</td><td>Kotty Women Black...</td><td>1999.0</td><td>Black</td><td>Kotty</td><td>12260.0</td><td>4.078466558</td><td>Black dark wash 4...</td><td>{&#x27;Add-Ons&#x27;: &#x27;NA&#x27;,...</td><td>446</td></tr>\n",
       "<tr><td>1.27421E7</td><td>KASSUALLY Women B...</td><td>2199.0</td><td>Black</td><td>KASSUALLY</td><td>6297.0</td><td>4.349213911</td><td>Black printed bas...</td><td>{&#x27;Body or Garment...</td><td>412</td></tr>\n",
       "<tr><td>1.3842966E7</td><td>Sassafras Brown &amp;...</td><td>1499.0</td><td>Brown</td><td>SASSAFRAS</td><td>7358.0</td><td>4.395351998</td><td>&lt;ul&gt;&lt;li&gt;Brown and...</td><td>{&#x27;Body Shape ID&#x27;:...</td><td>720</td></tr>\n",
       "<tr><td>1.4021452E7</td><td>Sera Women Multic...</td><td>1494.0</td><td>Multi</td><td>Sera</td><td>750.0</td><td>4.288</td><td>Brown and blue pr...</td><td>{&#x27;Body or Garment...</td><td>771</td></tr>\n",
       "<tr><td>1.4063026E7</td><td>Tokyo Talkies Wom...</td><td>699.0</td><td>Black</td><td>Tokyo Talkies</td><td>1856.0</td><td>4.530711207</td><td>Black solid mid-r...</td><td>{&#x27;Body or Garment...</td><td>845</td></tr>\n",
       "<tr><td>1.4324806E7</td><td>Anouk Stylish Bla...</td><td>4699.0</td><td>Black</td><td>Anouk</td><td>84.0</td><td>3.80952381</td><td>Stay fashionable ...</td><td>{&#x27;Blouse Closure&#x27;...</td><td>76</td></tr>\n",
       "<tr><td>1.4955068E7</td><td>Roadster Women El...</td><td>2599.0</td><td>Mauve</td><td>Roadster</td><td>752.0</td><td>4.21143617</td><td>Add a hint of dra...</td><td>{&#x27;Add-Ons&#x27;: &#x27;NA&#x27;,...</td><td>702</td></tr>\n",
       "<tr><td>1.6595858E7</td><td>Saree Mall Floral...</td><td>3599.0</td><td>Pink</td><td>Saree mall</td><td>1005.0</td><td>3.980099502</td><td>Dress up or dress...</td><td>{&#x27;Blouse&#x27;: &#x27;Blous...</td><td>765</td></tr>\n",
       "<tr><td>1.6827132E7</td><td>Tokyo Talkies Wom...</td><td>1399.0</td><td>Maroon</td><td>Tokyo Talkies</td><td>125.0</td><td>3.912</td><td>&lt;p&gt;Maroon solid r...</td><td>{&#x27;Body Shape ID&#x27;:...</td><td>845</td></tr>\n",
       "<tr><td>1.7048614E7</td><td>Khushal K Women B...</td><td>5099.0</td><td>Black</td><td>Khushal K</td><td>4522.0</td><td>4.418398939</td><td>Black printed Kur...</td><td>{&#x27;Add-Ons&#x27;: &#x27;NA&#x27;,...</td><td>437</td></tr>\n",
       "<tr><td>1.7413232E7</td><td>Anubhutee Pink Et...</td><td>1739.0</td><td>Pink</td><td>Anubhutee</td><td>273.0</td><td>4.249084249</td><td>&lt;ul&gt; &lt;li&gt; Pink st...</td><td>{&#x27;Body or Garment...</td><td>78</td></tr>\n",
       "<tr><td>1.8601482E7</td><td>MONTREZ Women Whi...</td><td>1999.0</td><td>White</td><td>MONTREZ</td><td>61.0</td><td>4.37704918</td><td>White graphic pri...</td><td>{&#x27;Add-Ons&#x27;: &#x27;NA&#x27;,...</td><td>517</td></tr>\n",
       "<tr><td>1.8841352E7</td><td>Styli Women Golde...</td><td>1949.0</td><td>Gold</td><td>Styli</td><td>183.78536585365853</td><td>4.101193</td><td>&lt;p&gt;Golden sequine...</td><td>{&#x27;Add-Ons&#x27;: &#x27;NA&#x27;,...</td><td>796</td></tr>\n",
       "<tr><td>8317561.0</td><td>Chemistry Blue De...</td><td>1699.0</td><td>Blue</td><td>Chemistry</td><td>900.0</td><td>4.314444444</td><td>Blue&amp;nbsp;solid k...</td><td>{&#x27;Add-Ons&#x27;: &#x27;NA&#x27;,...</td><td>160</td></tr>\n",
       "<tr><td>8340727.0</td><td>Inddus Women Dust...</td><td>6549.0</td><td>Pink</td><td>Inddus</td><td>636.0</td><td>3.985849057</td><td>Dusty Pink semi-s...</td><td>{&#x27;Blouse Closure&#x27;...</td><td>363</td></tr>\n",
       "<tr><td>1.0856322E7</td><td>SASSAFRAS Women B...</td><td>1799.0</td><td>Black</td><td>SASSAFRAS</td><td>4458.0</td><td>4.478017048</td><td>Black ribbed open...</td><td>{&#x27;Body or Garment...</td><td>720</td></tr>\n",
       "</table>\n",
       "only showing top 20 rows\n"
      ],
      "text/plain": [
       "+-----------+--------------------+------+-------+--------------+------------------+-----------+--------------------+--------------------+--------+\n",
       "|       p_id|                name| price| colour|         brand|       ratingCount| avg_rating|         description|        p_attributes|brand_id|\n",
       "+-----------+--------------------+------+-------+--------------+------------------+-----------+--------------------+--------------------+--------+\n",
       "|  1518329.0|Dupatta Bazaar Wh...| 899.0|  White|Dupatta Bazaar|            1321.0|4.548826646|White embroidered...|{'Occasion': 'Dai...|     221|\n",
       "|  5829334.0|Roadster Women Mu...|1199.0|Mustard|      Roadster|            5462.0|4.313255218|Mustard yellow so...|{'Body Shape ID':...|     702|\n",
       "|1.0340119E7|Inddus Peach-Colo...|5799.0|  Peach|        Inddus|             145.0|4.068965517|Peach-Coloured an...|{'Bottom Fabric':...|     363|\n",
       "| 1.085638E7|SASSAFRAS Women B...|1499.0|  Black|     SASSAFRAS|            9124.0|4.147523016|Black solid woven...|{'Add-Ons': 'NA',...|     720|\n",
       "|1.2384822E7|Kotty Women Black...|1999.0|  Black|         Kotty|           12260.0|4.078466558|Black dark wash 4...|{'Add-Ons': 'NA',...|     446|\n",
       "|  1.27421E7|KASSUALLY Women B...|2199.0|  Black|     KASSUALLY|            6297.0|4.349213911|Black printed bas...|{'Body or Garment...|     412|\n",
       "|1.3842966E7|Sassafras Brown &...|1499.0|  Brown|     SASSAFRAS|            7358.0|4.395351998|<ul><li>Brown and...|{'Body Shape ID':...|     720|\n",
       "|1.4021452E7|Sera Women Multic...|1494.0|  Multi|          Sera|             750.0|      4.288|Brown and blue pr...|{'Body or Garment...|     771|\n",
       "|1.4063026E7|Tokyo Talkies Wom...| 699.0|  Black| Tokyo Talkies|            1856.0|4.530711207|Black solid mid-r...|{'Body or Garment...|     845|\n",
       "|1.4324806E7|Anouk Stylish Bla...|4699.0|  Black|         Anouk|              84.0| 3.80952381|Stay fashionable ...|{'Blouse Closure'...|      76|\n",
       "|1.4955068E7|Roadster Women El...|2599.0|  Mauve|      Roadster|             752.0| 4.21143617|Add a hint of dra...|{'Add-Ons': 'NA',...|     702|\n",
       "|1.6595858E7|Saree Mall Floral...|3599.0|   Pink|    Saree mall|            1005.0|3.980099502|Dress up or dress...|{'Blouse': 'Blous...|     765|\n",
       "|1.6827132E7|Tokyo Talkies Wom...|1399.0| Maroon| Tokyo Talkies|             125.0|      3.912|<p>Maroon solid r...|{'Body Shape ID':...|     845|\n",
       "|1.7048614E7|Khushal K Women B...|5099.0|  Black|     Khushal K|            4522.0|4.418398939|Black printed Kur...|{'Add-Ons': 'NA',...|     437|\n",
       "|1.7413232E7|Anubhutee Pink Et...|1739.0|   Pink|     Anubhutee|             273.0|4.249084249|<ul> <li> Pink st...|{'Body or Garment...|      78|\n",
       "|1.8601482E7|MONTREZ Women Whi...|1999.0|  White|       MONTREZ|              61.0| 4.37704918|White graphic pri...|{'Add-Ons': 'NA',...|     517|\n",
       "|1.8841352E7|Styli Women Golde...|1949.0|   Gold|         Styli|183.78536585365853|   4.101193|<p>Golden sequine...|{'Add-Ons': 'NA',...|     796|\n",
       "|  8317561.0|Chemistry Blue De...|1699.0|   Blue|     Chemistry|             900.0|4.314444444|Blue&nbsp;solid k...|{'Add-Ons': 'NA',...|     160|\n",
       "|  8340727.0|Inddus Women Dust...|6549.0|   Pink|        Inddus|             636.0|3.985849057|Dusty Pink semi-s...|{'Blouse Closure'...|     363|\n",
       "|1.0856322E7|SASSAFRAS Women B...|1799.0|  Black|     SASSAFRAS|            4458.0|4.478017048|Black ribbed open...|{'Body or Garment...|     720|\n",
       "+-----------+--------------------+------+-------+--------------+------------------+-----------+--------------------+--------------------+--------+\n",
       "only showing top 20 rows"
      ]
     },
     "execution_count": 5,
     "metadata": {},
     "output_type": "execute_result"
    }
   ],
   "source": [
    "final_dataset"
   ]
  },
  {
   "cell_type": "code",
   "execution_count": 6,
   "id": "c2007f65",
   "metadata": {},
   "outputs": [
    {
     "data": {
      "text/html": [
       "<table border='1'>\n",
       "<tr><th>p_id</th><th>name</th><th>price</th><th>colour</th><th>brand</th><th>ratingCount</th><th>avg_rating</th><th>brand_id</th></tr>\n",
       "<tr><td>1518329.0</td><td>Dupatta Bazaar Wh...</td><td>899.0</td><td>White</td><td>Dupatta Bazaar</td><td>1321.0</td><td>4.548826646</td><td>221</td></tr>\n",
       "<tr><td>5829334.0</td><td>Roadster Women Mu...</td><td>1199.0</td><td>Mustard</td><td>Roadster</td><td>5462.0</td><td>4.313255218</td><td>702</td></tr>\n",
       "<tr><td>1.0340119E7</td><td>Inddus Peach-Colo...</td><td>5799.0</td><td>Peach</td><td>Inddus</td><td>145.0</td><td>4.068965517</td><td>363</td></tr>\n",
       "<tr><td>1.085638E7</td><td>SASSAFRAS Women B...</td><td>1499.0</td><td>Black</td><td>SASSAFRAS</td><td>9124.0</td><td>4.147523016</td><td>720</td></tr>\n",
       "<tr><td>1.2384822E7</td><td>Kotty Women Black...</td><td>1999.0</td><td>Black</td><td>Kotty</td><td>12260.0</td><td>4.078466558</td><td>446</td></tr>\n",
       "<tr><td>1.27421E7</td><td>KASSUALLY Women B...</td><td>2199.0</td><td>Black</td><td>KASSUALLY</td><td>6297.0</td><td>4.349213911</td><td>412</td></tr>\n",
       "<tr><td>1.3842966E7</td><td>Sassafras Brown &amp;...</td><td>1499.0</td><td>Brown</td><td>SASSAFRAS</td><td>7358.0</td><td>4.395351998</td><td>720</td></tr>\n",
       "<tr><td>1.4021452E7</td><td>Sera Women Multic...</td><td>1494.0</td><td>Multi</td><td>Sera</td><td>750.0</td><td>4.288</td><td>771</td></tr>\n",
       "<tr><td>1.4063026E7</td><td>Tokyo Talkies Wom...</td><td>699.0</td><td>Black</td><td>Tokyo Talkies</td><td>1856.0</td><td>4.530711207</td><td>845</td></tr>\n",
       "<tr><td>1.4324806E7</td><td>Anouk Stylish Bla...</td><td>4699.0</td><td>Black</td><td>Anouk</td><td>84.0</td><td>3.80952381</td><td>76</td></tr>\n",
       "<tr><td>1.4955068E7</td><td>Roadster Women El...</td><td>2599.0</td><td>Mauve</td><td>Roadster</td><td>752.0</td><td>4.21143617</td><td>702</td></tr>\n",
       "<tr><td>1.6595858E7</td><td>Saree Mall Floral...</td><td>3599.0</td><td>Pink</td><td>Saree mall</td><td>1005.0</td><td>3.980099502</td><td>765</td></tr>\n",
       "<tr><td>1.6827132E7</td><td>Tokyo Talkies Wom...</td><td>1399.0</td><td>Maroon</td><td>Tokyo Talkies</td><td>125.0</td><td>3.912</td><td>845</td></tr>\n",
       "<tr><td>1.7048614E7</td><td>Khushal K Women B...</td><td>5099.0</td><td>Black</td><td>Khushal K</td><td>4522.0</td><td>4.418398939</td><td>437</td></tr>\n",
       "<tr><td>1.7413232E7</td><td>Anubhutee Pink Et...</td><td>1739.0</td><td>Pink</td><td>Anubhutee</td><td>273.0</td><td>4.249084249</td><td>78</td></tr>\n",
       "<tr><td>1.8601482E7</td><td>MONTREZ Women Whi...</td><td>1999.0</td><td>White</td><td>MONTREZ</td><td>61.0</td><td>4.37704918</td><td>517</td></tr>\n",
       "<tr><td>1.8841352E7</td><td>Styli Women Golde...</td><td>1949.0</td><td>Gold</td><td>Styli</td><td>183.78536585365853</td><td>4.101193</td><td>796</td></tr>\n",
       "<tr><td>8317561.0</td><td>Chemistry Blue De...</td><td>1699.0</td><td>Blue</td><td>Chemistry</td><td>900.0</td><td>4.314444444</td><td>160</td></tr>\n",
       "<tr><td>8340727.0</td><td>Inddus Women Dust...</td><td>6549.0</td><td>Pink</td><td>Inddus</td><td>636.0</td><td>3.985849057</td><td>363</td></tr>\n",
       "<tr><td>1.0856322E7</td><td>SASSAFRAS Women B...</td><td>1799.0</td><td>Black</td><td>SASSAFRAS</td><td>4458.0</td><td>4.478017048</td><td>720</td></tr>\n",
       "</table>\n",
       "only showing top 20 rows\n"
      ],
      "text/plain": [
       "+-----------+--------------------+------+-------+--------------+------------------+-----------+--------+\n",
       "|       p_id|                name| price| colour|         brand|       ratingCount| avg_rating|brand_id|\n",
       "+-----------+--------------------+------+-------+--------------+------------------+-----------+--------+\n",
       "|  1518329.0|Dupatta Bazaar Wh...| 899.0|  White|Dupatta Bazaar|            1321.0|4.548826646|     221|\n",
       "|  5829334.0|Roadster Women Mu...|1199.0|Mustard|      Roadster|            5462.0|4.313255218|     702|\n",
       "|1.0340119E7|Inddus Peach-Colo...|5799.0|  Peach|        Inddus|             145.0|4.068965517|     363|\n",
       "| 1.085638E7|SASSAFRAS Women B...|1499.0|  Black|     SASSAFRAS|            9124.0|4.147523016|     720|\n",
       "|1.2384822E7|Kotty Women Black...|1999.0|  Black|         Kotty|           12260.0|4.078466558|     446|\n",
       "|  1.27421E7|KASSUALLY Women B...|2199.0|  Black|     KASSUALLY|            6297.0|4.349213911|     412|\n",
       "|1.3842966E7|Sassafras Brown &...|1499.0|  Brown|     SASSAFRAS|            7358.0|4.395351998|     720|\n",
       "|1.4021452E7|Sera Women Multic...|1494.0|  Multi|          Sera|             750.0|      4.288|     771|\n",
       "|1.4063026E7|Tokyo Talkies Wom...| 699.0|  Black| Tokyo Talkies|            1856.0|4.530711207|     845|\n",
       "|1.4324806E7|Anouk Stylish Bla...|4699.0|  Black|         Anouk|              84.0| 3.80952381|      76|\n",
       "|1.4955068E7|Roadster Women El...|2599.0|  Mauve|      Roadster|             752.0| 4.21143617|     702|\n",
       "|1.6595858E7|Saree Mall Floral...|3599.0|   Pink|    Saree mall|            1005.0|3.980099502|     765|\n",
       "|1.6827132E7|Tokyo Talkies Wom...|1399.0| Maroon| Tokyo Talkies|             125.0|      3.912|     845|\n",
       "|1.7048614E7|Khushal K Women B...|5099.0|  Black|     Khushal K|            4522.0|4.418398939|     437|\n",
       "|1.7413232E7|Anubhutee Pink Et...|1739.0|   Pink|     Anubhutee|             273.0|4.249084249|      78|\n",
       "|1.8601482E7|MONTREZ Women Whi...|1999.0|  White|       MONTREZ|              61.0| 4.37704918|     517|\n",
       "|1.8841352E7|Styli Women Golde...|1949.0|   Gold|         Styli|183.78536585365853|   4.101193|     796|\n",
       "|  8317561.0|Chemistry Blue De...|1699.0|   Blue|     Chemistry|             900.0|4.314444444|     160|\n",
       "|  8340727.0|Inddus Women Dust...|6549.0|   Pink|        Inddus|             636.0|3.985849057|     363|\n",
       "|1.0856322E7|SASSAFRAS Women B...|1799.0|  Black|     SASSAFRAS|            4458.0|4.478017048|     720|\n",
       "+-----------+--------------------+------+-------+--------------+------------------+-----------+--------+\n",
       "only showing top 20 rows"
      ]
     },
     "execution_count": 6,
     "metadata": {},
     "output_type": "execute_result"
    }
   ],
   "source": [
    "final_dataset = final_dataset.drop('description').drop('p_attributes')\n",
    "final_dataset"
   ]
  },
  {
   "cell_type": "markdown",
   "id": "0d7324bc",
   "metadata": {},
   "source": [
    ">Grouping by colour"
   ]
  }
 ],
 "metadata": {
  "kernelspec": {
   "display_name": "Python 3 (ipykernel)",
   "language": "python",
   "name": "python3"
  },
  "language_info": {
   "codemirror_mode": {
    "name": "ipython",
    "version": 3
   },
   "file_extension": ".py",
   "mimetype": "text/x-python",
   "name": "python",
   "nbconvert_exporter": "python",
   "pygments_lexer": "ipython3",
   "version": "3.9.13"
  }
 },
 "nbformat": 4,
 "nbformat_minor": 5
}
