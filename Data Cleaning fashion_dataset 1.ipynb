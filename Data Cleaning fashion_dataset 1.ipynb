{
 "cells": [
  {
   "cell_type": "markdown",
   "id": "9c67d32e",
   "metadata": {},
   "source": [
    "# Data Analysis"
   ]
  },
  {
   "cell_type": "markdown",
   "id": "27bcab35",
   "metadata": {},
   "source": [
    ">Importing libraries"
   ]
  },
  {
   "cell_type": "code",
   "execution_count": 1,
   "id": "02c28b12",
   "metadata": {},
   "outputs": [],
   "source": [
    "import pandas as pd\n",
    "import numpy as np\n",
    "import pandasql as ps\n",
    "from pandasql import sqldf\n",
    "import ast\n",
    "import random\n",
    "import matplotlib.pyplot as plt\n",
    "from sklearn.model_selection import train_test_split\n",
    "from sklearn.linear_model import LinearRegression\n",
    "from sklearn.linear_model import BayesianRidge\n",
    "from sklearn import preprocessing\n",
    "from sklearn import tree\n",
    "from sklearn.tree import DecisionTreeClassifier\n",
    "from sklearn import metrics\n",
    "from sklearn.naive_bayes import GaussianNB"
   ]
  },
  {
   "cell_type": "markdown",
   "id": "0cbebfff",
   "metadata": {},
   "source": [
    "# Data Cleaning & Transformation"
   ]
  },
  {
   "cell_type": "markdown",
   "id": "5348de0e",
   "metadata": {},
   "source": [
    ">Importing and viewing the fashion dataset\n"
   ]
  },
  {
   "cell_type": "code",
   "execution_count": 2,
   "id": "58058aa0",
   "metadata": {
    "scrolled": false
   },
   "outputs": [
    {
     "data": {
      "text/html": [
       "<div>\n",
       "<style scoped>\n",
       "    .dataframe tbody tr th:only-of-type {\n",
       "        vertical-align: middle;\n",
       "    }\n",
       "\n",
       "    .dataframe tbody tr th {\n",
       "        vertical-align: top;\n",
       "    }\n",
       "\n",
       "    .dataframe thead th {\n",
       "        text-align: right;\n",
       "    }\n",
       "</style>\n",
       "<table border=\"1\" class=\"dataframe\">\n",
       "  <thead>\n",
       "    <tr style=\"text-align: right;\">\n",
       "      <th></th>\n",
       "      <th>p_id</th>\n",
       "      <th>name</th>\n",
       "      <th>price</th>\n",
       "      <th>colour</th>\n",
       "      <th>brand</th>\n",
       "      <th>ratingCount</th>\n",
       "      <th>avg_rating</th>\n",
       "      <th>description</th>\n",
       "      <th>p_attributes</th>\n",
       "    </tr>\n",
       "  </thead>\n",
       "  <tbody>\n",
       "    <tr>\n",
       "      <th>0</th>\n",
       "      <td>1518329.0</td>\n",
       "      <td>Dupatta Bazaar White Embroidered Chiffon Dupatta</td>\n",
       "      <td>899.0</td>\n",
       "      <td>White</td>\n",
       "      <td>Dupatta Bazaar</td>\n",
       "      <td>1321.0</td>\n",
       "      <td>4.548827</td>\n",
       "      <td>White embroidered&amp;nbsp;dupattaChiffon&lt;br&gt;Hand-...</td>\n",
       "      <td>{'Occasion': 'Daily', 'Pattern': 'Embroidered'...</td>\n",
       "    </tr>\n",
       "    <tr>\n",
       "      <th>1</th>\n",
       "      <td>5829334.0</td>\n",
       "      <td>Roadster Women Mustard Yellow Solid Hooded Swe...</td>\n",
       "      <td>1199.0</td>\n",
       "      <td>Mustard</td>\n",
       "      <td>Roadster</td>\n",
       "      <td>5462.0</td>\n",
       "      <td>4.313255</td>\n",
       "      <td>Mustard yellow solid sweatshirt, has a hood, t...</td>\n",
       "      <td>{'Body Shape ID': '443,424,324', 'Body or Garm...</td>\n",
       "    </tr>\n",
       "    <tr>\n",
       "      <th>2</th>\n",
       "      <td>10340119.0</td>\n",
       "      <td>Inddus Peach-Coloured &amp; Beige Unstitched Dress...</td>\n",
       "      <td>5799.0</td>\n",
       "      <td>Peach</td>\n",
       "      <td>Inddus</td>\n",
       "      <td>145.0</td>\n",
       "      <td>4.068966</td>\n",
       "      <td>Peach-Coloured and beige woven design unstitch...</td>\n",
       "      <td>{'Bottom Fabric': 'Cotton Blend', 'Bottom Patt...</td>\n",
       "    </tr>\n",
       "    <tr>\n",
       "      <th>3</th>\n",
       "      <td>10856380.0</td>\n",
       "      <td>SASSAFRAS Women Black Parallel Trousers</td>\n",
       "      <td>1499.0</td>\n",
       "      <td>Black</td>\n",
       "      <td>SASSAFRAS</td>\n",
       "      <td>9124.0</td>\n",
       "      <td>4.147523</td>\n",
       "      <td>Black solid woven high-rise parallel trousers,...</td>\n",
       "      <td>{'Add-Ons': 'NA', 'Body Shape ID': '424', 'Bod...</td>\n",
       "    </tr>\n",
       "    <tr>\n",
       "      <th>4</th>\n",
       "      <td>12384822.0</td>\n",
       "      <td>Kotty Women Black Wide Leg High-Rise Clean Loo...</td>\n",
       "      <td>1999.0</td>\n",
       "      <td>Black</td>\n",
       "      <td>Kotty</td>\n",
       "      <td>12260.0</td>\n",
       "      <td>4.078467</td>\n",
       "      <td>Black dark wash 4-pocket high-rise jeans, clea...</td>\n",
       "      <td>{'Add-Ons': 'NA', 'Brand Fit Name': 'NA', 'Clo...</td>\n",
       "    </tr>\n",
       "    <tr>\n",
       "      <th>...</th>\n",
       "      <td>...</td>\n",
       "      <td>...</td>\n",
       "      <td>...</td>\n",
       "      <td>...</td>\n",
       "      <td>...</td>\n",
       "      <td>...</td>\n",
       "      <td>...</td>\n",
       "      <td>...</td>\n",
       "      <td>...</td>\n",
       "    </tr>\n",
       "    <tr>\n",
       "      <th>14324</th>\n",
       "      <td>17029604.0</td>\n",
       "      <td>The Chennai Silks Pink &amp; Silver-Toned Floral Z...</td>\n",
       "      <td>3999.0</td>\n",
       "      <td>Pink</td>\n",
       "      <td>The Chennai Silks</td>\n",
       "      <td>NaN</td>\n",
       "      <td>NaN</td>\n",
       "      <td>&lt;b&gt;Design Details &lt;/b&gt;&lt;ul&gt;&lt;li&gt;Pink and silver-...</td>\n",
       "      <td>{'Better Cotton Initiative': 'Regular', 'Blous...</td>\n",
       "    </tr>\n",
       "    <tr>\n",
       "      <th>14325</th>\n",
       "      <td>17600212.0</td>\n",
       "      <td>Kinder Kids Girls Blue &amp; Green Printed Foil Pr...</td>\n",
       "      <td>2050.0</td>\n",
       "      <td>Blue</td>\n",
       "      <td>Kinder Kids</td>\n",
       "      <td>NaN</td>\n",
       "      <td>NaN</td>\n",
       "      <td>Blue and green printed lehenga choli,  has foi...</td>\n",
       "      <td>{'Blouse Closure': 'NA', 'Blouse Fabric': 'Cot...</td>\n",
       "    </tr>\n",
       "    <tr>\n",
       "      <th>14326</th>\n",
       "      <td>18159266.0</td>\n",
       "      <td>KLOTTHE Women Green &amp; Black Floral Printed Pal...</td>\n",
       "      <td>1659.0</td>\n",
       "      <td>Green</td>\n",
       "      <td>KLOTTHE</td>\n",
       "      <td>NaN</td>\n",
       "      <td>NaN</td>\n",
       "      <td>&lt;ul&gt; &lt;li&gt; Green and black woven palazzos &lt;/li&gt;...</td>\n",
       "      <td>{'Body or Garment Size': 'To-Fit Denotes Body ...</td>\n",
       "    </tr>\n",
       "    <tr>\n",
       "      <th>14327</th>\n",
       "      <td>18921114.0</td>\n",
       "      <td>InWeave Women Red Printed A-Line Skirt</td>\n",
       "      <td>2399.0</td>\n",
       "      <td>Red</td>\n",
       "      <td>InWeave</td>\n",
       "      <td>NaN</td>\n",
       "      <td>NaN</td>\n",
       "      <td>&lt;p&gt;Red printed A-line skirt, has drawstring cl...</td>\n",
       "      <td>{'Add-Ons': 'NA', 'Body Shape ID': '324,333,42...</td>\n",
       "    </tr>\n",
       "    <tr>\n",
       "      <th>14328</th>\n",
       "      <td>19361058.0</td>\n",
       "      <td>BoStreet Women Navy Blue Tapered Fit Trousers</td>\n",
       "      <td>2599.0</td>\n",
       "      <td>Navy Blue</td>\n",
       "      <td>BoStreet</td>\n",
       "      <td>NaN</td>\n",
       "      <td>NaN</td>\n",
       "      <td>&lt;ul&gt; &lt;li&gt; Navy blue knitted trousers &lt;/li&gt; &lt;li...</td>\n",
       "      <td>{'Add-Ons': 'NA', 'Body Shape ID': '443,333,42...</td>\n",
       "    </tr>\n",
       "  </tbody>\n",
       "</table>\n",
       "<p>14329 rows × 9 columns</p>\n",
       "</div>"
      ],
      "text/plain": [
       "             p_id                                               name   price  \\\n",
       "0       1518329.0   Dupatta Bazaar White Embroidered Chiffon Dupatta   899.0   \n",
       "1       5829334.0  Roadster Women Mustard Yellow Solid Hooded Swe...  1199.0   \n",
       "2      10340119.0  Inddus Peach-Coloured & Beige Unstitched Dress...  5799.0   \n",
       "3      10856380.0            SASSAFRAS Women Black Parallel Trousers  1499.0   \n",
       "4      12384822.0  Kotty Women Black Wide Leg High-Rise Clean Loo...  1999.0   \n",
       "...           ...                                                ...     ...   \n",
       "14324  17029604.0  The Chennai Silks Pink & Silver-Toned Floral Z...  3999.0   \n",
       "14325  17600212.0  Kinder Kids Girls Blue & Green Printed Foil Pr...  2050.0   \n",
       "14326  18159266.0  KLOTTHE Women Green & Black Floral Printed Pal...  1659.0   \n",
       "14327  18921114.0             InWeave Women Red Printed A-Line Skirt  2399.0   \n",
       "14328  19361058.0      BoStreet Women Navy Blue Tapered Fit Trousers  2599.0   \n",
       "\n",
       "          colour              brand  ratingCount  avg_rating  \\\n",
       "0          White     Dupatta Bazaar       1321.0    4.548827   \n",
       "1        Mustard           Roadster       5462.0    4.313255   \n",
       "2          Peach             Inddus        145.0    4.068966   \n",
       "3          Black          SASSAFRAS       9124.0    4.147523   \n",
       "4          Black              Kotty      12260.0    4.078467   \n",
       "...          ...                ...          ...         ...   \n",
       "14324       Pink  The Chennai Silks          NaN         NaN   \n",
       "14325       Blue        Kinder Kids          NaN         NaN   \n",
       "14326      Green            KLOTTHE          NaN         NaN   \n",
       "14327        Red            InWeave          NaN         NaN   \n",
       "14328  Navy Blue           BoStreet          NaN         NaN   \n",
       "\n",
       "                                             description  \\\n",
       "0      White embroidered&nbsp;dupattaChiffon<br>Hand-...   \n",
       "1      Mustard yellow solid sweatshirt, has a hood, t...   \n",
       "2      Peach-Coloured and beige woven design unstitch...   \n",
       "3      Black solid woven high-rise parallel trousers,...   \n",
       "4      Black dark wash 4-pocket high-rise jeans, clea...   \n",
       "...                                                  ...   \n",
       "14324  <b>Design Details </b><ul><li>Pink and silver-...   \n",
       "14325  Blue and green printed lehenga choli,  has foi...   \n",
       "14326  <ul> <li> Green and black woven palazzos </li>...   \n",
       "14327  <p>Red printed A-line skirt, has drawstring cl...   \n",
       "14328  <ul> <li> Navy blue knitted trousers </li> <li...   \n",
       "\n",
       "                                            p_attributes  \n",
       "0      {'Occasion': 'Daily', 'Pattern': 'Embroidered'...  \n",
       "1      {'Body Shape ID': '443,424,324', 'Body or Garm...  \n",
       "2      {'Bottom Fabric': 'Cotton Blend', 'Bottom Patt...  \n",
       "3      {'Add-Ons': 'NA', 'Body Shape ID': '424', 'Bod...  \n",
       "4      {'Add-Ons': 'NA', 'Brand Fit Name': 'NA', 'Clo...  \n",
       "...                                                  ...  \n",
       "14324  {'Better Cotton Initiative': 'Regular', 'Blous...  \n",
       "14325  {'Blouse Closure': 'NA', 'Blouse Fabric': 'Cot...  \n",
       "14326  {'Body or Garment Size': 'To-Fit Denotes Body ...  \n",
       "14327  {'Add-Ons': 'NA', 'Body Shape ID': '324,333,42...  \n",
       "14328  {'Add-Ons': 'NA', 'Body Shape ID': '443,333,42...  \n",
       "\n",
       "[14329 rows x 9 columns]"
      ]
     },
     "execution_count": 2,
     "metadata": {},
     "output_type": "execute_result"
    }
   ],
   "source": [
    "fashion_dataset= pd.read_csv(r\".\\fashion dataset.csv\")\n",
    "fashion_dataset"
   ]
  },
  {
   "cell_type": "markdown",
   "id": "4db6ad60",
   "metadata": {},
   "source": [
    ">Finding the number of unique brands in the fashion dataset"
   ]
  },
  {
   "cell_type": "code",
   "execution_count": 3,
   "id": "39d4ad68",
   "metadata": {},
   "outputs": [
    {
     "data": {
      "text/plain": [
       "1021"
      ]
     },
     "execution_count": 3,
     "metadata": {},
     "output_type": "execute_result"
    }
   ],
   "source": [
    "len(pd.unique(fashion_dataset['brand']))"
   ]
  },
  {
   "cell_type": "markdown",
   "id": "146a3cc5",
   "metadata": {},
   "source": [
    ">Importing the brand details dataset"
   ]
  },
  {
   "cell_type": "code",
   "execution_count": 4,
   "id": "61fb4d4f",
   "metadata": {},
   "outputs": [
    {
     "data": {
      "text/html": [
       "<div>\n",
       "<style scoped>\n",
       "    .dataframe tbody tr th:only-of-type {\n",
       "        vertical-align: middle;\n",
       "    }\n",
       "\n",
       "    .dataframe tbody tr th {\n",
       "        vertical-align: top;\n",
       "    }\n",
       "\n",
       "    .dataframe thead th {\n",
       "        text-align: right;\n",
       "    }\n",
       "</style>\n",
       "<table border=\"1\" class=\"dataframe\">\n",
       "  <thead>\n",
       "    <tr style=\"text-align: right;\">\n",
       "      <th></th>\n",
       "      <th>brand_id</th>\n",
       "      <th>brand_name</th>\n",
       "    </tr>\n",
       "  </thead>\n",
       "  <tbody>\n",
       "    <tr>\n",
       "      <th>0</th>\n",
       "      <td>1</td>\n",
       "      <td>513</td>\n",
       "    </tr>\n",
       "    <tr>\n",
       "      <th>1</th>\n",
       "      <td>2</td>\n",
       "      <td>109F</td>\n",
       "    </tr>\n",
       "    <tr>\n",
       "      <th>2</th>\n",
       "      <td>3</td>\n",
       "      <td>20Dresses</td>\n",
       "    </tr>\n",
       "    <tr>\n",
       "      <th>3</th>\n",
       "      <td>4</td>\n",
       "      <td>250 Designs</td>\n",
       "    </tr>\n",
       "    <tr>\n",
       "      <th>4</th>\n",
       "      <td>5</td>\n",
       "      <td>3Pin</td>\n",
       "    </tr>\n",
       "    <tr>\n",
       "      <th>...</th>\n",
       "      <td>...</td>\n",
       "      <td>...</td>\n",
       "    </tr>\n",
       "    <tr>\n",
       "      <th>1015</th>\n",
       "      <td>1016</td>\n",
       "      <td>Ziva Fashion</td>\n",
       "    </tr>\n",
       "    <tr>\n",
       "      <th>1016</th>\n",
       "      <td>1017</td>\n",
       "      <td>Zivame</td>\n",
       "    </tr>\n",
       "    <tr>\n",
       "      <th>1017</th>\n",
       "      <td>1018</td>\n",
       "      <td>Ziyaa</td>\n",
       "    </tr>\n",
       "    <tr>\n",
       "      <th>1018</th>\n",
       "      <td>1019</td>\n",
       "      <td>Zoella</td>\n",
       "    </tr>\n",
       "    <tr>\n",
       "      <th>1019</th>\n",
       "      <td>1020</td>\n",
       "      <td>Zola</td>\n",
       "    </tr>\n",
       "  </tbody>\n",
       "</table>\n",
       "<p>1020 rows × 2 columns</p>\n",
       "</div>"
      ],
      "text/plain": [
       "      brand_id    brand_name\n",
       "0            1           513\n",
       "1            2          109F\n",
       "2            3     20Dresses\n",
       "3            4   250 Designs\n",
       "4            5          3Pin\n",
       "...        ...           ...\n",
       "1015      1016  Ziva Fashion\n",
       "1016      1017        Zivame\n",
       "1017      1018         Ziyaa\n",
       "1018      1019        Zoella\n",
       "1019      1020          Zola\n",
       "\n",
       "[1020 rows x 2 columns]"
      ]
     },
     "execution_count": 4,
     "metadata": {},
     "output_type": "execute_result"
    }
   ],
   "source": [
    "brand_details = pd.read_excel(r\".\\fashion brand details.xlsx\")\n",
    "brand_details"
   ]
  },
  {
   "cell_type": "markdown",
   "id": "40eb46cb",
   "metadata": {},
   "source": [
    ">Counting the number of unique brand names in the brand details dataset"
   ]
  },
  {
   "cell_type": "code",
   "execution_count": 5,
   "id": "56716f86",
   "metadata": {},
   "outputs": [
    {
     "data": {
      "text/plain": [
       "1020"
      ]
     },
     "execution_count": 5,
     "metadata": {},
     "output_type": "execute_result"
    }
   ],
   "source": [
    "len(pd.unique(brand_details['brand_name']))"
   ]
  },
  {
   "cell_type": "markdown",
   "id": "c7b8a6be",
   "metadata": {},
   "source": [
    ">Finding the number of null and duplicated values in each dataset"
   ]
  },
  {
   "cell_type": "code",
   "execution_count": 6,
   "id": "aa8cecc0",
   "metadata": {},
   "outputs": [
    {
     "data": {
      "text/plain": [
       "brand_id      0\n",
       "brand_name    0\n",
       "dtype: int64"
      ]
     },
     "execution_count": 6,
     "metadata": {},
     "output_type": "execute_result"
    }
   ],
   "source": [
    "brand_details.isna().sum()"
   ]
  },
  {
   "cell_type": "code",
   "execution_count": 7,
   "id": "ad8e8b0c",
   "metadata": {},
   "outputs": [
    {
     "data": {
      "text/plain": [
       "p_id              18\n",
       "name              19\n",
       "price             19\n",
       "colour            22\n",
       "brand             24\n",
       "ratingCount     7748\n",
       "avg_rating      7748\n",
       "description       19\n",
       "p_attributes      19\n",
       "dtype: int64"
      ]
     },
     "execution_count": 7,
     "metadata": {},
     "output_type": "execute_result"
    }
   ],
   "source": [
    "fashion_dataset.isna().sum()"
   ]
  },
  {
   "cell_type": "code",
   "execution_count": 8,
   "id": "06b9712b",
   "metadata": {},
   "outputs": [
    {
     "data": {
      "text/plain": [
       "0"
      ]
     },
     "execution_count": 8,
     "metadata": {},
     "output_type": "execute_result"
    }
   ],
   "source": [
    "brand_details.duplicated().sum()"
   ]
  },
  {
   "cell_type": "code",
   "execution_count": 9,
   "id": "3e18ce56",
   "metadata": {},
   "outputs": [
    {
     "data": {
      "text/plain": [
       "59"
      ]
     },
     "execution_count": 9,
     "metadata": {},
     "output_type": "execute_result"
    }
   ],
   "source": [
    "fashion_dataset.duplicated().sum()"
   ]
  },
  {
   "cell_type": "markdown",
   "id": "8deda2e0",
   "metadata": {},
   "source": [
    ">Testing out duplicate dropping"
   ]
  },
  {
   "cell_type": "code",
   "execution_count": 10,
   "id": "e1853c6e",
   "metadata": {},
   "outputs": [
    {
     "data": {
      "text/plain": [
       "1021"
      ]
     },
     "execution_count": 10,
     "metadata": {},
     "output_type": "execute_result"
    }
   ],
   "source": [
    "df_dupl = fashion_dataset.drop_duplicates(keep = \"last\")\n",
    "len(pd.unique(df_dupl[\"brand\"]))"
   ]
  },
  {
   "cell_type": "markdown",
   "id": "fa456831",
   "metadata": {},
   "source": [
    ">Dropping duplicates in fashion dataset"
   ]
  },
  {
   "cell_type": "code",
   "execution_count": 11,
   "id": "9ca86992",
   "metadata": {
    "scrolled": true
   },
   "outputs": [
    {
     "data": {
      "text/html": [
       "<div>\n",
       "<style scoped>\n",
       "    .dataframe tbody tr th:only-of-type {\n",
       "        vertical-align: middle;\n",
       "    }\n",
       "\n",
       "    .dataframe tbody tr th {\n",
       "        vertical-align: top;\n",
       "    }\n",
       "\n",
       "    .dataframe thead th {\n",
       "        text-align: right;\n",
       "    }\n",
       "</style>\n",
       "<table border=\"1\" class=\"dataframe\">\n",
       "  <thead>\n",
       "    <tr style=\"text-align: right;\">\n",
       "      <th></th>\n",
       "      <th>p_id</th>\n",
       "      <th>name</th>\n",
       "      <th>price</th>\n",
       "      <th>colour</th>\n",
       "      <th>brand</th>\n",
       "      <th>ratingCount</th>\n",
       "      <th>avg_rating</th>\n",
       "      <th>description</th>\n",
       "      <th>p_attributes</th>\n",
       "    </tr>\n",
       "  </thead>\n",
       "  <tbody>\n",
       "    <tr>\n",
       "      <th>0</th>\n",
       "      <td>1518329.0</td>\n",
       "      <td>Dupatta Bazaar White Embroidered Chiffon Dupatta</td>\n",
       "      <td>899.0</td>\n",
       "      <td>White</td>\n",
       "      <td>Dupatta Bazaar</td>\n",
       "      <td>1321.0</td>\n",
       "      <td>4.548827</td>\n",
       "      <td>White embroidered&amp;nbsp;dupattaChiffon&lt;br&gt;Hand-...</td>\n",
       "      <td>{'Occasion': 'Daily', 'Pattern': 'Embroidered'...</td>\n",
       "    </tr>\n",
       "    <tr>\n",
       "      <th>1</th>\n",
       "      <td>5829334.0</td>\n",
       "      <td>Roadster Women Mustard Yellow Solid Hooded Swe...</td>\n",
       "      <td>1199.0</td>\n",
       "      <td>Mustard</td>\n",
       "      <td>Roadster</td>\n",
       "      <td>5462.0</td>\n",
       "      <td>4.313255</td>\n",
       "      <td>Mustard yellow solid sweatshirt, has a hood, t...</td>\n",
       "      <td>{'Body Shape ID': '443,424,324', 'Body or Garm...</td>\n",
       "    </tr>\n",
       "    <tr>\n",
       "      <th>2</th>\n",
       "      <td>10340119.0</td>\n",
       "      <td>Inddus Peach-Coloured &amp; Beige Unstitched Dress...</td>\n",
       "      <td>5799.0</td>\n",
       "      <td>Peach</td>\n",
       "      <td>Inddus</td>\n",
       "      <td>145.0</td>\n",
       "      <td>4.068966</td>\n",
       "      <td>Peach-Coloured and beige woven design unstitch...</td>\n",
       "      <td>{'Bottom Fabric': 'Cotton Blend', 'Bottom Patt...</td>\n",
       "    </tr>\n",
       "    <tr>\n",
       "      <th>3</th>\n",
       "      <td>10856380.0</td>\n",
       "      <td>SASSAFRAS Women Black Parallel Trousers</td>\n",
       "      <td>1499.0</td>\n",
       "      <td>Black</td>\n",
       "      <td>SASSAFRAS</td>\n",
       "      <td>9124.0</td>\n",
       "      <td>4.147523</td>\n",
       "      <td>Black solid woven high-rise parallel trousers,...</td>\n",
       "      <td>{'Add-Ons': 'NA', 'Body Shape ID': '424', 'Bod...</td>\n",
       "    </tr>\n",
       "    <tr>\n",
       "      <th>4</th>\n",
       "      <td>12384822.0</td>\n",
       "      <td>Kotty Women Black Wide Leg High-Rise Clean Loo...</td>\n",
       "      <td>1999.0</td>\n",
       "      <td>Black</td>\n",
       "      <td>Kotty</td>\n",
       "      <td>12260.0</td>\n",
       "      <td>4.078467</td>\n",
       "      <td>Black dark wash 4-pocket high-rise jeans, clea...</td>\n",
       "      <td>{'Add-Ons': 'NA', 'Brand Fit Name': 'NA', 'Clo...</td>\n",
       "    </tr>\n",
       "    <tr>\n",
       "      <th>...</th>\n",
       "      <td>...</td>\n",
       "      <td>...</td>\n",
       "      <td>...</td>\n",
       "      <td>...</td>\n",
       "      <td>...</td>\n",
       "      <td>...</td>\n",
       "      <td>...</td>\n",
       "      <td>...</td>\n",
       "      <td>...</td>\n",
       "    </tr>\n",
       "    <tr>\n",
       "      <th>14324</th>\n",
       "      <td>17029604.0</td>\n",
       "      <td>The Chennai Silks Pink &amp; Silver-Toned Floral Z...</td>\n",
       "      <td>3999.0</td>\n",
       "      <td>Pink</td>\n",
       "      <td>The Chennai Silks</td>\n",
       "      <td>NaN</td>\n",
       "      <td>NaN</td>\n",
       "      <td>&lt;b&gt;Design Details &lt;/b&gt;&lt;ul&gt;&lt;li&gt;Pink and silver-...</td>\n",
       "      <td>{'Better Cotton Initiative': 'Regular', 'Blous...</td>\n",
       "    </tr>\n",
       "    <tr>\n",
       "      <th>14325</th>\n",
       "      <td>17600212.0</td>\n",
       "      <td>Kinder Kids Girls Blue &amp; Green Printed Foil Pr...</td>\n",
       "      <td>2050.0</td>\n",
       "      <td>Blue</td>\n",
       "      <td>Kinder Kids</td>\n",
       "      <td>NaN</td>\n",
       "      <td>NaN</td>\n",
       "      <td>Blue and green printed lehenga choli,  has foi...</td>\n",
       "      <td>{'Blouse Closure': 'NA', 'Blouse Fabric': 'Cot...</td>\n",
       "    </tr>\n",
       "    <tr>\n",
       "      <th>14326</th>\n",
       "      <td>18159266.0</td>\n",
       "      <td>KLOTTHE Women Green &amp; Black Floral Printed Pal...</td>\n",
       "      <td>1659.0</td>\n",
       "      <td>Green</td>\n",
       "      <td>KLOTTHE</td>\n",
       "      <td>NaN</td>\n",
       "      <td>NaN</td>\n",
       "      <td>&lt;ul&gt; &lt;li&gt; Green and black woven palazzos &lt;/li&gt;...</td>\n",
       "      <td>{'Body or Garment Size': 'To-Fit Denotes Body ...</td>\n",
       "    </tr>\n",
       "    <tr>\n",
       "      <th>14327</th>\n",
       "      <td>18921114.0</td>\n",
       "      <td>InWeave Women Red Printed A-Line Skirt</td>\n",
       "      <td>2399.0</td>\n",
       "      <td>Red</td>\n",
       "      <td>InWeave</td>\n",
       "      <td>NaN</td>\n",
       "      <td>NaN</td>\n",
       "      <td>&lt;p&gt;Red printed A-line skirt, has drawstring cl...</td>\n",
       "      <td>{'Add-Ons': 'NA', 'Body Shape ID': '324,333,42...</td>\n",
       "    </tr>\n",
       "    <tr>\n",
       "      <th>14328</th>\n",
       "      <td>19361058.0</td>\n",
       "      <td>BoStreet Women Navy Blue Tapered Fit Trousers</td>\n",
       "      <td>2599.0</td>\n",
       "      <td>Navy Blue</td>\n",
       "      <td>BoStreet</td>\n",
       "      <td>NaN</td>\n",
       "      <td>NaN</td>\n",
       "      <td>&lt;ul&gt; &lt;li&gt; Navy blue knitted trousers &lt;/li&gt; &lt;li...</td>\n",
       "      <td>{'Add-Ons': 'NA', 'Body Shape ID': '443,333,42...</td>\n",
       "    </tr>\n",
       "  </tbody>\n",
       "</table>\n",
       "<p>14270 rows × 9 columns</p>\n",
       "</div>"
      ],
      "text/plain": [
       "             p_id                                               name   price  \\\n",
       "0       1518329.0   Dupatta Bazaar White Embroidered Chiffon Dupatta   899.0   \n",
       "1       5829334.0  Roadster Women Mustard Yellow Solid Hooded Swe...  1199.0   \n",
       "2      10340119.0  Inddus Peach-Coloured & Beige Unstitched Dress...  5799.0   \n",
       "3      10856380.0            SASSAFRAS Women Black Parallel Trousers  1499.0   \n",
       "4      12384822.0  Kotty Women Black Wide Leg High-Rise Clean Loo...  1999.0   \n",
       "...           ...                                                ...     ...   \n",
       "14324  17029604.0  The Chennai Silks Pink & Silver-Toned Floral Z...  3999.0   \n",
       "14325  17600212.0  Kinder Kids Girls Blue & Green Printed Foil Pr...  2050.0   \n",
       "14326  18159266.0  KLOTTHE Women Green & Black Floral Printed Pal...  1659.0   \n",
       "14327  18921114.0             InWeave Women Red Printed A-Line Skirt  2399.0   \n",
       "14328  19361058.0      BoStreet Women Navy Blue Tapered Fit Trousers  2599.0   \n",
       "\n",
       "          colour              brand  ratingCount  avg_rating  \\\n",
       "0          White     Dupatta Bazaar       1321.0    4.548827   \n",
       "1        Mustard           Roadster       5462.0    4.313255   \n",
       "2          Peach             Inddus        145.0    4.068966   \n",
       "3          Black          SASSAFRAS       9124.0    4.147523   \n",
       "4          Black              Kotty      12260.0    4.078467   \n",
       "...          ...                ...          ...         ...   \n",
       "14324       Pink  The Chennai Silks          NaN         NaN   \n",
       "14325       Blue        Kinder Kids          NaN         NaN   \n",
       "14326      Green            KLOTTHE          NaN         NaN   \n",
       "14327        Red            InWeave          NaN         NaN   \n",
       "14328  Navy Blue           BoStreet          NaN         NaN   \n",
       "\n",
       "                                             description  \\\n",
       "0      White embroidered&nbsp;dupattaChiffon<br>Hand-...   \n",
       "1      Mustard yellow solid sweatshirt, has a hood, t...   \n",
       "2      Peach-Coloured and beige woven design unstitch...   \n",
       "3      Black solid woven high-rise parallel trousers,...   \n",
       "4      Black dark wash 4-pocket high-rise jeans, clea...   \n",
       "...                                                  ...   \n",
       "14324  <b>Design Details </b><ul><li>Pink and silver-...   \n",
       "14325  Blue and green printed lehenga choli,  has foi...   \n",
       "14326  <ul> <li> Green and black woven palazzos </li>...   \n",
       "14327  <p>Red printed A-line skirt, has drawstring cl...   \n",
       "14328  <ul> <li> Navy blue knitted trousers </li> <li...   \n",
       "\n",
       "                                            p_attributes  \n",
       "0      {'Occasion': 'Daily', 'Pattern': 'Embroidered'...  \n",
       "1      {'Body Shape ID': '443,424,324', 'Body or Garm...  \n",
       "2      {'Bottom Fabric': 'Cotton Blend', 'Bottom Patt...  \n",
       "3      {'Add-Ons': 'NA', 'Body Shape ID': '424', 'Bod...  \n",
       "4      {'Add-Ons': 'NA', 'Brand Fit Name': 'NA', 'Clo...  \n",
       "...                                                  ...  \n",
       "14324  {'Better Cotton Initiative': 'Regular', 'Blous...  \n",
       "14325  {'Blouse Closure': 'NA', 'Blouse Fabric': 'Cot...  \n",
       "14326  {'Body or Garment Size': 'To-Fit Denotes Body ...  \n",
       "14327  {'Add-Ons': 'NA', 'Body Shape ID': '324,333,42...  \n",
       "14328  {'Add-Ons': 'NA', 'Body Shape ID': '443,333,42...  \n",
       "\n",
       "[14270 rows x 9 columns]"
      ]
     },
     "execution_count": 11,
     "metadata": {},
     "output_type": "execute_result"
    }
   ],
   "source": [
    "fashion_dataset.drop_duplicates(inplace = True, keep = \"last\")\n",
    "fashion_dataset"
   ]
  },
  {
   "cell_type": "markdown",
   "id": "5feda8e9",
   "metadata": {},
   "source": [
    "> Expanding the p_attributes column\n"
   ]
  },
  {
   "cell_type": "code",
   "execution_count": 12,
   "id": "e14774e0",
   "metadata": {},
   "outputs": [],
   "source": [
    "fashion_dataset['p_attributes'] = fashion_dataset['p_attributes']\n",
    "not_null = pd.notnull(fashion_dataset['p_attributes'])\n",
    "fash3 = fashion_dataset[not_null]['p_attributes'].apply(lambda x: ast.literal_eval(x))\n",
    "temp = pd.DataFrame([*fash3], fash3.index)\n",
    "fashion_dataset = pd.concat([fashion_dataset, temp], axis=1)"
   ]
  },
  {
   "cell_type": "markdown",
   "id": "aabd08a7",
   "metadata": {},
   "source": [
    ">Viewing all columns of the dataset"
   ]
  },
  {
   "cell_type": "code",
   "execution_count": 13,
   "id": "7a1016fd",
   "metadata": {
    "scrolled": false
   },
   "outputs": [
    {
     "name": "stdout",
     "output_type": "stream",
     "text": [
      "['p_id', 'name', 'price', 'colour', 'brand', 'ratingCount', 'avg_rating', 'description', 'p_attributes', 'Occasion', 'Pattern', 'Print or Pattern Type', 'Body Shape ID', 'Body or Garment Size', 'Closure', 'Fabric', 'Hemline', 'Hood', 'Length', 'Neck', 'Number of Pockets', 'Pocket', 'Sleeve Length', 'Surface Styling', 'Type', 'Wash Care', 'Bottom Fabric', 'Bottom Pattern', 'Dupatta Border', 'Dupatta Fabric', 'Dupatta Pattern', 'Kurta Fabric', 'Kurta Pattern', 'Ornamentation', 'Set Content', 'Stitch', 'Technique', 'Add-Ons', 'Brand Fit Name', 'Character', 'Fabric 2', 'Features', 'Fit', 'Fly Type', 'Main Trend', 'Multipack Set', 'Sustainable', 'Type of Pleat', 'Waist Rise', 'Weave Type', 'Distress', 'Effects', 'Fabric 3', 'Fade', 'Reversible', 'Shade', 'Stretch', 'Type of Distress', 'Waistband', 'Center Front Open', 'Fabric Type', 'Lining', 'Sleeve Styling', 'Transparency', 'taxMaterial', 'Front Styling', 'Knit or Woven', 'Sport', 'Technology', 'Blouse Closure', 'Blouse Fabric', 'Choli Stitch', 'Dupatta', 'Lehenga Closure', 'Lehenga Fabric', 'Lehenga Lining Fabric', 'Lehenga Stitch', 'Regions', 'Style Tip', 'Top Pattern', 'Where-to-wear', 'Bottom Closure', 'Bottom Type', 'Top Fabric', 'Top Type', 'Trends', 'Blouse', 'Border', 'Care for me', 'Saree Fabric', 'Collar', 'Lining Fabric', 'Pattern Coverage', 'Slit Detail', 'Top Design Styling', 'Top Hemline', 'Top Length', 'Top Shape', 'Weave Pattern', 'Design Styling', 'Shape', 'Sport Team', 'Technology Present', 'Sub Trend', 'Wedding', 'Fabric Purity', 'Fusion Wear', 'Pattern Size', 'Contact Brand or Retailer for pre-sales product queries', 'Colour Family', 'Collection Name', 'Better Cotton Initiative', 'About the Brand', 'How to care for your denim', 'What it does for your body']\n"
     ]
    }
   ],
   "source": [
    "print(list(fashion_dataset.columns))"
   ]
  },
  {
   "cell_type": "markdown",
   "id": "688dfe4a",
   "metadata": {},
   "source": [
    ">Renaming columns for use in SQL and MapReduce"
   ]
  },
  {
   "cell_type": "code",
   "execution_count": 14,
   "id": "e0803ba1",
   "metadata": {},
   "outputs": [],
   "source": [
    "fashion_dataset.rename(columns={'Where-to-wear':'Where_to_wear','Dupatta Pattern':'Dupatta_Pattern', 'Kurta Pattern':'Kurta_Pattern','Bottom Pattern': 'Bottom_Pattern', 'Top Pattern': 'Top_Pattern','Print or Pattern Type': 'Print_Pattern_Type', 'Knit or Woven':'Knit_or_Woven', 'Weave Type':'Weave_Type', 'Weave Pattern':'Weave_Pattern','Dupatta Fabric':'Dupatta_Fabric','Bottom Fabric':'Bottom_Fabric', 'Top Fabric':'Top_Fabric','Fabric Purity':'Fabric_Purity', 'Fabric Type':'Fabric_Type','Blouse Fabric':'Blouse_Fabric', 'Better Cotton Initiative':'Better_Cotton', 'Saree Fabric':'Saree_Fabric', 'Colour Family':'Colour_Family'}, inplace=True)"
   ]
  },
  {
   "cell_type": "code",
   "execution_count": 15,
   "id": "0eb206c9",
   "metadata": {},
   "outputs": [
    {
     "data": {
      "text/plain": [
       "13657"
      ]
     },
     "execution_count": 15,
     "metadata": {},
     "output_type": "execute_result"
    }
   ],
   "source": [
    "fashion_dataset['Kurta_Pattern'].isna().sum()"
   ]
  },
  {
   "cell_type": "code",
   "execution_count": 16,
   "id": "0e9d5db8",
   "metadata": {},
   "outputs": [
    {
     "data": {
      "text/plain": [
       "8923"
      ]
     },
     "execution_count": 16,
     "metadata": {},
     "output_type": "execute_result"
    }
   ],
   "source": [
    "fashion_dataset['Weave_Type'].isna().sum()"
   ]
  },
  {
   "cell_type": "code",
   "execution_count": 17,
   "id": "31803547",
   "metadata": {},
   "outputs": [
    {
     "data": {
      "text/plain": [
       "12353"
      ]
     },
     "execution_count": 17,
     "metadata": {},
     "output_type": "execute_result"
    }
   ],
   "source": [
    "fashion_dataset['Knit_or_Woven'].isna().sum()"
   ]
  },
  {
   "cell_type": "code",
   "execution_count": 18,
   "id": "586c886c",
   "metadata": {},
   "outputs": [
    {
     "data": {
      "text/plain": [
       "13087"
      ]
     },
     "execution_count": 18,
     "metadata": {},
     "output_type": "execute_result"
    }
   ],
   "source": [
    "fashion_dataset['Weave_Pattern'].isna().sum()"
   ]
  },
  {
   "cell_type": "markdown",
   "id": "73a62e66",
   "metadata": {},
   "source": [
    "### Filling the Fabric column"
   ]
  },
  {
   "cell_type": "code",
   "execution_count": 19,
   "id": "44a880ab",
   "metadata": {},
   "outputs": [
    {
     "data": {
      "text/plain": [
       "array([nan, 'Cotton', 'Polyester', 'Poly Crepe', 'Polyviscose',\n",
       "       'Viscose Rayon', 'Wool', 'Pure Cotton', 'Cotton Blend',\n",
       "       'Poly Chiffon', 'Linen', 'Poly Georgette', 'Georgette',\n",
       "       'Silk Blend', 'Fleece', 'Net', 'Modal', 'Art Silk', 'Acrylic',\n",
       "       'Other', 'Polycotton', 'Nylon', 'Denim', 'Leather', 'Velvet',\n",
       "       'Liva', 'Poly Silk', 'Silk', 'Pure Silk', 'PU', 'Cotton Silk',\n",
       "       'Corduroy', 'Organza', 'Viscose Georgette', 'Wool Blend',\n",
       "       'Chiffon', 'Organic Cotton', 'Brocade', 'Faux Fur', 'Suede',\n",
       "       'Satin', 'Pure Georgette', 'Chanderi Silk', 'Crepe', 'Tencel',\n",
       "       'Elastane', 'Dupion', 'Jacquard', 'Synthetic Leather', 'Voile',\n",
       "       'Dupion Silk', 'Velour', 'Pashmina', 'Pure Crepe', 'Lyocell',\n",
       "       'Raw Silk', 'Polyester PU Coated', 'Hemp', 'Livaeco'], dtype=object)"
      ]
     },
     "execution_count": 19,
     "metadata": {},
     "output_type": "execute_result"
    }
   ],
   "source": [
    "pd.unique(fashion_dataset['Fabric'])"
   ]
  },
  {
   "cell_type": "code",
   "execution_count": 20,
   "id": "760f41da",
   "metadata": {},
   "outputs": [
    {
     "data": {
      "text/html": [
       "<div>\n",
       "<style scoped>\n",
       "    .dataframe tbody tr th:only-of-type {\n",
       "        vertical-align: middle;\n",
       "    }\n",
       "\n",
       "    .dataframe tbody tr th {\n",
       "        vertical-align: top;\n",
       "    }\n",
       "\n",
       "    .dataframe thead th {\n",
       "        text-align: right;\n",
       "    }\n",
       "</style>\n",
       "<table border=\"1\" class=\"dataframe\">\n",
       "  <thead>\n",
       "    <tr style=\"text-align: right;\">\n",
       "      <th></th>\n",
       "      <th>count(Fabric)</th>\n",
       "    </tr>\n",
       "  </thead>\n",
       "  <tbody>\n",
       "    <tr>\n",
       "      <th>0</th>\n",
       "      <td>0</td>\n",
       "    </tr>\n",
       "  </tbody>\n",
       "</table>\n",
       "</div>"
      ],
      "text/plain": [
       "   count(Fabric)\n",
       "0              0"
      ]
     },
     "execution_count": 20,
     "metadata": {},
     "output_type": "execute_result"
    }
   ],
   "source": [
    "sqldf(\"select count(Fabric) from fashion_dataset where Fabric = 'NA'\")"
   ]
  },
  {
   "cell_type": "code",
   "execution_count": 21,
   "id": "da7990c7",
   "metadata": {},
   "outputs": [
    {
     "data": {
      "text/plain": [
       "3882"
      ]
     },
     "execution_count": 21,
     "metadata": {},
     "output_type": "execute_result"
    }
   ],
   "source": [
    "fashion_dataset['Fabric'].isna().sum()"
   ]
  },
  {
   "cell_type": "code",
   "execution_count": 22,
   "id": "7338a967",
   "metadata": {},
   "outputs": [
    {
     "data": {
      "text/plain": [
       "array([nan, 'Cotton Blend', 'Viscose Rayon', 'Pure Cotton', 'Satin',\n",
       "       'Polyester', 'Poly Georgette', 'Shantoon', 'Silk Georgette',\n",
       "       'Poly Crepe', 'Organic Cotton', 'Poly Silk', 'Silk Blend',\n",
       "       'Art Silk', 'Pure Silk', 'Pure Wool', 'Poly Chiffon', 'Net',\n",
       "       'Silk Crepe', 'Silk Chiffon', 'Linen', 'NA', 'Pashmina',\n",
       "       'Jute Cotton', 'Nylon', 'Velvet', 'Voile'], dtype=object)"
      ]
     },
     "execution_count": 22,
     "metadata": {},
     "output_type": "execute_result"
    }
   ],
   "source": [
    "pd.unique(fashion_dataset['Bottom_Fabric'])"
   ]
  },
  {
   "cell_type": "code",
   "execution_count": 23,
   "id": "6dfdecd6",
   "metadata": {},
   "outputs": [],
   "source": [
    "fashion_dataset['Bottom_Fabric'] = fashion_dataset['Bottom_Fabric'].where(fashion_dataset['Bottom_Fabric'] != 'NA', None)"
   ]
  },
  {
   "cell_type": "code",
   "execution_count": 24,
   "id": "771dde5d",
   "metadata": {},
   "outputs": [
    {
     "data": {
      "text/plain": [
       "array([nan, 'Viscose Rayon', 'Organza', 'Poly Silk', 'Silk Blend',\n",
       "       'Cotton', 'Linen Blend', 'Poly Georgette', 'Pure Georgette',\n",
       "       'Art Silk', 'Net', 'Silk', 'Satin', 'NA', 'Pure Silk', 'Polyester',\n",
       "       'Brocade', 'Tissue', 'Cotton Blend', 'Silk Cotton', 'Velvet',\n",
       "       'Poly Crepe', 'Pure Cotton', 'Raw Silk', 'Polycotton',\n",
       "       'Pure Chiffon', 'Jute Silk', 'Poly Chiffon', 'Liva', 'Pure Crepe',\n",
       "       'Pure Linen', 'Supernet', 'Jute Cotton'], dtype=object)"
      ]
     },
     "execution_count": 24,
     "metadata": {},
     "output_type": "execute_result"
    }
   ],
   "source": [
    "pd.unique(fashion_dataset['Blouse_Fabric'])"
   ]
  },
  {
   "cell_type": "code",
   "execution_count": 25,
   "id": "3bf6b67a",
   "metadata": {},
   "outputs": [],
   "source": [
    "fashion_dataset['Blouse_Fabric'] = fashion_dataset['Blouse_Fabric'].where(fashion_dataset['Blouse_Fabric'] != 'NA', None)"
   ]
  },
  {
   "cell_type": "code",
   "execution_count": 26,
   "id": "d664707b",
   "metadata": {},
   "outputs": [
    {
     "data": {
      "text/plain": [
       "array([nan, 'Cotton Blend', 'Viscose Rayon', 'Pure Cotton', 'Polyester',\n",
       "       'Liva', 'Poly Crepe', 'Organic Cotton', 'Poly Silk', 'Silk Blend',\n",
       "       'Poly Georgette', 'Art Silk', 'Pure Wool', 'Net', 'Silk Chiffon',\n",
       "       'Linen', 'Poly Chanderi', 'Pure Silk', 'Chanderi Cotton',\n",
       "       'Chanderi Silk', 'Acrylic', 'Silk Georgette', 'Nylon', 'Velvet',\n",
       "       'Poly Chiffon', 'Voile'], dtype=object)"
      ]
     },
     "execution_count": 26,
     "metadata": {},
     "output_type": "execute_result"
    }
   ],
   "source": [
    "pd.unique(fashion_dataset['Top_Fabric'])"
   ]
  },
  {
   "cell_type": "code",
   "execution_count": 27,
   "id": "3a3e9b12",
   "metadata": {},
   "outputs": [
    {
     "data": {
      "text/plain": [
       "array([nan, 'Georgette', 'NA', 'Denim', 'Cotton', 'Lace', 'Crepe',\n",
       "       'Chiffon', 'Cotton Cambric', 'Net', 'Dobby', 'Scuba', 'Satin',\n",
       "       'Liva', 'Twill', 'Linen', 'Chambray', 'Velvet', 'Jacquard',\n",
       "       'Corduroy', 'Schiffli', 'Terry'], dtype=object)"
      ]
     },
     "execution_count": 27,
     "metadata": {},
     "output_type": "execute_result"
    }
   ],
   "source": [
    "pd.unique(fashion_dataset['Fabric_Type'])"
   ]
  },
  {
   "cell_type": "code",
   "execution_count": 28,
   "id": "55bff9fa",
   "metadata": {},
   "outputs": [],
   "source": [
    "fashion_dataset['Fabric_Type'] = fashion_dataset['Fabric_Type'].where(fashion_dataset['Fabric_Type'] != 'NA', None)"
   ]
  },
  {
   "cell_type": "code",
   "execution_count": 29,
   "id": "c5a3860f",
   "metadata": {},
   "outputs": [],
   "source": [
    "fashion_dataset['Fabric'] = fashion_dataset['Fabric'].combine_first(fashion_dataset['Top_Fabric'])"
   ]
  },
  {
   "cell_type": "code",
   "execution_count": 30,
   "id": "f1f3e622",
   "metadata": {},
   "outputs": [
    {
     "data": {
      "text/plain": [
       "2708"
      ]
     },
     "execution_count": 30,
     "metadata": {},
     "output_type": "execute_result"
    }
   ],
   "source": [
    "fashion_dataset['Fabric'].isna().sum()"
   ]
  },
  {
   "cell_type": "code",
   "execution_count": 31,
   "id": "7fcbcde8",
   "metadata": {},
   "outputs": [],
   "source": [
    "fashion_dataset['Fabric'] = fashion_dataset['Fabric'].combine_first(fashion_dataset['Bottom_Fabric'])"
   ]
  },
  {
   "cell_type": "code",
   "execution_count": 32,
   "id": "e250873d",
   "metadata": {},
   "outputs": [
    {
     "data": {
      "text/plain": [
       "2076"
      ]
     },
     "execution_count": 32,
     "metadata": {},
     "output_type": "execute_result"
    }
   ],
   "source": [
    "fashion_dataset['Fabric'].isna().sum()"
   ]
  },
  {
   "cell_type": "code",
   "execution_count": 33,
   "id": "0b7cd677",
   "metadata": {},
   "outputs": [],
   "source": [
    "fashion_dataset['Fabric'] = fashion_dataset['Fabric'].combine_first(fashion_dataset['Fabric_Type'])"
   ]
  },
  {
   "cell_type": "code",
   "execution_count": 34,
   "id": "188c432e",
   "metadata": {},
   "outputs": [
    {
     "data": {
      "text/plain": [
       "2025"
      ]
     },
     "execution_count": 34,
     "metadata": {},
     "output_type": "execute_result"
    }
   ],
   "source": [
    "fashion_dataset['Fabric'].isna().sum()"
   ]
  },
  {
   "cell_type": "code",
   "execution_count": 35,
   "id": "45164693",
   "metadata": {},
   "outputs": [],
   "source": [
    "fashion_dataset['Fabric'] = fashion_dataset['Fabric'].combine_first(fashion_dataset['Blouse_Fabric'])"
   ]
  },
  {
   "cell_type": "code",
   "execution_count": 36,
   "id": "ec0e0068",
   "metadata": {},
   "outputs": [
    {
     "data": {
      "text/plain": [
       "202"
      ]
     },
     "execution_count": 36,
     "metadata": {},
     "output_type": "execute_result"
    }
   ],
   "source": [
    "fashion_dataset['Fabric'].isna().sum()"
   ]
  },
  {
   "cell_type": "code",
   "execution_count": 37,
   "id": "350b464e",
   "metadata": {},
   "outputs": [
    {
     "data": {
      "text/plain": [
       "array([nan, 'Regular', 'Better Cotton Initiative'], dtype=object)"
      ]
     },
     "execution_count": 37,
     "metadata": {},
     "output_type": "execute_result"
    }
   ],
   "source": [
    "pd.unique(fashion_dataset['Better_Cotton'])"
   ]
  },
  {
   "cell_type": "code",
   "execution_count": 38,
   "id": "a967a1cf",
   "metadata": {},
   "outputs": [
    {
     "data": {
      "text/html": [
       "<div>\n",
       "<style scoped>\n",
       "    .dataframe tbody tr th:only-of-type {\n",
       "        vertical-align: middle;\n",
       "    }\n",
       "\n",
       "    .dataframe tbody tr th {\n",
       "        vertical-align: top;\n",
       "    }\n",
       "\n",
       "    .dataframe thead th {\n",
       "        text-align: right;\n",
       "    }\n",
       "</style>\n",
       "<table border=\"1\" class=\"dataframe\">\n",
       "  <thead>\n",
       "    <tr style=\"text-align: right;\">\n",
       "      <th></th>\n",
       "      <th>Better_Cotton</th>\n",
       "    </tr>\n",
       "  </thead>\n",
       "  <tbody>\n",
       "    <tr>\n",
       "      <th>0</th>\n",
       "      <td>Regular</td>\n",
       "    </tr>\n",
       "    <tr>\n",
       "      <th>1</th>\n",
       "      <td>Regular</td>\n",
       "    </tr>\n",
       "    <tr>\n",
       "      <th>2</th>\n",
       "      <td>Regular</td>\n",
       "    </tr>\n",
       "  </tbody>\n",
       "</table>\n",
       "</div>"
      ],
      "text/plain": [
       "  Better_Cotton\n",
       "0       Regular\n",
       "1       Regular\n",
       "2       Regular"
      ]
     },
     "execution_count": 38,
     "metadata": {},
     "output_type": "execute_result"
    }
   ],
   "source": [
    "sqldf(\"select Better_Cotton from fashion_dataset where Fabric is null and Better_Cotton in('Better Cotton Initiative','Regular')\")"
   ]
  },
  {
   "cell_type": "code",
   "execution_count": 39,
   "id": "6317a3dd",
   "metadata": {},
   "outputs": [],
   "source": [
    "fashion_dataset['New_Cotton'] = fashion_dataset['Better_Cotton'].replace(['Regular', 'Better Cotton Initiative'], ['Cotton',None])"
   ]
  },
  {
   "cell_type": "code",
   "execution_count": 40,
   "id": "2e78a5d3",
   "metadata": {},
   "outputs": [],
   "source": [
    "fashion_dataset['Fabric'] = fashion_dataset['Fabric'].combine_first(fashion_dataset['New_Cotton'])"
   ]
  },
  {
   "cell_type": "code",
   "execution_count": 41,
   "id": "b35540e1",
   "metadata": {},
   "outputs": [
    {
     "data": {
      "text/plain": [
       "199"
      ]
     },
     "execution_count": 41,
     "metadata": {},
     "output_type": "execute_result"
    }
   ],
   "source": [
    "fashion_dataset['Fabric'].isna().sum()"
   ]
  },
  {
   "cell_type": "code",
   "execution_count": 42,
   "id": "b79ca721",
   "metadata": {},
   "outputs": [],
   "source": [
    "pd.unique(fashion_dataset['Dupatta_Fabric'])\n",
    "fashion_dataset['Dupatta_Fabric'] = fashion_dataset['Dupatta_Fabric'].where(fashion_dataset['Dupatta_Fabric'] != 'NA', None)"
   ]
  },
  {
   "cell_type": "code",
   "execution_count": 43,
   "id": "d65f2554",
   "metadata": {},
   "outputs": [
    {
     "data": {
      "text/html": [
       "<div>\n",
       "<style scoped>\n",
       "    .dataframe tbody tr th:only-of-type {\n",
       "        vertical-align: middle;\n",
       "    }\n",
       "\n",
       "    .dataframe tbody tr th {\n",
       "        vertical-align: top;\n",
       "    }\n",
       "\n",
       "    .dataframe thead th {\n",
       "        text-align: right;\n",
       "    }\n",
       "</style>\n",
       "<table border=\"1\" class=\"dataframe\">\n",
       "  <thead>\n",
       "    <tr style=\"text-align: right;\">\n",
       "      <th></th>\n",
       "      <th>Dupatta_Fabric</th>\n",
       "    </tr>\n",
       "  </thead>\n",
       "  <tbody>\n",
       "    <tr>\n",
       "      <th>0</th>\n",
       "      <td>Net</td>\n",
       "    </tr>\n",
       "  </tbody>\n",
       "</table>\n",
       "</div>"
      ],
      "text/plain": [
       "  Dupatta_Fabric\n",
       "0            Net"
      ]
     },
     "execution_count": 43,
     "metadata": {},
     "output_type": "execute_result"
    }
   ],
   "source": [
    "sqldf(\"select Dupatta_Fabric from fashion_dataset where Dupatta_Fabric is not null and Fabric is null\")"
   ]
  },
  {
   "cell_type": "code",
   "execution_count": 44,
   "id": "d0c98691",
   "metadata": {},
   "outputs": [
    {
     "data": {
      "text/html": [
       "<div>\n",
       "<style scoped>\n",
       "    .dataframe tbody tr th:only-of-type {\n",
       "        vertical-align: middle;\n",
       "    }\n",
       "\n",
       "    .dataframe tbody tr th {\n",
       "        vertical-align: top;\n",
       "    }\n",
       "\n",
       "    .dataframe thead th {\n",
       "        text-align: right;\n",
       "    }\n",
       "</style>\n",
       "<table border=\"1\" class=\"dataframe\">\n",
       "  <thead>\n",
       "    <tr style=\"text-align: right;\">\n",
       "      <th></th>\n",
       "      <th>Weave_Pattern</th>\n",
       "      <th>Fabric</th>\n",
       "    </tr>\n",
       "  </thead>\n",
       "  <tbody>\n",
       "    <tr>\n",
       "      <th>0</th>\n",
       "      <td>None</td>\n",
       "      <td>None</td>\n",
       "    </tr>\n",
       "    <tr>\n",
       "      <th>1</th>\n",
       "      <td>None</td>\n",
       "      <td>Cotton</td>\n",
       "    </tr>\n",
       "    <tr>\n",
       "      <th>2</th>\n",
       "      <td>None</td>\n",
       "      <td>Cotton Blend</td>\n",
       "    </tr>\n",
       "    <tr>\n",
       "      <th>3</th>\n",
       "      <td>None</td>\n",
       "      <td>None</td>\n",
       "    </tr>\n",
       "    <tr>\n",
       "      <th>4</th>\n",
       "      <td>None</td>\n",
       "      <td>Cotton</td>\n",
       "    </tr>\n",
       "    <tr>\n",
       "      <th>...</th>\n",
       "      <td>...</td>\n",
       "      <td>...</td>\n",
       "    </tr>\n",
       "    <tr>\n",
       "      <th>14265</th>\n",
       "      <td>None</td>\n",
       "      <td>Jute Cotton</td>\n",
       "    </tr>\n",
       "    <tr>\n",
       "      <th>14266</th>\n",
       "      <td>None</td>\n",
       "      <td>Cotton</td>\n",
       "    </tr>\n",
       "    <tr>\n",
       "      <th>14267</th>\n",
       "      <td>None</td>\n",
       "      <td>Polycotton</td>\n",
       "    </tr>\n",
       "    <tr>\n",
       "      <th>14268</th>\n",
       "      <td>None</td>\n",
       "      <td>Viscose Rayon</td>\n",
       "    </tr>\n",
       "    <tr>\n",
       "      <th>14269</th>\n",
       "      <td>None</td>\n",
       "      <td>Nylon</td>\n",
       "    </tr>\n",
       "  </tbody>\n",
       "</table>\n",
       "<p>14270 rows × 2 columns</p>\n",
       "</div>"
      ],
      "text/plain": [
       "      Weave_Pattern         Fabric\n",
       "0              None           None\n",
       "1              None         Cotton\n",
       "2              None   Cotton Blend\n",
       "3              None           None\n",
       "4              None         Cotton\n",
       "...             ...            ...\n",
       "14265          None    Jute Cotton\n",
       "14266          None         Cotton\n",
       "14267          None     Polycotton\n",
       "14268          None  Viscose Rayon\n",
       "14269          None          Nylon\n",
       "\n",
       "[14270 rows x 2 columns]"
      ]
     },
     "execution_count": 44,
     "metadata": {},
     "output_type": "execute_result"
    }
   ],
   "source": [
    "sqldf(\"select Weave_Pattern, Fabric from fashion_dataset\")"
   ]
  },
  {
   "cell_type": "code",
   "execution_count": 45,
   "id": "9974dcca",
   "metadata": {},
   "outputs": [],
   "source": [
    "fashion_dataset['Fabric'] = fashion_dataset['Fabric'].combine_first(fashion_dataset['Weave_Pattern'])"
   ]
  },
  {
   "cell_type": "code",
   "execution_count": 46,
   "id": "47b2f68c",
   "metadata": {},
   "outputs": [],
   "source": [
    "fashion_dataset['Fabric'] = fashion_dataset['Fabric'].combine_first(fashion_dataset['Dupatta_Fabric'])"
   ]
  },
  {
   "cell_type": "code",
   "execution_count": 47,
   "id": "792f509d",
   "metadata": {},
   "outputs": [
    {
     "data": {
      "text/plain": [
       "197"
      ]
     },
     "execution_count": 47,
     "metadata": {},
     "output_type": "execute_result"
    }
   ],
   "source": [
    "fashion_dataset['Fabric'].isna().sum()"
   ]
  },
  {
   "cell_type": "code",
   "execution_count": 48,
   "id": "a30686e8",
   "metadata": {},
   "outputs": [
    {
     "data": {
      "text/html": [
       "<div>\n",
       "<style scoped>\n",
       "    .dataframe tbody tr th:only-of-type {\n",
       "        vertical-align: middle;\n",
       "    }\n",
       "\n",
       "    .dataframe tbody tr th {\n",
       "        vertical-align: top;\n",
       "    }\n",
       "\n",
       "    .dataframe thead th {\n",
       "        text-align: right;\n",
       "    }\n",
       "</style>\n",
       "<table border=\"1\" class=\"dataframe\">\n",
       "  <thead>\n",
       "    <tr style=\"text-align: right;\">\n",
       "      <th></th>\n",
       "      <th>Saree_Fabric</th>\n",
       "    </tr>\n",
       "  </thead>\n",
       "  <tbody>\n",
       "    <tr>\n",
       "      <th>0</th>\n",
       "      <td>Poly Georgette</td>\n",
       "    </tr>\n",
       "    <tr>\n",
       "      <th>1</th>\n",
       "      <td>Pure Linen</td>\n",
       "    </tr>\n",
       "    <tr>\n",
       "      <th>2</th>\n",
       "      <td>Pure Cotton</td>\n",
       "    </tr>\n",
       "    <tr>\n",
       "      <th>3</th>\n",
       "      <td>Cotton Blend</td>\n",
       "    </tr>\n",
       "    <tr>\n",
       "      <th>4</th>\n",
       "      <td>Cotton Blend</td>\n",
       "    </tr>\n",
       "    <tr>\n",
       "      <th>5</th>\n",
       "      <td>Pure Linen</td>\n",
       "    </tr>\n",
       "    <tr>\n",
       "      <th>6</th>\n",
       "      <td>Pure Cotton</td>\n",
       "    </tr>\n",
       "    <tr>\n",
       "      <th>7</th>\n",
       "      <td>Pure Chiffon</td>\n",
       "    </tr>\n",
       "    <tr>\n",
       "      <th>8</th>\n",
       "      <td>Poly Chiffon</td>\n",
       "    </tr>\n",
       "    <tr>\n",
       "      <th>9</th>\n",
       "      <td>Pure Cotton</td>\n",
       "    </tr>\n",
       "    <tr>\n",
       "      <th>10</th>\n",
       "      <td>Pure Cotton</td>\n",
       "    </tr>\n",
       "    <tr>\n",
       "      <th>11</th>\n",
       "      <td>Pure Chiffon</td>\n",
       "    </tr>\n",
       "    <tr>\n",
       "      <th>12</th>\n",
       "      <td>Pure Cotton</td>\n",
       "    </tr>\n",
       "    <tr>\n",
       "      <th>13</th>\n",
       "      <td>Organza</td>\n",
       "    </tr>\n",
       "    <tr>\n",
       "      <th>14</th>\n",
       "      <td>Cotton Blend</td>\n",
       "    </tr>\n",
       "    <tr>\n",
       "      <th>15</th>\n",
       "      <td>Polycotton</td>\n",
       "    </tr>\n",
       "    <tr>\n",
       "      <th>16</th>\n",
       "      <td>Polycotton</td>\n",
       "    </tr>\n",
       "    <tr>\n",
       "      <th>17</th>\n",
       "      <td>Pure Cotton</td>\n",
       "    </tr>\n",
       "    <tr>\n",
       "      <th>18</th>\n",
       "      <td>Pure Linen</td>\n",
       "    </tr>\n",
       "    <tr>\n",
       "      <th>19</th>\n",
       "      <td>Cotton Blend</td>\n",
       "    </tr>\n",
       "    <tr>\n",
       "      <th>20</th>\n",
       "      <td>Cotton Blend</td>\n",
       "    </tr>\n",
       "    <tr>\n",
       "      <th>21</th>\n",
       "      <td>Satin</td>\n",
       "    </tr>\n",
       "    <tr>\n",
       "      <th>22</th>\n",
       "      <td>Pure Chiffon</td>\n",
       "    </tr>\n",
       "    <tr>\n",
       "      <th>23</th>\n",
       "      <td>Organza</td>\n",
       "    </tr>\n",
       "    <tr>\n",
       "      <th>24</th>\n",
       "      <td>Polyester</td>\n",
       "    </tr>\n",
       "    <tr>\n",
       "      <th>25</th>\n",
       "      <td>Pure Cotton</td>\n",
       "    </tr>\n",
       "    <tr>\n",
       "      <th>26</th>\n",
       "      <td>Liva</td>\n",
       "    </tr>\n",
       "    <tr>\n",
       "      <th>27</th>\n",
       "      <td>Pure Cotton</td>\n",
       "    </tr>\n",
       "    <tr>\n",
       "      <th>28</th>\n",
       "      <td>Cotton Blend</td>\n",
       "    </tr>\n",
       "    <tr>\n",
       "      <th>29</th>\n",
       "      <td>Pure Cotton</td>\n",
       "    </tr>\n",
       "    <tr>\n",
       "      <th>30</th>\n",
       "      <td>Pure Cotton</td>\n",
       "    </tr>\n",
       "    <tr>\n",
       "      <th>31</th>\n",
       "      <td>Pure Cotton</td>\n",
       "    </tr>\n",
       "    <tr>\n",
       "      <th>32</th>\n",
       "      <td>Satin</td>\n",
       "    </tr>\n",
       "    <tr>\n",
       "      <th>33</th>\n",
       "      <td>Satin</td>\n",
       "    </tr>\n",
       "    <tr>\n",
       "      <th>34</th>\n",
       "      <td>Pure Cotton</td>\n",
       "    </tr>\n",
       "    <tr>\n",
       "      <th>35</th>\n",
       "      <td>Pure Cotton</td>\n",
       "    </tr>\n",
       "    <tr>\n",
       "      <th>36</th>\n",
       "      <td>Silk Cotton</td>\n",
       "    </tr>\n",
       "    <tr>\n",
       "      <th>37</th>\n",
       "      <td>Silk Cotton</td>\n",
       "    </tr>\n",
       "    <tr>\n",
       "      <th>38</th>\n",
       "      <td>Pure Cotton</td>\n",
       "    </tr>\n",
       "    <tr>\n",
       "      <th>39</th>\n",
       "      <td>Cotton Blend</td>\n",
       "    </tr>\n",
       "    <tr>\n",
       "      <th>40</th>\n",
       "      <td>Satin</td>\n",
       "    </tr>\n",
       "    <tr>\n",
       "      <th>41</th>\n",
       "      <td>Poly Chiffon</td>\n",
       "    </tr>\n",
       "    <tr>\n",
       "      <th>42</th>\n",
       "      <td>Nylon</td>\n",
       "    </tr>\n",
       "    <tr>\n",
       "      <th>43</th>\n",
       "      <td>Pure Cotton</td>\n",
       "    </tr>\n",
       "    <tr>\n",
       "      <th>44</th>\n",
       "      <td>Pure Cotton</td>\n",
       "    </tr>\n",
       "    <tr>\n",
       "      <th>45</th>\n",
       "      <td>Pure Chiffon</td>\n",
       "    </tr>\n",
       "    <tr>\n",
       "      <th>46</th>\n",
       "      <td>Cotton Blend</td>\n",
       "    </tr>\n",
       "    <tr>\n",
       "      <th>47</th>\n",
       "      <td>Pure Cotton</td>\n",
       "    </tr>\n",
       "    <tr>\n",
       "      <th>48</th>\n",
       "      <td>Cotton Blend</td>\n",
       "    </tr>\n",
       "    <tr>\n",
       "      <th>49</th>\n",
       "      <td>Pure Cotton</td>\n",
       "    </tr>\n",
       "    <tr>\n",
       "      <th>50</th>\n",
       "      <td>Pure Cotton</td>\n",
       "    </tr>\n",
       "    <tr>\n",
       "      <th>51</th>\n",
       "      <td>Pure Chiffon</td>\n",
       "    </tr>\n",
       "    <tr>\n",
       "      <th>52</th>\n",
       "      <td>Pure Cotton</td>\n",
       "    </tr>\n",
       "    <tr>\n",
       "      <th>53</th>\n",
       "      <td>Cotton Blend</td>\n",
       "    </tr>\n",
       "    <tr>\n",
       "      <th>54</th>\n",
       "      <td>Pure Cotton</td>\n",
       "    </tr>\n",
       "  </tbody>\n",
       "</table>\n",
       "</div>"
      ],
      "text/plain": [
       "      Saree_Fabric\n",
       "0   Poly Georgette\n",
       "1       Pure Linen\n",
       "2      Pure Cotton\n",
       "3     Cotton Blend\n",
       "4     Cotton Blend\n",
       "5       Pure Linen\n",
       "6      Pure Cotton\n",
       "7     Pure Chiffon\n",
       "8     Poly Chiffon\n",
       "9      Pure Cotton\n",
       "10     Pure Cotton\n",
       "11    Pure Chiffon\n",
       "12     Pure Cotton\n",
       "13         Organza\n",
       "14    Cotton Blend\n",
       "15      Polycotton\n",
       "16      Polycotton\n",
       "17     Pure Cotton\n",
       "18      Pure Linen\n",
       "19    Cotton Blend\n",
       "20    Cotton Blend\n",
       "21           Satin\n",
       "22    Pure Chiffon\n",
       "23         Organza\n",
       "24       Polyester\n",
       "25     Pure Cotton\n",
       "26            Liva\n",
       "27     Pure Cotton\n",
       "28    Cotton Blend\n",
       "29     Pure Cotton\n",
       "30     Pure Cotton\n",
       "31     Pure Cotton\n",
       "32           Satin\n",
       "33           Satin\n",
       "34     Pure Cotton\n",
       "35     Pure Cotton\n",
       "36     Silk Cotton\n",
       "37     Silk Cotton\n",
       "38     Pure Cotton\n",
       "39    Cotton Blend\n",
       "40           Satin\n",
       "41    Poly Chiffon\n",
       "42           Nylon\n",
       "43     Pure Cotton\n",
       "44     Pure Cotton\n",
       "45    Pure Chiffon\n",
       "46    Cotton Blend\n",
       "47     Pure Cotton\n",
       "48    Cotton Blend\n",
       "49     Pure Cotton\n",
       "50     Pure Cotton\n",
       "51    Pure Chiffon\n",
       "52     Pure Cotton\n",
       "53    Cotton Blend\n",
       "54     Pure Cotton"
      ]
     },
     "execution_count": 48,
     "metadata": {},
     "output_type": "execute_result"
    }
   ],
   "source": [
    "sqldf(\"select Saree_Fabric from fashion_dataset where Saree_Fabric is not null and Fabric is null\")"
   ]
  },
  {
   "cell_type": "code",
   "execution_count": 49,
   "id": "147e2587",
   "metadata": {},
   "outputs": [],
   "source": [
    "fashion_dataset['Fabric'] = fashion_dataset['Fabric'].combine_first(fashion_dataset['Saree_Fabric'])"
   ]
  },
  {
   "cell_type": "code",
   "execution_count": 50,
   "id": "e6fdc4e1",
   "metadata": {
    "scrolled": true
   },
   "outputs": [
    {
     "data": {
      "text/plain": [
       "142"
      ]
     },
     "execution_count": 50,
     "metadata": {},
     "output_type": "execute_result"
    }
   ],
   "source": [
    "fashion_dataset['Fabric'].isna().sum()"
   ]
  },
  {
   "cell_type": "code",
   "execution_count": 51,
   "id": "12bb8561",
   "metadata": {},
   "outputs": [
    {
     "data": {
      "text/plain": [
       "0    Cotton\n",
       "Name: Fabric, dtype: object"
      ]
     },
     "execution_count": 51,
     "metadata": {},
     "output_type": "execute_result"
    }
   ],
   "source": [
    "fashion_dataset['Fabric'].mode()"
   ]
  },
  {
   "cell_type": "code",
   "execution_count": 52,
   "id": "59fdeacc",
   "metadata": {},
   "outputs": [
    {
     "data": {
      "text/plain": [
       "0"
      ]
     },
     "execution_count": 52,
     "metadata": {},
     "output_type": "execute_result"
    }
   ],
   "source": [
    "fashion_dataset.fillna({'Fabric':'Cotton'}, inplace=True)\n",
    "fashion_dataset['Fabric'].isna().sum()"
   ]
  },
  {
   "cell_type": "code",
   "execution_count": 53,
   "id": "7f012b28",
   "metadata": {
    "scrolled": true
   },
   "outputs": [
    {
     "data": {
      "text/html": [
       "<div>\n",
       "<style scoped>\n",
       "    .dataframe tbody tr th:only-of-type {\n",
       "        vertical-align: middle;\n",
       "    }\n",
       "\n",
       "    .dataframe tbody tr th {\n",
       "        vertical-align: top;\n",
       "    }\n",
       "\n",
       "    .dataframe thead th {\n",
       "        text-align: right;\n",
       "    }\n",
       "</style>\n",
       "<table border=\"1\" class=\"dataframe\">\n",
       "  <thead>\n",
       "    <tr style=\"text-align: right;\">\n",
       "      <th></th>\n",
       "      <th>count(Fabric)</th>\n",
       "    </tr>\n",
       "  </thead>\n",
       "  <tbody>\n",
       "    <tr>\n",
       "      <th>0</th>\n",
       "      <td>0</td>\n",
       "    </tr>\n",
       "  </tbody>\n",
       "</table>\n",
       "</div>"
      ],
      "text/plain": [
       "   count(Fabric)\n",
       "0              0"
      ]
     },
     "execution_count": 53,
     "metadata": {},
     "output_type": "execute_result"
    }
   ],
   "source": [
    "sqldf(\"select count(Fabric) from fashion_dataset where Fabric = 'NA'\")"
   ]
  },
  {
   "cell_type": "markdown",
   "id": "f835909e",
   "metadata": {},
   "source": [
    "### Viewing Weave Type & Knit or Woven"
   ]
  },
  {
   "cell_type": "code",
   "execution_count": 54,
   "id": "0e3c6093",
   "metadata": {},
   "outputs": [
    {
     "data": {
      "text/plain": [
       "array([nan, 'Woven', 'Machine Weave', 'Knitted', 'Knitted and Woven',\n",
       "       'Velvet', 'Denim', 'Handloom', 'Lace', 'Chambray', 'Corduroy'],\n",
       "      dtype=object)"
      ]
     },
     "execution_count": 54,
     "metadata": {},
     "output_type": "execute_result"
    }
   ],
   "source": [
    "pd.unique(fashion_dataset['Weave_Type'])"
   ]
  },
  {
   "cell_type": "code",
   "execution_count": 55,
   "id": "a695c0e4",
   "metadata": {},
   "outputs": [
    {
     "data": {
      "text/plain": [
       "array([nan, 'Woven', 'Machine Weave', 'Knitted', 'Knitted and Woven',\n",
       "       'Velvet', 'Denim', 'Handloom', 'Lace', 'Chambray', 'Corduroy'],\n",
       "      dtype=object)"
      ]
     },
     "execution_count": 55,
     "metadata": {},
     "output_type": "execute_result"
    }
   ],
   "source": [
    "pd.unique(fashion_dataset['Weave_Type'])"
   ]
  },
  {
   "cell_type": "code",
   "execution_count": 56,
   "id": "dbb9c50c",
   "metadata": {
    "scrolled": true
   },
   "outputs": [
    {
     "data": {
      "text/plain": [
       "array([nan, 'Knitted', 'Knitted and Woven', 'Woven'], dtype=object)"
      ]
     },
     "execution_count": 56,
     "metadata": {},
     "output_type": "execute_result"
    }
   ],
   "source": [
    "pd.unique(fashion_dataset['Knit_or_Woven'])"
   ]
  },
  {
   "cell_type": "code",
   "execution_count": 57,
   "id": "211a439a",
   "metadata": {},
   "outputs": [
    {
     "data": {
      "text/plain": [
       "array([nan, 'Regular', 'Jacquard', 'Brocade', 'Dobby', 'Khadi'],\n",
       "      dtype=object)"
      ]
     },
     "execution_count": 57,
     "metadata": {},
     "output_type": "execute_result"
    }
   ],
   "source": [
    "pd.unique(fashion_dataset['Weave_Pattern'])"
   ]
  },
  {
   "cell_type": "markdown",
   "id": "2dcab36c",
   "metadata": {},
   "source": [
    "### Formatting Weave Pattern  and Weave Type to fill Knit or Woven"
   ]
  },
  {
   "cell_type": "code",
   "execution_count": 58,
   "id": "958de523",
   "metadata": {},
   "outputs": [],
   "source": [
    "fashion_dataset['Weave_Pattern_2'] = fashion_dataset['Weave_Pattern'].replace(['Regular', 'Jacquard', 'Brocade', 'Dobby', 'Khadi'], ['Woven','Woven','Woven','Woven','Woven'])"
   ]
  },
  {
   "cell_type": "code",
   "execution_count": 59,
   "id": "e065dc8e",
   "metadata": {},
   "outputs": [
    {
     "data": {
      "text/plain": [
       "array([nan, 'Woven'], dtype=object)"
      ]
     },
     "execution_count": 59,
     "metadata": {},
     "output_type": "execute_result"
    }
   ],
   "source": [
    "pd.unique(fashion_dataset['Weave_Pattern_2'])"
   ]
  },
  {
   "cell_type": "code",
   "execution_count": 60,
   "id": "9b6f36d2",
   "metadata": {},
   "outputs": [],
   "source": [
    "fashion_dataset['Weave_Type_2'] = fashion_dataset['Weave_Type'].replace(['Machine Weave',\n",
    "       'Velvet', 'Denim', 'Handloom', 'Lace', 'Chambray', 'Corduroy'], ['Woven','Woven','Woven','Woven','Knitted','Woven','Woven'])"
   ]
  },
  {
   "cell_type": "code",
   "execution_count": 61,
   "id": "32aa4257",
   "metadata": {},
   "outputs": [
    {
     "data": {
      "text/plain": [
       "array([nan, 'Woven', 'Knitted', 'Knitted and Woven'], dtype=object)"
      ]
     },
     "execution_count": 61,
     "metadata": {},
     "output_type": "execute_result"
    }
   ],
   "source": [
    "pd.unique(fashion_dataset['Weave_Type_2'])"
   ]
  },
  {
   "cell_type": "markdown",
   "id": "183ac5b8",
   "metadata": {},
   "source": [
    "### Filling Knit_or_Woven"
   ]
  },
  {
   "cell_type": "code",
   "execution_count": 62,
   "id": "0cd99e1b",
   "metadata": {},
   "outputs": [],
   "source": [
    "fashion_dataset['Knit_or_Woven'] = fashion_dataset['Knit_or_Woven'].combine_first(fashion_dataset['Weave_Pattern_2'])"
   ]
  },
  {
   "cell_type": "code",
   "execution_count": 63,
   "id": "ac7849ea",
   "metadata": {
    "scrolled": true
   },
   "outputs": [],
   "source": [
    "fashion_dataset['Knit_or_Woven'] = fashion_dataset['Knit_or_Woven'].combine_first(fashion_dataset['Weave_Type_2'])"
   ]
  },
  {
   "cell_type": "code",
   "execution_count": 64,
   "id": "498a24fc",
   "metadata": {},
   "outputs": [
    {
     "data": {
      "text/plain": [
       "7006"
      ]
     },
     "execution_count": 64,
     "metadata": {},
     "output_type": "execute_result"
    }
   ],
   "source": [
    "fashion_dataset['Knit_or_Woven'].isna().sum()"
   ]
  },
  {
   "cell_type": "code",
   "execution_count": 65,
   "id": "e597ba86",
   "metadata": {
    "scrolled": true
   },
   "outputs": [
    {
     "data": {
      "text/plain": [
       "array([nan, 'Woven', 'Knitted', 'Knitted and Woven'], dtype=object)"
      ]
     },
     "execution_count": 65,
     "metadata": {},
     "output_type": "execute_result"
    }
   ],
   "source": [
    "pd.unique(fashion_dataset['Knit_or_Woven'])"
   ]
  },
  {
   "cell_type": "code",
   "execution_count": 66,
   "id": "e22e9db1",
   "metadata": {},
   "outputs": [
    {
     "data": {
      "text/plain": [
       "75"
      ]
     },
     "execution_count": 66,
     "metadata": {},
     "output_type": "execute_result"
    }
   ],
   "source": [
    "len(pd.unique(fashion_dataset['Fabric']))"
   ]
  },
  {
   "cell_type": "code",
   "execution_count": 67,
   "id": "3286d649",
   "metadata": {},
   "outputs": [],
   "source": [
    "fabrics_knit = sqldf(\"select distinct Fabric from fashion_dataset where Knit_or_Woven = 'Knitted'\")"
   ]
  },
  {
   "cell_type": "code",
   "execution_count": 68,
   "id": "045c0a0c",
   "metadata": {},
   "outputs": [
    {
     "data": {
      "text/plain": [
       "Fabric    0\n",
       "dtype: int64"
      ]
     },
     "execution_count": 68,
     "metadata": {},
     "output_type": "execute_result"
    }
   ],
   "source": [
    "fabrics_knit.isna().sum()"
   ]
  },
  {
   "cell_type": "code",
   "execution_count": 69,
   "id": "91d1ae77",
   "metadata": {
    "scrolled": true
   },
   "outputs": [],
   "source": [
    "fabrics_weave = sqldf(\"select distinct Fabric from fashion_dataset where Knit_or_Woven = 'Woven'\")"
   ]
  },
  {
   "cell_type": "code",
   "execution_count": 70,
   "id": "5f2d2af6",
   "metadata": {},
   "outputs": [
    {
     "data": {
      "text/plain": [
       "Fabric    0\n",
       "dtype: int64"
      ]
     },
     "execution_count": 70,
     "metadata": {},
     "output_type": "execute_result"
    }
   ],
   "source": [
    "fabrics_weave.isna().sum()"
   ]
  },
  {
   "cell_type": "code",
   "execution_count": 71,
   "id": "4ca832aa",
   "metadata": {},
   "outputs": [],
   "source": [
    "fabrics_both = sqldf(\"select distinct Fabric from fashion_dataset where Knit_or_Woven = 'Knitted and Woven'\")"
   ]
  },
  {
   "cell_type": "code",
   "execution_count": 72,
   "id": "7b368855",
   "metadata": {},
   "outputs": [
    {
     "data": {
      "text/plain": [
       "Fabric    0\n",
       "dtype: int64"
      ]
     },
     "execution_count": 72,
     "metadata": {},
     "output_type": "execute_result"
    }
   ],
   "source": [
    "fabrics_both.isna().sum()"
   ]
  },
  {
   "cell_type": "code",
   "execution_count": 73,
   "id": "9c53237d",
   "metadata": {},
   "outputs": [],
   "source": [
    "knit_n_woven = sqldf(\"select * from fabrics_knit where fabrics_knit.Fabric in(select fabrics_weave.Fabric from fabrics_weave)\")"
   ]
  },
  {
   "cell_type": "code",
   "execution_count": 74,
   "id": "a006a795",
   "metadata": {},
   "outputs": [
    {
     "data": {
      "text/html": [
       "<div>\n",
       "<style scoped>\n",
       "    .dataframe tbody tr th:only-of-type {\n",
       "        vertical-align: middle;\n",
       "    }\n",
       "\n",
       "    .dataframe tbody tr th {\n",
       "        vertical-align: top;\n",
       "    }\n",
       "\n",
       "    .dataframe thead th {\n",
       "        text-align: right;\n",
       "    }\n",
       "</style>\n",
       "<table border=\"1\" class=\"dataframe\">\n",
       "  <thead>\n",
       "    <tr style=\"text-align: right;\">\n",
       "      <th></th>\n",
       "      <th>Fabric</th>\n",
       "    </tr>\n",
       "  </thead>\n",
       "  <tbody>\n",
       "    <tr>\n",
       "      <th>0</th>\n",
       "      <td>Cotton</td>\n",
       "    </tr>\n",
       "    <tr>\n",
       "      <th>1</th>\n",
       "      <td>Polyester</td>\n",
       "    </tr>\n",
       "    <tr>\n",
       "      <th>2</th>\n",
       "      <td>Denim</td>\n",
       "    </tr>\n",
       "    <tr>\n",
       "      <th>3</th>\n",
       "      <td>Pure Cotton</td>\n",
       "    </tr>\n",
       "    <tr>\n",
       "      <th>4</th>\n",
       "      <td>Cotton Blend</td>\n",
       "    </tr>\n",
       "    <tr>\n",
       "      <th>5</th>\n",
       "      <td>Viscose Rayon</td>\n",
       "    </tr>\n",
       "    <tr>\n",
       "      <th>6</th>\n",
       "      <td>Fleece</td>\n",
       "    </tr>\n",
       "    <tr>\n",
       "      <th>7</th>\n",
       "      <td>Acrylic</td>\n",
       "    </tr>\n",
       "    <tr>\n",
       "      <th>8</th>\n",
       "      <td>Linen</td>\n",
       "    </tr>\n",
       "    <tr>\n",
       "      <th>9</th>\n",
       "      <td>Nylon</td>\n",
       "    </tr>\n",
       "    <tr>\n",
       "      <th>10</th>\n",
       "      <td>Wool</td>\n",
       "    </tr>\n",
       "    <tr>\n",
       "      <th>11</th>\n",
       "      <td>PU</td>\n",
       "    </tr>\n",
       "    <tr>\n",
       "      <th>12</th>\n",
       "      <td>Silk Blend</td>\n",
       "    </tr>\n",
       "    <tr>\n",
       "      <th>13</th>\n",
       "      <td>Modal</td>\n",
       "    </tr>\n",
       "    <tr>\n",
       "      <th>14</th>\n",
       "      <td>Polycotton</td>\n",
       "    </tr>\n",
       "    <tr>\n",
       "      <th>15</th>\n",
       "      <td>Organic Cotton</td>\n",
       "    </tr>\n",
       "    <tr>\n",
       "      <th>16</th>\n",
       "      <td>Georgette</td>\n",
       "    </tr>\n",
       "    <tr>\n",
       "      <th>17</th>\n",
       "      <td>Satin</td>\n",
       "    </tr>\n",
       "    <tr>\n",
       "      <th>18</th>\n",
       "      <td>Silk</td>\n",
       "    </tr>\n",
       "    <tr>\n",
       "      <th>19</th>\n",
       "      <td>Jacquard</td>\n",
       "    </tr>\n",
       "    <tr>\n",
       "      <th>20</th>\n",
       "      <td>Suede</td>\n",
       "    </tr>\n",
       "    <tr>\n",
       "      <th>21</th>\n",
       "      <td>Liva</td>\n",
       "    </tr>\n",
       "    <tr>\n",
       "      <th>22</th>\n",
       "      <td>Corduroy</td>\n",
       "    </tr>\n",
       "  </tbody>\n",
       "</table>\n",
       "</div>"
      ],
      "text/plain": [
       "            Fabric\n",
       "0           Cotton\n",
       "1        Polyester\n",
       "2            Denim\n",
       "3      Pure Cotton\n",
       "4     Cotton Blend\n",
       "5    Viscose Rayon\n",
       "6           Fleece\n",
       "7          Acrylic\n",
       "8            Linen\n",
       "9            Nylon\n",
       "10            Wool\n",
       "11              PU\n",
       "12      Silk Blend\n",
       "13           Modal\n",
       "14      Polycotton\n",
       "15  Organic Cotton\n",
       "16       Georgette\n",
       "17           Satin\n",
       "18            Silk\n",
       "19        Jacquard\n",
       "20           Suede\n",
       "21            Liva\n",
       "22        Corduroy"
      ]
     },
     "execution_count": 74,
     "metadata": {},
     "output_type": "execute_result"
    }
   ],
   "source": [
    "knit_n_woven = sqldf(\"select * from knit_n_woven where Fabric not in ('Other')\")\n",
    "knit_n_woven"
   ]
  },
  {
   "cell_type": "code",
   "execution_count": 75,
   "id": "8815a716",
   "metadata": {},
   "outputs": [],
   "source": [
    "fabrics_both = sqldf(\"select * from fabrics_both where Fabric not in (select Fabric from knit_n_woven)\")"
   ]
  },
  {
   "cell_type": "code",
   "execution_count": 76,
   "id": "ee0a505d",
   "metadata": {},
   "outputs": [],
   "source": [
    "both_fabrics = ps.sqldf(\"select * from knit_n_woven union all select * from fabrics_both\")"
   ]
  },
  {
   "cell_type": "code",
   "execution_count": 77,
   "id": "696d02c3",
   "metadata": {},
   "outputs": [],
   "source": [
    "both_fabrics.loc[:,'weave'] = 'Knitted and Woven'"
   ]
  },
  {
   "cell_type": "code",
   "execution_count": 78,
   "id": "68ec8433",
   "metadata": {},
   "outputs": [],
   "source": [
    "fabrics_knit = sqldf(\"select * from fabrics_knit where Fabric not in (select Fabric from both_fabrics) and Fabric != 'Other'\")\n",
    "fabrics_knit.loc[:,['weave']]='Knitted'"
   ]
  },
  {
   "cell_type": "code",
   "execution_count": 79,
   "id": "1a9f34e9",
   "metadata": {},
   "outputs": [
    {
     "data": {
      "text/html": [
       "<div>\n",
       "<style scoped>\n",
       "    .dataframe tbody tr th:only-of-type {\n",
       "        vertical-align: middle;\n",
       "    }\n",
       "\n",
       "    .dataframe tbody tr th {\n",
       "        vertical-align: top;\n",
       "    }\n",
       "\n",
       "    .dataframe thead th {\n",
       "        text-align: right;\n",
       "    }\n",
       "</style>\n",
       "<table border=\"1\" class=\"dataframe\">\n",
       "  <thead>\n",
       "    <tr style=\"text-align: right;\">\n",
       "      <th></th>\n",
       "      <th>Fabric</th>\n",
       "      <th>weave</th>\n",
       "    </tr>\n",
       "  </thead>\n",
       "  <tbody>\n",
       "    <tr>\n",
       "      <th>0</th>\n",
       "      <td>Scuba</td>\n",
       "      <td>Knitted</td>\n",
       "    </tr>\n",
       "    <tr>\n",
       "      <th>1</th>\n",
       "      <td>Velour</td>\n",
       "      <td>Knitted</td>\n",
       "    </tr>\n",
       "  </tbody>\n",
       "</table>\n",
       "</div>"
      ],
      "text/plain": [
       "   Fabric    weave\n",
       "0   Scuba  Knitted\n",
       "1  Velour  Knitted"
      ]
     },
     "execution_count": 79,
     "metadata": {},
     "output_type": "execute_result"
    }
   ],
   "source": [
    "fabrics_knit"
   ]
  },
  {
   "cell_type": "code",
   "execution_count": 80,
   "id": "41570dd0",
   "metadata": {},
   "outputs": [],
   "source": [
    "fabrics_weave = sqldf(\"select * from fabrics_weave where Fabric not in (select Fabric from both_fabrics) and Fabric != 'Other'\")\n",
    "fabrics_weave.loc[:,['weave']]='Woven'"
   ]
  },
  {
   "cell_type": "code",
   "execution_count": 81,
   "id": "0fbeab3b",
   "metadata": {},
   "outputs": [
    {
     "data": {
      "text/html": [
       "<div>\n",
       "<style scoped>\n",
       "    .dataframe tbody tr th:only-of-type {\n",
       "        vertical-align: middle;\n",
       "    }\n",
       "\n",
       "    .dataframe tbody tr th {\n",
       "        vertical-align: top;\n",
       "    }\n",
       "\n",
       "    .dataframe thead th {\n",
       "        text-align: right;\n",
       "    }\n",
       "</style>\n",
       "<table border=\"1\" class=\"dataframe\">\n",
       "  <thead>\n",
       "    <tr style=\"text-align: right;\">\n",
       "      <th></th>\n",
       "      <th>Fabric</th>\n",
       "      <th>weave</th>\n",
       "    </tr>\n",
       "  </thead>\n",
       "  <tbody>\n",
       "    <tr>\n",
       "      <th>0</th>\n",
       "      <td>Poly Crepe</td>\n",
       "      <td>Woven</td>\n",
       "    </tr>\n",
       "    <tr>\n",
       "      <th>1</th>\n",
       "      <td>Crepe</td>\n",
       "      <td>Woven</td>\n",
       "    </tr>\n",
       "    <tr>\n",
       "      <th>2</th>\n",
       "      <td>Poly Silk</td>\n",
       "      <td>Woven</td>\n",
       "    </tr>\n",
       "    <tr>\n",
       "      <th>3</th>\n",
       "      <td>Poly Georgette</td>\n",
       "      <td>Woven</td>\n",
       "    </tr>\n",
       "    <tr>\n",
       "      <th>4</th>\n",
       "      <td>Art Silk</td>\n",
       "      <td>Woven</td>\n",
       "    </tr>\n",
       "    <tr>\n",
       "      <th>5</th>\n",
       "      <td>Leather</td>\n",
       "      <td>Woven</td>\n",
       "    </tr>\n",
       "    <tr>\n",
       "      <th>6</th>\n",
       "      <td>Regular</td>\n",
       "      <td>Woven</td>\n",
       "    </tr>\n",
       "    <tr>\n",
       "      <th>7</th>\n",
       "      <td>Net</td>\n",
       "      <td>Woven</td>\n",
       "    </tr>\n",
       "    <tr>\n",
       "      <th>8</th>\n",
       "      <td>Silk Chiffon</td>\n",
       "      <td>Woven</td>\n",
       "    </tr>\n",
       "    <tr>\n",
       "      <th>9</th>\n",
       "      <td>Cotton Silk</td>\n",
       "      <td>Woven</td>\n",
       "    </tr>\n",
       "    <tr>\n",
       "      <th>10</th>\n",
       "      <td>Velvet</td>\n",
       "      <td>Woven</td>\n",
       "    </tr>\n",
       "    <tr>\n",
       "      <th>11</th>\n",
       "      <td>Poly Chanderi</td>\n",
       "      <td>Woven</td>\n",
       "    </tr>\n",
       "    <tr>\n",
       "      <th>12</th>\n",
       "      <td>Pure Silk</td>\n",
       "      <td>Woven</td>\n",
       "    </tr>\n",
       "    <tr>\n",
       "      <th>13</th>\n",
       "      <td>Chiffon</td>\n",
       "      <td>Woven</td>\n",
       "    </tr>\n",
       "    <tr>\n",
       "      <th>14</th>\n",
       "      <td>Chanderi Cotton</td>\n",
       "      <td>Woven</td>\n",
       "    </tr>\n",
       "    <tr>\n",
       "      <th>15</th>\n",
       "      <td>Faux Fur</td>\n",
       "      <td>Woven</td>\n",
       "    </tr>\n",
       "    <tr>\n",
       "      <th>16</th>\n",
       "      <td>Pure Georgette</td>\n",
       "      <td>Woven</td>\n",
       "    </tr>\n",
       "    <tr>\n",
       "      <th>17</th>\n",
       "      <td>Chanderi Silk</td>\n",
       "      <td>Woven</td>\n",
       "    </tr>\n",
       "    <tr>\n",
       "      <th>18</th>\n",
       "      <td>Synthetic Leather</td>\n",
       "      <td>Woven</td>\n",
       "    </tr>\n",
       "    <tr>\n",
       "      <th>19</th>\n",
       "      <td>Silk Georgette</td>\n",
       "      <td>Woven</td>\n",
       "    </tr>\n",
       "    <tr>\n",
       "      <th>20</th>\n",
       "      <td>Dupion Silk</td>\n",
       "      <td>Woven</td>\n",
       "    </tr>\n",
       "    <tr>\n",
       "      <th>21</th>\n",
       "      <td>Pure Crepe</td>\n",
       "      <td>Woven</td>\n",
       "    </tr>\n",
       "    <tr>\n",
       "      <th>22</th>\n",
       "      <td>Poly Chiffon</td>\n",
       "      <td>Woven</td>\n",
       "    </tr>\n",
       "    <tr>\n",
       "      <th>23</th>\n",
       "      <td>Voile</td>\n",
       "      <td>Woven</td>\n",
       "    </tr>\n",
       "    <tr>\n",
       "      <th>24</th>\n",
       "      <td>Hemp</td>\n",
       "      <td>Woven</td>\n",
       "    </tr>\n",
       "    <tr>\n",
       "      <th>25</th>\n",
       "      <td>Livaeco</td>\n",
       "      <td>Woven</td>\n",
       "    </tr>\n",
       "  </tbody>\n",
       "</table>\n",
       "</div>"
      ],
      "text/plain": [
       "               Fabric  weave\n",
       "0          Poly Crepe  Woven\n",
       "1               Crepe  Woven\n",
       "2           Poly Silk  Woven\n",
       "3      Poly Georgette  Woven\n",
       "4            Art Silk  Woven\n",
       "5             Leather  Woven\n",
       "6             Regular  Woven\n",
       "7                 Net  Woven\n",
       "8        Silk Chiffon  Woven\n",
       "9         Cotton Silk  Woven\n",
       "10             Velvet  Woven\n",
       "11      Poly Chanderi  Woven\n",
       "12          Pure Silk  Woven\n",
       "13            Chiffon  Woven\n",
       "14    Chanderi Cotton  Woven\n",
       "15           Faux Fur  Woven\n",
       "16     Pure Georgette  Woven\n",
       "17      Chanderi Silk  Woven\n",
       "18  Synthetic Leather  Woven\n",
       "19     Silk Georgette  Woven\n",
       "20        Dupion Silk  Woven\n",
       "21         Pure Crepe  Woven\n",
       "22       Poly Chiffon  Woven\n",
       "23              Voile  Woven\n",
       "24               Hemp  Woven\n",
       "25            Livaeco  Woven"
      ]
     },
     "execution_count": 81,
     "metadata": {},
     "output_type": "execute_result"
    }
   ],
   "source": [
    "fabrics_weave"
   ]
  },
  {
   "cell_type": "code",
   "execution_count": 82,
   "id": "94e2158e",
   "metadata": {},
   "outputs": [
    {
     "data": {
      "text/html": [
       "<div>\n",
       "<style scoped>\n",
       "    .dataframe tbody tr th:only-of-type {\n",
       "        vertical-align: middle;\n",
       "    }\n",
       "\n",
       "    .dataframe tbody tr th {\n",
       "        vertical-align: top;\n",
       "    }\n",
       "\n",
       "    .dataframe thead th {\n",
       "        text-align: right;\n",
       "    }\n",
       "</style>\n",
       "<table border=\"1\" class=\"dataframe\">\n",
       "  <thead>\n",
       "    <tr style=\"text-align: right;\">\n",
       "      <th></th>\n",
       "      <th>Fabric</th>\n",
       "      <th>weave</th>\n",
       "    </tr>\n",
       "  </thead>\n",
       "  <tbody>\n",
       "    <tr>\n",
       "      <th>0</th>\n",
       "      <td>Poly Crepe</td>\n",
       "      <td>Woven</td>\n",
       "    </tr>\n",
       "    <tr>\n",
       "      <th>1</th>\n",
       "      <td>Crepe</td>\n",
       "      <td>Woven</td>\n",
       "    </tr>\n",
       "    <tr>\n",
       "      <th>2</th>\n",
       "      <td>Poly Silk</td>\n",
       "      <td>Woven</td>\n",
       "    </tr>\n",
       "    <tr>\n",
       "      <th>3</th>\n",
       "      <td>Poly Georgette</td>\n",
       "      <td>Woven</td>\n",
       "    </tr>\n",
       "    <tr>\n",
       "      <th>4</th>\n",
       "      <td>Art Silk</td>\n",
       "      <td>Woven</td>\n",
       "    </tr>\n",
       "    <tr>\n",
       "      <th>5</th>\n",
       "      <td>Leather</td>\n",
       "      <td>Woven</td>\n",
       "    </tr>\n",
       "    <tr>\n",
       "      <th>6</th>\n",
       "      <td>Regular</td>\n",
       "      <td>Woven</td>\n",
       "    </tr>\n",
       "    <tr>\n",
       "      <th>7</th>\n",
       "      <td>Net</td>\n",
       "      <td>Woven</td>\n",
       "    </tr>\n",
       "    <tr>\n",
       "      <th>8</th>\n",
       "      <td>Silk Chiffon</td>\n",
       "      <td>Woven</td>\n",
       "    </tr>\n",
       "    <tr>\n",
       "      <th>9</th>\n",
       "      <td>Cotton Silk</td>\n",
       "      <td>Woven</td>\n",
       "    </tr>\n",
       "    <tr>\n",
       "      <th>10</th>\n",
       "      <td>Velvet</td>\n",
       "      <td>Woven</td>\n",
       "    </tr>\n",
       "    <tr>\n",
       "      <th>11</th>\n",
       "      <td>Poly Chanderi</td>\n",
       "      <td>Woven</td>\n",
       "    </tr>\n",
       "    <tr>\n",
       "      <th>12</th>\n",
       "      <td>Pure Silk</td>\n",
       "      <td>Woven</td>\n",
       "    </tr>\n",
       "    <tr>\n",
       "      <th>13</th>\n",
       "      <td>Chiffon</td>\n",
       "      <td>Woven</td>\n",
       "    </tr>\n",
       "    <tr>\n",
       "      <th>14</th>\n",
       "      <td>Chanderi Cotton</td>\n",
       "      <td>Woven</td>\n",
       "    </tr>\n",
       "    <tr>\n",
       "      <th>15</th>\n",
       "      <td>Faux Fur</td>\n",
       "      <td>Woven</td>\n",
       "    </tr>\n",
       "    <tr>\n",
       "      <th>16</th>\n",
       "      <td>Pure Georgette</td>\n",
       "      <td>Woven</td>\n",
       "    </tr>\n",
       "    <tr>\n",
       "      <th>17</th>\n",
       "      <td>Chanderi Silk</td>\n",
       "      <td>Woven</td>\n",
       "    </tr>\n",
       "    <tr>\n",
       "      <th>18</th>\n",
       "      <td>Synthetic Leather</td>\n",
       "      <td>Woven</td>\n",
       "    </tr>\n",
       "    <tr>\n",
       "      <th>19</th>\n",
       "      <td>Silk Georgette</td>\n",
       "      <td>Woven</td>\n",
       "    </tr>\n",
       "    <tr>\n",
       "      <th>20</th>\n",
       "      <td>Dupion Silk</td>\n",
       "      <td>Woven</td>\n",
       "    </tr>\n",
       "    <tr>\n",
       "      <th>21</th>\n",
       "      <td>Pure Crepe</td>\n",
       "      <td>Woven</td>\n",
       "    </tr>\n",
       "    <tr>\n",
       "      <th>22</th>\n",
       "      <td>Poly Chiffon</td>\n",
       "      <td>Woven</td>\n",
       "    </tr>\n",
       "    <tr>\n",
       "      <th>23</th>\n",
       "      <td>Voile</td>\n",
       "      <td>Woven</td>\n",
       "    </tr>\n",
       "    <tr>\n",
       "      <th>24</th>\n",
       "      <td>Hemp</td>\n",
       "      <td>Woven</td>\n",
       "    </tr>\n",
       "    <tr>\n",
       "      <th>25</th>\n",
       "      <td>Livaeco</td>\n",
       "      <td>Woven</td>\n",
       "    </tr>\n",
       "    <tr>\n",
       "      <th>26</th>\n",
       "      <td>Scuba</td>\n",
       "      <td>Knitted</td>\n",
       "    </tr>\n",
       "    <tr>\n",
       "      <th>27</th>\n",
       "      <td>Velour</td>\n",
       "      <td>Knitted</td>\n",
       "    </tr>\n",
       "    <tr>\n",
       "      <th>28</th>\n",
       "      <td>Cotton</td>\n",
       "      <td>Knitted and Woven</td>\n",
       "    </tr>\n",
       "    <tr>\n",
       "      <th>29</th>\n",
       "      <td>Polyester</td>\n",
       "      <td>Knitted and Woven</td>\n",
       "    </tr>\n",
       "    <tr>\n",
       "      <th>30</th>\n",
       "      <td>Denim</td>\n",
       "      <td>Knitted and Woven</td>\n",
       "    </tr>\n",
       "    <tr>\n",
       "      <th>31</th>\n",
       "      <td>Pure Cotton</td>\n",
       "      <td>Knitted and Woven</td>\n",
       "    </tr>\n",
       "    <tr>\n",
       "      <th>32</th>\n",
       "      <td>Cotton Blend</td>\n",
       "      <td>Knitted and Woven</td>\n",
       "    </tr>\n",
       "    <tr>\n",
       "      <th>33</th>\n",
       "      <td>Viscose Rayon</td>\n",
       "      <td>Knitted and Woven</td>\n",
       "    </tr>\n",
       "    <tr>\n",
       "      <th>34</th>\n",
       "      <td>Fleece</td>\n",
       "      <td>Knitted and Woven</td>\n",
       "    </tr>\n",
       "    <tr>\n",
       "      <th>35</th>\n",
       "      <td>Acrylic</td>\n",
       "      <td>Knitted and Woven</td>\n",
       "    </tr>\n",
       "    <tr>\n",
       "      <th>36</th>\n",
       "      <td>Linen</td>\n",
       "      <td>Knitted and Woven</td>\n",
       "    </tr>\n",
       "    <tr>\n",
       "      <th>37</th>\n",
       "      <td>Nylon</td>\n",
       "      <td>Knitted and Woven</td>\n",
       "    </tr>\n",
       "    <tr>\n",
       "      <th>38</th>\n",
       "      <td>Wool</td>\n",
       "      <td>Knitted and Woven</td>\n",
       "    </tr>\n",
       "    <tr>\n",
       "      <th>39</th>\n",
       "      <td>PU</td>\n",
       "      <td>Knitted and Woven</td>\n",
       "    </tr>\n",
       "    <tr>\n",
       "      <th>40</th>\n",
       "      <td>Silk Blend</td>\n",
       "      <td>Knitted and Woven</td>\n",
       "    </tr>\n",
       "    <tr>\n",
       "      <th>41</th>\n",
       "      <td>Modal</td>\n",
       "      <td>Knitted and Woven</td>\n",
       "    </tr>\n",
       "    <tr>\n",
       "      <th>42</th>\n",
       "      <td>Polycotton</td>\n",
       "      <td>Knitted and Woven</td>\n",
       "    </tr>\n",
       "    <tr>\n",
       "      <th>43</th>\n",
       "      <td>Organic Cotton</td>\n",
       "      <td>Knitted and Woven</td>\n",
       "    </tr>\n",
       "    <tr>\n",
       "      <th>44</th>\n",
       "      <td>Georgette</td>\n",
       "      <td>Knitted and Woven</td>\n",
       "    </tr>\n",
       "    <tr>\n",
       "      <th>45</th>\n",
       "      <td>Satin</td>\n",
       "      <td>Knitted and Woven</td>\n",
       "    </tr>\n",
       "    <tr>\n",
       "      <th>46</th>\n",
       "      <td>Silk</td>\n",
       "      <td>Knitted and Woven</td>\n",
       "    </tr>\n",
       "    <tr>\n",
       "      <th>47</th>\n",
       "      <td>Jacquard</td>\n",
       "      <td>Knitted and Woven</td>\n",
       "    </tr>\n",
       "    <tr>\n",
       "      <th>48</th>\n",
       "      <td>Suede</td>\n",
       "      <td>Knitted and Woven</td>\n",
       "    </tr>\n",
       "    <tr>\n",
       "      <th>49</th>\n",
       "      <td>Liva</td>\n",
       "      <td>Knitted and Woven</td>\n",
       "    </tr>\n",
       "    <tr>\n",
       "      <th>50</th>\n",
       "      <td>Corduroy</td>\n",
       "      <td>Knitted and Woven</td>\n",
       "    </tr>\n",
       "    <tr>\n",
       "      <th>51</th>\n",
       "      <td>Polyester PU Coated</td>\n",
       "      <td>Knitted and Woven</td>\n",
       "    </tr>\n",
       "  </tbody>\n",
       "</table>\n",
       "</div>"
      ],
      "text/plain": [
       "                 Fabric              weave\n",
       "0            Poly Crepe              Woven\n",
       "1                 Crepe              Woven\n",
       "2             Poly Silk              Woven\n",
       "3        Poly Georgette              Woven\n",
       "4              Art Silk              Woven\n",
       "5               Leather              Woven\n",
       "6               Regular              Woven\n",
       "7                   Net              Woven\n",
       "8          Silk Chiffon              Woven\n",
       "9           Cotton Silk              Woven\n",
       "10               Velvet              Woven\n",
       "11        Poly Chanderi              Woven\n",
       "12            Pure Silk              Woven\n",
       "13              Chiffon              Woven\n",
       "14      Chanderi Cotton              Woven\n",
       "15             Faux Fur              Woven\n",
       "16       Pure Georgette              Woven\n",
       "17        Chanderi Silk              Woven\n",
       "18    Synthetic Leather              Woven\n",
       "19       Silk Georgette              Woven\n",
       "20          Dupion Silk              Woven\n",
       "21           Pure Crepe              Woven\n",
       "22         Poly Chiffon              Woven\n",
       "23                Voile              Woven\n",
       "24                 Hemp              Woven\n",
       "25              Livaeco              Woven\n",
       "26                Scuba            Knitted\n",
       "27               Velour            Knitted\n",
       "28               Cotton  Knitted and Woven\n",
       "29            Polyester  Knitted and Woven\n",
       "30                Denim  Knitted and Woven\n",
       "31          Pure Cotton  Knitted and Woven\n",
       "32         Cotton Blend  Knitted and Woven\n",
       "33        Viscose Rayon  Knitted and Woven\n",
       "34               Fleece  Knitted and Woven\n",
       "35              Acrylic  Knitted and Woven\n",
       "36                Linen  Knitted and Woven\n",
       "37                Nylon  Knitted and Woven\n",
       "38                 Wool  Knitted and Woven\n",
       "39                   PU  Knitted and Woven\n",
       "40           Silk Blend  Knitted and Woven\n",
       "41                Modal  Knitted and Woven\n",
       "42           Polycotton  Knitted and Woven\n",
       "43       Organic Cotton  Knitted and Woven\n",
       "44            Georgette  Knitted and Woven\n",
       "45                Satin  Knitted and Woven\n",
       "46                 Silk  Knitted and Woven\n",
       "47             Jacquard  Knitted and Woven\n",
       "48                Suede  Knitted and Woven\n",
       "49                 Liva  Knitted and Woven\n",
       "50             Corduroy  Knitted and Woven\n",
       "51  Polyester PU Coated  Knitted and Woven"
      ]
     },
     "execution_count": 82,
     "metadata": {},
     "output_type": "execute_result"
    }
   ],
   "source": [
    "fabric_weave_type = sqldf(\"select * from fabrics_weave union all select * from fabrics_knit union all select * from both_fabrics\")\n",
    "fabric_weave_type"
   ]
  },
  {
   "cell_type": "code",
   "execution_count": 83,
   "id": "1e418400",
   "metadata": {},
   "outputs": [],
   "source": [
    "fashion_dataset = sqldf(\"select fashion_dataset.*, fabric_weave_type.weave from fashion_dataset left join fabric_weave_type on (fabric_weave_type.Fabric=fashion_dataset.Fabric)\")"
   ]
  },
  {
   "cell_type": "code",
   "execution_count": 84,
   "id": "1fe0c5ed",
   "metadata": {},
   "outputs": [],
   "source": [
    "fashion_dataset['Knit_or_Woven'] = fashion_dataset['Knit_or_Woven'].combine_first(fashion_dataset['weave'])"
   ]
  },
  {
   "cell_type": "code",
   "execution_count": 85,
   "id": "1f38cdf2",
   "metadata": {
    "scrolled": true
   },
   "outputs": [
    {
     "data": {
      "text/plain": [
       "509"
      ]
     },
     "execution_count": 85,
     "metadata": {},
     "output_type": "execute_result"
    }
   ],
   "source": [
    "fashion_dataset['Knit_or_Woven'].isna().sum()"
   ]
  },
  {
   "cell_type": "markdown",
   "id": "27975b8f",
   "metadata": {},
   "source": [
    "### Filling Occasion"
   ]
  },
  {
   "cell_type": "code",
   "execution_count": 97,
   "id": "04cbffd2",
   "metadata": {},
   "outputs": [
    {
     "data": {
      "text/plain": [
       "1047"
      ]
     },
     "execution_count": 97,
     "metadata": {},
     "output_type": "execute_result"
    }
   ],
   "source": [
    "fashion_dataset['Occasion'].isna().sum()"
   ]
  },
  {
   "cell_type": "code",
   "execution_count": 86,
   "id": "1a544ac0",
   "metadata": {},
   "outputs": [
    {
     "data": {
      "text/plain": [
       "array(['Daily', 'Casual', None, 'Party', 'Festive', 'Formal', 'Ethnic',\n",
       "       'Fusion', 'Traditional', 'Western', 'Sports', 'Work', 'Outdoor',\n",
       "       'Maternity'], dtype=object)"
      ]
     },
     "execution_count": 86,
     "metadata": {},
     "output_type": "execute_result"
    }
   ],
   "source": [
    "pd.unique(fashion_dataset['Occasion'])"
   ]
  },
  {
   "cell_type": "code",
   "execution_count": 87,
   "id": "4d98b368",
   "metadata": {},
   "outputs": [
    {
     "data": {
      "text/plain": [
       "array([None, 'Look a cut above the rest at wedding festivities',\n",
       "       'Ideal for daily or office wear', 'Fun weekends with friends',\n",
       "       \"Look stylish at your bestie's wedding party\",\n",
       "       'A weekend escape with friends',\n",
       "       'A graceful look for a small family function',\n",
       "       'Wedding, Party, Engagement, Reception, Haldi, Mehandi Occasion',\n",
       "       'Wear it to a fun weekend party', 'Wedding',\n",
       "       \"Enjoy your sister's housewarming\",\n",
       "       'This Lengha Choli Set Can Be wear at Home For Small Function ,Get Together ,At Different Festivals &amp; In Party .',\n",
       "       'Wear to fun destination weddings',\n",
       "       'Casual, parties, regular, holiays, night out, work wear, formal, holidays',\n",
       "       'Ideal to wear to a high-tea party with friends',\n",
       "       'Ideal for a Saturday night outing', '',\n",
       "       'Look gorgeous driving down to the beach',\n",
       "       \"Ideal for spending a relaxed day at your friend's wedding festivities\",\n",
       "       'Casual Fridays at work or lunch with friends',\n",
       "       'Look classy at your lunch date', 'partywear',\n",
       "       'Casual weekend outings', 'Ideal for a festive party',\n",
       "       'Perfect for the upcoming festivities',\n",
       "       'For a chill-out weekend with friends',\n",
       "       \"Visit your friend's place for a family function\", 'fusion',\n",
       "       'Go dancing with your besties',\n",
       "       'Jazz up a fun family get-together', 'party,wedding',\n",
       "       'party, casual, semi-formal', 'Versatile for an engagement party',\n",
       "       'casual day', 'party wear', 'Host a small gathering at home',\n",
       "       'Go window shopping with your bestie',\n",
       "       \"Perfect for your bestie's wedding reception\",\n",
       "       'Party, festive events, wedding, social gathering',\n",
       "       \"Wear for your bestie's sangeet get-together\",\n",
       "       'Casual weekends out with friends',\n",
       "       'Engagement, Weddings, Sangeet and Haldi Ceremonies, Festivals, Valentine, Parties, Beauty &amp; Family Functions.',\n",
       "       'Wedding Wear , Engagement Ceremony , Wedding Function , Party Wear , Festive Wear',\n",
       "       'collage:function:marriage:outting:night:day:outdoor,parties ,dates, outting,business,temple, etc',\n",
       "       'Wedding &amp; Party',\n",
       "       'Pamper yourself with a shopping spree at the mall', 'casual',\n",
       "       'Visit the mall with your squad',\n",
       "       'Perfect pick for a vacation with friends or family',\n",
       "       \"Spice things up when you're having brunch with the gals\",\n",
       "       'Occasion: Casual and Ethnic Wear',\n",
       "       'Wear it at any casual function', 'parties and festival',\n",
       "       'Fitting for a visit to the beach',\n",
       "       'Enjoy coffee dates with your partner', 'Run errands in style',\n",
       "       'Stand out at any wedding reception', 'Weddding',\n",
       "       'Perfect for casual day-time meetings',\n",
       "       'Step out to party with the gang',\n",
       "       'Perfect for a lunch or a coffee date',\n",
       "       'Ideal for a late-night stroll',\n",
       "       'Ideal for a chilled out evening with besties',\n",
       "       'Visit your kittly party group',\n",
       "       'Perfect for a fun weekend with friends',\n",
       "       'Keep things casual on a coffee date',\n",
       "       'wear this saree at party, wedding and ceremony',\n",
       "       'Hang out at your favourite shack by the beach',\n",
       "       'this skirt from the house of neudis looks classy and stands out. feel comfortable and confident with the soft yet luxurious feel of polyester which comes tassel details at the waist. looks great when paired with a plain, textured, or a printed top',\n",
       "       'Perfect for any family outing',\n",
       "       'Make your movie date at the multiplex more special',\n",
       "       'Attend wedding festivities in style', 'For a hike with friends',\n",
       "       'Fashion,Party Wear &amp; Function Wear &amp; Wedding Wear to Cloth',\n",
       "       'Perfect for travelling with besties',\n",
       "       'Perfect for a movie outing with gals',\n",
       "       'Wear this ensemble to work everyday',\n",
       "       \"this pretty shrug by unaone is a piece that can be easily worn when you're in a rush and still look fab.\",\n",
       "       'Perfect for an outing with friends.',\n",
       "       'Ideal for a haldi ceremony', 'ethnic occasion/ party',\n",
       "       'casual, parties, regular, holiays, night out, work wear',\n",
       "       'Evening', 'Wear to a kitty party function',\n",
       "       'Enjoy an evening party',\n",
       "       'Ideal for spending a weekend with your besties',\n",
       "       'Stay comfortable at the movies', 'Party, Casual, Semi-Formal',\n",
       "       'Rock a weekend coffee date', 'Attend a puja ceremony with family',\n",
       "       'Hang out with friends at the mall',\n",
       "       'Go on a shopping spree at the mall',\n",
       "       'A fun Saturday out with besties',\n",
       "       'Perfect for a bachelorette party',\n",
       "       'casual &amp; formal, parties &amp; functions, events &amp; festivals, dates &amp; brunches &amp; good for all occasion',\n",
       "       'Perfect for a lunch date with the gals', 'Party &amp; Festive',\n",
       "       'Bring delight to festive celebrations',\n",
       "       'For shopping sprees at the mall',\n",
       "       'Impress the crowd at a wedding reception',\n",
       "       'Ideal to wear to a traditional family ritual', 'weddings',\n",
       "       'Perfect to wear to a kitty party',\n",
       "       'Ideal to meet and greet your family at wedding functions',\n",
       "       'Ideal for a date night with friends',\n",
       "       'Fitting for last-minute excursions',\n",
       "       'Catch up with your colleagues outside work',\n",
       "       'Ideal for a casual brunch or lunch date', 'casual/ethnic',\n",
       "       'Look stylish at a family wedding',\n",
       "       'Ideal for an engagement party or a sangeet',\n",
       "       'Ideal for a brunch with your family',\n",
       "       'Make brunch more comfortable and stylish',\n",
       "       'Perfect for a birthday celebration',\n",
       "       'Ideal for a housewarming puja at home', 'Slay the weekend look',\n",
       "       'Be the showstopper of the event when you wear this fashionable saree. This gorgeous saree features a solid pattern and velvet blouse piece to take your look to another level.',\n",
       "       'Ideal for spending a day with the girls',\n",
       "       'Enjoy a fun road trip with friends',\n",
       "       'Turn heads on the dance floor',\n",
       "       'Ideal for coffee, lunch, or brunch dates',\n",
       "       'Add flair to your look on any casual outing',\n",
       "       'Works for coffee, lunch or brunch dates', 'Party',\n",
       "       'Brunch with the girls', 'Ideal for date night at the restaurant',\n",
       "       'party', 'shopping', 'Ideal for a stroll around town',\n",
       "       'Fitting for a movie night out with friends',\n",
       "       'Catch lunch at a bistro with friends',\n",
       "       'Look stylish singing karaoke at the club', 'date or dinner night',\n",
       "       'casual, party, festive, traditional, work, wedding',\n",
       "       'casual meetings with friends or your next coffee date!',\n",
       "       'casual wear', 'fusion/ethnic', 'party,festive,traditional',\n",
       "       'Party Wear, Bridemaids, Ceremonial',\n",
       "       'Go for your morning jog in style',\n",
       "       'Visit the mall on a summer afternoon',\n",
       "       'ocassion:festive &amp; party', 'Enjoy a fun weekend with friends',\n",
       "       'traditional', 'On a casual trip with family or friends',\n",
       "       'you can wear this saree in daily wear', 'Grace a haldi ceremony',\n",
       "       'Wedding, Ceremony, Family Function, Party Wear',\n",
       "       'party,festival, wedding,etc', 'Casual', 'casual,party',\n",
       "       'Perfect for a fun weekend getaway',\n",
       "       'casual,formal,party,wedding,daily,festival',\n",
       "       'Party &amp; Wedding', 'Step out in comfort to do your chores',\n",
       "       'ofice, home, shoping', 'Grab a cup of coffee with your friends',\n",
       "       'office/daily/home/parti', 'Ideal for stepping out to run errands',\n",
       "       'For a memorable outing with besties',\n",
       "       'Party, Festive, Hangout, Occasion, Get-together',\n",
       "       'Look beautiful at a brunch date with your bestie',\n",
       "       'Chill at the beach with the gang',\n",
       "       'Add class to a weekend outing with friends',\n",
       "       'Enjoy a coffe date with your partner',\n",
       "       'college, evening outerwear, vacation',\n",
       "       'Party Wear, Function Wear, Casual Wear',\n",
       "       'Make a boat ride with your date classier',\n",
       "       'Perfect for a weekend outing with colleagues',\n",
       "       'this party wear saree from liberty lifestyle is sure to make you the centre of attention at any social gathering.',\n",
       "       'At a semi-formal gathering with colleagues',\n",
       "       'Look beautiful at a baby shower',\n",
       "       'Just what you need for a road trip with the gang',\n",
       "       'wear this jumpsuit with stylish sports shoes.',\n",
       "       'Meet friends for a brunch date',\n",
       "       'Prep your look for weekend brunch',\n",
       "       'Go out for a low-key lunch with the gals',\n",
       "       'Relax at home in style',\n",
       "       'Perfect to catch up with family over brunch',\n",
       "       'Fitting for a laid-back evening with your pals',\n",
       "       'Wedding, Party ,Festive,Ceremony, Engagment',\n",
       "       'Wedding,Festival And Party, Haldi Ceremony , Ring Ceremony',\n",
       "       'This top-of-the-line jacket from armure is comfortable and easy to layer. Stay warm while heading out to the city with friends this weekend in this piece.',\n",
       "       'where-to-wear',\n",
       "       'casual, formal, official, parties, festivals &amp; events, holidays, lunch &amp; dinner, dates',\n",
       "       \"perfect for evening wear/dress shrug, dance/choir performances, halloween costume, club, night out, casual wear and so on. and this sequin shrug for women also can be used as gift for mother's day, birthday, holiday or other special day, anniversary. shinny and cute shrug, make you shine at night and stand out from the crowd.\",\n",
       "       'Wedding, Party, Engagement',\n",
       "       'Party wear, Casual wear, Marrige Function, Festival',\n",
       "       'casual, official, formal, parties, lunch &amp; dinner, holidays, regular',\n",
       "       'summer wear', \"Look beautiful at your best friend's wedding\",\n",
       "       'Perfect for a round of drinks with your besties',\n",
       "       'Ideal for daily wear', 'Perfect for a pre-wedding photoshoot',\n",
       "       'wrap up the look with a pair of slippers, sandals and shoes.',\n",
       "       \"Wear it to your best friend's wedding party\",\n",
       "       'A fun day out with the gals', 'Shopping with friends',\n",
       "       'This Crop Top &amp; Skirt Set Can Be wear at Home For Small Function ,Get Together ,At Different Festivals &amp; In Party .',\n",
       "       'Ideal for gracing a wedding function',\n",
       "       'Turn heads at the next occasion or special event by donning this chic saree. The eye-catching solid pattern and solid border of this saree will add to your beauty.',\n",
       "       'outdoor', 'Casual lunches or coffee dates',\n",
       "       'Ideal for a walk along the shore', 'office,home',\n",
       "       'Perfect to wear for a temple visit',\n",
       "       'these can be wear at home, in park while playing &amp; everywhere .',\n",
       "       'Perfect for grabbing coffee with your colleagues on a weekend',\n",
       "       'these can be wear at birthday party ,fuctions, at home &amp; in parks',\n",
       "       'Family lunches or house visits', 'Wear it at a party',\n",
       "       'Connect with your long-lost buddies at brunch',\n",
       "       'semi casual wear', 'Perfect for an impromptu weekend plan',\n",
       "       'Bond with your colleagues over lunch or early drinks',\n",
       "       'HNK-17905-XS', 'While chilling with your buddies at a cafe',\n",
       "       'Pep up breakfast or coffee dates',\n",
       "       'A classy pick for coffee or brunch', 'office, home, market',\n",
       "       'Wedding Party &amp; Festivals',\n",
       "       'wedding, party, engagement, reception, haldi, mehandi occasion',\n",
       "       'with this must-have top from neudis you can set your tone for the season. put on this piece with a pair of dark, slim jeans and neutral pump heel for a casual but sophisticated date ensemble.',\n",
       "       'Ideal for a date night at a restaurant',\n",
       "       'An ideal choice for a day-time reception',\n",
       "       'Dine out with your long-lost gals',\n",
       "       'this solid jumpsuit from neudis is just perfect for a day out with friends when you want to look fashion-focused while keeping a relaxed style.',\n",
       "       'Go to the beach with your squad', 'A quick run to the market',\n",
       "       'The perfect wear for traditional wedding functions',\n",
       "       'Bring ease and comfort to badminton and other games at the park',\n",
       "       'Ideal for brunch with the squad',\n",
       "       'wedding, Party, sangeet,Reception',\n",
       "       'Stroll around the city with friends',\n",
       "       'Catch up with your BFFs at your favourite hangout in the city',\n",
       "       'party,wedding, anniversary,etc', 'Rock the weekend party look',\n",
       "       'top', \"Grace your bestie's birthday party\",\n",
       "       'party wear sarees , get together, wedding wear sarees , simple sari , etc',\n",
       "       'Wear it while running casual errands',\n",
       "       'hiking, climbing, ski, snow sports, casual lifestyle',\n",
       "       'Grab coffee or lunch with friends', 'festive, casual',\n",
       "       'Ideal for a fun photo session with the gang',\n",
       "       'Get ready for your next fancy soiree with the girls',\n",
       "       'Fitting for a much-awaited staycation',\n",
       "       'Your birthday party will become more exciting',\n",
       "       'Wedding, Party, Cocktail, Festival', 'Occasionally',\n",
       "       'hiking, ski, snow sports, casual lifestyle',\n",
       "       'Attend a family party in style', 'Look stylish for a work party',\n",
       "       'Perfect for puja at home', 'Parties and Festival',\n",
       "       'Look stylish at a baby shower',\n",
       "       'A relaxed afternoon lunch date with besties',\n",
       "       'Wear this to an outing with pals',\n",
       "       'Ideal for a relaxing weekend outing',\n",
       "       'Enjoy a visit to the temple with family',\n",
       "       'Ideal for a fun outing with your besties',\n",
       "       \"Fitting for a festive get-together at a friend's place\",\n",
       "       'Weddings, Bridesmaids, Cocktail, Festive',\n",
       "       'A lovely option for wedding receptions',\n",
       "       'laasa parallel pants are perfect for party or on special ocaasions.',\n",
       "       \"Perfect for your friend's sangeet\",\n",
       "       'Make your vacation outing stylish',\n",
       "       'Attend a festive occasion at work',\n",
       "       'party,wedding,ethnic,evening,casual', 'Ideal for a beach outing',\n",
       "       'Part &amp; Wedding', 'Chilled out evening with friends',\n",
       "       'photoshoot,birthday parties',\n",
       "       'wedding, parywear, traditional, festival',\n",
       "       'Perfect for any wedding function', 'use in casual and western',\n",
       "       'Go camping for a weekend', 'Ideal for a coffee meet with besties',\n",
       "       'Occasion: Making it both Ethnic Wear and stylish provides comfort all day while maintaining style.',\n",
       "       'Ethnic printed', 'casual, party,festive,traditional,work,wedding',\n",
       "       'A stunning pick for a lunch or evening date',\n",
       "       'Ideal for a visit to a coffee shop',\n",
       "       'Add class to your neat office avatar',\n",
       "       'Great pick for daily wear', 'Wear to a DJ night with friends',\n",
       "       'Perfect for a housewarming get-together',\n",
       "       'Slay the weekend brunch look', 'Perfect for an engagement party',\n",
       "       'Perfect for a 90s theme party', 'na',\n",
       "       'casual and formal wear, smart on ethnic kurtas and kurtis, western tops and tunics.',\n",
       "       'Ideal for an evening jog at the park',\n",
       "       'Wear it to an outing with your partner', 'party and cocktail',\n",
       "       'casual wear::home wear::daily wear', 'Party,Festivals,Wedding',\n",
       "       'Perfect for a lunch date with family',\n",
       "       'Sunday brunch with the girls',\n",
       "       'Fitting for a weekend dinner party', 'party, office',\n",
       "       'wedding, patrywear, traditional, festival',\n",
       "       'casual, daily, party, fusion wear', 'ethnic/casual',\n",
       "       \"comfortable yet stylish this trouser is a must have in your wardrobe for the days when you don't know what to wear. style this with chunky sneakers, a hoodie and backpack for a casual day out.\",\n",
       "       'Grab a bite with the family',\n",
       "       'Wear this with some bling for dinner and drinks',\n",
       "       'Perfect for a day out at the museum',\n",
       "       'Wear it to a festive office gathering',\n",
       "       'Rock a karaoke night with friends',\n",
       "       'Ideal for a festive get-together',\n",
       "       'Perfect for an evening Sangeet party',\n",
       "       'casual outings, day trips, date night',\n",
       "       'Attend a sangeet or cocktail party looking gorgeous',\n",
       "       'Perfect for an office meeting', 'casual outing',\n",
       "       'casual, party,festive,traditional,work', 'Evenings, Parties',\n",
       "       'All party functions', 'Casual Festivities', 'Daily',\n",
       "       'Party, Festivals, events, special occastions, engagements, weddings.',\n",
       "       'traditional,festive,ethnic,party',\n",
       "       'Perfect for a brunch outing with friends',\n",
       "       'Wedding::Party::Festivals',\n",
       "       'The ideal look for lunch with your family',\n",
       "       'Grab drinks with your friends at the local pub',\n",
       "       'with this must-have skirt from neudis take your style to the next level. a must-have wardrobe essential, this stylish skirt is sure to become your preferred choice in an instant.',\n",
       "       'Look stylish at your workplace', 'office wear',\n",
       "       'Perfect for a visit to the temple', 'Occasions',\n",
       "       'Perfect for your next vacation',\n",
       "       'Party, Festival, Family Functions',\n",
       "       'Enjoy partying with family at the wedding',\n",
       "       'Look stylish at a wedding',\n",
       "       'Make your roka or engagement party special',\n",
       "       'Explore a new city in comfort',\n",
       "       'occasion- evening, festive and party wear',\n",
       "       'this outfit can be wear with a pair of sneakers ,sandals &amp; slippers',\n",
       "       \"Chill at your friend's place this weekend\",\n",
       "       'Perfect for a traditional day at work',\n",
       "       'Versatile for a religious function',\n",
       "       'Fitting to wear for a sangeet party',\n",
       "       'Look stunning at the club with friends',\n",
       "       'Enjoy a casual stroll in the park', 'gym, running, training',\n",
       "       'Any ware wear', 'Ideal for adventure sports',\n",
       "       'Look stunning at an outing with friends',\n",
       "       'casual, formal, parties &amp; function',\n",
       "       'casual, official, formal, holidays, parties &amp; functions, events &amp; festivals, hangout with friends, parties',\n",
       "       'For a coffee outing with pals', 'Party and Festival',\n",
       "       'daily wear',\n",
       "       'The perfect attire to wear to your office gatherings',\n",
       "       'this piece is a stylish option for a nice family function or event when teamed with a pair of classic flats or heels.',\n",
       "       'wedding, party',\n",
       "       'casual wear,formal wear,ethnic wear,party wear,smart casual wear,home wear',\n",
       "       'Festive occasions',\n",
       "       'this party wear saree from liberty lifestyle is sure to make you the centre of attention at any social gathering and any location.',\n",
       "       'Attend a housewarming puja', 'Impress your date at a restaurant',\n",
       "       'regular wear', 'Perfect for a weekend trip',\n",
       "       'college, party, outdoor', 'Fitting for a casual Friday outing',\n",
       "       'Impress your colleagues at work', 'Wear to family get-togethers',\n",
       "       'festive', 'office , college , events etc',\n",
       "       'Look beautiful at a roka', 'Rock any after-hours party',\n",
       "       'party,wedding,function',\n",
       "       'Chill with your partner at a coffee house', 'ethnic',\n",
       "       'Perfect for a late-night campfire', 'Ethnic Wear', 'festival',\n",
       "       'party,evening,ocassion',\n",
       "       'Walk in comfort and style at the local park',\n",
       "       'Set out to explore the town', 'Slay the airport look',\n",
       "       'party,casual',\n",
       "       'Party, Engagement, Diwali, Wedding, Cocktail, Festival, Wedding, Day Function',\n",
       "       'Party &amp; Festive &amp; Wedding',\n",
       "       \"Look stylish at your friend's sangeet\",\n",
       "       'shoulder to waist to toes', 'bottom',\n",
       "       'Suitable for a perfect airport look.',\n",
       "       'Get dressed for a casual first date at the coffee shop',\n",
       "       'On a spontaneous trip to the mall', 'Attend a sangeet party',\n",
       "       'home and outdoor', 'anywhere,indoor,outdoor',\n",
       "       'Wear with ethnic Essesories', 'casual, party, work',\n",
       "       'Festivce Occasions', 'Have fun at the movies with your friends',\n",
       "       'office wear, brunch, college, daily wear', 'office, dayout',\n",
       "       'Wrap Up The Look With A Pair Of Slippers, Sandals and Shoes.',\n",
       "       'Ideal for an outing with your besties', 'Jazz up a festive party'],\n",
       "      dtype=object)"
      ]
     },
     "execution_count": 87,
     "metadata": {},
     "output_type": "execute_result"
    }
   ],
   "source": [
    "pd.unique(fashion_dataset['Where_to_wear'])"
   ]
  },
  {
   "cell_type": "code",
   "execution_count": 88,
   "id": "a17fab23",
   "metadata": {},
   "outputs": [
    {
     "data": {
      "text/html": [
       "<div>\n",
       "<style scoped>\n",
       "    .dataframe tbody tr th:only-of-type {\n",
       "        vertical-align: middle;\n",
       "    }\n",
       "\n",
       "    .dataframe tbody tr th {\n",
       "        vertical-align: top;\n",
       "    }\n",
       "\n",
       "    .dataframe thead th {\n",
       "        text-align: right;\n",
       "    }\n",
       "</style>\n",
       "<table border=\"1\" class=\"dataframe\">\n",
       "  <thead>\n",
       "    <tr style=\"text-align: right;\">\n",
       "      <th></th>\n",
       "      <th>Where_to_wear</th>\n",
       "      <th>Occasion</th>\n",
       "    </tr>\n",
       "  </thead>\n",
       "  <tbody>\n",
       "    <tr>\n",
       "      <th>0</th>\n",
       "      <td>Ideal for daily or office wear</td>\n",
       "      <td>Party</td>\n",
       "    </tr>\n",
       "    <tr>\n",
       "      <th>1</th>\n",
       "      <td>Fun weekends with friends</td>\n",
       "      <td>Casual</td>\n",
       "    </tr>\n",
       "    <tr>\n",
       "      <th>2</th>\n",
       "      <td>A weekend escape with friends</td>\n",
       "      <td>Casual</td>\n",
       "    </tr>\n",
       "    <tr>\n",
       "      <th>3</th>\n",
       "      <td>A graceful look for a small family function</td>\n",
       "      <td>Party</td>\n",
       "    </tr>\n",
       "    <tr>\n",
       "      <th>4</th>\n",
       "      <td>Wear it to a fun weekend party</td>\n",
       "      <td>Casual</td>\n",
       "    </tr>\n",
       "    <tr>\n",
       "      <th>...</th>\n",
       "      <td>...</td>\n",
       "      <td>...</td>\n",
       "    </tr>\n",
       "    <tr>\n",
       "      <th>674</th>\n",
       "      <td>Ideal for a festive get-together</td>\n",
       "      <td>Party</td>\n",
       "    </tr>\n",
       "    <tr>\n",
       "      <th>675</th>\n",
       "      <td>Ideal for a visit to a coffee shop</td>\n",
       "      <td>Casual</td>\n",
       "    </tr>\n",
       "    <tr>\n",
       "      <th>676</th>\n",
       "      <td>Look beautiful at a roka</td>\n",
       "      <td>Party</td>\n",
       "    </tr>\n",
       "    <tr>\n",
       "      <th>677</th>\n",
       "      <td>Jazz up a festive party</td>\n",
       "      <td>Festive</td>\n",
       "    </tr>\n",
       "    <tr>\n",
       "      <th>678</th>\n",
       "      <td>Perfect for any family outing</td>\n",
       "      <td>Casual</td>\n",
       "    </tr>\n",
       "  </tbody>\n",
       "</table>\n",
       "<p>679 rows × 2 columns</p>\n",
       "</div>"
      ],
      "text/plain": [
       "                                   Where_to_wear Occasion\n",
       "0                 Ideal for daily or office wear    Party\n",
       "1                      Fun weekends with friends   Casual\n",
       "2                  A weekend escape with friends   Casual\n",
       "3    A graceful look for a small family function    Party\n",
       "4                 Wear it to a fun weekend party   Casual\n",
       "..                                           ...      ...\n",
       "674             Ideal for a festive get-together    Party\n",
       "675           Ideal for a visit to a coffee shop   Casual\n",
       "676                     Look beautiful at a roka    Party\n",
       "677                      Jazz up a festive party  Festive\n",
       "678                Perfect for any family outing   Casual\n",
       "\n",
       "[679 rows x 2 columns]"
      ]
     },
     "execution_count": 88,
     "metadata": {},
     "output_type": "execute_result"
    }
   ],
   "source": [
    "where_to = sqldf(\"select Where_to_wear, Occasion from fashion_dataset where Occasion is not null and Where_to_wear is not null\")\n",
    "where_to"
   ]
  },
  {
   "cell_type": "code",
   "execution_count": 89,
   "id": "b1ee45dd",
   "metadata": {},
   "outputs": [
    {
     "data": {
      "text/html": [
       "<div>\n",
       "<style scoped>\n",
       "    .dataframe tbody tr th:only-of-type {\n",
       "        vertical-align: middle;\n",
       "    }\n",
       "\n",
       "    .dataframe tbody tr th {\n",
       "        vertical-align: top;\n",
       "    }\n",
       "\n",
       "    .dataframe thead th {\n",
       "        text-align: right;\n",
       "    }\n",
       "</style>\n",
       "<table border=\"1\" class=\"dataframe\">\n",
       "  <thead>\n",
       "    <tr style=\"text-align: right;\">\n",
       "      <th></th>\n",
       "      <th>Where_to_wear</th>\n",
       "    </tr>\n",
       "  </thead>\n",
       "  <tbody>\n",
       "    <tr>\n",
       "      <th>0</th>\n",
       "      <td>None</td>\n",
       "    </tr>\n",
       "    <tr>\n",
       "      <th>1</th>\n",
       "      <td>Ideal for daily or office wear</td>\n",
       "    </tr>\n",
       "    <tr>\n",
       "      <th>2</th>\n",
       "      <td>Fun weekends with friends</td>\n",
       "    </tr>\n",
       "    <tr>\n",
       "      <th>3</th>\n",
       "      <td>A weekend escape with friends</td>\n",
       "    </tr>\n",
       "    <tr>\n",
       "      <th>4</th>\n",
       "      <td>A graceful look for a small family function</td>\n",
       "    </tr>\n",
       "    <tr>\n",
       "      <th>...</th>\n",
       "      <td>...</td>\n",
       "    </tr>\n",
       "    <tr>\n",
       "      <th>353</th>\n",
       "      <td>office, dayout</td>\n",
       "    </tr>\n",
       "    <tr>\n",
       "      <th>354</th>\n",
       "      <td>Wrap Up The Look With A Pair Of Slippers, Sand...</td>\n",
       "    </tr>\n",
       "    <tr>\n",
       "      <th>355</th>\n",
       "      <td>Ideal for an outing with your besties</td>\n",
       "    </tr>\n",
       "    <tr>\n",
       "      <th>356</th>\n",
       "      <td>Look beautiful at a roka</td>\n",
       "    </tr>\n",
       "    <tr>\n",
       "      <th>357</th>\n",
       "      <td>Jazz up a festive party</td>\n",
       "    </tr>\n",
       "  </tbody>\n",
       "</table>\n",
       "<p>358 rows × 1 columns</p>\n",
       "</div>"
      ],
      "text/plain": [
       "                                         Where_to_wear\n",
       "0                                                 None\n",
       "1                       Ideal for daily or office wear\n",
       "2                            Fun weekends with friends\n",
       "3                        A weekend escape with friends\n",
       "4          A graceful look for a small family function\n",
       "..                                                 ...\n",
       "353                                     office, dayout\n",
       "354  Wrap Up The Look With A Pair Of Slippers, Sand...\n",
       "355              Ideal for an outing with your besties\n",
       "356                           Look beautiful at a roka\n",
       "357                            Jazz up a festive party\n",
       "\n",
       "[358 rows x 1 columns]"
      ]
     },
     "execution_count": 89,
     "metadata": {},
     "output_type": "execute_result"
    }
   ],
   "source": [
    "wear = sqldf(\"select distinct Where_to_wear from fashion_dataset where Occasion is not null\")\n",
    "wear"
   ]
  },
  {
   "cell_type": "code",
   "execution_count": 90,
   "id": "7c470cc0",
   "metadata": {},
   "outputs": [],
   "source": [
    "#wear = sqldf(\"select wear.*, where_to.Occasion from wear join where_to on (wear.Where_to_wear=where_to.Where_to_wear)\")"
   ]
  },
  {
   "cell_type": "code",
   "execution_count": 91,
   "id": "952a86e5",
   "metadata": {},
   "outputs": [
    {
     "data": {
      "text/plain": [
       "0"
      ]
     },
     "execution_count": 91,
     "metadata": {},
     "output_type": "execute_result"
    }
   ],
   "source": [
    "wear.duplicated().sum()"
   ]
  },
  {
   "cell_type": "code",
   "execution_count": 92,
   "id": "c2544567",
   "metadata": {},
   "outputs": [
    {
     "data": {
      "text/plain": [
       "Where_to_wear    1\n",
       "occasion         0\n",
       "dtype: int64"
      ]
     },
     "execution_count": 92,
     "metadata": {},
     "output_type": "execute_result"
    }
   ],
   "source": [
    "wear.loc[:,['occasion']]=where_to['Occasion']\n",
    "pd.unique(wear['occasion'])\n",
    "wear.isna().sum()"
   ]
  },
  {
   "cell_type": "code",
   "execution_count": 94,
   "id": "f1f0f5eb",
   "metadata": {},
   "outputs": [],
   "source": [
    "fashion_dataset = sqldf(\"select fashion_dataset.*, wear.* from fashion_dataset left join wear on (wear.Where_to_wear=fashion_dataset.Where_to_wear)\")"
   ]
  },
  {
   "cell_type": "code",
   "execution_count": 95,
   "id": "e99d6ece",
   "metadata": {},
   "outputs": [],
   "source": [
    "fashion_dataset['Occasion'] = fashion_dataset['Occasion'].combine_first(fashion_dataset['occasion'])"
   ]
  },
  {
   "cell_type": "code",
   "execution_count": 96,
   "id": "9863c461",
   "metadata": {},
   "outputs": [
    {
     "data": {
      "text/plain": [
       "1047"
      ]
     },
     "execution_count": 96,
     "metadata": {},
     "output_type": "execute_result"
    }
   ],
   "source": [
    "fashion_dataset['Occasion'].isna().sum()"
   ]
  },
  {
   "cell_type": "code",
   "execution_count": null,
   "id": "257e9a02",
   "metadata": {},
   "outputs": [],
   "source": []
  }
 ],
 "metadata": {
  "kernelspec": {
   "display_name": "Python 3 (ipykernel)",
   "language": "python",
   "name": "python3"
  },
  "language_info": {
   "codemirror_mode": {
    "name": "ipython",
    "version": 3
   },
   "file_extension": ".py",
   "mimetype": "text/x-python",
   "name": "python",
   "nbconvert_exporter": "python",
   "pygments_lexer": "ipython3",
   "version": "3.9.13"
  }
 },
 "nbformat": 4,
 "nbformat_minor": 5
}
