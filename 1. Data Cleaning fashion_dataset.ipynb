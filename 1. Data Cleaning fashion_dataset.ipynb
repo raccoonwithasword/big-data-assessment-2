{
 "cells": [
  {
   "cell_type": "markdown",
   "id": "9c67d32e",
   "metadata": {},
   "source": [
    "# Data Analysis"
   ]
  },
  {
   "cell_type": "markdown",
   "id": "27bcab35",
   "metadata": {},
   "source": [
    ">Importing libraries"
   ]
  },
  {
   "cell_type": "code",
   "execution_count": 1,
   "id": "02c28b12",
   "metadata": {},
   "outputs": [],
   "source": [
    "import pandas as pd\n",
    "import numpy as np\n",
    "import pandasql as ps\n",
    "from pandasql import sqldf\n",
    "import ast\n",
    "import random\n",
    "import matplotlib.pyplot as plt\n",
    "import seaborn as sns\n",
    "from sklearn.model_selection import train_test_split\n",
    "from sklearn.linear_model import LinearRegression\n",
    "from sklearn.linear_model import BayesianRidge\n",
    "from sklearn import preprocessing\n",
    "from sklearn import tree\n",
    "from sklearn.tree import DecisionTreeClassifier\n",
    "from sklearn import metrics\n",
    "from sklearn.naive_bayes import GaussianNB\n",
    "from sklearn.ensemble import RandomForestClassifier"
   ]
  },
  {
   "cell_type": "markdown",
   "id": "0cbebfff",
   "metadata": {},
   "source": [
    "# Data Cleaning & Transformation"
   ]
  },
  {
   "cell_type": "markdown",
   "id": "5348de0e",
   "metadata": {},
   "source": [
    ">Importing and viewing the fashion dataset\n"
   ]
  },
  {
   "cell_type": "code",
   "execution_count": 2,
   "id": "58058aa0",
   "metadata": {},
   "outputs": [
    {
     "data": {
      "text/html": [
       "<div>\n",
       "<style scoped>\n",
       "    .dataframe tbody tr th:only-of-type {\n",
       "        vertical-align: middle;\n",
       "    }\n",
       "\n",
       "    .dataframe tbody tr th {\n",
       "        vertical-align: top;\n",
       "    }\n",
       "\n",
       "    .dataframe thead th {\n",
       "        text-align: right;\n",
       "    }\n",
       "</style>\n",
       "<table border=\"1\" class=\"dataframe\">\n",
       "  <thead>\n",
       "    <tr style=\"text-align: right;\">\n",
       "      <th></th>\n",
       "      <th>p_id</th>\n",
       "      <th>name</th>\n",
       "      <th>price</th>\n",
       "      <th>colour</th>\n",
       "      <th>brand</th>\n",
       "      <th>ratingCount</th>\n",
       "      <th>avg_rating</th>\n",
       "      <th>description</th>\n",
       "      <th>p_attributes</th>\n",
       "    </tr>\n",
       "  </thead>\n",
       "  <tbody>\n",
       "    <tr>\n",
       "      <th>0</th>\n",
       "      <td>1518329.0</td>\n",
       "      <td>Dupatta Bazaar White Embroidered Chiffon Dupatta</td>\n",
       "      <td>899.0</td>\n",
       "      <td>White</td>\n",
       "      <td>Dupatta Bazaar</td>\n",
       "      <td>1321.0</td>\n",
       "      <td>4.548827</td>\n",
       "      <td>White embroidered&amp;nbsp;dupattaChiffon&lt;br&gt;Hand-...</td>\n",
       "      <td>{'Occasion': 'Daily', 'Pattern': 'Embroidered'...</td>\n",
       "    </tr>\n",
       "    <tr>\n",
       "      <th>1</th>\n",
       "      <td>5829334.0</td>\n",
       "      <td>Roadster Women Mustard Yellow Solid Hooded Swe...</td>\n",
       "      <td>1199.0</td>\n",
       "      <td>Mustard</td>\n",
       "      <td>Roadster</td>\n",
       "      <td>5462.0</td>\n",
       "      <td>4.313255</td>\n",
       "      <td>Mustard yellow solid sweatshirt, has a hood, t...</td>\n",
       "      <td>{'Body Shape ID': '443,424,324', 'Body or Garm...</td>\n",
       "    </tr>\n",
       "    <tr>\n",
       "      <th>2</th>\n",
       "      <td>10340119.0</td>\n",
       "      <td>Inddus Peach-Coloured &amp; Beige Unstitched Dress...</td>\n",
       "      <td>5799.0</td>\n",
       "      <td>Peach</td>\n",
       "      <td>Inddus</td>\n",
       "      <td>145.0</td>\n",
       "      <td>4.068966</td>\n",
       "      <td>Peach-Coloured and beige woven design unstitch...</td>\n",
       "      <td>{'Bottom Fabric': 'Cotton Blend', 'Bottom Patt...</td>\n",
       "    </tr>\n",
       "    <tr>\n",
       "      <th>3</th>\n",
       "      <td>10856380.0</td>\n",
       "      <td>SASSAFRAS Women Black Parallel Trousers</td>\n",
       "      <td>1499.0</td>\n",
       "      <td>Black</td>\n",
       "      <td>SASSAFRAS</td>\n",
       "      <td>9124.0</td>\n",
       "      <td>4.147523</td>\n",
       "      <td>Black solid woven high-rise parallel trousers,...</td>\n",
       "      <td>{'Add-Ons': 'NA', 'Body Shape ID': '424', 'Bod...</td>\n",
       "    </tr>\n",
       "    <tr>\n",
       "      <th>4</th>\n",
       "      <td>12384822.0</td>\n",
       "      <td>Kotty Women Black Wide Leg High-Rise Clean Loo...</td>\n",
       "      <td>1999.0</td>\n",
       "      <td>Black</td>\n",
       "      <td>Kotty</td>\n",
       "      <td>12260.0</td>\n",
       "      <td>4.078467</td>\n",
       "      <td>Black dark wash 4-pocket high-rise jeans, clea...</td>\n",
       "      <td>{'Add-Ons': 'NA', 'Brand Fit Name': 'NA', 'Clo...</td>\n",
       "    </tr>\n",
       "    <tr>\n",
       "      <th>...</th>\n",
       "      <td>...</td>\n",
       "      <td>...</td>\n",
       "      <td>...</td>\n",
       "      <td>...</td>\n",
       "      <td>...</td>\n",
       "      <td>...</td>\n",
       "      <td>...</td>\n",
       "      <td>...</td>\n",
       "      <td>...</td>\n",
       "    </tr>\n",
       "    <tr>\n",
       "      <th>14324</th>\n",
       "      <td>17029604.0</td>\n",
       "      <td>The Chennai Silks Pink &amp; Silver-Toned Floral Z...</td>\n",
       "      <td>3999.0</td>\n",
       "      <td>Pink</td>\n",
       "      <td>The Chennai Silks</td>\n",
       "      <td>NaN</td>\n",
       "      <td>NaN</td>\n",
       "      <td>&lt;b&gt;Design Details &lt;/b&gt;&lt;ul&gt;&lt;li&gt;Pink and silver-...</td>\n",
       "      <td>{'Better Cotton Initiative': 'Regular', 'Blous...</td>\n",
       "    </tr>\n",
       "    <tr>\n",
       "      <th>14325</th>\n",
       "      <td>17600212.0</td>\n",
       "      <td>Kinder Kids Girls Blue &amp; Green Printed Foil Pr...</td>\n",
       "      <td>2050.0</td>\n",
       "      <td>Blue</td>\n",
       "      <td>Kinder Kids</td>\n",
       "      <td>NaN</td>\n",
       "      <td>NaN</td>\n",
       "      <td>Blue and green printed lehenga choli,  has foi...</td>\n",
       "      <td>{'Blouse Closure': 'NA', 'Blouse Fabric': 'Cot...</td>\n",
       "    </tr>\n",
       "    <tr>\n",
       "      <th>14326</th>\n",
       "      <td>18159266.0</td>\n",
       "      <td>KLOTTHE Women Green &amp; Black Floral Printed Pal...</td>\n",
       "      <td>1659.0</td>\n",
       "      <td>Green</td>\n",
       "      <td>KLOTTHE</td>\n",
       "      <td>NaN</td>\n",
       "      <td>NaN</td>\n",
       "      <td>&lt;ul&gt; &lt;li&gt; Green and black woven palazzos &lt;/li&gt;...</td>\n",
       "      <td>{'Body or Garment Size': 'To-Fit Denotes Body ...</td>\n",
       "    </tr>\n",
       "    <tr>\n",
       "      <th>14327</th>\n",
       "      <td>18921114.0</td>\n",
       "      <td>InWeave Women Red Printed A-Line Skirt</td>\n",
       "      <td>2399.0</td>\n",
       "      <td>Red</td>\n",
       "      <td>InWeave</td>\n",
       "      <td>NaN</td>\n",
       "      <td>NaN</td>\n",
       "      <td>&lt;p&gt;Red printed A-line skirt, has drawstring cl...</td>\n",
       "      <td>{'Add-Ons': 'NA', 'Body Shape ID': '324,333,42...</td>\n",
       "    </tr>\n",
       "    <tr>\n",
       "      <th>14328</th>\n",
       "      <td>19361058.0</td>\n",
       "      <td>BoStreet Women Navy Blue Tapered Fit Trousers</td>\n",
       "      <td>2599.0</td>\n",
       "      <td>Navy Blue</td>\n",
       "      <td>BoStreet</td>\n",
       "      <td>NaN</td>\n",
       "      <td>NaN</td>\n",
       "      <td>&lt;ul&gt; &lt;li&gt; Navy blue knitted trousers &lt;/li&gt; &lt;li...</td>\n",
       "      <td>{'Add-Ons': 'NA', 'Body Shape ID': '443,333,42...</td>\n",
       "    </tr>\n",
       "  </tbody>\n",
       "</table>\n",
       "<p>14329 rows × 9 columns</p>\n",
       "</div>"
      ],
      "text/plain": [
       "             p_id                                               name   price  \\\n",
       "0       1518329.0   Dupatta Bazaar White Embroidered Chiffon Dupatta   899.0   \n",
       "1       5829334.0  Roadster Women Mustard Yellow Solid Hooded Swe...  1199.0   \n",
       "2      10340119.0  Inddus Peach-Coloured & Beige Unstitched Dress...  5799.0   \n",
       "3      10856380.0            SASSAFRAS Women Black Parallel Trousers  1499.0   \n",
       "4      12384822.0  Kotty Women Black Wide Leg High-Rise Clean Loo...  1999.0   \n",
       "...           ...                                                ...     ...   \n",
       "14324  17029604.0  The Chennai Silks Pink & Silver-Toned Floral Z...  3999.0   \n",
       "14325  17600212.0  Kinder Kids Girls Blue & Green Printed Foil Pr...  2050.0   \n",
       "14326  18159266.0  KLOTTHE Women Green & Black Floral Printed Pal...  1659.0   \n",
       "14327  18921114.0             InWeave Women Red Printed A-Line Skirt  2399.0   \n",
       "14328  19361058.0      BoStreet Women Navy Blue Tapered Fit Trousers  2599.0   \n",
       "\n",
       "          colour              brand  ratingCount  avg_rating  \\\n",
       "0          White     Dupatta Bazaar       1321.0    4.548827   \n",
       "1        Mustard           Roadster       5462.0    4.313255   \n",
       "2          Peach             Inddus        145.0    4.068966   \n",
       "3          Black          SASSAFRAS       9124.0    4.147523   \n",
       "4          Black              Kotty      12260.0    4.078467   \n",
       "...          ...                ...          ...         ...   \n",
       "14324       Pink  The Chennai Silks          NaN         NaN   \n",
       "14325       Blue        Kinder Kids          NaN         NaN   \n",
       "14326      Green            KLOTTHE          NaN         NaN   \n",
       "14327        Red            InWeave          NaN         NaN   \n",
       "14328  Navy Blue           BoStreet          NaN         NaN   \n",
       "\n",
       "                                             description  \\\n",
       "0      White embroidered&nbsp;dupattaChiffon<br>Hand-...   \n",
       "1      Mustard yellow solid sweatshirt, has a hood, t...   \n",
       "2      Peach-Coloured and beige woven design unstitch...   \n",
       "3      Black solid woven high-rise parallel trousers,...   \n",
       "4      Black dark wash 4-pocket high-rise jeans, clea...   \n",
       "...                                                  ...   \n",
       "14324  <b>Design Details </b><ul><li>Pink and silver-...   \n",
       "14325  Blue and green printed lehenga choli,  has foi...   \n",
       "14326  <ul> <li> Green and black woven palazzos </li>...   \n",
       "14327  <p>Red printed A-line skirt, has drawstring cl...   \n",
       "14328  <ul> <li> Navy blue knitted trousers </li> <li...   \n",
       "\n",
       "                                            p_attributes  \n",
       "0      {'Occasion': 'Daily', 'Pattern': 'Embroidered'...  \n",
       "1      {'Body Shape ID': '443,424,324', 'Body or Garm...  \n",
       "2      {'Bottom Fabric': 'Cotton Blend', 'Bottom Patt...  \n",
       "3      {'Add-Ons': 'NA', 'Body Shape ID': '424', 'Bod...  \n",
       "4      {'Add-Ons': 'NA', 'Brand Fit Name': 'NA', 'Clo...  \n",
       "...                                                  ...  \n",
       "14324  {'Better Cotton Initiative': 'Regular', 'Blous...  \n",
       "14325  {'Blouse Closure': 'NA', 'Blouse Fabric': 'Cot...  \n",
       "14326  {'Body or Garment Size': 'To-Fit Denotes Body ...  \n",
       "14327  {'Add-Ons': 'NA', 'Body Shape ID': '324,333,42...  \n",
       "14328  {'Add-Ons': 'NA', 'Body Shape ID': '443,333,42...  \n",
       "\n",
       "[14329 rows x 9 columns]"
      ]
     },
     "execution_count": 2,
     "metadata": {},
     "output_type": "execute_result"
    }
   ],
   "source": [
    "fashion_dataset= pd.read_csv(r\".\\fashion dataset.csv\")\n",
    "fashion_dataset"
   ]
  },
  {
   "cell_type": "markdown",
   "id": "4db6ad60",
   "metadata": {},
   "source": [
    ">Finding the number of unique brands in the fashion dataset"
   ]
  },
  {
   "cell_type": "code",
   "execution_count": 3,
   "id": "39d4ad68",
   "metadata": {
    "scrolled": true
   },
   "outputs": [
    {
     "data": {
      "text/plain": [
       "1021"
      ]
     },
     "execution_count": 3,
     "metadata": {},
     "output_type": "execute_result"
    }
   ],
   "source": [
    "len(pd.unique(fashion_dataset['brand']))"
   ]
  },
  {
   "cell_type": "markdown",
   "id": "146a3cc5",
   "metadata": {},
   "source": [
    ">Importing the brand details dataset"
   ]
  },
  {
   "cell_type": "code",
   "execution_count": 4,
   "id": "61fb4d4f",
   "metadata": {},
   "outputs": [
    {
     "data": {
      "text/html": [
       "<div>\n",
       "<style scoped>\n",
       "    .dataframe tbody tr th:only-of-type {\n",
       "        vertical-align: middle;\n",
       "    }\n",
       "\n",
       "    .dataframe tbody tr th {\n",
       "        vertical-align: top;\n",
       "    }\n",
       "\n",
       "    .dataframe thead th {\n",
       "        text-align: right;\n",
       "    }\n",
       "</style>\n",
       "<table border=\"1\" class=\"dataframe\">\n",
       "  <thead>\n",
       "    <tr style=\"text-align: right;\">\n",
       "      <th></th>\n",
       "      <th>brand_id</th>\n",
       "      <th>brand_name</th>\n",
       "    </tr>\n",
       "  </thead>\n",
       "  <tbody>\n",
       "    <tr>\n",
       "      <th>0</th>\n",
       "      <td>1</td>\n",
       "      <td>513</td>\n",
       "    </tr>\n",
       "    <tr>\n",
       "      <th>1</th>\n",
       "      <td>2</td>\n",
       "      <td>109F</td>\n",
       "    </tr>\n",
       "    <tr>\n",
       "      <th>2</th>\n",
       "      <td>3</td>\n",
       "      <td>20Dresses</td>\n",
       "    </tr>\n",
       "    <tr>\n",
       "      <th>3</th>\n",
       "      <td>4</td>\n",
       "      <td>250 Designs</td>\n",
       "    </tr>\n",
       "    <tr>\n",
       "      <th>4</th>\n",
       "      <td>5</td>\n",
       "      <td>3Pin</td>\n",
       "    </tr>\n",
       "    <tr>\n",
       "      <th>...</th>\n",
       "      <td>...</td>\n",
       "      <td>...</td>\n",
       "    </tr>\n",
       "    <tr>\n",
       "      <th>1015</th>\n",
       "      <td>1016</td>\n",
       "      <td>Ziva Fashion</td>\n",
       "    </tr>\n",
       "    <tr>\n",
       "      <th>1016</th>\n",
       "      <td>1017</td>\n",
       "      <td>Zivame</td>\n",
       "    </tr>\n",
       "    <tr>\n",
       "      <th>1017</th>\n",
       "      <td>1018</td>\n",
       "      <td>Ziyaa</td>\n",
       "    </tr>\n",
       "    <tr>\n",
       "      <th>1018</th>\n",
       "      <td>1019</td>\n",
       "      <td>Zoella</td>\n",
       "    </tr>\n",
       "    <tr>\n",
       "      <th>1019</th>\n",
       "      <td>1020</td>\n",
       "      <td>Zola</td>\n",
       "    </tr>\n",
       "  </tbody>\n",
       "</table>\n",
       "<p>1020 rows × 2 columns</p>\n",
       "</div>"
      ],
      "text/plain": [
       "      brand_id    brand_name\n",
       "0            1           513\n",
       "1            2          109F\n",
       "2            3     20Dresses\n",
       "3            4   250 Designs\n",
       "4            5          3Pin\n",
       "...        ...           ...\n",
       "1015      1016  Ziva Fashion\n",
       "1016      1017        Zivame\n",
       "1017      1018         Ziyaa\n",
       "1018      1019        Zoella\n",
       "1019      1020          Zola\n",
       "\n",
       "[1020 rows x 2 columns]"
      ]
     },
     "execution_count": 4,
     "metadata": {},
     "output_type": "execute_result"
    }
   ],
   "source": [
    "brand_details = pd.read_excel(r\".\\fashion brand details.xlsx\")\n",
    "brand_details"
   ]
  },
  {
   "cell_type": "markdown",
   "id": "40eb46cb",
   "metadata": {},
   "source": [
    ">Counting the number of unique brand names in the brand details dataset"
   ]
  },
  {
   "cell_type": "code",
   "execution_count": 5,
   "id": "56716f86",
   "metadata": {},
   "outputs": [
    {
     "data": {
      "text/plain": [
       "1020"
      ]
     },
     "execution_count": 5,
     "metadata": {},
     "output_type": "execute_result"
    }
   ],
   "source": [
    "len(pd.unique(brand_details['brand_name']))"
   ]
  },
  {
   "cell_type": "markdown",
   "id": "c7b8a6be",
   "metadata": {},
   "source": [
    ">Finding the number of null and duplicated values in each dataset"
   ]
  },
  {
   "cell_type": "code",
   "execution_count": 6,
   "id": "aa8cecc0",
   "metadata": {},
   "outputs": [
    {
     "data": {
      "text/plain": [
       "brand_id      0\n",
       "brand_name    0\n",
       "dtype: int64"
      ]
     },
     "execution_count": 6,
     "metadata": {},
     "output_type": "execute_result"
    }
   ],
   "source": [
    "brand_details.isna().sum()"
   ]
  },
  {
   "cell_type": "code",
   "execution_count": 7,
   "id": "06b9712b",
   "metadata": {},
   "outputs": [
    {
     "data": {
      "text/plain": [
       "0"
      ]
     },
     "execution_count": 7,
     "metadata": {},
     "output_type": "execute_result"
    }
   ],
   "source": [
    "brand_details.duplicated().sum()"
   ]
  },
  {
   "cell_type": "code",
   "execution_count": 8,
   "id": "ad8e8b0c",
   "metadata": {},
   "outputs": [
    {
     "data": {
      "text/plain": [
       "p_id              18\n",
       "name              19\n",
       "price             19\n",
       "colour            22\n",
       "brand             24\n",
       "ratingCount     7748\n",
       "avg_rating      7748\n",
       "description       19\n",
       "p_attributes      19\n",
       "dtype: int64"
      ]
     },
     "execution_count": 8,
     "metadata": {},
     "output_type": "execute_result"
    }
   ],
   "source": [
    "fashion_dataset.isna().sum()"
   ]
  },
  {
   "cell_type": "code",
   "execution_count": 9,
   "id": "3e18ce56",
   "metadata": {},
   "outputs": [
    {
     "data": {
      "text/plain": [
       "59"
      ]
     },
     "execution_count": 9,
     "metadata": {},
     "output_type": "execute_result"
    }
   ],
   "source": [
    "fashion_dataset.duplicated().sum()"
   ]
  },
  {
   "cell_type": "markdown",
   "id": "8deda2e0",
   "metadata": {},
   "source": [
    ">Testing out duplicate dropping"
   ]
  },
  {
   "cell_type": "code",
   "execution_count": 10,
   "id": "e1853c6e",
   "metadata": {},
   "outputs": [
    {
     "data": {
      "text/plain": [
       "1021"
      ]
     },
     "execution_count": 10,
     "metadata": {},
     "output_type": "execute_result"
    }
   ],
   "source": [
    "df_dupl = fashion_dataset.drop_duplicates(keep = \"last\")\n",
    "len(pd.unique(df_dupl[\"brand\"]))"
   ]
  },
  {
   "cell_type": "markdown",
   "id": "fa456831",
   "metadata": {},
   "source": [
    ">Dropping duplicates in fashion dataset"
   ]
  },
  {
   "cell_type": "code",
   "execution_count": 11,
   "id": "9ca86992",
   "metadata": {},
   "outputs": [
    {
     "data": {
      "text/html": [
       "<div>\n",
       "<style scoped>\n",
       "    .dataframe tbody tr th:only-of-type {\n",
       "        vertical-align: middle;\n",
       "    }\n",
       "\n",
       "    .dataframe tbody tr th {\n",
       "        vertical-align: top;\n",
       "    }\n",
       "\n",
       "    .dataframe thead th {\n",
       "        text-align: right;\n",
       "    }\n",
       "</style>\n",
       "<table border=\"1\" class=\"dataframe\">\n",
       "  <thead>\n",
       "    <tr style=\"text-align: right;\">\n",
       "      <th></th>\n",
       "      <th>p_id</th>\n",
       "      <th>name</th>\n",
       "      <th>price</th>\n",
       "      <th>colour</th>\n",
       "      <th>brand</th>\n",
       "      <th>ratingCount</th>\n",
       "      <th>avg_rating</th>\n",
       "      <th>description</th>\n",
       "      <th>p_attributes</th>\n",
       "    </tr>\n",
       "  </thead>\n",
       "  <tbody>\n",
       "    <tr>\n",
       "      <th>0</th>\n",
       "      <td>1518329.0</td>\n",
       "      <td>Dupatta Bazaar White Embroidered Chiffon Dupatta</td>\n",
       "      <td>899.0</td>\n",
       "      <td>White</td>\n",
       "      <td>Dupatta Bazaar</td>\n",
       "      <td>1321.0</td>\n",
       "      <td>4.548827</td>\n",
       "      <td>White embroidered&amp;nbsp;dupattaChiffon&lt;br&gt;Hand-...</td>\n",
       "      <td>{'Occasion': 'Daily', 'Pattern': 'Embroidered'...</td>\n",
       "    </tr>\n",
       "    <tr>\n",
       "      <th>1</th>\n",
       "      <td>5829334.0</td>\n",
       "      <td>Roadster Women Mustard Yellow Solid Hooded Swe...</td>\n",
       "      <td>1199.0</td>\n",
       "      <td>Mustard</td>\n",
       "      <td>Roadster</td>\n",
       "      <td>5462.0</td>\n",
       "      <td>4.313255</td>\n",
       "      <td>Mustard yellow solid sweatshirt, has a hood, t...</td>\n",
       "      <td>{'Body Shape ID': '443,424,324', 'Body or Garm...</td>\n",
       "    </tr>\n",
       "    <tr>\n",
       "      <th>2</th>\n",
       "      <td>10340119.0</td>\n",
       "      <td>Inddus Peach-Coloured &amp; Beige Unstitched Dress...</td>\n",
       "      <td>5799.0</td>\n",
       "      <td>Peach</td>\n",
       "      <td>Inddus</td>\n",
       "      <td>145.0</td>\n",
       "      <td>4.068966</td>\n",
       "      <td>Peach-Coloured and beige woven design unstitch...</td>\n",
       "      <td>{'Bottom Fabric': 'Cotton Blend', 'Bottom Patt...</td>\n",
       "    </tr>\n",
       "    <tr>\n",
       "      <th>3</th>\n",
       "      <td>10856380.0</td>\n",
       "      <td>SASSAFRAS Women Black Parallel Trousers</td>\n",
       "      <td>1499.0</td>\n",
       "      <td>Black</td>\n",
       "      <td>SASSAFRAS</td>\n",
       "      <td>9124.0</td>\n",
       "      <td>4.147523</td>\n",
       "      <td>Black solid woven high-rise parallel trousers,...</td>\n",
       "      <td>{'Add-Ons': 'NA', 'Body Shape ID': '424', 'Bod...</td>\n",
       "    </tr>\n",
       "    <tr>\n",
       "      <th>4</th>\n",
       "      <td>12384822.0</td>\n",
       "      <td>Kotty Women Black Wide Leg High-Rise Clean Loo...</td>\n",
       "      <td>1999.0</td>\n",
       "      <td>Black</td>\n",
       "      <td>Kotty</td>\n",
       "      <td>12260.0</td>\n",
       "      <td>4.078467</td>\n",
       "      <td>Black dark wash 4-pocket high-rise jeans, clea...</td>\n",
       "      <td>{'Add-Ons': 'NA', 'Brand Fit Name': 'NA', 'Clo...</td>\n",
       "    </tr>\n",
       "    <tr>\n",
       "      <th>...</th>\n",
       "      <td>...</td>\n",
       "      <td>...</td>\n",
       "      <td>...</td>\n",
       "      <td>...</td>\n",
       "      <td>...</td>\n",
       "      <td>...</td>\n",
       "      <td>...</td>\n",
       "      <td>...</td>\n",
       "      <td>...</td>\n",
       "    </tr>\n",
       "    <tr>\n",
       "      <th>14324</th>\n",
       "      <td>17029604.0</td>\n",
       "      <td>The Chennai Silks Pink &amp; Silver-Toned Floral Z...</td>\n",
       "      <td>3999.0</td>\n",
       "      <td>Pink</td>\n",
       "      <td>The Chennai Silks</td>\n",
       "      <td>NaN</td>\n",
       "      <td>NaN</td>\n",
       "      <td>&lt;b&gt;Design Details &lt;/b&gt;&lt;ul&gt;&lt;li&gt;Pink and silver-...</td>\n",
       "      <td>{'Better Cotton Initiative': 'Regular', 'Blous...</td>\n",
       "    </tr>\n",
       "    <tr>\n",
       "      <th>14325</th>\n",
       "      <td>17600212.0</td>\n",
       "      <td>Kinder Kids Girls Blue &amp; Green Printed Foil Pr...</td>\n",
       "      <td>2050.0</td>\n",
       "      <td>Blue</td>\n",
       "      <td>Kinder Kids</td>\n",
       "      <td>NaN</td>\n",
       "      <td>NaN</td>\n",
       "      <td>Blue and green printed lehenga choli,  has foi...</td>\n",
       "      <td>{'Blouse Closure': 'NA', 'Blouse Fabric': 'Cot...</td>\n",
       "    </tr>\n",
       "    <tr>\n",
       "      <th>14326</th>\n",
       "      <td>18159266.0</td>\n",
       "      <td>KLOTTHE Women Green &amp; Black Floral Printed Pal...</td>\n",
       "      <td>1659.0</td>\n",
       "      <td>Green</td>\n",
       "      <td>KLOTTHE</td>\n",
       "      <td>NaN</td>\n",
       "      <td>NaN</td>\n",
       "      <td>&lt;ul&gt; &lt;li&gt; Green and black woven palazzos &lt;/li&gt;...</td>\n",
       "      <td>{'Body or Garment Size': 'To-Fit Denotes Body ...</td>\n",
       "    </tr>\n",
       "    <tr>\n",
       "      <th>14327</th>\n",
       "      <td>18921114.0</td>\n",
       "      <td>InWeave Women Red Printed A-Line Skirt</td>\n",
       "      <td>2399.0</td>\n",
       "      <td>Red</td>\n",
       "      <td>InWeave</td>\n",
       "      <td>NaN</td>\n",
       "      <td>NaN</td>\n",
       "      <td>&lt;p&gt;Red printed A-line skirt, has drawstring cl...</td>\n",
       "      <td>{'Add-Ons': 'NA', 'Body Shape ID': '324,333,42...</td>\n",
       "    </tr>\n",
       "    <tr>\n",
       "      <th>14328</th>\n",
       "      <td>19361058.0</td>\n",
       "      <td>BoStreet Women Navy Blue Tapered Fit Trousers</td>\n",
       "      <td>2599.0</td>\n",
       "      <td>Navy Blue</td>\n",
       "      <td>BoStreet</td>\n",
       "      <td>NaN</td>\n",
       "      <td>NaN</td>\n",
       "      <td>&lt;ul&gt; &lt;li&gt; Navy blue knitted trousers &lt;/li&gt; &lt;li...</td>\n",
       "      <td>{'Add-Ons': 'NA', 'Body Shape ID': '443,333,42...</td>\n",
       "    </tr>\n",
       "  </tbody>\n",
       "</table>\n",
       "<p>14270 rows × 9 columns</p>\n",
       "</div>"
      ],
      "text/plain": [
       "             p_id                                               name   price  \\\n",
       "0       1518329.0   Dupatta Bazaar White Embroidered Chiffon Dupatta   899.0   \n",
       "1       5829334.0  Roadster Women Mustard Yellow Solid Hooded Swe...  1199.0   \n",
       "2      10340119.0  Inddus Peach-Coloured & Beige Unstitched Dress...  5799.0   \n",
       "3      10856380.0            SASSAFRAS Women Black Parallel Trousers  1499.0   \n",
       "4      12384822.0  Kotty Women Black Wide Leg High-Rise Clean Loo...  1999.0   \n",
       "...           ...                                                ...     ...   \n",
       "14324  17029604.0  The Chennai Silks Pink & Silver-Toned Floral Z...  3999.0   \n",
       "14325  17600212.0  Kinder Kids Girls Blue & Green Printed Foil Pr...  2050.0   \n",
       "14326  18159266.0  KLOTTHE Women Green & Black Floral Printed Pal...  1659.0   \n",
       "14327  18921114.0             InWeave Women Red Printed A-Line Skirt  2399.0   \n",
       "14328  19361058.0      BoStreet Women Navy Blue Tapered Fit Trousers  2599.0   \n",
       "\n",
       "          colour              brand  ratingCount  avg_rating  \\\n",
       "0          White     Dupatta Bazaar       1321.0    4.548827   \n",
       "1        Mustard           Roadster       5462.0    4.313255   \n",
       "2          Peach             Inddus        145.0    4.068966   \n",
       "3          Black          SASSAFRAS       9124.0    4.147523   \n",
       "4          Black              Kotty      12260.0    4.078467   \n",
       "...          ...                ...          ...         ...   \n",
       "14324       Pink  The Chennai Silks          NaN         NaN   \n",
       "14325       Blue        Kinder Kids          NaN         NaN   \n",
       "14326      Green            KLOTTHE          NaN         NaN   \n",
       "14327        Red            InWeave          NaN         NaN   \n",
       "14328  Navy Blue           BoStreet          NaN         NaN   \n",
       "\n",
       "                                             description  \\\n",
       "0      White embroidered&nbsp;dupattaChiffon<br>Hand-...   \n",
       "1      Mustard yellow solid sweatshirt, has a hood, t...   \n",
       "2      Peach-Coloured and beige woven design unstitch...   \n",
       "3      Black solid woven high-rise parallel trousers,...   \n",
       "4      Black dark wash 4-pocket high-rise jeans, clea...   \n",
       "...                                                  ...   \n",
       "14324  <b>Design Details </b><ul><li>Pink and silver-...   \n",
       "14325  Blue and green printed lehenga choli,  has foi...   \n",
       "14326  <ul> <li> Green and black woven palazzos </li>...   \n",
       "14327  <p>Red printed A-line skirt, has drawstring cl...   \n",
       "14328  <ul> <li> Navy blue knitted trousers </li> <li...   \n",
       "\n",
       "                                            p_attributes  \n",
       "0      {'Occasion': 'Daily', 'Pattern': 'Embroidered'...  \n",
       "1      {'Body Shape ID': '443,424,324', 'Body or Garm...  \n",
       "2      {'Bottom Fabric': 'Cotton Blend', 'Bottom Patt...  \n",
       "3      {'Add-Ons': 'NA', 'Body Shape ID': '424', 'Bod...  \n",
       "4      {'Add-Ons': 'NA', 'Brand Fit Name': 'NA', 'Clo...  \n",
       "...                                                  ...  \n",
       "14324  {'Better Cotton Initiative': 'Regular', 'Blous...  \n",
       "14325  {'Blouse Closure': 'NA', 'Blouse Fabric': 'Cot...  \n",
       "14326  {'Body or Garment Size': 'To-Fit Denotes Body ...  \n",
       "14327  {'Add-Ons': 'NA', 'Body Shape ID': '324,333,42...  \n",
       "14328  {'Add-Ons': 'NA', 'Body Shape ID': '443,333,42...  \n",
       "\n",
       "[14270 rows x 9 columns]"
      ]
     },
     "execution_count": 11,
     "metadata": {},
     "output_type": "execute_result"
    }
   ],
   "source": [
    "fashion_dataset.drop_duplicates(inplace = True, keep = \"last\")\n",
    "fashion_dataset"
   ]
  },
  {
   "cell_type": "markdown",
   "id": "5b00280a",
   "metadata": {},
   "source": [
    ">Dropping duplicate product names and IDs"
   ]
  },
  {
   "cell_type": "code",
   "execution_count": 12,
   "id": "fa148c14",
   "metadata": {},
   "outputs": [],
   "source": [
    "fashion_dataset.drop_duplicates(subset=['name','p_id'], inplace=True)"
   ]
  },
  {
   "cell_type": "code",
   "execution_count": 13,
   "id": "51c0d0fd",
   "metadata": {},
   "outputs": [
    {
     "name": "stdout",
     "output_type": "stream",
     "text": [
      "<class 'pandas.core.frame.DataFrame'>\n",
      "Int64Index: 14223 entries, 0 to 14328\n",
      "Data columns (total 9 columns):\n",
      " #   Column        Non-Null Count  Dtype  \n",
      "---  ------        --------------  -----  \n",
      " 0   p_id          14222 non-null  float64\n",
      " 1   name          14221 non-null  object \n",
      " 2   price         14221 non-null  float64\n",
      " 3   colour        14218 non-null  object \n",
      " 4   brand         14218 non-null  object \n",
      " 5   ratingCount   6535 non-null   float64\n",
      " 6   avg_rating    6535 non-null   float64\n",
      " 7   description   14221 non-null  object \n",
      " 8   p_attributes  14221 non-null  object \n",
      "dtypes: float64(4), object(5)\n",
      "memory usage: 1.1+ MB\n"
     ]
    }
   ],
   "source": [
    "fashion_dataset.info()"
   ]
  },
  {
   "cell_type": "code",
   "execution_count": null,
   "id": "dab792ce",
   "metadata": {},
   "outputs": [],
   "source": []
  },
  {
   "cell_type": "code",
   "execution_count": null,
   "id": "7de78be0",
   "metadata": {},
   "outputs": [],
   "source": []
  },
  {
   "cell_type": "markdown",
   "id": "5feda8e9",
   "metadata": {},
   "source": [
    "> Expanding the p_attributes column\n"
   ]
  },
  {
   "cell_type": "code",
   "execution_count": 14,
   "id": "e14774e0",
   "metadata": {},
   "outputs": [],
   "source": [
    "fashion_dataset['p_attributes'] = fashion_dataset['p_attributes']\n",
    "not_null = pd.notnull(fashion_dataset['p_attributes'])\n",
    "fashion2 = fashion_dataset[not_null]['p_attributes'].apply(lambda x: ast.literal_eval(x))\n",
    "temp = pd.DataFrame([*fashion2], fashion2.index)\n",
    "fashion_dataset = pd.concat([fashion_dataset, temp], axis=1)"
   ]
  },
  {
   "cell_type": "markdown",
   "id": "aabd08a7",
   "metadata": {},
   "source": [
    ">Viewing all columns of the dataset"
   ]
  },
  {
   "cell_type": "code",
   "execution_count": 15,
   "id": "7a1016fd",
   "metadata": {
    "scrolled": true
   },
   "outputs": [
    {
     "name": "stdout",
     "output_type": "stream",
     "text": [
      "['p_id', 'name', 'price', 'colour', 'brand', 'ratingCount', 'avg_rating', 'description', 'p_attributes', 'Occasion', 'Pattern', 'Print or Pattern Type', 'Body Shape ID', 'Body or Garment Size', 'Closure', 'Fabric', 'Hemline', 'Hood', 'Length', 'Neck', 'Number of Pockets', 'Pocket', 'Sleeve Length', 'Surface Styling', 'Type', 'Wash Care', 'Bottom Fabric', 'Bottom Pattern', 'Dupatta Border', 'Dupatta Fabric', 'Dupatta Pattern', 'Kurta Fabric', 'Kurta Pattern', 'Ornamentation', 'Set Content', 'Stitch', 'Technique', 'Add-Ons', 'Brand Fit Name', 'Character', 'Fabric 2', 'Features', 'Fit', 'Fly Type', 'Main Trend', 'Multipack Set', 'Sustainable', 'Type of Pleat', 'Waist Rise', 'Weave Type', 'Distress', 'Effects', 'Fabric 3', 'Fade', 'Reversible', 'Shade', 'Stretch', 'Type of Distress', 'Waistband', 'Center Front Open', 'Fabric Type', 'Lining', 'Sleeve Styling', 'Transparency', 'taxMaterial', 'Front Styling', 'Knit or Woven', 'Sport', 'Technology', 'Blouse Closure', 'Blouse Fabric', 'Choli Stitch', 'Dupatta', 'Lehenga Closure', 'Lehenga Fabric', 'Lehenga Lining Fabric', 'Lehenga Stitch', 'Regions', 'Style Tip', 'Top Pattern', 'Where-to-wear', 'Bottom Closure', 'Bottom Type', 'Top Fabric', 'Top Type', 'Trends', 'Blouse', 'Border', 'Care for me', 'Saree Fabric', 'Collar', 'Lining Fabric', 'Pattern Coverage', 'Slit Detail', 'Top Design Styling', 'Top Hemline', 'Top Length', 'Top Shape', 'Weave Pattern', 'Design Styling', 'Shape', 'Sport Team', 'Technology Present', 'Sub Trend', 'Wedding', 'Fabric Purity', 'Fusion Wear', 'Pattern Size', 'Contact Brand or Retailer for pre-sales product queries', 'Colour Family', 'Collection Name', 'Better Cotton Initiative', 'About the Brand', 'How to care for your denim', 'What it does for your body']\n"
     ]
    }
   ],
   "source": [
    "print(list(fashion_dataset.columns))"
   ]
  },
  {
   "cell_type": "markdown",
   "id": "688dfe4a",
   "metadata": {},
   "source": [
    ">Renaming columns for use in SQL and MapReduce"
   ]
  },
  {
   "cell_type": "code",
   "execution_count": 16,
   "id": "e0803ba1",
   "metadata": {},
   "outputs": [],
   "source": [
    "fashion_dataset.rename(columns={'Where-to-wear':'Where_to_wear','Dupatta Pattern':'Dupatta_Pattern', 'Kurta Pattern':'Kurta_Pattern','Bottom Pattern': 'Bottom_Pattern', 'Top Pattern': 'Top_Pattern','Print or Pattern Type': 'Print_Pattern_Type', 'Knit or Woven':'Knit_or_Woven', 'Weave Type':'Weave_Type', 'Weave Pattern':'Weave_Pattern','Dupatta Fabric':'Dupatta_Fabric','Bottom Fabric':'Bottom_Fabric', 'Top Fabric':'Top_Fabric','Fabric Purity':'Fabric_Purity', 'Fabric Type':'Fabric_Type','Blouse Fabric':'Blouse_Fabric', 'Better Cotton Initiative':'Better_Cotton', 'Saree Fabric':'Saree_Fabric', 'Colour Family':'Colour_Family'}, inplace=True)"
   ]
  },
  {
   "cell_type": "code",
   "execution_count": 17,
   "id": "0eb206c9",
   "metadata": {},
   "outputs": [
    {
     "data": {
      "text/plain": [
       "13610"
      ]
     },
     "execution_count": 17,
     "metadata": {},
     "output_type": "execute_result"
    }
   ],
   "source": [
    "fashion_dataset['Kurta_Pattern'].isna().sum()"
   ]
  },
  {
   "cell_type": "code",
   "execution_count": 18,
   "id": "0e9d5db8",
   "metadata": {},
   "outputs": [
    {
     "data": {
      "text/plain": [
       "8884"
      ]
     },
     "execution_count": 18,
     "metadata": {},
     "output_type": "execute_result"
    }
   ],
   "source": [
    "fashion_dataset['Weave_Type'].isna().sum()"
   ]
  },
  {
   "cell_type": "code",
   "execution_count": 19,
   "id": "31803547",
   "metadata": {},
   "outputs": [
    {
     "data": {
      "text/plain": [
       "12345"
      ]
     },
     "execution_count": 19,
     "metadata": {},
     "output_type": "execute_result"
    }
   ],
   "source": [
    "fashion_dataset['Knit_or_Woven'].isna().sum()"
   ]
  },
  {
   "cell_type": "code",
   "execution_count": 20,
   "id": "586c886c",
   "metadata": {},
   "outputs": [
    {
     "data": {
      "text/plain": [
       "13040"
      ]
     },
     "execution_count": 20,
     "metadata": {},
     "output_type": "execute_result"
    }
   ],
   "source": [
    "fashion_dataset['Weave_Pattern'].isna().sum()"
   ]
  },
  {
   "cell_type": "markdown",
   "id": "73a62e66",
   "metadata": {},
   "source": [
    "### Filling the Fabric column"
   ]
  },
  {
   "cell_type": "code",
   "execution_count": 21,
   "id": "44a880ab",
   "metadata": {
    "scrolled": true
   },
   "outputs": [
    {
     "data": {
      "text/plain": [
       "array([nan, 'Cotton', 'Polyester', 'Poly Crepe', 'Polyviscose',\n",
       "       'Viscose Rayon', 'Wool', 'Pure Cotton', 'Cotton Blend',\n",
       "       'Poly Chiffon', 'Linen', 'Poly Georgette', 'Georgette',\n",
       "       'Silk Blend', 'Fleece', 'Net', 'Modal', 'Art Silk', 'Acrylic',\n",
       "       'Other', 'Polycotton', 'Nylon', 'Denim', 'Leather', 'Velvet',\n",
       "       'Liva', 'Poly Silk', 'Silk', 'Pure Silk', 'PU', 'Cotton Silk',\n",
       "       'Corduroy', 'Organza', 'Viscose Georgette', 'Wool Blend',\n",
       "       'Chiffon', 'Organic Cotton', 'Brocade', 'Faux Fur', 'Suede',\n",
       "       'Satin', 'Pure Georgette', 'Chanderi Silk', 'Crepe', 'Tencel',\n",
       "       'Elastane', 'Dupion', 'Jacquard', 'Synthetic Leather', 'Voile',\n",
       "       'Dupion Silk', 'Velour', 'Pashmina', 'Pure Crepe', 'Lyocell',\n",
       "       'Raw Silk', 'Polyester PU Coated', 'Hemp', 'Livaeco'], dtype=object)"
      ]
     },
     "execution_count": 21,
     "metadata": {},
     "output_type": "execute_result"
    }
   ],
   "source": [
    "pd.unique(fashion_dataset['Fabric'])"
   ]
  },
  {
   "cell_type": "code",
   "execution_count": 22,
   "id": "760f41da",
   "metadata": {
    "scrolled": true
   },
   "outputs": [
    {
     "data": {
      "text/html": [
       "<div>\n",
       "<style scoped>\n",
       "    .dataframe tbody tr th:only-of-type {\n",
       "        vertical-align: middle;\n",
       "    }\n",
       "\n",
       "    .dataframe tbody tr th {\n",
       "        vertical-align: top;\n",
       "    }\n",
       "\n",
       "    .dataframe thead th {\n",
       "        text-align: right;\n",
       "    }\n",
       "</style>\n",
       "<table border=\"1\" class=\"dataframe\">\n",
       "  <thead>\n",
       "    <tr style=\"text-align: right;\">\n",
       "      <th></th>\n",
       "      <th>count(Fabric)</th>\n",
       "    </tr>\n",
       "  </thead>\n",
       "  <tbody>\n",
       "    <tr>\n",
       "      <th>0</th>\n",
       "      <td>0</td>\n",
       "    </tr>\n",
       "  </tbody>\n",
       "</table>\n",
       "</div>"
      ],
      "text/plain": [
       "   count(Fabric)\n",
       "0              0"
      ]
     },
     "execution_count": 22,
     "metadata": {},
     "output_type": "execute_result"
    }
   ],
   "source": [
    "sqldf(\"select count(Fabric) from fashion_dataset where Fabric = 'NA'\")"
   ]
  },
  {
   "cell_type": "code",
   "execution_count": 23,
   "id": "da7990c7",
   "metadata": {},
   "outputs": [
    {
     "data": {
      "text/plain": [
       "3876"
      ]
     },
     "execution_count": 23,
     "metadata": {},
     "output_type": "execute_result"
    }
   ],
   "source": [
    "fashion_dataset['Fabric'].isna().sum()"
   ]
  },
  {
   "cell_type": "code",
   "execution_count": 24,
   "id": "7338a967",
   "metadata": {},
   "outputs": [
    {
     "data": {
      "text/plain": [
       "array([nan, 'Cotton Blend', 'Viscose Rayon', 'Pure Cotton', 'Satin',\n",
       "       'Polyester', 'Poly Georgette', 'Shantoon', 'Silk Georgette',\n",
       "       'Poly Crepe', 'Organic Cotton', 'Poly Silk', 'Silk Blend',\n",
       "       'Art Silk', 'Pure Silk', 'Pure Wool', 'Poly Chiffon', 'Net',\n",
       "       'Silk Crepe', 'Silk Chiffon', 'Linen', 'NA', 'Pashmina',\n",
       "       'Jute Cotton', 'Nylon', 'Velvet', 'Voile'], dtype=object)"
      ]
     },
     "execution_count": 24,
     "metadata": {},
     "output_type": "execute_result"
    }
   ],
   "source": [
    "pd.unique(fashion_dataset['Bottom_Fabric'])"
   ]
  },
  {
   "cell_type": "code",
   "execution_count": 25,
   "id": "6dfdecd6",
   "metadata": {},
   "outputs": [],
   "source": [
    "fashion_dataset['Bottom_Fabric'] = fashion_dataset['Bottom_Fabric'].where(fashion_dataset['Bottom_Fabric'] != 'NA', None)"
   ]
  },
  {
   "cell_type": "code",
   "execution_count": 26,
   "id": "771dde5d",
   "metadata": {},
   "outputs": [
    {
     "data": {
      "text/plain": [
       "array([nan, 'Viscose Rayon', 'Organza', 'Poly Silk', 'Silk Blend',\n",
       "       'Cotton', 'Linen Blend', 'Poly Georgette', 'Pure Georgette',\n",
       "       'Art Silk', 'Net', 'Silk', 'Satin', 'NA', 'Pure Silk', 'Polyester',\n",
       "       'Brocade', 'Tissue', 'Cotton Blend', 'Silk Cotton', 'Velvet',\n",
       "       'Poly Crepe', 'Pure Cotton', 'Raw Silk', 'Polycotton',\n",
       "       'Pure Chiffon', 'Jute Silk', 'Poly Chiffon', 'Liva', 'Pure Crepe',\n",
       "       'Pure Linen', 'Supernet', 'Jute Cotton'], dtype=object)"
      ]
     },
     "execution_count": 26,
     "metadata": {},
     "output_type": "execute_result"
    }
   ],
   "source": [
    "pd.unique(fashion_dataset['Blouse_Fabric'])"
   ]
  },
  {
   "cell_type": "code",
   "execution_count": 27,
   "id": "3bf6b67a",
   "metadata": {},
   "outputs": [],
   "source": [
    "fashion_dataset['Blouse_Fabric'] = fashion_dataset['Blouse_Fabric'].where(fashion_dataset['Blouse_Fabric'] != 'NA', None)"
   ]
  },
  {
   "cell_type": "code",
   "execution_count": 28,
   "id": "d664707b",
   "metadata": {},
   "outputs": [
    {
     "data": {
      "text/plain": [
       "array([nan, 'Cotton Blend', 'Viscose Rayon', 'Pure Cotton', 'Polyester',\n",
       "       'Liva', 'Poly Crepe', 'Organic Cotton', 'Poly Silk', 'Silk Blend',\n",
       "       'Poly Georgette', 'Art Silk', 'Pure Wool', 'Net', 'Silk Chiffon',\n",
       "       'Linen', 'Poly Chanderi', 'Pure Silk', 'Chanderi Cotton',\n",
       "       'Chanderi Silk', 'Acrylic', 'Silk Georgette', 'Nylon', 'Velvet',\n",
       "       'Poly Chiffon', 'Voile'], dtype=object)"
      ]
     },
     "execution_count": 28,
     "metadata": {},
     "output_type": "execute_result"
    }
   ],
   "source": [
    "pd.unique(fashion_dataset['Top_Fabric'])"
   ]
  },
  {
   "cell_type": "code",
   "execution_count": 29,
   "id": "3a3e9b12",
   "metadata": {},
   "outputs": [
    {
     "data": {
      "text/plain": [
       "array([nan, 'Georgette', 'NA', 'Denim', 'Cotton', 'Lace', 'Crepe',\n",
       "       'Chiffon', 'Cotton Cambric', 'Net', 'Dobby', 'Scuba', 'Satin',\n",
       "       'Liva', 'Twill', 'Linen', 'Chambray', 'Velvet', 'Jacquard',\n",
       "       'Corduroy', 'Schiffli', 'Terry'], dtype=object)"
      ]
     },
     "execution_count": 29,
     "metadata": {},
     "output_type": "execute_result"
    }
   ],
   "source": [
    "pd.unique(fashion_dataset['Fabric_Type'])"
   ]
  },
  {
   "cell_type": "code",
   "execution_count": 30,
   "id": "55bff9fa",
   "metadata": {},
   "outputs": [],
   "source": [
    "fashion_dataset['Fabric_Type'] = fashion_dataset['Fabric_Type'].where(fashion_dataset['Fabric_Type'] != 'NA', None)"
   ]
  },
  {
   "cell_type": "code",
   "execution_count": 31,
   "id": "c5a3860f",
   "metadata": {},
   "outputs": [],
   "source": [
    "fashion_dataset['Fabric'] = fashion_dataset['Fabric'].combine_first(fashion_dataset['Top_Fabric'])"
   ]
  },
  {
   "cell_type": "code",
   "execution_count": 32,
   "id": "f1f3e622",
   "metadata": {},
   "outputs": [
    {
     "data": {
      "text/plain": [
       "2702"
      ]
     },
     "execution_count": 32,
     "metadata": {},
     "output_type": "execute_result"
    }
   ],
   "source": [
    "fashion_dataset['Fabric'].isna().sum()"
   ]
  },
  {
   "cell_type": "code",
   "execution_count": 33,
   "id": "7fcbcde8",
   "metadata": {},
   "outputs": [],
   "source": [
    "fashion_dataset['Fabric'] = fashion_dataset['Fabric'].combine_first(fashion_dataset['Bottom_Fabric'])"
   ]
  },
  {
   "cell_type": "code",
   "execution_count": 34,
   "id": "e250873d",
   "metadata": {},
   "outputs": [
    {
     "data": {
      "text/plain": [
       "2070"
      ]
     },
     "execution_count": 34,
     "metadata": {},
     "output_type": "execute_result"
    }
   ],
   "source": [
    "fashion_dataset['Fabric'].isna().sum()"
   ]
  },
  {
   "cell_type": "code",
   "execution_count": 35,
   "id": "0b7cd677",
   "metadata": {},
   "outputs": [],
   "source": [
    "fashion_dataset['Fabric'] = fashion_dataset['Fabric'].combine_first(fashion_dataset['Fabric_Type'])"
   ]
  },
  {
   "cell_type": "code",
   "execution_count": 36,
   "id": "188c432e",
   "metadata": {},
   "outputs": [
    {
     "data": {
      "text/plain": [
       "2022"
      ]
     },
     "execution_count": 36,
     "metadata": {},
     "output_type": "execute_result"
    }
   ],
   "source": [
    "fashion_dataset['Fabric'].isna().sum()"
   ]
  },
  {
   "cell_type": "code",
   "execution_count": 37,
   "id": "45164693",
   "metadata": {},
   "outputs": [],
   "source": [
    "fashion_dataset['Fabric'] = fashion_dataset['Fabric'].combine_first(fashion_dataset['Blouse_Fabric'])"
   ]
  },
  {
   "cell_type": "code",
   "execution_count": 38,
   "id": "ec0e0068",
   "metadata": {},
   "outputs": [
    {
     "data": {
      "text/plain": [
       "199"
      ]
     },
     "execution_count": 38,
     "metadata": {},
     "output_type": "execute_result"
    }
   ],
   "source": [
    "fashion_dataset['Fabric'].isna().sum()"
   ]
  },
  {
   "cell_type": "code",
   "execution_count": 39,
   "id": "350b464e",
   "metadata": {},
   "outputs": [
    {
     "data": {
      "text/plain": [
       "array([nan, 'Regular', 'Better Cotton Initiative'], dtype=object)"
      ]
     },
     "execution_count": 39,
     "metadata": {},
     "output_type": "execute_result"
    }
   ],
   "source": [
    "pd.unique(fashion_dataset['Better_Cotton'])"
   ]
  },
  {
   "cell_type": "code",
   "execution_count": 40,
   "id": "a967a1cf",
   "metadata": {},
   "outputs": [
    {
     "data": {
      "text/html": [
       "<div>\n",
       "<style scoped>\n",
       "    .dataframe tbody tr th:only-of-type {\n",
       "        vertical-align: middle;\n",
       "    }\n",
       "\n",
       "    .dataframe tbody tr th {\n",
       "        vertical-align: top;\n",
       "    }\n",
       "\n",
       "    .dataframe thead th {\n",
       "        text-align: right;\n",
       "    }\n",
       "</style>\n",
       "<table border=\"1\" class=\"dataframe\">\n",
       "  <thead>\n",
       "    <tr style=\"text-align: right;\">\n",
       "      <th></th>\n",
       "      <th>Better_Cotton</th>\n",
       "    </tr>\n",
       "  </thead>\n",
       "  <tbody>\n",
       "    <tr>\n",
       "      <th>0</th>\n",
       "      <td>Regular</td>\n",
       "    </tr>\n",
       "    <tr>\n",
       "      <th>1</th>\n",
       "      <td>Regular</td>\n",
       "    </tr>\n",
       "    <tr>\n",
       "      <th>2</th>\n",
       "      <td>Regular</td>\n",
       "    </tr>\n",
       "  </tbody>\n",
       "</table>\n",
       "</div>"
      ],
      "text/plain": [
       "  Better_Cotton\n",
       "0       Regular\n",
       "1       Regular\n",
       "2       Regular"
      ]
     },
     "execution_count": 40,
     "metadata": {},
     "output_type": "execute_result"
    }
   ],
   "source": [
    "sqldf(\"select Better_Cotton from fashion_dataset where Fabric is null and Better_Cotton in('Better Cotton Initiative','Regular')\")"
   ]
  },
  {
   "cell_type": "code",
   "execution_count": 41,
   "id": "6317a3dd",
   "metadata": {},
   "outputs": [],
   "source": [
    "fashion_dataset['New_Cotton'] = fashion_dataset['Better_Cotton'].replace(['Regular', 'Better Cotton Initiative'], ['Cotton',None])"
   ]
  },
  {
   "cell_type": "code",
   "execution_count": 42,
   "id": "2e78a5d3",
   "metadata": {},
   "outputs": [],
   "source": [
    "fashion_dataset['Fabric'] = fashion_dataset['Fabric'].combine_first(fashion_dataset['New_Cotton'])"
   ]
  },
  {
   "cell_type": "code",
   "execution_count": 43,
   "id": "b35540e1",
   "metadata": {},
   "outputs": [
    {
     "data": {
      "text/plain": [
       "196"
      ]
     },
     "execution_count": 43,
     "metadata": {},
     "output_type": "execute_result"
    }
   ],
   "source": [
    "fashion_dataset['Fabric'].isna().sum()"
   ]
  },
  {
   "cell_type": "code",
   "execution_count": 44,
   "id": "b79ca721",
   "metadata": {},
   "outputs": [],
   "source": [
    "pd.unique(fashion_dataset['Dupatta_Fabric'])\n",
    "fashion_dataset['Dupatta_Fabric'] = fashion_dataset['Dupatta_Fabric'].where(fashion_dataset['Dupatta_Fabric'] != 'NA', None)"
   ]
  },
  {
   "cell_type": "code",
   "execution_count": 45,
   "id": "d65f2554",
   "metadata": {},
   "outputs": [
    {
     "data": {
      "text/html": [
       "<div>\n",
       "<style scoped>\n",
       "    .dataframe tbody tr th:only-of-type {\n",
       "        vertical-align: middle;\n",
       "    }\n",
       "\n",
       "    .dataframe tbody tr th {\n",
       "        vertical-align: top;\n",
       "    }\n",
       "\n",
       "    .dataframe thead th {\n",
       "        text-align: right;\n",
       "    }\n",
       "</style>\n",
       "<table border=\"1\" class=\"dataframe\">\n",
       "  <thead>\n",
       "    <tr style=\"text-align: right;\">\n",
       "      <th></th>\n",
       "      <th>Dupatta_Fabric</th>\n",
       "    </tr>\n",
       "  </thead>\n",
       "  <tbody>\n",
       "    <tr>\n",
       "      <th>0</th>\n",
       "      <td>Net</td>\n",
       "    </tr>\n",
       "  </tbody>\n",
       "</table>\n",
       "</div>"
      ],
      "text/plain": [
       "  Dupatta_Fabric\n",
       "0            Net"
      ]
     },
     "execution_count": 45,
     "metadata": {},
     "output_type": "execute_result"
    }
   ],
   "source": [
    "sqldf(\"select Dupatta_Fabric from fashion_dataset where Dupatta_Fabric is not null and Fabric is null\")"
   ]
  },
  {
   "cell_type": "code",
   "execution_count": 46,
   "id": "d0c98691",
   "metadata": {},
   "outputs": [
    {
     "data": {
      "text/html": [
       "<div>\n",
       "<style scoped>\n",
       "    .dataframe tbody tr th:only-of-type {\n",
       "        vertical-align: middle;\n",
       "    }\n",
       "\n",
       "    .dataframe tbody tr th {\n",
       "        vertical-align: top;\n",
       "    }\n",
       "\n",
       "    .dataframe thead th {\n",
       "        text-align: right;\n",
       "    }\n",
       "</style>\n",
       "<table border=\"1\" class=\"dataframe\">\n",
       "  <thead>\n",
       "    <tr style=\"text-align: right;\">\n",
       "      <th></th>\n",
       "      <th>Weave_Pattern</th>\n",
       "      <th>Fabric</th>\n",
       "    </tr>\n",
       "  </thead>\n",
       "  <tbody>\n",
       "    <tr>\n",
       "      <th>0</th>\n",
       "      <td>None</td>\n",
       "      <td>None</td>\n",
       "    </tr>\n",
       "    <tr>\n",
       "      <th>1</th>\n",
       "      <td>None</td>\n",
       "      <td>Cotton</td>\n",
       "    </tr>\n",
       "    <tr>\n",
       "      <th>2</th>\n",
       "      <td>None</td>\n",
       "      <td>Cotton Blend</td>\n",
       "    </tr>\n",
       "    <tr>\n",
       "      <th>3</th>\n",
       "      <td>None</td>\n",
       "      <td>None</td>\n",
       "    </tr>\n",
       "    <tr>\n",
       "      <th>4</th>\n",
       "      <td>None</td>\n",
       "      <td>Cotton</td>\n",
       "    </tr>\n",
       "    <tr>\n",
       "      <th>...</th>\n",
       "      <td>...</td>\n",
       "      <td>...</td>\n",
       "    </tr>\n",
       "    <tr>\n",
       "      <th>14218</th>\n",
       "      <td>None</td>\n",
       "      <td>Jute Cotton</td>\n",
       "    </tr>\n",
       "    <tr>\n",
       "      <th>14219</th>\n",
       "      <td>None</td>\n",
       "      <td>Cotton</td>\n",
       "    </tr>\n",
       "    <tr>\n",
       "      <th>14220</th>\n",
       "      <td>None</td>\n",
       "      <td>Polycotton</td>\n",
       "    </tr>\n",
       "    <tr>\n",
       "      <th>14221</th>\n",
       "      <td>None</td>\n",
       "      <td>Viscose Rayon</td>\n",
       "    </tr>\n",
       "    <tr>\n",
       "      <th>14222</th>\n",
       "      <td>None</td>\n",
       "      <td>Nylon</td>\n",
       "    </tr>\n",
       "  </tbody>\n",
       "</table>\n",
       "<p>14223 rows × 2 columns</p>\n",
       "</div>"
      ],
      "text/plain": [
       "      Weave_Pattern         Fabric\n",
       "0              None           None\n",
       "1              None         Cotton\n",
       "2              None   Cotton Blend\n",
       "3              None           None\n",
       "4              None         Cotton\n",
       "...             ...            ...\n",
       "14218          None    Jute Cotton\n",
       "14219          None         Cotton\n",
       "14220          None     Polycotton\n",
       "14221          None  Viscose Rayon\n",
       "14222          None          Nylon\n",
       "\n",
       "[14223 rows x 2 columns]"
      ]
     },
     "execution_count": 46,
     "metadata": {},
     "output_type": "execute_result"
    }
   ],
   "source": [
    "sqldf(\"select Weave_Pattern, Fabric from fashion_dataset\")"
   ]
  },
  {
   "cell_type": "code",
   "execution_count": 47,
   "id": "9974dcca",
   "metadata": {},
   "outputs": [],
   "source": [
    "fashion_dataset['Fabric'] = fashion_dataset['Fabric'].combine_first(fashion_dataset['Weave_Pattern'])"
   ]
  },
  {
   "cell_type": "code",
   "execution_count": 48,
   "id": "47b2f68c",
   "metadata": {},
   "outputs": [],
   "source": [
    "fashion_dataset['Fabric'] = fashion_dataset['Fabric'].combine_first(fashion_dataset['Dupatta_Fabric'])"
   ]
  },
  {
   "cell_type": "code",
   "execution_count": 49,
   "id": "792f509d",
   "metadata": {},
   "outputs": [
    {
     "data": {
      "text/plain": [
       "194"
      ]
     },
     "execution_count": 49,
     "metadata": {},
     "output_type": "execute_result"
    }
   ],
   "source": [
    "fashion_dataset['Fabric'].isna().sum()"
   ]
  },
  {
   "cell_type": "code",
   "execution_count": 50,
   "id": "a30686e8",
   "metadata": {},
   "outputs": [
    {
     "data": {
      "text/html": [
       "<div>\n",
       "<style scoped>\n",
       "    .dataframe tbody tr th:only-of-type {\n",
       "        vertical-align: middle;\n",
       "    }\n",
       "\n",
       "    .dataframe tbody tr th {\n",
       "        vertical-align: top;\n",
       "    }\n",
       "\n",
       "    .dataframe thead th {\n",
       "        text-align: right;\n",
       "    }\n",
       "</style>\n",
       "<table border=\"1\" class=\"dataframe\">\n",
       "  <thead>\n",
       "    <tr style=\"text-align: right;\">\n",
       "      <th></th>\n",
       "      <th>Saree_Fabric</th>\n",
       "    </tr>\n",
       "  </thead>\n",
       "  <tbody>\n",
       "    <tr>\n",
       "      <th>0</th>\n",
       "      <td>Poly Georgette</td>\n",
       "    </tr>\n",
       "    <tr>\n",
       "      <th>1</th>\n",
       "      <td>Pure Linen</td>\n",
       "    </tr>\n",
       "    <tr>\n",
       "      <th>2</th>\n",
       "      <td>Pure Cotton</td>\n",
       "    </tr>\n",
       "    <tr>\n",
       "      <th>3</th>\n",
       "      <td>Cotton Blend</td>\n",
       "    </tr>\n",
       "    <tr>\n",
       "      <th>4</th>\n",
       "      <td>Cotton Blend</td>\n",
       "    </tr>\n",
       "    <tr>\n",
       "      <th>5</th>\n",
       "      <td>Pure Linen</td>\n",
       "    </tr>\n",
       "    <tr>\n",
       "      <th>6</th>\n",
       "      <td>Pure Cotton</td>\n",
       "    </tr>\n",
       "    <tr>\n",
       "      <th>7</th>\n",
       "      <td>Pure Chiffon</td>\n",
       "    </tr>\n",
       "    <tr>\n",
       "      <th>8</th>\n",
       "      <td>Poly Chiffon</td>\n",
       "    </tr>\n",
       "    <tr>\n",
       "      <th>9</th>\n",
       "      <td>Pure Cotton</td>\n",
       "    </tr>\n",
       "    <tr>\n",
       "      <th>10</th>\n",
       "      <td>Pure Cotton</td>\n",
       "    </tr>\n",
       "    <tr>\n",
       "      <th>11</th>\n",
       "      <td>Pure Chiffon</td>\n",
       "    </tr>\n",
       "    <tr>\n",
       "      <th>12</th>\n",
       "      <td>Pure Cotton</td>\n",
       "    </tr>\n",
       "    <tr>\n",
       "      <th>13</th>\n",
       "      <td>Organza</td>\n",
       "    </tr>\n",
       "    <tr>\n",
       "      <th>14</th>\n",
       "      <td>Cotton Blend</td>\n",
       "    </tr>\n",
       "    <tr>\n",
       "      <th>15</th>\n",
       "      <td>Polycotton</td>\n",
       "    </tr>\n",
       "    <tr>\n",
       "      <th>16</th>\n",
       "      <td>Polycotton</td>\n",
       "    </tr>\n",
       "    <tr>\n",
       "      <th>17</th>\n",
       "      <td>Pure Cotton</td>\n",
       "    </tr>\n",
       "    <tr>\n",
       "      <th>18</th>\n",
       "      <td>Pure Linen</td>\n",
       "    </tr>\n",
       "    <tr>\n",
       "      <th>19</th>\n",
       "      <td>Cotton Blend</td>\n",
       "    </tr>\n",
       "    <tr>\n",
       "      <th>20</th>\n",
       "      <td>Cotton Blend</td>\n",
       "    </tr>\n",
       "    <tr>\n",
       "      <th>21</th>\n",
       "      <td>Satin</td>\n",
       "    </tr>\n",
       "    <tr>\n",
       "      <th>22</th>\n",
       "      <td>Pure Chiffon</td>\n",
       "    </tr>\n",
       "    <tr>\n",
       "      <th>23</th>\n",
       "      <td>Organza</td>\n",
       "    </tr>\n",
       "    <tr>\n",
       "      <th>24</th>\n",
       "      <td>Polyester</td>\n",
       "    </tr>\n",
       "    <tr>\n",
       "      <th>25</th>\n",
       "      <td>Pure Cotton</td>\n",
       "    </tr>\n",
       "    <tr>\n",
       "      <th>26</th>\n",
       "      <td>Liva</td>\n",
       "    </tr>\n",
       "    <tr>\n",
       "      <th>27</th>\n",
       "      <td>Pure Cotton</td>\n",
       "    </tr>\n",
       "    <tr>\n",
       "      <th>28</th>\n",
       "      <td>Cotton Blend</td>\n",
       "    </tr>\n",
       "    <tr>\n",
       "      <th>29</th>\n",
       "      <td>Pure Cotton</td>\n",
       "    </tr>\n",
       "    <tr>\n",
       "      <th>30</th>\n",
       "      <td>Pure Cotton</td>\n",
       "    </tr>\n",
       "    <tr>\n",
       "      <th>31</th>\n",
       "      <td>Pure Cotton</td>\n",
       "    </tr>\n",
       "    <tr>\n",
       "      <th>32</th>\n",
       "      <td>Satin</td>\n",
       "    </tr>\n",
       "    <tr>\n",
       "      <th>33</th>\n",
       "      <td>Satin</td>\n",
       "    </tr>\n",
       "    <tr>\n",
       "      <th>34</th>\n",
       "      <td>Pure Cotton</td>\n",
       "    </tr>\n",
       "    <tr>\n",
       "      <th>35</th>\n",
       "      <td>Pure Cotton</td>\n",
       "    </tr>\n",
       "    <tr>\n",
       "      <th>36</th>\n",
       "      <td>Silk Cotton</td>\n",
       "    </tr>\n",
       "    <tr>\n",
       "      <th>37</th>\n",
       "      <td>Silk Cotton</td>\n",
       "    </tr>\n",
       "    <tr>\n",
       "      <th>38</th>\n",
       "      <td>Pure Cotton</td>\n",
       "    </tr>\n",
       "    <tr>\n",
       "      <th>39</th>\n",
       "      <td>Cotton Blend</td>\n",
       "    </tr>\n",
       "    <tr>\n",
       "      <th>40</th>\n",
       "      <td>Satin</td>\n",
       "    </tr>\n",
       "    <tr>\n",
       "      <th>41</th>\n",
       "      <td>Poly Chiffon</td>\n",
       "    </tr>\n",
       "    <tr>\n",
       "      <th>42</th>\n",
       "      <td>Nylon</td>\n",
       "    </tr>\n",
       "    <tr>\n",
       "      <th>43</th>\n",
       "      <td>Pure Cotton</td>\n",
       "    </tr>\n",
       "    <tr>\n",
       "      <th>44</th>\n",
       "      <td>Pure Cotton</td>\n",
       "    </tr>\n",
       "    <tr>\n",
       "      <th>45</th>\n",
       "      <td>Pure Chiffon</td>\n",
       "    </tr>\n",
       "    <tr>\n",
       "      <th>46</th>\n",
       "      <td>Cotton Blend</td>\n",
       "    </tr>\n",
       "    <tr>\n",
       "      <th>47</th>\n",
       "      <td>Pure Cotton</td>\n",
       "    </tr>\n",
       "    <tr>\n",
       "      <th>48</th>\n",
       "      <td>Cotton Blend</td>\n",
       "    </tr>\n",
       "    <tr>\n",
       "      <th>49</th>\n",
       "      <td>Pure Cotton</td>\n",
       "    </tr>\n",
       "    <tr>\n",
       "      <th>50</th>\n",
       "      <td>Pure Cotton</td>\n",
       "    </tr>\n",
       "    <tr>\n",
       "      <th>51</th>\n",
       "      <td>Pure Chiffon</td>\n",
       "    </tr>\n",
       "    <tr>\n",
       "      <th>52</th>\n",
       "      <td>Pure Cotton</td>\n",
       "    </tr>\n",
       "    <tr>\n",
       "      <th>53</th>\n",
       "      <td>Cotton Blend</td>\n",
       "    </tr>\n",
       "    <tr>\n",
       "      <th>54</th>\n",
       "      <td>Pure Cotton</td>\n",
       "    </tr>\n",
       "  </tbody>\n",
       "</table>\n",
       "</div>"
      ],
      "text/plain": [
       "      Saree_Fabric\n",
       "0   Poly Georgette\n",
       "1       Pure Linen\n",
       "2      Pure Cotton\n",
       "3     Cotton Blend\n",
       "4     Cotton Blend\n",
       "5       Pure Linen\n",
       "6      Pure Cotton\n",
       "7     Pure Chiffon\n",
       "8     Poly Chiffon\n",
       "9      Pure Cotton\n",
       "10     Pure Cotton\n",
       "11    Pure Chiffon\n",
       "12     Pure Cotton\n",
       "13         Organza\n",
       "14    Cotton Blend\n",
       "15      Polycotton\n",
       "16      Polycotton\n",
       "17     Pure Cotton\n",
       "18      Pure Linen\n",
       "19    Cotton Blend\n",
       "20    Cotton Blend\n",
       "21           Satin\n",
       "22    Pure Chiffon\n",
       "23         Organza\n",
       "24       Polyester\n",
       "25     Pure Cotton\n",
       "26            Liva\n",
       "27     Pure Cotton\n",
       "28    Cotton Blend\n",
       "29     Pure Cotton\n",
       "30     Pure Cotton\n",
       "31     Pure Cotton\n",
       "32           Satin\n",
       "33           Satin\n",
       "34     Pure Cotton\n",
       "35     Pure Cotton\n",
       "36     Silk Cotton\n",
       "37     Silk Cotton\n",
       "38     Pure Cotton\n",
       "39    Cotton Blend\n",
       "40           Satin\n",
       "41    Poly Chiffon\n",
       "42           Nylon\n",
       "43     Pure Cotton\n",
       "44     Pure Cotton\n",
       "45    Pure Chiffon\n",
       "46    Cotton Blend\n",
       "47     Pure Cotton\n",
       "48    Cotton Blend\n",
       "49     Pure Cotton\n",
       "50     Pure Cotton\n",
       "51    Pure Chiffon\n",
       "52     Pure Cotton\n",
       "53    Cotton Blend\n",
       "54     Pure Cotton"
      ]
     },
     "execution_count": 50,
     "metadata": {},
     "output_type": "execute_result"
    }
   ],
   "source": [
    "sqldf(\"select Saree_Fabric from fashion_dataset where Saree_Fabric is not null and Fabric is null\")"
   ]
  },
  {
   "cell_type": "code",
   "execution_count": 51,
   "id": "147e2587",
   "metadata": {},
   "outputs": [],
   "source": [
    "fashion_dataset['Fabric'] = fashion_dataset['Fabric'].combine_first(fashion_dataset['Saree_Fabric'])"
   ]
  },
  {
   "cell_type": "code",
   "execution_count": 52,
   "id": "e6fdc4e1",
   "metadata": {
    "scrolled": true
   },
   "outputs": [
    {
     "data": {
      "text/plain": [
       "139"
      ]
     },
     "execution_count": 52,
     "metadata": {},
     "output_type": "execute_result"
    }
   ],
   "source": [
    "fashion_dataset['Fabric'].isna().sum()"
   ]
  },
  {
   "cell_type": "code",
   "execution_count": 53,
   "id": "12bb8561",
   "metadata": {},
   "outputs": [
    {
     "data": {
      "text/plain": [
       "0    Cotton\n",
       "Name: Fabric, dtype: object"
      ]
     },
     "execution_count": 53,
     "metadata": {},
     "output_type": "execute_result"
    }
   ],
   "source": [
    "fashion_dataset['Fabric'].mode()"
   ]
  },
  {
   "cell_type": "code",
   "execution_count": 54,
   "id": "59fdeacc",
   "metadata": {},
   "outputs": [
    {
     "data": {
      "text/plain": [
       "0"
      ]
     },
     "execution_count": 54,
     "metadata": {},
     "output_type": "execute_result"
    }
   ],
   "source": [
    "fashion_dataset.fillna({'Fabric':'Cotton'}, inplace=True)\n",
    "fashion_dataset['Fabric'].isna().sum()"
   ]
  },
  {
   "cell_type": "code",
   "execution_count": 55,
   "id": "7f012b28",
   "metadata": {
    "scrolled": true
   },
   "outputs": [
    {
     "data": {
      "text/html": [
       "<div>\n",
       "<style scoped>\n",
       "    .dataframe tbody tr th:only-of-type {\n",
       "        vertical-align: middle;\n",
       "    }\n",
       "\n",
       "    .dataframe tbody tr th {\n",
       "        vertical-align: top;\n",
       "    }\n",
       "\n",
       "    .dataframe thead th {\n",
       "        text-align: right;\n",
       "    }\n",
       "</style>\n",
       "<table border=\"1\" class=\"dataframe\">\n",
       "  <thead>\n",
       "    <tr style=\"text-align: right;\">\n",
       "      <th></th>\n",
       "      <th>count(Fabric)</th>\n",
       "    </tr>\n",
       "  </thead>\n",
       "  <tbody>\n",
       "    <tr>\n",
       "      <th>0</th>\n",
       "      <td>0</td>\n",
       "    </tr>\n",
       "  </tbody>\n",
       "</table>\n",
       "</div>"
      ],
      "text/plain": [
       "   count(Fabric)\n",
       "0              0"
      ]
     },
     "execution_count": 55,
     "metadata": {},
     "output_type": "execute_result"
    }
   ],
   "source": [
    "sqldf(\"select count(Fabric) from fashion_dataset where Fabric = 'NA'\")"
   ]
  },
  {
   "cell_type": "markdown",
   "id": "f835909e",
   "metadata": {},
   "source": [
    "### Viewing Weave Pattern, Weave Type & Knit or Woven"
   ]
  },
  {
   "cell_type": "code",
   "execution_count": 56,
   "id": "dbb9c50c",
   "metadata": {
    "scrolled": true
   },
   "outputs": [
    {
     "data": {
      "text/plain": [
       "array([nan, 'Knitted', 'Knitted and Woven', 'Woven'], dtype=object)"
      ]
     },
     "execution_count": 56,
     "metadata": {},
     "output_type": "execute_result"
    }
   ],
   "source": [
    "pd.unique(fashion_dataset['Knit_or_Woven'])"
   ]
  },
  {
   "cell_type": "code",
   "execution_count": 57,
   "id": "0e3c6093",
   "metadata": {},
   "outputs": [
    {
     "data": {
      "text/plain": [
       "array([nan, 'Woven', 'Machine Weave', 'Knitted', 'Knitted and Woven',\n",
       "       'Velvet', 'Denim', 'Handloom', 'Lace', 'Chambray', 'Corduroy'],\n",
       "      dtype=object)"
      ]
     },
     "execution_count": 57,
     "metadata": {},
     "output_type": "execute_result"
    }
   ],
   "source": [
    "pd.unique(fashion_dataset['Weave_Type'])"
   ]
  },
  {
   "cell_type": "code",
   "execution_count": 58,
   "id": "211a439a",
   "metadata": {},
   "outputs": [
    {
     "data": {
      "text/plain": [
       "array([nan, 'Regular', 'Jacquard', 'Brocade', 'Dobby', 'Khadi'],\n",
       "      dtype=object)"
      ]
     },
     "execution_count": 58,
     "metadata": {},
     "output_type": "execute_result"
    }
   ],
   "source": [
    "pd.unique(fashion_dataset['Weave_Pattern'])"
   ]
  },
  {
   "cell_type": "markdown",
   "id": "2dcab36c",
   "metadata": {},
   "source": [
    "### Formatting Weave Pattern  and Weave Type to fill Knit or Woven"
   ]
  },
  {
   "cell_type": "code",
   "execution_count": 59,
   "id": "958de523",
   "metadata": {},
   "outputs": [],
   "source": [
    "fashion_dataset['Weave_Pattern_2'] = fashion_dataset['Weave_Pattern'].replace(['Regular', 'Jacquard', 'Brocade', 'Dobby', 'Khadi'], ['Woven','Woven','Woven','Woven','Woven'])"
   ]
  },
  {
   "cell_type": "code",
   "execution_count": 60,
   "id": "e065dc8e",
   "metadata": {},
   "outputs": [
    {
     "data": {
      "text/plain": [
       "array([nan, 'Woven'], dtype=object)"
      ]
     },
     "execution_count": 60,
     "metadata": {},
     "output_type": "execute_result"
    }
   ],
   "source": [
    "pd.unique(fashion_dataset['Weave_Pattern_2'])"
   ]
  },
  {
   "cell_type": "code",
   "execution_count": 61,
   "id": "9b6f36d2",
   "metadata": {},
   "outputs": [],
   "source": [
    "fashion_dataset['Weave_Type_2'] = fashion_dataset['Weave_Type'].replace(['Machine Weave',\n",
    "       'Velvet', 'Denim', 'Handloom', 'Lace', 'Chambray', 'Corduroy'], ['Woven','Woven','Woven','Woven','Knitted','Woven','Woven'])"
   ]
  },
  {
   "cell_type": "markdown",
   "id": "183ac5b8",
   "metadata": {},
   "source": [
    "### Filling Knit_or_Woven"
   ]
  },
  {
   "cell_type": "code",
   "execution_count": 62,
   "id": "4b6c20ba",
   "metadata": {},
   "outputs": [
    {
     "data": {
      "text/plain": [
       "array([nan, 'Knitted', 'Knitted and Woven', 'Woven'], dtype=object)"
      ]
     },
     "execution_count": 62,
     "metadata": {},
     "output_type": "execute_result"
    }
   ],
   "source": [
    "pd.unique(fashion_dataset['Knit_or_Woven'])"
   ]
  },
  {
   "cell_type": "code",
   "execution_count": 63,
   "id": "0cd99e1b",
   "metadata": {},
   "outputs": [],
   "source": [
    "fashion_dataset['Knit_or_Woven'] = fashion_dataset['Knit_or_Woven'].combine_first(fashion_dataset['Weave_Pattern_2'])"
   ]
  },
  {
   "cell_type": "code",
   "execution_count": 64,
   "id": "ac7849ea",
   "metadata": {
    "scrolled": true
   },
   "outputs": [],
   "source": [
    "fashion_dataset['Knit_or_Woven'] = fashion_dataset['Knit_or_Woven'].combine_first(fashion_dataset['Weave_Type_2'])"
   ]
  },
  {
   "cell_type": "code",
   "execution_count": 65,
   "id": "498a24fc",
   "metadata": {},
   "outputs": [
    {
     "data": {
      "text/plain": [
       "7006"
      ]
     },
     "execution_count": 65,
     "metadata": {},
     "output_type": "execute_result"
    }
   ],
   "source": [
    "fashion_dataset['Knit_or_Woven'].isna().sum()"
   ]
  },
  {
   "cell_type": "code",
   "execution_count": 66,
   "id": "e597ba86",
   "metadata": {
    "scrolled": true
   },
   "outputs": [
    {
     "data": {
      "text/plain": [
       "array([nan, 'Woven', 'Knitted', 'Knitted and Woven'], dtype=object)"
      ]
     },
     "execution_count": 66,
     "metadata": {},
     "output_type": "execute_result"
    }
   ],
   "source": [
    "pd.unique(fashion_dataset['Knit_or_Woven'])"
   ]
  },
  {
   "cell_type": "code",
   "execution_count": 67,
   "id": "e22e9db1",
   "metadata": {},
   "outputs": [
    {
     "data": {
      "text/plain": [
       "75"
      ]
     },
     "execution_count": 67,
     "metadata": {},
     "output_type": "execute_result"
    }
   ],
   "source": [
    "len(pd.unique(fashion_dataset['Fabric']))"
   ]
  },
  {
   "cell_type": "code",
   "execution_count": 68,
   "id": "3286d649",
   "metadata": {},
   "outputs": [],
   "source": [
    "fabrics_knit = sqldf(\"select distinct Fabric from fashion_dataset where Knit_or_Woven = 'Knitted'\")"
   ]
  },
  {
   "cell_type": "code",
   "execution_count": 69,
   "id": "045c0a0c",
   "metadata": {},
   "outputs": [
    {
     "data": {
      "text/plain": [
       "Fabric    0\n",
       "dtype: int64"
      ]
     },
     "execution_count": 69,
     "metadata": {},
     "output_type": "execute_result"
    }
   ],
   "source": [
    "fabrics_knit.isna().sum()"
   ]
  },
  {
   "cell_type": "code",
   "execution_count": 70,
   "id": "91d1ae77",
   "metadata": {
    "scrolled": true
   },
   "outputs": [],
   "source": [
    "fabrics_weave = sqldf(\"select distinct Fabric from fashion_dataset where Knit_or_Woven = 'Woven'\")"
   ]
  },
  {
   "cell_type": "code",
   "execution_count": 71,
   "id": "5f2d2af6",
   "metadata": {},
   "outputs": [
    {
     "data": {
      "text/plain": [
       "Fabric    0\n",
       "dtype: int64"
      ]
     },
     "execution_count": 71,
     "metadata": {},
     "output_type": "execute_result"
    }
   ],
   "source": [
    "fabrics_weave.isna().sum()"
   ]
  },
  {
   "cell_type": "code",
   "execution_count": 72,
   "id": "4ca832aa",
   "metadata": {},
   "outputs": [],
   "source": [
    "fabrics_both = sqldf(\"select distinct Fabric from fashion_dataset where Knit_or_Woven = 'Knitted and Woven'\")"
   ]
  },
  {
   "cell_type": "code",
   "execution_count": 73,
   "id": "7b368855",
   "metadata": {},
   "outputs": [
    {
     "data": {
      "text/plain": [
       "Fabric    0\n",
       "dtype: int64"
      ]
     },
     "execution_count": 73,
     "metadata": {},
     "output_type": "execute_result"
    }
   ],
   "source": [
    "fabrics_both.isna().sum()"
   ]
  },
  {
   "cell_type": "code",
   "execution_count": 74,
   "id": "9c53237d",
   "metadata": {},
   "outputs": [],
   "source": [
    "knit_n_woven = sqldf(\"select * from fabrics_knit where fabrics_knit.Fabric in(select fabrics_weave.Fabric from fabrics_weave)\")"
   ]
  },
  {
   "cell_type": "code",
   "execution_count": 75,
   "id": "a006a795",
   "metadata": {},
   "outputs": [
    {
     "data": {
      "text/html": [
       "<div>\n",
       "<style scoped>\n",
       "    .dataframe tbody tr th:only-of-type {\n",
       "        vertical-align: middle;\n",
       "    }\n",
       "\n",
       "    .dataframe tbody tr th {\n",
       "        vertical-align: top;\n",
       "    }\n",
       "\n",
       "    .dataframe thead th {\n",
       "        text-align: right;\n",
       "    }\n",
       "</style>\n",
       "<table border=\"1\" class=\"dataframe\">\n",
       "  <thead>\n",
       "    <tr style=\"text-align: right;\">\n",
       "      <th></th>\n",
       "      <th>Fabric</th>\n",
       "    </tr>\n",
       "  </thead>\n",
       "  <tbody>\n",
       "    <tr>\n",
       "      <th>0</th>\n",
       "      <td>Cotton</td>\n",
       "    </tr>\n",
       "    <tr>\n",
       "      <th>1</th>\n",
       "      <td>Polyester</td>\n",
       "    </tr>\n",
       "    <tr>\n",
       "      <th>2</th>\n",
       "      <td>Denim</td>\n",
       "    </tr>\n",
       "    <tr>\n",
       "      <th>3</th>\n",
       "      <td>Pure Cotton</td>\n",
       "    </tr>\n",
       "    <tr>\n",
       "      <th>4</th>\n",
       "      <td>Cotton Blend</td>\n",
       "    </tr>\n",
       "    <tr>\n",
       "      <th>5</th>\n",
       "      <td>Viscose Rayon</td>\n",
       "    </tr>\n",
       "    <tr>\n",
       "      <th>6</th>\n",
       "      <td>Fleece</td>\n",
       "    </tr>\n",
       "    <tr>\n",
       "      <th>7</th>\n",
       "      <td>Acrylic</td>\n",
       "    </tr>\n",
       "    <tr>\n",
       "      <th>8</th>\n",
       "      <td>Linen</td>\n",
       "    </tr>\n",
       "    <tr>\n",
       "      <th>9</th>\n",
       "      <td>Nylon</td>\n",
       "    </tr>\n",
       "    <tr>\n",
       "      <th>10</th>\n",
       "      <td>Wool</td>\n",
       "    </tr>\n",
       "    <tr>\n",
       "      <th>11</th>\n",
       "      <td>PU</td>\n",
       "    </tr>\n",
       "    <tr>\n",
       "      <th>12</th>\n",
       "      <td>Silk Blend</td>\n",
       "    </tr>\n",
       "    <tr>\n",
       "      <th>13</th>\n",
       "      <td>Modal</td>\n",
       "    </tr>\n",
       "    <tr>\n",
       "      <th>14</th>\n",
       "      <td>Polycotton</td>\n",
       "    </tr>\n",
       "    <tr>\n",
       "      <th>15</th>\n",
       "      <td>Organic Cotton</td>\n",
       "    </tr>\n",
       "    <tr>\n",
       "      <th>16</th>\n",
       "      <td>Georgette</td>\n",
       "    </tr>\n",
       "    <tr>\n",
       "      <th>17</th>\n",
       "      <td>Satin</td>\n",
       "    </tr>\n",
       "    <tr>\n",
       "      <th>18</th>\n",
       "      <td>Silk</td>\n",
       "    </tr>\n",
       "    <tr>\n",
       "      <th>19</th>\n",
       "      <td>Jacquard</td>\n",
       "    </tr>\n",
       "    <tr>\n",
       "      <th>20</th>\n",
       "      <td>Suede</td>\n",
       "    </tr>\n",
       "    <tr>\n",
       "      <th>21</th>\n",
       "      <td>Liva</td>\n",
       "    </tr>\n",
       "    <tr>\n",
       "      <th>22</th>\n",
       "      <td>Corduroy</td>\n",
       "    </tr>\n",
       "  </tbody>\n",
       "</table>\n",
       "</div>"
      ],
      "text/plain": [
       "            Fabric\n",
       "0           Cotton\n",
       "1        Polyester\n",
       "2            Denim\n",
       "3      Pure Cotton\n",
       "4     Cotton Blend\n",
       "5    Viscose Rayon\n",
       "6           Fleece\n",
       "7          Acrylic\n",
       "8            Linen\n",
       "9            Nylon\n",
       "10            Wool\n",
       "11              PU\n",
       "12      Silk Blend\n",
       "13           Modal\n",
       "14      Polycotton\n",
       "15  Organic Cotton\n",
       "16       Georgette\n",
       "17           Satin\n",
       "18            Silk\n",
       "19        Jacquard\n",
       "20           Suede\n",
       "21            Liva\n",
       "22        Corduroy"
      ]
     },
     "execution_count": 75,
     "metadata": {},
     "output_type": "execute_result"
    }
   ],
   "source": [
    "knit_n_woven = sqldf(\"select * from knit_n_woven where Fabric not in ('Other')\")\n",
    "knit_n_woven"
   ]
  },
  {
   "cell_type": "code",
   "execution_count": 76,
   "id": "8815a716",
   "metadata": {},
   "outputs": [],
   "source": [
    "fabrics_both = sqldf(\"select * from fabrics_both where Fabric not in (select Fabric from knit_n_woven)\")"
   ]
  },
  {
   "cell_type": "code",
   "execution_count": 77,
   "id": "ee0a505d",
   "metadata": {},
   "outputs": [],
   "source": [
    "both_fabrics = ps.sqldf(\"select * from knit_n_woven union all select * from fabrics_both\")"
   ]
  },
  {
   "cell_type": "code",
   "execution_count": 78,
   "id": "696d02c3",
   "metadata": {},
   "outputs": [],
   "source": [
    "both_fabrics.loc[:,'weave'] = 'Knitted and Woven'"
   ]
  },
  {
   "cell_type": "code",
   "execution_count": 79,
   "id": "68ec8433",
   "metadata": {},
   "outputs": [],
   "source": [
    "fabrics_knit = sqldf(\"select * from fabrics_knit where Fabric not in (select Fabric from both_fabrics) and Fabric != 'Other'\")\n",
    "fabrics_knit.loc[:,['weave']]='Knitted'"
   ]
  },
  {
   "cell_type": "code",
   "execution_count": 80,
   "id": "1a9f34e9",
   "metadata": {},
   "outputs": [
    {
     "data": {
      "text/html": [
       "<div>\n",
       "<style scoped>\n",
       "    .dataframe tbody tr th:only-of-type {\n",
       "        vertical-align: middle;\n",
       "    }\n",
       "\n",
       "    .dataframe tbody tr th {\n",
       "        vertical-align: top;\n",
       "    }\n",
       "\n",
       "    .dataframe thead th {\n",
       "        text-align: right;\n",
       "    }\n",
       "</style>\n",
       "<table border=\"1\" class=\"dataframe\">\n",
       "  <thead>\n",
       "    <tr style=\"text-align: right;\">\n",
       "      <th></th>\n",
       "      <th>Fabric</th>\n",
       "      <th>weave</th>\n",
       "    </tr>\n",
       "  </thead>\n",
       "  <tbody>\n",
       "    <tr>\n",
       "      <th>0</th>\n",
       "      <td>Scuba</td>\n",
       "      <td>Knitted</td>\n",
       "    </tr>\n",
       "    <tr>\n",
       "      <th>1</th>\n",
       "      <td>Velour</td>\n",
       "      <td>Knitted</td>\n",
       "    </tr>\n",
       "  </tbody>\n",
       "</table>\n",
       "</div>"
      ],
      "text/plain": [
       "   Fabric    weave\n",
       "0   Scuba  Knitted\n",
       "1  Velour  Knitted"
      ]
     },
     "execution_count": 80,
     "metadata": {},
     "output_type": "execute_result"
    }
   ],
   "source": [
    "fabrics_knit"
   ]
  },
  {
   "cell_type": "code",
   "execution_count": 81,
   "id": "41570dd0",
   "metadata": {},
   "outputs": [],
   "source": [
    "fabrics_weave = sqldf(\"select * from fabrics_weave where Fabric not in (select Fabric from both_fabrics) and Fabric != 'Other'\")\n",
    "fabrics_weave.loc[:,['weave']]='Woven'"
   ]
  },
  {
   "cell_type": "code",
   "execution_count": 82,
   "id": "0fbeab3b",
   "metadata": {},
   "outputs": [
    {
     "data": {
      "text/html": [
       "<div>\n",
       "<style scoped>\n",
       "    .dataframe tbody tr th:only-of-type {\n",
       "        vertical-align: middle;\n",
       "    }\n",
       "\n",
       "    .dataframe tbody tr th {\n",
       "        vertical-align: top;\n",
       "    }\n",
       "\n",
       "    .dataframe thead th {\n",
       "        text-align: right;\n",
       "    }\n",
       "</style>\n",
       "<table border=\"1\" class=\"dataframe\">\n",
       "  <thead>\n",
       "    <tr style=\"text-align: right;\">\n",
       "      <th></th>\n",
       "      <th>Fabric</th>\n",
       "      <th>weave</th>\n",
       "    </tr>\n",
       "  </thead>\n",
       "  <tbody>\n",
       "    <tr>\n",
       "      <th>0</th>\n",
       "      <td>Poly Crepe</td>\n",
       "      <td>Woven</td>\n",
       "    </tr>\n",
       "    <tr>\n",
       "      <th>1</th>\n",
       "      <td>Crepe</td>\n",
       "      <td>Woven</td>\n",
       "    </tr>\n",
       "    <tr>\n",
       "      <th>2</th>\n",
       "      <td>Poly Silk</td>\n",
       "      <td>Woven</td>\n",
       "    </tr>\n",
       "    <tr>\n",
       "      <th>3</th>\n",
       "      <td>Poly Georgette</td>\n",
       "      <td>Woven</td>\n",
       "    </tr>\n",
       "    <tr>\n",
       "      <th>4</th>\n",
       "      <td>Art Silk</td>\n",
       "      <td>Woven</td>\n",
       "    </tr>\n",
       "    <tr>\n",
       "      <th>5</th>\n",
       "      <td>Leather</td>\n",
       "      <td>Woven</td>\n",
       "    </tr>\n",
       "    <tr>\n",
       "      <th>6</th>\n",
       "      <td>Regular</td>\n",
       "      <td>Woven</td>\n",
       "    </tr>\n",
       "    <tr>\n",
       "      <th>7</th>\n",
       "      <td>Net</td>\n",
       "      <td>Woven</td>\n",
       "    </tr>\n",
       "    <tr>\n",
       "      <th>8</th>\n",
       "      <td>Silk Chiffon</td>\n",
       "      <td>Woven</td>\n",
       "    </tr>\n",
       "    <tr>\n",
       "      <th>9</th>\n",
       "      <td>Cotton Silk</td>\n",
       "      <td>Woven</td>\n",
       "    </tr>\n",
       "    <tr>\n",
       "      <th>10</th>\n",
       "      <td>Velvet</td>\n",
       "      <td>Woven</td>\n",
       "    </tr>\n",
       "    <tr>\n",
       "      <th>11</th>\n",
       "      <td>Poly Chanderi</td>\n",
       "      <td>Woven</td>\n",
       "    </tr>\n",
       "    <tr>\n",
       "      <th>12</th>\n",
       "      <td>Pure Silk</td>\n",
       "      <td>Woven</td>\n",
       "    </tr>\n",
       "    <tr>\n",
       "      <th>13</th>\n",
       "      <td>Chiffon</td>\n",
       "      <td>Woven</td>\n",
       "    </tr>\n",
       "    <tr>\n",
       "      <th>14</th>\n",
       "      <td>Chanderi Cotton</td>\n",
       "      <td>Woven</td>\n",
       "    </tr>\n",
       "    <tr>\n",
       "      <th>15</th>\n",
       "      <td>Faux Fur</td>\n",
       "      <td>Woven</td>\n",
       "    </tr>\n",
       "    <tr>\n",
       "      <th>16</th>\n",
       "      <td>Pure Georgette</td>\n",
       "      <td>Woven</td>\n",
       "    </tr>\n",
       "    <tr>\n",
       "      <th>17</th>\n",
       "      <td>Chanderi Silk</td>\n",
       "      <td>Woven</td>\n",
       "    </tr>\n",
       "    <tr>\n",
       "      <th>18</th>\n",
       "      <td>Synthetic Leather</td>\n",
       "      <td>Woven</td>\n",
       "    </tr>\n",
       "    <tr>\n",
       "      <th>19</th>\n",
       "      <td>Silk Georgette</td>\n",
       "      <td>Woven</td>\n",
       "    </tr>\n",
       "    <tr>\n",
       "      <th>20</th>\n",
       "      <td>Dupion Silk</td>\n",
       "      <td>Woven</td>\n",
       "    </tr>\n",
       "    <tr>\n",
       "      <th>21</th>\n",
       "      <td>Pure Crepe</td>\n",
       "      <td>Woven</td>\n",
       "    </tr>\n",
       "    <tr>\n",
       "      <th>22</th>\n",
       "      <td>Poly Chiffon</td>\n",
       "      <td>Woven</td>\n",
       "    </tr>\n",
       "    <tr>\n",
       "      <th>23</th>\n",
       "      <td>Voile</td>\n",
       "      <td>Woven</td>\n",
       "    </tr>\n",
       "    <tr>\n",
       "      <th>24</th>\n",
       "      <td>Hemp</td>\n",
       "      <td>Woven</td>\n",
       "    </tr>\n",
       "    <tr>\n",
       "      <th>25</th>\n",
       "      <td>Livaeco</td>\n",
       "      <td>Woven</td>\n",
       "    </tr>\n",
       "  </tbody>\n",
       "</table>\n",
       "</div>"
      ],
      "text/plain": [
       "               Fabric  weave\n",
       "0          Poly Crepe  Woven\n",
       "1               Crepe  Woven\n",
       "2           Poly Silk  Woven\n",
       "3      Poly Georgette  Woven\n",
       "4            Art Silk  Woven\n",
       "5             Leather  Woven\n",
       "6             Regular  Woven\n",
       "7                 Net  Woven\n",
       "8        Silk Chiffon  Woven\n",
       "9         Cotton Silk  Woven\n",
       "10             Velvet  Woven\n",
       "11      Poly Chanderi  Woven\n",
       "12          Pure Silk  Woven\n",
       "13            Chiffon  Woven\n",
       "14    Chanderi Cotton  Woven\n",
       "15           Faux Fur  Woven\n",
       "16     Pure Georgette  Woven\n",
       "17      Chanderi Silk  Woven\n",
       "18  Synthetic Leather  Woven\n",
       "19     Silk Georgette  Woven\n",
       "20        Dupion Silk  Woven\n",
       "21         Pure Crepe  Woven\n",
       "22       Poly Chiffon  Woven\n",
       "23              Voile  Woven\n",
       "24               Hemp  Woven\n",
       "25            Livaeco  Woven"
      ]
     },
     "execution_count": 82,
     "metadata": {},
     "output_type": "execute_result"
    }
   ],
   "source": [
    "fabrics_weave"
   ]
  },
  {
   "cell_type": "code",
   "execution_count": 83,
   "id": "77ed2eb7",
   "metadata": {},
   "outputs": [],
   "source": [
    "other_fabrics = sqldf(\"select Fabric from fashion_dataset where Fabric = 'Other'\")"
   ]
  },
  {
   "cell_type": "code",
   "execution_count": 84,
   "id": "3acbd2e6",
   "metadata": {},
   "outputs": [],
   "source": [
    "other_woven_fabrics, other_knit_fabrics = train_test_split(other_fabrics, test_size = 0.5,random_state=1)"
   ]
  },
  {
   "cell_type": "code",
   "execution_count": 85,
   "id": "cb6e5138",
   "metadata": {
    "scrolled": true
   },
   "outputs": [],
   "source": [
    "other_woven_fabrics.loc[:,['weave']]='Woven'"
   ]
  },
  {
   "cell_type": "code",
   "execution_count": 86,
   "id": "0a651107",
   "metadata": {},
   "outputs": [],
   "source": [
    "other_knit_fabrics.loc[:,['weave']]= 'Knitted'"
   ]
  },
  {
   "cell_type": "code",
   "execution_count": 87,
   "id": "e64cc8c6",
   "metadata": {},
   "outputs": [],
   "source": [
    "other_fabrics = sqldf(\"select * from other_knit_fabrics union all select * from other_woven_fabrics\")"
   ]
  },
  {
   "cell_type": "code",
   "execution_count": null,
   "id": "1e7ff6e8",
   "metadata": {},
   "outputs": [],
   "source": []
  },
  {
   "cell_type": "code",
   "execution_count": 88,
   "id": "94e2158e",
   "metadata": {},
   "outputs": [
    {
     "data": {
      "text/html": [
       "<div>\n",
       "<style scoped>\n",
       "    .dataframe tbody tr th:only-of-type {\n",
       "        vertical-align: middle;\n",
       "    }\n",
       "\n",
       "    .dataframe tbody tr th {\n",
       "        vertical-align: top;\n",
       "    }\n",
       "\n",
       "    .dataframe thead th {\n",
       "        text-align: right;\n",
       "    }\n",
       "</style>\n",
       "<table border=\"1\" class=\"dataframe\">\n",
       "  <thead>\n",
       "    <tr style=\"text-align: right;\">\n",
       "      <th></th>\n",
       "      <th>Fabric</th>\n",
       "      <th>weave</th>\n",
       "    </tr>\n",
       "  </thead>\n",
       "  <tbody>\n",
       "    <tr>\n",
       "      <th>0</th>\n",
       "      <td>Poly Crepe</td>\n",
       "      <td>Woven</td>\n",
       "    </tr>\n",
       "    <tr>\n",
       "      <th>1</th>\n",
       "      <td>Crepe</td>\n",
       "      <td>Woven</td>\n",
       "    </tr>\n",
       "    <tr>\n",
       "      <th>2</th>\n",
       "      <td>Poly Silk</td>\n",
       "      <td>Woven</td>\n",
       "    </tr>\n",
       "    <tr>\n",
       "      <th>3</th>\n",
       "      <td>Poly Georgette</td>\n",
       "      <td>Woven</td>\n",
       "    </tr>\n",
       "    <tr>\n",
       "      <th>4</th>\n",
       "      <td>Art Silk</td>\n",
       "      <td>Woven</td>\n",
       "    </tr>\n",
       "    <tr>\n",
       "      <th>...</th>\n",
       "      <td>...</td>\n",
       "      <td>...</td>\n",
       "    </tr>\n",
       "    <tr>\n",
       "      <th>97</th>\n",
       "      <td>Other</td>\n",
       "      <td>Woven</td>\n",
       "    </tr>\n",
       "    <tr>\n",
       "      <th>98</th>\n",
       "      <td>Other</td>\n",
       "      <td>Woven</td>\n",
       "    </tr>\n",
       "    <tr>\n",
       "      <th>99</th>\n",
       "      <td>Other</td>\n",
       "      <td>Woven</td>\n",
       "    </tr>\n",
       "    <tr>\n",
       "      <th>100</th>\n",
       "      <td>Other</td>\n",
       "      <td>Woven</td>\n",
       "    </tr>\n",
       "    <tr>\n",
       "      <th>101</th>\n",
       "      <td>Other</td>\n",
       "      <td>Woven</td>\n",
       "    </tr>\n",
       "  </tbody>\n",
       "</table>\n",
       "<p>102 rows × 2 columns</p>\n",
       "</div>"
      ],
      "text/plain": [
       "             Fabric  weave\n",
       "0        Poly Crepe  Woven\n",
       "1             Crepe  Woven\n",
       "2         Poly Silk  Woven\n",
       "3    Poly Georgette  Woven\n",
       "4          Art Silk  Woven\n",
       "..              ...    ...\n",
       "97            Other  Woven\n",
       "98            Other  Woven\n",
       "99            Other  Woven\n",
       "100           Other  Woven\n",
       "101           Other  Woven\n",
       "\n",
       "[102 rows x 2 columns]"
      ]
     },
     "execution_count": 88,
     "metadata": {},
     "output_type": "execute_result"
    }
   ],
   "source": [
    "fabric_weave_type = sqldf(\"select * from fabrics_weave union all select * from fabrics_knit union all select * from both_fabrics union all select * from other_fabrics\")\n",
    "fabric_weave_type"
   ]
  },
  {
   "cell_type": "code",
   "execution_count": 89,
   "id": "39236330",
   "metadata": {},
   "outputs": [
    {
     "data": {
      "text/plain": [
       "48"
      ]
     },
     "execution_count": 89,
     "metadata": {},
     "output_type": "execute_result"
    }
   ],
   "source": [
    "fabric_weave_type.duplicated().sum()"
   ]
  },
  {
   "cell_type": "code",
   "execution_count": 90,
   "id": "1f316904",
   "metadata": {},
   "outputs": [
    {
     "name": "stdout",
     "output_type": "stream",
     "text": [
      "<class 'pandas.core.frame.DataFrame'>\n",
      "Int64Index: 14223 entries, 0 to 14328\n",
      "Columns: 118 entries, p_id to Weave_Type_2\n",
      "dtypes: float64(4), object(114)\n",
      "memory usage: 12.9+ MB\n"
     ]
    }
   ],
   "source": [
    "fashion_dataset.info()"
   ]
  },
  {
   "cell_type": "code",
   "execution_count": 91,
   "id": "1e418400",
   "metadata": {},
   "outputs": [],
   "source": [
    "fashion_dataset = sqldf(\"select fashion_dataset.*, fabric_weave_type.weave from fashion_dataset left join fabric_weave_type on (fabric_weave_type.Fabric=fashion_dataset.Fabric)\")"
   ]
  },
  {
   "cell_type": "code",
   "execution_count": 92,
   "id": "57a53c61",
   "metadata": {},
   "outputs": [
    {
     "name": "stdout",
     "output_type": "stream",
     "text": [
      "<class 'pandas.core.frame.DataFrame'>\n",
      "RangeIndex: 16673 entries, 0 to 16672\n",
      "Columns: 119 entries, p_id to weave\n",
      "dtypes: float64(4), object(115)\n",
      "memory usage: 15.1+ MB\n"
     ]
    }
   ],
   "source": [
    "fashion_dataset.info()"
   ]
  },
  {
   "cell_type": "code",
   "execution_count": null,
   "id": "9ae6a40e",
   "metadata": {},
   "outputs": [],
   "source": [
    "fashion_dataset.duplicated().sum()"
   ]
  },
  {
   "cell_type": "code",
   "execution_count": null,
   "id": "94b0da8d",
   "metadata": {},
   "outputs": [],
   "source": [
    "fashion_dataset.drop_duplicates(inplace=True)"
   ]
  },
  {
   "cell_type": "code",
   "execution_count": null,
   "id": "e2136bef",
   "metadata": {},
   "outputs": [],
   "source": [
    "fashion_dataset.info()"
   ]
  },
  {
   "cell_type": "code",
   "execution_count": null,
   "id": "1fe0c5ed",
   "metadata": {},
   "outputs": [],
   "source": [
    "fashion_dataset['Knit_or_Woven'] = fashion_dataset['Knit_or_Woven'].combine_first(fashion_dataset['weave'])"
   ]
  },
  {
   "cell_type": "code",
   "execution_count": null,
   "id": "1f38cdf2",
   "metadata": {
    "scrolled": true
   },
   "outputs": [],
   "source": [
    "fashion_dataset['Knit_or_Woven'].isna().sum()"
   ]
  },
  {
   "cell_type": "markdown",
   "id": "58f673f3",
   "metadata": {},
   "source": [
    "### Filling Print_Pattern_Type null values"
   ]
  },
  {
   "cell_type": "code",
   "execution_count": null,
   "id": "63491973",
   "metadata": {
    "scrolled": true
   },
   "outputs": [],
   "source": [
    "pd.unique(fashion_dataset['Print_Pattern_Type'])"
   ]
  },
  {
   "cell_type": "code",
   "execution_count": null,
   "id": "d69fcce3",
   "metadata": {
    "scrolled": true
   },
   "outputs": [],
   "source": [
    "sqldf(\"select Print_Pattern_Type, Pattern, Top_Pattern, Bottom_Pattern from fashion_dataset where Print_Pattern_Type is null and Top_Pattern is not null or Bottom_Pattern is not null or Pattern is not null\")"
   ]
  },
  {
   "cell_type": "code",
   "execution_count": null,
   "id": "41d29f9d",
   "metadata": {},
   "outputs": [],
   "source": [
    "fashion_dataset['Print_Pattern_Type'] = fashion_dataset['Print_Pattern_Type'].combine_first(fashion_dataset['Pattern'])"
   ]
  },
  {
   "cell_type": "code",
   "execution_count": null,
   "id": "9295f0d0",
   "metadata": {},
   "outputs": [],
   "source": [
    "fashion_dataset['Print_Pattern_Type'] = fashion_dataset['Print_Pattern_Type'].combine_first(fashion_dataset['Bottom_Pattern'])"
   ]
  },
  {
   "cell_type": "code",
   "execution_count": null,
   "id": "3f975cd6",
   "metadata": {},
   "outputs": [],
   "source": [
    "fashion_dataset['Print_Pattern_Type'] = fashion_dataset['Print_Pattern_Type'].combine_first(fashion_dataset['Top_Pattern'])"
   ]
  },
  {
   "cell_type": "code",
   "execution_count": null,
   "id": "5dc4cfd7",
   "metadata": {},
   "outputs": [],
   "source": [
    "fashion_dataset['Print_Pattern_Type'] = fashion_dataset['Print_Pattern_Type'].combine_first(fashion_dataset['Kurta_Pattern'])"
   ]
  },
  {
   "cell_type": "code",
   "execution_count": null,
   "id": "11a8e4ad",
   "metadata": {},
   "outputs": [],
   "source": [
    "fashion_dataset['Print_Pattern_Type'] = fashion_dataset['Print_Pattern_Type'].combine_first(fashion_dataset['Dupatta_Pattern'])"
   ]
  },
  {
   "cell_type": "code",
   "execution_count": null,
   "id": "c9b40028",
   "metadata": {},
   "outputs": [],
   "source": [
    "#fashion_dataset.drop(['Pattern','Top_Pattern','Bottom_Pattern', 'Kurta_Pattern','Dupatta_Pattern'], axis = 'columns', inplace=True)"
   ]
  },
  {
   "cell_type": "code",
   "execution_count": null,
   "id": "b1337c36",
   "metadata": {
    "scrolled": true
   },
   "outputs": [],
   "source": [
    "fashion_dataset['Print_Pattern_Type'].isna().sum()"
   ]
  },
  {
   "cell_type": "markdown",
   "id": "33857d03",
   "metadata": {},
   "source": [
    "### Filling remaining null values in pattern, weave, and occasion with mode"
   ]
  },
  {
   "cell_type": "code",
   "execution_count": null,
   "id": "3b179ec3",
   "metadata": {},
   "outputs": [],
   "source": [
    "fashion_dataset['Print_Pattern_Type'].mode()"
   ]
  },
  {
   "cell_type": "code",
   "execution_count": null,
   "id": "76a9c280",
   "metadata": {},
   "outputs": [],
   "source": [
    "fashion_dataset['Occasion'].mode()"
   ]
  },
  {
   "cell_type": "code",
   "execution_count": null,
   "id": "fc1c9388",
   "metadata": {},
   "outputs": [],
   "source": [
    "fashion_dataset['Knit_or_Woven'].mode()"
   ]
  },
  {
   "cell_type": "code",
   "execution_count": null,
   "id": "89bd720a",
   "metadata": {},
   "outputs": [],
   "source": [
    "fashion_dataset.fillna({'Print_Pattern_Type':'Solid','Occasion':'Casual','Knit_or_Woven':'Woven'}, inplace=True)\n",
    "fashion_dataset[['Print_Pattern_Type','Occasion','Knit_or_Woven']].isna().sum()"
   ]
  },
  {
   "cell_type": "markdown",
   "id": "4c265693",
   "metadata": {},
   "source": [
    "> Use 'Occasion', 'Print or Pattern Type', 'Pattern', 'Top Pattern', 'Bottom Pattern', 'Dupatta Pattern', 'Kurta Pattern', 'Weave Pattern', 'Knit or Woven', 'Sustainable', 'Sport', 'Fusion_Wear'"
   ]
  },
  {
   "cell_type": "code",
   "execution_count": null,
   "id": "b2ba4ed4",
   "metadata": {},
   "outputs": [],
   "source": [
    "fashion_dataset.to_csv('cleaned_1.csv', index=False)"
   ]
  }
 ],
 "metadata": {
  "kernelspec": {
   "display_name": "Python 3 (ipykernel)",
   "language": "python",
   "name": "python3"
  },
  "language_info": {
   "codemirror_mode": {
    "name": "ipython",
    "version": 3
   },
   "file_extension": ".py",
   "mimetype": "text/x-python",
   "name": "python",
   "nbconvert_exporter": "python",
   "pygments_lexer": "ipython3",
   "version": "3.9.13"
  }
 },
 "nbformat": 4,
 "nbformat_minor": 5
}
