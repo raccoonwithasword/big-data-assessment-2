{
 "cells": [
  {
   "cell_type": "markdown",
   "id": "9c67d32e",
   "metadata": {},
   "source": [
    "# Data Analysis"
   ]
  },
  {
   "cell_type": "markdown",
   "id": "27bcab35",
   "metadata": {},
   "source": [
    ">Importing libraries"
   ]
  },
  {
   "cell_type": "code",
   "execution_count": 1,
   "id": "02c28b12",
   "metadata": {},
   "outputs": [],
   "source": [
    "import pandas as pd\n",
    "import numpy as np\n",
    "import pandasql as ps\n",
    "from pandasql import sqldf\n",
    "import ast\n",
    "import random\n",
    "import matplotlib.pyplot as plt\n",
    "from sklearn.model_selection import train_test_split\n",
    "from sklearn.linear_model import LinearRegression\n",
    "from sklearn.linear_model import BayesianRidge\n",
    "from sklearn import preprocessing\n",
    "from sklearn import tree\n",
    "from sklearn.tree import DecisionTreeClassifier\n",
    "from sklearn import metrics\n",
    "from sklearn.naive_bayes import GaussianNB"
   ]
  },
  {
   "cell_type": "markdown",
   "id": "0cbebfff",
   "metadata": {},
   "source": [
    "# Data Cleaning & Transformation"
   ]
  },
  {
   "cell_type": "markdown",
   "id": "5348de0e",
   "metadata": {},
   "source": [
    ">Importing and viewing the fashion dataset\n"
   ]
  },
  {
   "cell_type": "code",
   "execution_count": 2,
   "id": "58058aa0",
   "metadata": {
    "scrolled": false
   },
   "outputs": [
    {
     "data": {
      "text/html": [
       "<div>\n",
       "<style scoped>\n",
       "    .dataframe tbody tr th:only-of-type {\n",
       "        vertical-align: middle;\n",
       "    }\n",
       "\n",
       "    .dataframe tbody tr th {\n",
       "        vertical-align: top;\n",
       "    }\n",
       "\n",
       "    .dataframe thead th {\n",
       "        text-align: right;\n",
       "    }\n",
       "</style>\n",
       "<table border=\"1\" class=\"dataframe\">\n",
       "  <thead>\n",
       "    <tr style=\"text-align: right;\">\n",
       "      <th></th>\n",
       "      <th>p_id</th>\n",
       "      <th>name</th>\n",
       "      <th>price</th>\n",
       "      <th>colour</th>\n",
       "      <th>brand</th>\n",
       "      <th>ratingCount</th>\n",
       "      <th>avg_rating</th>\n",
       "      <th>description</th>\n",
       "      <th>p_attributes</th>\n",
       "    </tr>\n",
       "  </thead>\n",
       "  <tbody>\n",
       "    <tr>\n",
       "      <th>0</th>\n",
       "      <td>1518329.0</td>\n",
       "      <td>Dupatta Bazaar White Embroidered Chiffon Dupatta</td>\n",
       "      <td>899.0</td>\n",
       "      <td>White</td>\n",
       "      <td>Dupatta Bazaar</td>\n",
       "      <td>1321.0</td>\n",
       "      <td>4.548827</td>\n",
       "      <td>White embroidered&amp;nbsp;dupattaChiffon&lt;br&gt;Hand-...</td>\n",
       "      <td>{'Occasion': 'Daily', 'Pattern': 'Embroidered'...</td>\n",
       "    </tr>\n",
       "    <tr>\n",
       "      <th>1</th>\n",
       "      <td>5829334.0</td>\n",
       "      <td>Roadster Women Mustard Yellow Solid Hooded Swe...</td>\n",
       "      <td>1199.0</td>\n",
       "      <td>Mustard</td>\n",
       "      <td>Roadster</td>\n",
       "      <td>5462.0</td>\n",
       "      <td>4.313255</td>\n",
       "      <td>Mustard yellow solid sweatshirt, has a hood, t...</td>\n",
       "      <td>{'Body Shape ID': '443,424,324', 'Body or Garm...</td>\n",
       "    </tr>\n",
       "    <tr>\n",
       "      <th>2</th>\n",
       "      <td>10340119.0</td>\n",
       "      <td>Inddus Peach-Coloured &amp; Beige Unstitched Dress...</td>\n",
       "      <td>5799.0</td>\n",
       "      <td>Peach</td>\n",
       "      <td>Inddus</td>\n",
       "      <td>145.0</td>\n",
       "      <td>4.068966</td>\n",
       "      <td>Peach-Coloured and beige woven design unstitch...</td>\n",
       "      <td>{'Bottom Fabric': 'Cotton Blend', 'Bottom Patt...</td>\n",
       "    </tr>\n",
       "    <tr>\n",
       "      <th>3</th>\n",
       "      <td>10856380.0</td>\n",
       "      <td>SASSAFRAS Women Black Parallel Trousers</td>\n",
       "      <td>1499.0</td>\n",
       "      <td>Black</td>\n",
       "      <td>SASSAFRAS</td>\n",
       "      <td>9124.0</td>\n",
       "      <td>4.147523</td>\n",
       "      <td>Black solid woven high-rise parallel trousers,...</td>\n",
       "      <td>{'Add-Ons': 'NA', 'Body Shape ID': '424', 'Bod...</td>\n",
       "    </tr>\n",
       "    <tr>\n",
       "      <th>4</th>\n",
       "      <td>12384822.0</td>\n",
       "      <td>Kotty Women Black Wide Leg High-Rise Clean Loo...</td>\n",
       "      <td>1999.0</td>\n",
       "      <td>Black</td>\n",
       "      <td>Kotty</td>\n",
       "      <td>12260.0</td>\n",
       "      <td>4.078467</td>\n",
       "      <td>Black dark wash 4-pocket high-rise jeans, clea...</td>\n",
       "      <td>{'Add-Ons': 'NA', 'Brand Fit Name': 'NA', 'Clo...</td>\n",
       "    </tr>\n",
       "    <tr>\n",
       "      <th>...</th>\n",
       "      <td>...</td>\n",
       "      <td>...</td>\n",
       "      <td>...</td>\n",
       "      <td>...</td>\n",
       "      <td>...</td>\n",
       "      <td>...</td>\n",
       "      <td>...</td>\n",
       "      <td>...</td>\n",
       "      <td>...</td>\n",
       "    </tr>\n",
       "    <tr>\n",
       "      <th>14324</th>\n",
       "      <td>17029604.0</td>\n",
       "      <td>The Chennai Silks Pink &amp; Silver-Toned Floral Z...</td>\n",
       "      <td>3999.0</td>\n",
       "      <td>Pink</td>\n",
       "      <td>The Chennai Silks</td>\n",
       "      <td>NaN</td>\n",
       "      <td>NaN</td>\n",
       "      <td>&lt;b&gt;Design Details &lt;/b&gt;&lt;ul&gt;&lt;li&gt;Pink and silver-...</td>\n",
       "      <td>{'Better Cotton Initiative': 'Regular', 'Blous...</td>\n",
       "    </tr>\n",
       "    <tr>\n",
       "      <th>14325</th>\n",
       "      <td>17600212.0</td>\n",
       "      <td>Kinder Kids Girls Blue &amp; Green Printed Foil Pr...</td>\n",
       "      <td>2050.0</td>\n",
       "      <td>Blue</td>\n",
       "      <td>Kinder Kids</td>\n",
       "      <td>NaN</td>\n",
       "      <td>NaN</td>\n",
       "      <td>Blue and green printed lehenga choli,  has foi...</td>\n",
       "      <td>{'Blouse Closure': 'NA', 'Blouse Fabric': 'Cot...</td>\n",
       "    </tr>\n",
       "    <tr>\n",
       "      <th>14326</th>\n",
       "      <td>18159266.0</td>\n",
       "      <td>KLOTTHE Women Green &amp; Black Floral Printed Pal...</td>\n",
       "      <td>1659.0</td>\n",
       "      <td>Green</td>\n",
       "      <td>KLOTTHE</td>\n",
       "      <td>NaN</td>\n",
       "      <td>NaN</td>\n",
       "      <td>&lt;ul&gt; &lt;li&gt; Green and black woven palazzos &lt;/li&gt;...</td>\n",
       "      <td>{'Body or Garment Size': 'To-Fit Denotes Body ...</td>\n",
       "    </tr>\n",
       "    <tr>\n",
       "      <th>14327</th>\n",
       "      <td>18921114.0</td>\n",
       "      <td>InWeave Women Red Printed A-Line Skirt</td>\n",
       "      <td>2399.0</td>\n",
       "      <td>Red</td>\n",
       "      <td>InWeave</td>\n",
       "      <td>NaN</td>\n",
       "      <td>NaN</td>\n",
       "      <td>&lt;p&gt;Red printed A-line skirt, has drawstring cl...</td>\n",
       "      <td>{'Add-Ons': 'NA', 'Body Shape ID': '324,333,42...</td>\n",
       "    </tr>\n",
       "    <tr>\n",
       "      <th>14328</th>\n",
       "      <td>19361058.0</td>\n",
       "      <td>BoStreet Women Navy Blue Tapered Fit Trousers</td>\n",
       "      <td>2599.0</td>\n",
       "      <td>Navy Blue</td>\n",
       "      <td>BoStreet</td>\n",
       "      <td>NaN</td>\n",
       "      <td>NaN</td>\n",
       "      <td>&lt;ul&gt; &lt;li&gt; Navy blue knitted trousers &lt;/li&gt; &lt;li...</td>\n",
       "      <td>{'Add-Ons': 'NA', 'Body Shape ID': '443,333,42...</td>\n",
       "    </tr>\n",
       "  </tbody>\n",
       "</table>\n",
       "<p>14329 rows × 9 columns</p>\n",
       "</div>"
      ],
      "text/plain": [
       "             p_id                                               name   price  \\\n",
       "0       1518329.0   Dupatta Bazaar White Embroidered Chiffon Dupatta   899.0   \n",
       "1       5829334.0  Roadster Women Mustard Yellow Solid Hooded Swe...  1199.0   \n",
       "2      10340119.0  Inddus Peach-Coloured & Beige Unstitched Dress...  5799.0   \n",
       "3      10856380.0            SASSAFRAS Women Black Parallel Trousers  1499.0   \n",
       "4      12384822.0  Kotty Women Black Wide Leg High-Rise Clean Loo...  1999.0   \n",
       "...           ...                                                ...     ...   \n",
       "14324  17029604.0  The Chennai Silks Pink & Silver-Toned Floral Z...  3999.0   \n",
       "14325  17600212.0  Kinder Kids Girls Blue & Green Printed Foil Pr...  2050.0   \n",
       "14326  18159266.0  KLOTTHE Women Green & Black Floral Printed Pal...  1659.0   \n",
       "14327  18921114.0             InWeave Women Red Printed A-Line Skirt  2399.0   \n",
       "14328  19361058.0      BoStreet Women Navy Blue Tapered Fit Trousers  2599.0   \n",
       "\n",
       "          colour              brand  ratingCount  avg_rating  \\\n",
       "0          White     Dupatta Bazaar       1321.0    4.548827   \n",
       "1        Mustard           Roadster       5462.0    4.313255   \n",
       "2          Peach             Inddus        145.0    4.068966   \n",
       "3          Black          SASSAFRAS       9124.0    4.147523   \n",
       "4          Black              Kotty      12260.0    4.078467   \n",
       "...          ...                ...          ...         ...   \n",
       "14324       Pink  The Chennai Silks          NaN         NaN   \n",
       "14325       Blue        Kinder Kids          NaN         NaN   \n",
       "14326      Green            KLOTTHE          NaN         NaN   \n",
       "14327        Red            InWeave          NaN         NaN   \n",
       "14328  Navy Blue           BoStreet          NaN         NaN   \n",
       "\n",
       "                                             description  \\\n",
       "0      White embroidered&nbsp;dupattaChiffon<br>Hand-...   \n",
       "1      Mustard yellow solid sweatshirt, has a hood, t...   \n",
       "2      Peach-Coloured and beige woven design unstitch...   \n",
       "3      Black solid woven high-rise parallel trousers,...   \n",
       "4      Black dark wash 4-pocket high-rise jeans, clea...   \n",
       "...                                                  ...   \n",
       "14324  <b>Design Details </b><ul><li>Pink and silver-...   \n",
       "14325  Blue and green printed lehenga choli,  has foi...   \n",
       "14326  <ul> <li> Green and black woven palazzos </li>...   \n",
       "14327  <p>Red printed A-line skirt, has drawstring cl...   \n",
       "14328  <ul> <li> Navy blue knitted trousers </li> <li...   \n",
       "\n",
       "                                            p_attributes  \n",
       "0      {'Occasion': 'Daily', 'Pattern': 'Embroidered'...  \n",
       "1      {'Body Shape ID': '443,424,324', 'Body or Garm...  \n",
       "2      {'Bottom Fabric': 'Cotton Blend', 'Bottom Patt...  \n",
       "3      {'Add-Ons': 'NA', 'Body Shape ID': '424', 'Bod...  \n",
       "4      {'Add-Ons': 'NA', 'Brand Fit Name': 'NA', 'Clo...  \n",
       "...                                                  ...  \n",
       "14324  {'Better Cotton Initiative': 'Regular', 'Blous...  \n",
       "14325  {'Blouse Closure': 'NA', 'Blouse Fabric': 'Cot...  \n",
       "14326  {'Body or Garment Size': 'To-Fit Denotes Body ...  \n",
       "14327  {'Add-Ons': 'NA', 'Body Shape ID': '324,333,42...  \n",
       "14328  {'Add-Ons': 'NA', 'Body Shape ID': '443,333,42...  \n",
       "\n",
       "[14329 rows x 9 columns]"
      ]
     },
     "execution_count": 2,
     "metadata": {},
     "output_type": "execute_result"
    }
   ],
   "source": [
    "fashion_dataset= pd.read_csv(r\".\\fashion dataset.csv\")\n",
    "fashion_dataset"
   ]
  },
  {
   "cell_type": "markdown",
   "id": "4db6ad60",
   "metadata": {},
   "source": [
    ">Finding the number of unique brands in the fashion dataset"
   ]
  },
  {
   "cell_type": "code",
   "execution_count": 3,
   "id": "39d4ad68",
   "metadata": {},
   "outputs": [
    {
     "data": {
      "text/plain": [
       "1021"
      ]
     },
     "execution_count": 3,
     "metadata": {},
     "output_type": "execute_result"
    }
   ],
   "source": [
    "len(pd.unique(fashion_dataset['brand']))"
   ]
  },
  {
   "cell_type": "markdown",
   "id": "146a3cc5",
   "metadata": {},
   "source": [
    ">Importing the brand details dataset"
   ]
  },
  {
   "cell_type": "code",
   "execution_count": 4,
   "id": "61fb4d4f",
   "metadata": {},
   "outputs": [
    {
     "data": {
      "text/html": [
       "<div>\n",
       "<style scoped>\n",
       "    .dataframe tbody tr th:only-of-type {\n",
       "        vertical-align: middle;\n",
       "    }\n",
       "\n",
       "    .dataframe tbody tr th {\n",
       "        vertical-align: top;\n",
       "    }\n",
       "\n",
       "    .dataframe thead th {\n",
       "        text-align: right;\n",
       "    }\n",
       "</style>\n",
       "<table border=\"1\" class=\"dataframe\">\n",
       "  <thead>\n",
       "    <tr style=\"text-align: right;\">\n",
       "      <th></th>\n",
       "      <th>brand_id</th>\n",
       "      <th>brand_name</th>\n",
       "    </tr>\n",
       "  </thead>\n",
       "  <tbody>\n",
       "    <tr>\n",
       "      <th>0</th>\n",
       "      <td>1</td>\n",
       "      <td>513</td>\n",
       "    </tr>\n",
       "    <tr>\n",
       "      <th>1</th>\n",
       "      <td>2</td>\n",
       "      <td>109F</td>\n",
       "    </tr>\n",
       "    <tr>\n",
       "      <th>2</th>\n",
       "      <td>3</td>\n",
       "      <td>20Dresses</td>\n",
       "    </tr>\n",
       "    <tr>\n",
       "      <th>3</th>\n",
       "      <td>4</td>\n",
       "      <td>250 Designs</td>\n",
       "    </tr>\n",
       "    <tr>\n",
       "      <th>4</th>\n",
       "      <td>5</td>\n",
       "      <td>3Pin</td>\n",
       "    </tr>\n",
       "    <tr>\n",
       "      <th>...</th>\n",
       "      <td>...</td>\n",
       "      <td>...</td>\n",
       "    </tr>\n",
       "    <tr>\n",
       "      <th>1015</th>\n",
       "      <td>1016</td>\n",
       "      <td>Ziva Fashion</td>\n",
       "    </tr>\n",
       "    <tr>\n",
       "      <th>1016</th>\n",
       "      <td>1017</td>\n",
       "      <td>Zivame</td>\n",
       "    </tr>\n",
       "    <tr>\n",
       "      <th>1017</th>\n",
       "      <td>1018</td>\n",
       "      <td>Ziyaa</td>\n",
       "    </tr>\n",
       "    <tr>\n",
       "      <th>1018</th>\n",
       "      <td>1019</td>\n",
       "      <td>Zoella</td>\n",
       "    </tr>\n",
       "    <tr>\n",
       "      <th>1019</th>\n",
       "      <td>1020</td>\n",
       "      <td>Zola</td>\n",
       "    </tr>\n",
       "  </tbody>\n",
       "</table>\n",
       "<p>1020 rows × 2 columns</p>\n",
       "</div>"
      ],
      "text/plain": [
       "      brand_id    brand_name\n",
       "0            1           513\n",
       "1            2          109F\n",
       "2            3     20Dresses\n",
       "3            4   250 Designs\n",
       "4            5          3Pin\n",
       "...        ...           ...\n",
       "1015      1016  Ziva Fashion\n",
       "1016      1017        Zivame\n",
       "1017      1018         Ziyaa\n",
       "1018      1019        Zoella\n",
       "1019      1020          Zola\n",
       "\n",
       "[1020 rows x 2 columns]"
      ]
     },
     "execution_count": 4,
     "metadata": {},
     "output_type": "execute_result"
    }
   ],
   "source": [
    "brand_details = pd.read_excel(r\".\\fashion brand details.xlsx\")\n",
    "brand_details"
   ]
  },
  {
   "cell_type": "markdown",
   "id": "40eb46cb",
   "metadata": {},
   "source": [
    ">Counting the number of unique brand names in the brand details dataset"
   ]
  },
  {
   "cell_type": "code",
   "execution_count": 5,
   "id": "56716f86",
   "metadata": {},
   "outputs": [
    {
     "data": {
      "text/plain": [
       "1020"
      ]
     },
     "execution_count": 5,
     "metadata": {},
     "output_type": "execute_result"
    }
   ],
   "source": [
    "len(pd.unique(brand_details['brand_name']))"
   ]
  },
  {
   "cell_type": "markdown",
   "id": "c7b8a6be",
   "metadata": {},
   "source": [
    ">Finding the number of null and duplicated values in each dataset"
   ]
  },
  {
   "cell_type": "code",
   "execution_count": 6,
   "id": "aa8cecc0",
   "metadata": {},
   "outputs": [
    {
     "data": {
      "text/plain": [
       "brand_id      0\n",
       "brand_name    0\n",
       "dtype: int64"
      ]
     },
     "execution_count": 6,
     "metadata": {},
     "output_type": "execute_result"
    }
   ],
   "source": [
    "brand_details.isna().sum()"
   ]
  },
  {
   "cell_type": "code",
   "execution_count": 7,
   "id": "ad8e8b0c",
   "metadata": {},
   "outputs": [
    {
     "data": {
      "text/plain": [
       "p_id              18\n",
       "name              19\n",
       "price             19\n",
       "colour            22\n",
       "brand             24\n",
       "ratingCount     7748\n",
       "avg_rating      7748\n",
       "description       19\n",
       "p_attributes      19\n",
       "dtype: int64"
      ]
     },
     "execution_count": 7,
     "metadata": {},
     "output_type": "execute_result"
    }
   ],
   "source": [
    "fashion_dataset.isna().sum()"
   ]
  },
  {
   "cell_type": "code",
   "execution_count": 8,
   "id": "06b9712b",
   "metadata": {},
   "outputs": [
    {
     "data": {
      "text/plain": [
       "0"
      ]
     },
     "execution_count": 8,
     "metadata": {},
     "output_type": "execute_result"
    }
   ],
   "source": [
    "brand_details.duplicated().sum()"
   ]
  },
  {
   "cell_type": "code",
   "execution_count": 9,
   "id": "3e18ce56",
   "metadata": {},
   "outputs": [
    {
     "data": {
      "text/plain": [
       "59"
      ]
     },
     "execution_count": 9,
     "metadata": {},
     "output_type": "execute_result"
    }
   ],
   "source": [
    "fashion_dataset.duplicated().sum()"
   ]
  },
  {
   "cell_type": "markdown",
   "id": "8deda2e0",
   "metadata": {},
   "source": [
    ">Testing out duplicate dropping"
   ]
  },
  {
   "cell_type": "code",
   "execution_count": 10,
   "id": "e1853c6e",
   "metadata": {},
   "outputs": [
    {
     "data": {
      "text/plain": [
       "1021"
      ]
     },
     "execution_count": 10,
     "metadata": {},
     "output_type": "execute_result"
    }
   ],
   "source": [
    "df_dupl = fashion_dataset.drop_duplicates(keep = \"last\")\n",
    "len(pd.unique(df_dupl[\"brand\"]))"
   ]
  },
  {
   "cell_type": "markdown",
   "id": "fa456831",
   "metadata": {},
   "source": [
    ">Dropping duplicates in fashion dataset"
   ]
  },
  {
   "cell_type": "code",
   "execution_count": 11,
   "id": "9ca86992",
   "metadata": {
    "scrolled": true
   },
   "outputs": [
    {
     "data": {
      "text/html": [
       "<div>\n",
       "<style scoped>\n",
       "    .dataframe tbody tr th:only-of-type {\n",
       "        vertical-align: middle;\n",
       "    }\n",
       "\n",
       "    .dataframe tbody tr th {\n",
       "        vertical-align: top;\n",
       "    }\n",
       "\n",
       "    .dataframe thead th {\n",
       "        text-align: right;\n",
       "    }\n",
       "</style>\n",
       "<table border=\"1\" class=\"dataframe\">\n",
       "  <thead>\n",
       "    <tr style=\"text-align: right;\">\n",
       "      <th></th>\n",
       "      <th>p_id</th>\n",
       "      <th>name</th>\n",
       "      <th>price</th>\n",
       "      <th>colour</th>\n",
       "      <th>brand</th>\n",
       "      <th>ratingCount</th>\n",
       "      <th>avg_rating</th>\n",
       "      <th>description</th>\n",
       "      <th>p_attributes</th>\n",
       "    </tr>\n",
       "  </thead>\n",
       "  <tbody>\n",
       "    <tr>\n",
       "      <th>0</th>\n",
       "      <td>1518329.0</td>\n",
       "      <td>Dupatta Bazaar White Embroidered Chiffon Dupatta</td>\n",
       "      <td>899.0</td>\n",
       "      <td>White</td>\n",
       "      <td>Dupatta Bazaar</td>\n",
       "      <td>1321.0</td>\n",
       "      <td>4.548827</td>\n",
       "      <td>White embroidered&amp;nbsp;dupattaChiffon&lt;br&gt;Hand-...</td>\n",
       "      <td>{'Occasion': 'Daily', 'Pattern': 'Embroidered'...</td>\n",
       "    </tr>\n",
       "    <tr>\n",
       "      <th>1</th>\n",
       "      <td>5829334.0</td>\n",
       "      <td>Roadster Women Mustard Yellow Solid Hooded Swe...</td>\n",
       "      <td>1199.0</td>\n",
       "      <td>Mustard</td>\n",
       "      <td>Roadster</td>\n",
       "      <td>5462.0</td>\n",
       "      <td>4.313255</td>\n",
       "      <td>Mustard yellow solid sweatshirt, has a hood, t...</td>\n",
       "      <td>{'Body Shape ID': '443,424,324', 'Body or Garm...</td>\n",
       "    </tr>\n",
       "    <tr>\n",
       "      <th>2</th>\n",
       "      <td>10340119.0</td>\n",
       "      <td>Inddus Peach-Coloured &amp; Beige Unstitched Dress...</td>\n",
       "      <td>5799.0</td>\n",
       "      <td>Peach</td>\n",
       "      <td>Inddus</td>\n",
       "      <td>145.0</td>\n",
       "      <td>4.068966</td>\n",
       "      <td>Peach-Coloured and beige woven design unstitch...</td>\n",
       "      <td>{'Bottom Fabric': 'Cotton Blend', 'Bottom Patt...</td>\n",
       "    </tr>\n",
       "    <tr>\n",
       "      <th>3</th>\n",
       "      <td>10856380.0</td>\n",
       "      <td>SASSAFRAS Women Black Parallel Trousers</td>\n",
       "      <td>1499.0</td>\n",
       "      <td>Black</td>\n",
       "      <td>SASSAFRAS</td>\n",
       "      <td>9124.0</td>\n",
       "      <td>4.147523</td>\n",
       "      <td>Black solid woven high-rise parallel trousers,...</td>\n",
       "      <td>{'Add-Ons': 'NA', 'Body Shape ID': '424', 'Bod...</td>\n",
       "    </tr>\n",
       "    <tr>\n",
       "      <th>4</th>\n",
       "      <td>12384822.0</td>\n",
       "      <td>Kotty Women Black Wide Leg High-Rise Clean Loo...</td>\n",
       "      <td>1999.0</td>\n",
       "      <td>Black</td>\n",
       "      <td>Kotty</td>\n",
       "      <td>12260.0</td>\n",
       "      <td>4.078467</td>\n",
       "      <td>Black dark wash 4-pocket high-rise jeans, clea...</td>\n",
       "      <td>{'Add-Ons': 'NA', 'Brand Fit Name': 'NA', 'Clo...</td>\n",
       "    </tr>\n",
       "    <tr>\n",
       "      <th>...</th>\n",
       "      <td>...</td>\n",
       "      <td>...</td>\n",
       "      <td>...</td>\n",
       "      <td>...</td>\n",
       "      <td>...</td>\n",
       "      <td>...</td>\n",
       "      <td>...</td>\n",
       "      <td>...</td>\n",
       "      <td>...</td>\n",
       "    </tr>\n",
       "    <tr>\n",
       "      <th>14324</th>\n",
       "      <td>17029604.0</td>\n",
       "      <td>The Chennai Silks Pink &amp; Silver-Toned Floral Z...</td>\n",
       "      <td>3999.0</td>\n",
       "      <td>Pink</td>\n",
       "      <td>The Chennai Silks</td>\n",
       "      <td>NaN</td>\n",
       "      <td>NaN</td>\n",
       "      <td>&lt;b&gt;Design Details &lt;/b&gt;&lt;ul&gt;&lt;li&gt;Pink and silver-...</td>\n",
       "      <td>{'Better Cotton Initiative': 'Regular', 'Blous...</td>\n",
       "    </tr>\n",
       "    <tr>\n",
       "      <th>14325</th>\n",
       "      <td>17600212.0</td>\n",
       "      <td>Kinder Kids Girls Blue &amp; Green Printed Foil Pr...</td>\n",
       "      <td>2050.0</td>\n",
       "      <td>Blue</td>\n",
       "      <td>Kinder Kids</td>\n",
       "      <td>NaN</td>\n",
       "      <td>NaN</td>\n",
       "      <td>Blue and green printed lehenga choli,  has foi...</td>\n",
       "      <td>{'Blouse Closure': 'NA', 'Blouse Fabric': 'Cot...</td>\n",
       "    </tr>\n",
       "    <tr>\n",
       "      <th>14326</th>\n",
       "      <td>18159266.0</td>\n",
       "      <td>KLOTTHE Women Green &amp; Black Floral Printed Pal...</td>\n",
       "      <td>1659.0</td>\n",
       "      <td>Green</td>\n",
       "      <td>KLOTTHE</td>\n",
       "      <td>NaN</td>\n",
       "      <td>NaN</td>\n",
       "      <td>&lt;ul&gt; &lt;li&gt; Green and black woven palazzos &lt;/li&gt;...</td>\n",
       "      <td>{'Body or Garment Size': 'To-Fit Denotes Body ...</td>\n",
       "    </tr>\n",
       "    <tr>\n",
       "      <th>14327</th>\n",
       "      <td>18921114.0</td>\n",
       "      <td>InWeave Women Red Printed A-Line Skirt</td>\n",
       "      <td>2399.0</td>\n",
       "      <td>Red</td>\n",
       "      <td>InWeave</td>\n",
       "      <td>NaN</td>\n",
       "      <td>NaN</td>\n",
       "      <td>&lt;p&gt;Red printed A-line skirt, has drawstring cl...</td>\n",
       "      <td>{'Add-Ons': 'NA', 'Body Shape ID': '324,333,42...</td>\n",
       "    </tr>\n",
       "    <tr>\n",
       "      <th>14328</th>\n",
       "      <td>19361058.0</td>\n",
       "      <td>BoStreet Women Navy Blue Tapered Fit Trousers</td>\n",
       "      <td>2599.0</td>\n",
       "      <td>Navy Blue</td>\n",
       "      <td>BoStreet</td>\n",
       "      <td>NaN</td>\n",
       "      <td>NaN</td>\n",
       "      <td>&lt;ul&gt; &lt;li&gt; Navy blue knitted trousers &lt;/li&gt; &lt;li...</td>\n",
       "      <td>{'Add-Ons': 'NA', 'Body Shape ID': '443,333,42...</td>\n",
       "    </tr>\n",
       "  </tbody>\n",
       "</table>\n",
       "<p>14270 rows × 9 columns</p>\n",
       "</div>"
      ],
      "text/plain": [
       "             p_id                                               name   price  \\\n",
       "0       1518329.0   Dupatta Bazaar White Embroidered Chiffon Dupatta   899.0   \n",
       "1       5829334.0  Roadster Women Mustard Yellow Solid Hooded Swe...  1199.0   \n",
       "2      10340119.0  Inddus Peach-Coloured & Beige Unstitched Dress...  5799.0   \n",
       "3      10856380.0            SASSAFRAS Women Black Parallel Trousers  1499.0   \n",
       "4      12384822.0  Kotty Women Black Wide Leg High-Rise Clean Loo...  1999.0   \n",
       "...           ...                                                ...     ...   \n",
       "14324  17029604.0  The Chennai Silks Pink & Silver-Toned Floral Z...  3999.0   \n",
       "14325  17600212.0  Kinder Kids Girls Blue & Green Printed Foil Pr...  2050.0   \n",
       "14326  18159266.0  KLOTTHE Women Green & Black Floral Printed Pal...  1659.0   \n",
       "14327  18921114.0             InWeave Women Red Printed A-Line Skirt  2399.0   \n",
       "14328  19361058.0      BoStreet Women Navy Blue Tapered Fit Trousers  2599.0   \n",
       "\n",
       "          colour              brand  ratingCount  avg_rating  \\\n",
       "0          White     Dupatta Bazaar       1321.0    4.548827   \n",
       "1        Mustard           Roadster       5462.0    4.313255   \n",
       "2          Peach             Inddus        145.0    4.068966   \n",
       "3          Black          SASSAFRAS       9124.0    4.147523   \n",
       "4          Black              Kotty      12260.0    4.078467   \n",
       "...          ...                ...          ...         ...   \n",
       "14324       Pink  The Chennai Silks          NaN         NaN   \n",
       "14325       Blue        Kinder Kids          NaN         NaN   \n",
       "14326      Green            KLOTTHE          NaN         NaN   \n",
       "14327        Red            InWeave          NaN         NaN   \n",
       "14328  Navy Blue           BoStreet          NaN         NaN   \n",
       "\n",
       "                                             description  \\\n",
       "0      White embroidered&nbsp;dupattaChiffon<br>Hand-...   \n",
       "1      Mustard yellow solid sweatshirt, has a hood, t...   \n",
       "2      Peach-Coloured and beige woven design unstitch...   \n",
       "3      Black solid woven high-rise parallel trousers,...   \n",
       "4      Black dark wash 4-pocket high-rise jeans, clea...   \n",
       "...                                                  ...   \n",
       "14324  <b>Design Details </b><ul><li>Pink and silver-...   \n",
       "14325  Blue and green printed lehenga choli,  has foi...   \n",
       "14326  <ul> <li> Green and black woven palazzos </li>...   \n",
       "14327  <p>Red printed A-line skirt, has drawstring cl...   \n",
       "14328  <ul> <li> Navy blue knitted trousers </li> <li...   \n",
       "\n",
       "                                            p_attributes  \n",
       "0      {'Occasion': 'Daily', 'Pattern': 'Embroidered'...  \n",
       "1      {'Body Shape ID': '443,424,324', 'Body or Garm...  \n",
       "2      {'Bottom Fabric': 'Cotton Blend', 'Bottom Patt...  \n",
       "3      {'Add-Ons': 'NA', 'Body Shape ID': '424', 'Bod...  \n",
       "4      {'Add-Ons': 'NA', 'Brand Fit Name': 'NA', 'Clo...  \n",
       "...                                                  ...  \n",
       "14324  {'Better Cotton Initiative': 'Regular', 'Blous...  \n",
       "14325  {'Blouse Closure': 'NA', 'Blouse Fabric': 'Cot...  \n",
       "14326  {'Body or Garment Size': 'To-Fit Denotes Body ...  \n",
       "14327  {'Add-Ons': 'NA', 'Body Shape ID': '324,333,42...  \n",
       "14328  {'Add-Ons': 'NA', 'Body Shape ID': '443,333,42...  \n",
       "\n",
       "[14270 rows x 9 columns]"
      ]
     },
     "execution_count": 11,
     "metadata": {},
     "output_type": "execute_result"
    }
   ],
   "source": [
    "fashion_dataset.drop_duplicates(inplace = True, keep = \"last\")\n",
    "fashion_dataset"
   ]
  },
  {
   "cell_type": "markdown",
   "id": "5feda8e9",
   "metadata": {},
   "source": [
    "> Expanding the p_attributes column\n"
   ]
  },
  {
   "cell_type": "code",
   "execution_count": 12,
   "id": "e14774e0",
   "metadata": {},
   "outputs": [],
   "source": [
    "fashion_dataset['p_attributes'] = fashion_dataset['p_attributes']\n",
    "not_null = pd.notnull(fashion_dataset['p_attributes'])\n",
    "fash3 = fashion_dataset[not_null]['p_attributes'].apply(lambda x: ast.literal_eval(x))\n",
    "temp = pd.DataFrame([*fash3], fash3.index)\n",
    "fashion_dataset = pd.concat([fashion_dataset, temp], axis=1)"
   ]
  },
  {
   "cell_type": "markdown",
   "id": "688dfe4a",
   "metadata": {},
   "source": [
    ">Renaming columns for use in SQL and MapReduce"
   ]
  },
  {
   "cell_type": "code",
   "execution_count": 13,
   "id": "e0803ba1",
   "metadata": {},
   "outputs": [],
   "source": [
    "fashion_dataset.rename(columns={'Dupatta Pattern':'Dupatta_Pattern', 'Kurta Pattern':'Kurta_Pattern','Bottom Pattern': 'Bottom_Pattern', 'Top Pattern': 'Top_Pattern','Print or Pattern Type': 'Print_Pattern_Type', 'Knit or Woven':'Knit_or_Woven', 'Weave Type':'Weave_Type', 'Weave Pattern':'Weave_Pattern','Dupatta Fabric':'Dupatta_Fabric','Bottom Fabric':'Bottom_Fabric', 'Top Fabric':'Top_Fabric','Fabric Purity':'Fabric_Purity', 'Fabric Type':'Fabric_Type','Blouse Fabric':'Blouse_Fabric', 'Better Cotton Initiative':'Better_Cotton', 'Saree Fabric':'Saree_Fabric', 'Colour Family':'Colour_Family'}, inplace=True)"
   ]
  },
  {
   "cell_type": "code",
   "execution_count": 14,
   "id": "0eb206c9",
   "metadata": {},
   "outputs": [
    {
     "data": {
      "text/plain": [
       "13657"
      ]
     },
     "execution_count": 14,
     "metadata": {},
     "output_type": "execute_result"
    }
   ],
   "source": [
    "fashion_dataset['Kurta_Pattern'].isna().sum()"
   ]
  },
  {
   "cell_type": "code",
   "execution_count": 15,
   "id": "0e9d5db8",
   "metadata": {},
   "outputs": [
    {
     "data": {
      "text/plain": [
       "8923"
      ]
     },
     "execution_count": 15,
     "metadata": {},
     "output_type": "execute_result"
    }
   ],
   "source": [
    "fashion_dataset['Weave_Type'].isna().sum()"
   ]
  },
  {
   "cell_type": "code",
   "execution_count": 16,
   "id": "31803547",
   "metadata": {},
   "outputs": [
    {
     "data": {
      "text/plain": [
       "12353"
      ]
     },
     "execution_count": 16,
     "metadata": {},
     "output_type": "execute_result"
    }
   ],
   "source": [
    "fashion_dataset['Knit_or_Woven'].isna().sum()"
   ]
  },
  {
   "cell_type": "code",
   "execution_count": 17,
   "id": "586c886c",
   "metadata": {},
   "outputs": [
    {
     "data": {
      "text/plain": [
       "13087"
      ]
     },
     "execution_count": 17,
     "metadata": {},
     "output_type": "execute_result"
    }
   ],
   "source": [
    "fashion_dataset['Weave_Pattern'].isna().sum()"
   ]
  },
  {
   "cell_type": "markdown",
   "id": "aabd08a7",
   "metadata": {},
   "source": [
    ">Viewing all columns of the dataset"
   ]
  },
  {
   "cell_type": "code",
   "execution_count": 18,
   "id": "7a1016fd",
   "metadata": {
    "scrolled": false
   },
   "outputs": [
    {
     "name": "stdout",
     "output_type": "stream",
     "text": [
      "['p_id', 'name', 'price', 'colour', 'brand', 'ratingCount', 'avg_rating', 'description', 'p_attributes', 'Occasion', 'Pattern', 'Print_Pattern_Type', 'Body Shape ID', 'Body or Garment Size', 'Closure', 'Fabric', 'Hemline', 'Hood', 'Length', 'Neck', 'Number of Pockets', 'Pocket', 'Sleeve Length', 'Surface Styling', 'Type', 'Wash Care', 'Bottom_Fabric', 'Bottom_Pattern', 'Dupatta Border', 'Dupatta_Fabric', 'Dupatta_Pattern', 'Kurta Fabric', 'Kurta_Pattern', 'Ornamentation', 'Set Content', 'Stitch', 'Technique', 'Add-Ons', 'Brand Fit Name', 'Character', 'Fabric 2', 'Features', 'Fit', 'Fly Type', 'Main Trend', 'Multipack Set', 'Sustainable', 'Type of Pleat', 'Waist Rise', 'Weave_Type', 'Distress', 'Effects', 'Fabric 3', 'Fade', 'Reversible', 'Shade', 'Stretch', 'Type of Distress', 'Waistband', 'Center Front Open', 'Fabric_Type', 'Lining', 'Sleeve Styling', 'Transparency', 'taxMaterial', 'Front Styling', 'Knit_or_Woven', 'Sport', 'Technology', 'Blouse Closure', 'Blouse_Fabric', 'Choli Stitch', 'Dupatta', 'Lehenga Closure', 'Lehenga Fabric', 'Lehenga Lining Fabric', 'Lehenga Stitch', 'Regions', 'Style Tip', 'Top_Pattern', 'Where-to-wear', 'Bottom Closure', 'Bottom Type', 'Top_Fabric', 'Top Type', 'Trends', 'Blouse', 'Border', 'Care for me', 'Saree_Fabric', 'Collar', 'Lining Fabric', 'Pattern Coverage', 'Slit Detail', 'Top Design Styling', 'Top Hemline', 'Top Length', 'Top Shape', 'Weave_Pattern', 'Design Styling', 'Shape', 'Sport Team', 'Technology Present', 'Sub Trend', 'Wedding', 'Fabric_Purity', 'Fusion Wear', 'Pattern Size', 'Contact Brand or Retailer for pre-sales product queries', 'Colour_Family', 'Collection Name', 'Better_Cotton', 'About the Brand', 'How to care for your denim', 'What it does for your body']\n"
     ]
    }
   ],
   "source": [
    "print(list(fashion_dataset.columns))"
   ]
  },
  {
   "cell_type": "markdown",
   "id": "73a62e66",
   "metadata": {},
   "source": [
    "### Filling the Fabric column"
   ]
  },
  {
   "cell_type": "code",
   "execution_count": 19,
   "id": "44a880ab",
   "metadata": {},
   "outputs": [
    {
     "data": {
      "text/plain": [
       "array([nan, 'Cotton', 'Polyester', 'Poly Crepe', 'Polyviscose',\n",
       "       'Viscose Rayon', 'Wool', 'Pure Cotton', 'Cotton Blend',\n",
       "       'Poly Chiffon', 'Linen', 'Poly Georgette', 'Georgette',\n",
       "       'Silk Blend', 'Fleece', 'Net', 'Modal', 'Art Silk', 'Acrylic',\n",
       "       'Other', 'Polycotton', 'Nylon', 'Denim', 'Leather', 'Velvet',\n",
       "       'Liva', 'Poly Silk', 'Silk', 'Pure Silk', 'PU', 'Cotton Silk',\n",
       "       'Corduroy', 'Organza', 'Viscose Georgette', 'Wool Blend',\n",
       "       'Chiffon', 'Organic Cotton', 'Brocade', 'Faux Fur', 'Suede',\n",
       "       'Satin', 'Pure Georgette', 'Chanderi Silk', 'Crepe', 'Tencel',\n",
       "       'Elastane', 'Dupion', 'Jacquard', 'Synthetic Leather', 'Voile',\n",
       "       'Dupion Silk', 'Velour', 'Pashmina', 'Pure Crepe', 'Lyocell',\n",
       "       'Raw Silk', 'Polyester PU Coated', 'Hemp', 'Livaeco'], dtype=object)"
      ]
     },
     "execution_count": 19,
     "metadata": {},
     "output_type": "execute_result"
    }
   ],
   "source": [
    "pd.unique(fashion_dataset['Fabric'])"
   ]
  },
  {
   "cell_type": "code",
   "execution_count": 20,
   "id": "5105794f",
   "metadata": {},
   "outputs": [
    {
     "data": {
      "text/html": [
       "<div>\n",
       "<style scoped>\n",
       "    .dataframe tbody tr th:only-of-type {\n",
       "        vertical-align: middle;\n",
       "    }\n",
       "\n",
       "    .dataframe tbody tr th {\n",
       "        vertical-align: top;\n",
       "    }\n",
       "\n",
       "    .dataframe thead th {\n",
       "        text-align: right;\n",
       "    }\n",
       "</style>\n",
       "<table border=\"1\" class=\"dataframe\">\n",
       "  <thead>\n",
       "    <tr style=\"text-align: right;\">\n",
       "      <th></th>\n",
       "      <th>count(Fabric)</th>\n",
       "    </tr>\n",
       "  </thead>\n",
       "  <tbody>\n",
       "    <tr>\n",
       "      <th>0</th>\n",
       "      <td>0</td>\n",
       "    </tr>\n",
       "  </tbody>\n",
       "</table>\n",
       "</div>"
      ],
      "text/plain": [
       "   count(Fabric)\n",
       "0              0"
      ]
     },
     "execution_count": 20,
     "metadata": {},
     "output_type": "execute_result"
    }
   ],
   "source": [
    "sqldf(\"select count(Fabric) from fashion_dataset where Fabric = 'NA'\")"
   ]
  },
  {
   "cell_type": "code",
   "execution_count": 21,
   "id": "94ffcd1d",
   "metadata": {},
   "outputs": [
    {
     "data": {
      "text/plain": [
       "3882"
      ]
     },
     "execution_count": 21,
     "metadata": {},
     "output_type": "execute_result"
    }
   ],
   "source": [
    "fashion_dataset['Fabric'].isna().sum()"
   ]
  },
  {
   "cell_type": "code",
   "execution_count": 22,
   "id": "7a7ac747",
   "metadata": {},
   "outputs": [
    {
     "data": {
      "text/plain": [
       "array([nan, 'Cotton Blend', 'Viscose Rayon', 'Pure Cotton', 'Satin',\n",
       "       'Polyester', 'Poly Georgette', 'Shantoon', 'Silk Georgette',\n",
       "       'Poly Crepe', 'Organic Cotton', 'Poly Silk', 'Silk Blend',\n",
       "       'Art Silk', 'Pure Silk', 'Pure Wool', 'Poly Chiffon', 'Net',\n",
       "       'Silk Crepe', 'Silk Chiffon', 'Linen', 'NA', 'Pashmina',\n",
       "       'Jute Cotton', 'Nylon', 'Velvet', 'Voile'], dtype=object)"
      ]
     },
     "execution_count": 22,
     "metadata": {},
     "output_type": "execute_result"
    }
   ],
   "source": [
    "pd.unique(fashion_dataset['Bottom_Fabric'])"
   ]
  },
  {
   "cell_type": "code",
   "execution_count": 23,
   "id": "5a9e787c",
   "metadata": {},
   "outputs": [],
   "source": [
    "fashion_dataset['Bottom_Fabric'] = fashion_dataset['Bottom_Fabric'].where(fashion_dataset['Bottom_Fabric'] != 'NA', None)"
   ]
  },
  {
   "cell_type": "code",
   "execution_count": 24,
   "id": "61b5c03a",
   "metadata": {},
   "outputs": [
    {
     "data": {
      "text/plain": [
       "array([nan, 'Viscose Rayon', 'Organza', 'Poly Silk', 'Silk Blend',\n",
       "       'Cotton', 'Linen Blend', 'Poly Georgette', 'Pure Georgette',\n",
       "       'Art Silk', 'Net', 'Silk', 'Satin', 'NA', 'Pure Silk', 'Polyester',\n",
       "       'Brocade', 'Tissue', 'Cotton Blend', 'Silk Cotton', 'Velvet',\n",
       "       'Poly Crepe', 'Pure Cotton', 'Raw Silk', 'Polycotton',\n",
       "       'Pure Chiffon', 'Jute Silk', 'Poly Chiffon', 'Liva', 'Pure Crepe',\n",
       "       'Pure Linen', 'Supernet', 'Jute Cotton'], dtype=object)"
      ]
     },
     "execution_count": 24,
     "metadata": {},
     "output_type": "execute_result"
    }
   ],
   "source": [
    "pd.unique(fashion_dataset['Blouse_Fabric'])"
   ]
  },
  {
   "cell_type": "code",
   "execution_count": 25,
   "id": "7fb13166",
   "metadata": {},
   "outputs": [],
   "source": [
    "fashion_dataset['Blouse_Fabric'] = fashion_dataset['Blouse_Fabric'].where(fashion_dataset['Blouse_Fabric'] != 'NA', None)"
   ]
  },
  {
   "cell_type": "code",
   "execution_count": 26,
   "id": "a74b81f1",
   "metadata": {},
   "outputs": [
    {
     "data": {
      "text/plain": [
       "array([nan, 'Cotton Blend', 'Viscose Rayon', 'Pure Cotton', 'Polyester',\n",
       "       'Liva', 'Poly Crepe', 'Organic Cotton', 'Poly Silk', 'Silk Blend',\n",
       "       'Poly Georgette', 'Art Silk', 'Pure Wool', 'Net', 'Silk Chiffon',\n",
       "       'Linen', 'Poly Chanderi', 'Pure Silk', 'Chanderi Cotton',\n",
       "       'Chanderi Silk', 'Acrylic', 'Silk Georgette', 'Nylon', 'Velvet',\n",
       "       'Poly Chiffon', 'Voile'], dtype=object)"
      ]
     },
     "execution_count": 26,
     "metadata": {},
     "output_type": "execute_result"
    }
   ],
   "source": [
    "pd.unique(fashion_dataset['Top_Fabric'])"
   ]
  },
  {
   "cell_type": "code",
   "execution_count": 27,
   "id": "7c98b93d",
   "metadata": {},
   "outputs": [
    {
     "data": {
      "text/plain": [
       "array([nan, 'Georgette', 'NA', 'Denim', 'Cotton', 'Lace', 'Crepe',\n",
       "       'Chiffon', 'Cotton Cambric', 'Net', 'Dobby', 'Scuba', 'Satin',\n",
       "       'Liva', 'Twill', 'Linen', 'Chambray', 'Velvet', 'Jacquard',\n",
       "       'Corduroy', 'Schiffli', 'Terry'], dtype=object)"
      ]
     },
     "execution_count": 27,
     "metadata": {},
     "output_type": "execute_result"
    }
   ],
   "source": [
    "pd.unique(fashion_dataset['Fabric_Type'])"
   ]
  },
  {
   "cell_type": "code",
   "execution_count": 28,
   "id": "85432ad1",
   "metadata": {},
   "outputs": [],
   "source": [
    "fashion_dataset['Fabric_Type'] = fashion_dataset['Fabric_Type'].where(fashion_dataset['Fabric_Type'] != 'NA', None)"
   ]
  },
  {
   "cell_type": "code",
   "execution_count": 29,
   "id": "c2c8458d",
   "metadata": {},
   "outputs": [],
   "source": [
    "fashion_dataset['Fabric'] = fashion_dataset['Fabric'].combine_first(fashion_dataset['Top_Fabric'])"
   ]
  },
  {
   "cell_type": "code",
   "execution_count": 30,
   "id": "53e98a33",
   "metadata": {},
   "outputs": [
    {
     "data": {
      "text/plain": [
       "2708"
      ]
     },
     "execution_count": 30,
     "metadata": {},
     "output_type": "execute_result"
    }
   ],
   "source": [
    "fashion_dataset['Fabric'].isna().sum()"
   ]
  },
  {
   "cell_type": "code",
   "execution_count": 31,
   "id": "c6f38660",
   "metadata": {},
   "outputs": [],
   "source": [
    "fashion_dataset['Fabric'] = fashion_dataset['Fabric'].combine_first(fashion_dataset['Bottom_Fabric'])"
   ]
  },
  {
   "cell_type": "code",
   "execution_count": 32,
   "id": "10b519a7",
   "metadata": {},
   "outputs": [
    {
     "data": {
      "text/plain": [
       "2076"
      ]
     },
     "execution_count": 32,
     "metadata": {},
     "output_type": "execute_result"
    }
   ],
   "source": [
    "fashion_dataset['Fabric'].isna().sum()"
   ]
  },
  {
   "cell_type": "code",
   "execution_count": 33,
   "id": "0c9d2663",
   "metadata": {},
   "outputs": [],
   "source": [
    "fashion_dataset['Fabric'] = fashion_dataset['Fabric'].combine_first(fashion_dataset['Fabric_Type'])"
   ]
  },
  {
   "cell_type": "code",
   "execution_count": 34,
   "id": "ba0fca84",
   "metadata": {},
   "outputs": [
    {
     "data": {
      "text/plain": [
       "2025"
      ]
     },
     "execution_count": 34,
     "metadata": {},
     "output_type": "execute_result"
    }
   ],
   "source": [
    "fashion_dataset['Fabric'].isna().sum()"
   ]
  },
  {
   "cell_type": "code",
   "execution_count": 35,
   "id": "74d2dc2c",
   "metadata": {},
   "outputs": [],
   "source": [
    "fashion_dataset['Fabric'] = fashion_dataset['Fabric'].combine_first(fashion_dataset['Blouse_Fabric'])"
   ]
  },
  {
   "cell_type": "code",
   "execution_count": 36,
   "id": "c093c2ba",
   "metadata": {},
   "outputs": [
    {
     "data": {
      "text/plain": [
       "202"
      ]
     },
     "execution_count": 36,
     "metadata": {},
     "output_type": "execute_result"
    }
   ],
   "source": [
    "fashion_dataset['Fabric'].isna().sum()"
   ]
  },
  {
   "cell_type": "code",
   "execution_count": 37,
   "id": "0ba72375",
   "metadata": {},
   "outputs": [
    {
     "data": {
      "text/plain": [
       "array([nan, 'Regular', 'Better Cotton Initiative'], dtype=object)"
      ]
     },
     "execution_count": 37,
     "metadata": {},
     "output_type": "execute_result"
    }
   ],
   "source": [
    "pd.unique(fashion_dataset['Better_Cotton'])"
   ]
  },
  {
   "cell_type": "code",
   "execution_count": 38,
   "id": "b7aea958",
   "metadata": {},
   "outputs": [
    {
     "data": {
      "text/html": [
       "<div>\n",
       "<style scoped>\n",
       "    .dataframe tbody tr th:only-of-type {\n",
       "        vertical-align: middle;\n",
       "    }\n",
       "\n",
       "    .dataframe tbody tr th {\n",
       "        vertical-align: top;\n",
       "    }\n",
       "\n",
       "    .dataframe thead th {\n",
       "        text-align: right;\n",
       "    }\n",
       "</style>\n",
       "<table border=\"1\" class=\"dataframe\">\n",
       "  <thead>\n",
       "    <tr style=\"text-align: right;\">\n",
       "      <th></th>\n",
       "      <th>Better_Cotton</th>\n",
       "    </tr>\n",
       "  </thead>\n",
       "  <tbody>\n",
       "    <tr>\n",
       "      <th>0</th>\n",
       "      <td>Regular</td>\n",
       "    </tr>\n",
       "    <tr>\n",
       "      <th>1</th>\n",
       "      <td>Regular</td>\n",
       "    </tr>\n",
       "    <tr>\n",
       "      <th>2</th>\n",
       "      <td>Regular</td>\n",
       "    </tr>\n",
       "  </tbody>\n",
       "</table>\n",
       "</div>"
      ],
      "text/plain": [
       "  Better_Cotton\n",
       "0       Regular\n",
       "1       Regular\n",
       "2       Regular"
      ]
     },
     "execution_count": 38,
     "metadata": {},
     "output_type": "execute_result"
    }
   ],
   "source": [
    "sqldf(\"select Better_Cotton from fashion_dataset where Fabric is null and Better_Cotton in('Better Cotton Initiative','Regular')\")"
   ]
  },
  {
   "cell_type": "code",
   "execution_count": 39,
   "id": "7ddd9b0a",
   "metadata": {},
   "outputs": [],
   "source": [
    "fashion_dataset['Better_Cotton'] = fashion_dataset['Better_Cotton'].replace(['Regular', 'Better Cotton Initiative'], ['Cotton',None])"
   ]
  },
  {
   "cell_type": "code",
   "execution_count": 40,
   "id": "a791426c",
   "metadata": {},
   "outputs": [],
   "source": [
    "fashion_dataset['Fabric'] = fashion_dataset['Fabric'].combine_first(fashion_dataset['Better_Cotton'])"
   ]
  },
  {
   "cell_type": "code",
   "execution_count": 41,
   "id": "72bdfd4e",
   "metadata": {},
   "outputs": [
    {
     "data": {
      "text/plain": [
       "199"
      ]
     },
     "execution_count": 41,
     "metadata": {},
     "output_type": "execute_result"
    }
   ],
   "source": [
    "fashion_dataset['Fabric'].isna().sum()"
   ]
  },
  {
   "cell_type": "code",
   "execution_count": 42,
   "id": "dc8016ae",
   "metadata": {},
   "outputs": [],
   "source": [
    "pd.unique(fashion_dataset['Dupatta_Fabric'])\n",
    "fashion_dataset['Dupatta_Fabric'] = fashion_dataset['Dupatta_Fabric'].where(fashion_dataset['Dupatta_Fabric'] != 'NA', None)"
   ]
  },
  {
   "cell_type": "code",
   "execution_count": 43,
   "id": "73ef91ce",
   "metadata": {},
   "outputs": [
    {
     "data": {
      "text/html": [
       "<div>\n",
       "<style scoped>\n",
       "    .dataframe tbody tr th:only-of-type {\n",
       "        vertical-align: middle;\n",
       "    }\n",
       "\n",
       "    .dataframe tbody tr th {\n",
       "        vertical-align: top;\n",
       "    }\n",
       "\n",
       "    .dataframe thead th {\n",
       "        text-align: right;\n",
       "    }\n",
       "</style>\n",
       "<table border=\"1\" class=\"dataframe\">\n",
       "  <thead>\n",
       "    <tr style=\"text-align: right;\">\n",
       "      <th></th>\n",
       "      <th>Dupatta_Fabric</th>\n",
       "    </tr>\n",
       "  </thead>\n",
       "  <tbody>\n",
       "    <tr>\n",
       "      <th>0</th>\n",
       "      <td>Net</td>\n",
       "    </tr>\n",
       "  </tbody>\n",
       "</table>\n",
       "</div>"
      ],
      "text/plain": [
       "  Dupatta_Fabric\n",
       "0            Net"
      ]
     },
     "execution_count": 43,
     "metadata": {},
     "output_type": "execute_result"
    }
   ],
   "source": [
    "sqldf(\"select Dupatta_Fabric from fashion_dataset where Dupatta_Fabric is not null and Fabric is null\")"
   ]
  },
  {
   "cell_type": "code",
   "execution_count": 44,
   "id": "b93fd011",
   "metadata": {},
   "outputs": [],
   "source": [
    "fashion_dataset['Fabric'] = fashion_dataset['Fabric'].combine_first(fashion_dataset['Dupatta_Fabric'])"
   ]
  },
  {
   "cell_type": "code",
   "execution_count": 45,
   "id": "39916786",
   "metadata": {},
   "outputs": [
    {
     "data": {
      "text/plain": [
       "198"
      ]
     },
     "execution_count": 45,
     "metadata": {},
     "output_type": "execute_result"
    }
   ],
   "source": [
    "fashion_dataset['Fabric'].isna().sum()"
   ]
  },
  {
   "cell_type": "code",
   "execution_count": 46,
   "id": "8856c1d5",
   "metadata": {},
   "outputs": [
    {
     "data": {
      "text/html": [
       "<div>\n",
       "<style scoped>\n",
       "    .dataframe tbody tr th:only-of-type {\n",
       "        vertical-align: middle;\n",
       "    }\n",
       "\n",
       "    .dataframe tbody tr th {\n",
       "        vertical-align: top;\n",
       "    }\n",
       "\n",
       "    .dataframe thead th {\n",
       "        text-align: right;\n",
       "    }\n",
       "</style>\n",
       "<table border=\"1\" class=\"dataframe\">\n",
       "  <thead>\n",
       "    <tr style=\"text-align: right;\">\n",
       "      <th></th>\n",
       "      <th>Saree_Fabric</th>\n",
       "    </tr>\n",
       "  </thead>\n",
       "  <tbody>\n",
       "    <tr>\n",
       "      <th>0</th>\n",
       "      <td>Poly Georgette</td>\n",
       "    </tr>\n",
       "    <tr>\n",
       "      <th>1</th>\n",
       "      <td>Pure Linen</td>\n",
       "    </tr>\n",
       "    <tr>\n",
       "      <th>2</th>\n",
       "      <td>Pure Cotton</td>\n",
       "    </tr>\n",
       "    <tr>\n",
       "      <th>3</th>\n",
       "      <td>Cotton Blend</td>\n",
       "    </tr>\n",
       "    <tr>\n",
       "      <th>4</th>\n",
       "      <td>Cotton Blend</td>\n",
       "    </tr>\n",
       "    <tr>\n",
       "      <th>5</th>\n",
       "      <td>Pure Linen</td>\n",
       "    </tr>\n",
       "    <tr>\n",
       "      <th>6</th>\n",
       "      <td>Pure Cotton</td>\n",
       "    </tr>\n",
       "    <tr>\n",
       "      <th>7</th>\n",
       "      <td>Pure Chiffon</td>\n",
       "    </tr>\n",
       "    <tr>\n",
       "      <th>8</th>\n",
       "      <td>Poly Chiffon</td>\n",
       "    </tr>\n",
       "    <tr>\n",
       "      <th>9</th>\n",
       "      <td>Pure Cotton</td>\n",
       "    </tr>\n",
       "    <tr>\n",
       "      <th>10</th>\n",
       "      <td>Pure Cotton</td>\n",
       "    </tr>\n",
       "    <tr>\n",
       "      <th>11</th>\n",
       "      <td>Pure Chiffon</td>\n",
       "    </tr>\n",
       "    <tr>\n",
       "      <th>12</th>\n",
       "      <td>Pure Cotton</td>\n",
       "    </tr>\n",
       "    <tr>\n",
       "      <th>13</th>\n",
       "      <td>Organza</td>\n",
       "    </tr>\n",
       "    <tr>\n",
       "      <th>14</th>\n",
       "      <td>Cotton Blend</td>\n",
       "    </tr>\n",
       "    <tr>\n",
       "      <th>15</th>\n",
       "      <td>Polycotton</td>\n",
       "    </tr>\n",
       "    <tr>\n",
       "      <th>16</th>\n",
       "      <td>Polycotton</td>\n",
       "    </tr>\n",
       "    <tr>\n",
       "      <th>17</th>\n",
       "      <td>Pure Cotton</td>\n",
       "    </tr>\n",
       "    <tr>\n",
       "      <th>18</th>\n",
       "      <td>Pure Linen</td>\n",
       "    </tr>\n",
       "    <tr>\n",
       "      <th>19</th>\n",
       "      <td>Cotton Blend</td>\n",
       "    </tr>\n",
       "    <tr>\n",
       "      <th>20</th>\n",
       "      <td>Cotton Blend</td>\n",
       "    </tr>\n",
       "    <tr>\n",
       "      <th>21</th>\n",
       "      <td>Satin</td>\n",
       "    </tr>\n",
       "    <tr>\n",
       "      <th>22</th>\n",
       "      <td>Pure Chiffon</td>\n",
       "    </tr>\n",
       "    <tr>\n",
       "      <th>23</th>\n",
       "      <td>Organza</td>\n",
       "    </tr>\n",
       "    <tr>\n",
       "      <th>24</th>\n",
       "      <td>Polyester</td>\n",
       "    </tr>\n",
       "    <tr>\n",
       "      <th>25</th>\n",
       "      <td>Pure Cotton</td>\n",
       "    </tr>\n",
       "    <tr>\n",
       "      <th>26</th>\n",
       "      <td>Liva</td>\n",
       "    </tr>\n",
       "    <tr>\n",
       "      <th>27</th>\n",
       "      <td>Pure Cotton</td>\n",
       "    </tr>\n",
       "    <tr>\n",
       "      <th>28</th>\n",
       "      <td>Cotton Blend</td>\n",
       "    </tr>\n",
       "    <tr>\n",
       "      <th>29</th>\n",
       "      <td>Pure Cotton</td>\n",
       "    </tr>\n",
       "    <tr>\n",
       "      <th>30</th>\n",
       "      <td>Pure Cotton</td>\n",
       "    </tr>\n",
       "    <tr>\n",
       "      <th>31</th>\n",
       "      <td>Pure Cotton</td>\n",
       "    </tr>\n",
       "    <tr>\n",
       "      <th>32</th>\n",
       "      <td>Satin</td>\n",
       "    </tr>\n",
       "    <tr>\n",
       "      <th>33</th>\n",
       "      <td>Satin</td>\n",
       "    </tr>\n",
       "    <tr>\n",
       "      <th>34</th>\n",
       "      <td>Pure Cotton</td>\n",
       "    </tr>\n",
       "    <tr>\n",
       "      <th>35</th>\n",
       "      <td>Pure Cotton</td>\n",
       "    </tr>\n",
       "    <tr>\n",
       "      <th>36</th>\n",
       "      <td>Silk Cotton</td>\n",
       "    </tr>\n",
       "    <tr>\n",
       "      <th>37</th>\n",
       "      <td>Silk Cotton</td>\n",
       "    </tr>\n",
       "    <tr>\n",
       "      <th>38</th>\n",
       "      <td>Pure Cotton</td>\n",
       "    </tr>\n",
       "    <tr>\n",
       "      <th>39</th>\n",
       "      <td>Cotton Blend</td>\n",
       "    </tr>\n",
       "    <tr>\n",
       "      <th>40</th>\n",
       "      <td>Satin</td>\n",
       "    </tr>\n",
       "    <tr>\n",
       "      <th>41</th>\n",
       "      <td>Poly Chiffon</td>\n",
       "    </tr>\n",
       "    <tr>\n",
       "      <th>42</th>\n",
       "      <td>Nylon</td>\n",
       "    </tr>\n",
       "    <tr>\n",
       "      <th>43</th>\n",
       "      <td>Pure Cotton</td>\n",
       "    </tr>\n",
       "    <tr>\n",
       "      <th>44</th>\n",
       "      <td>Pure Cotton</td>\n",
       "    </tr>\n",
       "    <tr>\n",
       "      <th>45</th>\n",
       "      <td>Pure Chiffon</td>\n",
       "    </tr>\n",
       "    <tr>\n",
       "      <th>46</th>\n",
       "      <td>Cotton Blend</td>\n",
       "    </tr>\n",
       "    <tr>\n",
       "      <th>47</th>\n",
       "      <td>Pure Cotton</td>\n",
       "    </tr>\n",
       "    <tr>\n",
       "      <th>48</th>\n",
       "      <td>Cotton Blend</td>\n",
       "    </tr>\n",
       "    <tr>\n",
       "      <th>49</th>\n",
       "      <td>Pure Cotton</td>\n",
       "    </tr>\n",
       "    <tr>\n",
       "      <th>50</th>\n",
       "      <td>Pure Cotton</td>\n",
       "    </tr>\n",
       "    <tr>\n",
       "      <th>51</th>\n",
       "      <td>Pure Chiffon</td>\n",
       "    </tr>\n",
       "    <tr>\n",
       "      <th>52</th>\n",
       "      <td>Pure Cotton</td>\n",
       "    </tr>\n",
       "    <tr>\n",
       "      <th>53</th>\n",
       "      <td>Cotton Blend</td>\n",
       "    </tr>\n",
       "    <tr>\n",
       "      <th>54</th>\n",
       "      <td>Pure Cotton</td>\n",
       "    </tr>\n",
       "  </tbody>\n",
       "</table>\n",
       "</div>"
      ],
      "text/plain": [
       "      Saree_Fabric\n",
       "0   Poly Georgette\n",
       "1       Pure Linen\n",
       "2      Pure Cotton\n",
       "3     Cotton Blend\n",
       "4     Cotton Blend\n",
       "5       Pure Linen\n",
       "6      Pure Cotton\n",
       "7     Pure Chiffon\n",
       "8     Poly Chiffon\n",
       "9      Pure Cotton\n",
       "10     Pure Cotton\n",
       "11    Pure Chiffon\n",
       "12     Pure Cotton\n",
       "13         Organza\n",
       "14    Cotton Blend\n",
       "15      Polycotton\n",
       "16      Polycotton\n",
       "17     Pure Cotton\n",
       "18      Pure Linen\n",
       "19    Cotton Blend\n",
       "20    Cotton Blend\n",
       "21           Satin\n",
       "22    Pure Chiffon\n",
       "23         Organza\n",
       "24       Polyester\n",
       "25     Pure Cotton\n",
       "26            Liva\n",
       "27     Pure Cotton\n",
       "28    Cotton Blend\n",
       "29     Pure Cotton\n",
       "30     Pure Cotton\n",
       "31     Pure Cotton\n",
       "32           Satin\n",
       "33           Satin\n",
       "34     Pure Cotton\n",
       "35     Pure Cotton\n",
       "36     Silk Cotton\n",
       "37     Silk Cotton\n",
       "38     Pure Cotton\n",
       "39    Cotton Blend\n",
       "40           Satin\n",
       "41    Poly Chiffon\n",
       "42           Nylon\n",
       "43     Pure Cotton\n",
       "44     Pure Cotton\n",
       "45    Pure Chiffon\n",
       "46    Cotton Blend\n",
       "47     Pure Cotton\n",
       "48    Cotton Blend\n",
       "49     Pure Cotton\n",
       "50     Pure Cotton\n",
       "51    Pure Chiffon\n",
       "52     Pure Cotton\n",
       "53    Cotton Blend\n",
       "54     Pure Cotton"
      ]
     },
     "execution_count": 46,
     "metadata": {},
     "output_type": "execute_result"
    }
   ],
   "source": [
    "sqldf(\"select Saree_Fabric from fashion_dataset where Saree_Fabric is not null and Fabric is null\")"
   ]
  },
  {
   "cell_type": "code",
   "execution_count": 47,
   "id": "c6280571",
   "metadata": {},
   "outputs": [],
   "source": [
    "fashion_dataset['Fabric'] = fashion_dataset['Fabric'].combine_first(fashion_dataset['Saree_Fabric'])"
   ]
  },
  {
   "cell_type": "code",
   "execution_count": 109,
   "id": "61677838",
   "metadata": {},
   "outputs": [
    {
     "data": {
      "text/plain": [
       "143"
      ]
     },
     "execution_count": 109,
     "metadata": {},
     "output_type": "execute_result"
    }
   ],
   "source": [
    "fashion_dataset['Fabric'].isna().sum()"
   ]
  },
  {
   "cell_type": "code",
   "execution_count": 117,
   "id": "c646c9e5",
   "metadata": {},
   "outputs": [
    {
     "data": {
      "text/plain": [
       "0"
      ]
     },
     "execution_count": 117,
     "metadata": {},
     "output_type": "execute_result"
    }
   ],
   "source": [
    "fashion_dataset.fillna({'Fabric':'fashion_dataset.mode()'}, inplace=True)\n",
    "fashion_dataset['Fabric'].isna().sum()"
   ]
  },
  {
   "cell_type": "code",
   "execution_count": 49,
   "id": "acb1f820",
   "metadata": {},
   "outputs": [
    {
     "data": {
      "text/html": [
       "<div>\n",
       "<style scoped>\n",
       "    .dataframe tbody tr th:only-of-type {\n",
       "        vertical-align: middle;\n",
       "    }\n",
       "\n",
       "    .dataframe tbody tr th {\n",
       "        vertical-align: top;\n",
       "    }\n",
       "\n",
       "    .dataframe thead th {\n",
       "        text-align: right;\n",
       "    }\n",
       "</style>\n",
       "<table border=\"1\" class=\"dataframe\">\n",
       "  <thead>\n",
       "    <tr style=\"text-align: right;\">\n",
       "      <th></th>\n",
       "      <th>count(Fabric)</th>\n",
       "    </tr>\n",
       "  </thead>\n",
       "  <tbody>\n",
       "    <tr>\n",
       "      <th>0</th>\n",
       "      <td>0</td>\n",
       "    </tr>\n",
       "  </tbody>\n",
       "</table>\n",
       "</div>"
      ],
      "text/plain": [
       "   count(Fabric)\n",
       "0              0"
      ]
     },
     "execution_count": 49,
     "metadata": {},
     "output_type": "execute_result"
    }
   ],
   "source": [
    "sqldf(\"select count(Fabric) from fashion_dataset where Fabric = 'NA'\")"
   ]
  },
  {
   "cell_type": "code",
   "execution_count": null,
   "id": "02bbd387",
   "metadata": {},
   "outputs": [],
   "source": []
  },
  {
   "cell_type": "code",
   "execution_count": null,
   "id": "0e90eb2a",
   "metadata": {},
   "outputs": [],
   "source": []
  },
  {
   "cell_type": "markdown",
   "id": "f835909e",
   "metadata": {},
   "source": [
    "### Viewing Weave Type & Knit or Woven"
   ]
  },
  {
   "cell_type": "code",
   "execution_count": 50,
   "id": "6282e8ad",
   "metadata": {},
   "outputs": [
    {
     "data": {
      "text/plain": [
       "array([nan, 'Woven', 'Machine Weave', 'Knitted', 'Knitted and Woven',\n",
       "       'Velvet', 'Denim', 'Handloom', 'Lace', 'Chambray', 'Corduroy'],\n",
       "      dtype=object)"
      ]
     },
     "execution_count": 50,
     "metadata": {},
     "output_type": "execute_result"
    }
   ],
   "source": [
    "pd.unique(fashion_dataset['Weave_Type'])"
   ]
  },
  {
   "cell_type": "code",
   "execution_count": 51,
   "id": "a695c0e4",
   "metadata": {},
   "outputs": [
    {
     "data": {
      "text/plain": [
       "array([nan, 'Woven', 'Machine Weave', 'Knitted', 'Knitted and Woven',\n",
       "       'Velvet', 'Denim', 'Handloom', 'Lace', 'Chambray', 'Corduroy'],\n",
       "      dtype=object)"
      ]
     },
     "execution_count": 51,
     "metadata": {},
     "output_type": "execute_result"
    }
   ],
   "source": [
    "pd.unique(fashion_dataset['Weave_Type'])"
   ]
  },
  {
   "cell_type": "code",
   "execution_count": 52,
   "id": "dbb9c50c",
   "metadata": {
    "scrolled": true
   },
   "outputs": [
    {
     "data": {
      "text/plain": [
       "array([nan, 'Knitted', 'Knitted and Woven', 'Woven'], dtype=object)"
      ]
     },
     "execution_count": 52,
     "metadata": {},
     "output_type": "execute_result"
    }
   ],
   "source": [
    "pd.unique(fashion_dataset['Knit_or_Woven'])"
   ]
  },
  {
   "cell_type": "code",
   "execution_count": 53,
   "id": "211a439a",
   "metadata": {},
   "outputs": [
    {
     "data": {
      "text/plain": [
       "array([nan, 'Regular', 'Jacquard', 'Brocade', 'Dobby', 'Khadi'],\n",
       "      dtype=object)"
      ]
     },
     "execution_count": 53,
     "metadata": {},
     "output_type": "execute_result"
    }
   ],
   "source": [
    "pd.unique(fashion_dataset['Weave_Pattern'])"
   ]
  },
  {
   "cell_type": "markdown",
   "id": "2dcab36c",
   "metadata": {},
   "source": [
    "### Formatting Weave Pattern  and Weave Type to fill Knit or Woven"
   ]
  },
  {
   "cell_type": "code",
   "execution_count": 54,
   "id": "958de523",
   "metadata": {},
   "outputs": [],
   "source": [
    "fashion_dataset['Weave_Pattern'] = fashion_dataset['Weave_Pattern'].replace(['Regular', 'Jacquard', 'Brocade', 'Dobby', 'Khadi'], ['Woven','Woven','Woven','Woven','Woven'])"
   ]
  },
  {
   "cell_type": "code",
   "execution_count": 55,
   "id": "e065dc8e",
   "metadata": {},
   "outputs": [
    {
     "data": {
      "text/plain": [
       "array([nan, 'Woven'], dtype=object)"
      ]
     },
     "execution_count": 55,
     "metadata": {},
     "output_type": "execute_result"
    }
   ],
   "source": [
    "pd.unique(fashion_dataset['Weave_Pattern'])"
   ]
  },
  {
   "cell_type": "code",
   "execution_count": 56,
   "id": "9b6f36d2",
   "metadata": {},
   "outputs": [],
   "source": [
    "fashion_dataset['Weave_Type'] = fashion_dataset['Weave_Type'].replace(['Machine Weave',\n",
    "       'Velvet', 'Denim', 'Handloom', 'Lace', 'Chambray', 'Corduroy'], ['Woven','Woven','Woven','Woven','Knitted','Woven','Woven'])"
   ]
  },
  {
   "cell_type": "code",
   "execution_count": 57,
   "id": "32aa4257",
   "metadata": {},
   "outputs": [
    {
     "data": {
      "text/plain": [
       "array([nan, 'Woven', 'Knitted', 'Knitted and Woven'], dtype=object)"
      ]
     },
     "execution_count": 57,
     "metadata": {},
     "output_type": "execute_result"
    }
   ],
   "source": [
    "pd.unique(fashion_dataset['Weave_Type'])"
   ]
  },
  {
   "cell_type": "markdown",
   "id": "4c265693",
   "metadata": {},
   "source": [
    "> Use 'Occasion', 'Print or Pattern Type', 'Pattern', 'Top Pattern', 'Bottom Pattern', 'Dupatta Pattern', 'Kurta Pattern', 'Weave Pattern', 'Knit or Woven', 'Sustainable', 'Sport', 'Fusion_Wear'"
   ]
  },
  {
   "cell_type": "markdown",
   "id": "52f78cf5",
   "metadata": {},
   "source": [
    "### Merging the datasets"
   ]
  },
  {
   "cell_type": "code",
   "execution_count": 58,
   "id": "ad56bf91",
   "metadata": {},
   "outputs": [
    {
     "data": {
      "text/html": [
       "<div>\n",
       "<style scoped>\n",
       "    .dataframe tbody tr th:only-of-type {\n",
       "        vertical-align: middle;\n",
       "    }\n",
       "\n",
       "    .dataframe tbody tr th {\n",
       "        vertical-align: top;\n",
       "    }\n",
       "\n",
       "    .dataframe thead th {\n",
       "        text-align: right;\n",
       "    }\n",
       "</style>\n",
       "<table border=\"1\" class=\"dataframe\">\n",
       "  <thead>\n",
       "    <tr style=\"text-align: right;\">\n",
       "      <th></th>\n",
       "      <th>p_id</th>\n",
       "      <th>name</th>\n",
       "      <th>price</th>\n",
       "      <th>colour</th>\n",
       "      <th>Colour_Family</th>\n",
       "      <th>brand_id</th>\n",
       "      <th>brand_name</th>\n",
       "      <th>brand</th>\n",
       "      <th>ratingCount</th>\n",
       "      <th>avg_rating</th>\n",
       "      <th>...</th>\n",
       "      <th>Top_Pattern</th>\n",
       "      <th>Bottom_Pattern</th>\n",
       "      <th>Dupatta_Pattern</th>\n",
       "      <th>Kurta_Pattern</th>\n",
       "      <th>Sustainable</th>\n",
       "      <th>Weave_Type</th>\n",
       "      <th>Knit_or_Woven</th>\n",
       "      <th>Weave_Pattern</th>\n",
       "      <th>Fabric</th>\n",
       "      <th>Fabric_Purity</th>\n",
       "    </tr>\n",
       "  </thead>\n",
       "  <tbody>\n",
       "    <tr>\n",
       "      <th>0</th>\n",
       "      <td>1518329.0</td>\n",
       "      <td>Dupatta Bazaar White Embroidered Chiffon Dupatta</td>\n",
       "      <td>899.0</td>\n",
       "      <td>White</td>\n",
       "      <td>None</td>\n",
       "      <td>242.0</td>\n",
       "      <td>Dupatta Bazaar</td>\n",
       "      <td>Dupatta Bazaar</td>\n",
       "      <td>1321.0</td>\n",
       "      <td>4.548827</td>\n",
       "      <td>...</td>\n",
       "      <td>None</td>\n",
       "      <td>None</td>\n",
       "      <td>None</td>\n",
       "      <td>None</td>\n",
       "      <td>None</td>\n",
       "      <td>None</td>\n",
       "      <td>None</td>\n",
       "      <td>None</td>\n",
       "      <td>None</td>\n",
       "      <td>None</td>\n",
       "    </tr>\n",
       "    <tr>\n",
       "      <th>1</th>\n",
       "      <td>5829334.0</td>\n",
       "      <td>Roadster Women Mustard Yellow Solid Hooded Swe...</td>\n",
       "      <td>1199.0</td>\n",
       "      <td>Mustard</td>\n",
       "      <td>None</td>\n",
       "      <td>750.0</td>\n",
       "      <td>Roadster</td>\n",
       "      <td>Roadster</td>\n",
       "      <td>5462.0</td>\n",
       "      <td>4.313255</td>\n",
       "      <td>...</td>\n",
       "      <td>None</td>\n",
       "      <td>None</td>\n",
       "      <td>None</td>\n",
       "      <td>None</td>\n",
       "      <td>None</td>\n",
       "      <td>None</td>\n",
       "      <td>None</td>\n",
       "      <td>None</td>\n",
       "      <td>Cotton</td>\n",
       "      <td>None</td>\n",
       "    </tr>\n",
       "    <tr>\n",
       "      <th>2</th>\n",
       "      <td>10340119.0</td>\n",
       "      <td>Inddus Peach-Coloured &amp; Beige Unstitched Dress...</td>\n",
       "      <td>5799.0</td>\n",
       "      <td>Peach</td>\n",
       "      <td>None</td>\n",
       "      <td>389.0</td>\n",
       "      <td>Inddus</td>\n",
       "      <td>Inddus</td>\n",
       "      <td>145.0</td>\n",
       "      <td>4.068966</td>\n",
       "      <td>...</td>\n",
       "      <td>None</td>\n",
       "      <td>Woven Design</td>\n",
       "      <td>Woven Design</td>\n",
       "      <td>Woven Design</td>\n",
       "      <td>None</td>\n",
       "      <td>None</td>\n",
       "      <td>None</td>\n",
       "      <td>None</td>\n",
       "      <td>Cotton Blend</td>\n",
       "      <td>None</td>\n",
       "    </tr>\n",
       "    <tr>\n",
       "      <th>3</th>\n",
       "      <td>10856380.0</td>\n",
       "      <td>SASSAFRAS Women Black Parallel Trousers</td>\n",
       "      <td>1499.0</td>\n",
       "      <td>Black</td>\n",
       "      <td>None</td>\n",
       "      <td>NaN</td>\n",
       "      <td>None</td>\n",
       "      <td>SASSAFRAS</td>\n",
       "      <td>9124.0</td>\n",
       "      <td>4.147523</td>\n",
       "      <td>...</td>\n",
       "      <td>None</td>\n",
       "      <td>None</td>\n",
       "      <td>None</td>\n",
       "      <td>None</td>\n",
       "      <td>Regular</td>\n",
       "      <td>Woven</td>\n",
       "      <td>None</td>\n",
       "      <td>None</td>\n",
       "      <td>None</td>\n",
       "      <td>None</td>\n",
       "    </tr>\n",
       "    <tr>\n",
       "      <th>4</th>\n",
       "      <td>12384822.0</td>\n",
       "      <td>Kotty Women Black Wide Leg High-Rise Clean Loo...</td>\n",
       "      <td>1999.0</td>\n",
       "      <td>Black</td>\n",
       "      <td>None</td>\n",
       "      <td>482.0</td>\n",
       "      <td>Kotty</td>\n",
       "      <td>Kotty</td>\n",
       "      <td>12260.0</td>\n",
       "      <td>4.078467</td>\n",
       "      <td>...</td>\n",
       "      <td>None</td>\n",
       "      <td>None</td>\n",
       "      <td>None</td>\n",
       "      <td>None</td>\n",
       "      <td>None</td>\n",
       "      <td>None</td>\n",
       "      <td>None</td>\n",
       "      <td>None</td>\n",
       "      <td>Cotton</td>\n",
       "      <td>None</td>\n",
       "    </tr>\n",
       "    <tr>\n",
       "      <th>...</th>\n",
       "      <td>...</td>\n",
       "      <td>...</td>\n",
       "      <td>...</td>\n",
       "      <td>...</td>\n",
       "      <td>...</td>\n",
       "      <td>...</td>\n",
       "      <td>...</td>\n",
       "      <td>...</td>\n",
       "      <td>...</td>\n",
       "      <td>...</td>\n",
       "      <td>...</td>\n",
       "      <td>...</td>\n",
       "      <td>...</td>\n",
       "      <td>...</td>\n",
       "      <td>...</td>\n",
       "      <td>...</td>\n",
       "      <td>...</td>\n",
       "      <td>...</td>\n",
       "      <td>...</td>\n",
       "      <td>...</td>\n",
       "      <td>...</td>\n",
       "    </tr>\n",
       "    <tr>\n",
       "      <th>14265</th>\n",
       "      <td>17029604.0</td>\n",
       "      <td>The Chennai Silks Pink &amp; Silver-Toned Floral Z...</td>\n",
       "      <td>3999.0</td>\n",
       "      <td>Pink</td>\n",
       "      <td>None</td>\n",
       "      <td>880.0</td>\n",
       "      <td>The Chennai Silks</td>\n",
       "      <td>The Chennai Silks</td>\n",
       "      <td>NaN</td>\n",
       "      <td>NaN</td>\n",
       "      <td>...</td>\n",
       "      <td>None</td>\n",
       "      <td>None</td>\n",
       "      <td>None</td>\n",
       "      <td>None</td>\n",
       "      <td>Regular</td>\n",
       "      <td>None</td>\n",
       "      <td>None</td>\n",
       "      <td>None</td>\n",
       "      <td>Jute Cotton</td>\n",
       "      <td>None</td>\n",
       "    </tr>\n",
       "    <tr>\n",
       "      <th>14266</th>\n",
       "      <td>17600212.0</td>\n",
       "      <td>Kinder Kids Girls Blue &amp; Green Printed Foil Pr...</td>\n",
       "      <td>2050.0</td>\n",
       "      <td>Blue</td>\n",
       "      <td>None</td>\n",
       "      <td>471.0</td>\n",
       "      <td>Kinder Kids</td>\n",
       "      <td>Kinder Kids</td>\n",
       "      <td>NaN</td>\n",
       "      <td>NaN</td>\n",
       "      <td>...</td>\n",
       "      <td>Printed</td>\n",
       "      <td>Printed</td>\n",
       "      <td>NA</td>\n",
       "      <td>None</td>\n",
       "      <td>Regular</td>\n",
       "      <td>None</td>\n",
       "      <td>None</td>\n",
       "      <td>None</td>\n",
       "      <td>Cotton</td>\n",
       "      <td>None</td>\n",
       "    </tr>\n",
       "    <tr>\n",
       "      <th>14267</th>\n",
       "      <td>18159266.0</td>\n",
       "      <td>KLOTTHE Women Green &amp; Black Floral Printed Pal...</td>\n",
       "      <td>1659.0</td>\n",
       "      <td>Green</td>\n",
       "      <td>None</td>\n",
       "      <td>NaN</td>\n",
       "      <td>None</td>\n",
       "      <td>KLOTTHE</td>\n",
       "      <td>NaN</td>\n",
       "      <td>NaN</td>\n",
       "      <td>...</td>\n",
       "      <td>None</td>\n",
       "      <td>None</td>\n",
       "      <td>None</td>\n",
       "      <td>None</td>\n",
       "      <td>Regular</td>\n",
       "      <td>Woven</td>\n",
       "      <td>None</td>\n",
       "      <td>None</td>\n",
       "      <td>Polycotton</td>\n",
       "      <td>None</td>\n",
       "    </tr>\n",
       "    <tr>\n",
       "      <th>14268</th>\n",
       "      <td>18921114.0</td>\n",
       "      <td>InWeave Women Red Printed A-Line Skirt</td>\n",
       "      <td>2399.0</td>\n",
       "      <td>Red</td>\n",
       "      <td>None</td>\n",
       "      <td>NaN</td>\n",
       "      <td>None</td>\n",
       "      <td>InWeave</td>\n",
       "      <td>NaN</td>\n",
       "      <td>NaN</td>\n",
       "      <td>...</td>\n",
       "      <td>None</td>\n",
       "      <td>None</td>\n",
       "      <td>None</td>\n",
       "      <td>None</td>\n",
       "      <td>Regular</td>\n",
       "      <td>None</td>\n",
       "      <td>Woven</td>\n",
       "      <td>None</td>\n",
       "      <td>Viscose Rayon</td>\n",
       "      <td>None</td>\n",
       "    </tr>\n",
       "    <tr>\n",
       "      <th>14269</th>\n",
       "      <td>19361058.0</td>\n",
       "      <td>BoStreet Women Navy Blue Tapered Fit Trousers</td>\n",
       "      <td>2599.0</td>\n",
       "      <td>Navy Blue</td>\n",
       "      <td>None</td>\n",
       "      <td>NaN</td>\n",
       "      <td>None</td>\n",
       "      <td>BoStreet</td>\n",
       "      <td>NaN</td>\n",
       "      <td>NaN</td>\n",
       "      <td>...</td>\n",
       "      <td>None</td>\n",
       "      <td>None</td>\n",
       "      <td>None</td>\n",
       "      <td>None</td>\n",
       "      <td>Regular</td>\n",
       "      <td>Knitted</td>\n",
       "      <td>None</td>\n",
       "      <td>None</td>\n",
       "      <td>Nylon</td>\n",
       "      <td>None</td>\n",
       "    </tr>\n",
       "  </tbody>\n",
       "</table>\n",
       "<p>14270 rows × 23 columns</p>\n",
       "</div>"
      ],
      "text/plain": [
       "             p_id                                               name   price  \\\n",
       "0       1518329.0   Dupatta Bazaar White Embroidered Chiffon Dupatta   899.0   \n",
       "1       5829334.0  Roadster Women Mustard Yellow Solid Hooded Swe...  1199.0   \n",
       "2      10340119.0  Inddus Peach-Coloured & Beige Unstitched Dress...  5799.0   \n",
       "3      10856380.0            SASSAFRAS Women Black Parallel Trousers  1499.0   \n",
       "4      12384822.0  Kotty Women Black Wide Leg High-Rise Clean Loo...  1999.0   \n",
       "...           ...                                                ...     ...   \n",
       "14265  17029604.0  The Chennai Silks Pink & Silver-Toned Floral Z...  3999.0   \n",
       "14266  17600212.0  Kinder Kids Girls Blue & Green Printed Foil Pr...  2050.0   \n",
       "14267  18159266.0  KLOTTHE Women Green & Black Floral Printed Pal...  1659.0   \n",
       "14268  18921114.0             InWeave Women Red Printed A-Line Skirt  2399.0   \n",
       "14269  19361058.0      BoStreet Women Navy Blue Tapered Fit Trousers  2599.0   \n",
       "\n",
       "          colour Colour_Family  brand_id         brand_name  \\\n",
       "0          White          None     242.0     Dupatta Bazaar   \n",
       "1        Mustard          None     750.0           Roadster   \n",
       "2          Peach          None     389.0             Inddus   \n",
       "3          Black          None       NaN               None   \n",
       "4          Black          None     482.0              Kotty   \n",
       "...          ...           ...       ...                ...   \n",
       "14265       Pink          None     880.0  The Chennai Silks   \n",
       "14266       Blue          None     471.0        Kinder Kids   \n",
       "14267      Green          None       NaN               None   \n",
       "14268        Red          None       NaN               None   \n",
       "14269  Navy Blue          None       NaN               None   \n",
       "\n",
       "                   brand  ratingCount  avg_rating  ... Top_Pattern  \\\n",
       "0         Dupatta Bazaar       1321.0    4.548827  ...        None   \n",
       "1               Roadster       5462.0    4.313255  ...        None   \n",
       "2                 Inddus        145.0    4.068966  ...        None   \n",
       "3              SASSAFRAS       9124.0    4.147523  ...        None   \n",
       "4                  Kotty      12260.0    4.078467  ...        None   \n",
       "...                  ...          ...         ...  ...         ...   \n",
       "14265  The Chennai Silks          NaN         NaN  ...        None   \n",
       "14266        Kinder Kids          NaN         NaN  ...     Printed   \n",
       "14267            KLOTTHE          NaN         NaN  ...        None   \n",
       "14268            InWeave          NaN         NaN  ...        None   \n",
       "14269           BoStreet          NaN         NaN  ...        None   \n",
       "\n",
       "      Bottom_Pattern Dupatta_Pattern Kurta_Pattern Sustainable Weave_Type  \\\n",
       "0               None            None          None        None       None   \n",
       "1               None            None          None        None       None   \n",
       "2       Woven Design    Woven Design  Woven Design        None       None   \n",
       "3               None            None          None     Regular      Woven   \n",
       "4               None            None          None        None       None   \n",
       "...              ...             ...           ...         ...        ...   \n",
       "14265           None            None          None     Regular       None   \n",
       "14266        Printed              NA          None     Regular       None   \n",
       "14267           None            None          None     Regular      Woven   \n",
       "14268           None            None          None     Regular       None   \n",
       "14269           None            None          None     Regular    Knitted   \n",
       "\n",
       "      Knit_or_Woven Weave_Pattern         Fabric Fabric_Purity  \n",
       "0              None          None           None          None  \n",
       "1              None          None         Cotton          None  \n",
       "2              None          None   Cotton Blend          None  \n",
       "3              None          None           None          None  \n",
       "4              None          None         Cotton          None  \n",
       "...             ...           ...            ...           ...  \n",
       "14265          None          None    Jute Cotton          None  \n",
       "14266          None          None         Cotton          None  \n",
       "14267          None          None     Polycotton          None  \n",
       "14268         Woven          None  Viscose Rayon          None  \n",
       "14269          None          None          Nylon          None  \n",
       "\n",
       "[14270 rows x 23 columns]"
      ]
     },
     "execution_count": 58,
     "metadata": {},
     "output_type": "execute_result"
    }
   ],
   "source": [
    "merged_dataset = ps.sqldf(\"select fashion_dataset.p_id, fashion_dataset.name, fashion_dataset.price, fashion_dataset.colour,fashion_dataset.Colour_Family, brand_details.*, fashion_dataset.brand, fashion_dataset.ratingCount, fashion_dataset.avg_rating, fashion_dataset.Occasion, fashion_dataset.Print_Pattern_Type, fashion_dataset.Pattern, fashion_dataset.Top_Pattern, fashion_dataset.Bottom_Pattern, fashion_dataset.Dupatta_Pattern, fashion_dataset.Kurta_Pattern, fashion_dataset.Sustainable, fashion_dataset.Weave_Type, fashion_dataset.Knit_or_Woven,fashion_dataset.Weave_Pattern, fashion_dataset.Fabric, fashion_dataset.Fabric_Purity from fashion_dataset left join brand_details on (fashion_dataset.brand = brand_details.brand_name)\")\n",
    "merged_dataset"
   ]
  },
  {
   "cell_type": "markdown",
   "id": "40c2042d",
   "metadata": {},
   "source": [
    "### Dropping unnecessary null values"
   ]
  },
  {
   "cell_type": "code",
   "execution_count": 59,
   "id": "66271e72",
   "metadata": {},
   "outputs": [
    {
     "data": {
      "text/plain": [
       "p_id                      1\n",
       "name                      2\n",
       "price                     2\n",
       "colour                    5\n",
       "Colour_Family         13807\n",
       "brand_id               6199\n",
       "brand_name             6199\n",
       "brand                     7\n",
       "ratingCount            7707\n",
       "avg_rating             7707\n",
       "Occasion               1101\n",
       "Print_Pattern_Type     4277\n",
       "Pattern                3807\n",
       "Top_Pattern           12112\n",
       "Bottom_Pattern        11477\n",
       "Dupatta_Pattern       12132\n",
       "Kurta_Pattern         13657\n",
       "Sustainable            1303\n",
       "Weave_Type             8923\n",
       "Knit_or_Woven         12353\n",
       "Weave_Pattern         13087\n",
       "Fabric                  143\n",
       "Fabric_Purity         13727\n",
       "dtype: int64"
      ]
     },
     "execution_count": 59,
     "metadata": {},
     "output_type": "execute_result"
    }
   ],
   "source": [
    "merged_dataset.isna().sum()"
   ]
  },
  {
   "cell_type": "code",
   "execution_count": 60,
   "id": "f4cd4811",
   "metadata": {},
   "outputs": [
    {
     "data": {
      "text/html": [
       "<div>\n",
       "<style scoped>\n",
       "    .dataframe tbody tr th:only-of-type {\n",
       "        vertical-align: middle;\n",
       "    }\n",
       "\n",
       "    .dataframe tbody tr th {\n",
       "        vertical-align: top;\n",
       "    }\n",
       "\n",
       "    .dataframe thead th {\n",
       "        text-align: right;\n",
       "    }\n",
       "</style>\n",
       "<table border=\"1\" class=\"dataframe\">\n",
       "  <thead>\n",
       "    <tr style=\"text-align: right;\">\n",
       "      <th></th>\n",
       "      <th>p_id</th>\n",
       "      <th>name</th>\n",
       "      <th>price</th>\n",
       "      <th>colour</th>\n",
       "      <th>Colour_Family</th>\n",
       "      <th>brand_id</th>\n",
       "      <th>brand_name</th>\n",
       "      <th>brand</th>\n",
       "      <th>ratingCount</th>\n",
       "      <th>avg_rating</th>\n",
       "      <th>...</th>\n",
       "      <th>Top_Pattern</th>\n",
       "      <th>Bottom_Pattern</th>\n",
       "      <th>Dupatta_Pattern</th>\n",
       "      <th>Kurta_Pattern</th>\n",
       "      <th>Sustainable</th>\n",
       "      <th>Weave_Type</th>\n",
       "      <th>Knit_or_Woven</th>\n",
       "      <th>Weave_Pattern</th>\n",
       "      <th>Fabric</th>\n",
       "      <th>Fabric_Purity</th>\n",
       "    </tr>\n",
       "  </thead>\n",
       "  <tbody>\n",
       "    <tr>\n",
       "      <th>0</th>\n",
       "      <td>None</td>\n",
       "      <td>None</td>\n",
       "      <td>None</td>\n",
       "      <td>None</td>\n",
       "      <td>None</td>\n",
       "      <td>None</td>\n",
       "      <td>None</td>\n",
       "      <td>None</td>\n",
       "      <td>None</td>\n",
       "      <td>None</td>\n",
       "      <td>...</td>\n",
       "      <td>None</td>\n",
       "      <td>None</td>\n",
       "      <td>None</td>\n",
       "      <td>None</td>\n",
       "      <td>None</td>\n",
       "      <td>None</td>\n",
       "      <td>None</td>\n",
       "      <td>None</td>\n",
       "      <td>None</td>\n",
       "      <td>None</td>\n",
       "    </tr>\n",
       "  </tbody>\n",
       "</table>\n",
       "<p>1 rows × 23 columns</p>\n",
       "</div>"
      ],
      "text/plain": [
       "   p_id  name price colour Colour_Family brand_id brand_name brand  \\\n",
       "0  None  None  None   None          None     None       None  None   \n",
       "\n",
       "  ratingCount avg_rating  ... Top_Pattern Bottom_Pattern Dupatta_Pattern  \\\n",
       "0        None       None  ...        None           None            None   \n",
       "\n",
       "  Kurta_Pattern Sustainable Weave_Type Knit_or_Woven Weave_Pattern Fabric  \\\n",
       "0          None        None       None          None          None   None   \n",
       "\n",
       "  Fabric_Purity  \n",
       "0          None  \n",
       "\n",
       "[1 rows x 23 columns]"
      ]
     },
     "execution_count": 60,
     "metadata": {},
     "output_type": "execute_result"
    }
   ],
   "source": [
    "sqldf(\"select * from merged_dataset where p_id is null\")"
   ]
  },
  {
   "cell_type": "code",
   "execution_count": 61,
   "id": "b4d32fc4",
   "metadata": {},
   "outputs": [
    {
     "data": {
      "text/plain": [
       "p_id                      0\n",
       "name                      1\n",
       "price                     1\n",
       "colour                    4\n",
       "Colour_Family         13806\n",
       "brand_id               6198\n",
       "brand_name             6198\n",
       "brand                     6\n",
       "ratingCount            7706\n",
       "avg_rating             7706\n",
       "Occasion               1100\n",
       "Print_Pattern_Type     4276\n",
       "Pattern                3806\n",
       "Top_Pattern           12111\n",
       "Bottom_Pattern        11476\n",
       "Dupatta_Pattern       12131\n",
       "Kurta_Pattern         13656\n",
       "Sustainable            1302\n",
       "Weave_Type             8922\n",
       "Knit_or_Woven         12352\n",
       "Weave_Pattern         13086\n",
       "Fabric                  142\n",
       "Fabric_Purity         13726\n",
       "dtype: int64"
      ]
     },
     "execution_count": 61,
     "metadata": {},
     "output_type": "execute_result"
    }
   ],
   "source": [
    "merged_dataset.dropna(subset = \"p_id\", inplace = True)\n",
    "merged_dataset.isna().sum()"
   ]
  },
  {
   "cell_type": "code",
   "execution_count": 62,
   "id": "82ba8b0f",
   "metadata": {},
   "outputs": [
    {
     "data": {
      "text/html": [
       "<div>\n",
       "<style scoped>\n",
       "    .dataframe tbody tr th:only-of-type {\n",
       "        vertical-align: middle;\n",
       "    }\n",
       "\n",
       "    .dataframe tbody tr th {\n",
       "        vertical-align: top;\n",
       "    }\n",
       "\n",
       "    .dataframe thead th {\n",
       "        text-align: right;\n",
       "    }\n",
       "</style>\n",
       "<table border=\"1\" class=\"dataframe\">\n",
       "  <thead>\n",
       "    <tr style=\"text-align: right;\">\n",
       "      <th></th>\n",
       "      <th>p_id</th>\n",
       "      <th>name</th>\n",
       "      <th>price</th>\n",
       "      <th>colour</th>\n",
       "      <th>Colour_Family</th>\n",
       "      <th>brand_id</th>\n",
       "      <th>brand_name</th>\n",
       "      <th>brand</th>\n",
       "      <th>ratingCount</th>\n",
       "      <th>avg_rating</th>\n",
       "      <th>...</th>\n",
       "      <th>Top_Pattern</th>\n",
       "      <th>Bottom_Pattern</th>\n",
       "      <th>Dupatta_Pattern</th>\n",
       "      <th>Kurta_Pattern</th>\n",
       "      <th>Sustainable</th>\n",
       "      <th>Weave_Type</th>\n",
       "      <th>Knit_or_Woven</th>\n",
       "      <th>Weave_Pattern</th>\n",
       "      <th>Fabric</th>\n",
       "      <th>Fabric_Purity</th>\n",
       "    </tr>\n",
       "  </thead>\n",
       "  <tbody>\n",
       "    <tr>\n",
       "      <th>0</th>\n",
       "      <td>19068208.0</td>\n",
       "      <td>None</td>\n",
       "      <td>None</td>\n",
       "      <td>None</td>\n",
       "      <td>None</td>\n",
       "      <td>None</td>\n",
       "      <td>None</td>\n",
       "      <td>None</td>\n",
       "      <td>None</td>\n",
       "      <td>None</td>\n",
       "      <td>...</td>\n",
       "      <td>None</td>\n",
       "      <td>None</td>\n",
       "      <td>None</td>\n",
       "      <td>None</td>\n",
       "      <td>None</td>\n",
       "      <td>None</td>\n",
       "      <td>None</td>\n",
       "      <td>None</td>\n",
       "      <td>None</td>\n",
       "      <td>None</td>\n",
       "    </tr>\n",
       "  </tbody>\n",
       "</table>\n",
       "<p>1 rows × 23 columns</p>\n",
       "</div>"
      ],
      "text/plain": [
       "         p_id  name price colour Colour_Family brand_id brand_name brand  \\\n",
       "0  19068208.0  None  None   None          None     None       None  None   \n",
       "\n",
       "  ratingCount avg_rating  ... Top_Pattern Bottom_Pattern Dupatta_Pattern  \\\n",
       "0        None       None  ...        None           None            None   \n",
       "\n",
       "  Kurta_Pattern Sustainable Weave_Type Knit_or_Woven Weave_Pattern Fabric  \\\n",
       "0          None        None       None          None          None   None   \n",
       "\n",
       "  Fabric_Purity  \n",
       "0          None  \n",
       "\n",
       "[1 rows x 23 columns]"
      ]
     },
     "execution_count": 62,
     "metadata": {},
     "output_type": "execute_result"
    }
   ],
   "source": [
    "sqldf(\"select * from merged_dataset where name is null\")"
   ]
  },
  {
   "cell_type": "code",
   "execution_count": 63,
   "id": "747bb813",
   "metadata": {
    "scrolled": true
   },
   "outputs": [
    {
     "data": {
      "text/plain": [
       "p_id                      0\n",
       "name                      0\n",
       "price                     0\n",
       "colour                    3\n",
       "Colour_Family         13805\n",
       "brand_id               6197\n",
       "brand_name             6197\n",
       "brand                     5\n",
       "ratingCount            7705\n",
       "avg_rating             7705\n",
       "Occasion               1099\n",
       "Print_Pattern_Type     4275\n",
       "Pattern                3805\n",
       "Top_Pattern           12110\n",
       "Bottom_Pattern        11475\n",
       "Dupatta_Pattern       12130\n",
       "Kurta_Pattern         13655\n",
       "Sustainable            1301\n",
       "Weave_Type             8921\n",
       "Knit_or_Woven         12351\n",
       "Weave_Pattern         13085\n",
       "Fabric                  141\n",
       "Fabric_Purity         13725\n",
       "dtype: int64"
      ]
     },
     "execution_count": 63,
     "metadata": {},
     "output_type": "execute_result"
    }
   ],
   "source": [
    "merged_dataset.dropna(subset = \"name\", inplace = True)\n",
    "merged_dataset.isna().sum()"
   ]
  },
  {
   "cell_type": "markdown",
   "id": "c1ce0a41",
   "metadata": {},
   "source": [
    ">Upon inspection, the rows where brand was null were duplicate rows, and were therefore dropped."
   ]
  },
  {
   "cell_type": "code",
   "execution_count": 64,
   "id": "09f4ace7",
   "metadata": {},
   "outputs": [
    {
     "data": {
      "text/plain": [
       "p_id                      0\n",
       "name                      0\n",
       "price                     0\n",
       "colour                    3\n",
       "Colour_Family         13800\n",
       "brand_id               6192\n",
       "brand_name             6192\n",
       "brand                     0\n",
       "ratingCount            7703\n",
       "avg_rating             7703\n",
       "Occasion               1099\n",
       "Print_Pattern_Type     4275\n",
       "Pattern                3805\n",
       "Top_Pattern           12105\n",
       "Bottom_Pattern        11470\n",
       "Dupatta_Pattern       12125\n",
       "Kurta_Pattern         13650\n",
       "Sustainable            1300\n",
       "Weave_Type             8917\n",
       "Knit_or_Woven         12350\n",
       "Weave_Pattern         13080\n",
       "Fabric                  141\n",
       "Fabric_Purity         13720\n",
       "dtype: int64"
      ]
     },
     "execution_count": 64,
     "metadata": {},
     "output_type": "execute_result"
    }
   ],
   "source": [
    "merged_dataset.dropna(subset = \"brand\", inplace = True)\n",
    "merged_dataset.isna().sum()"
   ]
  },
  {
   "cell_type": "markdown",
   "id": "1d8100a2",
   "metadata": {},
   "source": [
    ">Finding why there are null brand name and brand ID values"
   ]
  },
  {
   "cell_type": "code",
   "execution_count": 65,
   "id": "99adeca8",
   "metadata": {},
   "outputs": [
    {
     "data": {
      "text/html": [
       "<div>\n",
       "<style scoped>\n",
       "    .dataframe tbody tr th:only-of-type {\n",
       "        vertical-align: middle;\n",
       "    }\n",
       "\n",
       "    .dataframe tbody tr th {\n",
       "        vertical-align: top;\n",
       "    }\n",
       "\n",
       "    .dataframe thead th {\n",
       "        text-align: right;\n",
       "    }\n",
       "</style>\n",
       "<table border=\"1\" class=\"dataframe\">\n",
       "  <thead>\n",
       "    <tr style=\"text-align: right;\">\n",
       "      <th></th>\n",
       "      <th>brand</th>\n",
       "    </tr>\n",
       "  </thead>\n",
       "  <tbody>\n",
       "    <tr>\n",
       "      <th>0</th>\n",
       "      <td>SASSAFRAS</td>\n",
       "    </tr>\n",
       "    <tr>\n",
       "      <th>1</th>\n",
       "      <td>KASSUALLY</td>\n",
       "    </tr>\n",
       "    <tr>\n",
       "      <th>2</th>\n",
       "      <td>Saree mall</td>\n",
       "    </tr>\n",
       "    <tr>\n",
       "      <th>3</th>\n",
       "      <td>MONTREZ</td>\n",
       "    </tr>\n",
       "    <tr>\n",
       "      <th>4</th>\n",
       "      <td>DOLCE CRUDO</td>\n",
       "    </tr>\n",
       "    <tr>\n",
       "      <th>...</th>\n",
       "      <td>...</td>\n",
       "    </tr>\n",
       "    <tr>\n",
       "      <th>515</th>\n",
       "      <td>SARIYA</td>\n",
       "    </tr>\n",
       "    <tr>\n",
       "      <th>516</th>\n",
       "      <td>kasee</td>\n",
       "    </tr>\n",
       "    <tr>\n",
       "      <th>517</th>\n",
       "      <td>SHIVANGI clothing</td>\n",
       "    </tr>\n",
       "    <tr>\n",
       "      <th>518</th>\n",
       "      <td>ARTICALE</td>\n",
       "    </tr>\n",
       "    <tr>\n",
       "      <th>519</th>\n",
       "      <td>tantkatha</td>\n",
       "    </tr>\n",
       "  </tbody>\n",
       "</table>\n",
       "<p>520 rows × 1 columns</p>\n",
       "</div>"
      ],
      "text/plain": [
       "                 brand\n",
       "0            SASSAFRAS\n",
       "1            KASSUALLY\n",
       "2           Saree mall\n",
       "3              MONTREZ\n",
       "4          DOLCE CRUDO\n",
       "..                 ...\n",
       "515             SARIYA\n",
       "516              kasee\n",
       "517  SHIVANGI clothing\n",
       "518           ARTICALE\n",
       "519          tantkatha\n",
       "\n",
       "[520 rows x 1 columns]"
      ]
     },
     "execution_count": 65,
     "metadata": {},
     "output_type": "execute_result"
    }
   ],
   "source": [
    "sqldf(\"select distinct brand from merged_dataset where brand_id is null\")"
   ]
  },
  {
   "cell_type": "code",
   "execution_count": 66,
   "id": "37bd7135",
   "metadata": {},
   "outputs": [
    {
     "data": {
      "text/html": [
       "<div>\n",
       "<style scoped>\n",
       "    .dataframe tbody tr th:only-of-type {\n",
       "        vertical-align: middle;\n",
       "    }\n",
       "\n",
       "    .dataframe tbody tr th {\n",
       "        vertical-align: top;\n",
       "    }\n",
       "\n",
       "    .dataframe thead th {\n",
       "        text-align: right;\n",
       "    }\n",
       "</style>\n",
       "<table border=\"1\" class=\"dataframe\">\n",
       "  <thead>\n",
       "    <tr style=\"text-align: right;\">\n",
       "      <th></th>\n",
       "      <th>brand</th>\n",
       "      <th>brand_id</th>\n",
       "    </tr>\n",
       "  </thead>\n",
       "  <tbody>\n",
       "    <tr>\n",
       "      <th>0</th>\n",
       "      <td>SASSAFRAS</td>\n",
       "      <td>NaN</td>\n",
       "    </tr>\n",
       "    <tr>\n",
       "      <th>1</th>\n",
       "      <td>KASSUALLY</td>\n",
       "      <td>NaN</td>\n",
       "    </tr>\n",
       "    <tr>\n",
       "      <th>2</th>\n",
       "      <td>Saree mall</td>\n",
       "      <td>NaN</td>\n",
       "    </tr>\n",
       "    <tr>\n",
       "      <th>3</th>\n",
       "      <td>MONTREZ</td>\n",
       "      <td>NaN</td>\n",
       "    </tr>\n",
       "    <tr>\n",
       "      <th>4</th>\n",
       "      <td>DOLCE CRUDO</td>\n",
       "      <td>NaN</td>\n",
       "    </tr>\n",
       "    <tr>\n",
       "      <th>...</th>\n",
       "      <td>...</td>\n",
       "      <td>...</td>\n",
       "    </tr>\n",
       "    <tr>\n",
       "      <th>1015</th>\n",
       "      <td>Zigo</td>\n",
       "      <td>1011.0</td>\n",
       "    </tr>\n",
       "    <tr>\n",
       "      <th>1016</th>\n",
       "      <td>Zima Leto</td>\n",
       "      <td>1013.0</td>\n",
       "    </tr>\n",
       "    <tr>\n",
       "      <th>1017</th>\n",
       "      <td>Zink London</td>\n",
       "      <td>1014.0</td>\n",
       "    </tr>\n",
       "    <tr>\n",
       "      <th>1018</th>\n",
       "      <td>Ziva Fashion</td>\n",
       "      <td>1016.0</td>\n",
       "    </tr>\n",
       "    <tr>\n",
       "      <th>1019</th>\n",
       "      <td>Zivame</td>\n",
       "      <td>1017.0</td>\n",
       "    </tr>\n",
       "  </tbody>\n",
       "</table>\n",
       "<p>1020 rows × 2 columns</p>\n",
       "</div>"
      ],
      "text/plain": [
       "             brand  brand_id\n",
       "0        SASSAFRAS       NaN\n",
       "1        KASSUALLY       NaN\n",
       "2       Saree mall       NaN\n",
       "3          MONTREZ       NaN\n",
       "4      DOLCE CRUDO       NaN\n",
       "...            ...       ...\n",
       "1015          Zigo    1011.0\n",
       "1016     Zima Leto    1013.0\n",
       "1017   Zink London    1014.0\n",
       "1018  Ziva Fashion    1016.0\n",
       "1019        Zivame    1017.0\n",
       "\n",
       "[1020 rows x 2 columns]"
      ]
     },
     "execution_count": 66,
     "metadata": {},
     "output_type": "execute_result"
    }
   ],
   "source": [
    "sqldf(\"select distinct brand, brand_id from merged_dataset order by brand_id asc\")"
   ]
  },
  {
   "cell_type": "code",
   "execution_count": 67,
   "id": "d73e2b81",
   "metadata": {},
   "outputs": [
    {
     "data": {
      "text/html": [
       "<div>\n",
       "<style scoped>\n",
       "    .dataframe tbody tr th:only-of-type {\n",
       "        vertical-align: middle;\n",
       "    }\n",
       "\n",
       "    .dataframe tbody tr th {\n",
       "        vertical-align: top;\n",
       "    }\n",
       "\n",
       "    .dataframe thead th {\n",
       "        text-align: right;\n",
       "    }\n",
       "</style>\n",
       "<table border=\"1\" class=\"dataframe\">\n",
       "  <thead>\n",
       "    <tr style=\"text-align: right;\">\n",
       "      <th></th>\n",
       "      <th>brand_id</th>\n",
       "    </tr>\n",
       "  </thead>\n",
       "  <tbody>\n",
       "    <tr>\n",
       "      <th>0</th>\n",
       "      <td>NaN</td>\n",
       "    </tr>\n",
       "    <tr>\n",
       "      <th>1</th>\n",
       "      <td>1.0</td>\n",
       "    </tr>\n",
       "    <tr>\n",
       "      <th>2</th>\n",
       "      <td>2.0</td>\n",
       "    </tr>\n",
       "    <tr>\n",
       "      <th>3</th>\n",
       "      <td>3.0</td>\n",
       "    </tr>\n",
       "    <tr>\n",
       "      <th>4</th>\n",
       "      <td>7.0</td>\n",
       "    </tr>\n",
       "    <tr>\n",
       "      <th>...</th>\n",
       "      <td>...</td>\n",
       "    </tr>\n",
       "    <tr>\n",
       "      <th>496</th>\n",
       "      <td>1011.0</td>\n",
       "    </tr>\n",
       "    <tr>\n",
       "      <th>497</th>\n",
       "      <td>1013.0</td>\n",
       "    </tr>\n",
       "    <tr>\n",
       "      <th>498</th>\n",
       "      <td>1014.0</td>\n",
       "    </tr>\n",
       "    <tr>\n",
       "      <th>499</th>\n",
       "      <td>1016.0</td>\n",
       "    </tr>\n",
       "    <tr>\n",
       "      <th>500</th>\n",
       "      <td>1017.0</td>\n",
       "    </tr>\n",
       "  </tbody>\n",
       "</table>\n",
       "<p>501 rows × 1 columns</p>\n",
       "</div>"
      ],
      "text/plain": [
       "     brand_id\n",
       "0         NaN\n",
       "1         1.0\n",
       "2         2.0\n",
       "3         3.0\n",
       "4         7.0\n",
       "..        ...\n",
       "496    1011.0\n",
       "497    1013.0\n",
       "498    1014.0\n",
       "499    1016.0\n",
       "500    1017.0\n",
       "\n",
       "[501 rows x 1 columns]"
      ]
     },
     "execution_count": 67,
     "metadata": {},
     "output_type": "execute_result"
    }
   ],
   "source": [
    "sqldf(\"select distinct brand_id from merged_dataset order by brand_id asc\")"
   ]
  },
  {
   "cell_type": "code",
   "execution_count": 68,
   "id": "61d64823",
   "metadata": {},
   "outputs": [
    {
     "data": {
      "text/html": [
       "<div>\n",
       "<style scoped>\n",
       "    .dataframe tbody tr th:only-of-type {\n",
       "        vertical-align: middle;\n",
       "    }\n",
       "\n",
       "    .dataframe tbody tr th {\n",
       "        vertical-align: top;\n",
       "    }\n",
       "\n",
       "    .dataframe thead th {\n",
       "        text-align: right;\n",
       "    }\n",
       "</style>\n",
       "<table border=\"1\" class=\"dataframe\">\n",
       "  <thead>\n",
       "    <tr style=\"text-align: right;\">\n",
       "      <th></th>\n",
       "      <th>brand_id</th>\n",
       "    </tr>\n",
       "  </thead>\n",
       "  <tbody>\n",
       "  </tbody>\n",
       "</table>\n",
       "</div>"
      ],
      "text/plain": [
       "Empty DataFrame\n",
       "Columns: [brand_id]\n",
       "Index: []"
      ]
     },
     "execution_count": 68,
     "metadata": {},
     "output_type": "execute_result"
    }
   ],
   "source": [
    "sqldf(\"select brand_id from brand_details where brand_name = 'KASSUALLY'\")"
   ]
  },
  {
   "cell_type": "code",
   "execution_count": 69,
   "id": "84a9d6bb",
   "metadata": {},
   "outputs": [
    {
     "data": {
      "text/html": [
       "<div>\n",
       "<style scoped>\n",
       "    .dataframe tbody tr th:only-of-type {\n",
       "        vertical-align: middle;\n",
       "    }\n",
       "\n",
       "    .dataframe tbody tr th {\n",
       "        vertical-align: top;\n",
       "    }\n",
       "\n",
       "    .dataframe thead th {\n",
       "        text-align: right;\n",
       "    }\n",
       "</style>\n",
       "<table border=\"1\" class=\"dataframe\">\n",
       "  <thead>\n",
       "    <tr style=\"text-align: right;\">\n",
       "      <th></th>\n",
       "      <th>p_id</th>\n",
       "      <th>name</th>\n",
       "      <th>price</th>\n",
       "      <th>colour</th>\n",
       "      <th>Colour_Family</th>\n",
       "      <th>brand_id</th>\n",
       "      <th>brand_name</th>\n",
       "      <th>brand</th>\n",
       "      <th>ratingCount</th>\n",
       "      <th>avg_rating</th>\n",
       "      <th>...</th>\n",
       "      <th>Top_Pattern</th>\n",
       "      <th>Bottom_Pattern</th>\n",
       "      <th>Dupatta_Pattern</th>\n",
       "      <th>Kurta_Pattern</th>\n",
       "      <th>Sustainable</th>\n",
       "      <th>Weave_Type</th>\n",
       "      <th>Knit_or_Woven</th>\n",
       "      <th>Weave_Pattern</th>\n",
       "      <th>Fabric</th>\n",
       "      <th>Fabric_Purity</th>\n",
       "    </tr>\n",
       "  </thead>\n",
       "  <tbody>\n",
       "  </tbody>\n",
       "</table>\n",
       "<p>0 rows × 23 columns</p>\n",
       "</div>"
      ],
      "text/plain": [
       "Empty DataFrame\n",
       "Columns: [p_id, name, price, colour, Colour_Family, brand_id, brand_name, brand, ratingCount, avg_rating, Occasion, Print_Pattern_Type, Pattern, Top_Pattern, Bottom_Pattern, Dupatta_Pattern, Kurta_Pattern, Sustainable, Weave_Type, Knit_or_Woven, Weave_Pattern, Fabric, Fabric_Purity]\n",
       "Index: []\n",
       "\n",
       "[0 rows x 23 columns]"
      ]
     },
     "execution_count": 69,
     "metadata": {},
     "output_type": "execute_result"
    }
   ],
   "source": [
    "sqldf(\"select distinct * from merged_dataset where brand is null\")"
   ]
  },
  {
   "cell_type": "code",
   "execution_count": 70,
   "id": "c49bfc0e",
   "metadata": {},
   "outputs": [
    {
     "data": {
      "text/html": [
       "<div>\n",
       "<style scoped>\n",
       "    .dataframe tbody tr th:only-of-type {\n",
       "        vertical-align: middle;\n",
       "    }\n",
       "\n",
       "    .dataframe tbody tr th {\n",
       "        vertical-align: top;\n",
       "    }\n",
       "\n",
       "    .dataframe thead th {\n",
       "        text-align: right;\n",
       "    }\n",
       "</style>\n",
       "<table border=\"1\" class=\"dataframe\">\n",
       "  <thead>\n",
       "    <tr style=\"text-align: right;\">\n",
       "      <th></th>\n",
       "      <th>p_id</th>\n",
       "      <th>name</th>\n",
       "      <th>price</th>\n",
       "      <th>colour</th>\n",
       "      <th>Colour_Family</th>\n",
       "      <th>brand_id</th>\n",
       "      <th>brand_name</th>\n",
       "      <th>brand</th>\n",
       "      <th>ratingCount</th>\n",
       "      <th>avg_rating</th>\n",
       "      <th>...</th>\n",
       "      <th>Top_Pattern</th>\n",
       "      <th>Bottom_Pattern</th>\n",
       "      <th>Dupatta_Pattern</th>\n",
       "      <th>Kurta_Pattern</th>\n",
       "      <th>Sustainable</th>\n",
       "      <th>Weave_Type</th>\n",
       "      <th>Knit_or_Woven</th>\n",
       "      <th>Weave_Pattern</th>\n",
       "      <th>Fabric</th>\n",
       "      <th>Fabric_Purity</th>\n",
       "    </tr>\n",
       "  </thead>\n",
       "  <tbody>\n",
       "    <tr>\n",
       "      <th>0</th>\n",
       "      <td>10856380.0</td>\n",
       "      <td>SASSAFRAS Women Black Parallel Trousers</td>\n",
       "      <td>1499.0</td>\n",
       "      <td>Black</td>\n",
       "      <td>None</td>\n",
       "      <td>None</td>\n",
       "      <td>None</td>\n",
       "      <td>SASSAFRAS</td>\n",
       "      <td>9124.0</td>\n",
       "      <td>4.147523</td>\n",
       "      <td>...</td>\n",
       "      <td>None</td>\n",
       "      <td>None</td>\n",
       "      <td>None</td>\n",
       "      <td>None</td>\n",
       "      <td>Regular</td>\n",
       "      <td>Woven</td>\n",
       "      <td>None</td>\n",
       "      <td>None</td>\n",
       "      <td>None</td>\n",
       "      <td>None</td>\n",
       "    </tr>\n",
       "    <tr>\n",
       "      <th>1</th>\n",
       "      <td>12742100.0</td>\n",
       "      <td>KASSUALLY Women Black &amp; Pink Printed Basic Jum...</td>\n",
       "      <td>2199.0</td>\n",
       "      <td>Black</td>\n",
       "      <td>None</td>\n",
       "      <td>None</td>\n",
       "      <td>None</td>\n",
       "      <td>KASSUALLY</td>\n",
       "      <td>6297.0</td>\n",
       "      <td>4.349214</td>\n",
       "      <td>...</td>\n",
       "      <td>None</td>\n",
       "      <td>None</td>\n",
       "      <td>None</td>\n",
       "      <td>None</td>\n",
       "      <td>Regular</td>\n",
       "      <td>None</td>\n",
       "      <td>None</td>\n",
       "      <td>None</td>\n",
       "      <td>Polyester</td>\n",
       "      <td>None</td>\n",
       "    </tr>\n",
       "    <tr>\n",
       "      <th>2</th>\n",
       "      <td>13842966.0</td>\n",
       "      <td>Sassafras Brown &amp; Red Geometric Printed George...</td>\n",
       "      <td>1499.0</td>\n",
       "      <td>Brown</td>\n",
       "      <td>None</td>\n",
       "      <td>None</td>\n",
       "      <td>None</td>\n",
       "      <td>SASSAFRAS</td>\n",
       "      <td>7358.0</td>\n",
       "      <td>4.395352</td>\n",
       "      <td>...</td>\n",
       "      <td>None</td>\n",
       "      <td>None</td>\n",
       "      <td>None</td>\n",
       "      <td>None</td>\n",
       "      <td>Regular</td>\n",
       "      <td>Woven</td>\n",
       "      <td>None</td>\n",
       "      <td>None</td>\n",
       "      <td>Polyester</td>\n",
       "      <td>None</td>\n",
       "    </tr>\n",
       "    <tr>\n",
       "      <th>3</th>\n",
       "      <td>16595858.0</td>\n",
       "      <td>Saree Mall Floral Saree</td>\n",
       "      <td>3599.0</td>\n",
       "      <td>Pink</td>\n",
       "      <td>None</td>\n",
       "      <td>None</td>\n",
       "      <td>None</td>\n",
       "      <td>Saree mall</td>\n",
       "      <td>1005.0</td>\n",
       "      <td>3.980100</td>\n",
       "      <td>...</td>\n",
       "      <td>None</td>\n",
       "      <td>None</td>\n",
       "      <td>None</td>\n",
       "      <td>None</td>\n",
       "      <td>Regular</td>\n",
       "      <td>None</td>\n",
       "      <td>None</td>\n",
       "      <td>None</td>\n",
       "      <td>Organza</td>\n",
       "      <td>None</td>\n",
       "    </tr>\n",
       "    <tr>\n",
       "      <th>4</th>\n",
       "      <td>18601482.0</td>\n",
       "      <td>MONTREZ Women White Black Open Front Jacket</td>\n",
       "      <td>1999.0</td>\n",
       "      <td>White</td>\n",
       "      <td>None</td>\n",
       "      <td>None</td>\n",
       "      <td>None</td>\n",
       "      <td>MONTREZ</td>\n",
       "      <td>61.0</td>\n",
       "      <td>4.377049</td>\n",
       "      <td>...</td>\n",
       "      <td>None</td>\n",
       "      <td>None</td>\n",
       "      <td>None</td>\n",
       "      <td>None</td>\n",
       "      <td>Regular</td>\n",
       "      <td>Woven</td>\n",
       "      <td>None</td>\n",
       "      <td>None</td>\n",
       "      <td>Cotton</td>\n",
       "      <td>None</td>\n",
       "    </tr>\n",
       "    <tr>\n",
       "      <th>...</th>\n",
       "      <td>...</td>\n",
       "      <td>...</td>\n",
       "      <td>...</td>\n",
       "      <td>...</td>\n",
       "      <td>...</td>\n",
       "      <td>...</td>\n",
       "      <td>...</td>\n",
       "      <td>...</td>\n",
       "      <td>...</td>\n",
       "      <td>...</td>\n",
       "      <td>...</td>\n",
       "      <td>...</td>\n",
       "      <td>...</td>\n",
       "      <td>...</td>\n",
       "      <td>...</td>\n",
       "      <td>...</td>\n",
       "      <td>...</td>\n",
       "      <td>...</td>\n",
       "      <td>...</td>\n",
       "      <td>...</td>\n",
       "      <td>...</td>\n",
       "    </tr>\n",
       "    <tr>\n",
       "      <th>6187</th>\n",
       "      <td>18055840.0</td>\n",
       "      <td>tantkatha Black Front Closure Saree Blouse Wit...</td>\n",
       "      <td>1699.0</td>\n",
       "      <td>Black</td>\n",
       "      <td>None</td>\n",
       "      <td>None</td>\n",
       "      <td>None</td>\n",
       "      <td>tantkatha</td>\n",
       "      <td>NaN</td>\n",
       "      <td>NaN</td>\n",
       "      <td>...</td>\n",
       "      <td>None</td>\n",
       "      <td>None</td>\n",
       "      <td>None</td>\n",
       "      <td>None</td>\n",
       "      <td>Regular</td>\n",
       "      <td>None</td>\n",
       "      <td>None</td>\n",
       "      <td>None</td>\n",
       "      <td>Dupion</td>\n",
       "      <td>None</td>\n",
       "    </tr>\n",
       "    <tr>\n",
       "      <th>6188</th>\n",
       "      <td>19361072.0</td>\n",
       "      <td>BoStreet Women Green Solid Mom Fit Trousers</td>\n",
       "      <td>2599.0</td>\n",
       "      <td>Green</td>\n",
       "      <td>None</td>\n",
       "      <td>None</td>\n",
       "      <td>None</td>\n",
       "      <td>BoStreet</td>\n",
       "      <td>NaN</td>\n",
       "      <td>NaN</td>\n",
       "      <td>...</td>\n",
       "      <td>None</td>\n",
       "      <td>None</td>\n",
       "      <td>None</td>\n",
       "      <td>None</td>\n",
       "      <td>Regular</td>\n",
       "      <td>Knitted</td>\n",
       "      <td>None</td>\n",
       "      <td>None</td>\n",
       "      <td>Polyester</td>\n",
       "      <td>None</td>\n",
       "    </tr>\n",
       "    <tr>\n",
       "      <th>6189</th>\n",
       "      <td>18159266.0</td>\n",
       "      <td>KLOTTHE Women Green &amp; Black Floral Printed Pal...</td>\n",
       "      <td>1659.0</td>\n",
       "      <td>Green</td>\n",
       "      <td>None</td>\n",
       "      <td>None</td>\n",
       "      <td>None</td>\n",
       "      <td>KLOTTHE</td>\n",
       "      <td>NaN</td>\n",
       "      <td>NaN</td>\n",
       "      <td>...</td>\n",
       "      <td>None</td>\n",
       "      <td>None</td>\n",
       "      <td>None</td>\n",
       "      <td>None</td>\n",
       "      <td>Regular</td>\n",
       "      <td>Woven</td>\n",
       "      <td>None</td>\n",
       "      <td>None</td>\n",
       "      <td>Polycotton</td>\n",
       "      <td>None</td>\n",
       "    </tr>\n",
       "    <tr>\n",
       "      <th>6190</th>\n",
       "      <td>18921114.0</td>\n",
       "      <td>InWeave Women Red Printed A-Line Skirt</td>\n",
       "      <td>2399.0</td>\n",
       "      <td>Red</td>\n",
       "      <td>None</td>\n",
       "      <td>None</td>\n",
       "      <td>None</td>\n",
       "      <td>InWeave</td>\n",
       "      <td>NaN</td>\n",
       "      <td>NaN</td>\n",
       "      <td>...</td>\n",
       "      <td>None</td>\n",
       "      <td>None</td>\n",
       "      <td>None</td>\n",
       "      <td>None</td>\n",
       "      <td>Regular</td>\n",
       "      <td>None</td>\n",
       "      <td>Woven</td>\n",
       "      <td>None</td>\n",
       "      <td>Viscose Rayon</td>\n",
       "      <td>None</td>\n",
       "    </tr>\n",
       "    <tr>\n",
       "      <th>6191</th>\n",
       "      <td>19361058.0</td>\n",
       "      <td>BoStreet Women Navy Blue Tapered Fit Trousers</td>\n",
       "      <td>2599.0</td>\n",
       "      <td>Navy Blue</td>\n",
       "      <td>None</td>\n",
       "      <td>None</td>\n",
       "      <td>None</td>\n",
       "      <td>BoStreet</td>\n",
       "      <td>NaN</td>\n",
       "      <td>NaN</td>\n",
       "      <td>...</td>\n",
       "      <td>None</td>\n",
       "      <td>None</td>\n",
       "      <td>None</td>\n",
       "      <td>None</td>\n",
       "      <td>Regular</td>\n",
       "      <td>Knitted</td>\n",
       "      <td>None</td>\n",
       "      <td>None</td>\n",
       "      <td>Nylon</td>\n",
       "      <td>None</td>\n",
       "    </tr>\n",
       "  </tbody>\n",
       "</table>\n",
       "<p>6192 rows × 23 columns</p>\n",
       "</div>"
      ],
      "text/plain": [
       "            p_id                                               name   price  \\\n",
       "0     10856380.0            SASSAFRAS Women Black Parallel Trousers  1499.0   \n",
       "1     12742100.0  KASSUALLY Women Black & Pink Printed Basic Jum...  2199.0   \n",
       "2     13842966.0  Sassafras Brown & Red Geometric Printed George...  1499.0   \n",
       "3     16595858.0                            Saree Mall Floral Saree  3599.0   \n",
       "4     18601482.0        MONTREZ Women White Black Open Front Jacket  1999.0   \n",
       "...          ...                                                ...     ...   \n",
       "6187  18055840.0  tantkatha Black Front Closure Saree Blouse Wit...  1699.0   \n",
       "6188  19361072.0        BoStreet Women Green Solid Mom Fit Trousers  2599.0   \n",
       "6189  18159266.0  KLOTTHE Women Green & Black Floral Printed Pal...  1659.0   \n",
       "6190  18921114.0             InWeave Women Red Printed A-Line Skirt  2399.0   \n",
       "6191  19361058.0      BoStreet Women Navy Blue Tapered Fit Trousers  2599.0   \n",
       "\n",
       "         colour Colour_Family brand_id brand_name       brand  ratingCount  \\\n",
       "0         Black          None     None       None   SASSAFRAS       9124.0   \n",
       "1         Black          None     None       None   KASSUALLY       6297.0   \n",
       "2         Brown          None     None       None   SASSAFRAS       7358.0   \n",
       "3          Pink          None     None       None  Saree mall       1005.0   \n",
       "4         White          None     None       None     MONTREZ         61.0   \n",
       "...         ...           ...      ...        ...         ...          ...   \n",
       "6187      Black          None     None       None   tantkatha          NaN   \n",
       "6188      Green          None     None       None    BoStreet          NaN   \n",
       "6189      Green          None     None       None     KLOTTHE          NaN   \n",
       "6190        Red          None     None       None     InWeave          NaN   \n",
       "6191  Navy Blue          None     None       None    BoStreet          NaN   \n",
       "\n",
       "      avg_rating  ... Top_Pattern Bottom_Pattern Dupatta_Pattern  \\\n",
       "0       4.147523  ...        None           None            None   \n",
       "1       4.349214  ...        None           None            None   \n",
       "2       4.395352  ...        None           None            None   \n",
       "3       3.980100  ...        None           None            None   \n",
       "4       4.377049  ...        None           None            None   \n",
       "...          ...  ...         ...            ...             ...   \n",
       "6187         NaN  ...        None           None            None   \n",
       "6188         NaN  ...        None           None            None   \n",
       "6189         NaN  ...        None           None            None   \n",
       "6190         NaN  ...        None           None            None   \n",
       "6191         NaN  ...        None           None            None   \n",
       "\n",
       "     Kurta_Pattern Sustainable Weave_Type Knit_or_Woven Weave_Pattern  \\\n",
       "0             None     Regular      Woven          None          None   \n",
       "1             None     Regular       None          None          None   \n",
       "2             None     Regular      Woven          None          None   \n",
       "3             None     Regular       None          None          None   \n",
       "4             None     Regular      Woven          None          None   \n",
       "...            ...         ...        ...           ...           ...   \n",
       "6187          None     Regular       None          None          None   \n",
       "6188          None     Regular    Knitted          None          None   \n",
       "6189          None     Regular      Woven          None          None   \n",
       "6190          None     Regular       None         Woven          None   \n",
       "6191          None     Regular    Knitted          None          None   \n",
       "\n",
       "             Fabric Fabric_Purity  \n",
       "0              None          None  \n",
       "1         Polyester          None  \n",
       "2         Polyester          None  \n",
       "3           Organza          None  \n",
       "4            Cotton          None  \n",
       "...             ...           ...  \n",
       "6187         Dupion          None  \n",
       "6188      Polyester          None  \n",
       "6189     Polycotton          None  \n",
       "6190  Viscose Rayon          None  \n",
       "6191          Nylon          None  \n",
       "\n",
       "[6192 rows x 23 columns]"
      ]
     },
     "execution_count": 70,
     "metadata": {},
     "output_type": "execute_result"
    }
   ],
   "source": [
    "sqldf(\"select * from merged_dataset where brand_name is null\")"
   ]
  },
  {
   "cell_type": "code",
   "execution_count": 71,
   "id": "cf8a0812",
   "metadata": {},
   "outputs": [
    {
     "data": {
      "text/html": [
       "<div>\n",
       "<style scoped>\n",
       "    .dataframe tbody tr th:only-of-type {\n",
       "        vertical-align: middle;\n",
       "    }\n",
       "\n",
       "    .dataframe tbody tr th {\n",
       "        vertical-align: top;\n",
       "    }\n",
       "\n",
       "    .dataframe thead th {\n",
       "        text-align: right;\n",
       "    }\n",
       "</style>\n",
       "<table border=\"1\" class=\"dataframe\">\n",
       "  <thead>\n",
       "    <tr style=\"text-align: right;\">\n",
       "      <th></th>\n",
       "      <th>count(distinct brand_id)</th>\n",
       "    </tr>\n",
       "  </thead>\n",
       "  <tbody>\n",
       "    <tr>\n",
       "      <th>0</th>\n",
       "      <td>500</td>\n",
       "    </tr>\n",
       "  </tbody>\n",
       "</table>\n",
       "</div>"
      ],
      "text/plain": [
       "   count(distinct brand_id)\n",
       "0                       500"
      ]
     },
     "execution_count": 71,
     "metadata": {},
     "output_type": "execute_result"
    }
   ],
   "source": [
    "sqldf(\"select count(distinct brand_id) from merged_dataset\")"
   ]
  },
  {
   "cell_type": "code",
   "execution_count": 72,
   "id": "8f23bb0e",
   "metadata": {
    "scrolled": true
   },
   "outputs": [
    {
     "data": {
      "text/html": [
       "<div>\n",
       "<style scoped>\n",
       "    .dataframe tbody tr th:only-of-type {\n",
       "        vertical-align: middle;\n",
       "    }\n",
       "\n",
       "    .dataframe tbody tr th {\n",
       "        vertical-align: top;\n",
       "    }\n",
       "\n",
       "    .dataframe thead th {\n",
       "        text-align: right;\n",
       "    }\n",
       "</style>\n",
       "<table border=\"1\" class=\"dataframe\">\n",
       "  <thead>\n",
       "    <tr style=\"text-align: right;\">\n",
       "      <th></th>\n",
       "      <th>max(brand_id)</th>\n",
       "      <th>brand_name</th>\n",
       "    </tr>\n",
       "  </thead>\n",
       "  <tbody>\n",
       "    <tr>\n",
       "      <th>0</th>\n",
       "      <td>1020</td>\n",
       "      <td>Zola</td>\n",
       "    </tr>\n",
       "  </tbody>\n",
       "</table>\n",
       "</div>"
      ],
      "text/plain": [
       "   max(brand_id) brand_name\n",
       "0           1020       Zola"
      ]
     },
     "execution_count": 72,
     "metadata": {},
     "output_type": "execute_result"
    }
   ],
   "source": [
    "sqldf(\"select max(brand_id), brand_name from brand_details\")"
   ]
  },
  {
   "cell_type": "markdown",
   "id": "8e69b623",
   "metadata": {},
   "source": [
    "### Filling brand ID"
   ]
  },
  {
   "cell_type": "markdown",
   "id": "2107355b",
   "metadata": {},
   "source": [
    ">Getting rid of null values in brand and brand ID by assigning new IDs"
   ]
  },
  {
   "cell_type": "code",
   "execution_count": 73,
   "id": "a32d9f4d",
   "metadata": {},
   "outputs": [
    {
     "data": {
      "text/html": [
       "<div>\n",
       "<style scoped>\n",
       "    .dataframe tbody tr th:only-of-type {\n",
       "        vertical-align: middle;\n",
       "    }\n",
       "\n",
       "    .dataframe tbody tr th {\n",
       "        vertical-align: top;\n",
       "    }\n",
       "\n",
       "    .dataframe thead th {\n",
       "        text-align: right;\n",
       "    }\n",
       "</style>\n",
       "<table border=\"1\" class=\"dataframe\">\n",
       "  <thead>\n",
       "    <tr style=\"text-align: right;\">\n",
       "      <th></th>\n",
       "      <th>brand</th>\n",
       "      <th>brand_id</th>\n",
       "    </tr>\n",
       "  </thead>\n",
       "  <tbody>\n",
       "    <tr>\n",
       "      <th>0</th>\n",
       "      <td>109F</td>\n",
       "      <td>2.0</td>\n",
       "    </tr>\n",
       "    <tr>\n",
       "      <th>1</th>\n",
       "      <td>20Dresses</td>\n",
       "      <td>3.0</td>\n",
       "    </tr>\n",
       "    <tr>\n",
       "      <th>2</th>\n",
       "      <td>250 DESIGNS</td>\n",
       "      <td>NaN</td>\n",
       "    </tr>\n",
       "    <tr>\n",
       "      <th>3</th>\n",
       "      <td>3PIN</td>\n",
       "      <td>NaN</td>\n",
       "    </tr>\n",
       "    <tr>\n",
       "      <th>4</th>\n",
       "      <td>513</td>\n",
       "      <td>1.0</td>\n",
       "    </tr>\n",
       "    <tr>\n",
       "      <th>...</th>\n",
       "      <td>...</td>\n",
       "      <td>...</td>\n",
       "    </tr>\n",
       "    <tr>\n",
       "      <th>1015</th>\n",
       "      <td>trueBrowns</td>\n",
       "      <td>NaN</td>\n",
       "    </tr>\n",
       "    <tr>\n",
       "      <th>1016</th>\n",
       "      <td>urSense</td>\n",
       "      <td>NaN</td>\n",
       "    </tr>\n",
       "    <tr>\n",
       "      <th>1017</th>\n",
       "      <td>wild U</td>\n",
       "      <td>NaN</td>\n",
       "    </tr>\n",
       "    <tr>\n",
       "      <th>1018</th>\n",
       "      <td>zebu</td>\n",
       "      <td>NaN</td>\n",
       "    </tr>\n",
       "    <tr>\n",
       "      <th>1019</th>\n",
       "      <td>zink Z</td>\n",
       "      <td>NaN</td>\n",
       "    </tr>\n",
       "  </tbody>\n",
       "</table>\n",
       "<p>1020 rows × 2 columns</p>\n",
       "</div>"
      ],
      "text/plain": [
       "            brand  brand_id\n",
       "0            109F       2.0\n",
       "1       20Dresses       3.0\n",
       "2     250 DESIGNS       NaN\n",
       "3            3PIN       NaN\n",
       "4             513       1.0\n",
       "...           ...       ...\n",
       "1015   trueBrowns       NaN\n",
       "1016      urSense       NaN\n",
       "1017       wild U       NaN\n",
       "1018         zebu       NaN\n",
       "1019       zink Z       NaN\n",
       "\n",
       "[1020 rows x 2 columns]"
      ]
     },
     "execution_count": 73,
     "metadata": {},
     "output_type": "execute_result"
    }
   ],
   "source": [
    "new_id = sqldf(\"select distinct brand, brand_id from merged_dataset order by brand asc\")\n",
    "new_id"
   ]
  },
  {
   "cell_type": "code",
   "execution_count": 74,
   "id": "83abac95",
   "metadata": {
    "scrolled": false
   },
   "outputs": [
    {
     "data": {
      "text/html": [
       "<div>\n",
       "<style scoped>\n",
       "    .dataframe tbody tr th:only-of-type {\n",
       "        vertical-align: middle;\n",
       "    }\n",
       "\n",
       "    .dataframe tbody tr th {\n",
       "        vertical-align: top;\n",
       "    }\n",
       "\n",
       "    .dataframe thead th {\n",
       "        text-align: right;\n",
       "    }\n",
       "</style>\n",
       "<table border=\"1\" class=\"dataframe\">\n",
       "  <thead>\n",
       "    <tr style=\"text-align: right;\">\n",
       "      <th></th>\n",
       "      <th>brand</th>\n",
       "      <th>brandID</th>\n",
       "    </tr>\n",
       "  </thead>\n",
       "  <tbody>\n",
       "    <tr>\n",
       "      <th>0</th>\n",
       "      <td>109F</td>\n",
       "      <td>1</td>\n",
       "    </tr>\n",
       "    <tr>\n",
       "      <th>1</th>\n",
       "      <td>20Dresses</td>\n",
       "      <td>2</td>\n",
       "    </tr>\n",
       "    <tr>\n",
       "      <th>2</th>\n",
       "      <td>250 DESIGNS</td>\n",
       "      <td>3</td>\n",
       "    </tr>\n",
       "    <tr>\n",
       "      <th>3</th>\n",
       "      <td>3PIN</td>\n",
       "      <td>4</td>\n",
       "    </tr>\n",
       "    <tr>\n",
       "      <th>4</th>\n",
       "      <td>513</td>\n",
       "      <td>5</td>\n",
       "    </tr>\n",
       "    <tr>\n",
       "      <th>...</th>\n",
       "      <td>...</td>\n",
       "      <td>...</td>\n",
       "    </tr>\n",
       "    <tr>\n",
       "      <th>1015</th>\n",
       "      <td>trueBrowns</td>\n",
       "      <td>1016</td>\n",
       "    </tr>\n",
       "    <tr>\n",
       "      <th>1016</th>\n",
       "      <td>urSense</td>\n",
       "      <td>1017</td>\n",
       "    </tr>\n",
       "    <tr>\n",
       "      <th>1017</th>\n",
       "      <td>wild U</td>\n",
       "      <td>1018</td>\n",
       "    </tr>\n",
       "    <tr>\n",
       "      <th>1018</th>\n",
       "      <td>zebu</td>\n",
       "      <td>1019</td>\n",
       "    </tr>\n",
       "    <tr>\n",
       "      <th>1019</th>\n",
       "      <td>zink Z</td>\n",
       "      <td>1020</td>\n",
       "    </tr>\n",
       "  </tbody>\n",
       "</table>\n",
       "<p>1020 rows × 2 columns</p>\n",
       "</div>"
      ],
      "text/plain": [
       "            brand  brandID\n",
       "0            109F        1\n",
       "1       20Dresses        2\n",
       "2     250 DESIGNS        3\n",
       "3            3PIN        4\n",
       "4             513        5\n",
       "...           ...      ...\n",
       "1015   trueBrowns     1016\n",
       "1016      urSense     1017\n",
       "1017       wild U     1018\n",
       "1018         zebu     1019\n",
       "1019       zink Z     1020\n",
       "\n",
       "[1020 rows x 2 columns]"
      ]
     },
     "execution_count": 74,
     "metadata": {},
     "output_type": "execute_result"
    }
   ],
   "source": [
    "new_id.loc[:, 'brandID'] = range(1, 1021)\n",
    "new_id.drop('brand_id', axis = 'columns')"
   ]
  },
  {
   "cell_type": "code",
   "execution_count": 75,
   "id": "b8284896",
   "metadata": {
    "scrolled": true
   },
   "outputs": [
    {
     "data": {
      "text/plain": [
       "p_id                      0\n",
       "name                      0\n",
       "price                     0\n",
       "colour                    3\n",
       "Colour_Family         13800\n",
       "brand                     0\n",
       "ratingCount            7703\n",
       "avg_rating             7703\n",
       "Occasion               1099\n",
       "Print_Pattern_Type     4275\n",
       "Pattern                3805\n",
       "Top_Pattern           12105\n",
       "Bottom_Pattern        11470\n",
       "Dupatta_Pattern       12125\n",
       "Kurta_Pattern         13650\n",
       "Sustainable            1300\n",
       "Weave_Type             8917\n",
       "Knit_or_Woven         12350\n",
       "Weave_Pattern         13080\n",
       "Fabric                  141\n",
       "Fabric_Purity         13720\n",
       "brandID                   0\n",
       "dtype: int64"
      ]
     },
     "execution_count": 75,
     "metadata": {},
     "output_type": "execute_result"
    }
   ],
   "source": [
    "dataset_final = sqldf(\"select merged_dataset.*, new_id.brandID from merged_dataset left join new_id on (merged_dataset.brand = new_id.brand)\")\n",
    "dataset_final.drop(['brand_id','brand_name'], axis = 'columns', inplace = True)\n",
    "dataset_final.isna().sum()"
   ]
  },
  {
   "cell_type": "markdown",
   "id": "58f673f3",
   "metadata": {},
   "source": [
    "### Filling Print_Pattern_Type null values"
   ]
  },
  {
   "cell_type": "code",
   "execution_count": 76,
   "id": "63491973",
   "metadata": {
    "scrolled": true
   },
   "outputs": [
    {
     "data": {
      "text/plain": [
       "array(['Floral', 'Solid', 'Ethnic Motifs', None, 'Geometric', 'Graphic',\n",
       "       'Self Design', 'Checked', 'Typography', 'Washed', 'Kalamkari',\n",
       "       'Embellished', 'Humour and Comic', 'Animal', 'Paisley', 'Ribbed',\n",
       "       'Striped', 'Bandhani', 'Abstract', 'Camouflage', 'Tie and Dye',\n",
       "       'Woven Design', 'Colourblocked', 'Vertical Stripes', 'Polka Dots',\n",
       "       'Leheriya', 'Cable Knit', 'Brand Logo', 'Open Knit',\n",
       "       'Alphanumeric', 'Other', 'Conversational', 'NA', 'Chevron',\n",
       "       'Ombre', 'Horizontal Stripes', 'Textured', 'Superhero', 'Warli',\n",
       "       'Boucle', 'Batik', 'Quirky', 'Tribal', 'Ajrak', 'Embroidered',\n",
       "       'Sequinned Stripes', 'Botanical', 'Shimmer', 'Bagh', 'Houndstooth',\n",
       "       'Fair Isle', 'Dabu', 'Cartoon Characters', 'Argyle'], dtype=object)"
      ]
     },
     "execution_count": 76,
     "metadata": {},
     "output_type": "execute_result"
    }
   ],
   "source": [
    "pd.unique(dataset_final['Print_Pattern_Type'])"
   ]
  },
  {
   "cell_type": "code",
   "execution_count": 77,
   "id": "d69fcce3",
   "metadata": {
    "scrolled": true
   },
   "outputs": [
    {
     "data": {
      "text/html": [
       "<div>\n",
       "<style scoped>\n",
       "    .dataframe tbody tr th:only-of-type {\n",
       "        vertical-align: middle;\n",
       "    }\n",
       "\n",
       "    .dataframe tbody tr th {\n",
       "        vertical-align: top;\n",
       "    }\n",
       "\n",
       "    .dataframe thead th {\n",
       "        text-align: right;\n",
       "    }\n",
       "</style>\n",
       "<table border=\"1\" class=\"dataframe\">\n",
       "  <thead>\n",
       "    <tr style=\"text-align: right;\">\n",
       "      <th></th>\n",
       "      <th>Print_Pattern_Type</th>\n",
       "      <th>Pattern</th>\n",
       "      <th>Top_Pattern</th>\n",
       "      <th>Bottom_Pattern</th>\n",
       "    </tr>\n",
       "  </thead>\n",
       "  <tbody>\n",
       "    <tr>\n",
       "      <th>0</th>\n",
       "      <td>Floral</td>\n",
       "      <td>Embroidered</td>\n",
       "      <td>None</td>\n",
       "      <td>None</td>\n",
       "    </tr>\n",
       "    <tr>\n",
       "      <th>1</th>\n",
       "      <td>Solid</td>\n",
       "      <td>Solid</td>\n",
       "      <td>None</td>\n",
       "      <td>None</td>\n",
       "    </tr>\n",
       "    <tr>\n",
       "      <th>2</th>\n",
       "      <td>Ethnic Motifs</td>\n",
       "      <td>None</td>\n",
       "      <td>None</td>\n",
       "      <td>Woven Design</td>\n",
       "    </tr>\n",
       "    <tr>\n",
       "      <th>3</th>\n",
       "      <td>Solid</td>\n",
       "      <td>Solid</td>\n",
       "      <td>None</td>\n",
       "      <td>None</td>\n",
       "    </tr>\n",
       "    <tr>\n",
       "      <th>4</th>\n",
       "      <td>None</td>\n",
       "      <td>Printed</td>\n",
       "      <td>None</td>\n",
       "      <td>None</td>\n",
       "    </tr>\n",
       "    <tr>\n",
       "      <th>...</th>\n",
       "      <td>...</td>\n",
       "      <td>...</td>\n",
       "      <td>...</td>\n",
       "      <td>...</td>\n",
       "    </tr>\n",
       "    <tr>\n",
       "      <th>13246</th>\n",
       "      <td>Floral</td>\n",
       "      <td>Woven Design</td>\n",
       "      <td>None</td>\n",
       "      <td>None</td>\n",
       "    </tr>\n",
       "    <tr>\n",
       "      <th>13247</th>\n",
       "      <td>None</td>\n",
       "      <td>None</td>\n",
       "      <td>Printed</td>\n",
       "      <td>Printed</td>\n",
       "    </tr>\n",
       "    <tr>\n",
       "      <th>13248</th>\n",
       "      <td>Floral</td>\n",
       "      <td>Printed</td>\n",
       "      <td>None</td>\n",
       "      <td>None</td>\n",
       "    </tr>\n",
       "    <tr>\n",
       "      <th>13249</th>\n",
       "      <td>Floral</td>\n",
       "      <td>Printed</td>\n",
       "      <td>None</td>\n",
       "      <td>None</td>\n",
       "    </tr>\n",
       "    <tr>\n",
       "      <th>13250</th>\n",
       "      <td>Solid</td>\n",
       "      <td>Solid</td>\n",
       "      <td>None</td>\n",
       "      <td>None</td>\n",
       "    </tr>\n",
       "  </tbody>\n",
       "</table>\n",
       "<p>13251 rows × 4 columns</p>\n",
       "</div>"
      ],
      "text/plain": [
       "      Print_Pattern_Type       Pattern Top_Pattern Bottom_Pattern\n",
       "0                 Floral   Embroidered        None           None\n",
       "1                  Solid         Solid        None           None\n",
       "2          Ethnic Motifs          None        None   Woven Design\n",
       "3                  Solid         Solid        None           None\n",
       "4                   None       Printed        None           None\n",
       "...                  ...           ...         ...            ...\n",
       "13246             Floral  Woven Design        None           None\n",
       "13247               None          None     Printed        Printed\n",
       "13248             Floral       Printed        None           None\n",
       "13249             Floral       Printed        None           None\n",
       "13250              Solid         Solid        None           None\n",
       "\n",
       "[13251 rows x 4 columns]"
      ]
     },
     "execution_count": 77,
     "metadata": {},
     "output_type": "execute_result"
    }
   ],
   "source": [
    "sqldf(\"select Print_Pattern_Type, Pattern, Top_Pattern, Bottom_Pattern from dataset_final where Print_Pattern_Type is null and Top_Pattern is not null or Bottom_Pattern is not null or Pattern is not null\")"
   ]
  },
  {
   "cell_type": "code",
   "execution_count": 78,
   "id": "41d29f9d",
   "metadata": {},
   "outputs": [],
   "source": [
    "dataset_final['Print_Pattern_Type'] = dataset_final['Print_Pattern_Type'].combine_first(dataset_final['Pattern'])"
   ]
  },
  {
   "cell_type": "code",
   "execution_count": 79,
   "id": "9295f0d0",
   "metadata": {},
   "outputs": [],
   "source": [
    "dataset_final['Print_Pattern_Type'] = dataset_final['Print_Pattern_Type'].combine_first(dataset_final['Bottom_Pattern'])"
   ]
  },
  {
   "cell_type": "code",
   "execution_count": 80,
   "id": "3f975cd6",
   "metadata": {},
   "outputs": [],
   "source": [
    "dataset_final['Print_Pattern_Type'] = dataset_final['Print_Pattern_Type'].combine_first(dataset_final['Top_Pattern'])"
   ]
  },
  {
   "cell_type": "code",
   "execution_count": 81,
   "id": "5dc4cfd7",
   "metadata": {},
   "outputs": [],
   "source": [
    "dataset_final['Print_Pattern_Type'] = dataset_final['Print_Pattern_Type'].combine_first(dataset_final['Kurta_Pattern'])"
   ]
  },
  {
   "cell_type": "code",
   "execution_count": 82,
   "id": "11a8e4ad",
   "metadata": {},
   "outputs": [],
   "source": [
    "dataset_final['Print_Pattern_Type'] = dataset_final['Print_Pattern_Type'].combine_first(dataset_final['Dupatta_Pattern'])"
   ]
  },
  {
   "cell_type": "code",
   "execution_count": 83,
   "id": "c9b40028",
   "metadata": {},
   "outputs": [],
   "source": [
    "dataset_final.drop(['Pattern','Top_Pattern','Bottom_Pattern', 'Kurta_Pattern','Dupatta_Pattern'], axis = 'columns', inplace=True)"
   ]
  },
  {
   "cell_type": "code",
   "execution_count": 84,
   "id": "b1337c36",
   "metadata": {
    "scrolled": true
   },
   "outputs": [
    {
     "data": {
      "text/plain": [
       "p_id                      0\n",
       "name                      0\n",
       "price                     0\n",
       "colour                    3\n",
       "Colour_Family         13800\n",
       "brand                     0\n",
       "ratingCount            7703\n",
       "avg_rating             7703\n",
       "Occasion               1099\n",
       "Print_Pattern_Type     1000\n",
       "Sustainable            1300\n",
       "Weave_Type             8917\n",
       "Knit_or_Woven         12350\n",
       "Weave_Pattern         13080\n",
       "Fabric                  141\n",
       "Fabric_Purity         13720\n",
       "brandID                   0\n",
       "dtype: int64"
      ]
     },
     "execution_count": 84,
     "metadata": {},
     "output_type": "execute_result"
    }
   ],
   "source": [
    "dataset_final.isna().sum()"
   ]
  },
  {
   "cell_type": "markdown",
   "id": "183ac5b8",
   "metadata": {},
   "source": [
    "### Filling Knit_or_Woven"
   ]
  },
  {
   "cell_type": "code",
   "execution_count": 85,
   "id": "0cd99e1b",
   "metadata": {},
   "outputs": [],
   "source": [
    "#dataset_final['Weave_Type'] = dataset_final['Weave_Type'].combine_first(dataset_final['Weave_Pattern'])"
   ]
  },
  {
   "cell_type": "code",
   "execution_count": 86,
   "id": "ac7849ea",
   "metadata": {
    "scrolled": true
   },
   "outputs": [],
   "source": [
    "#dataset_final['Weave_Type'] = dataset_final['Weave_Type'].combine_first(dataset_final['Knit_or_Woven'])"
   ]
  },
  {
   "cell_type": "code",
   "execution_count": 87,
   "id": "498a24fc",
   "metadata": {},
   "outputs": [],
   "source": [
    "#dataset_final.isna().sum()"
   ]
  },
  {
   "cell_type": "code",
   "execution_count": 88,
   "id": "e597ba86",
   "metadata": {
    "scrolled": true
   },
   "outputs": [
    {
     "data": {
      "text/plain": [
       "array([None, 'Woven', 'Knitted', 'Knitted and Woven'], dtype=object)"
      ]
     },
     "execution_count": 88,
     "metadata": {},
     "output_type": "execute_result"
    }
   ],
   "source": [
    "pd.unique(dataset_final['Weave_Type'])"
   ]
  },
  {
   "cell_type": "code",
   "execution_count": 89,
   "id": "b1a36324",
   "metadata": {},
   "outputs": [
    {
     "data": {
      "text/html": [
       "<div>\n",
       "<style scoped>\n",
       "    .dataframe tbody tr th:only-of-type {\n",
       "        vertical-align: middle;\n",
       "    }\n",
       "\n",
       "    .dataframe tbody tr th {\n",
       "        vertical-align: top;\n",
       "    }\n",
       "\n",
       "    .dataframe thead th {\n",
       "        text-align: right;\n",
       "    }\n",
       "</style>\n",
       "<table border=\"1\" class=\"dataframe\">\n",
       "  <thead>\n",
       "    <tr style=\"text-align: right;\">\n",
       "      <th></th>\n",
       "      <th>Fabric</th>\n",
       "    </tr>\n",
       "  </thead>\n",
       "  <tbody>\n",
       "    <tr>\n",
       "      <th>0</th>\n",
       "      <td>Polyester</td>\n",
       "    </tr>\n",
       "    <tr>\n",
       "      <th>1</th>\n",
       "      <td>Cotton</td>\n",
       "    </tr>\n",
       "    <tr>\n",
       "      <th>2</th>\n",
       "      <td>Pure Cotton</td>\n",
       "    </tr>\n",
       "    <tr>\n",
       "      <th>3</th>\n",
       "      <td>Cotton Blend</td>\n",
       "    </tr>\n",
       "    <tr>\n",
       "      <th>4</th>\n",
       "      <td>None</td>\n",
       "    </tr>\n",
       "    <tr>\n",
       "      <th>5</th>\n",
       "      <td>Viscose Rayon</td>\n",
       "    </tr>\n",
       "    <tr>\n",
       "      <th>6</th>\n",
       "      <td>Fleece</td>\n",
       "    </tr>\n",
       "    <tr>\n",
       "      <th>7</th>\n",
       "      <td>Art Silk</td>\n",
       "    </tr>\n",
       "    <tr>\n",
       "      <th>8</th>\n",
       "      <td>Poly Georgette</td>\n",
       "    </tr>\n",
       "    <tr>\n",
       "      <th>9</th>\n",
       "      <td>Linen</td>\n",
       "    </tr>\n",
       "    <tr>\n",
       "      <th>10</th>\n",
       "      <td>Silk Blend</td>\n",
       "    </tr>\n",
       "    <tr>\n",
       "      <th>11</th>\n",
       "      <td>Nylon</td>\n",
       "    </tr>\n",
       "    <tr>\n",
       "      <th>12</th>\n",
       "      <td>Polycotton</td>\n",
       "    </tr>\n",
       "    <tr>\n",
       "      <th>13</th>\n",
       "      <td>Organic Cotton</td>\n",
       "    </tr>\n",
       "    <tr>\n",
       "      <th>14</th>\n",
       "      <td>Georgette</td>\n",
       "    </tr>\n",
       "    <tr>\n",
       "      <th>15</th>\n",
       "      <td>Satin</td>\n",
       "    </tr>\n",
       "    <tr>\n",
       "      <th>16</th>\n",
       "      <td>Silk</td>\n",
       "    </tr>\n",
       "    <tr>\n",
       "      <th>17</th>\n",
       "      <td>Chanderi Silk</td>\n",
       "    </tr>\n",
       "    <tr>\n",
       "      <th>18</th>\n",
       "      <td>Wool</td>\n",
       "    </tr>\n",
       "    <tr>\n",
       "      <th>19</th>\n",
       "      <td>Other</td>\n",
       "    </tr>\n",
       "    <tr>\n",
       "      <th>20</th>\n",
       "      <td>Suede</td>\n",
       "    </tr>\n",
       "    <tr>\n",
       "      <th>21</th>\n",
       "      <td>Modal</td>\n",
       "    </tr>\n",
       "    <tr>\n",
       "      <th>22</th>\n",
       "      <td>Acrylic</td>\n",
       "    </tr>\n",
       "    <tr>\n",
       "      <th>23</th>\n",
       "      <td>Liva</td>\n",
       "    </tr>\n",
       "    <tr>\n",
       "      <th>24</th>\n",
       "      <td>Velour</td>\n",
       "    </tr>\n",
       "    <tr>\n",
       "      <th>25</th>\n",
       "      <td>Corduroy</td>\n",
       "    </tr>\n",
       "  </tbody>\n",
       "</table>\n",
       "</div>"
      ],
      "text/plain": [
       "            Fabric\n",
       "0        Polyester\n",
       "1           Cotton\n",
       "2      Pure Cotton\n",
       "3     Cotton Blend\n",
       "4             None\n",
       "5    Viscose Rayon\n",
       "6           Fleece\n",
       "7         Art Silk\n",
       "8   Poly Georgette\n",
       "9            Linen\n",
       "10      Silk Blend\n",
       "11           Nylon\n",
       "12      Polycotton\n",
       "13  Organic Cotton\n",
       "14       Georgette\n",
       "15           Satin\n",
       "16            Silk\n",
       "17   Chanderi Silk\n",
       "18            Wool\n",
       "19           Other\n",
       "20           Suede\n",
       "21           Modal\n",
       "22         Acrylic\n",
       "23            Liva\n",
       "24          Velour\n",
       "25        Corduroy"
      ]
     },
     "execution_count": 89,
     "metadata": {},
     "output_type": "execute_result"
    }
   ],
   "source": [
    "fabrics_knit = sqldf(\"select distinct Fabric from dataset_final where Weave_Type = 'Knitted'\")\n",
    "fabrics_knit\n",
    "#fabrics_knit.dropna(inplace =True)"
   ]
  },
  {
   "cell_type": "code",
   "execution_count": 90,
   "id": "df23f2b9",
   "metadata": {},
   "outputs": [],
   "source": [
    "#fabrics_knit.loc[:, 'weave'] = 'Knitted'"
   ]
  },
  {
   "cell_type": "code",
   "execution_count": 91,
   "id": "f527d851",
   "metadata": {},
   "outputs": [
    {
     "data": {
      "text/html": [
       "<div>\n",
       "<style scoped>\n",
       "    .dataframe tbody tr th:only-of-type {\n",
       "        vertical-align: middle;\n",
       "    }\n",
       "\n",
       "    .dataframe tbody tr th {\n",
       "        vertical-align: top;\n",
       "    }\n",
       "\n",
       "    .dataframe thead th {\n",
       "        text-align: right;\n",
       "    }\n",
       "</style>\n",
       "<table border=\"1\" class=\"dataframe\">\n",
       "  <thead>\n",
       "    <tr style=\"text-align: right;\">\n",
       "      <th></th>\n",
       "      <th>Fabric</th>\n",
       "      <th>Weave_Type</th>\n",
       "      <th>Weave_Pattern</th>\n",
       "      <th>Print_Pattern_Type</th>\n",
       "      <th>Knit_or_Woven</th>\n",
       "      <th>brand</th>\n",
       "    </tr>\n",
       "  </thead>\n",
       "  <tbody>\n",
       "    <tr>\n",
       "      <th>0</th>\n",
       "      <td>Other</td>\n",
       "      <td>None</td>\n",
       "      <td>None</td>\n",
       "      <td>Floral</td>\n",
       "      <td>None</td>\n",
       "      <td>Sangria</td>\n",
       "    </tr>\n",
       "    <tr>\n",
       "      <th>1</th>\n",
       "      <td>Other</td>\n",
       "      <td>Woven</td>\n",
       "      <td>None</td>\n",
       "      <td>Solid</td>\n",
       "      <td>None</td>\n",
       "      <td>La Aimee</td>\n",
       "    </tr>\n",
       "    <tr>\n",
       "      <th>2</th>\n",
       "      <td>Other</td>\n",
       "      <td>Woven</td>\n",
       "      <td>None</td>\n",
       "      <td>Solid</td>\n",
       "      <td>None</td>\n",
       "      <td>La Aimee</td>\n",
       "    </tr>\n",
       "    <tr>\n",
       "      <th>3</th>\n",
       "      <td>Other</td>\n",
       "      <td>None</td>\n",
       "      <td>None</td>\n",
       "      <td>Solid</td>\n",
       "      <td>None</td>\n",
       "      <td>Swtantra</td>\n",
       "    </tr>\n",
       "    <tr>\n",
       "      <th>4</th>\n",
       "      <td>Other</td>\n",
       "      <td>None</td>\n",
       "      <td>None</td>\n",
       "      <td>Embroidered</td>\n",
       "      <td>None</td>\n",
       "      <td>SALWAR STUDIO</td>\n",
       "    </tr>\n",
       "    <tr>\n",
       "      <th>5</th>\n",
       "      <td>Other</td>\n",
       "      <td>None</td>\n",
       "      <td>None</td>\n",
       "      <td>Solid</td>\n",
       "      <td>None</td>\n",
       "      <td>Triyah</td>\n",
       "    </tr>\n",
       "    <tr>\n",
       "      <th>6</th>\n",
       "      <td>Other</td>\n",
       "      <td>None</td>\n",
       "      <td>None</td>\n",
       "      <td>Solid</td>\n",
       "      <td>None</td>\n",
       "      <td>Swtantra</td>\n",
       "    </tr>\n",
       "    <tr>\n",
       "      <th>7</th>\n",
       "      <td>Other</td>\n",
       "      <td>None</td>\n",
       "      <td>None</td>\n",
       "      <td>Printed</td>\n",
       "      <td>None</td>\n",
       "      <td>Triyah</td>\n",
       "    </tr>\n",
       "    <tr>\n",
       "      <th>8</th>\n",
       "      <td>Other</td>\n",
       "      <td>None</td>\n",
       "      <td>None</td>\n",
       "      <td>Solid</td>\n",
       "      <td>None</td>\n",
       "      <td>Swtantra</td>\n",
       "    </tr>\n",
       "    <tr>\n",
       "      <th>9</th>\n",
       "      <td>Other</td>\n",
       "      <td>None</td>\n",
       "      <td>None</td>\n",
       "      <td>Printed</td>\n",
       "      <td>None</td>\n",
       "      <td>Saaki</td>\n",
       "    </tr>\n",
       "    <tr>\n",
       "      <th>10</th>\n",
       "      <td>Other</td>\n",
       "      <td>None</td>\n",
       "      <td>None</td>\n",
       "      <td>Embellished</td>\n",
       "      <td>None</td>\n",
       "      <td>Ira Soleil</td>\n",
       "    </tr>\n",
       "    <tr>\n",
       "      <th>11</th>\n",
       "      <td>Other</td>\n",
       "      <td>None</td>\n",
       "      <td>None</td>\n",
       "      <td>Embroidered</td>\n",
       "      <td>None</td>\n",
       "      <td>SALWAR STUDIO</td>\n",
       "    </tr>\n",
       "    <tr>\n",
       "      <th>12</th>\n",
       "      <td>Other</td>\n",
       "      <td>None</td>\n",
       "      <td>None</td>\n",
       "      <td>Printed</td>\n",
       "      <td>None</td>\n",
       "      <td>Desi Weavess</td>\n",
       "    </tr>\n",
       "    <tr>\n",
       "      <th>13</th>\n",
       "      <td>Other</td>\n",
       "      <td>Woven</td>\n",
       "      <td>None</td>\n",
       "      <td>Solid</td>\n",
       "      <td>None</td>\n",
       "      <td>RANGMANCH BY PANTALOONS</td>\n",
       "    </tr>\n",
       "    <tr>\n",
       "      <th>14</th>\n",
       "      <td>Other</td>\n",
       "      <td>None</td>\n",
       "      <td>None</td>\n",
       "      <td>Solid</td>\n",
       "      <td>None</td>\n",
       "      <td>Studio Shringaar</td>\n",
       "    </tr>\n",
       "    <tr>\n",
       "      <th>15</th>\n",
       "      <td>Other</td>\n",
       "      <td>None</td>\n",
       "      <td>None</td>\n",
       "      <td>Embroidered</td>\n",
       "      <td>None</td>\n",
       "      <td>SALWAR STUDIO</td>\n",
       "    </tr>\n",
       "    <tr>\n",
       "      <th>16</th>\n",
       "      <td>Other</td>\n",
       "      <td>None</td>\n",
       "      <td>None</td>\n",
       "      <td>Solid</td>\n",
       "      <td>None</td>\n",
       "      <td>Swtantra</td>\n",
       "    </tr>\n",
       "    <tr>\n",
       "      <th>17</th>\n",
       "      <td>Other</td>\n",
       "      <td>None</td>\n",
       "      <td>None</td>\n",
       "      <td>Embroidered</td>\n",
       "      <td>None</td>\n",
       "      <td>Soch</td>\n",
       "    </tr>\n",
       "    <tr>\n",
       "      <th>18</th>\n",
       "      <td>Other</td>\n",
       "      <td>Woven</td>\n",
       "      <td>None</td>\n",
       "      <td>Solid</td>\n",
       "      <td>None</td>\n",
       "      <td>Melange by Lifestyle</td>\n",
       "    </tr>\n",
       "    <tr>\n",
       "      <th>19</th>\n",
       "      <td>Other</td>\n",
       "      <td>None</td>\n",
       "      <td>None</td>\n",
       "      <td>Printed</td>\n",
       "      <td>None</td>\n",
       "      <td>Studio Shringaar</td>\n",
       "    </tr>\n",
       "    <tr>\n",
       "      <th>20</th>\n",
       "      <td>Other</td>\n",
       "      <td>Woven</td>\n",
       "      <td>None</td>\n",
       "      <td>Solid</td>\n",
       "      <td>None</td>\n",
       "      <td>La Aimee</td>\n",
       "    </tr>\n",
       "    <tr>\n",
       "      <th>21</th>\n",
       "      <td>Other</td>\n",
       "      <td>Woven</td>\n",
       "      <td>None</td>\n",
       "      <td>Solid</td>\n",
       "      <td>None</td>\n",
       "      <td>Kraus Jeans</td>\n",
       "    </tr>\n",
       "    <tr>\n",
       "      <th>22</th>\n",
       "      <td>Other</td>\n",
       "      <td>None</td>\n",
       "      <td>None</td>\n",
       "      <td>Embellished</td>\n",
       "      <td>None</td>\n",
       "      <td>LINARO LIFESTYLES</td>\n",
       "    </tr>\n",
       "    <tr>\n",
       "      <th>23</th>\n",
       "      <td>Other</td>\n",
       "      <td>None</td>\n",
       "      <td>None</td>\n",
       "      <td>Solid</td>\n",
       "      <td>None</td>\n",
       "      <td>SALWAR STUDIO</td>\n",
       "    </tr>\n",
       "    <tr>\n",
       "      <th>24</th>\n",
       "      <td>Other</td>\n",
       "      <td>Knitted</td>\n",
       "      <td>None</td>\n",
       "      <td>Striped</td>\n",
       "      <td>None</td>\n",
       "      <td>Lakshita</td>\n",
       "    </tr>\n",
       "    <tr>\n",
       "      <th>25</th>\n",
       "      <td>Other</td>\n",
       "      <td>None</td>\n",
       "      <td>None</td>\n",
       "      <td>Embellished</td>\n",
       "      <td>None</td>\n",
       "      <td>Swtantra</td>\n",
       "    </tr>\n",
       "    <tr>\n",
       "      <th>26</th>\n",
       "      <td>Other</td>\n",
       "      <td>None</td>\n",
       "      <td>None</td>\n",
       "      <td>Embroidered</td>\n",
       "      <td>None</td>\n",
       "      <td>flaher</td>\n",
       "    </tr>\n",
       "    <tr>\n",
       "      <th>27</th>\n",
       "      <td>Other</td>\n",
       "      <td>None</td>\n",
       "      <td>None</td>\n",
       "      <td>Solid</td>\n",
       "      <td>None</td>\n",
       "      <td>Swtantra</td>\n",
       "    </tr>\n",
       "    <tr>\n",
       "      <th>28</th>\n",
       "      <td>Other</td>\n",
       "      <td>None</td>\n",
       "      <td>None</td>\n",
       "      <td>Solid</td>\n",
       "      <td>None</td>\n",
       "      <td>Triyah</td>\n",
       "    </tr>\n",
       "    <tr>\n",
       "      <th>29</th>\n",
       "      <td>Other</td>\n",
       "      <td>Woven</td>\n",
       "      <td>None</td>\n",
       "      <td>Solid</td>\n",
       "      <td>None</td>\n",
       "      <td>20Dresses</td>\n",
       "    </tr>\n",
       "    <tr>\n",
       "      <th>30</th>\n",
       "      <td>Other</td>\n",
       "      <td>Woven</td>\n",
       "      <td>None</td>\n",
       "      <td>Solid</td>\n",
       "      <td>None</td>\n",
       "      <td>DeFacto</td>\n",
       "    </tr>\n",
       "    <tr>\n",
       "      <th>31</th>\n",
       "      <td>Other</td>\n",
       "      <td>None</td>\n",
       "      <td>None</td>\n",
       "      <td>Solid</td>\n",
       "      <td>None</td>\n",
       "      <td>flaher</td>\n",
       "    </tr>\n",
       "    <tr>\n",
       "      <th>32</th>\n",
       "      <td>Other</td>\n",
       "      <td>None</td>\n",
       "      <td>None</td>\n",
       "      <td>Embroidered</td>\n",
       "      <td>None</td>\n",
       "      <td>flaher</td>\n",
       "    </tr>\n",
       "    <tr>\n",
       "      <th>33</th>\n",
       "      <td>Other</td>\n",
       "      <td>None</td>\n",
       "      <td>None</td>\n",
       "      <td>Embroidered</td>\n",
       "      <td>None</td>\n",
       "      <td>SALWAR STUDIO</td>\n",
       "    </tr>\n",
       "    <tr>\n",
       "      <th>34</th>\n",
       "      <td>Other</td>\n",
       "      <td>Woven</td>\n",
       "      <td>None</td>\n",
       "      <td>Solid</td>\n",
       "      <td>None</td>\n",
       "      <td>Ancestry</td>\n",
       "    </tr>\n",
       "    <tr>\n",
       "      <th>35</th>\n",
       "      <td>Other</td>\n",
       "      <td>Woven</td>\n",
       "      <td>None</td>\n",
       "      <td>Solid</td>\n",
       "      <td>None</td>\n",
       "      <td>FOSH</td>\n",
       "    </tr>\n",
       "    <tr>\n",
       "      <th>36</th>\n",
       "      <td>Other</td>\n",
       "      <td>None</td>\n",
       "      <td>None</td>\n",
       "      <td>Solid</td>\n",
       "      <td>None</td>\n",
       "      <td>Swtantra</td>\n",
       "    </tr>\n",
       "    <tr>\n",
       "      <th>37</th>\n",
       "      <td>Other</td>\n",
       "      <td>Knitted</td>\n",
       "      <td>None</td>\n",
       "      <td>Solid</td>\n",
       "      <td>None</td>\n",
       "      <td>Athena</td>\n",
       "    </tr>\n",
       "    <tr>\n",
       "      <th>38</th>\n",
       "      <td>Other</td>\n",
       "      <td>Knitted</td>\n",
       "      <td>None</td>\n",
       "      <td>Solid</td>\n",
       "      <td>None</td>\n",
       "      <td>Kotty</td>\n",
       "    </tr>\n",
       "    <tr>\n",
       "      <th>39</th>\n",
       "      <td>Other</td>\n",
       "      <td>Woven</td>\n",
       "      <td>None</td>\n",
       "      <td>Solid</td>\n",
       "      <td>None</td>\n",
       "      <td>People</td>\n",
       "    </tr>\n",
       "    <tr>\n",
       "      <th>40</th>\n",
       "      <td>Other</td>\n",
       "      <td>None</td>\n",
       "      <td>None</td>\n",
       "      <td>Embellished</td>\n",
       "      <td>None</td>\n",
       "      <td>NDS Niharikaa Designer Studio</td>\n",
       "    </tr>\n",
       "    <tr>\n",
       "      <th>41</th>\n",
       "      <td>Other</td>\n",
       "      <td>Knitted</td>\n",
       "      <td>None</td>\n",
       "      <td>Solid</td>\n",
       "      <td>None</td>\n",
       "      <td>RVK</td>\n",
       "    </tr>\n",
       "    <tr>\n",
       "      <th>42</th>\n",
       "      <td>Other</td>\n",
       "      <td>None</td>\n",
       "      <td>None</td>\n",
       "      <td>Solid</td>\n",
       "      <td>None</td>\n",
       "      <td>Janasya</td>\n",
       "    </tr>\n",
       "    <tr>\n",
       "      <th>43</th>\n",
       "      <td>Other</td>\n",
       "      <td>Knitted</td>\n",
       "      <td>None</td>\n",
       "      <td>Solid</td>\n",
       "      <td>None</td>\n",
       "      <td>RVK</td>\n",
       "    </tr>\n",
       "    <tr>\n",
       "      <th>44</th>\n",
       "      <td>Other</td>\n",
       "      <td>Woven</td>\n",
       "      <td>None</td>\n",
       "      <td>Conversational</td>\n",
       "      <td>None</td>\n",
       "      <td>SHAYE</td>\n",
       "    </tr>\n",
       "    <tr>\n",
       "      <th>45</th>\n",
       "      <td>Other</td>\n",
       "      <td>None</td>\n",
       "      <td>None</td>\n",
       "      <td>Embellished</td>\n",
       "      <td>None</td>\n",
       "      <td>NDS Niharikaa Designer Studio</td>\n",
       "    </tr>\n",
       "    <tr>\n",
       "      <th>46</th>\n",
       "      <td>Other</td>\n",
       "      <td>Woven</td>\n",
       "      <td>None</td>\n",
       "      <td>Solid</td>\n",
       "      <td>None</td>\n",
       "      <td>GOLDSTROMS</td>\n",
       "    </tr>\n",
       "    <tr>\n",
       "      <th>47</th>\n",
       "      <td>Other</td>\n",
       "      <td>Woven</td>\n",
       "      <td>None</td>\n",
       "      <td>Solid</td>\n",
       "      <td>None</td>\n",
       "      <td>Kraus Jeans</td>\n",
       "    </tr>\n",
       "    <tr>\n",
       "      <th>48</th>\n",
       "      <td>Other</td>\n",
       "      <td>None</td>\n",
       "      <td>None</td>\n",
       "      <td>Embellished</td>\n",
       "      <td>None</td>\n",
       "      <td>SALWAR STUDIO</td>\n",
       "    </tr>\n",
       "    <tr>\n",
       "      <th>49</th>\n",
       "      <td>Other</td>\n",
       "      <td>None</td>\n",
       "      <td>None</td>\n",
       "      <td>Embroidered</td>\n",
       "      <td>None</td>\n",
       "      <td>SALWAR STUDIO</td>\n",
       "    </tr>\n",
       "  </tbody>\n",
       "</table>\n",
       "</div>"
      ],
      "text/plain": [
       "   Fabric Weave_Type Weave_Pattern Print_Pattern_Type Knit_or_Woven  \\\n",
       "0   Other       None          None             Floral          None   \n",
       "1   Other      Woven          None              Solid          None   \n",
       "2   Other      Woven          None              Solid          None   \n",
       "3   Other       None          None              Solid          None   \n",
       "4   Other       None          None        Embroidered          None   \n",
       "5   Other       None          None              Solid          None   \n",
       "6   Other       None          None              Solid          None   \n",
       "7   Other       None          None            Printed          None   \n",
       "8   Other       None          None              Solid          None   \n",
       "9   Other       None          None            Printed          None   \n",
       "10  Other       None          None        Embellished          None   \n",
       "11  Other       None          None        Embroidered          None   \n",
       "12  Other       None          None            Printed          None   \n",
       "13  Other      Woven          None              Solid          None   \n",
       "14  Other       None          None              Solid          None   \n",
       "15  Other       None          None        Embroidered          None   \n",
       "16  Other       None          None              Solid          None   \n",
       "17  Other       None          None        Embroidered          None   \n",
       "18  Other      Woven          None              Solid          None   \n",
       "19  Other       None          None            Printed          None   \n",
       "20  Other      Woven          None              Solid          None   \n",
       "21  Other      Woven          None              Solid          None   \n",
       "22  Other       None          None        Embellished          None   \n",
       "23  Other       None          None              Solid          None   \n",
       "24  Other    Knitted          None            Striped          None   \n",
       "25  Other       None          None        Embellished          None   \n",
       "26  Other       None          None        Embroidered          None   \n",
       "27  Other       None          None              Solid          None   \n",
       "28  Other       None          None              Solid          None   \n",
       "29  Other      Woven          None              Solid          None   \n",
       "30  Other      Woven          None              Solid          None   \n",
       "31  Other       None          None              Solid          None   \n",
       "32  Other       None          None        Embroidered          None   \n",
       "33  Other       None          None        Embroidered          None   \n",
       "34  Other      Woven          None              Solid          None   \n",
       "35  Other      Woven          None              Solid          None   \n",
       "36  Other       None          None              Solid          None   \n",
       "37  Other    Knitted          None              Solid          None   \n",
       "38  Other    Knitted          None              Solid          None   \n",
       "39  Other      Woven          None              Solid          None   \n",
       "40  Other       None          None        Embellished          None   \n",
       "41  Other    Knitted          None              Solid          None   \n",
       "42  Other       None          None              Solid          None   \n",
       "43  Other    Knitted          None              Solid          None   \n",
       "44  Other      Woven          None     Conversational          None   \n",
       "45  Other       None          None        Embellished          None   \n",
       "46  Other      Woven          None              Solid          None   \n",
       "47  Other      Woven          None              Solid          None   \n",
       "48  Other       None          None        Embellished          None   \n",
       "49  Other       None          None        Embroidered          None   \n",
       "\n",
       "                            brand  \n",
       "0                         Sangria  \n",
       "1                        La Aimee  \n",
       "2                        La Aimee  \n",
       "3                        Swtantra  \n",
       "4                   SALWAR STUDIO  \n",
       "5                          Triyah  \n",
       "6                        Swtantra  \n",
       "7                          Triyah  \n",
       "8                        Swtantra  \n",
       "9                           Saaki  \n",
       "10                     Ira Soleil  \n",
       "11                  SALWAR STUDIO  \n",
       "12                   Desi Weavess  \n",
       "13        RANGMANCH BY PANTALOONS  \n",
       "14               Studio Shringaar  \n",
       "15                  SALWAR STUDIO  \n",
       "16                       Swtantra  \n",
       "17                           Soch  \n",
       "18           Melange by Lifestyle  \n",
       "19               Studio Shringaar  \n",
       "20                       La Aimee  \n",
       "21                    Kraus Jeans  \n",
       "22              LINARO LIFESTYLES  \n",
       "23                  SALWAR STUDIO  \n",
       "24                       Lakshita  \n",
       "25                       Swtantra  \n",
       "26                         flaher  \n",
       "27                       Swtantra  \n",
       "28                         Triyah  \n",
       "29                      20Dresses  \n",
       "30                        DeFacto  \n",
       "31                         flaher  \n",
       "32                         flaher  \n",
       "33                  SALWAR STUDIO  \n",
       "34                       Ancestry  \n",
       "35                           FOSH  \n",
       "36                       Swtantra  \n",
       "37                         Athena  \n",
       "38                          Kotty  \n",
       "39                         People  \n",
       "40  NDS Niharikaa Designer Studio  \n",
       "41                            RVK  \n",
       "42                        Janasya  \n",
       "43                            RVK  \n",
       "44                          SHAYE  \n",
       "45  NDS Niharikaa Designer Studio  \n",
       "46                     GOLDSTROMS  \n",
       "47                    Kraus Jeans  \n",
       "48                  SALWAR STUDIO  \n",
       "49                  SALWAR STUDIO  "
      ]
     },
     "execution_count": 91,
     "metadata": {},
     "output_type": "execute_result"
    }
   ],
   "source": [
    "sqldf(\"select Fabric, Weave_Type, Weave_pattern, Print_Pattern_Type, Knit_or_Woven, brand from dataset_final where Fabric = 'Other'\")"
   ]
  },
  {
   "cell_type": "code",
   "execution_count": 92,
   "id": "04c9126e",
   "metadata": {},
   "outputs": [
    {
     "data": {
      "text/html": [
       "<div>\n",
       "<style scoped>\n",
       "    .dataframe tbody tr th:only-of-type {\n",
       "        vertical-align: middle;\n",
       "    }\n",
       "\n",
       "    .dataframe tbody tr th {\n",
       "        vertical-align: top;\n",
       "    }\n",
       "\n",
       "    .dataframe thead th {\n",
       "        text-align: right;\n",
       "    }\n",
       "</style>\n",
       "<table border=\"1\" class=\"dataframe\">\n",
       "  <thead>\n",
       "    <tr style=\"text-align: right;\">\n",
       "      <th></th>\n",
       "      <th>Fabric</th>\n",
       "    </tr>\n",
       "  </thead>\n",
       "  <tbody>\n",
       "    <tr>\n",
       "      <th>0</th>\n",
       "      <td>None</td>\n",
       "    </tr>\n",
       "    <tr>\n",
       "      <th>1</th>\n",
       "      <td>Polyester</td>\n",
       "    </tr>\n",
       "    <tr>\n",
       "      <th>2</th>\n",
       "      <td>Viscose Rayon</td>\n",
       "    </tr>\n",
       "    <tr>\n",
       "      <th>3</th>\n",
       "      <td>Cotton</td>\n",
       "    </tr>\n",
       "    <tr>\n",
       "      <th>4</th>\n",
       "      <td>Pure Cotton</td>\n",
       "    </tr>\n",
       "    <tr>\n",
       "      <th>5</th>\n",
       "      <td>Linen</td>\n",
       "    </tr>\n",
       "    <tr>\n",
       "      <th>6</th>\n",
       "      <td>Georgette</td>\n",
       "    </tr>\n",
       "    <tr>\n",
       "      <th>7</th>\n",
       "      <td>Poly Crepe</td>\n",
       "    </tr>\n",
       "    <tr>\n",
       "      <th>8</th>\n",
       "      <td>Modal</td>\n",
       "    </tr>\n",
       "    <tr>\n",
       "      <th>9</th>\n",
       "      <td>Poly Silk</td>\n",
       "    </tr>\n",
       "    <tr>\n",
       "      <th>10</th>\n",
       "      <td>Silk Blend</td>\n",
       "    </tr>\n",
       "    <tr>\n",
       "      <th>11</th>\n",
       "      <td>Cotton Blend</td>\n",
       "    </tr>\n",
       "    <tr>\n",
       "      <th>12</th>\n",
       "      <td>Nylon</td>\n",
       "    </tr>\n",
       "    <tr>\n",
       "      <th>13</th>\n",
       "      <td>Poly Georgette</td>\n",
       "    </tr>\n",
       "    <tr>\n",
       "      <th>14</th>\n",
       "      <td>Leather</td>\n",
       "    </tr>\n",
       "    <tr>\n",
       "      <th>15</th>\n",
       "      <td>Liva</td>\n",
       "    </tr>\n",
       "    <tr>\n",
       "      <th>16</th>\n",
       "      <td>Other</td>\n",
       "    </tr>\n",
       "    <tr>\n",
       "      <th>17</th>\n",
       "      <td>Polycotton</td>\n",
       "    </tr>\n",
       "    <tr>\n",
       "      <th>18</th>\n",
       "      <td>Corduroy</td>\n",
       "    </tr>\n",
       "    <tr>\n",
       "      <th>19</th>\n",
       "      <td>Net</td>\n",
       "    </tr>\n",
       "    <tr>\n",
       "      <th>20</th>\n",
       "      <td>Silk Chiffon</td>\n",
       "    </tr>\n",
       "    <tr>\n",
       "      <th>21</th>\n",
       "      <td>Cotton Silk</td>\n",
       "    </tr>\n",
       "    <tr>\n",
       "      <th>22</th>\n",
       "      <td>Velvet</td>\n",
       "    </tr>\n",
       "    <tr>\n",
       "      <th>23</th>\n",
       "      <td>Crepe</td>\n",
       "    </tr>\n",
       "    <tr>\n",
       "      <th>24</th>\n",
       "      <td>Poly Chanderi</td>\n",
       "    </tr>\n",
       "    <tr>\n",
       "      <th>25</th>\n",
       "      <td>Silk</td>\n",
       "    </tr>\n",
       "    <tr>\n",
       "      <th>26</th>\n",
       "      <td>Art Silk</td>\n",
       "    </tr>\n",
       "    <tr>\n",
       "      <th>27</th>\n",
       "      <td>Pure Silk</td>\n",
       "    </tr>\n",
       "    <tr>\n",
       "      <th>28</th>\n",
       "      <td>Denim</td>\n",
       "    </tr>\n",
       "    <tr>\n",
       "      <th>29</th>\n",
       "      <td>Chiffon</td>\n",
       "    </tr>\n",
       "    <tr>\n",
       "      <th>30</th>\n",
       "      <td>Chanderi Cotton</td>\n",
       "    </tr>\n",
       "    <tr>\n",
       "      <th>31</th>\n",
       "      <td>Wool</td>\n",
       "    </tr>\n",
       "    <tr>\n",
       "      <th>32</th>\n",
       "      <td>Faux Fur</td>\n",
       "    </tr>\n",
       "    <tr>\n",
       "      <th>33</th>\n",
       "      <td>Satin</td>\n",
       "    </tr>\n",
       "    <tr>\n",
       "      <th>34</th>\n",
       "      <td>Fleece</td>\n",
       "    </tr>\n",
       "    <tr>\n",
       "      <th>35</th>\n",
       "      <td>Pure Georgette</td>\n",
       "    </tr>\n",
       "    <tr>\n",
       "      <th>36</th>\n",
       "      <td>Chanderi Silk</td>\n",
       "    </tr>\n",
       "    <tr>\n",
       "      <th>37</th>\n",
       "      <td>Suede</td>\n",
       "    </tr>\n",
       "    <tr>\n",
       "      <th>38</th>\n",
       "      <td>Synthetic Leather</td>\n",
       "    </tr>\n",
       "    <tr>\n",
       "      <th>39</th>\n",
       "      <td>Silk Georgette</td>\n",
       "    </tr>\n",
       "    <tr>\n",
       "      <th>40</th>\n",
       "      <td>PU</td>\n",
       "    </tr>\n",
       "    <tr>\n",
       "      <th>41</th>\n",
       "      <td>Dupion Silk</td>\n",
       "    </tr>\n",
       "    <tr>\n",
       "      <th>42</th>\n",
       "      <td>Acrylic</td>\n",
       "    </tr>\n",
       "    <tr>\n",
       "      <th>43</th>\n",
       "      <td>Pure Crepe</td>\n",
       "    </tr>\n",
       "    <tr>\n",
       "      <th>44</th>\n",
       "      <td>Polyester PU Coated</td>\n",
       "    </tr>\n",
       "    <tr>\n",
       "      <th>45</th>\n",
       "      <td>Voile</td>\n",
       "    </tr>\n",
       "    <tr>\n",
       "      <th>46</th>\n",
       "      <td>Hemp</td>\n",
       "    </tr>\n",
       "    <tr>\n",
       "      <th>47</th>\n",
       "      <td>Jacquard</td>\n",
       "    </tr>\n",
       "    <tr>\n",
       "      <th>48</th>\n",
       "      <td>Poly Chiffon</td>\n",
       "    </tr>\n",
       "    <tr>\n",
       "      <th>49</th>\n",
       "      <td>Livaeco</td>\n",
       "    </tr>\n",
       "  </tbody>\n",
       "</table>\n",
       "</div>"
      ],
      "text/plain": [
       "                 Fabric\n",
       "0                  None\n",
       "1             Polyester\n",
       "2         Viscose Rayon\n",
       "3                Cotton\n",
       "4           Pure Cotton\n",
       "5                 Linen\n",
       "6             Georgette\n",
       "7            Poly Crepe\n",
       "8                 Modal\n",
       "9             Poly Silk\n",
       "10           Silk Blend\n",
       "11         Cotton Blend\n",
       "12                Nylon\n",
       "13       Poly Georgette\n",
       "14              Leather\n",
       "15                 Liva\n",
       "16                Other\n",
       "17           Polycotton\n",
       "18             Corduroy\n",
       "19                  Net\n",
       "20         Silk Chiffon\n",
       "21          Cotton Silk\n",
       "22               Velvet\n",
       "23                Crepe\n",
       "24        Poly Chanderi\n",
       "25                 Silk\n",
       "26             Art Silk\n",
       "27            Pure Silk\n",
       "28                Denim\n",
       "29              Chiffon\n",
       "30      Chanderi Cotton\n",
       "31                 Wool\n",
       "32             Faux Fur\n",
       "33                Satin\n",
       "34               Fleece\n",
       "35       Pure Georgette\n",
       "36        Chanderi Silk\n",
       "37                Suede\n",
       "38    Synthetic Leather\n",
       "39       Silk Georgette\n",
       "40                   PU\n",
       "41          Dupion Silk\n",
       "42              Acrylic\n",
       "43           Pure Crepe\n",
       "44  Polyester PU Coated\n",
       "45                Voile\n",
       "46                 Hemp\n",
       "47             Jacquard\n",
       "48         Poly Chiffon\n",
       "49              Livaeco"
      ]
     },
     "execution_count": 92,
     "metadata": {},
     "output_type": "execute_result"
    }
   ],
   "source": [
    "fabrics_weave = sqldf(\"select distinct Fabric from dataset_final where Weave_Type = 'Woven'\")\n",
    "fabrics_weave"
   ]
  },
  {
   "cell_type": "code",
   "execution_count": 93,
   "id": "267de1a4",
   "metadata": {},
   "outputs": [
    {
     "data": {
      "text/html": [
       "<div>\n",
       "<style scoped>\n",
       "    .dataframe tbody tr th:only-of-type {\n",
       "        vertical-align: middle;\n",
       "    }\n",
       "\n",
       "    .dataframe tbody tr th {\n",
       "        vertical-align: top;\n",
       "    }\n",
       "\n",
       "    .dataframe thead th {\n",
       "        text-align: right;\n",
       "    }\n",
       "</style>\n",
       "<table border=\"1\" class=\"dataframe\">\n",
       "  <thead>\n",
       "    <tr style=\"text-align: right;\">\n",
       "      <th></th>\n",
       "      <th>Fabric</th>\n",
       "    </tr>\n",
       "  </thead>\n",
       "  <tbody>\n",
       "    <tr>\n",
       "      <th>0</th>\n",
       "      <td>Polyester</td>\n",
       "    </tr>\n",
       "    <tr>\n",
       "      <th>1</th>\n",
       "      <td>Viscose Rayon</td>\n",
       "    </tr>\n",
       "    <tr>\n",
       "      <th>2</th>\n",
       "      <td>Cotton</td>\n",
       "    </tr>\n",
       "    <tr>\n",
       "      <th>3</th>\n",
       "      <td>Pure Cotton</td>\n",
       "    </tr>\n",
       "    <tr>\n",
       "      <th>4</th>\n",
       "      <td>Linen</td>\n",
       "    </tr>\n",
       "    <tr>\n",
       "      <th>5</th>\n",
       "      <td>Georgette</td>\n",
       "    </tr>\n",
       "    <tr>\n",
       "      <th>6</th>\n",
       "      <td>Modal</td>\n",
       "    </tr>\n",
       "    <tr>\n",
       "      <th>7</th>\n",
       "      <td>Silk Blend</td>\n",
       "    </tr>\n",
       "    <tr>\n",
       "      <th>8</th>\n",
       "      <td>Cotton Blend</td>\n",
       "    </tr>\n",
       "    <tr>\n",
       "      <th>9</th>\n",
       "      <td>Nylon</td>\n",
       "    </tr>\n",
       "    <tr>\n",
       "      <th>10</th>\n",
       "      <td>Poly Georgette</td>\n",
       "    </tr>\n",
       "    <tr>\n",
       "      <th>11</th>\n",
       "      <td>Liva</td>\n",
       "    </tr>\n",
       "    <tr>\n",
       "      <th>12</th>\n",
       "      <td>Other</td>\n",
       "    </tr>\n",
       "    <tr>\n",
       "      <th>13</th>\n",
       "      <td>Polycotton</td>\n",
       "    </tr>\n",
       "    <tr>\n",
       "      <th>14</th>\n",
       "      <td>Corduroy</td>\n",
       "    </tr>\n",
       "    <tr>\n",
       "      <th>15</th>\n",
       "      <td>Silk</td>\n",
       "    </tr>\n",
       "    <tr>\n",
       "      <th>16</th>\n",
       "      <td>Art Silk</td>\n",
       "    </tr>\n",
       "    <tr>\n",
       "      <th>17</th>\n",
       "      <td>Wool</td>\n",
       "    </tr>\n",
       "    <tr>\n",
       "      <th>18</th>\n",
       "      <td>Satin</td>\n",
       "    </tr>\n",
       "    <tr>\n",
       "      <th>19</th>\n",
       "      <td>Fleece</td>\n",
       "    </tr>\n",
       "    <tr>\n",
       "      <th>20</th>\n",
       "      <td>Chanderi Silk</td>\n",
       "    </tr>\n",
       "    <tr>\n",
       "      <th>21</th>\n",
       "      <td>Suede</td>\n",
       "    </tr>\n",
       "    <tr>\n",
       "      <th>22</th>\n",
       "      <td>Acrylic</td>\n",
       "    </tr>\n",
       "  </tbody>\n",
       "</table>\n",
       "</div>"
      ],
      "text/plain": [
       "            Fabric\n",
       "0        Polyester\n",
       "1    Viscose Rayon\n",
       "2           Cotton\n",
       "3      Pure Cotton\n",
       "4            Linen\n",
       "5        Georgette\n",
       "6            Modal\n",
       "7       Silk Blend\n",
       "8     Cotton Blend\n",
       "9            Nylon\n",
       "10  Poly Georgette\n",
       "11            Liva\n",
       "12           Other\n",
       "13      Polycotton\n",
       "14        Corduroy\n",
       "15            Silk\n",
       "16        Art Silk\n",
       "17            Wool\n",
       "18           Satin\n",
       "19          Fleece\n",
       "20   Chanderi Silk\n",
       "21           Suede\n",
       "22         Acrylic"
      ]
     },
     "execution_count": 93,
     "metadata": {},
     "output_type": "execute_result"
    }
   ],
   "source": [
    "sqldf(\"select * from fabrics_weave where Fabric in (select Fabric from fabrics_knit)\")"
   ]
  },
  {
   "cell_type": "code",
   "execution_count": null,
   "id": "6a05d232",
   "metadata": {},
   "outputs": [],
   "source": []
  },
  {
   "cell_type": "code",
   "execution_count": 94,
   "id": "f4b6d517",
   "metadata": {},
   "outputs": [],
   "source": [
    "#fabrics_weave.dropna(inplace = True)"
   ]
  },
  {
   "cell_type": "code",
   "execution_count": 95,
   "id": "d2470cf1",
   "metadata": {},
   "outputs": [],
   "source": [
    "#fabrics_weave.loc[:,'weave'] = 'Woven'"
   ]
  },
  {
   "cell_type": "code",
   "execution_count": 96,
   "id": "2a81b48c",
   "metadata": {},
   "outputs": [
    {
     "data": {
      "text/html": [
       "<div>\n",
       "<style scoped>\n",
       "    .dataframe tbody tr th:only-of-type {\n",
       "        vertical-align: middle;\n",
       "    }\n",
       "\n",
       "    .dataframe tbody tr th {\n",
       "        vertical-align: top;\n",
       "    }\n",
       "\n",
       "    .dataframe thead th {\n",
       "        text-align: right;\n",
       "    }\n",
       "</style>\n",
       "<table border=\"1\" class=\"dataframe\">\n",
       "  <thead>\n",
       "    <tr style=\"text-align: right;\">\n",
       "      <th></th>\n",
       "      <th>Fabric</th>\n",
       "    </tr>\n",
       "  </thead>\n",
       "  <tbody>\n",
       "    <tr>\n",
       "      <th>0</th>\n",
       "      <td>Pure Cotton</td>\n",
       "    </tr>\n",
       "    <tr>\n",
       "      <th>1</th>\n",
       "      <td>Viscose Rayon</td>\n",
       "    </tr>\n",
       "    <tr>\n",
       "      <th>2</th>\n",
       "      <td>Fleece</td>\n",
       "    </tr>\n",
       "    <tr>\n",
       "      <th>3</th>\n",
       "      <td>Art Silk</td>\n",
       "    </tr>\n",
       "    <tr>\n",
       "      <th>4</th>\n",
       "      <td>Cotton</td>\n",
       "    </tr>\n",
       "    <tr>\n",
       "      <th>5</th>\n",
       "      <td>Polyester</td>\n",
       "    </tr>\n",
       "    <tr>\n",
       "      <th>6</th>\n",
       "      <td>Cotton Blend</td>\n",
       "    </tr>\n",
       "    <tr>\n",
       "      <th>7</th>\n",
       "      <td>Chanderi Silk</td>\n",
       "    </tr>\n",
       "    <tr>\n",
       "      <th>8</th>\n",
       "      <td>Cotton Silk</td>\n",
       "    </tr>\n",
       "    <tr>\n",
       "      <th>9</th>\n",
       "      <td>Satin</td>\n",
       "    </tr>\n",
       "    <tr>\n",
       "      <th>10</th>\n",
       "      <td>Linen</td>\n",
       "    </tr>\n",
       "    <tr>\n",
       "      <th>11</th>\n",
       "      <td>Polycotton</td>\n",
       "    </tr>\n",
       "    <tr>\n",
       "      <th>12</th>\n",
       "      <td>Nylon</td>\n",
       "    </tr>\n",
       "    <tr>\n",
       "      <th>13</th>\n",
       "      <td>Liva</td>\n",
       "    </tr>\n",
       "    <tr>\n",
       "      <th>14</th>\n",
       "      <td>Pure Silk</td>\n",
       "    </tr>\n",
       "    <tr>\n",
       "      <th>15</th>\n",
       "      <td>Georgette</td>\n",
       "    </tr>\n",
       "    <tr>\n",
       "      <th>16</th>\n",
       "      <td>Poly Georgette</td>\n",
       "    </tr>\n",
       "    <tr>\n",
       "      <th>17</th>\n",
       "      <td>Poly Chiffon</td>\n",
       "    </tr>\n",
       "    <tr>\n",
       "      <th>18</th>\n",
       "      <td>Polyester PU Coated</td>\n",
       "    </tr>\n",
       "  </tbody>\n",
       "</table>\n",
       "</div>"
      ],
      "text/plain": [
       "                 Fabric\n",
       "0           Pure Cotton\n",
       "1         Viscose Rayon\n",
       "2                Fleece\n",
       "3              Art Silk\n",
       "4                Cotton\n",
       "5             Polyester\n",
       "6          Cotton Blend\n",
       "7         Chanderi Silk\n",
       "8           Cotton Silk\n",
       "9                 Satin\n",
       "10                Linen\n",
       "11           Polycotton\n",
       "12                Nylon\n",
       "13                 Liva\n",
       "14            Pure Silk\n",
       "15            Georgette\n",
       "16       Poly Georgette\n",
       "17         Poly Chiffon\n",
       "18  Polyester PU Coated"
      ]
     },
     "execution_count": 96,
     "metadata": {},
     "output_type": "execute_result"
    }
   ],
   "source": [
    "fabrics_both = sqldf(\"select distinct Fabric from dataset_final where Weave_Type = 'Knitted and Woven'\")\n",
    "fabrics_both\n",
    "#fabrics_both.dropna(inplace=True)"
   ]
  },
  {
   "cell_type": "code",
   "execution_count": 97,
   "id": "34ed03c3",
   "metadata": {},
   "outputs": [],
   "source": [
    "#fabrics_weave.loc[:,'weave'] = 'Knitted and Woven'"
   ]
  },
  {
   "cell_type": "code",
   "execution_count": 98,
   "id": "b5b44f9d",
   "metadata": {},
   "outputs": [],
   "source": [
    "#dataset_final = sqldf(\"select dataset_final.*, fabrics_knit.weave from dataset_final left join fabrics_knit on (fabrics_knit.Fabric=dataset_final.Fabric)\")\n",
    "#dataset_final.isna().sum()"
   ]
  },
  {
   "cell_type": "code",
   "execution_count": null,
   "id": "80be142a",
   "metadata": {},
   "outputs": [],
   "source": []
  },
  {
   "cell_type": "code",
   "execution_count": 99,
   "id": "9744d524",
   "metadata": {},
   "outputs": [],
   "source": [
    "#dataset_final.drop(['Weave_Pattern','Knit_or_Woven'], axis = 'columns', inplace=True)"
   ]
  },
  {
   "cell_type": "markdown",
   "id": "543a8224",
   "metadata": {},
   "source": [
    ">Filling in remaining null values"
   ]
  },
  {
   "cell_type": "code",
   "execution_count": 100,
   "id": "bb37cfae",
   "metadata": {
    "scrolled": false
   },
   "outputs": [
    {
     "data": {
      "text/html": [
       "<div>\n",
       "<style scoped>\n",
       "    .dataframe tbody tr th:only-of-type {\n",
       "        vertical-align: middle;\n",
       "    }\n",
       "\n",
       "    .dataframe tbody tr th {\n",
       "        vertical-align: top;\n",
       "    }\n",
       "\n",
       "    .dataframe thead th {\n",
       "        text-align: right;\n",
       "    }\n",
       "</style>\n",
       "<table border=\"1\" class=\"dataframe\">\n",
       "  <thead>\n",
       "    <tr style=\"text-align: right;\">\n",
       "      <th></th>\n",
       "      <th>p_id</th>\n",
       "      <th>name</th>\n",
       "      <th>price</th>\n",
       "      <th>colour</th>\n",
       "      <th>Colour_Family</th>\n",
       "      <th>brand</th>\n",
       "      <th>ratingCount</th>\n",
       "      <th>avg_rating</th>\n",
       "      <th>Occasion</th>\n",
       "      <th>Print_Pattern_Type</th>\n",
       "      <th>Sustainable</th>\n",
       "      <th>Weave_Type</th>\n",
       "      <th>Knit_or_Woven</th>\n",
       "      <th>Weave_Pattern</th>\n",
       "      <th>Fabric</th>\n",
       "      <th>Fabric_Purity</th>\n",
       "      <th>brandID</th>\n",
       "    </tr>\n",
       "  </thead>\n",
       "  <tbody>\n",
       "    <tr>\n",
       "      <th>0</th>\n",
       "      <td>19145038.0</td>\n",
       "      <td>Baisacrafts Women Pure Cotton Kurta with Trous...</td>\n",
       "      <td>5450.0</td>\n",
       "      <td>None</td>\n",
       "      <td>None</td>\n",
       "      <td>Baisacrafts</td>\n",
       "      <td>None</td>\n",
       "      <td>None</td>\n",
       "      <td>Festive</td>\n",
       "      <td>Geometric</td>\n",
       "      <td>Regular</td>\n",
       "      <td>Woven</td>\n",
       "      <td>None</td>\n",
       "      <td>Woven</td>\n",
       "      <td>Pure Cotton</td>\n",
       "      <td>None</td>\n",
       "      <td>109</td>\n",
       "    </tr>\n",
       "    <tr>\n",
       "      <th>1</th>\n",
       "      <td>19142060.0</td>\n",
       "      <td>LIVE OK Women Boyfriend Fit High-Rise Stretcha...</td>\n",
       "      <td>1999.0</td>\n",
       "      <td>None</td>\n",
       "      <td>None</td>\n",
       "      <td>LIVE OK</td>\n",
       "      <td>None</td>\n",
       "      <td>None</td>\n",
       "      <td>Casual</td>\n",
       "      <td>None</td>\n",
       "      <td>Regular</td>\n",
       "      <td>None</td>\n",
       "      <td>None</td>\n",
       "      <td>None</td>\n",
       "      <td>Cotton</td>\n",
       "      <td>None</td>\n",
       "      <td>463</td>\n",
       "    </tr>\n",
       "    <tr>\n",
       "      <th>2</th>\n",
       "      <td>16124786.0</td>\n",
       "      <td>MANGO Women Hooded Sweatshirt</td>\n",
       "      <td>2390.0</td>\n",
       "      <td>None</td>\n",
       "      <td>None</td>\n",
       "      <td>MANGO</td>\n",
       "      <td>None</td>\n",
       "      <td>None</td>\n",
       "      <td>Casual</td>\n",
       "      <td>Solid</td>\n",
       "      <td>Regular</td>\n",
       "      <td>Knitted</td>\n",
       "      <td>None</td>\n",
       "      <td>None</td>\n",
       "      <td>Polyester</td>\n",
       "      <td>None</td>\n",
       "      <td>498</td>\n",
       "    </tr>\n",
       "  </tbody>\n",
       "</table>\n",
       "</div>"
      ],
      "text/plain": [
       "         p_id                                               name   price  \\\n",
       "0  19145038.0  Baisacrafts Women Pure Cotton Kurta with Trous...  5450.0   \n",
       "1  19142060.0  LIVE OK Women Boyfriend Fit High-Rise Stretcha...  1999.0   \n",
       "2  16124786.0                      MANGO Women Hooded Sweatshirt  2390.0   \n",
       "\n",
       "  colour Colour_Family        brand ratingCount avg_rating Occasion  \\\n",
       "0   None          None  Baisacrafts        None       None  Festive   \n",
       "1   None          None      LIVE OK        None       None   Casual   \n",
       "2   None          None        MANGO        None       None   Casual   \n",
       "\n",
       "  Print_Pattern_Type Sustainable Weave_Type Knit_or_Woven Weave_Pattern  \\\n",
       "0          Geometric     Regular      Woven          None         Woven   \n",
       "1               None     Regular       None          None          None   \n",
       "2              Solid     Regular    Knitted          None          None   \n",
       "\n",
       "        Fabric Fabric_Purity  brandID  \n",
       "0  Pure Cotton          None      109  \n",
       "1       Cotton          None      463  \n",
       "2    Polyester          None      498  "
      ]
     },
     "execution_count": 100,
     "metadata": {},
     "output_type": "execute_result"
    }
   ],
   "source": [
    "sqldf(\"select * from dataset_final where colour is null\")"
   ]
  },
  {
   "cell_type": "code",
   "execution_count": 101,
   "id": "81e7882b",
   "metadata": {},
   "outputs": [],
   "source": [
    "avg_rating_mean = round(dataset_final[\"avg_rating\"].mean(),6)"
   ]
  },
  {
   "cell_type": "code",
   "execution_count": 102,
   "id": "af647eb7",
   "metadata": {},
   "outputs": [
    {
     "data": {
      "text/plain": [
       "23.0"
      ]
     },
     "execution_count": 102,
     "metadata": {},
     "output_type": "execute_result"
    }
   ],
   "source": [
    "dataset_final[\"ratingCount\"].median()"
   ]
  },
  {
   "cell_type": "code",
   "execution_count": 103,
   "id": "7909e665",
   "metadata": {},
   "outputs": [
    {
     "data": {
      "text/plain": [
       "0    5.0\n",
       "Name: ratingCount, dtype: float64"
      ]
     },
     "execution_count": 103,
     "metadata": {},
     "output_type": "execute_result"
    }
   ],
   "source": [
    "dataset_final[\"ratingCount\"].mode()"
   ]
  },
  {
   "cell_type": "code",
   "execution_count": 104,
   "id": "bef3a91d",
   "metadata": {},
   "outputs": [],
   "source": [
    "ratingCount_mean = dataset_final[\"ratingCount\"].mean()"
   ]
  },
  {
   "cell_type": "code",
   "execution_count": 105,
   "id": "8deb8278",
   "metadata": {},
   "outputs": [
    {
     "data": {
      "text/plain": [
       "p_id                      0\n",
       "name                      0\n",
       "price                     0\n",
       "colour                    0\n",
       "Colour_Family         13800\n",
       "brand                     0\n",
       "ratingCount               0\n",
       "avg_rating                0\n",
       "Occasion                  0\n",
       "Print_Pattern_Type        0\n",
       "Sustainable            1300\n",
       "Weave_Type             8917\n",
       "Knit_or_Woven         12350\n",
       "Weave_Pattern         13080\n",
       "Fabric                  141\n",
       "Fabric_Purity         13720\n",
       "brandID                   0\n",
       "dtype: int64"
      ]
     },
     "execution_count": 105,
     "metadata": {},
     "output_type": "execute_result"
    }
   ],
   "source": [
    "dataset_final.fillna({\"colour\":\"dataset_final.mode()\",\"avg_rating\":avg_rating_mean, \"ratingCount\":ratingCount_mean, \"Print_Pattern_Type\":\"dataset_final.mode()\", \"Occasion\":\"dataset_final.mode()\"}, inplace = True)\n",
    "dataset_final.isna().sum()"
   ]
  },
  {
   "cell_type": "code",
   "execution_count": 106,
   "id": "86086fe3",
   "metadata": {},
   "outputs": [
    {
     "name": "stdout",
     "output_type": "stream",
     "text": [
      "<class 'pandas.core.frame.DataFrame'>\n",
      "RangeIndex: 14263 entries, 0 to 14262\n",
      "Data columns (total 17 columns):\n",
      " #   Column              Non-Null Count  Dtype  \n",
      "---  ------              --------------  -----  \n",
      " 0   p_id                14263 non-null  float64\n",
      " 1   name                14263 non-null  object \n",
      " 2   price               14263 non-null  float64\n",
      " 3   colour              14263 non-null  object \n",
      " 4   Colour_Family       463 non-null    object \n",
      " 5   brand               14263 non-null  object \n",
      " 6   ratingCount         14263 non-null  float64\n",
      " 7   avg_rating          14263 non-null  float64\n",
      " 8   Occasion            14263 non-null  object \n",
      " 9   Print_Pattern_Type  14263 non-null  object \n",
      " 10  Sustainable         12963 non-null  object \n",
      " 11  Weave_Type          5346 non-null   object \n",
      " 12  Knit_or_Woven       1913 non-null   object \n",
      " 13  Weave_Pattern       1183 non-null   object \n",
      " 14  Fabric              14122 non-null  object \n",
      " 15  Fabric_Purity       543 non-null    object \n",
      " 16  brandID             14263 non-null  int64  \n",
      "dtypes: float64(4), int64(1), object(12)\n",
      "memory usage: 1.9+ MB\n"
     ]
    }
   ],
   "source": [
    "dataset_final.info()"
   ]
  },
  {
   "cell_type": "markdown",
   "id": "189ed41e",
   "metadata": {},
   "source": [
    ">Exporting data for analysis using Apache MapReduce"
   ]
  },
  {
   "cell_type": "code",
   "execution_count": 107,
   "id": "014e61dd",
   "metadata": {},
   "outputs": [],
   "source": [
    "dataset_final.to_csv(\"final_dataset.csv\", index = False)"
   ]
  },
  {
   "cell_type": "code",
   "execution_count": 108,
   "id": "8ee1cd94",
   "metadata": {},
   "outputs": [
    {
     "ename": "KeyError",
     "evalue": "\"['brand_id'] not in index\"",
     "output_type": "error",
     "traceback": [
      "\u001b[1;31m---------------------------------------------------------------------------\u001b[0m",
      "\u001b[1;31mKeyError\u001b[0m                                  Traceback (most recent call last)",
      "\u001b[1;32m~\\AppData\\Local\\Temp\\ipykernel_6860\\2404696323.py\u001b[0m in \u001b[0;36m<module>\u001b[1;34m\u001b[0m\n\u001b[1;32m----> 1\u001b[1;33m \u001b[0mnew_dataset\u001b[0m \u001b[1;33m=\u001b[0m \u001b[0mdataset_final\u001b[0m\u001b[1;33m.\u001b[0m\u001b[0mloc\u001b[0m\u001b[1;33m[\u001b[0m\u001b[1;33m:\u001b[0m\u001b[1;33m,\u001b[0m\u001b[1;33m[\u001b[0m\u001b[1;34m'p_id'\u001b[0m\u001b[1;33m,\u001b[0m \u001b[1;34m'name'\u001b[0m\u001b[1;33m,\u001b[0m\u001b[1;34m'price'\u001b[0m\u001b[1;33m,\u001b[0m\u001b[1;34m'colour'\u001b[0m\u001b[1;33m,\u001b[0m\u001b[1;34m'brand'\u001b[0m\u001b[1;33m,\u001b[0m\u001b[1;34m'ratingCount'\u001b[0m\u001b[1;33m,\u001b[0m\u001b[1;34m'avg_rating'\u001b[0m\u001b[1;33m,\u001b[0m\u001b[1;34m'brand_id'\u001b[0m\u001b[1;33m]\u001b[0m\u001b[1;33m]\u001b[0m\u001b[1;33m\u001b[0m\u001b[1;33m\u001b[0m\u001b[0m\n\u001b[0m\u001b[0;32m      2\u001b[0m \u001b[0mnew_dataset\u001b[0m\u001b[1;33m.\u001b[0m\u001b[0mto_csv\u001b[0m\u001b[1;33m(\u001b[0m\u001b[1;34m\"new_dataset.csv\"\u001b[0m\u001b[1;33m,\u001b[0m \u001b[0mindex\u001b[0m \u001b[1;33m=\u001b[0m \u001b[1;32mFalse\u001b[0m\u001b[1;33m,\u001b[0m \u001b[0mheader\u001b[0m \u001b[1;33m=\u001b[0m \u001b[1;32mFalse\u001b[0m\u001b[1;33m)\u001b[0m\u001b[1;33m\u001b[0m\u001b[1;33m\u001b[0m\u001b[0m\n",
      "\u001b[1;32m~\\anaconda3\\lib\\site-packages\\pandas\\core\\indexing.py\u001b[0m in \u001b[0;36m__getitem__\u001b[1;34m(self, key)\u001b[0m\n\u001b[0;32m    959\u001b[0m             \u001b[1;32mif\u001b[0m \u001b[0mself\u001b[0m\u001b[1;33m.\u001b[0m\u001b[0m_is_scalar_access\u001b[0m\u001b[1;33m(\u001b[0m\u001b[0mkey\u001b[0m\u001b[1;33m)\u001b[0m\u001b[1;33m:\u001b[0m\u001b[1;33m\u001b[0m\u001b[1;33m\u001b[0m\u001b[0m\n\u001b[0;32m    960\u001b[0m                 \u001b[1;32mreturn\u001b[0m \u001b[0mself\u001b[0m\u001b[1;33m.\u001b[0m\u001b[0mobj\u001b[0m\u001b[1;33m.\u001b[0m\u001b[0m_get_value\u001b[0m\u001b[1;33m(\u001b[0m\u001b[1;33m*\u001b[0m\u001b[0mkey\u001b[0m\u001b[1;33m,\u001b[0m \u001b[0mtakeable\u001b[0m\u001b[1;33m=\u001b[0m\u001b[0mself\u001b[0m\u001b[1;33m.\u001b[0m\u001b[0m_takeable\u001b[0m\u001b[1;33m)\u001b[0m\u001b[1;33m\u001b[0m\u001b[1;33m\u001b[0m\u001b[0m\n\u001b[1;32m--> 961\u001b[1;33m             \u001b[1;32mreturn\u001b[0m \u001b[0mself\u001b[0m\u001b[1;33m.\u001b[0m\u001b[0m_getitem_tuple\u001b[0m\u001b[1;33m(\u001b[0m\u001b[0mkey\u001b[0m\u001b[1;33m)\u001b[0m\u001b[1;33m\u001b[0m\u001b[1;33m\u001b[0m\u001b[0m\n\u001b[0m\u001b[0;32m    962\u001b[0m         \u001b[1;32melse\u001b[0m\u001b[1;33m:\u001b[0m\u001b[1;33m\u001b[0m\u001b[1;33m\u001b[0m\u001b[0m\n\u001b[0;32m    963\u001b[0m             \u001b[1;31m# we by definition only have the 0th axis\u001b[0m\u001b[1;33m\u001b[0m\u001b[1;33m\u001b[0m\u001b[0m\n",
      "\u001b[1;32m~\\anaconda3\\lib\\site-packages\\pandas\\core\\indexing.py\u001b[0m in \u001b[0;36m_getitem_tuple\u001b[1;34m(self, tup)\u001b[0m\n\u001b[0;32m   1147\u001b[0m             \u001b[1;32mreturn\u001b[0m \u001b[0mself\u001b[0m\u001b[1;33m.\u001b[0m\u001b[0m_multi_take\u001b[0m\u001b[1;33m(\u001b[0m\u001b[0mtup\u001b[0m\u001b[1;33m)\u001b[0m\u001b[1;33m\u001b[0m\u001b[1;33m\u001b[0m\u001b[0m\n\u001b[0;32m   1148\u001b[0m \u001b[1;33m\u001b[0m\u001b[0m\n\u001b[1;32m-> 1149\u001b[1;33m         \u001b[1;32mreturn\u001b[0m \u001b[0mself\u001b[0m\u001b[1;33m.\u001b[0m\u001b[0m_getitem_tuple_same_dim\u001b[0m\u001b[1;33m(\u001b[0m\u001b[0mtup\u001b[0m\u001b[1;33m)\u001b[0m\u001b[1;33m\u001b[0m\u001b[1;33m\u001b[0m\u001b[0m\n\u001b[0m\u001b[0;32m   1150\u001b[0m \u001b[1;33m\u001b[0m\u001b[0m\n\u001b[0;32m   1151\u001b[0m     \u001b[1;32mdef\u001b[0m \u001b[0m_get_label\u001b[0m\u001b[1;33m(\u001b[0m\u001b[0mself\u001b[0m\u001b[1;33m,\u001b[0m \u001b[0mlabel\u001b[0m\u001b[1;33m,\u001b[0m \u001b[0maxis\u001b[0m\u001b[1;33m:\u001b[0m \u001b[0mint\u001b[0m\u001b[1;33m)\u001b[0m\u001b[1;33m:\u001b[0m\u001b[1;33m\u001b[0m\u001b[1;33m\u001b[0m\u001b[0m\n",
      "\u001b[1;32m~\\anaconda3\\lib\\site-packages\\pandas\\core\\indexing.py\u001b[0m in \u001b[0;36m_getitem_tuple_same_dim\u001b[1;34m(self, tup)\u001b[0m\n\u001b[0;32m    825\u001b[0m                 \u001b[1;32mcontinue\u001b[0m\u001b[1;33m\u001b[0m\u001b[1;33m\u001b[0m\u001b[0m\n\u001b[0;32m    826\u001b[0m \u001b[1;33m\u001b[0m\u001b[0m\n\u001b[1;32m--> 827\u001b[1;33m             \u001b[0mretval\u001b[0m \u001b[1;33m=\u001b[0m \u001b[0mgetattr\u001b[0m\u001b[1;33m(\u001b[0m\u001b[0mretval\u001b[0m\u001b[1;33m,\u001b[0m \u001b[0mself\u001b[0m\u001b[1;33m.\u001b[0m\u001b[0mname\u001b[0m\u001b[1;33m)\u001b[0m\u001b[1;33m.\u001b[0m\u001b[0m_getitem_axis\u001b[0m\u001b[1;33m(\u001b[0m\u001b[0mkey\u001b[0m\u001b[1;33m,\u001b[0m \u001b[0maxis\u001b[0m\u001b[1;33m=\u001b[0m\u001b[0mi\u001b[0m\u001b[1;33m)\u001b[0m\u001b[1;33m\u001b[0m\u001b[1;33m\u001b[0m\u001b[0m\n\u001b[0m\u001b[0;32m    828\u001b[0m             \u001b[1;31m# We should never have retval.ndim < self.ndim, as that should\u001b[0m\u001b[1;33m\u001b[0m\u001b[1;33m\u001b[0m\u001b[0m\n\u001b[0;32m    829\u001b[0m             \u001b[1;31m#  be handled by the _getitem_lowerdim call above.\u001b[0m\u001b[1;33m\u001b[0m\u001b[1;33m\u001b[0m\u001b[0m\n",
      "\u001b[1;32m~\\anaconda3\\lib\\site-packages\\pandas\\core\\indexing.py\u001b[0m in \u001b[0;36m_getitem_axis\u001b[1;34m(self, key, axis)\u001b[0m\n\u001b[0;32m   1192\u001b[0m                     \u001b[1;32mraise\u001b[0m \u001b[0mValueError\u001b[0m\u001b[1;33m(\u001b[0m\u001b[1;34m\"Cannot index with multidimensional key\"\u001b[0m\u001b[1;33m)\u001b[0m\u001b[1;33m\u001b[0m\u001b[1;33m\u001b[0m\u001b[0m\n\u001b[0;32m   1193\u001b[0m \u001b[1;33m\u001b[0m\u001b[0m\n\u001b[1;32m-> 1194\u001b[1;33m                 \u001b[1;32mreturn\u001b[0m \u001b[0mself\u001b[0m\u001b[1;33m.\u001b[0m\u001b[0m_getitem_iterable\u001b[0m\u001b[1;33m(\u001b[0m\u001b[0mkey\u001b[0m\u001b[1;33m,\u001b[0m \u001b[0maxis\u001b[0m\u001b[1;33m=\u001b[0m\u001b[0maxis\u001b[0m\u001b[1;33m)\u001b[0m\u001b[1;33m\u001b[0m\u001b[1;33m\u001b[0m\u001b[0m\n\u001b[0m\u001b[0;32m   1195\u001b[0m \u001b[1;33m\u001b[0m\u001b[0m\n\u001b[0;32m   1196\u001b[0m             \u001b[1;31m# nested tuple slicing\u001b[0m\u001b[1;33m\u001b[0m\u001b[1;33m\u001b[0m\u001b[0m\n",
      "\u001b[1;32m~\\anaconda3\\lib\\site-packages\\pandas\\core\\indexing.py\u001b[0m in \u001b[0;36m_getitem_iterable\u001b[1;34m(self, key, axis)\u001b[0m\n\u001b[0;32m   1130\u001b[0m \u001b[1;33m\u001b[0m\u001b[0m\n\u001b[0;32m   1131\u001b[0m         \u001b[1;31m# A collection of keys\u001b[0m\u001b[1;33m\u001b[0m\u001b[1;33m\u001b[0m\u001b[0m\n\u001b[1;32m-> 1132\u001b[1;33m         \u001b[0mkeyarr\u001b[0m\u001b[1;33m,\u001b[0m \u001b[0mindexer\u001b[0m \u001b[1;33m=\u001b[0m \u001b[0mself\u001b[0m\u001b[1;33m.\u001b[0m\u001b[0m_get_listlike_indexer\u001b[0m\u001b[1;33m(\u001b[0m\u001b[0mkey\u001b[0m\u001b[1;33m,\u001b[0m \u001b[0maxis\u001b[0m\u001b[1;33m)\u001b[0m\u001b[1;33m\u001b[0m\u001b[1;33m\u001b[0m\u001b[0m\n\u001b[0m\u001b[0;32m   1133\u001b[0m         return self.obj._reindex_with_indexers(\n\u001b[0;32m   1134\u001b[0m             \u001b[1;33m{\u001b[0m\u001b[0maxis\u001b[0m\u001b[1;33m:\u001b[0m \u001b[1;33m[\u001b[0m\u001b[0mkeyarr\u001b[0m\u001b[1;33m,\u001b[0m \u001b[0mindexer\u001b[0m\u001b[1;33m]\u001b[0m\u001b[1;33m}\u001b[0m\u001b[1;33m,\u001b[0m \u001b[0mcopy\u001b[0m\u001b[1;33m=\u001b[0m\u001b[1;32mTrue\u001b[0m\u001b[1;33m,\u001b[0m \u001b[0mallow_dups\u001b[0m\u001b[1;33m=\u001b[0m\u001b[1;32mTrue\u001b[0m\u001b[1;33m\u001b[0m\u001b[1;33m\u001b[0m\u001b[0m\n",
      "\u001b[1;32m~\\anaconda3\\lib\\site-packages\\pandas\\core\\indexing.py\u001b[0m in \u001b[0;36m_get_listlike_indexer\u001b[1;34m(self, key, axis)\u001b[0m\n\u001b[0;32m   1328\u001b[0m         \u001b[0maxis_name\u001b[0m \u001b[1;33m=\u001b[0m \u001b[0mself\u001b[0m\u001b[1;33m.\u001b[0m\u001b[0mobj\u001b[0m\u001b[1;33m.\u001b[0m\u001b[0m_get_axis_name\u001b[0m\u001b[1;33m(\u001b[0m\u001b[0maxis\u001b[0m\u001b[1;33m)\u001b[0m\u001b[1;33m\u001b[0m\u001b[1;33m\u001b[0m\u001b[0m\n\u001b[0;32m   1329\u001b[0m \u001b[1;33m\u001b[0m\u001b[0m\n\u001b[1;32m-> 1330\u001b[1;33m         \u001b[0mkeyarr\u001b[0m\u001b[1;33m,\u001b[0m \u001b[0mindexer\u001b[0m \u001b[1;33m=\u001b[0m \u001b[0max\u001b[0m\u001b[1;33m.\u001b[0m\u001b[0m_get_indexer_strict\u001b[0m\u001b[1;33m(\u001b[0m\u001b[0mkey\u001b[0m\u001b[1;33m,\u001b[0m \u001b[0maxis_name\u001b[0m\u001b[1;33m)\u001b[0m\u001b[1;33m\u001b[0m\u001b[1;33m\u001b[0m\u001b[0m\n\u001b[0m\u001b[0;32m   1331\u001b[0m \u001b[1;33m\u001b[0m\u001b[0m\n\u001b[0;32m   1332\u001b[0m         \u001b[1;32mreturn\u001b[0m \u001b[0mkeyarr\u001b[0m\u001b[1;33m,\u001b[0m \u001b[0mindexer\u001b[0m\u001b[1;33m\u001b[0m\u001b[1;33m\u001b[0m\u001b[0m\n",
      "\u001b[1;32m~\\anaconda3\\lib\\site-packages\\pandas\\core\\indexes\\base.py\u001b[0m in \u001b[0;36m_get_indexer_strict\u001b[1;34m(self, key, axis_name)\u001b[0m\n\u001b[0;32m   5794\u001b[0m             \u001b[0mkeyarr\u001b[0m\u001b[1;33m,\u001b[0m \u001b[0mindexer\u001b[0m\u001b[1;33m,\u001b[0m \u001b[0mnew_indexer\u001b[0m \u001b[1;33m=\u001b[0m \u001b[0mself\u001b[0m\u001b[1;33m.\u001b[0m\u001b[0m_reindex_non_unique\u001b[0m\u001b[1;33m(\u001b[0m\u001b[0mkeyarr\u001b[0m\u001b[1;33m)\u001b[0m\u001b[1;33m\u001b[0m\u001b[1;33m\u001b[0m\u001b[0m\n\u001b[0;32m   5795\u001b[0m \u001b[1;33m\u001b[0m\u001b[0m\n\u001b[1;32m-> 5796\u001b[1;33m         \u001b[0mself\u001b[0m\u001b[1;33m.\u001b[0m\u001b[0m_raise_if_missing\u001b[0m\u001b[1;33m(\u001b[0m\u001b[0mkeyarr\u001b[0m\u001b[1;33m,\u001b[0m \u001b[0mindexer\u001b[0m\u001b[1;33m,\u001b[0m \u001b[0maxis_name\u001b[0m\u001b[1;33m)\u001b[0m\u001b[1;33m\u001b[0m\u001b[1;33m\u001b[0m\u001b[0m\n\u001b[0m\u001b[0;32m   5797\u001b[0m \u001b[1;33m\u001b[0m\u001b[0m\n\u001b[0;32m   5798\u001b[0m         \u001b[0mkeyarr\u001b[0m \u001b[1;33m=\u001b[0m \u001b[0mself\u001b[0m\u001b[1;33m.\u001b[0m\u001b[0mtake\u001b[0m\u001b[1;33m(\u001b[0m\u001b[0mindexer\u001b[0m\u001b[1;33m)\u001b[0m\u001b[1;33m\u001b[0m\u001b[1;33m\u001b[0m\u001b[0m\n",
      "\u001b[1;32m~\\anaconda3\\lib\\site-packages\\pandas\\core\\indexes\\base.py\u001b[0m in \u001b[0;36m_raise_if_missing\u001b[1;34m(self, key, indexer, axis_name)\u001b[0m\n\u001b[0;32m   5857\u001b[0m \u001b[1;33m\u001b[0m\u001b[0m\n\u001b[0;32m   5858\u001b[0m             \u001b[0mnot_found\u001b[0m \u001b[1;33m=\u001b[0m \u001b[0mlist\u001b[0m\u001b[1;33m(\u001b[0m\u001b[0mensure_index\u001b[0m\u001b[1;33m(\u001b[0m\u001b[0mkey\u001b[0m\u001b[1;33m)\u001b[0m\u001b[1;33m[\u001b[0m\u001b[0mmissing_mask\u001b[0m\u001b[1;33m.\u001b[0m\u001b[0mnonzero\u001b[0m\u001b[1;33m(\u001b[0m\u001b[1;33m)\u001b[0m\u001b[1;33m[\u001b[0m\u001b[1;36m0\u001b[0m\u001b[1;33m]\u001b[0m\u001b[1;33m]\u001b[0m\u001b[1;33m.\u001b[0m\u001b[0munique\u001b[0m\u001b[1;33m(\u001b[0m\u001b[1;33m)\u001b[0m\u001b[1;33m)\u001b[0m\u001b[1;33m\u001b[0m\u001b[1;33m\u001b[0m\u001b[0m\n\u001b[1;32m-> 5859\u001b[1;33m             \u001b[1;32mraise\u001b[0m \u001b[0mKeyError\u001b[0m\u001b[1;33m(\u001b[0m\u001b[1;34mf\"{not_found} not in index\"\u001b[0m\u001b[1;33m)\u001b[0m\u001b[1;33m\u001b[0m\u001b[1;33m\u001b[0m\u001b[0m\n\u001b[0m\u001b[0;32m   5860\u001b[0m \u001b[1;33m\u001b[0m\u001b[0m\n\u001b[0;32m   5861\u001b[0m     \u001b[1;33m@\u001b[0m\u001b[0moverload\u001b[0m\u001b[1;33m\u001b[0m\u001b[1;33m\u001b[0m\u001b[0m\n",
      "\u001b[1;31mKeyError\u001b[0m: \"['brand_id'] not in index\""
     ]
    }
   ],
   "source": [
    "new_dataset = dataset_final.loc[:,['p_id', 'name','price','colour','brand','ratingCount','avg_rating','brand_id']]\n",
    "new_dataset.to_csv(\"new_dataset.csv\", index = False, header = False)"
   ]
  },
  {
   "cell_type": "markdown",
   "id": "990bbec9",
   "metadata": {},
   "source": [
    " "
   ]
  },
  {
   "cell_type": "code",
   "execution_count": null,
   "id": "038d134b",
   "metadata": {
    "scrolled": true
   },
   "outputs": [],
   "source": [
    "dataset_final.info()"
   ]
  },
  {
   "cell_type": "code",
   "execution_count": null,
   "id": "714bb6c1",
   "metadata": {},
   "outputs": [],
   "source": []
  },
  {
   "cell_type": "markdown",
   "id": "ad5a41ab",
   "metadata": {},
   "source": [
    "# Machine Learning"
   ]
  },
  {
   "cell_type": "markdown",
   "id": "b3992fcd",
   "metadata": {},
   "source": [
    "## Regression Modelling"
   ]
  },
  {
   "cell_type": "markdown",
   "id": "01f96c22",
   "metadata": {},
   "source": [
    "## Pre-processing"
   ]
  },
  {
   "cell_type": "code",
   "execution_count": null,
   "id": "5d674c62",
   "metadata": {
    "scrolled": true
   },
   "outputs": [],
   "source": [
    "regression_data = dataset_final.loc[:,['price','avg_rating','ratingCount', 'brand_id','name','colour','brand','description','p_attributes']]"
   ]
  },
  {
   "cell_type": "code",
   "execution_count": null,
   "id": "63f6944d",
   "metadata": {},
   "outputs": [],
   "source": [
    "le = preprocessing.LabelEncoder()\n",
    "\n",
    "for i in regression_data.columns:\n",
    "        if regression_data[i].dtype == object:\n",
    "            regression_data[i] = le.fit_transform(regression_data[i])\n",
    "        else:\n",
    "            pass"
   ]
  },
  {
   "cell_type": "code",
   "execution_count": null,
   "id": "2b9315af",
   "metadata": {},
   "outputs": [],
   "source": [
    "regression_data"
   ]
  },
  {
   "cell_type": "code",
   "execution_count": null,
   "id": "ac58efd6",
   "metadata": {},
   "outputs": [],
   "source": [
    "x_reg = regression_data.loc[:,['price','avg_rating','ratingCount','name','colour','description','p_attributes']]\n",
    "y_reg = regression_data.loc[:,['brand_id']]"
   ]
  },
  {
   "cell_type": "markdown",
   "id": "a531b9b7",
   "metadata": {},
   "source": [
    ">Creating the training and testing datasets"
   ]
  },
  {
   "cell_type": "code",
   "execution_count": null,
   "id": "62a5d2e2",
   "metadata": {},
   "outputs": [],
   "source": [
    "x_reg_train, x_reg_test, y_reg_train, y_reg_test = train_test_split(x_reg, y_reg, test_size=0.25)\n",
    "\n",
    "print(\"Your independent training dataset contains \", x_reg_train.shape, \" rows and columns.\")\n",
    "print(\"Your independent testing dataset contains \", x_reg_test.shape, \" rows and columns.\")\n",
    "print(\"Your dependent training dataset contains \", y_reg_train.shape, \" rows and columns.\")\n",
    "print(\"Your dependent testing dataset contains \", y_reg_test.shape, \" rows and columns.\")"
   ]
  },
  {
   "cell_type": "markdown",
   "id": "63b0cb7f",
   "metadata": {},
   "source": [
    "### Linear Regression"
   ]
  },
  {
   "cell_type": "markdown",
   "id": "73f2d92d",
   "metadata": {},
   "source": [
    ">Training the model"
   ]
  },
  {
   "cell_type": "code",
   "execution_count": null,
   "id": "e854faec",
   "metadata": {},
   "outputs": [],
   "source": [
    "LR = LinearRegression()"
   ]
  },
  {
   "cell_type": "code",
   "execution_count": null,
   "id": "5342de45",
   "metadata": {},
   "outputs": [],
   "source": [
    "LR.fit(x_reg_train, y_reg_train)"
   ]
  },
  {
   "cell_type": "markdown",
   "id": "b7c5a1c2",
   "metadata": {},
   "source": [
    ">Testing the model"
   ]
  },
  {
   "cell_type": "code",
   "execution_count": null,
   "id": "f403b7a3",
   "metadata": {},
   "outputs": [],
   "source": [
    "LR_predict = LR.predict(x_reg_test)\n",
    "LR_predict"
   ]
  },
  {
   "cell_type": "code",
   "execution_count": null,
   "id": "c56cbb90",
   "metadata": {},
   "outputs": [],
   "source": [
    "print(\"Linear Regressor\")\n",
    "print(\"Mean Absolute Error: \", metrics.mean_absolute_error(y_reg_test, LR_predict))"
   ]
  },
  {
   "cell_type": "markdown",
   "id": "4265d59a",
   "metadata": {},
   "source": [
    "### Bayesian Ridge Regression"
   ]
  },
  {
   "cell_type": "code",
   "execution_count": null,
   "id": "e2d01a0b",
   "metadata": {},
   "outputs": [],
   "source": [
    "BayRidge = BayesianRidge()\n",
    "BayRidge.fit(x_reg_train, y_reg_train)"
   ]
  },
  {
   "cell_type": "code",
   "execution_count": null,
   "id": "6177b0a0",
   "metadata": {},
   "outputs": [],
   "source": [
    "BayRidge_predict = BayRidge.predict(x_reg_test)\n",
    "BayRidge_predict"
   ]
  },
  {
   "cell_type": "code",
   "execution_count": null,
   "id": "e5a52d54",
   "metadata": {},
   "outputs": [],
   "source": [
    "print(\"Bayesian Ridge Regressor\")\n",
    "print(\"Mean Absolute Error: \", metrics.mean_absolute_error(y_reg_test, BayRidge_predict))"
   ]
  },
  {
   "cell_type": "code",
   "execution_count": null,
   "id": "32e45a51",
   "metadata": {},
   "outputs": [],
   "source": [
    "dataset_final.info()"
   ]
  },
  {
   "cell_type": "markdown",
   "id": "23e18963",
   "metadata": {},
   "source": [
    " "
   ]
  },
  {
   "cell_type": "markdown",
   "id": "ff9272ae",
   "metadata": {},
   "source": [
    "## Classification Modelling"
   ]
  },
  {
   "cell_type": "markdown",
   "id": "25b27887",
   "metadata": {},
   "source": [
    ">Pre-processing"
   ]
  },
  {
   "cell_type": "code",
   "execution_count": null,
   "id": "f1a16870",
   "metadata": {},
   "outputs": [],
   "source": [
    "classification_data = dataset_final.loc[:,['name','colour','brand', 'brand_id','description','p_attributes']]\n",
    "classification_data"
   ]
  },
  {
   "cell_type": "code",
   "execution_count": null,
   "id": "44d119e4",
   "metadata": {},
   "outputs": [],
   "source": [
    "le = preprocessing.LabelEncoder()\n",
    "\n",
    "for i in classification_data.columns:\n",
    "        if classification_data[i].dtype == object:\n",
    "            classification_data[i] = le.fit_transform(classification_data[i])\n",
    "        else:\n",
    "            pass"
   ]
  },
  {
   "cell_type": "code",
   "execution_count": null,
   "id": "7c975f2c",
   "metadata": {},
   "outputs": [],
   "source": [
    "classification_data"
   ]
  },
  {
   "cell_type": "markdown",
   "id": "6dd82a2f",
   "metadata": {},
   "source": [
    ">Creating the training datasets"
   ]
  },
  {
   "cell_type": "code",
   "execution_count": null,
   "id": "d9c4b7e6",
   "metadata": {},
   "outputs": [],
   "source": [
    "x_class = classification_data.loc[:,['name','colour','description','p_attributes']]\n",
    "y_class = classification_data.loc[:,['brand']]"
   ]
  },
  {
   "cell_type": "code",
   "execution_count": null,
   "id": "2f71af46",
   "metadata": {},
   "outputs": [],
   "source": [
    "x_class"
   ]
  },
  {
   "cell_type": "code",
   "execution_count": null,
   "id": "00ec2dfc",
   "metadata": {},
   "outputs": [],
   "source": [
    "x_class_train, x_class_test, y_class_train, y_class_test = train_test_split(x_class, y_class, test_size=0.25)\n",
    "\n",
    "print(\"Your independent training dataset contains \", x_class_train.shape, \" rows and columns.\")\n",
    "print(\"Your independent testing dataset contains \", x_class_test.shape, \" rows and columns.\")\n",
    "print(\"Your dependent training dataset contains \", y_class_train.shape, \" rows and columns.\")\n",
    "print(\"Your dependent testing dataset contains \", y_class_test.shape, \" rows and columns.\")"
   ]
  },
  {
   "cell_type": "markdown",
   "id": "c8fb7520",
   "metadata": {},
   "source": [
    "### Gaussian Naive Bayes Classifier"
   ]
  },
  {
   "cell_type": "code",
   "execution_count": null,
   "id": "c25b3c0c",
   "metadata": {},
   "outputs": [],
   "source": [
    "GNB = GaussianNB()"
   ]
  },
  {
   "cell_type": "code",
   "execution_count": null,
   "id": "36650a1f",
   "metadata": {},
   "outputs": [],
   "source": [
    "GNB.fit(x_class_train, y_class_train)"
   ]
  },
  {
   "cell_type": "code",
   "execution_count": null,
   "id": "c645d9d7",
   "metadata": {},
   "outputs": [],
   "source": [
    "GNB_predict = GNB.predict(x_class_test)"
   ]
  },
  {
   "cell_type": "code",
   "execution_count": null,
   "id": "2a15524f",
   "metadata": {},
   "outputs": [],
   "source": [
    "print(\"Gaussian Naive Bayes Classifier\")\n",
    "print(\"Accuracy:\", round((metrics.accuracy_score(y_class_test, GNB_predict))*100,2),\"%\")"
   ]
  },
  {
   "cell_type": "markdown",
   "id": "f223c1bb",
   "metadata": {},
   "source": [
    "### Decision Tree Classifier"
   ]
  },
  {
   "cell_type": "code",
   "execution_count": null,
   "id": "cf9e4e23",
   "metadata": {},
   "outputs": [],
   "source": [
    "dtree = DecisionTreeClassifier()\n",
    "dtree = dtree.fit(x_class_train, y_class_train)"
   ]
  },
  {
   "cell_type": "code",
   "execution_count": null,
   "id": "fefde168",
   "metadata": {},
   "outputs": [],
   "source": [
    "dtree_predict = dtree.predict(x_class_test)"
   ]
  },
  {
   "cell_type": "code",
   "execution_count": null,
   "id": "075651ad",
   "metadata": {},
   "outputs": [],
   "source": [
    "print(\"Decision Classifier\")\n",
    "print(\"Accuracy:\", round((metrics.accuracy_score(y_class_test, dtree_predict))*100,2),\"%\")"
   ]
  }
 ],
 "metadata": {
  "kernelspec": {
   "display_name": "Python 3 (ipykernel)",
   "language": "python",
   "name": "python3"
  },
  "language_info": {
   "codemirror_mode": {
    "name": "ipython",
    "version": 3
   },
   "file_extension": ".py",
   "mimetype": "text/x-python",
   "name": "python",
   "nbconvert_exporter": "python",
   "pygments_lexer": "ipython3",
   "version": "3.9.13"
  }
 },
 "nbformat": 4,
 "nbformat_minor": 5
}
