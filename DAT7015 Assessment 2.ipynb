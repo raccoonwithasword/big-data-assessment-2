{
 "cells": [
  {
   "cell_type": "markdown",
   "id": "9c67d32e",
   "metadata": {},
   "source": [
    "# Data Analysis"
   ]
  },
  {
   "cell_type": "markdown",
   "id": "27bcab35",
   "metadata": {},
   "source": [
    ">Importing libraries"
   ]
  },
  {
   "cell_type": "code",
   "execution_count": 1,
   "id": "02c28b12",
   "metadata": {},
   "outputs": [],
   "source": [
    "import pandas as pd\n",
    "import numpy as np\n",
    "import pandasql as ps\n",
    "from pandasql import sqldf\n",
    "import matplotlib.pyplot as plt\n",
    "from sklearn.model_selection import train_test_split\n",
    "from sklearn.linear_model import LinearRegression\n",
    "from sklearn.linear_model import BayesianRidge\n",
    "from sklearn import preprocessing\n",
    "from sklearn import tree\n",
    "from sklearn.tree import DecisionTreeClassifier\n",
    "from sklearn import metrics\n",
    "from sklearn.naive_bayes import GaussianNB"
   ]
  },
  {
   "cell_type": "markdown",
   "id": "0cbebfff",
   "metadata": {},
   "source": [
    "# Data Cleaning & Transformation"
   ]
  },
  {
   "cell_type": "markdown",
   "id": "5348de0e",
   "metadata": {},
   "source": [
    ">Importing and viewing the fashion dataset\n"
   ]
  },
  {
   "cell_type": "code",
   "execution_count": 2,
   "id": "58058aa0",
   "metadata": {
    "scrolled": false
   },
   "outputs": [
    {
     "data": {
      "text/html": [
       "<div>\n",
       "<style scoped>\n",
       "    .dataframe tbody tr th:only-of-type {\n",
       "        vertical-align: middle;\n",
       "    }\n",
       "\n",
       "    .dataframe tbody tr th {\n",
       "        vertical-align: top;\n",
       "    }\n",
       "\n",
       "    .dataframe thead th {\n",
       "        text-align: right;\n",
       "    }\n",
       "</style>\n",
       "<table border=\"1\" class=\"dataframe\">\n",
       "  <thead>\n",
       "    <tr style=\"text-align: right;\">\n",
       "      <th></th>\n",
       "      <th>p_id</th>\n",
       "      <th>name</th>\n",
       "      <th>price</th>\n",
       "      <th>colour</th>\n",
       "      <th>brand</th>\n",
       "      <th>ratingCount</th>\n",
       "      <th>avg_rating</th>\n",
       "      <th>description</th>\n",
       "      <th>p_attributes</th>\n",
       "    </tr>\n",
       "  </thead>\n",
       "  <tbody>\n",
       "    <tr>\n",
       "      <th>0</th>\n",
       "      <td>1518329.0</td>\n",
       "      <td>Dupatta Bazaar White Embroidered Chiffon Dupatta</td>\n",
       "      <td>899.0</td>\n",
       "      <td>White</td>\n",
       "      <td>Dupatta Bazaar</td>\n",
       "      <td>1321.0</td>\n",
       "      <td>4.548827</td>\n",
       "      <td>White embroidered&amp;nbsp;dupattaChiffon&lt;br&gt;Hand-...</td>\n",
       "      <td>{'Occasion': 'Daily', 'Pattern': 'Embroidered'...</td>\n",
       "    </tr>\n",
       "    <tr>\n",
       "      <th>1</th>\n",
       "      <td>5829334.0</td>\n",
       "      <td>Roadster Women Mustard Yellow Solid Hooded Swe...</td>\n",
       "      <td>1199.0</td>\n",
       "      <td>Mustard</td>\n",
       "      <td>Roadster</td>\n",
       "      <td>5462.0</td>\n",
       "      <td>4.313255</td>\n",
       "      <td>Mustard yellow solid sweatshirt, has a hood, t...</td>\n",
       "      <td>{'Body Shape ID': '443,424,324', 'Body or Garm...</td>\n",
       "    </tr>\n",
       "    <tr>\n",
       "      <th>2</th>\n",
       "      <td>10340119.0</td>\n",
       "      <td>Inddus Peach-Coloured &amp; Beige Unstitched Dress...</td>\n",
       "      <td>5799.0</td>\n",
       "      <td>Peach</td>\n",
       "      <td>Inddus</td>\n",
       "      <td>145.0</td>\n",
       "      <td>4.068966</td>\n",
       "      <td>Peach-Coloured and beige woven design unstitch...</td>\n",
       "      <td>{'Bottom Fabric': 'Cotton Blend', 'Bottom Patt...</td>\n",
       "    </tr>\n",
       "    <tr>\n",
       "      <th>3</th>\n",
       "      <td>10856380.0</td>\n",
       "      <td>SASSAFRAS Women Black Parallel Trousers</td>\n",
       "      <td>1499.0</td>\n",
       "      <td>Black</td>\n",
       "      <td>SASSAFRAS</td>\n",
       "      <td>9124.0</td>\n",
       "      <td>4.147523</td>\n",
       "      <td>Black solid woven high-rise parallel trousers,...</td>\n",
       "      <td>{'Add-Ons': 'NA', 'Body Shape ID': '424', 'Bod...</td>\n",
       "    </tr>\n",
       "    <tr>\n",
       "      <th>4</th>\n",
       "      <td>12384822.0</td>\n",
       "      <td>Kotty Women Black Wide Leg High-Rise Clean Loo...</td>\n",
       "      <td>1999.0</td>\n",
       "      <td>Black</td>\n",
       "      <td>Kotty</td>\n",
       "      <td>12260.0</td>\n",
       "      <td>4.078467</td>\n",
       "      <td>Black dark wash 4-pocket high-rise jeans, clea...</td>\n",
       "      <td>{'Add-Ons': 'NA', 'Brand Fit Name': 'NA', 'Clo...</td>\n",
       "    </tr>\n",
       "    <tr>\n",
       "      <th>...</th>\n",
       "      <td>...</td>\n",
       "      <td>...</td>\n",
       "      <td>...</td>\n",
       "      <td>...</td>\n",
       "      <td>...</td>\n",
       "      <td>...</td>\n",
       "      <td>...</td>\n",
       "      <td>...</td>\n",
       "      <td>...</td>\n",
       "    </tr>\n",
       "    <tr>\n",
       "      <th>14324</th>\n",
       "      <td>17029604.0</td>\n",
       "      <td>The Chennai Silks Pink &amp; Silver-Toned Floral Z...</td>\n",
       "      <td>3999.0</td>\n",
       "      <td>Pink</td>\n",
       "      <td>The Chennai Silks</td>\n",
       "      <td>NaN</td>\n",
       "      <td>NaN</td>\n",
       "      <td>&lt;b&gt;Design Details &lt;/b&gt;&lt;ul&gt;&lt;li&gt;Pink and silver-...</td>\n",
       "      <td>{'Better Cotton Initiative': 'Regular', 'Blous...</td>\n",
       "    </tr>\n",
       "    <tr>\n",
       "      <th>14325</th>\n",
       "      <td>17600212.0</td>\n",
       "      <td>Kinder Kids Girls Blue &amp; Green Printed Foil Pr...</td>\n",
       "      <td>2050.0</td>\n",
       "      <td>Blue</td>\n",
       "      <td>Kinder Kids</td>\n",
       "      <td>NaN</td>\n",
       "      <td>NaN</td>\n",
       "      <td>Blue and green printed lehenga choli,  has foi...</td>\n",
       "      <td>{'Blouse Closure': 'NA', 'Blouse Fabric': 'Cot...</td>\n",
       "    </tr>\n",
       "    <tr>\n",
       "      <th>14326</th>\n",
       "      <td>18159266.0</td>\n",
       "      <td>KLOTTHE Women Green &amp; Black Floral Printed Pal...</td>\n",
       "      <td>1659.0</td>\n",
       "      <td>Green</td>\n",
       "      <td>KLOTTHE</td>\n",
       "      <td>NaN</td>\n",
       "      <td>NaN</td>\n",
       "      <td>&lt;ul&gt; &lt;li&gt; Green and black woven palazzos &lt;/li&gt;...</td>\n",
       "      <td>{'Body or Garment Size': 'To-Fit Denotes Body ...</td>\n",
       "    </tr>\n",
       "    <tr>\n",
       "      <th>14327</th>\n",
       "      <td>18921114.0</td>\n",
       "      <td>InWeave Women Red Printed A-Line Skirt</td>\n",
       "      <td>2399.0</td>\n",
       "      <td>Red</td>\n",
       "      <td>InWeave</td>\n",
       "      <td>NaN</td>\n",
       "      <td>NaN</td>\n",
       "      <td>&lt;p&gt;Red printed A-line skirt, has drawstring cl...</td>\n",
       "      <td>{'Add-Ons': 'NA', 'Body Shape ID': '324,333,42...</td>\n",
       "    </tr>\n",
       "    <tr>\n",
       "      <th>14328</th>\n",
       "      <td>19361058.0</td>\n",
       "      <td>BoStreet Women Navy Blue Tapered Fit Trousers</td>\n",
       "      <td>2599.0</td>\n",
       "      <td>Navy Blue</td>\n",
       "      <td>BoStreet</td>\n",
       "      <td>NaN</td>\n",
       "      <td>NaN</td>\n",
       "      <td>&lt;ul&gt; &lt;li&gt; Navy blue knitted trousers &lt;/li&gt; &lt;li...</td>\n",
       "      <td>{'Add-Ons': 'NA', 'Body Shape ID': '443,333,42...</td>\n",
       "    </tr>\n",
       "  </tbody>\n",
       "</table>\n",
       "<p>14329 rows × 9 columns</p>\n",
       "</div>"
      ],
      "text/plain": [
       "             p_id                                               name   price  \\\n",
       "0       1518329.0   Dupatta Bazaar White Embroidered Chiffon Dupatta   899.0   \n",
       "1       5829334.0  Roadster Women Mustard Yellow Solid Hooded Swe...  1199.0   \n",
       "2      10340119.0  Inddus Peach-Coloured & Beige Unstitched Dress...  5799.0   \n",
       "3      10856380.0            SASSAFRAS Women Black Parallel Trousers  1499.0   \n",
       "4      12384822.0  Kotty Women Black Wide Leg High-Rise Clean Loo...  1999.0   \n",
       "...           ...                                                ...     ...   \n",
       "14324  17029604.0  The Chennai Silks Pink & Silver-Toned Floral Z...  3999.0   \n",
       "14325  17600212.0  Kinder Kids Girls Blue & Green Printed Foil Pr...  2050.0   \n",
       "14326  18159266.0  KLOTTHE Women Green & Black Floral Printed Pal...  1659.0   \n",
       "14327  18921114.0             InWeave Women Red Printed A-Line Skirt  2399.0   \n",
       "14328  19361058.0      BoStreet Women Navy Blue Tapered Fit Trousers  2599.0   \n",
       "\n",
       "          colour              brand  ratingCount  avg_rating  \\\n",
       "0          White     Dupatta Bazaar       1321.0    4.548827   \n",
       "1        Mustard           Roadster       5462.0    4.313255   \n",
       "2          Peach             Inddus        145.0    4.068966   \n",
       "3          Black          SASSAFRAS       9124.0    4.147523   \n",
       "4          Black              Kotty      12260.0    4.078467   \n",
       "...          ...                ...          ...         ...   \n",
       "14324       Pink  The Chennai Silks          NaN         NaN   \n",
       "14325       Blue        Kinder Kids          NaN         NaN   \n",
       "14326      Green            KLOTTHE          NaN         NaN   \n",
       "14327        Red            InWeave          NaN         NaN   \n",
       "14328  Navy Blue           BoStreet          NaN         NaN   \n",
       "\n",
       "                                             description  \\\n",
       "0      White embroidered&nbsp;dupattaChiffon<br>Hand-...   \n",
       "1      Mustard yellow solid sweatshirt, has a hood, t...   \n",
       "2      Peach-Coloured and beige woven design unstitch...   \n",
       "3      Black solid woven high-rise parallel trousers,...   \n",
       "4      Black dark wash 4-pocket high-rise jeans, clea...   \n",
       "...                                                  ...   \n",
       "14324  <b>Design Details </b><ul><li>Pink and silver-...   \n",
       "14325  Blue and green printed lehenga choli,  has foi...   \n",
       "14326  <ul> <li> Green and black woven palazzos </li>...   \n",
       "14327  <p>Red printed A-line skirt, has drawstring cl...   \n",
       "14328  <ul> <li> Navy blue knitted trousers </li> <li...   \n",
       "\n",
       "                                            p_attributes  \n",
       "0      {'Occasion': 'Daily', 'Pattern': 'Embroidered'...  \n",
       "1      {'Body Shape ID': '443,424,324', 'Body or Garm...  \n",
       "2      {'Bottom Fabric': 'Cotton Blend', 'Bottom Patt...  \n",
       "3      {'Add-Ons': 'NA', 'Body Shape ID': '424', 'Bod...  \n",
       "4      {'Add-Ons': 'NA', 'Brand Fit Name': 'NA', 'Clo...  \n",
       "...                                                  ...  \n",
       "14324  {'Better Cotton Initiative': 'Regular', 'Blous...  \n",
       "14325  {'Blouse Closure': 'NA', 'Blouse Fabric': 'Cot...  \n",
       "14326  {'Body or Garment Size': 'To-Fit Denotes Body ...  \n",
       "14327  {'Add-Ons': 'NA', 'Body Shape ID': '324,333,42...  \n",
       "14328  {'Add-Ons': 'NA', 'Body Shape ID': '443,333,42...  \n",
       "\n",
       "[14329 rows x 9 columns]"
      ]
     },
     "execution_count": 2,
     "metadata": {},
     "output_type": "execute_result"
    }
   ],
   "source": [
    "fashion_dataset= pd.read_csv(r\".\\fashion dataset.csv\")\n",
    "fashion_dataset"
   ]
  },
  {
   "cell_type": "markdown",
   "id": "4db6ad60",
   "metadata": {},
   "source": [
    ">Finding the number of unique brands in the fashion dataset"
   ]
  },
  {
   "cell_type": "code",
   "execution_count": 3,
   "id": "39d4ad68",
   "metadata": {},
   "outputs": [
    {
     "data": {
      "text/plain": [
       "1021"
      ]
     },
     "execution_count": 3,
     "metadata": {},
     "output_type": "execute_result"
    }
   ],
   "source": [
    "len(pd.unique(fashion_dataset['brand']))"
   ]
  },
  {
   "cell_type": "markdown",
   "id": "146a3cc5",
   "metadata": {},
   "source": [
    ">Importing the brand details dataset"
   ]
  },
  {
   "cell_type": "code",
   "execution_count": 4,
   "id": "61fb4d4f",
   "metadata": {},
   "outputs": [
    {
     "data": {
      "text/html": [
       "<div>\n",
       "<style scoped>\n",
       "    .dataframe tbody tr th:only-of-type {\n",
       "        vertical-align: middle;\n",
       "    }\n",
       "\n",
       "    .dataframe tbody tr th {\n",
       "        vertical-align: top;\n",
       "    }\n",
       "\n",
       "    .dataframe thead th {\n",
       "        text-align: right;\n",
       "    }\n",
       "</style>\n",
       "<table border=\"1\" class=\"dataframe\">\n",
       "  <thead>\n",
       "    <tr style=\"text-align: right;\">\n",
       "      <th></th>\n",
       "      <th>brand_id</th>\n",
       "      <th>brand_name</th>\n",
       "    </tr>\n",
       "  </thead>\n",
       "  <tbody>\n",
       "    <tr>\n",
       "      <th>0</th>\n",
       "      <td>1</td>\n",
       "      <td>513</td>\n",
       "    </tr>\n",
       "    <tr>\n",
       "      <th>1</th>\n",
       "      <td>2</td>\n",
       "      <td>109F</td>\n",
       "    </tr>\n",
       "    <tr>\n",
       "      <th>2</th>\n",
       "      <td>3</td>\n",
       "      <td>20Dresses</td>\n",
       "    </tr>\n",
       "    <tr>\n",
       "      <th>3</th>\n",
       "      <td>4</td>\n",
       "      <td>250 Designs</td>\n",
       "    </tr>\n",
       "    <tr>\n",
       "      <th>4</th>\n",
       "      <td>5</td>\n",
       "      <td>3Pin</td>\n",
       "    </tr>\n",
       "    <tr>\n",
       "      <th>...</th>\n",
       "      <td>...</td>\n",
       "      <td>...</td>\n",
       "    </tr>\n",
       "    <tr>\n",
       "      <th>1015</th>\n",
       "      <td>1016</td>\n",
       "      <td>Ziva Fashion</td>\n",
       "    </tr>\n",
       "    <tr>\n",
       "      <th>1016</th>\n",
       "      <td>1017</td>\n",
       "      <td>Zivame</td>\n",
       "    </tr>\n",
       "    <tr>\n",
       "      <th>1017</th>\n",
       "      <td>1018</td>\n",
       "      <td>Ziyaa</td>\n",
       "    </tr>\n",
       "    <tr>\n",
       "      <th>1018</th>\n",
       "      <td>1019</td>\n",
       "      <td>Zoella</td>\n",
       "    </tr>\n",
       "    <tr>\n",
       "      <th>1019</th>\n",
       "      <td>1020</td>\n",
       "      <td>Zola</td>\n",
       "    </tr>\n",
       "  </tbody>\n",
       "</table>\n",
       "<p>1020 rows × 2 columns</p>\n",
       "</div>"
      ],
      "text/plain": [
       "      brand_id    brand_name\n",
       "0            1           513\n",
       "1            2          109F\n",
       "2            3     20Dresses\n",
       "3            4   250 Designs\n",
       "4            5          3Pin\n",
       "...        ...           ...\n",
       "1015      1016  Ziva Fashion\n",
       "1016      1017        Zivame\n",
       "1017      1018         Ziyaa\n",
       "1018      1019        Zoella\n",
       "1019      1020          Zola\n",
       "\n",
       "[1020 rows x 2 columns]"
      ]
     },
     "execution_count": 4,
     "metadata": {},
     "output_type": "execute_result"
    }
   ],
   "source": [
    "brand_details = pd.read_excel(r\".\\fashion brand details.xlsx\")\n",
    "brand_details"
   ]
  },
  {
   "cell_type": "markdown",
   "id": "40eb46cb",
   "metadata": {},
   "source": [
    ">Counting the number of unique brand names in the brand details dataset"
   ]
  },
  {
   "cell_type": "code",
   "execution_count": 5,
   "id": "56716f86",
   "metadata": {},
   "outputs": [
    {
     "data": {
      "text/plain": [
       "1020"
      ]
     },
     "execution_count": 5,
     "metadata": {},
     "output_type": "execute_result"
    }
   ],
   "source": [
    "len(pd.unique(brand_details['brand_name']))"
   ]
  },
  {
   "cell_type": "markdown",
   "id": "c7b8a6be",
   "metadata": {},
   "source": [
    ">Finding the number of null and duplicated values in each dataset"
   ]
  },
  {
   "cell_type": "code",
   "execution_count": 6,
   "id": "aa8cecc0",
   "metadata": {},
   "outputs": [
    {
     "data": {
      "text/plain": [
       "brand_id      0\n",
       "brand_name    0\n",
       "dtype: int64"
      ]
     },
     "execution_count": 6,
     "metadata": {},
     "output_type": "execute_result"
    }
   ],
   "source": [
    "brand_details.isna().sum()"
   ]
  },
  {
   "cell_type": "code",
   "execution_count": 7,
   "id": "ad8e8b0c",
   "metadata": {},
   "outputs": [
    {
     "data": {
      "text/plain": [
       "p_id              18\n",
       "name              19\n",
       "price             19\n",
       "colour            22\n",
       "brand             24\n",
       "ratingCount     7748\n",
       "avg_rating      7748\n",
       "description       19\n",
       "p_attributes      19\n",
       "dtype: int64"
      ]
     },
     "execution_count": 7,
     "metadata": {},
     "output_type": "execute_result"
    }
   ],
   "source": [
    "fashion_dataset.isna().sum()"
   ]
  },
  {
   "cell_type": "code",
   "execution_count": 8,
   "id": "06b9712b",
   "metadata": {},
   "outputs": [
    {
     "data": {
      "text/plain": [
       "0"
      ]
     },
     "execution_count": 8,
     "metadata": {},
     "output_type": "execute_result"
    }
   ],
   "source": [
    "brand_details.duplicated().sum()"
   ]
  },
  {
   "cell_type": "code",
   "execution_count": 9,
   "id": "3e18ce56",
   "metadata": {},
   "outputs": [
    {
     "data": {
      "text/plain": [
       "59"
      ]
     },
     "execution_count": 9,
     "metadata": {},
     "output_type": "execute_result"
    }
   ],
   "source": [
    "fashion_dataset.duplicated().sum()"
   ]
  },
  {
   "cell_type": "markdown",
   "id": "8deda2e0",
   "metadata": {},
   "source": [
    ">Testing out duplicate dropping"
   ]
  },
  {
   "cell_type": "code",
   "execution_count": 10,
   "id": "e1853c6e",
   "metadata": {},
   "outputs": [
    {
     "data": {
      "text/plain": [
       "1021"
      ]
     },
     "execution_count": 10,
     "metadata": {},
     "output_type": "execute_result"
    }
   ],
   "source": [
    "df_dupl = fashion_dataset.drop_duplicates(keep = \"last\")\n",
    "len(pd.unique(df_dupl[\"brand\"]))"
   ]
  },
  {
   "cell_type": "markdown",
   "id": "fa456831",
   "metadata": {},
   "source": [
    ">Dropping duplicates in fashion dataset"
   ]
  },
  {
   "cell_type": "code",
   "execution_count": 11,
   "id": "9ca86992",
   "metadata": {
    "scrolled": true
   },
   "outputs": [
    {
     "data": {
      "text/html": [
       "<div>\n",
       "<style scoped>\n",
       "    .dataframe tbody tr th:only-of-type {\n",
       "        vertical-align: middle;\n",
       "    }\n",
       "\n",
       "    .dataframe tbody tr th {\n",
       "        vertical-align: top;\n",
       "    }\n",
       "\n",
       "    .dataframe thead th {\n",
       "        text-align: right;\n",
       "    }\n",
       "</style>\n",
       "<table border=\"1\" class=\"dataframe\">\n",
       "  <thead>\n",
       "    <tr style=\"text-align: right;\">\n",
       "      <th></th>\n",
       "      <th>p_id</th>\n",
       "      <th>name</th>\n",
       "      <th>price</th>\n",
       "      <th>colour</th>\n",
       "      <th>brand</th>\n",
       "      <th>ratingCount</th>\n",
       "      <th>avg_rating</th>\n",
       "      <th>description</th>\n",
       "      <th>p_attributes</th>\n",
       "    </tr>\n",
       "  </thead>\n",
       "  <tbody>\n",
       "    <tr>\n",
       "      <th>0</th>\n",
       "      <td>1518329.0</td>\n",
       "      <td>Dupatta Bazaar White Embroidered Chiffon Dupatta</td>\n",
       "      <td>899.0</td>\n",
       "      <td>White</td>\n",
       "      <td>Dupatta Bazaar</td>\n",
       "      <td>1321.0</td>\n",
       "      <td>4.548827</td>\n",
       "      <td>White embroidered&amp;nbsp;dupattaChiffon&lt;br&gt;Hand-...</td>\n",
       "      <td>{'Occasion': 'Daily', 'Pattern': 'Embroidered'...</td>\n",
       "    </tr>\n",
       "    <tr>\n",
       "      <th>1</th>\n",
       "      <td>5829334.0</td>\n",
       "      <td>Roadster Women Mustard Yellow Solid Hooded Swe...</td>\n",
       "      <td>1199.0</td>\n",
       "      <td>Mustard</td>\n",
       "      <td>Roadster</td>\n",
       "      <td>5462.0</td>\n",
       "      <td>4.313255</td>\n",
       "      <td>Mustard yellow solid sweatshirt, has a hood, t...</td>\n",
       "      <td>{'Body Shape ID': '443,424,324', 'Body or Garm...</td>\n",
       "    </tr>\n",
       "    <tr>\n",
       "      <th>2</th>\n",
       "      <td>10340119.0</td>\n",
       "      <td>Inddus Peach-Coloured &amp; Beige Unstitched Dress...</td>\n",
       "      <td>5799.0</td>\n",
       "      <td>Peach</td>\n",
       "      <td>Inddus</td>\n",
       "      <td>145.0</td>\n",
       "      <td>4.068966</td>\n",
       "      <td>Peach-Coloured and beige woven design unstitch...</td>\n",
       "      <td>{'Bottom Fabric': 'Cotton Blend', 'Bottom Patt...</td>\n",
       "    </tr>\n",
       "    <tr>\n",
       "      <th>3</th>\n",
       "      <td>10856380.0</td>\n",
       "      <td>SASSAFRAS Women Black Parallel Trousers</td>\n",
       "      <td>1499.0</td>\n",
       "      <td>Black</td>\n",
       "      <td>SASSAFRAS</td>\n",
       "      <td>9124.0</td>\n",
       "      <td>4.147523</td>\n",
       "      <td>Black solid woven high-rise parallel trousers,...</td>\n",
       "      <td>{'Add-Ons': 'NA', 'Body Shape ID': '424', 'Bod...</td>\n",
       "    </tr>\n",
       "    <tr>\n",
       "      <th>4</th>\n",
       "      <td>12384822.0</td>\n",
       "      <td>Kotty Women Black Wide Leg High-Rise Clean Loo...</td>\n",
       "      <td>1999.0</td>\n",
       "      <td>Black</td>\n",
       "      <td>Kotty</td>\n",
       "      <td>12260.0</td>\n",
       "      <td>4.078467</td>\n",
       "      <td>Black dark wash 4-pocket high-rise jeans, clea...</td>\n",
       "      <td>{'Add-Ons': 'NA', 'Brand Fit Name': 'NA', 'Clo...</td>\n",
       "    </tr>\n",
       "    <tr>\n",
       "      <th>...</th>\n",
       "      <td>...</td>\n",
       "      <td>...</td>\n",
       "      <td>...</td>\n",
       "      <td>...</td>\n",
       "      <td>...</td>\n",
       "      <td>...</td>\n",
       "      <td>...</td>\n",
       "      <td>...</td>\n",
       "      <td>...</td>\n",
       "    </tr>\n",
       "    <tr>\n",
       "      <th>14324</th>\n",
       "      <td>17029604.0</td>\n",
       "      <td>The Chennai Silks Pink &amp; Silver-Toned Floral Z...</td>\n",
       "      <td>3999.0</td>\n",
       "      <td>Pink</td>\n",
       "      <td>The Chennai Silks</td>\n",
       "      <td>NaN</td>\n",
       "      <td>NaN</td>\n",
       "      <td>&lt;b&gt;Design Details &lt;/b&gt;&lt;ul&gt;&lt;li&gt;Pink and silver-...</td>\n",
       "      <td>{'Better Cotton Initiative': 'Regular', 'Blous...</td>\n",
       "    </tr>\n",
       "    <tr>\n",
       "      <th>14325</th>\n",
       "      <td>17600212.0</td>\n",
       "      <td>Kinder Kids Girls Blue &amp; Green Printed Foil Pr...</td>\n",
       "      <td>2050.0</td>\n",
       "      <td>Blue</td>\n",
       "      <td>Kinder Kids</td>\n",
       "      <td>NaN</td>\n",
       "      <td>NaN</td>\n",
       "      <td>Blue and green printed lehenga choli,  has foi...</td>\n",
       "      <td>{'Blouse Closure': 'NA', 'Blouse Fabric': 'Cot...</td>\n",
       "    </tr>\n",
       "    <tr>\n",
       "      <th>14326</th>\n",
       "      <td>18159266.0</td>\n",
       "      <td>KLOTTHE Women Green &amp; Black Floral Printed Pal...</td>\n",
       "      <td>1659.0</td>\n",
       "      <td>Green</td>\n",
       "      <td>KLOTTHE</td>\n",
       "      <td>NaN</td>\n",
       "      <td>NaN</td>\n",
       "      <td>&lt;ul&gt; &lt;li&gt; Green and black woven palazzos &lt;/li&gt;...</td>\n",
       "      <td>{'Body or Garment Size': 'To-Fit Denotes Body ...</td>\n",
       "    </tr>\n",
       "    <tr>\n",
       "      <th>14327</th>\n",
       "      <td>18921114.0</td>\n",
       "      <td>InWeave Women Red Printed A-Line Skirt</td>\n",
       "      <td>2399.0</td>\n",
       "      <td>Red</td>\n",
       "      <td>InWeave</td>\n",
       "      <td>NaN</td>\n",
       "      <td>NaN</td>\n",
       "      <td>&lt;p&gt;Red printed A-line skirt, has drawstring cl...</td>\n",
       "      <td>{'Add-Ons': 'NA', 'Body Shape ID': '324,333,42...</td>\n",
       "    </tr>\n",
       "    <tr>\n",
       "      <th>14328</th>\n",
       "      <td>19361058.0</td>\n",
       "      <td>BoStreet Women Navy Blue Tapered Fit Trousers</td>\n",
       "      <td>2599.0</td>\n",
       "      <td>Navy Blue</td>\n",
       "      <td>BoStreet</td>\n",
       "      <td>NaN</td>\n",
       "      <td>NaN</td>\n",
       "      <td>&lt;ul&gt; &lt;li&gt; Navy blue knitted trousers &lt;/li&gt; &lt;li...</td>\n",
       "      <td>{'Add-Ons': 'NA', 'Body Shape ID': '443,333,42...</td>\n",
       "    </tr>\n",
       "  </tbody>\n",
       "</table>\n",
       "<p>14270 rows × 9 columns</p>\n",
       "</div>"
      ],
      "text/plain": [
       "             p_id                                               name   price  \\\n",
       "0       1518329.0   Dupatta Bazaar White Embroidered Chiffon Dupatta   899.0   \n",
       "1       5829334.0  Roadster Women Mustard Yellow Solid Hooded Swe...  1199.0   \n",
       "2      10340119.0  Inddus Peach-Coloured & Beige Unstitched Dress...  5799.0   \n",
       "3      10856380.0            SASSAFRAS Women Black Parallel Trousers  1499.0   \n",
       "4      12384822.0  Kotty Women Black Wide Leg High-Rise Clean Loo...  1999.0   \n",
       "...           ...                                                ...     ...   \n",
       "14324  17029604.0  The Chennai Silks Pink & Silver-Toned Floral Z...  3999.0   \n",
       "14325  17600212.0  Kinder Kids Girls Blue & Green Printed Foil Pr...  2050.0   \n",
       "14326  18159266.0  KLOTTHE Women Green & Black Floral Printed Pal...  1659.0   \n",
       "14327  18921114.0             InWeave Women Red Printed A-Line Skirt  2399.0   \n",
       "14328  19361058.0      BoStreet Women Navy Blue Tapered Fit Trousers  2599.0   \n",
       "\n",
       "          colour              brand  ratingCount  avg_rating  \\\n",
       "0          White     Dupatta Bazaar       1321.0    4.548827   \n",
       "1        Mustard           Roadster       5462.0    4.313255   \n",
       "2          Peach             Inddus        145.0    4.068966   \n",
       "3          Black          SASSAFRAS       9124.0    4.147523   \n",
       "4          Black              Kotty      12260.0    4.078467   \n",
       "...          ...                ...          ...         ...   \n",
       "14324       Pink  The Chennai Silks          NaN         NaN   \n",
       "14325       Blue        Kinder Kids          NaN         NaN   \n",
       "14326      Green            KLOTTHE          NaN         NaN   \n",
       "14327        Red            InWeave          NaN         NaN   \n",
       "14328  Navy Blue           BoStreet          NaN         NaN   \n",
       "\n",
       "                                             description  \\\n",
       "0      White embroidered&nbsp;dupattaChiffon<br>Hand-...   \n",
       "1      Mustard yellow solid sweatshirt, has a hood, t...   \n",
       "2      Peach-Coloured and beige woven design unstitch...   \n",
       "3      Black solid woven high-rise parallel trousers,...   \n",
       "4      Black dark wash 4-pocket high-rise jeans, clea...   \n",
       "...                                                  ...   \n",
       "14324  <b>Design Details </b><ul><li>Pink and silver-...   \n",
       "14325  Blue and green printed lehenga choli,  has foi...   \n",
       "14326  <ul> <li> Green and black woven palazzos </li>...   \n",
       "14327  <p>Red printed A-line skirt, has drawstring cl...   \n",
       "14328  <ul> <li> Navy blue knitted trousers </li> <li...   \n",
       "\n",
       "                                            p_attributes  \n",
       "0      {'Occasion': 'Daily', 'Pattern': 'Embroidered'...  \n",
       "1      {'Body Shape ID': '443,424,324', 'Body or Garm...  \n",
       "2      {'Bottom Fabric': 'Cotton Blend', 'Bottom Patt...  \n",
       "3      {'Add-Ons': 'NA', 'Body Shape ID': '424', 'Bod...  \n",
       "4      {'Add-Ons': 'NA', 'Brand Fit Name': 'NA', 'Clo...  \n",
       "...                                                  ...  \n",
       "14324  {'Better Cotton Initiative': 'Regular', 'Blous...  \n",
       "14325  {'Blouse Closure': 'NA', 'Blouse Fabric': 'Cot...  \n",
       "14326  {'Body or Garment Size': 'To-Fit Denotes Body ...  \n",
       "14327  {'Add-Ons': 'NA', 'Body Shape ID': '324,333,42...  \n",
       "14328  {'Add-Ons': 'NA', 'Body Shape ID': '443,333,42...  \n",
       "\n",
       "[14270 rows x 9 columns]"
      ]
     },
     "execution_count": 11,
     "metadata": {},
     "output_type": "execute_result"
    }
   ],
   "source": [
    "fashion_dataset.drop_duplicates(inplace = True, keep = \"last\")\n",
    "fashion_dataset"
   ]
  },
  {
   "cell_type": "markdown",
   "id": "52f78cf5",
   "metadata": {},
   "source": [
    ">Merging the datasets"
   ]
  },
  {
   "cell_type": "code",
   "execution_count": 12,
   "id": "ad56bf91",
   "metadata": {
    "scrolled": true
   },
   "outputs": [
    {
     "data": {
      "text/html": [
       "<div>\n",
       "<style scoped>\n",
       "    .dataframe tbody tr th:only-of-type {\n",
       "        vertical-align: middle;\n",
       "    }\n",
       "\n",
       "    .dataframe tbody tr th {\n",
       "        vertical-align: top;\n",
       "    }\n",
       "\n",
       "    .dataframe thead th {\n",
       "        text-align: right;\n",
       "    }\n",
       "</style>\n",
       "<table border=\"1\" class=\"dataframe\">\n",
       "  <thead>\n",
       "    <tr style=\"text-align: right;\">\n",
       "      <th></th>\n",
       "      <th>p_id</th>\n",
       "      <th>name</th>\n",
       "      <th>price</th>\n",
       "      <th>colour</th>\n",
       "      <th>brand</th>\n",
       "      <th>ratingCount</th>\n",
       "      <th>avg_rating</th>\n",
       "      <th>description</th>\n",
       "      <th>p_attributes</th>\n",
       "      <th>brand_id</th>\n",
       "      <th>brand_name</th>\n",
       "    </tr>\n",
       "  </thead>\n",
       "  <tbody>\n",
       "    <tr>\n",
       "      <th>0</th>\n",
       "      <td>1518329.0</td>\n",
       "      <td>Dupatta Bazaar White Embroidered Chiffon Dupatta</td>\n",
       "      <td>899.0</td>\n",
       "      <td>White</td>\n",
       "      <td>Dupatta Bazaar</td>\n",
       "      <td>1321.0</td>\n",
       "      <td>4.548827</td>\n",
       "      <td>White embroidered&amp;nbsp;dupattaChiffon&lt;br&gt;Hand-...</td>\n",
       "      <td>{'Occasion': 'Daily', 'Pattern': 'Embroidered'...</td>\n",
       "      <td>242.0</td>\n",
       "      <td>Dupatta Bazaar</td>\n",
       "    </tr>\n",
       "    <tr>\n",
       "      <th>1</th>\n",
       "      <td>5829334.0</td>\n",
       "      <td>Roadster Women Mustard Yellow Solid Hooded Swe...</td>\n",
       "      <td>1199.0</td>\n",
       "      <td>Mustard</td>\n",
       "      <td>Roadster</td>\n",
       "      <td>5462.0</td>\n",
       "      <td>4.313255</td>\n",
       "      <td>Mustard yellow solid sweatshirt, has a hood, t...</td>\n",
       "      <td>{'Body Shape ID': '443,424,324', 'Body or Garm...</td>\n",
       "      <td>750.0</td>\n",
       "      <td>Roadster</td>\n",
       "    </tr>\n",
       "    <tr>\n",
       "      <th>2</th>\n",
       "      <td>10340119.0</td>\n",
       "      <td>Inddus Peach-Coloured &amp; Beige Unstitched Dress...</td>\n",
       "      <td>5799.0</td>\n",
       "      <td>Peach</td>\n",
       "      <td>Inddus</td>\n",
       "      <td>145.0</td>\n",
       "      <td>4.068966</td>\n",
       "      <td>Peach-Coloured and beige woven design unstitch...</td>\n",
       "      <td>{'Bottom Fabric': 'Cotton Blend', 'Bottom Patt...</td>\n",
       "      <td>389.0</td>\n",
       "      <td>Inddus</td>\n",
       "    </tr>\n",
       "    <tr>\n",
       "      <th>3</th>\n",
       "      <td>10856380.0</td>\n",
       "      <td>SASSAFRAS Women Black Parallel Trousers</td>\n",
       "      <td>1499.0</td>\n",
       "      <td>Black</td>\n",
       "      <td>SASSAFRAS</td>\n",
       "      <td>9124.0</td>\n",
       "      <td>4.147523</td>\n",
       "      <td>Black solid woven high-rise parallel trousers,...</td>\n",
       "      <td>{'Add-Ons': 'NA', 'Body Shape ID': '424', 'Bod...</td>\n",
       "      <td>NaN</td>\n",
       "      <td>None</td>\n",
       "    </tr>\n",
       "    <tr>\n",
       "      <th>4</th>\n",
       "      <td>12384822.0</td>\n",
       "      <td>Kotty Women Black Wide Leg High-Rise Clean Loo...</td>\n",
       "      <td>1999.0</td>\n",
       "      <td>Black</td>\n",
       "      <td>Kotty</td>\n",
       "      <td>12260.0</td>\n",
       "      <td>4.078467</td>\n",
       "      <td>Black dark wash 4-pocket high-rise jeans, clea...</td>\n",
       "      <td>{'Add-Ons': 'NA', 'Brand Fit Name': 'NA', 'Clo...</td>\n",
       "      <td>482.0</td>\n",
       "      <td>Kotty</td>\n",
       "    </tr>\n",
       "    <tr>\n",
       "      <th>...</th>\n",
       "      <td>...</td>\n",
       "      <td>...</td>\n",
       "      <td>...</td>\n",
       "      <td>...</td>\n",
       "      <td>...</td>\n",
       "      <td>...</td>\n",
       "      <td>...</td>\n",
       "      <td>...</td>\n",
       "      <td>...</td>\n",
       "      <td>...</td>\n",
       "      <td>...</td>\n",
       "    </tr>\n",
       "    <tr>\n",
       "      <th>14265</th>\n",
       "      <td>17029604.0</td>\n",
       "      <td>The Chennai Silks Pink &amp; Silver-Toned Floral Z...</td>\n",
       "      <td>3999.0</td>\n",
       "      <td>Pink</td>\n",
       "      <td>The Chennai Silks</td>\n",
       "      <td>NaN</td>\n",
       "      <td>NaN</td>\n",
       "      <td>&lt;b&gt;Design Details &lt;/b&gt;&lt;ul&gt;&lt;li&gt;Pink and silver-...</td>\n",
       "      <td>{'Better Cotton Initiative': 'Regular', 'Blous...</td>\n",
       "      <td>880.0</td>\n",
       "      <td>The Chennai Silks</td>\n",
       "    </tr>\n",
       "    <tr>\n",
       "      <th>14266</th>\n",
       "      <td>17600212.0</td>\n",
       "      <td>Kinder Kids Girls Blue &amp; Green Printed Foil Pr...</td>\n",
       "      <td>2050.0</td>\n",
       "      <td>Blue</td>\n",
       "      <td>Kinder Kids</td>\n",
       "      <td>NaN</td>\n",
       "      <td>NaN</td>\n",
       "      <td>Blue and green printed lehenga choli,  has foi...</td>\n",
       "      <td>{'Blouse Closure': 'NA', 'Blouse Fabric': 'Cot...</td>\n",
       "      <td>471.0</td>\n",
       "      <td>Kinder Kids</td>\n",
       "    </tr>\n",
       "    <tr>\n",
       "      <th>14267</th>\n",
       "      <td>18159266.0</td>\n",
       "      <td>KLOTTHE Women Green &amp; Black Floral Printed Pal...</td>\n",
       "      <td>1659.0</td>\n",
       "      <td>Green</td>\n",
       "      <td>KLOTTHE</td>\n",
       "      <td>NaN</td>\n",
       "      <td>NaN</td>\n",
       "      <td>&lt;ul&gt; &lt;li&gt; Green and black woven palazzos &lt;/li&gt;...</td>\n",
       "      <td>{'Body or Garment Size': 'To-Fit Denotes Body ...</td>\n",
       "      <td>NaN</td>\n",
       "      <td>None</td>\n",
       "    </tr>\n",
       "    <tr>\n",
       "      <th>14268</th>\n",
       "      <td>18921114.0</td>\n",
       "      <td>InWeave Women Red Printed A-Line Skirt</td>\n",
       "      <td>2399.0</td>\n",
       "      <td>Red</td>\n",
       "      <td>InWeave</td>\n",
       "      <td>NaN</td>\n",
       "      <td>NaN</td>\n",
       "      <td>&lt;p&gt;Red printed A-line skirt, has drawstring cl...</td>\n",
       "      <td>{'Add-Ons': 'NA', 'Body Shape ID': '324,333,42...</td>\n",
       "      <td>NaN</td>\n",
       "      <td>None</td>\n",
       "    </tr>\n",
       "    <tr>\n",
       "      <th>14269</th>\n",
       "      <td>19361058.0</td>\n",
       "      <td>BoStreet Women Navy Blue Tapered Fit Trousers</td>\n",
       "      <td>2599.0</td>\n",
       "      <td>Navy Blue</td>\n",
       "      <td>BoStreet</td>\n",
       "      <td>NaN</td>\n",
       "      <td>NaN</td>\n",
       "      <td>&lt;ul&gt; &lt;li&gt; Navy blue knitted trousers &lt;/li&gt; &lt;li...</td>\n",
       "      <td>{'Add-Ons': 'NA', 'Body Shape ID': '443,333,42...</td>\n",
       "      <td>NaN</td>\n",
       "      <td>None</td>\n",
       "    </tr>\n",
       "  </tbody>\n",
       "</table>\n",
       "<p>14270 rows × 11 columns</p>\n",
       "</div>"
      ],
      "text/plain": [
       "             p_id                                               name   price  \\\n",
       "0       1518329.0   Dupatta Bazaar White Embroidered Chiffon Dupatta   899.0   \n",
       "1       5829334.0  Roadster Women Mustard Yellow Solid Hooded Swe...  1199.0   \n",
       "2      10340119.0  Inddus Peach-Coloured & Beige Unstitched Dress...  5799.0   \n",
       "3      10856380.0            SASSAFRAS Women Black Parallel Trousers  1499.0   \n",
       "4      12384822.0  Kotty Women Black Wide Leg High-Rise Clean Loo...  1999.0   \n",
       "...           ...                                                ...     ...   \n",
       "14265  17029604.0  The Chennai Silks Pink & Silver-Toned Floral Z...  3999.0   \n",
       "14266  17600212.0  Kinder Kids Girls Blue & Green Printed Foil Pr...  2050.0   \n",
       "14267  18159266.0  KLOTTHE Women Green & Black Floral Printed Pal...  1659.0   \n",
       "14268  18921114.0             InWeave Women Red Printed A-Line Skirt  2399.0   \n",
       "14269  19361058.0      BoStreet Women Navy Blue Tapered Fit Trousers  2599.0   \n",
       "\n",
       "          colour              brand  ratingCount  avg_rating  \\\n",
       "0          White     Dupatta Bazaar       1321.0    4.548827   \n",
       "1        Mustard           Roadster       5462.0    4.313255   \n",
       "2          Peach             Inddus        145.0    4.068966   \n",
       "3          Black          SASSAFRAS       9124.0    4.147523   \n",
       "4          Black              Kotty      12260.0    4.078467   \n",
       "...          ...                ...          ...         ...   \n",
       "14265       Pink  The Chennai Silks          NaN         NaN   \n",
       "14266       Blue        Kinder Kids          NaN         NaN   \n",
       "14267      Green            KLOTTHE          NaN         NaN   \n",
       "14268        Red            InWeave          NaN         NaN   \n",
       "14269  Navy Blue           BoStreet          NaN         NaN   \n",
       "\n",
       "                                             description  \\\n",
       "0      White embroidered&nbsp;dupattaChiffon<br>Hand-...   \n",
       "1      Mustard yellow solid sweatshirt, has a hood, t...   \n",
       "2      Peach-Coloured and beige woven design unstitch...   \n",
       "3      Black solid woven high-rise parallel trousers,...   \n",
       "4      Black dark wash 4-pocket high-rise jeans, clea...   \n",
       "...                                                  ...   \n",
       "14265  <b>Design Details </b><ul><li>Pink and silver-...   \n",
       "14266  Blue and green printed lehenga choli,  has foi...   \n",
       "14267  <ul> <li> Green and black woven palazzos </li>...   \n",
       "14268  <p>Red printed A-line skirt, has drawstring cl...   \n",
       "14269  <ul> <li> Navy blue knitted trousers </li> <li...   \n",
       "\n",
       "                                            p_attributes  brand_id  \\\n",
       "0      {'Occasion': 'Daily', 'Pattern': 'Embroidered'...     242.0   \n",
       "1      {'Body Shape ID': '443,424,324', 'Body or Garm...     750.0   \n",
       "2      {'Bottom Fabric': 'Cotton Blend', 'Bottom Patt...     389.0   \n",
       "3      {'Add-Ons': 'NA', 'Body Shape ID': '424', 'Bod...       NaN   \n",
       "4      {'Add-Ons': 'NA', 'Brand Fit Name': 'NA', 'Clo...     482.0   \n",
       "...                                                  ...       ...   \n",
       "14265  {'Better Cotton Initiative': 'Regular', 'Blous...     880.0   \n",
       "14266  {'Blouse Closure': 'NA', 'Blouse Fabric': 'Cot...     471.0   \n",
       "14267  {'Body or Garment Size': 'To-Fit Denotes Body ...       NaN   \n",
       "14268  {'Add-Ons': 'NA', 'Body Shape ID': '324,333,42...       NaN   \n",
       "14269  {'Add-Ons': 'NA', 'Body Shape ID': '443,333,42...       NaN   \n",
       "\n",
       "              brand_name  \n",
       "0         Dupatta Bazaar  \n",
       "1               Roadster  \n",
       "2                 Inddus  \n",
       "3                   None  \n",
       "4                  Kotty  \n",
       "...                  ...  \n",
       "14265  The Chennai Silks  \n",
       "14266        Kinder Kids  \n",
       "14267               None  \n",
       "14268               None  \n",
       "14269               None  \n",
       "\n",
       "[14270 rows x 11 columns]"
      ]
     },
     "execution_count": 12,
     "metadata": {},
     "output_type": "execute_result"
    }
   ],
   "source": [
    "merged_dataset = ps.sqldf(\"select fashion_dataset.*, brand_details.* from fashion_dataset left join brand_details on (fashion_dataset.brand = brand_details.brand_name)\")\n",
    "merged_dataset"
   ]
  },
  {
   "cell_type": "markdown",
   "id": "40c2042d",
   "metadata": {},
   "source": [
    ">Dropping unnecessary null values"
   ]
  },
  {
   "cell_type": "code",
   "execution_count": 13,
   "id": "66271e72",
   "metadata": {},
   "outputs": [
    {
     "data": {
      "text/plain": [
       "p_id               1\n",
       "name               2\n",
       "price              2\n",
       "colour             5\n",
       "brand              7\n",
       "ratingCount     7707\n",
       "avg_rating      7707\n",
       "description        2\n",
       "p_attributes       2\n",
       "brand_id        6199\n",
       "brand_name      6199\n",
       "dtype: int64"
      ]
     },
     "execution_count": 13,
     "metadata": {},
     "output_type": "execute_result"
    }
   ],
   "source": [
    "merged_dataset.isna().sum()"
   ]
  },
  {
   "cell_type": "code",
   "execution_count": 14,
   "id": "3dcc4d77",
   "metadata": {
    "scrolled": true
   },
   "outputs": [
    {
     "data": {
      "text/html": [
       "<div>\n",
       "<style scoped>\n",
       "    .dataframe tbody tr th:only-of-type {\n",
       "        vertical-align: middle;\n",
       "    }\n",
       "\n",
       "    .dataframe tbody tr th {\n",
       "        vertical-align: top;\n",
       "    }\n",
       "\n",
       "    .dataframe thead th {\n",
       "        text-align: right;\n",
       "    }\n",
       "</style>\n",
       "<table border=\"1\" class=\"dataframe\">\n",
       "  <thead>\n",
       "    <tr style=\"text-align: right;\">\n",
       "      <th></th>\n",
       "      <th>p_id</th>\n",
       "      <th>name</th>\n",
       "      <th>price</th>\n",
       "      <th>colour</th>\n",
       "      <th>brand</th>\n",
       "      <th>ratingCount</th>\n",
       "      <th>avg_rating</th>\n",
       "      <th>description</th>\n",
       "      <th>p_attributes</th>\n",
       "      <th>brand_id</th>\n",
       "      <th>brand_name</th>\n",
       "    </tr>\n",
       "  </thead>\n",
       "  <tbody>\n",
       "    <tr>\n",
       "      <th>0</th>\n",
       "      <td>1518329.0</td>\n",
       "      <td>Dupatta Bazaar White Embroidered Chiffon Dupatta</td>\n",
       "      <td>899.0</td>\n",
       "      <td>White</td>\n",
       "      <td>Dupatta Bazaar</td>\n",
       "      <td>1321.0</td>\n",
       "      <td>4.548827</td>\n",
       "      <td>White embroidered&amp;nbsp;dupattaChiffon&lt;br&gt;Hand-...</td>\n",
       "      <td>{'Occasion': 'Daily', 'Pattern': 'Embroidered'...</td>\n",
       "      <td>242.0</td>\n",
       "      <td>Dupatta Bazaar</td>\n",
       "    </tr>\n",
       "    <tr>\n",
       "      <th>1</th>\n",
       "      <td>5829334.0</td>\n",
       "      <td>Roadster Women Mustard Yellow Solid Hooded Swe...</td>\n",
       "      <td>1199.0</td>\n",
       "      <td>Mustard</td>\n",
       "      <td>Roadster</td>\n",
       "      <td>5462.0</td>\n",
       "      <td>4.313255</td>\n",
       "      <td>Mustard yellow solid sweatshirt, has a hood, t...</td>\n",
       "      <td>{'Body Shape ID': '443,424,324', 'Body or Garm...</td>\n",
       "      <td>750.0</td>\n",
       "      <td>Roadster</td>\n",
       "    </tr>\n",
       "    <tr>\n",
       "      <th>2</th>\n",
       "      <td>10340119.0</td>\n",
       "      <td>Inddus Peach-Coloured &amp; Beige Unstitched Dress...</td>\n",
       "      <td>5799.0</td>\n",
       "      <td>Peach</td>\n",
       "      <td>Inddus</td>\n",
       "      <td>145.0</td>\n",
       "      <td>4.068966</td>\n",
       "      <td>Peach-Coloured and beige woven design unstitch...</td>\n",
       "      <td>{'Bottom Fabric': 'Cotton Blend', 'Bottom Patt...</td>\n",
       "      <td>389.0</td>\n",
       "      <td>Inddus</td>\n",
       "    </tr>\n",
       "    <tr>\n",
       "      <th>3</th>\n",
       "      <td>10856380.0</td>\n",
       "      <td>SASSAFRAS Women Black Parallel Trousers</td>\n",
       "      <td>1499.0</td>\n",
       "      <td>Black</td>\n",
       "      <td>SASSAFRAS</td>\n",
       "      <td>9124.0</td>\n",
       "      <td>4.147523</td>\n",
       "      <td>Black solid woven high-rise parallel trousers,...</td>\n",
       "      <td>{'Add-Ons': 'NA', 'Body Shape ID': '424', 'Bod...</td>\n",
       "      <td>NaN</td>\n",
       "      <td>None</td>\n",
       "    </tr>\n",
       "    <tr>\n",
       "      <th>4</th>\n",
       "      <td>12384822.0</td>\n",
       "      <td>Kotty Women Black Wide Leg High-Rise Clean Loo...</td>\n",
       "      <td>1999.0</td>\n",
       "      <td>Black</td>\n",
       "      <td>Kotty</td>\n",
       "      <td>12260.0</td>\n",
       "      <td>4.078467</td>\n",
       "      <td>Black dark wash 4-pocket high-rise jeans, clea...</td>\n",
       "      <td>{'Add-Ons': 'NA', 'Brand Fit Name': 'NA', 'Clo...</td>\n",
       "      <td>482.0</td>\n",
       "      <td>Kotty</td>\n",
       "    </tr>\n",
       "  </tbody>\n",
       "</table>\n",
       "</div>"
      ],
      "text/plain": [
       "         p_id                                               name   price  \\\n",
       "0   1518329.0   Dupatta Bazaar White Embroidered Chiffon Dupatta   899.0   \n",
       "1   5829334.0  Roadster Women Mustard Yellow Solid Hooded Swe...  1199.0   \n",
       "2  10340119.0  Inddus Peach-Coloured & Beige Unstitched Dress...  5799.0   \n",
       "3  10856380.0            SASSAFRAS Women Black Parallel Trousers  1499.0   \n",
       "4  12384822.0  Kotty Women Black Wide Leg High-Rise Clean Loo...  1999.0   \n",
       "\n",
       "    colour           brand  ratingCount  avg_rating  \\\n",
       "0    White  Dupatta Bazaar       1321.0    4.548827   \n",
       "1  Mustard        Roadster       5462.0    4.313255   \n",
       "2    Peach          Inddus        145.0    4.068966   \n",
       "3    Black       SASSAFRAS       9124.0    4.147523   \n",
       "4    Black           Kotty      12260.0    4.078467   \n",
       "\n",
       "                                         description  \\\n",
       "0  White embroidered&nbsp;dupattaChiffon<br>Hand-...   \n",
       "1  Mustard yellow solid sweatshirt, has a hood, t...   \n",
       "2  Peach-Coloured and beige woven design unstitch...   \n",
       "3  Black solid woven high-rise parallel trousers,...   \n",
       "4  Black dark wash 4-pocket high-rise jeans, clea...   \n",
       "\n",
       "                                        p_attributes  brand_id      brand_name  \n",
       "0  {'Occasion': 'Daily', 'Pattern': 'Embroidered'...     242.0  Dupatta Bazaar  \n",
       "1  {'Body Shape ID': '443,424,324', 'Body or Garm...     750.0        Roadster  \n",
       "2  {'Bottom Fabric': 'Cotton Blend', 'Bottom Patt...     389.0          Inddus  \n",
       "3  {'Add-Ons': 'NA', 'Body Shape ID': '424', 'Bod...       NaN            None  \n",
       "4  {'Add-Ons': 'NA', 'Brand Fit Name': 'NA', 'Clo...     482.0           Kotty  "
      ]
     },
     "execution_count": 14,
     "metadata": {},
     "output_type": "execute_result"
    }
   ],
   "source": [
    "merged_dataset.head(5)"
   ]
  },
  {
   "cell_type": "code",
   "execution_count": 15,
   "id": "f4cd4811",
   "metadata": {},
   "outputs": [
    {
     "data": {
      "text/html": [
       "<div>\n",
       "<style scoped>\n",
       "    .dataframe tbody tr th:only-of-type {\n",
       "        vertical-align: middle;\n",
       "    }\n",
       "\n",
       "    .dataframe tbody tr th {\n",
       "        vertical-align: top;\n",
       "    }\n",
       "\n",
       "    .dataframe thead th {\n",
       "        text-align: right;\n",
       "    }\n",
       "</style>\n",
       "<table border=\"1\" class=\"dataframe\">\n",
       "  <thead>\n",
       "    <tr style=\"text-align: right;\">\n",
       "      <th></th>\n",
       "      <th>p_id</th>\n",
       "      <th>name</th>\n",
       "      <th>price</th>\n",
       "      <th>colour</th>\n",
       "      <th>brand</th>\n",
       "      <th>ratingCount</th>\n",
       "      <th>avg_rating</th>\n",
       "      <th>description</th>\n",
       "      <th>p_attributes</th>\n",
       "      <th>brand_id</th>\n",
       "      <th>brand_name</th>\n",
       "    </tr>\n",
       "  </thead>\n",
       "  <tbody>\n",
       "    <tr>\n",
       "      <th>0</th>\n",
       "      <td>None</td>\n",
       "      <td>None</td>\n",
       "      <td>None</td>\n",
       "      <td>None</td>\n",
       "      <td>None</td>\n",
       "      <td>None</td>\n",
       "      <td>None</td>\n",
       "      <td>None</td>\n",
       "      <td>None</td>\n",
       "      <td>None</td>\n",
       "      <td>None</td>\n",
       "    </tr>\n",
       "  </tbody>\n",
       "</table>\n",
       "</div>"
      ],
      "text/plain": [
       "   p_id  name price colour brand ratingCount avg_rating description  \\\n",
       "0  None  None  None   None  None        None       None        None   \n",
       "\n",
       "  p_attributes brand_id brand_name  \n",
       "0         None     None       None  "
      ]
     },
     "execution_count": 15,
     "metadata": {},
     "output_type": "execute_result"
    }
   ],
   "source": [
    "sqldf(\"select * from merged_dataset where p_id is null\")"
   ]
  },
  {
   "cell_type": "code",
   "execution_count": 16,
   "id": "b4d32fc4",
   "metadata": {},
   "outputs": [
    {
     "data": {
      "text/plain": [
       "p_id               0\n",
       "name               1\n",
       "price              1\n",
       "colour             4\n",
       "brand              6\n",
       "ratingCount     7706\n",
       "avg_rating      7706\n",
       "description        1\n",
       "p_attributes       1\n",
       "brand_id        6198\n",
       "brand_name      6198\n",
       "dtype: int64"
      ]
     },
     "execution_count": 16,
     "metadata": {},
     "output_type": "execute_result"
    }
   ],
   "source": [
    "merged_dataset.dropna(subset = \"p_id\", inplace = True)\n",
    "merged_dataset.isna().sum()"
   ]
  },
  {
   "cell_type": "code",
   "execution_count": 17,
   "id": "82ba8b0f",
   "metadata": {},
   "outputs": [
    {
     "data": {
      "text/html": [
       "<div>\n",
       "<style scoped>\n",
       "    .dataframe tbody tr th:only-of-type {\n",
       "        vertical-align: middle;\n",
       "    }\n",
       "\n",
       "    .dataframe tbody tr th {\n",
       "        vertical-align: top;\n",
       "    }\n",
       "\n",
       "    .dataframe thead th {\n",
       "        text-align: right;\n",
       "    }\n",
       "</style>\n",
       "<table border=\"1\" class=\"dataframe\">\n",
       "  <thead>\n",
       "    <tr style=\"text-align: right;\">\n",
       "      <th></th>\n",
       "      <th>p_id</th>\n",
       "      <th>name</th>\n",
       "      <th>price</th>\n",
       "      <th>colour</th>\n",
       "      <th>brand</th>\n",
       "      <th>ratingCount</th>\n",
       "      <th>avg_rating</th>\n",
       "      <th>description</th>\n",
       "      <th>p_attributes</th>\n",
       "      <th>brand_id</th>\n",
       "      <th>brand_name</th>\n",
       "    </tr>\n",
       "  </thead>\n",
       "  <tbody>\n",
       "    <tr>\n",
       "      <th>0</th>\n",
       "      <td>19068208.0</td>\n",
       "      <td>None</td>\n",
       "      <td>None</td>\n",
       "      <td>None</td>\n",
       "      <td>None</td>\n",
       "      <td>None</td>\n",
       "      <td>None</td>\n",
       "      <td>None</td>\n",
       "      <td>None</td>\n",
       "      <td>None</td>\n",
       "      <td>None</td>\n",
       "    </tr>\n",
       "  </tbody>\n",
       "</table>\n",
       "</div>"
      ],
      "text/plain": [
       "         p_id  name price colour brand ratingCount avg_rating description  \\\n",
       "0  19068208.0  None  None   None  None        None       None        None   \n",
       "\n",
       "  p_attributes brand_id brand_name  \n",
       "0         None     None       None  "
      ]
     },
     "execution_count": 17,
     "metadata": {},
     "output_type": "execute_result"
    }
   ],
   "source": [
    "sqldf(\"select * from merged_dataset where name is null\")"
   ]
  },
  {
   "cell_type": "code",
   "execution_count": 18,
   "id": "747bb813",
   "metadata": {
    "scrolled": true
   },
   "outputs": [
    {
     "data": {
      "text/plain": [
       "p_id               0\n",
       "name               0\n",
       "price              0\n",
       "colour             3\n",
       "brand              5\n",
       "ratingCount     7705\n",
       "avg_rating      7705\n",
       "description        0\n",
       "p_attributes       0\n",
       "brand_id        6197\n",
       "brand_name      6197\n",
       "dtype: int64"
      ]
     },
     "execution_count": 18,
     "metadata": {},
     "output_type": "execute_result"
    }
   ],
   "source": [
    "merged_dataset.dropna(subset = \"name\", inplace = True)\n",
    "merged_dataset.isna().sum()"
   ]
  },
  {
   "cell_type": "markdown",
   "id": "c1ce0a41",
   "metadata": {},
   "source": [
    ">Upon inspection, the rows where brand was null were duplicate rows, and were therefore dropped."
   ]
  },
  {
   "cell_type": "code",
   "execution_count": 19,
   "id": "09f4ace7",
   "metadata": {},
   "outputs": [
    {
     "data": {
      "text/plain": [
       "p_id               0\n",
       "name               0\n",
       "price              0\n",
       "colour             3\n",
       "brand              0\n",
       "ratingCount     7703\n",
       "avg_rating      7703\n",
       "description        0\n",
       "p_attributes       0\n",
       "brand_id        6192\n",
       "brand_name      6192\n",
       "dtype: int64"
      ]
     },
     "execution_count": 19,
     "metadata": {},
     "output_type": "execute_result"
    }
   ],
   "source": [
    "merged_dataset.dropna(subset = \"brand\", inplace = True)\n",
    "merged_dataset.isna().sum()"
   ]
  },
  {
   "cell_type": "markdown",
   "id": "1d8100a2",
   "metadata": {},
   "source": [
    ">Finding why there are null brand name and brand ID values"
   ]
  },
  {
   "cell_type": "code",
   "execution_count": 20,
   "id": "99adeca8",
   "metadata": {},
   "outputs": [
    {
     "data": {
      "text/html": [
       "<div>\n",
       "<style scoped>\n",
       "    .dataframe tbody tr th:only-of-type {\n",
       "        vertical-align: middle;\n",
       "    }\n",
       "\n",
       "    .dataframe tbody tr th {\n",
       "        vertical-align: top;\n",
       "    }\n",
       "\n",
       "    .dataframe thead th {\n",
       "        text-align: right;\n",
       "    }\n",
       "</style>\n",
       "<table border=\"1\" class=\"dataframe\">\n",
       "  <thead>\n",
       "    <tr style=\"text-align: right;\">\n",
       "      <th></th>\n",
       "      <th>brand</th>\n",
       "    </tr>\n",
       "  </thead>\n",
       "  <tbody>\n",
       "    <tr>\n",
       "      <th>0</th>\n",
       "      <td>SASSAFRAS</td>\n",
       "    </tr>\n",
       "    <tr>\n",
       "      <th>1</th>\n",
       "      <td>KASSUALLY</td>\n",
       "    </tr>\n",
       "    <tr>\n",
       "      <th>2</th>\n",
       "      <td>Saree mall</td>\n",
       "    </tr>\n",
       "    <tr>\n",
       "      <th>3</th>\n",
       "      <td>MONTREZ</td>\n",
       "    </tr>\n",
       "    <tr>\n",
       "      <th>4</th>\n",
       "      <td>DOLCE CRUDO</td>\n",
       "    </tr>\n",
       "    <tr>\n",
       "      <th>...</th>\n",
       "      <td>...</td>\n",
       "    </tr>\n",
       "    <tr>\n",
       "      <th>515</th>\n",
       "      <td>SARIYA</td>\n",
       "    </tr>\n",
       "    <tr>\n",
       "      <th>516</th>\n",
       "      <td>kasee</td>\n",
       "    </tr>\n",
       "    <tr>\n",
       "      <th>517</th>\n",
       "      <td>SHIVANGI clothing</td>\n",
       "    </tr>\n",
       "    <tr>\n",
       "      <th>518</th>\n",
       "      <td>ARTICALE</td>\n",
       "    </tr>\n",
       "    <tr>\n",
       "      <th>519</th>\n",
       "      <td>tantkatha</td>\n",
       "    </tr>\n",
       "  </tbody>\n",
       "</table>\n",
       "<p>520 rows × 1 columns</p>\n",
       "</div>"
      ],
      "text/plain": [
       "                 brand\n",
       "0            SASSAFRAS\n",
       "1            KASSUALLY\n",
       "2           Saree mall\n",
       "3              MONTREZ\n",
       "4          DOLCE CRUDO\n",
       "..                 ...\n",
       "515             SARIYA\n",
       "516              kasee\n",
       "517  SHIVANGI clothing\n",
       "518           ARTICALE\n",
       "519          tantkatha\n",
       "\n",
       "[520 rows x 1 columns]"
      ]
     },
     "execution_count": 20,
     "metadata": {},
     "output_type": "execute_result"
    }
   ],
   "source": [
    "sqldf(\"select distinct brand from merged_dataset where brand_id is null\")"
   ]
  },
  {
   "cell_type": "code",
   "execution_count": 21,
   "id": "37bd7135",
   "metadata": {},
   "outputs": [
    {
     "data": {
      "text/html": [
       "<div>\n",
       "<style scoped>\n",
       "    .dataframe tbody tr th:only-of-type {\n",
       "        vertical-align: middle;\n",
       "    }\n",
       "\n",
       "    .dataframe tbody tr th {\n",
       "        vertical-align: top;\n",
       "    }\n",
       "\n",
       "    .dataframe thead th {\n",
       "        text-align: right;\n",
       "    }\n",
       "</style>\n",
       "<table border=\"1\" class=\"dataframe\">\n",
       "  <thead>\n",
       "    <tr style=\"text-align: right;\">\n",
       "      <th></th>\n",
       "      <th>brand</th>\n",
       "      <th>brand_id</th>\n",
       "    </tr>\n",
       "  </thead>\n",
       "  <tbody>\n",
       "    <tr>\n",
       "      <th>0</th>\n",
       "      <td>SASSAFRAS</td>\n",
       "      <td>NaN</td>\n",
       "    </tr>\n",
       "    <tr>\n",
       "      <th>1</th>\n",
       "      <td>KASSUALLY</td>\n",
       "      <td>NaN</td>\n",
       "    </tr>\n",
       "    <tr>\n",
       "      <th>2</th>\n",
       "      <td>Saree mall</td>\n",
       "      <td>NaN</td>\n",
       "    </tr>\n",
       "    <tr>\n",
       "      <th>3</th>\n",
       "      <td>MONTREZ</td>\n",
       "      <td>NaN</td>\n",
       "    </tr>\n",
       "    <tr>\n",
       "      <th>4</th>\n",
       "      <td>DOLCE CRUDO</td>\n",
       "      <td>NaN</td>\n",
       "    </tr>\n",
       "    <tr>\n",
       "      <th>...</th>\n",
       "      <td>...</td>\n",
       "      <td>...</td>\n",
       "    </tr>\n",
       "    <tr>\n",
       "      <th>1015</th>\n",
       "      <td>Zigo</td>\n",
       "      <td>1011.0</td>\n",
       "    </tr>\n",
       "    <tr>\n",
       "      <th>1016</th>\n",
       "      <td>Zima Leto</td>\n",
       "      <td>1013.0</td>\n",
       "    </tr>\n",
       "    <tr>\n",
       "      <th>1017</th>\n",
       "      <td>Zink London</td>\n",
       "      <td>1014.0</td>\n",
       "    </tr>\n",
       "    <tr>\n",
       "      <th>1018</th>\n",
       "      <td>Ziva Fashion</td>\n",
       "      <td>1016.0</td>\n",
       "    </tr>\n",
       "    <tr>\n",
       "      <th>1019</th>\n",
       "      <td>Zivame</td>\n",
       "      <td>1017.0</td>\n",
       "    </tr>\n",
       "  </tbody>\n",
       "</table>\n",
       "<p>1020 rows × 2 columns</p>\n",
       "</div>"
      ],
      "text/plain": [
       "             brand  brand_id\n",
       "0        SASSAFRAS       NaN\n",
       "1        KASSUALLY       NaN\n",
       "2       Saree mall       NaN\n",
       "3          MONTREZ       NaN\n",
       "4      DOLCE CRUDO       NaN\n",
       "...            ...       ...\n",
       "1015          Zigo    1011.0\n",
       "1016     Zima Leto    1013.0\n",
       "1017   Zink London    1014.0\n",
       "1018  Ziva Fashion    1016.0\n",
       "1019        Zivame    1017.0\n",
       "\n",
       "[1020 rows x 2 columns]"
      ]
     },
     "execution_count": 21,
     "metadata": {},
     "output_type": "execute_result"
    }
   ],
   "source": [
    "sqldf(\"select distinct brand, brand_id from merged_dataset order by brand_id asc\")"
   ]
  },
  {
   "cell_type": "code",
   "execution_count": 22,
   "id": "d73e2b81",
   "metadata": {},
   "outputs": [
    {
     "data": {
      "text/html": [
       "<div>\n",
       "<style scoped>\n",
       "    .dataframe tbody tr th:only-of-type {\n",
       "        vertical-align: middle;\n",
       "    }\n",
       "\n",
       "    .dataframe tbody tr th {\n",
       "        vertical-align: top;\n",
       "    }\n",
       "\n",
       "    .dataframe thead th {\n",
       "        text-align: right;\n",
       "    }\n",
       "</style>\n",
       "<table border=\"1\" class=\"dataframe\">\n",
       "  <thead>\n",
       "    <tr style=\"text-align: right;\">\n",
       "      <th></th>\n",
       "      <th>brand_id</th>\n",
       "    </tr>\n",
       "  </thead>\n",
       "  <tbody>\n",
       "    <tr>\n",
       "      <th>0</th>\n",
       "      <td>NaN</td>\n",
       "    </tr>\n",
       "    <tr>\n",
       "      <th>1</th>\n",
       "      <td>1.0</td>\n",
       "    </tr>\n",
       "    <tr>\n",
       "      <th>2</th>\n",
       "      <td>2.0</td>\n",
       "    </tr>\n",
       "    <tr>\n",
       "      <th>3</th>\n",
       "      <td>3.0</td>\n",
       "    </tr>\n",
       "    <tr>\n",
       "      <th>4</th>\n",
       "      <td>7.0</td>\n",
       "    </tr>\n",
       "    <tr>\n",
       "      <th>...</th>\n",
       "      <td>...</td>\n",
       "    </tr>\n",
       "    <tr>\n",
       "      <th>496</th>\n",
       "      <td>1011.0</td>\n",
       "    </tr>\n",
       "    <tr>\n",
       "      <th>497</th>\n",
       "      <td>1013.0</td>\n",
       "    </tr>\n",
       "    <tr>\n",
       "      <th>498</th>\n",
       "      <td>1014.0</td>\n",
       "    </tr>\n",
       "    <tr>\n",
       "      <th>499</th>\n",
       "      <td>1016.0</td>\n",
       "    </tr>\n",
       "    <tr>\n",
       "      <th>500</th>\n",
       "      <td>1017.0</td>\n",
       "    </tr>\n",
       "  </tbody>\n",
       "</table>\n",
       "<p>501 rows × 1 columns</p>\n",
       "</div>"
      ],
      "text/plain": [
       "     brand_id\n",
       "0         NaN\n",
       "1         1.0\n",
       "2         2.0\n",
       "3         3.0\n",
       "4         7.0\n",
       "..        ...\n",
       "496    1011.0\n",
       "497    1013.0\n",
       "498    1014.0\n",
       "499    1016.0\n",
       "500    1017.0\n",
       "\n",
       "[501 rows x 1 columns]"
      ]
     },
     "execution_count": 22,
     "metadata": {},
     "output_type": "execute_result"
    }
   ],
   "source": [
    "sqldf(\"select distinct brand_id from merged_dataset order by brand_id asc\")"
   ]
  },
  {
   "cell_type": "code",
   "execution_count": 23,
   "id": "61d64823",
   "metadata": {},
   "outputs": [
    {
     "data": {
      "text/html": [
       "<div>\n",
       "<style scoped>\n",
       "    .dataframe tbody tr th:only-of-type {\n",
       "        vertical-align: middle;\n",
       "    }\n",
       "\n",
       "    .dataframe tbody tr th {\n",
       "        vertical-align: top;\n",
       "    }\n",
       "\n",
       "    .dataframe thead th {\n",
       "        text-align: right;\n",
       "    }\n",
       "</style>\n",
       "<table border=\"1\" class=\"dataframe\">\n",
       "  <thead>\n",
       "    <tr style=\"text-align: right;\">\n",
       "      <th></th>\n",
       "      <th>brand_id</th>\n",
       "    </tr>\n",
       "  </thead>\n",
       "  <tbody>\n",
       "  </tbody>\n",
       "</table>\n",
       "</div>"
      ],
      "text/plain": [
       "Empty DataFrame\n",
       "Columns: [brand_id]\n",
       "Index: []"
      ]
     },
     "execution_count": 23,
     "metadata": {},
     "output_type": "execute_result"
    }
   ],
   "source": [
    "sqldf(\"select brand_id from brand_details where brand_name = 'KASSUALLY'\")"
   ]
  },
  {
   "cell_type": "code",
   "execution_count": 24,
   "id": "84a9d6bb",
   "metadata": {},
   "outputs": [
    {
     "data": {
      "text/html": [
       "<div>\n",
       "<style scoped>\n",
       "    .dataframe tbody tr th:only-of-type {\n",
       "        vertical-align: middle;\n",
       "    }\n",
       "\n",
       "    .dataframe tbody tr th {\n",
       "        vertical-align: top;\n",
       "    }\n",
       "\n",
       "    .dataframe thead th {\n",
       "        text-align: right;\n",
       "    }\n",
       "</style>\n",
       "<table border=\"1\" class=\"dataframe\">\n",
       "  <thead>\n",
       "    <tr style=\"text-align: right;\">\n",
       "      <th></th>\n",
       "      <th>p_id</th>\n",
       "      <th>name</th>\n",
       "      <th>price</th>\n",
       "      <th>colour</th>\n",
       "      <th>brand</th>\n",
       "      <th>ratingCount</th>\n",
       "      <th>avg_rating</th>\n",
       "      <th>description</th>\n",
       "      <th>p_attributes</th>\n",
       "      <th>brand_id</th>\n",
       "      <th>brand_name</th>\n",
       "    </tr>\n",
       "  </thead>\n",
       "  <tbody>\n",
       "  </tbody>\n",
       "</table>\n",
       "</div>"
      ],
      "text/plain": [
       "Empty DataFrame\n",
       "Columns: [p_id, name, price, colour, brand, ratingCount, avg_rating, description, p_attributes, brand_id, brand_name]\n",
       "Index: []"
      ]
     },
     "execution_count": 24,
     "metadata": {},
     "output_type": "execute_result"
    }
   ],
   "source": [
    "sqldf(\"select distinct * from merged_dataset where brand is null\")"
   ]
  },
  {
   "cell_type": "code",
   "execution_count": 25,
   "id": "c49bfc0e",
   "metadata": {},
   "outputs": [
    {
     "data": {
      "text/html": [
       "<div>\n",
       "<style scoped>\n",
       "    .dataframe tbody tr th:only-of-type {\n",
       "        vertical-align: middle;\n",
       "    }\n",
       "\n",
       "    .dataframe tbody tr th {\n",
       "        vertical-align: top;\n",
       "    }\n",
       "\n",
       "    .dataframe thead th {\n",
       "        text-align: right;\n",
       "    }\n",
       "</style>\n",
       "<table border=\"1\" class=\"dataframe\">\n",
       "  <thead>\n",
       "    <tr style=\"text-align: right;\">\n",
       "      <th></th>\n",
       "      <th>p_id</th>\n",
       "      <th>name</th>\n",
       "      <th>price</th>\n",
       "      <th>colour</th>\n",
       "      <th>brand</th>\n",
       "      <th>ratingCount</th>\n",
       "      <th>avg_rating</th>\n",
       "      <th>description</th>\n",
       "      <th>p_attributes</th>\n",
       "      <th>brand_id</th>\n",
       "      <th>brand_name</th>\n",
       "    </tr>\n",
       "  </thead>\n",
       "  <tbody>\n",
       "    <tr>\n",
       "      <th>0</th>\n",
       "      <td>10856380.0</td>\n",
       "      <td>SASSAFRAS Women Black Parallel Trousers</td>\n",
       "      <td>1499.0</td>\n",
       "      <td>Black</td>\n",
       "      <td>SASSAFRAS</td>\n",
       "      <td>9124.0</td>\n",
       "      <td>4.147523</td>\n",
       "      <td>Black solid woven high-rise parallel trousers,...</td>\n",
       "      <td>{'Add-Ons': 'NA', 'Body Shape ID': '424', 'Bod...</td>\n",
       "      <td>None</td>\n",
       "      <td>None</td>\n",
       "    </tr>\n",
       "    <tr>\n",
       "      <th>1</th>\n",
       "      <td>12742100.0</td>\n",
       "      <td>KASSUALLY Women Black &amp; Pink Printed Basic Jum...</td>\n",
       "      <td>2199.0</td>\n",
       "      <td>Black</td>\n",
       "      <td>KASSUALLY</td>\n",
       "      <td>6297.0</td>\n",
       "      <td>4.349214</td>\n",
       "      <td>Black printed basic jumpsuit, has a V-neck, lo...</td>\n",
       "      <td>{'Body or Garment Size': 'Garment Measurements...</td>\n",
       "      <td>None</td>\n",
       "      <td>None</td>\n",
       "    </tr>\n",
       "    <tr>\n",
       "      <th>2</th>\n",
       "      <td>13842966.0</td>\n",
       "      <td>Sassafras Brown &amp; Red Geometric Printed George...</td>\n",
       "      <td>1499.0</td>\n",
       "      <td>Brown</td>\n",
       "      <td>SASSAFRAS</td>\n",
       "      <td>7358.0</td>\n",
       "      <td>4.395352</td>\n",
       "      <td>&lt;ul&gt;&lt;li&gt;Brown and red crop wrap top&lt;/li&gt;&lt;li&gt;Pr...</td>\n",
       "      <td>{'Body Shape ID': '333,424', 'Body or Garment ...</td>\n",
       "      <td>None</td>\n",
       "      <td>None</td>\n",
       "    </tr>\n",
       "    <tr>\n",
       "      <th>3</th>\n",
       "      <td>16595858.0</td>\n",
       "      <td>Saree Mall Floral Saree</td>\n",
       "      <td>3599.0</td>\n",
       "      <td>Pink</td>\n",
       "      <td>Saree mall</td>\n",
       "      <td>1005.0</td>\n",
       "      <td>3.980100</td>\n",
       "      <td>Dress up or dress down this modish saree for a...</td>\n",
       "      <td>{'Blouse': 'Blouse Piece', 'Blouse Fabric': 'O...</td>\n",
       "      <td>None</td>\n",
       "      <td>None</td>\n",
       "    </tr>\n",
       "    <tr>\n",
       "      <th>4</th>\n",
       "      <td>18601482.0</td>\n",
       "      <td>MONTREZ Women White Black Open Front Jacket</td>\n",
       "      <td>1999.0</td>\n",
       "      <td>White</td>\n",
       "      <td>MONTREZ</td>\n",
       "      <td>61.0</td>\n",
       "      <td>4.377049</td>\n",
       "      <td>White graphic printed open front jacket,  has ...</td>\n",
       "      <td>{'Add-Ons': 'NA', 'Body Shape ID': '424', 'Bod...</td>\n",
       "      <td>None</td>\n",
       "      <td>None</td>\n",
       "    </tr>\n",
       "    <tr>\n",
       "      <th>...</th>\n",
       "      <td>...</td>\n",
       "      <td>...</td>\n",
       "      <td>...</td>\n",
       "      <td>...</td>\n",
       "      <td>...</td>\n",
       "      <td>...</td>\n",
       "      <td>...</td>\n",
       "      <td>...</td>\n",
       "      <td>...</td>\n",
       "      <td>...</td>\n",
       "      <td>...</td>\n",
       "    </tr>\n",
       "    <tr>\n",
       "      <th>6187</th>\n",
       "      <td>18055840.0</td>\n",
       "      <td>tantkatha Black Front Closure Saree Blouse Wit...</td>\n",
       "      <td>1699.0</td>\n",
       "      <td>Black</td>\n",
       "      <td>tantkatha</td>\n",
       "      <td>NaN</td>\n",
       "      <td>NaN</td>\n",
       "      <td>Black Front Closure Blouse With Embellished Ne...</td>\n",
       "      <td>{'Body or Garment Size': 'Garment Measurements...</td>\n",
       "      <td>None</td>\n",
       "      <td>None</td>\n",
       "    </tr>\n",
       "    <tr>\n",
       "      <th>6188</th>\n",
       "      <td>19361072.0</td>\n",
       "      <td>BoStreet Women Green Solid Mom Fit Trousers</td>\n",
       "      <td>2599.0</td>\n",
       "      <td>Green</td>\n",
       "      <td>BoStreet</td>\n",
       "      <td>NaN</td>\n",
       "      <td>NaN</td>\n",
       "      <td>&lt;ul&gt;&lt;li&gt;Green knitted parallel&lt;/li&gt;&lt;li&gt;Mom fit...</td>\n",
       "      <td>{'Add-Ons': 'NA', 'Body or Garment Size': 'To-...</td>\n",
       "      <td>None</td>\n",
       "      <td>None</td>\n",
       "    </tr>\n",
       "    <tr>\n",
       "      <th>6189</th>\n",
       "      <td>18159266.0</td>\n",
       "      <td>KLOTTHE Women Green &amp; Black Floral Printed Pal...</td>\n",
       "      <td>1659.0</td>\n",
       "      <td>Green</td>\n",
       "      <td>KLOTTHE</td>\n",
       "      <td>NaN</td>\n",
       "      <td>NaN</td>\n",
       "      <td>&lt;ul&gt; &lt;li&gt; Green and black woven palazzos &lt;/li&gt;...</td>\n",
       "      <td>{'Body or Garment Size': 'To-Fit Denotes Body ...</td>\n",
       "      <td>None</td>\n",
       "      <td>None</td>\n",
       "    </tr>\n",
       "    <tr>\n",
       "      <th>6190</th>\n",
       "      <td>18921114.0</td>\n",
       "      <td>InWeave Women Red Printed A-Line Skirt</td>\n",
       "      <td>2399.0</td>\n",
       "      <td>Red</td>\n",
       "      <td>InWeave</td>\n",
       "      <td>NaN</td>\n",
       "      <td>NaN</td>\n",
       "      <td>&lt;p&gt;Red printed A-line skirt, has drawstring cl...</td>\n",
       "      <td>{'Add-Ons': 'NA', 'Body Shape ID': '324,333,42...</td>\n",
       "      <td>None</td>\n",
       "      <td>None</td>\n",
       "    </tr>\n",
       "    <tr>\n",
       "      <th>6191</th>\n",
       "      <td>19361058.0</td>\n",
       "      <td>BoStreet Women Navy Blue Tapered Fit Trousers</td>\n",
       "      <td>2599.0</td>\n",
       "      <td>Navy Blue</td>\n",
       "      <td>BoStreet</td>\n",
       "      <td>NaN</td>\n",
       "      <td>NaN</td>\n",
       "      <td>&lt;ul&gt; &lt;li&gt; Navy blue knitted trousers &lt;/li&gt; &lt;li...</td>\n",
       "      <td>{'Add-Ons': 'NA', 'Body Shape ID': '443,333,42...</td>\n",
       "      <td>None</td>\n",
       "      <td>None</td>\n",
       "    </tr>\n",
       "  </tbody>\n",
       "</table>\n",
       "<p>6192 rows × 11 columns</p>\n",
       "</div>"
      ],
      "text/plain": [
       "            p_id                                               name   price  \\\n",
       "0     10856380.0            SASSAFRAS Women Black Parallel Trousers  1499.0   \n",
       "1     12742100.0  KASSUALLY Women Black & Pink Printed Basic Jum...  2199.0   \n",
       "2     13842966.0  Sassafras Brown & Red Geometric Printed George...  1499.0   \n",
       "3     16595858.0                            Saree Mall Floral Saree  3599.0   \n",
       "4     18601482.0        MONTREZ Women White Black Open Front Jacket  1999.0   \n",
       "...          ...                                                ...     ...   \n",
       "6187  18055840.0  tantkatha Black Front Closure Saree Blouse Wit...  1699.0   \n",
       "6188  19361072.0        BoStreet Women Green Solid Mom Fit Trousers  2599.0   \n",
       "6189  18159266.0  KLOTTHE Women Green & Black Floral Printed Pal...  1659.0   \n",
       "6190  18921114.0             InWeave Women Red Printed A-Line Skirt  2399.0   \n",
       "6191  19361058.0      BoStreet Women Navy Blue Tapered Fit Trousers  2599.0   \n",
       "\n",
       "         colour       brand  ratingCount  avg_rating  \\\n",
       "0         Black   SASSAFRAS       9124.0    4.147523   \n",
       "1         Black   KASSUALLY       6297.0    4.349214   \n",
       "2         Brown   SASSAFRAS       7358.0    4.395352   \n",
       "3          Pink  Saree mall       1005.0    3.980100   \n",
       "4         White     MONTREZ         61.0    4.377049   \n",
       "...         ...         ...          ...         ...   \n",
       "6187      Black   tantkatha          NaN         NaN   \n",
       "6188      Green    BoStreet          NaN         NaN   \n",
       "6189      Green     KLOTTHE          NaN         NaN   \n",
       "6190        Red     InWeave          NaN         NaN   \n",
       "6191  Navy Blue    BoStreet          NaN         NaN   \n",
       "\n",
       "                                            description  \\\n",
       "0     Black solid woven high-rise parallel trousers,...   \n",
       "1     Black printed basic jumpsuit, has a V-neck, lo...   \n",
       "2     <ul><li>Brown and red crop wrap top</li><li>Pr...   \n",
       "3     Dress up or dress down this modish saree for a...   \n",
       "4     White graphic printed open front jacket,  has ...   \n",
       "...                                                 ...   \n",
       "6187  Black Front Closure Blouse With Embellished Ne...   \n",
       "6188  <ul><li>Green knitted parallel</li><li>Mom fit...   \n",
       "6189  <ul> <li> Green and black woven palazzos </li>...   \n",
       "6190  <p>Red printed A-line skirt, has drawstring cl...   \n",
       "6191  <ul> <li> Navy blue knitted trousers </li> <li...   \n",
       "\n",
       "                                           p_attributes brand_id brand_name  \n",
       "0     {'Add-Ons': 'NA', 'Body Shape ID': '424', 'Bod...     None       None  \n",
       "1     {'Body or Garment Size': 'Garment Measurements...     None       None  \n",
       "2     {'Body Shape ID': '333,424', 'Body or Garment ...     None       None  \n",
       "3     {'Blouse': 'Blouse Piece', 'Blouse Fabric': 'O...     None       None  \n",
       "4     {'Add-Ons': 'NA', 'Body Shape ID': '424', 'Bod...     None       None  \n",
       "...                                                 ...      ...        ...  \n",
       "6187  {'Body or Garment Size': 'Garment Measurements...     None       None  \n",
       "6188  {'Add-Ons': 'NA', 'Body or Garment Size': 'To-...     None       None  \n",
       "6189  {'Body or Garment Size': 'To-Fit Denotes Body ...     None       None  \n",
       "6190  {'Add-Ons': 'NA', 'Body Shape ID': '324,333,42...     None       None  \n",
       "6191  {'Add-Ons': 'NA', 'Body Shape ID': '443,333,42...     None       None  \n",
       "\n",
       "[6192 rows x 11 columns]"
      ]
     },
     "execution_count": 25,
     "metadata": {},
     "output_type": "execute_result"
    }
   ],
   "source": [
    "sqldf(\"select * from merged_dataset where brand_name is null\")"
   ]
  },
  {
   "cell_type": "code",
   "execution_count": 26,
   "id": "cf8a0812",
   "metadata": {},
   "outputs": [
    {
     "data": {
      "text/html": [
       "<div>\n",
       "<style scoped>\n",
       "    .dataframe tbody tr th:only-of-type {\n",
       "        vertical-align: middle;\n",
       "    }\n",
       "\n",
       "    .dataframe tbody tr th {\n",
       "        vertical-align: top;\n",
       "    }\n",
       "\n",
       "    .dataframe thead th {\n",
       "        text-align: right;\n",
       "    }\n",
       "</style>\n",
       "<table border=\"1\" class=\"dataframe\">\n",
       "  <thead>\n",
       "    <tr style=\"text-align: right;\">\n",
       "      <th></th>\n",
       "      <th>count(distinct brand_id)</th>\n",
       "    </tr>\n",
       "  </thead>\n",
       "  <tbody>\n",
       "    <tr>\n",
       "      <th>0</th>\n",
       "      <td>500</td>\n",
       "    </tr>\n",
       "  </tbody>\n",
       "</table>\n",
       "</div>"
      ],
      "text/plain": [
       "   count(distinct brand_id)\n",
       "0                       500"
      ]
     },
     "execution_count": 26,
     "metadata": {},
     "output_type": "execute_result"
    }
   ],
   "source": [
    "sqldf(\"select count(distinct brand_id) from merged_dataset\")"
   ]
  },
  {
   "cell_type": "code",
   "execution_count": 27,
   "id": "8f23bb0e",
   "metadata": {},
   "outputs": [
    {
     "data": {
      "text/html": [
       "<div>\n",
       "<style scoped>\n",
       "    .dataframe tbody tr th:only-of-type {\n",
       "        vertical-align: middle;\n",
       "    }\n",
       "\n",
       "    .dataframe tbody tr th {\n",
       "        vertical-align: top;\n",
       "    }\n",
       "\n",
       "    .dataframe thead th {\n",
       "        text-align: right;\n",
       "    }\n",
       "</style>\n",
       "<table border=\"1\" class=\"dataframe\">\n",
       "  <thead>\n",
       "    <tr style=\"text-align: right;\">\n",
       "      <th></th>\n",
       "      <th>max(brand_id)</th>\n",
       "      <th>brand_name</th>\n",
       "    </tr>\n",
       "  </thead>\n",
       "  <tbody>\n",
       "    <tr>\n",
       "      <th>0</th>\n",
       "      <td>1020</td>\n",
       "      <td>Zola</td>\n",
       "    </tr>\n",
       "  </tbody>\n",
       "</table>\n",
       "</div>"
      ],
      "text/plain": [
       "   max(brand_id) brand_name\n",
       "0           1020       Zola"
      ]
     },
     "execution_count": 27,
     "metadata": {},
     "output_type": "execute_result"
    }
   ],
   "source": [
    "sqldf(\"select max(brand_id), brand_name from brand_details\")"
   ]
  },
  {
   "cell_type": "markdown",
   "id": "2107355b",
   "metadata": {},
   "source": [
    ">Getting rid of null values in brand and brand ID by assigning new IDs"
   ]
  },
  {
   "cell_type": "code",
   "execution_count": 28,
   "id": "a32d9f4d",
   "metadata": {},
   "outputs": [
    {
     "data": {
      "text/html": [
       "<div>\n",
       "<style scoped>\n",
       "    .dataframe tbody tr th:only-of-type {\n",
       "        vertical-align: middle;\n",
       "    }\n",
       "\n",
       "    .dataframe tbody tr th {\n",
       "        vertical-align: top;\n",
       "    }\n",
       "\n",
       "    .dataframe thead th {\n",
       "        text-align: right;\n",
       "    }\n",
       "</style>\n",
       "<table border=\"1\" class=\"dataframe\">\n",
       "  <thead>\n",
       "    <tr style=\"text-align: right;\">\n",
       "      <th></th>\n",
       "      <th>brand</th>\n",
       "      <th>brand_id</th>\n",
       "    </tr>\n",
       "  </thead>\n",
       "  <tbody>\n",
       "    <tr>\n",
       "      <th>0</th>\n",
       "      <td>109F</td>\n",
       "      <td>2.0</td>\n",
       "    </tr>\n",
       "    <tr>\n",
       "      <th>1</th>\n",
       "      <td>20Dresses</td>\n",
       "      <td>3.0</td>\n",
       "    </tr>\n",
       "    <tr>\n",
       "      <th>2</th>\n",
       "      <td>250 DESIGNS</td>\n",
       "      <td>NaN</td>\n",
       "    </tr>\n",
       "    <tr>\n",
       "      <th>3</th>\n",
       "      <td>3PIN</td>\n",
       "      <td>NaN</td>\n",
       "    </tr>\n",
       "    <tr>\n",
       "      <th>4</th>\n",
       "      <td>513</td>\n",
       "      <td>1.0</td>\n",
       "    </tr>\n",
       "    <tr>\n",
       "      <th>...</th>\n",
       "      <td>...</td>\n",
       "      <td>...</td>\n",
       "    </tr>\n",
       "    <tr>\n",
       "      <th>1015</th>\n",
       "      <td>trueBrowns</td>\n",
       "      <td>NaN</td>\n",
       "    </tr>\n",
       "    <tr>\n",
       "      <th>1016</th>\n",
       "      <td>urSense</td>\n",
       "      <td>NaN</td>\n",
       "    </tr>\n",
       "    <tr>\n",
       "      <th>1017</th>\n",
       "      <td>wild U</td>\n",
       "      <td>NaN</td>\n",
       "    </tr>\n",
       "    <tr>\n",
       "      <th>1018</th>\n",
       "      <td>zebu</td>\n",
       "      <td>NaN</td>\n",
       "    </tr>\n",
       "    <tr>\n",
       "      <th>1019</th>\n",
       "      <td>zink Z</td>\n",
       "      <td>NaN</td>\n",
       "    </tr>\n",
       "  </tbody>\n",
       "</table>\n",
       "<p>1020 rows × 2 columns</p>\n",
       "</div>"
      ],
      "text/plain": [
       "            brand  brand_id\n",
       "0            109F       2.0\n",
       "1       20Dresses       3.0\n",
       "2     250 DESIGNS       NaN\n",
       "3            3PIN       NaN\n",
       "4             513       1.0\n",
       "...           ...       ...\n",
       "1015   trueBrowns       NaN\n",
       "1016      urSense       NaN\n",
       "1017       wild U       NaN\n",
       "1018         zebu       NaN\n",
       "1019       zink Z       NaN\n",
       "\n",
       "[1020 rows x 2 columns]"
      ]
     },
     "execution_count": 28,
     "metadata": {},
     "output_type": "execute_result"
    }
   ],
   "source": [
    "new_id = sqldf(\"select distinct brand, brand_id from merged_dataset order by brand asc\")\n",
    "new_id"
   ]
  },
  {
   "cell_type": "code",
   "execution_count": 29,
   "id": "83abac95",
   "metadata": {
    "scrolled": false
   },
   "outputs": [
    {
     "data": {
      "text/html": [
       "<div>\n",
       "<style scoped>\n",
       "    .dataframe tbody tr th:only-of-type {\n",
       "        vertical-align: middle;\n",
       "    }\n",
       "\n",
       "    .dataframe tbody tr th {\n",
       "        vertical-align: top;\n",
       "    }\n",
       "\n",
       "    .dataframe thead th {\n",
       "        text-align: right;\n",
       "    }\n",
       "</style>\n",
       "<table border=\"1\" class=\"dataframe\">\n",
       "  <thead>\n",
       "    <tr style=\"text-align: right;\">\n",
       "      <th></th>\n",
       "      <th>brand</th>\n",
       "      <th>brand_id</th>\n",
       "    </tr>\n",
       "  </thead>\n",
       "  <tbody>\n",
       "    <tr>\n",
       "      <th>0</th>\n",
       "      <td>109F</td>\n",
       "      <td>1</td>\n",
       "    </tr>\n",
       "    <tr>\n",
       "      <th>1</th>\n",
       "      <td>20Dresses</td>\n",
       "      <td>2</td>\n",
       "    </tr>\n",
       "    <tr>\n",
       "      <th>2</th>\n",
       "      <td>250 DESIGNS</td>\n",
       "      <td>3</td>\n",
       "    </tr>\n",
       "    <tr>\n",
       "      <th>3</th>\n",
       "      <td>3PIN</td>\n",
       "      <td>4</td>\n",
       "    </tr>\n",
       "    <tr>\n",
       "      <th>4</th>\n",
       "      <td>513</td>\n",
       "      <td>5</td>\n",
       "    </tr>\n",
       "    <tr>\n",
       "      <th>...</th>\n",
       "      <td>...</td>\n",
       "      <td>...</td>\n",
       "    </tr>\n",
       "    <tr>\n",
       "      <th>1015</th>\n",
       "      <td>trueBrowns</td>\n",
       "      <td>1016</td>\n",
       "    </tr>\n",
       "    <tr>\n",
       "      <th>1016</th>\n",
       "      <td>urSense</td>\n",
       "      <td>1017</td>\n",
       "    </tr>\n",
       "    <tr>\n",
       "      <th>1017</th>\n",
       "      <td>wild U</td>\n",
       "      <td>1018</td>\n",
       "    </tr>\n",
       "    <tr>\n",
       "      <th>1018</th>\n",
       "      <td>zebu</td>\n",
       "      <td>1019</td>\n",
       "    </tr>\n",
       "    <tr>\n",
       "      <th>1019</th>\n",
       "      <td>zink Z</td>\n",
       "      <td>1020</td>\n",
       "    </tr>\n",
       "  </tbody>\n",
       "</table>\n",
       "<p>1020 rows × 2 columns</p>\n",
       "</div>"
      ],
      "text/plain": [
       "            brand  brand_id\n",
       "0            109F         1\n",
       "1       20Dresses         2\n",
       "2     250 DESIGNS         3\n",
       "3            3PIN         4\n",
       "4             513         5\n",
       "...           ...       ...\n",
       "1015   trueBrowns      1016\n",
       "1016      urSense      1017\n",
       "1017       wild U      1018\n",
       "1018         zebu      1019\n",
       "1019       zink Z      1020\n",
       "\n",
       "[1020 rows x 2 columns]"
      ]
     },
     "execution_count": 29,
     "metadata": {},
     "output_type": "execute_result"
    }
   ],
   "source": [
    "new_id.loc[:, 'brand_id'] = range(1, 1021)\n",
    "new_id"
   ]
  },
  {
   "cell_type": "code",
   "execution_count": 30,
   "id": "b8284896",
   "metadata": {},
   "outputs": [
    {
     "data": {
      "text/plain": [
       "p_id               0\n",
       "name               0\n",
       "price              0\n",
       "colour             3\n",
       "brand              0\n",
       "ratingCount     7703\n",
       "avg_rating      7703\n",
       "description        0\n",
       "p_attributes       0\n",
       "brand_id           0\n",
       "dtype: int64"
      ]
     },
     "execution_count": 30,
     "metadata": {},
     "output_type": "execute_result"
    }
   ],
   "source": [
    "dataset_final = sqldf(\"select p_id, merged_dataset.name, merged_dataset.price, merged_dataset.colour, merged_dataset.brand, merged_dataset.ratingCount, merged_dataset.avg_rating, merged_dataset.description, merged_dataset.p_attributes, new_id.brand_id from merged_dataset left join new_id on (merged_dataset.brand = new_id.brand)\")\n",
    "dataset_final.isna().sum()"
   ]
  },
  {
   "cell_type": "markdown",
   "id": "543a8224",
   "metadata": {},
   "source": [
    ">Filling in remaining null values"
   ]
  },
  {
   "cell_type": "code",
   "execution_count": 31,
   "id": "bb37cfae",
   "metadata": {
    "scrolled": false
   },
   "outputs": [
    {
     "data": {
      "text/html": [
       "<div>\n",
       "<style scoped>\n",
       "    .dataframe tbody tr th:only-of-type {\n",
       "        vertical-align: middle;\n",
       "    }\n",
       "\n",
       "    .dataframe tbody tr th {\n",
       "        vertical-align: top;\n",
       "    }\n",
       "\n",
       "    .dataframe thead th {\n",
       "        text-align: right;\n",
       "    }\n",
       "</style>\n",
       "<table border=\"1\" class=\"dataframe\">\n",
       "  <thead>\n",
       "    <tr style=\"text-align: right;\">\n",
       "      <th></th>\n",
       "      <th>p_id</th>\n",
       "      <th>name</th>\n",
       "      <th>price</th>\n",
       "      <th>colour</th>\n",
       "      <th>brand</th>\n",
       "      <th>ratingCount</th>\n",
       "      <th>avg_rating</th>\n",
       "      <th>description</th>\n",
       "      <th>p_attributes</th>\n",
       "      <th>brand_id</th>\n",
       "    </tr>\n",
       "  </thead>\n",
       "  <tbody>\n",
       "    <tr>\n",
       "      <th>0</th>\n",
       "      <td>19145038.0</td>\n",
       "      <td>Baisacrafts Women Pure Cotton Kurta with Trous...</td>\n",
       "      <td>5450.0</td>\n",
       "      <td>None</td>\n",
       "      <td>Baisacrafts</td>\n",
       "      <td>None</td>\n",
       "      <td>None</td>\n",
       "      <td>Solid Kurta with Trousers with dupatta&lt;br&gt;&lt;br&gt;...</td>\n",
       "      <td>{'Add-Ons': 'NA', 'Body Shape ID': '333,424', ...</td>\n",
       "      <td>109</td>\n",
       "    </tr>\n",
       "    <tr>\n",
       "      <th>1</th>\n",
       "      <td>19142060.0</td>\n",
       "      <td>LIVE OK Women Boyfriend Fit High-Rise Stretcha...</td>\n",
       "      <td>1999.0</td>\n",
       "      <td>None</td>\n",
       "      <td>LIVE OK</td>\n",
       "      <td>None</td>\n",
       "      <td>None</td>\n",
       "      <td>&lt;ul&gt; &lt;li&gt; Dark shade,  no fade jeans &lt;/li&gt; &lt;li...</td>\n",
       "      <td>{'Add-Ons': 'NA', 'Body or Garment Size': 'To-...</td>\n",
       "      <td>463</td>\n",
       "    </tr>\n",
       "    <tr>\n",
       "      <th>2</th>\n",
       "      <td>16124786.0</td>\n",
       "      <td>MANGO Women Hooded Sweatshirt</td>\n",
       "      <td>2390.0</td>\n",
       "      <td>None</td>\n",
       "      <td>MANGO</td>\n",
       "      <td>None</td>\n",
       "      <td>None</td>\n",
       "      <td>Solid sweatshirt has a hooded, short drop shou...</td>\n",
       "      <td>{'Body Shape ID': '443,424,324', 'Body or Garm...</td>\n",
       "      <td>498</td>\n",
       "    </tr>\n",
       "  </tbody>\n",
       "</table>\n",
       "</div>"
      ],
      "text/plain": [
       "         p_id                                               name   price  \\\n",
       "0  19145038.0  Baisacrafts Women Pure Cotton Kurta with Trous...  5450.0   \n",
       "1  19142060.0  LIVE OK Women Boyfriend Fit High-Rise Stretcha...  1999.0   \n",
       "2  16124786.0                      MANGO Women Hooded Sweatshirt  2390.0   \n",
       "\n",
       "  colour        brand ratingCount avg_rating  \\\n",
       "0   None  Baisacrafts        None       None   \n",
       "1   None      LIVE OK        None       None   \n",
       "2   None        MANGO        None       None   \n",
       "\n",
       "                                         description  \\\n",
       "0  Solid Kurta with Trousers with dupatta<br><br>...   \n",
       "1  <ul> <li> Dark shade,  no fade jeans </li> <li...   \n",
       "2  Solid sweatshirt has a hooded, short drop shou...   \n",
       "\n",
       "                                        p_attributes  brand_id  \n",
       "0  {'Add-Ons': 'NA', 'Body Shape ID': '333,424', ...       109  \n",
       "1  {'Add-Ons': 'NA', 'Body or Garment Size': 'To-...       463  \n",
       "2  {'Body Shape ID': '443,424,324', 'Body or Garm...       498  "
      ]
     },
     "execution_count": 31,
     "metadata": {},
     "output_type": "execute_result"
    }
   ],
   "source": [
    "sqldf(\"select * from dataset_final where colour is null\")"
   ]
  },
  {
   "cell_type": "code",
   "execution_count": 32,
   "id": "81e7882b",
   "metadata": {},
   "outputs": [],
   "source": [
    "avg_rating_mean = round(dataset_final[\"avg_rating\"].mean(),6)"
   ]
  },
  {
   "cell_type": "code",
   "execution_count": 33,
   "id": "af647eb7",
   "metadata": {},
   "outputs": [
    {
     "data": {
      "text/plain": [
       "23.0"
      ]
     },
     "execution_count": 33,
     "metadata": {},
     "output_type": "execute_result"
    }
   ],
   "source": [
    "dataset_final[\"ratingCount\"].median()"
   ]
  },
  {
   "cell_type": "code",
   "execution_count": 34,
   "id": "7909e665",
   "metadata": {},
   "outputs": [
    {
     "data": {
      "text/plain": [
       "0    5.0\n",
       "Name: ratingCount, dtype: float64"
      ]
     },
     "execution_count": 34,
     "metadata": {},
     "output_type": "execute_result"
    }
   ],
   "source": [
    "dataset_final[\"ratingCount\"].mode()"
   ]
  },
  {
   "cell_type": "code",
   "execution_count": 35,
   "id": "bef3a91d",
   "metadata": {},
   "outputs": [],
   "source": [
    "ratingCount_mean = dataset_final[\"ratingCount\"].mean()"
   ]
  },
  {
   "cell_type": "code",
   "execution_count": 36,
   "id": "8deb8278",
   "metadata": {},
   "outputs": [
    {
     "data": {
      "text/plain": [
       "p_id            0\n",
       "name            0\n",
       "price           0\n",
       "colour          0\n",
       "brand           0\n",
       "ratingCount     0\n",
       "avg_rating      0\n",
       "description     0\n",
       "p_attributes    0\n",
       "brand_id        0\n",
       "dtype: int64"
      ]
     },
     "execution_count": 36,
     "metadata": {},
     "output_type": "execute_result"
    }
   ],
   "source": [
    "dataset_final.fillna({\"colour\":\"dataset_final.mode()\",\"avg_rating\":avg_rating_mean, \"ratingCount\":ratingCount_mean}, inplace = True)\n",
    "dataset_final.isna().sum()"
   ]
  },
  {
   "cell_type": "code",
   "execution_count": 37,
   "id": "86086fe3",
   "metadata": {},
   "outputs": [
    {
     "name": "stdout",
     "output_type": "stream",
     "text": [
      "<class 'pandas.core.frame.DataFrame'>\n",
      "RangeIndex: 14263 entries, 0 to 14262\n",
      "Data columns (total 10 columns):\n",
      " #   Column        Non-Null Count  Dtype  \n",
      "---  ------        --------------  -----  \n",
      " 0   p_id          14263 non-null  float64\n",
      " 1   name          14263 non-null  object \n",
      " 2   price         14263 non-null  float64\n",
      " 3   colour        14263 non-null  object \n",
      " 4   brand         14263 non-null  object \n",
      " 5   ratingCount   14263 non-null  float64\n",
      " 6   avg_rating    14263 non-null  float64\n",
      " 7   description   14263 non-null  object \n",
      " 8   p_attributes  14263 non-null  object \n",
      " 9   brand_id      14263 non-null  int64  \n",
      "dtypes: float64(4), int64(1), object(5)\n",
      "memory usage: 1.1+ MB\n"
     ]
    }
   ],
   "source": [
    "dataset_final.info()"
   ]
  },
  {
   "cell_type": "markdown",
   "id": "189ed41e",
   "metadata": {},
   "source": [
    ">Exporting data for analysis using Apache Spark"
   ]
  },
  {
   "cell_type": "code",
   "execution_count": 38,
   "id": "014e61dd",
   "metadata": {},
   "outputs": [],
   "source": [
    "dataset_final.to_csv(\"final_dataset.csv\", index = False)"
   ]
  },
  {
   "cell_type": "code",
   "execution_count": 67,
   "id": "ae024abb",
   "metadata": {},
   "outputs": [],
   "source": [
    "new_dataset = dataset_final.loc[:,['p_id', 'name','price','colour','brand','ratingCount','avg_rating','brand_id']]\n",
    "new_dataset.to_csv(\"new_dataset.csv\", index = False, header = False)"
   ]
  },
  {
   "cell_type": "markdown",
   "id": "990bbec9",
   "metadata": {},
   "source": [
    " "
   ]
  },
  {
   "cell_type": "code",
   "execution_count": 40,
   "id": "038d134b",
   "metadata": {
    "scrolled": true
   },
   "outputs": [
    {
     "name": "stdout",
     "output_type": "stream",
     "text": [
      "<class 'pandas.core.frame.DataFrame'>\n",
      "RangeIndex: 14263 entries, 0 to 14262\n",
      "Data columns (total 10 columns):\n",
      " #   Column        Non-Null Count  Dtype  \n",
      "---  ------        --------------  -----  \n",
      " 0   p_id          14263 non-null  float64\n",
      " 1   name          14263 non-null  object \n",
      " 2   price         14263 non-null  float64\n",
      " 3   colour        14263 non-null  object \n",
      " 4   brand         14263 non-null  object \n",
      " 5   ratingCount   14263 non-null  float64\n",
      " 6   avg_rating    14263 non-null  float64\n",
      " 7   description   14263 non-null  object \n",
      " 8   p_attributes  14263 non-null  object \n",
      " 9   brand_id      14263 non-null  int64  \n",
      "dtypes: float64(4), int64(1), object(5)\n",
      "memory usage: 1.1+ MB\n"
     ]
    }
   ],
   "source": [
    "dataset_final.info()"
   ]
  },
  {
   "cell_type": "code",
   "execution_count": null,
   "id": "714bb6c1",
   "metadata": {},
   "outputs": [],
   "source": []
  },
  {
   "cell_type": "markdown",
   "id": "ad5a41ab",
   "metadata": {},
   "source": [
    "# Machine Learning"
   ]
  },
  {
   "cell_type": "markdown",
   "id": "b3992fcd",
   "metadata": {},
   "source": [
    "## Regression Modelling"
   ]
  },
  {
   "cell_type": "markdown",
   "id": "01f96c22",
   "metadata": {},
   "source": [
    "## Pre-processing"
   ]
  },
  {
   "cell_type": "code",
   "execution_count": 41,
   "id": "5d674c62",
   "metadata": {
    "scrolled": true
   },
   "outputs": [],
   "source": [
    "regression_data = dataset_final.loc[:,['price','avg_rating','ratingCount', 'brand_id','name','colour','brand','description','p_attributes']]"
   ]
  },
  {
   "cell_type": "code",
   "execution_count": 42,
   "id": "63f6944d",
   "metadata": {},
   "outputs": [],
   "source": [
    "le = preprocessing.LabelEncoder()\n",
    "\n",
    "for i in regression_data.columns:\n",
    "        if regression_data[i].dtype == object:\n",
    "            regression_data[i] = le.fit_transform(regression_data[i])\n",
    "        else:\n",
    "            pass"
   ]
  },
  {
   "cell_type": "code",
   "execution_count": 43,
   "id": "2b9315af",
   "metadata": {},
   "outputs": [
    {
     "data": {
      "text/html": [
       "<div>\n",
       "<style scoped>\n",
       "    .dataframe tbody tr th:only-of-type {\n",
       "        vertical-align: middle;\n",
       "    }\n",
       "\n",
       "    .dataframe tbody tr th {\n",
       "        vertical-align: top;\n",
       "    }\n",
       "\n",
       "    .dataframe thead th {\n",
       "        text-align: right;\n",
       "    }\n",
       "</style>\n",
       "<table border=\"1\" class=\"dataframe\">\n",
       "  <thead>\n",
       "    <tr style=\"text-align: right;\">\n",
       "      <th></th>\n",
       "      <th>price</th>\n",
       "      <th>avg_rating</th>\n",
       "      <th>ratingCount</th>\n",
       "      <th>brand_id</th>\n",
       "      <th>name</th>\n",
       "      <th>colour</th>\n",
       "      <th>brand</th>\n",
       "      <th>description</th>\n",
       "      <th>p_attributes</th>\n",
       "    </tr>\n",
       "  </thead>\n",
       "  <tbody>\n",
       "    <tr>\n",
       "      <th>0</th>\n",
       "      <td>899.0</td>\n",
       "      <td>4.548827</td>\n",
       "      <td>1321.000000</td>\n",
       "      <td>221</td>\n",
       "      <td>2987</td>\n",
       "      <td>47</td>\n",
       "      <td>220</td>\n",
       "      <td>13718</td>\n",
       "      <td>13085</td>\n",
       "    </tr>\n",
       "    <tr>\n",
       "      <th>1</th>\n",
       "      <td>1199.0</td>\n",
       "      <td>4.313255</td>\n",
       "      <td>5462.000000</td>\n",
       "      <td>702</td>\n",
       "      <td>9061</td>\n",
       "      <td>27</td>\n",
       "      <td>701</td>\n",
       "      <td>10086</td>\n",
       "      <td>9354</td>\n",
       "    </tr>\n",
       "    <tr>\n",
       "      <th>2</th>\n",
       "      <td>5799.0</td>\n",
       "      <td>4.068966</td>\n",
       "      <td>145.000000</td>\n",
       "      <td>363</td>\n",
       "      <td>4866</td>\n",
       "      <td>33</td>\n",
       "      <td>362</td>\n",
       "      <td>11203</td>\n",
       "      <td>12678</td>\n",
       "    </tr>\n",
       "    <tr>\n",
       "      <th>3</th>\n",
       "      <td>1499.0</td>\n",
       "      <td>4.147523</td>\n",
       "      <td>9124.000000</td>\n",
       "      <td>720</td>\n",
       "      <td>9333</td>\n",
       "      <td>2</td>\n",
       "      <td>719</td>\n",
       "      <td>6656</td>\n",
       "      <td>1703</td>\n",
       "    </tr>\n",
       "    <tr>\n",
       "      <th>4</th>\n",
       "      <td>1999.0</td>\n",
       "      <td>4.078467</td>\n",
       "      <td>12260.000000</td>\n",
       "      <td>446</td>\n",
       "      <td>5812</td>\n",
       "      <td>2</td>\n",
       "      <td>445</td>\n",
       "      <td>6076</td>\n",
       "      <td>4887</td>\n",
       "    </tr>\n",
       "    <tr>\n",
       "      <th>...</th>\n",
       "      <td>...</td>\n",
       "      <td>...</td>\n",
       "      <td>...</td>\n",
       "      <td>...</td>\n",
       "      <td>...</td>\n",
       "      <td>...</td>\n",
       "      <td>...</td>\n",
       "      <td>...</td>\n",
       "      <td>...</td>\n",
       "    </tr>\n",
       "    <tr>\n",
       "      <th>14258</th>\n",
       "      <td>3999.0</td>\n",
       "      <td>4.101193</td>\n",
       "      <td>183.785366</td>\n",
       "      <td>830</td>\n",
       "      <td>11241</td>\n",
       "      <td>34</td>\n",
       "      <td>829</td>\n",
       "      <td>732</td>\n",
       "      <td>4942</td>\n",
       "    </tr>\n",
       "    <tr>\n",
       "      <th>14259</th>\n",
       "      <td>2050.0</td>\n",
       "      <td>4.101193</td>\n",
       "      <td>183.785366</td>\n",
       "      <td>439</td>\n",
       "      <td>5759</td>\n",
       "      <td>3</td>\n",
       "      <td>438</td>\n",
       "      <td>6820</td>\n",
       "      <td>5376</td>\n",
       "    </tr>\n",
       "    <tr>\n",
       "      <th>14260</th>\n",
       "      <td>1659.0</td>\n",
       "      <td>4.101193</td>\n",
       "      <td>183.785366</td>\n",
       "      <td>423</td>\n",
       "      <td>5656</td>\n",
       "      <td>17</td>\n",
       "      <td>422</td>\n",
       "      <td>2965</td>\n",
       "      <td>10500</td>\n",
       "    </tr>\n",
       "    <tr>\n",
       "      <th>14261</th>\n",
       "      <td>2399.0</td>\n",
       "      <td>4.101193</td>\n",
       "      <td>183.785366</td>\n",
       "      <td>362</td>\n",
       "      <td>4839</td>\n",
       "      <td>36</td>\n",
       "      <td>361</td>\n",
       "      <td>1784</td>\n",
       "      <td>455</td>\n",
       "    </tr>\n",
       "    <tr>\n",
       "      <th>14262</th>\n",
       "      <td>2599.0</td>\n",
       "      <td>4.101193</td>\n",
       "      <td>183.785366</td>\n",
       "      <td>133</td>\n",
       "      <td>1689</td>\n",
       "      <td>28</td>\n",
       "      <td>132</td>\n",
       "      <td>3589</td>\n",
       "      <td>2848</td>\n",
       "    </tr>\n",
       "  </tbody>\n",
       "</table>\n",
       "<p>14263 rows × 9 columns</p>\n",
       "</div>"
      ],
      "text/plain": [
       "        price  avg_rating   ratingCount  brand_id   name  colour  brand  \\\n",
       "0       899.0    4.548827   1321.000000       221   2987      47    220   \n",
       "1      1199.0    4.313255   5462.000000       702   9061      27    701   \n",
       "2      5799.0    4.068966    145.000000       363   4866      33    362   \n",
       "3      1499.0    4.147523   9124.000000       720   9333       2    719   \n",
       "4      1999.0    4.078467  12260.000000       446   5812       2    445   \n",
       "...       ...         ...           ...       ...    ...     ...    ...   \n",
       "14258  3999.0    4.101193    183.785366       830  11241      34    829   \n",
       "14259  2050.0    4.101193    183.785366       439   5759       3    438   \n",
       "14260  1659.0    4.101193    183.785366       423   5656      17    422   \n",
       "14261  2399.0    4.101193    183.785366       362   4839      36    361   \n",
       "14262  2599.0    4.101193    183.785366       133   1689      28    132   \n",
       "\n",
       "       description  p_attributes  \n",
       "0            13718         13085  \n",
       "1            10086          9354  \n",
       "2            11203         12678  \n",
       "3             6656          1703  \n",
       "4             6076          4887  \n",
       "...            ...           ...  \n",
       "14258          732          4942  \n",
       "14259         6820          5376  \n",
       "14260         2965         10500  \n",
       "14261         1784           455  \n",
       "14262         3589          2848  \n",
       "\n",
       "[14263 rows x 9 columns]"
      ]
     },
     "execution_count": 43,
     "metadata": {},
     "output_type": "execute_result"
    }
   ],
   "source": [
    "regression_data"
   ]
  },
  {
   "cell_type": "code",
   "execution_count": 44,
   "id": "ac58efd6",
   "metadata": {},
   "outputs": [],
   "source": [
    "x_reg = regression_data.loc[:,['price','avg_rating','ratingCount','name','colour','description','p_attributes']]\n",
    "y_reg = regression_data.loc[:,['brand_id']]"
   ]
  },
  {
   "cell_type": "markdown",
   "id": "a531b9b7",
   "metadata": {},
   "source": [
    ">Creating the training and testing datasets"
   ]
  },
  {
   "cell_type": "code",
   "execution_count": 45,
   "id": "62a5d2e2",
   "metadata": {},
   "outputs": [
    {
     "name": "stdout",
     "output_type": "stream",
     "text": [
      "Your independent training dataset contains  (10697, 7)  rows and columns.\n",
      "Your independent testing dataset contains  (3566, 7)  rows and columns.\n",
      "Your dependent training dataset contains  (10697, 1)  rows and columns.\n",
      "Your dependent testing dataset contains  (3566, 1)  rows and columns.\n"
     ]
    }
   ],
   "source": [
    "x_reg_train, x_reg_test, y_reg_train, y_reg_test = train_test_split(x_reg, y_reg, test_size=0.25)\n",
    "\n",
    "print(\"Your independent training dataset contains \", x_reg_train.shape, \" rows and columns.\")\n",
    "print(\"Your independent testing dataset contains \", x_reg_test.shape, \" rows and columns.\")\n",
    "print(\"Your dependent training dataset contains \", y_reg_train.shape, \" rows and columns.\")\n",
    "print(\"Your dependent testing dataset contains \", y_reg_test.shape, \" rows and columns.\")"
   ]
  },
  {
   "cell_type": "markdown",
   "id": "63b0cb7f",
   "metadata": {},
   "source": [
    "### Linear Regression"
   ]
  },
  {
   "cell_type": "markdown",
   "id": "73f2d92d",
   "metadata": {},
   "source": [
    ">Training the model"
   ]
  },
  {
   "cell_type": "code",
   "execution_count": 46,
   "id": "e854faec",
   "metadata": {},
   "outputs": [],
   "source": [
    "LR = LinearRegression()"
   ]
  },
  {
   "cell_type": "code",
   "execution_count": 47,
   "id": "5342de45",
   "metadata": {},
   "outputs": [
    {
     "data": {
      "text/plain": [
       "LinearRegression()"
      ]
     },
     "execution_count": 47,
     "metadata": {},
     "output_type": "execute_result"
    }
   ],
   "source": [
    "LR.fit(x_reg_train, y_reg_train)"
   ]
  },
  {
   "cell_type": "markdown",
   "id": "b7c5a1c2",
   "metadata": {},
   "source": [
    ">Testing the model"
   ]
  },
  {
   "cell_type": "code",
   "execution_count": 48,
   "id": "f403b7a3",
   "metadata": {},
   "outputs": [
    {
     "data": {
      "text/plain": [
       "array([[149.68382877],\n",
       "       [288.50145653],\n",
       "       [ 96.37101945],\n",
       "       ...,\n",
       "       [192.75725189],\n",
       "       [219.55851387],\n",
       "       [936.87822163]])"
      ]
     },
     "execution_count": 48,
     "metadata": {},
     "output_type": "execute_result"
    }
   ],
   "source": [
    "LR_predict = LR.predict(x_reg_test)\n",
    "LR_predict"
   ]
  },
  {
   "cell_type": "code",
   "execution_count": 49,
   "id": "c56cbb90",
   "metadata": {},
   "outputs": [
    {
     "name": "stdout",
     "output_type": "stream",
     "text": [
      "Linear Regressor\n",
      "Mean Absolute Error:  15.206787803899974\n"
     ]
    }
   ],
   "source": [
    "print(\"Linear Regressor\")\n",
    "print(\"Mean Absolute Error: \", metrics.mean_absolute_error(y_reg_test, LR_predict))"
   ]
  },
  {
   "cell_type": "markdown",
   "id": "4265d59a",
   "metadata": {},
   "source": [
    "### Bayesian Ridge Regression"
   ]
  },
  {
   "cell_type": "code",
   "execution_count": 50,
   "id": "e2d01a0b",
   "metadata": {},
   "outputs": [
    {
     "name": "stderr",
     "output_type": "stream",
     "text": [
      "C:\\Users\\percy\\anaconda3\\lib\\site-packages\\sklearn\\utils\\validation.py:993: DataConversionWarning: A column-vector y was passed when a 1d array was expected. Please change the shape of y to (n_samples, ), for example using ravel().\n",
      "  y = column_or_1d(y, warn=True)\n"
     ]
    },
    {
     "data": {
      "text/plain": [
       "BayesianRidge()"
      ]
     },
     "execution_count": 50,
     "metadata": {},
     "output_type": "execute_result"
    }
   ],
   "source": [
    "BayRidge = BayesianRidge()\n",
    "BayRidge.fit(x_reg_train, y_reg_train)"
   ]
  },
  {
   "cell_type": "code",
   "execution_count": 51,
   "id": "6177b0a0",
   "metadata": {},
   "outputs": [
    {
     "data": {
      "text/plain": [
       "array([149.73384683, 288.5362661 ,  96.00550286, ..., 194.5087062 ,\n",
       "       219.45627164, 936.83707284])"
      ]
     },
     "execution_count": 51,
     "metadata": {},
     "output_type": "execute_result"
    }
   ],
   "source": [
    "BayRidge_predict = BayRidge.predict(x_reg_test)\n",
    "BayRidge_predict"
   ]
  },
  {
   "cell_type": "code",
   "execution_count": 52,
   "id": "e5a52d54",
   "metadata": {},
   "outputs": [
    {
     "name": "stdout",
     "output_type": "stream",
     "text": [
      "Bayesian Ridge Regressor\n",
      "Mean Absolute Error:  15.214003232317511\n"
     ]
    }
   ],
   "source": [
    "print(\"Bayesian Ridge Regressor\")\n",
    "print(\"Mean Absolute Error: \", metrics.mean_absolute_error(y_reg_test, BayRidge_predict))"
   ]
  },
  {
   "cell_type": "code",
   "execution_count": 53,
   "id": "32e45a51",
   "metadata": {},
   "outputs": [
    {
     "name": "stdout",
     "output_type": "stream",
     "text": [
      "<class 'pandas.core.frame.DataFrame'>\n",
      "RangeIndex: 14263 entries, 0 to 14262\n",
      "Data columns (total 10 columns):\n",
      " #   Column        Non-Null Count  Dtype  \n",
      "---  ------        --------------  -----  \n",
      " 0   p_id          14263 non-null  float64\n",
      " 1   name          14263 non-null  object \n",
      " 2   price         14263 non-null  float64\n",
      " 3   colour        14263 non-null  object \n",
      " 4   brand         14263 non-null  object \n",
      " 5   ratingCount   14263 non-null  float64\n",
      " 6   avg_rating    14263 non-null  float64\n",
      " 7   description   14263 non-null  object \n",
      " 8   p_attributes  14263 non-null  object \n",
      " 9   brand_id      14263 non-null  int64  \n",
      "dtypes: float64(4), int64(1), object(5)\n",
      "memory usage: 1.1+ MB\n"
     ]
    }
   ],
   "source": [
    "dataset_final.info()"
   ]
  },
  {
   "cell_type": "markdown",
   "id": "23e18963",
   "metadata": {},
   "source": [
    " "
   ]
  },
  {
   "cell_type": "markdown",
   "id": "ff9272ae",
   "metadata": {},
   "source": [
    "## Classification Modelling"
   ]
  },
  {
   "cell_type": "markdown",
   "id": "25b27887",
   "metadata": {},
   "source": [
    ">Pre-processing"
   ]
  },
  {
   "cell_type": "code",
   "execution_count": 54,
   "id": "f1a16870",
   "metadata": {},
   "outputs": [
    {
     "data": {
      "text/html": [
       "<div>\n",
       "<style scoped>\n",
       "    .dataframe tbody tr th:only-of-type {\n",
       "        vertical-align: middle;\n",
       "    }\n",
       "\n",
       "    .dataframe tbody tr th {\n",
       "        vertical-align: top;\n",
       "    }\n",
       "\n",
       "    .dataframe thead th {\n",
       "        text-align: right;\n",
       "    }\n",
       "</style>\n",
       "<table border=\"1\" class=\"dataframe\">\n",
       "  <thead>\n",
       "    <tr style=\"text-align: right;\">\n",
       "      <th></th>\n",
       "      <th>name</th>\n",
       "      <th>colour</th>\n",
       "      <th>brand</th>\n",
       "      <th>brand_id</th>\n",
       "      <th>description</th>\n",
       "      <th>p_attributes</th>\n",
       "    </tr>\n",
       "  </thead>\n",
       "  <tbody>\n",
       "    <tr>\n",
       "      <th>0</th>\n",
       "      <td>Dupatta Bazaar White Embroidered Chiffon Dupatta</td>\n",
       "      <td>White</td>\n",
       "      <td>Dupatta Bazaar</td>\n",
       "      <td>221</td>\n",
       "      <td>White embroidered&amp;nbsp;dupattaChiffon&lt;br&gt;Hand-...</td>\n",
       "      <td>{'Occasion': 'Daily', 'Pattern': 'Embroidered'...</td>\n",
       "    </tr>\n",
       "    <tr>\n",
       "      <th>1</th>\n",
       "      <td>Roadster Women Mustard Yellow Solid Hooded Swe...</td>\n",
       "      <td>Mustard</td>\n",
       "      <td>Roadster</td>\n",
       "      <td>702</td>\n",
       "      <td>Mustard yellow solid sweatshirt, has a hood, t...</td>\n",
       "      <td>{'Body Shape ID': '443,424,324', 'Body or Garm...</td>\n",
       "    </tr>\n",
       "    <tr>\n",
       "      <th>2</th>\n",
       "      <td>Inddus Peach-Coloured &amp; Beige Unstitched Dress...</td>\n",
       "      <td>Peach</td>\n",
       "      <td>Inddus</td>\n",
       "      <td>363</td>\n",
       "      <td>Peach-Coloured and beige woven design unstitch...</td>\n",
       "      <td>{'Bottom Fabric': 'Cotton Blend', 'Bottom Patt...</td>\n",
       "    </tr>\n",
       "    <tr>\n",
       "      <th>3</th>\n",
       "      <td>SASSAFRAS Women Black Parallel Trousers</td>\n",
       "      <td>Black</td>\n",
       "      <td>SASSAFRAS</td>\n",
       "      <td>720</td>\n",
       "      <td>Black solid woven high-rise parallel trousers,...</td>\n",
       "      <td>{'Add-Ons': 'NA', 'Body Shape ID': '424', 'Bod...</td>\n",
       "    </tr>\n",
       "    <tr>\n",
       "      <th>4</th>\n",
       "      <td>Kotty Women Black Wide Leg High-Rise Clean Loo...</td>\n",
       "      <td>Black</td>\n",
       "      <td>Kotty</td>\n",
       "      <td>446</td>\n",
       "      <td>Black dark wash 4-pocket high-rise jeans, clea...</td>\n",
       "      <td>{'Add-Ons': 'NA', 'Brand Fit Name': 'NA', 'Clo...</td>\n",
       "    </tr>\n",
       "    <tr>\n",
       "      <th>...</th>\n",
       "      <td>...</td>\n",
       "      <td>...</td>\n",
       "      <td>...</td>\n",
       "      <td>...</td>\n",
       "      <td>...</td>\n",
       "      <td>...</td>\n",
       "    </tr>\n",
       "    <tr>\n",
       "      <th>14258</th>\n",
       "      <td>The Chennai Silks Pink &amp; Silver-Toned Floral Z...</td>\n",
       "      <td>Pink</td>\n",
       "      <td>The Chennai Silks</td>\n",
       "      <td>830</td>\n",
       "      <td>&lt;b&gt;Design Details &lt;/b&gt;&lt;ul&gt;&lt;li&gt;Pink and silver-...</td>\n",
       "      <td>{'Better Cotton Initiative': 'Regular', 'Blous...</td>\n",
       "    </tr>\n",
       "    <tr>\n",
       "      <th>14259</th>\n",
       "      <td>Kinder Kids Girls Blue &amp; Green Printed Foil Pr...</td>\n",
       "      <td>Blue</td>\n",
       "      <td>Kinder Kids</td>\n",
       "      <td>439</td>\n",
       "      <td>Blue and green printed lehenga choli,  has foi...</td>\n",
       "      <td>{'Blouse Closure': 'NA', 'Blouse Fabric': 'Cot...</td>\n",
       "    </tr>\n",
       "    <tr>\n",
       "      <th>14260</th>\n",
       "      <td>KLOTTHE Women Green &amp; Black Floral Printed Pal...</td>\n",
       "      <td>Green</td>\n",
       "      <td>KLOTTHE</td>\n",
       "      <td>423</td>\n",
       "      <td>&lt;ul&gt; &lt;li&gt; Green and black woven palazzos &lt;/li&gt;...</td>\n",
       "      <td>{'Body or Garment Size': 'To-Fit Denotes Body ...</td>\n",
       "    </tr>\n",
       "    <tr>\n",
       "      <th>14261</th>\n",
       "      <td>InWeave Women Red Printed A-Line Skirt</td>\n",
       "      <td>Red</td>\n",
       "      <td>InWeave</td>\n",
       "      <td>362</td>\n",
       "      <td>&lt;p&gt;Red printed A-line skirt, has drawstring cl...</td>\n",
       "      <td>{'Add-Ons': 'NA', 'Body Shape ID': '324,333,42...</td>\n",
       "    </tr>\n",
       "    <tr>\n",
       "      <th>14262</th>\n",
       "      <td>BoStreet Women Navy Blue Tapered Fit Trousers</td>\n",
       "      <td>Navy Blue</td>\n",
       "      <td>BoStreet</td>\n",
       "      <td>133</td>\n",
       "      <td>&lt;ul&gt; &lt;li&gt; Navy blue knitted trousers &lt;/li&gt; &lt;li...</td>\n",
       "      <td>{'Add-Ons': 'NA', 'Body Shape ID': '443,333,42...</td>\n",
       "    </tr>\n",
       "  </tbody>\n",
       "</table>\n",
       "<p>14263 rows × 6 columns</p>\n",
       "</div>"
      ],
      "text/plain": [
       "                                                    name     colour  \\\n",
       "0       Dupatta Bazaar White Embroidered Chiffon Dupatta      White   \n",
       "1      Roadster Women Mustard Yellow Solid Hooded Swe...    Mustard   \n",
       "2      Inddus Peach-Coloured & Beige Unstitched Dress...      Peach   \n",
       "3                SASSAFRAS Women Black Parallel Trousers      Black   \n",
       "4      Kotty Women Black Wide Leg High-Rise Clean Loo...      Black   \n",
       "...                                                  ...        ...   \n",
       "14258  The Chennai Silks Pink & Silver-Toned Floral Z...       Pink   \n",
       "14259  Kinder Kids Girls Blue & Green Printed Foil Pr...       Blue   \n",
       "14260  KLOTTHE Women Green & Black Floral Printed Pal...      Green   \n",
       "14261             InWeave Women Red Printed A-Line Skirt        Red   \n",
       "14262      BoStreet Women Navy Blue Tapered Fit Trousers  Navy Blue   \n",
       "\n",
       "                   brand  brand_id  \\\n",
       "0         Dupatta Bazaar       221   \n",
       "1               Roadster       702   \n",
       "2                 Inddus       363   \n",
       "3              SASSAFRAS       720   \n",
       "4                  Kotty       446   \n",
       "...                  ...       ...   \n",
       "14258  The Chennai Silks       830   \n",
       "14259        Kinder Kids       439   \n",
       "14260            KLOTTHE       423   \n",
       "14261            InWeave       362   \n",
       "14262           BoStreet       133   \n",
       "\n",
       "                                             description  \\\n",
       "0      White embroidered&nbsp;dupattaChiffon<br>Hand-...   \n",
       "1      Mustard yellow solid sweatshirt, has a hood, t...   \n",
       "2      Peach-Coloured and beige woven design unstitch...   \n",
       "3      Black solid woven high-rise parallel trousers,...   \n",
       "4      Black dark wash 4-pocket high-rise jeans, clea...   \n",
       "...                                                  ...   \n",
       "14258  <b>Design Details </b><ul><li>Pink and silver-...   \n",
       "14259  Blue and green printed lehenga choli,  has foi...   \n",
       "14260  <ul> <li> Green and black woven palazzos </li>...   \n",
       "14261  <p>Red printed A-line skirt, has drawstring cl...   \n",
       "14262  <ul> <li> Navy blue knitted trousers </li> <li...   \n",
       "\n",
       "                                            p_attributes  \n",
       "0      {'Occasion': 'Daily', 'Pattern': 'Embroidered'...  \n",
       "1      {'Body Shape ID': '443,424,324', 'Body or Garm...  \n",
       "2      {'Bottom Fabric': 'Cotton Blend', 'Bottom Patt...  \n",
       "3      {'Add-Ons': 'NA', 'Body Shape ID': '424', 'Bod...  \n",
       "4      {'Add-Ons': 'NA', 'Brand Fit Name': 'NA', 'Clo...  \n",
       "...                                                  ...  \n",
       "14258  {'Better Cotton Initiative': 'Regular', 'Blous...  \n",
       "14259  {'Blouse Closure': 'NA', 'Blouse Fabric': 'Cot...  \n",
       "14260  {'Body or Garment Size': 'To-Fit Denotes Body ...  \n",
       "14261  {'Add-Ons': 'NA', 'Body Shape ID': '324,333,42...  \n",
       "14262  {'Add-Ons': 'NA', 'Body Shape ID': '443,333,42...  \n",
       "\n",
       "[14263 rows x 6 columns]"
      ]
     },
     "execution_count": 54,
     "metadata": {},
     "output_type": "execute_result"
    }
   ],
   "source": [
    "classification_data = dataset_final.loc[:,['name','colour','brand', 'brand_id','description','p_attributes']]\n",
    "classification_data"
   ]
  },
  {
   "cell_type": "code",
   "execution_count": 55,
   "id": "44d119e4",
   "metadata": {},
   "outputs": [],
   "source": [
    "le = preprocessing.LabelEncoder()\n",
    "\n",
    "for i in classification_data.columns:\n",
    "        if classification_data[i].dtype == object:\n",
    "            classification_data[i] = le.fit_transform(classification_data[i])\n",
    "        else:\n",
    "            pass"
   ]
  },
  {
   "cell_type": "code",
   "execution_count": 56,
   "id": "7c975f2c",
   "metadata": {},
   "outputs": [
    {
     "data": {
      "text/html": [
       "<div>\n",
       "<style scoped>\n",
       "    .dataframe tbody tr th:only-of-type {\n",
       "        vertical-align: middle;\n",
       "    }\n",
       "\n",
       "    .dataframe tbody tr th {\n",
       "        vertical-align: top;\n",
       "    }\n",
       "\n",
       "    .dataframe thead th {\n",
       "        text-align: right;\n",
       "    }\n",
       "</style>\n",
       "<table border=\"1\" class=\"dataframe\">\n",
       "  <thead>\n",
       "    <tr style=\"text-align: right;\">\n",
       "      <th></th>\n",
       "      <th>name</th>\n",
       "      <th>colour</th>\n",
       "      <th>brand</th>\n",
       "      <th>brand_id</th>\n",
       "      <th>description</th>\n",
       "      <th>p_attributes</th>\n",
       "    </tr>\n",
       "  </thead>\n",
       "  <tbody>\n",
       "    <tr>\n",
       "      <th>0</th>\n",
       "      <td>2987</td>\n",
       "      <td>47</td>\n",
       "      <td>220</td>\n",
       "      <td>221</td>\n",
       "      <td>13718</td>\n",
       "      <td>13085</td>\n",
       "    </tr>\n",
       "    <tr>\n",
       "      <th>1</th>\n",
       "      <td>9061</td>\n",
       "      <td>27</td>\n",
       "      <td>701</td>\n",
       "      <td>702</td>\n",
       "      <td>10086</td>\n",
       "      <td>9354</td>\n",
       "    </tr>\n",
       "    <tr>\n",
       "      <th>2</th>\n",
       "      <td>4866</td>\n",
       "      <td>33</td>\n",
       "      <td>362</td>\n",
       "      <td>363</td>\n",
       "      <td>11203</td>\n",
       "      <td>12678</td>\n",
       "    </tr>\n",
       "    <tr>\n",
       "      <th>3</th>\n",
       "      <td>9333</td>\n",
       "      <td>2</td>\n",
       "      <td>719</td>\n",
       "      <td>720</td>\n",
       "      <td>6656</td>\n",
       "      <td>1703</td>\n",
       "    </tr>\n",
       "    <tr>\n",
       "      <th>4</th>\n",
       "      <td>5812</td>\n",
       "      <td>2</td>\n",
       "      <td>445</td>\n",
       "      <td>446</td>\n",
       "      <td>6076</td>\n",
       "      <td>4887</td>\n",
       "    </tr>\n",
       "    <tr>\n",
       "      <th>...</th>\n",
       "      <td>...</td>\n",
       "      <td>...</td>\n",
       "      <td>...</td>\n",
       "      <td>...</td>\n",
       "      <td>...</td>\n",
       "      <td>...</td>\n",
       "    </tr>\n",
       "    <tr>\n",
       "      <th>14258</th>\n",
       "      <td>11241</td>\n",
       "      <td>34</td>\n",
       "      <td>829</td>\n",
       "      <td>830</td>\n",
       "      <td>732</td>\n",
       "      <td>4942</td>\n",
       "    </tr>\n",
       "    <tr>\n",
       "      <th>14259</th>\n",
       "      <td>5759</td>\n",
       "      <td>3</td>\n",
       "      <td>438</td>\n",
       "      <td>439</td>\n",
       "      <td>6820</td>\n",
       "      <td>5376</td>\n",
       "    </tr>\n",
       "    <tr>\n",
       "      <th>14260</th>\n",
       "      <td>5656</td>\n",
       "      <td>17</td>\n",
       "      <td>422</td>\n",
       "      <td>423</td>\n",
       "      <td>2965</td>\n",
       "      <td>10500</td>\n",
       "    </tr>\n",
       "    <tr>\n",
       "      <th>14261</th>\n",
       "      <td>4839</td>\n",
       "      <td>36</td>\n",
       "      <td>361</td>\n",
       "      <td>362</td>\n",
       "      <td>1784</td>\n",
       "      <td>455</td>\n",
       "    </tr>\n",
       "    <tr>\n",
       "      <th>14262</th>\n",
       "      <td>1689</td>\n",
       "      <td>28</td>\n",
       "      <td>132</td>\n",
       "      <td>133</td>\n",
       "      <td>3589</td>\n",
       "      <td>2848</td>\n",
       "    </tr>\n",
       "  </tbody>\n",
       "</table>\n",
       "<p>14263 rows × 6 columns</p>\n",
       "</div>"
      ],
      "text/plain": [
       "        name  colour  brand  brand_id  description  p_attributes\n",
       "0       2987      47    220       221        13718         13085\n",
       "1       9061      27    701       702        10086          9354\n",
       "2       4866      33    362       363        11203         12678\n",
       "3       9333       2    719       720         6656          1703\n",
       "4       5812       2    445       446         6076          4887\n",
       "...      ...     ...    ...       ...          ...           ...\n",
       "14258  11241      34    829       830          732          4942\n",
       "14259   5759       3    438       439         6820          5376\n",
       "14260   5656      17    422       423         2965         10500\n",
       "14261   4839      36    361       362         1784           455\n",
       "14262   1689      28    132       133         3589          2848\n",
       "\n",
       "[14263 rows x 6 columns]"
      ]
     },
     "execution_count": 56,
     "metadata": {},
     "output_type": "execute_result"
    }
   ],
   "source": [
    "classification_data"
   ]
  },
  {
   "cell_type": "markdown",
   "id": "6dd82a2f",
   "metadata": {},
   "source": [
    ">Creating the training datasets"
   ]
  },
  {
   "cell_type": "code",
   "execution_count": 57,
   "id": "d9c4b7e6",
   "metadata": {},
   "outputs": [],
   "source": [
    "x_class = classification_data.loc[:,['name','colour','description','p_attributes']]\n",
    "y_class = classification_data.loc[:,['brand']]"
   ]
  },
  {
   "cell_type": "code",
   "execution_count": 58,
   "id": "2f71af46",
   "metadata": {},
   "outputs": [
    {
     "data": {
      "text/html": [
       "<div>\n",
       "<style scoped>\n",
       "    .dataframe tbody tr th:only-of-type {\n",
       "        vertical-align: middle;\n",
       "    }\n",
       "\n",
       "    .dataframe tbody tr th {\n",
       "        vertical-align: top;\n",
       "    }\n",
       "\n",
       "    .dataframe thead th {\n",
       "        text-align: right;\n",
       "    }\n",
       "</style>\n",
       "<table border=\"1\" class=\"dataframe\">\n",
       "  <thead>\n",
       "    <tr style=\"text-align: right;\">\n",
       "      <th></th>\n",
       "      <th>name</th>\n",
       "      <th>colour</th>\n",
       "      <th>description</th>\n",
       "      <th>p_attributes</th>\n",
       "    </tr>\n",
       "  </thead>\n",
       "  <tbody>\n",
       "    <tr>\n",
       "      <th>0</th>\n",
       "      <td>2987</td>\n",
       "      <td>47</td>\n",
       "      <td>13718</td>\n",
       "      <td>13085</td>\n",
       "    </tr>\n",
       "    <tr>\n",
       "      <th>1</th>\n",
       "      <td>9061</td>\n",
       "      <td>27</td>\n",
       "      <td>10086</td>\n",
       "      <td>9354</td>\n",
       "    </tr>\n",
       "    <tr>\n",
       "      <th>2</th>\n",
       "      <td>4866</td>\n",
       "      <td>33</td>\n",
       "      <td>11203</td>\n",
       "      <td>12678</td>\n",
       "    </tr>\n",
       "    <tr>\n",
       "      <th>3</th>\n",
       "      <td>9333</td>\n",
       "      <td>2</td>\n",
       "      <td>6656</td>\n",
       "      <td>1703</td>\n",
       "    </tr>\n",
       "    <tr>\n",
       "      <th>4</th>\n",
       "      <td>5812</td>\n",
       "      <td>2</td>\n",
       "      <td>6076</td>\n",
       "      <td>4887</td>\n",
       "    </tr>\n",
       "    <tr>\n",
       "      <th>...</th>\n",
       "      <td>...</td>\n",
       "      <td>...</td>\n",
       "      <td>...</td>\n",
       "      <td>...</td>\n",
       "    </tr>\n",
       "    <tr>\n",
       "      <th>14258</th>\n",
       "      <td>11241</td>\n",
       "      <td>34</td>\n",
       "      <td>732</td>\n",
       "      <td>4942</td>\n",
       "    </tr>\n",
       "    <tr>\n",
       "      <th>14259</th>\n",
       "      <td>5759</td>\n",
       "      <td>3</td>\n",
       "      <td>6820</td>\n",
       "      <td>5376</td>\n",
       "    </tr>\n",
       "    <tr>\n",
       "      <th>14260</th>\n",
       "      <td>5656</td>\n",
       "      <td>17</td>\n",
       "      <td>2965</td>\n",
       "      <td>10500</td>\n",
       "    </tr>\n",
       "    <tr>\n",
       "      <th>14261</th>\n",
       "      <td>4839</td>\n",
       "      <td>36</td>\n",
       "      <td>1784</td>\n",
       "      <td>455</td>\n",
       "    </tr>\n",
       "    <tr>\n",
       "      <th>14262</th>\n",
       "      <td>1689</td>\n",
       "      <td>28</td>\n",
       "      <td>3589</td>\n",
       "      <td>2848</td>\n",
       "    </tr>\n",
       "  </tbody>\n",
       "</table>\n",
       "<p>14263 rows × 4 columns</p>\n",
       "</div>"
      ],
      "text/plain": [
       "        name  colour  description  p_attributes\n",
       "0       2987      47        13718         13085\n",
       "1       9061      27        10086          9354\n",
       "2       4866      33        11203         12678\n",
       "3       9333       2         6656          1703\n",
       "4       5812       2         6076          4887\n",
       "...      ...     ...          ...           ...\n",
       "14258  11241      34          732          4942\n",
       "14259   5759       3         6820          5376\n",
       "14260   5656      17         2965         10500\n",
       "14261   4839      36         1784           455\n",
       "14262   1689      28         3589          2848\n",
       "\n",
       "[14263 rows x 4 columns]"
      ]
     },
     "execution_count": 58,
     "metadata": {},
     "output_type": "execute_result"
    }
   ],
   "source": [
    "x_class"
   ]
  },
  {
   "cell_type": "code",
   "execution_count": 59,
   "id": "00ec2dfc",
   "metadata": {},
   "outputs": [
    {
     "name": "stdout",
     "output_type": "stream",
     "text": [
      "Your independent training dataset contains  (10697, 4)  rows and columns.\n",
      "Your independent testing dataset contains  (3566, 4)  rows and columns.\n",
      "Your dependent training dataset contains  (10697, 1)  rows and columns.\n",
      "Your dependent testing dataset contains  (3566, 1)  rows and columns.\n"
     ]
    }
   ],
   "source": [
    "x_class_train, x_class_test, y_class_train, y_class_test = train_test_split(x_class, y_class, test_size=0.25)\n",
    "\n",
    "print(\"Your independent training dataset contains \", x_class_train.shape, \" rows and columns.\")\n",
    "print(\"Your independent testing dataset contains \", x_class_test.shape, \" rows and columns.\")\n",
    "print(\"Your dependent training dataset contains \", y_class_train.shape, \" rows and columns.\")\n",
    "print(\"Your dependent testing dataset contains \", y_class_test.shape, \" rows and columns.\")"
   ]
  },
  {
   "cell_type": "markdown",
   "id": "c8fb7520",
   "metadata": {},
   "source": [
    "### Gaussian Naive Bayes Classifier"
   ]
  },
  {
   "cell_type": "code",
   "execution_count": 60,
   "id": "c25b3c0c",
   "metadata": {},
   "outputs": [],
   "source": [
    "GNB = GaussianNB()"
   ]
  },
  {
   "cell_type": "code",
   "execution_count": 61,
   "id": "36650a1f",
   "metadata": {},
   "outputs": [
    {
     "name": "stderr",
     "output_type": "stream",
     "text": [
      "C:\\Users\\percy\\anaconda3\\lib\\site-packages\\sklearn\\utils\\validation.py:993: DataConversionWarning: A column-vector y was passed when a 1d array was expected. Please change the shape of y to (n_samples, ), for example using ravel().\n",
      "  y = column_or_1d(y, warn=True)\n"
     ]
    },
    {
     "data": {
      "text/plain": [
       "GaussianNB()"
      ]
     },
     "execution_count": 61,
     "metadata": {},
     "output_type": "execute_result"
    }
   ],
   "source": [
    "GNB.fit(x_class_train, y_class_train)"
   ]
  },
  {
   "cell_type": "code",
   "execution_count": 62,
   "id": "c645d9d7",
   "metadata": {},
   "outputs": [],
   "source": [
    "GNB_predict = GNB.predict(x_class_test)"
   ]
  },
  {
   "cell_type": "code",
   "execution_count": 63,
   "id": "2a15524f",
   "metadata": {},
   "outputs": [
    {
     "name": "stdout",
     "output_type": "stream",
     "text": [
      "Gaussian Naive Bayes Classifier\n",
      "Accuracy: 84.02 %\n"
     ]
    }
   ],
   "source": [
    "print(\"Gaussian Naive Bayes Classifier\")\n",
    "print(\"Accuracy:\", round((metrics.accuracy_score(y_class_test, GNB_predict))*100,2),\"%\")"
   ]
  },
  {
   "cell_type": "markdown",
   "id": "f223c1bb",
   "metadata": {},
   "source": [
    "### Decision Tree Classifier"
   ]
  },
  {
   "cell_type": "code",
   "execution_count": 64,
   "id": "cf9e4e23",
   "metadata": {},
   "outputs": [],
   "source": [
    "dtree = DecisionTreeClassifier()\n",
    "dtree = dtree.fit(x_class_train, y_class_train)"
   ]
  },
  {
   "cell_type": "code",
   "execution_count": 65,
   "id": "fefde168",
   "metadata": {},
   "outputs": [],
   "source": [
    "dtree_predict = dtree.predict(x_class_test)"
   ]
  },
  {
   "cell_type": "code",
   "execution_count": 66,
   "id": "075651ad",
   "metadata": {},
   "outputs": [
    {
     "name": "stdout",
     "output_type": "stream",
     "text": [
      "Decision Classifier\n",
      "Accuracy: 91.36 %\n"
     ]
    }
   ],
   "source": [
    "print(\"Decision Classifier\")\n",
    "print(\"Accuracy:\", round((metrics.accuracy_score(y_class_test, dtree_predict))*100,2),\"%\")"
   ]
  }
 ],
 "metadata": {
  "kernelspec": {
   "display_name": "Python 3 (ipykernel)",
   "language": "python",
   "name": "python3"
  },
  "language_info": {
   "codemirror_mode": {
    "name": "ipython",
    "version": 3
   },
   "file_extension": ".py",
   "mimetype": "text/x-python",
   "name": "python",
   "nbconvert_exporter": "python",
   "pygments_lexer": "ipython3",
   "version": "3.9.13"
  }
 },
 "nbformat": 4,
 "nbformat_minor": 5
}
